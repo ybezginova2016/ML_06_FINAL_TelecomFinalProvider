{
 "cells": [
  {
   "cell_type": "markdown",
   "id": "78387963",
   "metadata": {},
   "source": [
    "<div style=\"border:solid green 2px; padding: 20px\">\n",
    "Юля, привет и хорошего дня! <br>\n",
    "Меня зовут Сергей Дроздов, и я буду проверять твой проект. Предлагаю общаться на «ты». Если тебе удобнее общаться на \"Вы\", просто дай знать. \n",
    "\n",
    "Ты уже проделал большую работу над проектом, но давай сделаем его еще лучше. Ниже ты найдешь мои комментарии - пожалуйста, не перемещай, не изменяй и не удаляй их. Я буду использовать цветовую разметку:\n",
    "\n",
    "<div class=\"alert alert-danger\">\n",
    "<b>Комментарий ревьюера: &#10060; </b> Так будут выделены комментарии с указаниями, обязательными к выполнению. Без их выполнения проект не будет принят. </div>\n",
    "\n",
    "<div class=\"alert alert-warning\">\n",
    "<b>Комментарий ревьюера:\n",
    "&#9888;</b> Так будут выделены некритичные замечания. Их отработка позволит улучшить качество твоего проекта.\n",
    "</div>\n",
    "\n",
    "<div class=\"alert alert-success\">\n",
    "<b>Комментарий ревьюера:\n",
    "&#9989;</b> Так будут выделены остальные комментарии, полезные лайфхаки и ссылки на сторонние ресурсы </div>\n",
    "\n",
    "Для наиболее эффективной и оперативной работы над проектом, мне хотелось бы иметь обратную связь. Не стесняйся задавать вопросы. Если ты что-либо меняешь в проекте, пожалуйста, комментируй это. Мне будет легче отследить изменения, если ты выделишь свои комментарии:\n",
    "<div class=\"alert alert-info\"> <b>Комментарий студента:</b> Например так</div>"
   ]
  },
  {
   "cell_type": "markdown",
   "id": "b58cfe4f",
   "metadata": {},
   "source": [
    "# Телеком\n",
    "\n",
    "Оператор связи *\"Ниединогоразрыва.ком\"* хочет научиться прогнозировать отток клиентов. Если выяснится, что пользователь планирует уйти, ему будут предложены промокоды и специальные условия. Команда оператора собрала персональные данные о некоторых клиентах, информацию об их тарифах и договорах.\n",
    "\n",
    "### Цель проекта\n",
    "**Разработать модель машинного обучения бинарной классификации, которая по различным характеристикам клиента сможет прогнозировать, планирует ли клиент расторгнуть контракт и отказать от услуг телекоммуникационного оператора.**\n",
    "\n",
    "### Методология проекта\n",
    "1. Загрузить данные, понять содержание данные, соединить в единый датасет.\n",
    "2. Изучить предложенные данные, заполнить пропуски, проверить данные на дубликаты (явные и неявные). Подготовить данные к дальнейшему анализу.\n",
    "3. Проверить корреляционную зависимость, исключить столбцы с признаками, которые имеют коэффициенты корреляции Пирсона выше 0.8.\n",
    "4. Изучить значение целевого признака, проверить на наличие в нем дисбаланса.\n",
    "5. Разработать и обучить неколько моделей машинного обучения для решения задачи бинарной классификации. Выбрать наилучшую модель по метрике качества с помощью поиска по сетке или кросс-валидации, протестировать модель на тестовых данных. При разработке модели учитывать проблему переобучения; провести масштабирование и нормализацию признаков, где необходимо.\n",
    "\n",
    "### Описание услуг\n",
    "\n",
    "Оператор предоставляет два основных типа услуг: \n",
    "\n",
    "1. Стационарную телефонную связь. Возможно подключение телефонного аппарата к нескольким линиям одновременно.\n",
    "2. Интернет. Подключение может быть двух типов: через телефонную линию (*DSL*, от англ. *digital subscriber line*, «цифровая абонентская линия») или оптоволоконный кабель (*Fiber optic*).  \n",
    "\n",
    "Также доступны такие услуги:\n",
    "\n",
    "- Интернет-безопасность: антивирус (*DeviceProtection*) и блокировка небезопасных сайтов (*OnlineSecurity*);\n",
    "- Выделенная линия технической поддержки (*TechSupport*);\n",
    "- Облачное хранилище файлов для резервного копирования данных (*OnlineBackup*);\n",
    "- Стриминговое телевидение (*StreamingTV*) и каталог фильмов (*StreamingMovies*).\n",
    "\n",
    "За услуги клиенты могут платить каждый месяц или заключить договор на 1–2 года. Доступны различные способы расчёта и возможность получения электронного чека.\n",
    "\n",
    "### Описание данных\n",
    "\n",
    "Данные состоят из файлов, полученных из разных источников:\n",
    "\n",
    "- `contract.csv` — информация о договоре;\n",
    "- `personal.csv` — персональные данные клиента;\n",
    "- `internet.csv` — информация об интернет-услугах;\n",
    "- `phone.csv` — информация об услугах телефонии.\n",
    "\n",
    "Во всех файлах столбец `customerID` содержит код клиента.\n",
    "\n",
    "Информация о договорах актуальна на 1 февраля 2020.\n",
    "\n",
    "*Описание проекта в Notion [здесь](https://concrete-web-bad.notion.site/20b6db57bf464afe86232e26190285e5).*"
   ]
  },
  {
   "cell_type": "markdown",
   "id": "0146ec99",
   "metadata": {},
   "source": [
    "<div class=\"alert alert-success\">\n",
    "<b>Комментарий ревьюера:\n",
    "&#9989;</b> Отлично, название проекта и описание на месте, ссылку на Notion лучше удалить, т.к. не у всех есть доступ </div>"
   ]
  },
  {
   "cell_type": "markdown",
   "id": "4d04dc0d",
   "metadata": {},
   "source": [
    "<div class=\"alert alert-danger\">\n",
    "<b>Комментарий ревьюера: &#10060; </b> Предусмотри, пожалуйста, установку сторонних библиотек, так же не советую использовать профайлинг, т.к. это может приводить к падению ядра на стороне сервера яндекса </div>"
   ]
  },
  {
   "cell_type": "code",
   "execution_count": 1,
   "id": "32a91716",
   "metadata": {},
   "outputs": [
    {
     "name": "stdout",
     "output_type": "stream",
     "text": [
      "Note: you may need to restart the kernel to use updated packages.\n"
     ]
    }
   ],
   "source": [
    "pip install -q --upgrade pip"
   ]
  },
  {
   "cell_type": "code",
   "execution_count": 2,
   "id": "9fd54902",
   "metadata": {},
   "outputs": [
    {
     "name": "stdout",
     "output_type": "stream",
     "text": [
      "Note: you may need to restart the kernel to use updated packages.\n"
     ]
    }
   ],
   "source": [
    "pip install -q dill"
   ]
  },
  {
   "cell_type": "code",
   "execution_count": 264,
   "id": "4bc2a2d5",
   "metadata": {},
   "outputs": [],
   "source": [
    "import pandas as pd\n",
    "import numpy as np\n",
    "import matplotlib.pyplot as plt\n",
    "import seaborn as sns\n",
    "import warnings\n",
    "import dill as pickle\n",
    "\n",
    "from joblib import Parallel, delayed\n",
    "from sklearn.dummy import DummyClassifier\n",
    "from sklearn.model_selection import GridSearchCV\n",
    "from sklearn.tree import DecisionTreeClassifier\n",
    "from sklearn.ensemble import GradientBoostingClassifier\n",
    "from sklearn.ensemble import RandomForestClassifier\n",
    "from catboost import CatBoostClassifier, Pool\n",
    "from sklearn.metrics import r2_score\n",
    "from sklearn.model_selection import train_test_split\n",
    "from sklearn import preprocessing\n",
    "from sklearn.preprocessing import OrdinalEncoder, MinMaxScaler\n",
    "from statsmodels.stats.outliers_influence import variance_inflation_factor\n",
    "from sklearn.metrics import fbeta_score, make_scorer, classification_report, roc_curve, confusion_matrix, roc_auc_score, accuracy_score, f1_score\n",
    "from statsmodels.tools.tools import add_constant\n",
    "%matplotlib inline\n",
    "\n",
    "sns.set_style('whitegrid')\n",
    "warnings.filterwarnings('ignore')\n",
    "warnings.simplefilter(\"ignore\", category=RuntimeWarning)\n",
    "pd.options.mode.chained_assignment = None"
   ]
  },
  {
   "cell_type": "markdown",
   "id": "73e89d8a",
   "metadata": {},
   "source": [
    "## 1 Загрузка данных, преобработка данных"
   ]
  },
  {
   "cell_type": "code",
   "execution_count": 4,
   "id": "3065fded",
   "metadata": {},
   "outputs": [],
   "source": [
    "RANDOM_STATE = 300123"
   ]
  },
  {
   "cell_type": "markdown",
   "id": "59bf013d",
   "metadata": {},
   "source": [
    "### 1.1 Загрузка данных"
   ]
  },
  {
   "cell_type": "markdown",
   "id": "e5890a4c",
   "metadata": {},
   "source": [
    "- ####  `contract`"
   ]
  },
  {
   "cell_type": "code",
   "execution_count": 5,
   "id": "5359e0ec",
   "metadata": {
    "scrolled": false
   },
   "outputs": [],
   "source": [
    "# read the file handling exceptions\n",
    "try:\n",
    "    contract = pd.read_csv('/Users/yuliabezginova/PycharmProjects/00_files-for_NLP/final_provider/contract.csv') #, index_col=[0])\n",
    "except FileNotFoundError:\n",
    "    contract = pd.read_csv('/datasets/final_provider/contract.csv') #, index_col=[0])"
   ]
  },
  {
   "cell_type": "markdown",
   "id": "c2aac258",
   "metadata": {},
   "source": [
    "<div class=\"alert alert-danger\">\n",
    "<b>Комментарий ревьюера: &#10060; </b> Здесь и далее: предусмотри, пожалуйста, выполнение кода на стороне яндекса(try...except) Путь к файлам в тренажере <code>/datasets/final_provider/</code> Так же стоит комментировать проводимый анализ</div>"
   ]
  },
  {
   "cell_type": "markdown",
   "id": "0c95e5c6",
   "metadata": {},
   "source": [
    "<div class=\"alert alert-info\"> <b>Юлия:</b>\n",
    "Подскажите, пожалуйста, какие сторонние библиотеки у вас не установлены, я пропишу их установку.\n",
    "</div>\n"
   ]
  },
  {
   "cell_type": "code",
   "execution_count": 6,
   "id": "998bda34",
   "metadata": {},
   "outputs": [
    {
     "name": "stdout",
     "output_type": "stream",
     "text": [
      "<class 'pandas.core.frame.DataFrame'>\n",
      "RangeIndex: 7043 entries, 0 to 7042\n",
      "Data columns (total 8 columns):\n",
      " #   Column            Non-Null Count  Dtype  \n",
      "---  ------            --------------  -----  \n",
      " 0   customerID        7043 non-null   object \n",
      " 1   BeginDate         7043 non-null   object \n",
      " 2   EndDate           7043 non-null   object \n",
      " 3   Type              7043 non-null   object \n",
      " 4   PaperlessBilling  7043 non-null   object \n",
      " 5   PaymentMethod     7043 non-null   object \n",
      " 6   MonthlyCharges    7043 non-null   float64\n",
      " 7   TotalCharges      7043 non-null   object \n",
      "dtypes: float64(1), object(7)\n",
      "memory usage: 440.3+ KB\n"
     ]
    }
   ],
   "source": [
    "contract.info()"
   ]
  },
  {
   "cell_type": "code",
   "execution_count": 7,
   "id": "33400dcd",
   "metadata": {
    "scrolled": true
   },
   "outputs": [
    {
     "data": {
      "text/plain": [
       "Index(['customerID', 'BeginDate', 'EndDate', 'Type', 'PaperlessBilling',\n",
       "       'PaymentMethod', 'MonthlyCharges', 'TotalCharges'],\n",
       "      dtype='object')"
      ]
     },
     "execution_count": 7,
     "metadata": {},
     "output_type": "execute_result"
    }
   ],
   "source": [
    "contract.columns"
   ]
  },
  {
   "cell_type": "code",
   "execution_count": 8,
   "id": "228735be",
   "metadata": {
    "scrolled": true
   },
   "outputs": [
    {
     "data": {
      "text/plain": [
       "73.46"
      ]
     },
     "execution_count": 8,
     "metadata": {},
     "output_type": "execute_result"
    }
   ],
   "source": [
    "round(len(contract[contract['EndDate'] == 'No']) / len(contract) * 100, 2)"
   ]
  },
  {
   "cell_type": "code",
   "execution_count": 9,
   "id": "b8174288",
   "metadata": {},
   "outputs": [
    {
     "data": {
      "text/html": [
       "<div>\n",
       "<style scoped>\n",
       "    .dataframe tbody tr th:only-of-type {\n",
       "        vertical-align: middle;\n",
       "    }\n",
       "\n",
       "    .dataframe tbody tr th {\n",
       "        vertical-align: top;\n",
       "    }\n",
       "\n",
       "    .dataframe thead th {\n",
       "        text-align: right;\n",
       "    }\n",
       "</style>\n",
       "<table border=\"1\" class=\"dataframe\">\n",
       "  <thead>\n",
       "    <tr style=\"text-align: right;\">\n",
       "      <th></th>\n",
       "      <th>customerID</th>\n",
       "      <th>BeginDate</th>\n",
       "      <th>EndDate</th>\n",
       "      <th>Type</th>\n",
       "      <th>PaperlessBilling</th>\n",
       "      <th>PaymentMethod</th>\n",
       "      <th>MonthlyCharges</th>\n",
       "      <th>TotalCharges</th>\n",
       "    </tr>\n",
       "  </thead>\n",
       "  <tbody>\n",
       "    <tr>\n",
       "      <th>0</th>\n",
       "      <td>7590-VHVEG</td>\n",
       "      <td>2020-01-01</td>\n",
       "      <td>No</td>\n",
       "      <td>Month-to-month</td>\n",
       "      <td>Yes</td>\n",
       "      <td>Electronic check</td>\n",
       "      <td>29.85</td>\n",
       "      <td>29.85</td>\n",
       "    </tr>\n",
       "    <tr>\n",
       "      <th>1</th>\n",
       "      <td>5575-GNVDE</td>\n",
       "      <td>2017-04-01</td>\n",
       "      <td>No</td>\n",
       "      <td>One year</td>\n",
       "      <td>No</td>\n",
       "      <td>Mailed check</td>\n",
       "      <td>56.95</td>\n",
       "      <td>1889.5</td>\n",
       "    </tr>\n",
       "    <tr>\n",
       "      <th>2</th>\n",
       "      <td>3668-QPYBK</td>\n",
       "      <td>2019-10-01</td>\n",
       "      <td>2019-12-01 00:00:00</td>\n",
       "      <td>Month-to-month</td>\n",
       "      <td>Yes</td>\n",
       "      <td>Mailed check</td>\n",
       "      <td>53.85</td>\n",
       "      <td>108.15</td>\n",
       "    </tr>\n",
       "    <tr>\n",
       "      <th>3</th>\n",
       "      <td>7795-CFOCW</td>\n",
       "      <td>2016-05-01</td>\n",
       "      <td>No</td>\n",
       "      <td>One year</td>\n",
       "      <td>No</td>\n",
       "      <td>Bank transfer (automatic)</td>\n",
       "      <td>42.30</td>\n",
       "      <td>1840.75</td>\n",
       "    </tr>\n",
       "    <tr>\n",
       "      <th>4</th>\n",
       "      <td>9237-HQITU</td>\n",
       "      <td>2019-09-01</td>\n",
       "      <td>2019-11-01 00:00:00</td>\n",
       "      <td>Month-to-month</td>\n",
       "      <td>Yes</td>\n",
       "      <td>Electronic check</td>\n",
       "      <td>70.70</td>\n",
       "      <td>151.65</td>\n",
       "    </tr>\n",
       "  </tbody>\n",
       "</table>\n",
       "</div>"
      ],
      "text/plain": [
       "   customerID   BeginDate              EndDate            Type  \\\n",
       "0  7590-VHVEG  2020-01-01                   No  Month-to-month   \n",
       "1  5575-GNVDE  2017-04-01                   No        One year   \n",
       "2  3668-QPYBK  2019-10-01  2019-12-01 00:00:00  Month-to-month   \n",
       "3  7795-CFOCW  2016-05-01                   No        One year   \n",
       "4  9237-HQITU  2019-09-01  2019-11-01 00:00:00  Month-to-month   \n",
       "\n",
       "  PaperlessBilling              PaymentMethod  MonthlyCharges TotalCharges  \n",
       "0              Yes           Electronic check           29.85        29.85  \n",
       "1               No               Mailed check           56.95       1889.5  \n",
       "2              Yes               Mailed check           53.85       108.15  \n",
       "3               No  Bank transfer (automatic)           42.30      1840.75  \n",
       "4              Yes           Electronic check           70.70       151.65  "
      ]
     },
     "execution_count": 9,
     "metadata": {},
     "output_type": "execute_result"
    }
   ],
   "source": [
    "contract.head()"
   ]
  },
  {
   "cell_type": "markdown",
   "id": "1e51cf3a",
   "metadata": {},
   "source": [
    "Создадим временный датасет с двумя колонками ID клиента и статус окончания использования контрактом EndDate."
   ]
  },
  {
   "cell_type": "markdown",
   "id": "2c4d7805",
   "metadata": {},
   "source": [
    "<div class=\"alert alert-warning\">\n",
    "<b>Комментарий ревьюера:\n",
    "&#9888;</b> Мне кажется это лишнее, не проще добавить столбец?\n",
    "</div>"
   ]
  },
  {
   "cell_type": "code",
   "execution_count": 10,
   "id": "95a23636",
   "metadata": {},
   "outputs": [
    {
     "data": {
      "text/html": [
       "<div>\n",
       "<style scoped>\n",
       "    .dataframe tbody tr th:only-of-type {\n",
       "        vertical-align: middle;\n",
       "    }\n",
       "\n",
       "    .dataframe tbody tr th {\n",
       "        vertical-align: top;\n",
       "    }\n",
       "\n",
       "    .dataframe thead th {\n",
       "        text-align: right;\n",
       "    }\n",
       "</style>\n",
       "<table border=\"1\" class=\"dataframe\">\n",
       "  <thead>\n",
       "    <tr style=\"text-align: right;\">\n",
       "      <th></th>\n",
       "      <th>customerID</th>\n",
       "      <th>EndDate</th>\n",
       "    </tr>\n",
       "  </thead>\n",
       "  <tbody>\n",
       "    <tr>\n",
       "      <th>0</th>\n",
       "      <td>7590-VHVEG</td>\n",
       "      <td>No</td>\n",
       "    </tr>\n",
       "    <tr>\n",
       "      <th>1</th>\n",
       "      <td>5575-GNVDE</td>\n",
       "      <td>No</td>\n",
       "    </tr>\n",
       "    <tr>\n",
       "      <th>2</th>\n",
       "      <td>3668-QPYBK</td>\n",
       "      <td>2019-12-01 00:00:00</td>\n",
       "    </tr>\n",
       "    <tr>\n",
       "      <th>3</th>\n",
       "      <td>7795-CFOCW</td>\n",
       "      <td>No</td>\n",
       "    </tr>\n",
       "    <tr>\n",
       "      <th>4</th>\n",
       "      <td>9237-HQITU</td>\n",
       "      <td>2019-11-01 00:00:00</td>\n",
       "    </tr>\n",
       "    <tr>\n",
       "      <th>...</th>\n",
       "      <td>...</td>\n",
       "      <td>...</td>\n",
       "    </tr>\n",
       "    <tr>\n",
       "      <th>7038</th>\n",
       "      <td>6840-RESVB</td>\n",
       "      <td>No</td>\n",
       "    </tr>\n",
       "    <tr>\n",
       "      <th>7039</th>\n",
       "      <td>2234-XADUH</td>\n",
       "      <td>No</td>\n",
       "    </tr>\n",
       "    <tr>\n",
       "      <th>7040</th>\n",
       "      <td>4801-JZAZL</td>\n",
       "      <td>No</td>\n",
       "    </tr>\n",
       "    <tr>\n",
       "      <th>7041</th>\n",
       "      <td>8361-LTMKD</td>\n",
       "      <td>2019-11-01 00:00:00</td>\n",
       "    </tr>\n",
       "    <tr>\n",
       "      <th>7042</th>\n",
       "      <td>3186-AJIEK</td>\n",
       "      <td>No</td>\n",
       "    </tr>\n",
       "  </tbody>\n",
       "</table>\n",
       "<p>7043 rows × 2 columns</p>\n",
       "</div>"
      ],
      "text/plain": [
       "      customerID              EndDate\n",
       "0     7590-VHVEG                   No\n",
       "1     5575-GNVDE                   No\n",
       "2     3668-QPYBK  2019-12-01 00:00:00\n",
       "3     7795-CFOCW                   No\n",
       "4     9237-HQITU  2019-11-01 00:00:00\n",
       "...          ...                  ...\n",
       "7038  6840-RESVB                   No\n",
       "7039  2234-XADUH                   No\n",
       "7040  4801-JZAZL                   No\n",
       "7041  8361-LTMKD  2019-11-01 00:00:00\n",
       "7042  3186-AJIEK                   No\n",
       "\n",
       "[7043 rows x 2 columns]"
      ]
     },
     "execution_count": 10,
     "metadata": {},
     "output_type": "execute_result"
    }
   ],
   "source": [
    "temp = contract[['customerID', 'EndDate']].copy()\n",
    "temp"
   ]
  },
  {
   "cell_type": "code",
   "execution_count": 11,
   "id": "6b6d6b7f",
   "metadata": {
    "scrolled": false
   },
   "outputs": [
    {
     "data": {
      "text/html": [
       "<div>\n",
       "<style scoped>\n",
       "    .dataframe tbody tr th:only-of-type {\n",
       "        vertical-align: middle;\n",
       "    }\n",
       "\n",
       "    .dataframe tbody tr th {\n",
       "        vertical-align: top;\n",
       "    }\n",
       "\n",
       "    .dataframe thead th {\n",
       "        text-align: right;\n",
       "    }\n",
       "</style>\n",
       "<table border=\"1\" class=\"dataframe\">\n",
       "  <thead>\n",
       "    <tr style=\"text-align: right;\">\n",
       "      <th></th>\n",
       "      <th>customerID</th>\n",
       "      <th>EndDate</th>\n",
       "    </tr>\n",
       "  </thead>\n",
       "  <tbody>\n",
       "    <tr>\n",
       "      <th>0</th>\n",
       "      <td>7590-VHVEG</td>\n",
       "      <td>No</td>\n",
       "    </tr>\n",
       "    <tr>\n",
       "      <th>1</th>\n",
       "      <td>5575-GNVDE</td>\n",
       "      <td>No</td>\n",
       "    </tr>\n",
       "    <tr>\n",
       "      <th>3</th>\n",
       "      <td>7795-CFOCW</td>\n",
       "      <td>No</td>\n",
       "    </tr>\n",
       "    <tr>\n",
       "      <th>6</th>\n",
       "      <td>1452-KIOVK</td>\n",
       "      <td>No</td>\n",
       "    </tr>\n",
       "    <tr>\n",
       "      <th>7</th>\n",
       "      <td>6713-OKOMC</td>\n",
       "      <td>No</td>\n",
       "    </tr>\n",
       "  </tbody>\n",
       "</table>\n",
       "</div>"
      ],
      "text/plain": [
       "   customerID EndDate\n",
       "0  7590-VHVEG      No\n",
       "1  5575-GNVDE      No\n",
       "3  7795-CFOCW      No\n",
       "6  1452-KIOVK      No\n",
       "7  6713-OKOMC      No"
      ]
     },
     "execution_count": 11,
     "metadata": {},
     "output_type": "execute_result"
    }
   ],
   "source": [
    "churned = temp[temp['EndDate'] == 'No']\n",
    "churned.head()"
   ]
  },
  {
   "cell_type": "code",
   "execution_count": 12,
   "id": "fc582841",
   "metadata": {
    "scrolled": true
   },
   "outputs": [
    {
     "data": {
      "text/html": [
       "<div>\n",
       "<style scoped>\n",
       "    .dataframe tbody tr th:only-of-type {\n",
       "        vertical-align: middle;\n",
       "    }\n",
       "\n",
       "    .dataframe tbody tr th {\n",
       "        vertical-align: top;\n",
       "    }\n",
       "\n",
       "    .dataframe thead th {\n",
       "        text-align: right;\n",
       "    }\n",
       "</style>\n",
       "<table border=\"1\" class=\"dataframe\">\n",
       "  <thead>\n",
       "    <tr style=\"text-align: right;\">\n",
       "      <th></th>\n",
       "      <th>customerID</th>\n",
       "      <th>churned</th>\n",
       "    </tr>\n",
       "  </thead>\n",
       "  <tbody>\n",
       "    <tr>\n",
       "      <th>0</th>\n",
       "      <td>7590-VHVEG</td>\n",
       "      <td>1</td>\n",
       "    </tr>\n",
       "    <tr>\n",
       "      <th>1</th>\n",
       "      <td>5575-GNVDE</td>\n",
       "      <td>1</td>\n",
       "    </tr>\n",
       "    <tr>\n",
       "      <th>3</th>\n",
       "      <td>7795-CFOCW</td>\n",
       "      <td>1</td>\n",
       "    </tr>\n",
       "    <tr>\n",
       "      <th>6</th>\n",
       "      <td>1452-KIOVK</td>\n",
       "      <td>1</td>\n",
       "    </tr>\n",
       "    <tr>\n",
       "      <th>7</th>\n",
       "      <td>6713-OKOMC</td>\n",
       "      <td>1</td>\n",
       "    </tr>\n",
       "    <tr>\n",
       "      <th>...</th>\n",
       "      <td>...</td>\n",
       "      <td>...</td>\n",
       "    </tr>\n",
       "    <tr>\n",
       "      <th>7037</th>\n",
       "      <td>2569-WGERO</td>\n",
       "      <td>1</td>\n",
       "    </tr>\n",
       "    <tr>\n",
       "      <th>7038</th>\n",
       "      <td>6840-RESVB</td>\n",
       "      <td>1</td>\n",
       "    </tr>\n",
       "    <tr>\n",
       "      <th>7039</th>\n",
       "      <td>2234-XADUH</td>\n",
       "      <td>1</td>\n",
       "    </tr>\n",
       "    <tr>\n",
       "      <th>7040</th>\n",
       "      <td>4801-JZAZL</td>\n",
       "      <td>1</td>\n",
       "    </tr>\n",
       "    <tr>\n",
       "      <th>7042</th>\n",
       "      <td>3186-AJIEK</td>\n",
       "      <td>1</td>\n",
       "    </tr>\n",
       "  </tbody>\n",
       "</table>\n",
       "<p>5174 rows × 2 columns</p>\n",
       "</div>"
      ],
      "text/plain": [
       "      customerID  churned\n",
       "0     7590-VHVEG        1\n",
       "1     5575-GNVDE        1\n",
       "3     7795-CFOCW        1\n",
       "6     1452-KIOVK        1\n",
       "7     6713-OKOMC        1\n",
       "...          ...      ...\n",
       "7037  2569-WGERO        1\n",
       "7038  6840-RESVB        1\n",
       "7039  2234-XADUH        1\n",
       "7040  4801-JZAZL        1\n",
       "7042  3186-AJIEK        1\n",
       "\n",
       "[5174 rows x 2 columns]"
      ]
     },
     "execution_count": 12,
     "metadata": {},
     "output_type": "execute_result"
    }
   ],
   "source": [
    "churned['churned'] = int(1)\n",
    "churned.drop(columns=['EndDate'])"
   ]
  },
  {
   "cell_type": "code",
   "execution_count": 13,
   "id": "5c8ffb4e",
   "metadata": {
    "scrolled": false
   },
   "outputs": [
    {
     "data": {
      "text/plain": [
       "(7043, 10)"
      ]
     },
     "execution_count": 13,
     "metadata": {},
     "output_type": "execute_result"
    }
   ],
   "source": [
    "j = churned.merge(contract[['customerID', 'BeginDate', 'EndDate', 'Type', \n",
    "                            'PaperlessBilling', 'PaymentMethod', 'MonthlyCharges', \n",
    "                            'TotalCharges']], how='right', on='customerID')\n",
    "j.shape"
   ]
  },
  {
   "cell_type": "code",
   "execution_count": 14,
   "id": "0ce513d8",
   "metadata": {},
   "outputs": [
    {
     "data": {
      "text/plain": [
       "array([ 1., nan])"
      ]
     },
     "execution_count": 14,
     "metadata": {},
     "output_type": "execute_result"
    }
   ],
   "source": [
    "j['churned'].unique()"
   ]
  },
  {
   "cell_type": "code",
   "execution_count": 15,
   "id": "88692727",
   "metadata": {},
   "outputs": [
    {
     "data": {
      "text/plain": [
       "1869"
      ]
     },
     "execution_count": 15,
     "metadata": {},
     "output_type": "execute_result"
    }
   ],
   "source": [
    "j['churned'].isnull().sum()"
   ]
  },
  {
   "cell_type": "code",
   "execution_count": 16,
   "id": "cbc1627a",
   "metadata": {},
   "outputs": [
    {
     "data": {
      "text/html": [
       "<div>\n",
       "<style scoped>\n",
       "    .dataframe tbody tr th:only-of-type {\n",
       "        vertical-align: middle;\n",
       "    }\n",
       "\n",
       "    .dataframe tbody tr th {\n",
       "        vertical-align: top;\n",
       "    }\n",
       "\n",
       "    .dataframe thead th {\n",
       "        text-align: right;\n",
       "    }\n",
       "</style>\n",
       "<table border=\"1\" class=\"dataframe\">\n",
       "  <thead>\n",
       "    <tr style=\"text-align: right;\">\n",
       "      <th></th>\n",
       "      <th>customerID</th>\n",
       "      <th>EndDate_x</th>\n",
       "      <th>churned</th>\n",
       "      <th>BeginDate</th>\n",
       "      <th>EndDate_y</th>\n",
       "      <th>Type</th>\n",
       "      <th>PaperlessBilling</th>\n",
       "      <th>PaymentMethod</th>\n",
       "      <th>MonthlyCharges</th>\n",
       "      <th>TotalCharges</th>\n",
       "    </tr>\n",
       "  </thead>\n",
       "  <tbody>\n",
       "    <tr>\n",
       "      <th>0</th>\n",
       "      <td>7590-VHVEG</td>\n",
       "      <td>No</td>\n",
       "      <td>1.0</td>\n",
       "      <td>2020-01-01</td>\n",
       "      <td>No</td>\n",
       "      <td>Month-to-month</td>\n",
       "      <td>Yes</td>\n",
       "      <td>Electronic check</td>\n",
       "      <td>29.85</td>\n",
       "      <td>29.85</td>\n",
       "    </tr>\n",
       "    <tr>\n",
       "      <th>1</th>\n",
       "      <td>5575-GNVDE</td>\n",
       "      <td>No</td>\n",
       "      <td>1.0</td>\n",
       "      <td>2017-04-01</td>\n",
       "      <td>No</td>\n",
       "      <td>One year</td>\n",
       "      <td>No</td>\n",
       "      <td>Mailed check</td>\n",
       "      <td>56.95</td>\n",
       "      <td>1889.5</td>\n",
       "    </tr>\n",
       "    <tr>\n",
       "      <th>2</th>\n",
       "      <td>3668-QPYBK</td>\n",
       "      <td>NaN</td>\n",
       "      <td>NaN</td>\n",
       "      <td>2019-10-01</td>\n",
       "      <td>2019-12-01 00:00:00</td>\n",
       "      <td>Month-to-month</td>\n",
       "      <td>Yes</td>\n",
       "      <td>Mailed check</td>\n",
       "      <td>53.85</td>\n",
       "      <td>108.15</td>\n",
       "    </tr>\n",
       "  </tbody>\n",
       "</table>\n",
       "</div>"
      ],
      "text/plain": [
       "   customerID EndDate_x  churned   BeginDate            EndDate_y  \\\n",
       "0  7590-VHVEG        No      1.0  2020-01-01                   No   \n",
       "1  5575-GNVDE        No      1.0  2017-04-01                   No   \n",
       "2  3668-QPYBK       NaN      NaN  2019-10-01  2019-12-01 00:00:00   \n",
       "\n",
       "             Type PaperlessBilling     PaymentMethod  MonthlyCharges  \\\n",
       "0  Month-to-month              Yes  Electronic check           29.85   \n",
       "1        One year               No      Mailed check           56.95   \n",
       "2  Month-to-month              Yes      Mailed check           53.85   \n",
       "\n",
       "  TotalCharges  \n",
       "0        29.85  \n",
       "1       1889.5  \n",
       "2       108.15  "
      ]
     },
     "execution_count": 16,
     "metadata": {},
     "output_type": "execute_result"
    }
   ],
   "source": [
    "contract_adj = j.copy()\n",
    "contract_adj.head(3)"
   ]
  },
  {
   "cell_type": "code",
   "execution_count": 17,
   "id": "cc1796e8",
   "metadata": {
    "scrolled": true
   },
   "outputs": [],
   "source": [
    "contract_adj = contract_adj.drop(columns=['EndDate_x'])"
   ]
  },
  {
   "cell_type": "code",
   "execution_count": 18,
   "id": "4284071f",
   "metadata": {},
   "outputs": [
    {
     "data": {
      "text/html": [
       "<div>\n",
       "<style scoped>\n",
       "    .dataframe tbody tr th:only-of-type {\n",
       "        vertical-align: middle;\n",
       "    }\n",
       "\n",
       "    .dataframe tbody tr th {\n",
       "        vertical-align: top;\n",
       "    }\n",
       "\n",
       "    .dataframe thead th {\n",
       "        text-align: right;\n",
       "    }\n",
       "</style>\n",
       "<table border=\"1\" class=\"dataframe\">\n",
       "  <thead>\n",
       "    <tr style=\"text-align: right;\">\n",
       "      <th></th>\n",
       "      <th>customerID</th>\n",
       "      <th>churned</th>\n",
       "      <th>BeginDate</th>\n",
       "      <th>EndDate_y</th>\n",
       "      <th>Type</th>\n",
       "      <th>PaperlessBilling</th>\n",
       "      <th>PaymentMethod</th>\n",
       "      <th>MonthlyCharges</th>\n",
       "      <th>TotalCharges</th>\n",
       "    </tr>\n",
       "  </thead>\n",
       "  <tbody>\n",
       "    <tr>\n",
       "      <th>0</th>\n",
       "      <td>7590-VHVEG</td>\n",
       "      <td>1.0</td>\n",
       "      <td>2020-01-01</td>\n",
       "      <td>No</td>\n",
       "      <td>Month-to-month</td>\n",
       "      <td>Yes</td>\n",
       "      <td>Electronic check</td>\n",
       "      <td>29.85</td>\n",
       "      <td>29.85</td>\n",
       "    </tr>\n",
       "    <tr>\n",
       "      <th>1</th>\n",
       "      <td>5575-GNVDE</td>\n",
       "      <td>1.0</td>\n",
       "      <td>2017-04-01</td>\n",
       "      <td>No</td>\n",
       "      <td>One year</td>\n",
       "      <td>No</td>\n",
       "      <td>Mailed check</td>\n",
       "      <td>56.95</td>\n",
       "      <td>1889.5</td>\n",
       "    </tr>\n",
       "    <tr>\n",
       "      <th>2</th>\n",
       "      <td>3668-QPYBK</td>\n",
       "      <td>NaN</td>\n",
       "      <td>2019-10-01</td>\n",
       "      <td>2019-12-01 00:00:00</td>\n",
       "      <td>Month-to-month</td>\n",
       "      <td>Yes</td>\n",
       "      <td>Mailed check</td>\n",
       "      <td>53.85</td>\n",
       "      <td>108.15</td>\n",
       "    </tr>\n",
       "  </tbody>\n",
       "</table>\n",
       "</div>"
      ],
      "text/plain": [
       "   customerID  churned   BeginDate            EndDate_y            Type  \\\n",
       "0  7590-VHVEG      1.0  2020-01-01                   No  Month-to-month   \n",
       "1  5575-GNVDE      1.0  2017-04-01                   No        One year   \n",
       "2  3668-QPYBK      NaN  2019-10-01  2019-12-01 00:00:00  Month-to-month   \n",
       "\n",
       "  PaperlessBilling     PaymentMethod  MonthlyCharges TotalCharges  \n",
       "0              Yes  Electronic check           29.85        29.85  \n",
       "1               No      Mailed check           56.95       1889.5  \n",
       "2              Yes      Mailed check           53.85       108.15  "
      ]
     },
     "execution_count": 18,
     "metadata": {},
     "output_type": "execute_result"
    }
   ],
   "source": [
    "contract_adj.head(3)"
   ]
  },
  {
   "cell_type": "code",
   "execution_count": 19,
   "id": "a6698caf",
   "metadata": {},
   "outputs": [],
   "source": [
    "contract_adj.rename(columns = {'EndDate_y':'EndDate'}, inplace = True)"
   ]
  },
  {
   "cell_type": "code",
   "execution_count": 20,
   "id": "79c7d02b",
   "metadata": {},
   "outputs": [
    {
     "data": {
      "text/html": [
       "<div>\n",
       "<style scoped>\n",
       "    .dataframe tbody tr th:only-of-type {\n",
       "        vertical-align: middle;\n",
       "    }\n",
       "\n",
       "    .dataframe tbody tr th {\n",
       "        vertical-align: top;\n",
       "    }\n",
       "\n",
       "    .dataframe thead th {\n",
       "        text-align: right;\n",
       "    }\n",
       "</style>\n",
       "<table border=\"1\" class=\"dataframe\">\n",
       "  <thead>\n",
       "    <tr style=\"text-align: right;\">\n",
       "      <th></th>\n",
       "      <th>customerID</th>\n",
       "      <th>churned</th>\n",
       "      <th>BeginDate</th>\n",
       "      <th>EndDate</th>\n",
       "      <th>Type</th>\n",
       "      <th>PaperlessBilling</th>\n",
       "      <th>PaymentMethod</th>\n",
       "      <th>MonthlyCharges</th>\n",
       "      <th>TotalCharges</th>\n",
       "    </tr>\n",
       "  </thead>\n",
       "  <tbody>\n",
       "    <tr>\n",
       "      <th>0</th>\n",
       "      <td>7590-VHVEG</td>\n",
       "      <td>1.0</td>\n",
       "      <td>2020-01-01</td>\n",
       "      <td>No</td>\n",
       "      <td>Month-to-month</td>\n",
       "      <td>Yes</td>\n",
       "      <td>Electronic check</td>\n",
       "      <td>29.85</td>\n",
       "      <td>29.85</td>\n",
       "    </tr>\n",
       "    <tr>\n",
       "      <th>1</th>\n",
       "      <td>5575-GNVDE</td>\n",
       "      <td>1.0</td>\n",
       "      <td>2017-04-01</td>\n",
       "      <td>No</td>\n",
       "      <td>One year</td>\n",
       "      <td>No</td>\n",
       "      <td>Mailed check</td>\n",
       "      <td>56.95</td>\n",
       "      <td>1889.5</td>\n",
       "    </tr>\n",
       "    <tr>\n",
       "      <th>2</th>\n",
       "      <td>3668-QPYBK</td>\n",
       "      <td>NaN</td>\n",
       "      <td>2019-10-01</td>\n",
       "      <td>2019-12-01 00:00:00</td>\n",
       "      <td>Month-to-month</td>\n",
       "      <td>Yes</td>\n",
       "      <td>Mailed check</td>\n",
       "      <td>53.85</td>\n",
       "      <td>108.15</td>\n",
       "    </tr>\n",
       "  </tbody>\n",
       "</table>\n",
       "</div>"
      ],
      "text/plain": [
       "   customerID  churned   BeginDate              EndDate            Type  \\\n",
       "0  7590-VHVEG      1.0  2020-01-01                   No  Month-to-month   \n",
       "1  5575-GNVDE      1.0  2017-04-01                   No        One year   \n",
       "2  3668-QPYBK      NaN  2019-10-01  2019-12-01 00:00:00  Month-to-month   \n",
       "\n",
       "  PaperlessBilling     PaymentMethod  MonthlyCharges TotalCharges  \n",
       "0              Yes  Electronic check           29.85        29.85  \n",
       "1               No      Mailed check           56.95       1889.5  \n",
       "2              Yes      Mailed check           53.85       108.15  "
      ]
     },
     "execution_count": 20,
     "metadata": {},
     "output_type": "execute_result"
    }
   ],
   "source": [
    "contract_adj.head(3)"
   ]
  },
  {
   "cell_type": "code",
   "execution_count": 21,
   "id": "cfe6edaf",
   "metadata": {
    "scrolled": false
   },
   "outputs": [
    {
     "data": {
      "text/plain": [
       "customerID                         0002-ORFBO\n",
       "churned                                   0.0\n",
       "BeginDate                          2013-10-01\n",
       "EndDate                   2019-10-01 00:00:00\n",
       "Type                           Month-to-month\n",
       "PaperlessBilling                           No\n",
       "PaymentMethod       Bank transfer (automatic)\n",
       "MonthlyCharges                          18.25\n",
       "TotalCharges                                 \n",
       "dtype: object"
      ]
     },
     "execution_count": 21,
     "metadata": {},
     "output_type": "execute_result"
    }
   ],
   "source": [
    "contract_adj['churned'] = contract_adj['churned'].fillna(0)\n",
    "contract_adj.min()"
   ]
  },
  {
   "cell_type": "code",
   "execution_count": 22,
   "id": "9e633a9f",
   "metadata": {},
   "outputs": [
    {
     "data": {
      "text/plain": [
       "customerID          0\n",
       "churned             0\n",
       "BeginDate           0\n",
       "EndDate             0\n",
       "Type                0\n",
       "PaperlessBilling    0\n",
       "PaymentMethod       0\n",
       "MonthlyCharges      0\n",
       "TotalCharges        0\n",
       "dtype: int64"
      ]
     },
     "execution_count": 22,
     "metadata": {},
     "output_type": "execute_result"
    }
   ],
   "source": [
    "# Код ревьюера\n",
    "contract_adj.isna().sum()"
   ]
  },
  {
   "cell_type": "code",
   "execution_count": 23,
   "id": "26eb1fa7",
   "metadata": {},
   "outputs": [
    {
     "data": {
      "text/html": [
       "<div>\n",
       "<style scoped>\n",
       "    .dataframe tbody tr th:only-of-type {\n",
       "        vertical-align: middle;\n",
       "    }\n",
       "\n",
       "    .dataframe tbody tr th {\n",
       "        vertical-align: top;\n",
       "    }\n",
       "\n",
       "    .dataframe thead th {\n",
       "        text-align: right;\n",
       "    }\n",
       "</style>\n",
       "<table border=\"1\" class=\"dataframe\">\n",
       "  <thead>\n",
       "    <tr style=\"text-align: right;\">\n",
       "      <th></th>\n",
       "      <th>customerID</th>\n",
       "      <th>churned</th>\n",
       "      <th>BeginDate</th>\n",
       "      <th>EndDate</th>\n",
       "      <th>Type</th>\n",
       "      <th>PaperlessBilling</th>\n",
       "      <th>PaymentMethod</th>\n",
       "      <th>MonthlyCharges</th>\n",
       "      <th>TotalCharges</th>\n",
       "    </tr>\n",
       "  </thead>\n",
       "  <tbody>\n",
       "    <tr>\n",
       "      <th>7040</th>\n",
       "      <td>4801-JZAZL</td>\n",
       "      <td>1.0</td>\n",
       "      <td>2019-03-01</td>\n",
       "      <td>No</td>\n",
       "      <td>Month-to-month</td>\n",
       "      <td>Yes</td>\n",
       "      <td>Electronic check</td>\n",
       "      <td>29.60</td>\n",
       "      <td>346.45</td>\n",
       "    </tr>\n",
       "    <tr>\n",
       "      <th>7041</th>\n",
       "      <td>8361-LTMKD</td>\n",
       "      <td>0.0</td>\n",
       "      <td>2019-07-01</td>\n",
       "      <td>2019-11-01 00:00:00</td>\n",
       "      <td>Month-to-month</td>\n",
       "      <td>Yes</td>\n",
       "      <td>Mailed check</td>\n",
       "      <td>74.40</td>\n",
       "      <td>306.6</td>\n",
       "    </tr>\n",
       "    <tr>\n",
       "      <th>7042</th>\n",
       "      <td>3186-AJIEK</td>\n",
       "      <td>1.0</td>\n",
       "      <td>2014-08-01</td>\n",
       "      <td>No</td>\n",
       "      <td>Two year</td>\n",
       "      <td>Yes</td>\n",
       "      <td>Bank transfer (automatic)</td>\n",
       "      <td>105.65</td>\n",
       "      <td>6844.5</td>\n",
       "    </tr>\n",
       "  </tbody>\n",
       "</table>\n",
       "</div>"
      ],
      "text/plain": [
       "      customerID  churned   BeginDate              EndDate            Type  \\\n",
       "7040  4801-JZAZL      1.0  2019-03-01                   No  Month-to-month   \n",
       "7041  8361-LTMKD      0.0  2019-07-01  2019-11-01 00:00:00  Month-to-month   \n",
       "7042  3186-AJIEK      1.0  2014-08-01                   No        Two year   \n",
       "\n",
       "     PaperlessBilling              PaymentMethod  MonthlyCharges TotalCharges  \n",
       "7040              Yes           Electronic check           29.60       346.45  \n",
       "7041              Yes               Mailed check           74.40        306.6  \n",
       "7042              Yes  Bank transfer (automatic)          105.65       6844.5  "
      ]
     },
     "execution_count": 23,
     "metadata": {},
     "output_type": "execute_result"
    }
   ],
   "source": [
    "contract_adj.tail(3)"
   ]
  },
  {
   "cell_type": "markdown",
   "id": "6decfc26",
   "metadata": {},
   "source": [
    "<div class=\"alert alert-danger\">\n",
    "<b>Комментарий ревьюера: &#10060; </b> Не совсем понятно, зачем нужна строка выше, если пропусков нет, так же здесь и далее: заполнение пропусков интерполяцией в этом проекте не корректно, пропуски в услугах означают их отсутствие(у те</div>"
   ]
  },
  {
   "cell_type": "markdown",
   "id": "50d26a26",
   "metadata": {},
   "source": [
    "<div class=\"alert alert-info\"> <b>Юлия:</b>\n",
    "Убрала.\n",
    "</div>\n"
   ]
  },
  {
   "cell_type": "code",
   "execution_count": 24,
   "id": "1164ddbe",
   "metadata": {},
   "outputs": [],
   "source": [
    "contract_adj['begin_date'] = pd.to_datetime(contract_adj['BeginDate']).dt.date"
   ]
  },
  {
   "cell_type": "code",
   "execution_count": 25,
   "id": "5e168c1b",
   "metadata": {
    "scrolled": true
   },
   "outputs": [
    {
     "data": {
      "text/plain": [
       "customerID                         0002-ORFBO\n",
       "churned                                   0.0\n",
       "BeginDate                          2013-10-01\n",
       "Type                           Month-to-month\n",
       "PaperlessBilling                           No\n",
       "PaymentMethod       Bank transfer (automatic)\n",
       "MonthlyCharges                          18.25\n",
       "TotalCharges                                 \n",
       "begin_date                         2013-10-01\n",
       "dtype: object"
      ]
     },
     "execution_count": 25,
     "metadata": {},
     "output_type": "execute_result"
    }
   ],
   "source": [
    "contract_adj.loc[contract_adj['EndDate'] == 'No', 'EndDate'] = pd.to_datetime('2020-02-01')\n",
    "contract_adj.min()"
   ]
  },
  {
   "cell_type": "markdown",
   "id": "f31242ec",
   "metadata": {},
   "source": [
    "<div class=\"alert alert-danger\">\n",
    "<b>Комментарий ревьюера: &#10060; </b> Обрати, пожалуйста, внимание на end_date (во что преобразуются нули)Здесь пропуски лучше заполнить датой выгрузки из бд</div>"
   ]
  },
  {
   "cell_type": "markdown",
   "id": "4c935673",
   "metadata": {},
   "source": [
    "<div class=\"alert alert-info\"> <b>Юлия:</b>\n",
    "Заполнила датой 01/02/2020.\n",
    "</div>\n"
   ]
  },
  {
   "cell_type": "code",
   "execution_count": 26,
   "id": "c95a5992",
   "metadata": {},
   "outputs": [],
   "source": [
    "contract_adj['end_date'] = pd.to_datetime(contract_adj['EndDate']).dt.date"
   ]
  },
  {
   "cell_type": "code",
   "execution_count": 27,
   "id": "8204b553",
   "metadata": {},
   "outputs": [
    {
     "data": {
      "text/html": [
       "<div>\n",
       "<style scoped>\n",
       "    .dataframe tbody tr th:only-of-type {\n",
       "        vertical-align: middle;\n",
       "    }\n",
       "\n",
       "    .dataframe tbody tr th {\n",
       "        vertical-align: top;\n",
       "    }\n",
       "\n",
       "    .dataframe thead th {\n",
       "        text-align: right;\n",
       "    }\n",
       "</style>\n",
       "<table border=\"1\" class=\"dataframe\">\n",
       "  <thead>\n",
       "    <tr style=\"text-align: right;\">\n",
       "      <th></th>\n",
       "      <th>customerID</th>\n",
       "      <th>churned</th>\n",
       "      <th>BeginDate</th>\n",
       "      <th>EndDate</th>\n",
       "      <th>Type</th>\n",
       "      <th>PaperlessBilling</th>\n",
       "      <th>PaymentMethod</th>\n",
       "      <th>MonthlyCharges</th>\n",
       "      <th>TotalCharges</th>\n",
       "      <th>begin_date</th>\n",
       "      <th>end_date</th>\n",
       "    </tr>\n",
       "  </thead>\n",
       "  <tbody>\n",
       "    <tr>\n",
       "      <th>0</th>\n",
       "      <td>7590-VHVEG</td>\n",
       "      <td>1.0</td>\n",
       "      <td>2020-01-01</td>\n",
       "      <td>2020-02-01 00:00:00</td>\n",
       "      <td>Month-to-month</td>\n",
       "      <td>Yes</td>\n",
       "      <td>Electronic check</td>\n",
       "      <td>29.85</td>\n",
       "      <td>29.85</td>\n",
       "      <td>2020-01-01</td>\n",
       "      <td>2020-02-01</td>\n",
       "    </tr>\n",
       "    <tr>\n",
       "      <th>1</th>\n",
       "      <td>5575-GNVDE</td>\n",
       "      <td>1.0</td>\n",
       "      <td>2017-04-01</td>\n",
       "      <td>2020-02-01 00:00:00</td>\n",
       "      <td>One year</td>\n",
       "      <td>No</td>\n",
       "      <td>Mailed check</td>\n",
       "      <td>56.95</td>\n",
       "      <td>1889.5</td>\n",
       "      <td>2017-04-01</td>\n",
       "      <td>2020-02-01</td>\n",
       "    </tr>\n",
       "    <tr>\n",
       "      <th>2</th>\n",
       "      <td>3668-QPYBK</td>\n",
       "      <td>0.0</td>\n",
       "      <td>2019-10-01</td>\n",
       "      <td>2019-12-01 00:00:00</td>\n",
       "      <td>Month-to-month</td>\n",
       "      <td>Yes</td>\n",
       "      <td>Mailed check</td>\n",
       "      <td>53.85</td>\n",
       "      <td>108.15</td>\n",
       "      <td>2019-10-01</td>\n",
       "      <td>2019-12-01</td>\n",
       "    </tr>\n",
       "    <tr>\n",
       "      <th>3</th>\n",
       "      <td>7795-CFOCW</td>\n",
       "      <td>1.0</td>\n",
       "      <td>2016-05-01</td>\n",
       "      <td>2020-02-01 00:00:00</td>\n",
       "      <td>One year</td>\n",
       "      <td>No</td>\n",
       "      <td>Bank transfer (automatic)</td>\n",
       "      <td>42.30</td>\n",
       "      <td>1840.75</td>\n",
       "      <td>2016-05-01</td>\n",
       "      <td>2020-02-01</td>\n",
       "    </tr>\n",
       "    <tr>\n",
       "      <th>4</th>\n",
       "      <td>9237-HQITU</td>\n",
       "      <td>0.0</td>\n",
       "      <td>2019-09-01</td>\n",
       "      <td>2019-11-01 00:00:00</td>\n",
       "      <td>Month-to-month</td>\n",
       "      <td>Yes</td>\n",
       "      <td>Electronic check</td>\n",
       "      <td>70.70</td>\n",
       "      <td>151.65</td>\n",
       "      <td>2019-09-01</td>\n",
       "      <td>2019-11-01</td>\n",
       "    </tr>\n",
       "  </tbody>\n",
       "</table>\n",
       "</div>"
      ],
      "text/plain": [
       "   customerID  churned   BeginDate              EndDate            Type  \\\n",
       "0  7590-VHVEG      1.0  2020-01-01  2020-02-01 00:00:00  Month-to-month   \n",
       "1  5575-GNVDE      1.0  2017-04-01  2020-02-01 00:00:00        One year   \n",
       "2  3668-QPYBK      0.0  2019-10-01  2019-12-01 00:00:00  Month-to-month   \n",
       "3  7795-CFOCW      1.0  2016-05-01  2020-02-01 00:00:00        One year   \n",
       "4  9237-HQITU      0.0  2019-09-01  2019-11-01 00:00:00  Month-to-month   \n",
       "\n",
       "  PaperlessBilling              PaymentMethod  MonthlyCharges TotalCharges  \\\n",
       "0              Yes           Electronic check           29.85        29.85   \n",
       "1               No               Mailed check           56.95       1889.5   \n",
       "2              Yes               Mailed check           53.85       108.15   \n",
       "3               No  Bank transfer (automatic)           42.30      1840.75   \n",
       "4              Yes           Electronic check           70.70       151.65   \n",
       "\n",
       "   begin_date    end_date  \n",
       "0  2020-01-01  2020-02-01  \n",
       "1  2017-04-01  2020-02-01  \n",
       "2  2019-10-01  2019-12-01  \n",
       "3  2016-05-01  2020-02-01  \n",
       "4  2019-09-01  2019-11-01  "
      ]
     },
     "execution_count": 27,
     "metadata": {},
     "output_type": "execute_result"
    }
   ],
   "source": [
    "contract_adj.head(5)"
   ]
  },
  {
   "cell_type": "code",
   "execution_count": 28,
   "id": "99324115",
   "metadata": {
    "scrolled": false
   },
   "outputs": [
    {
     "data": {
      "text/plain": [
       "(7043, 11)"
      ]
     },
     "execution_count": 28,
     "metadata": {},
     "output_type": "execute_result"
    }
   ],
   "source": [
    "contract_adj.shape"
   ]
  },
  {
   "cell_type": "markdown",
   "id": "c8d1e92b",
   "metadata": {},
   "source": [
    "<div class=\"alert alert-danger\">\n",
    "<b>Комментарий ревьюера: &#10060; </b> Здесь вылетает ошибка</div>"
   ]
  },
  {
   "cell_type": "markdown",
   "id": "b7cee5d0",
   "metadata": {},
   "source": [
    "<div class=\"alert alert-info\"> <b>Юлия:</b>\n",
    "Поправила.\n",
    "</div>\n"
   ]
  },
  {
   "cell_type": "code",
   "execution_count": 29,
   "id": "6bc49ed4",
   "metadata": {
    "scrolled": true
   },
   "outputs": [
    {
     "data": {
      "text/html": [
       "<div>\n",
       "<style scoped>\n",
       "    .dataframe tbody tr th:only-of-type {\n",
       "        vertical-align: middle;\n",
       "    }\n",
       "\n",
       "    .dataframe tbody tr th {\n",
       "        vertical-align: top;\n",
       "    }\n",
       "\n",
       "    .dataframe thead th {\n",
       "        text-align: right;\n",
       "    }\n",
       "</style>\n",
       "<table border=\"1\" class=\"dataframe\">\n",
       "  <thead>\n",
       "    <tr style=\"text-align: right;\">\n",
       "      <th></th>\n",
       "      <th>churned</th>\n",
       "      <th>MonthlyCharges</th>\n",
       "    </tr>\n",
       "  </thead>\n",
       "  <tbody>\n",
       "    <tr>\n",
       "      <th>count</th>\n",
       "      <td>7043.000000</td>\n",
       "      <td>7043.000000</td>\n",
       "    </tr>\n",
       "    <tr>\n",
       "      <th>mean</th>\n",
       "      <td>0.734630</td>\n",
       "      <td>64.761692</td>\n",
       "    </tr>\n",
       "    <tr>\n",
       "      <th>std</th>\n",
       "      <td>0.441561</td>\n",
       "      <td>30.090047</td>\n",
       "    </tr>\n",
       "    <tr>\n",
       "      <th>min</th>\n",
       "      <td>0.000000</td>\n",
       "      <td>18.250000</td>\n",
       "    </tr>\n",
       "    <tr>\n",
       "      <th>25%</th>\n",
       "      <td>0.000000</td>\n",
       "      <td>35.500000</td>\n",
       "    </tr>\n",
       "    <tr>\n",
       "      <th>50%</th>\n",
       "      <td>1.000000</td>\n",
       "      <td>70.350000</td>\n",
       "    </tr>\n",
       "    <tr>\n",
       "      <th>75%</th>\n",
       "      <td>1.000000</td>\n",
       "      <td>89.850000</td>\n",
       "    </tr>\n",
       "    <tr>\n",
       "      <th>max</th>\n",
       "      <td>1.000000</td>\n",
       "      <td>118.750000</td>\n",
       "    </tr>\n",
       "  </tbody>\n",
       "</table>\n",
       "</div>"
      ],
      "text/plain": [
       "           churned  MonthlyCharges\n",
       "count  7043.000000     7043.000000\n",
       "mean      0.734630       64.761692\n",
       "std       0.441561       30.090047\n",
       "min       0.000000       18.250000\n",
       "25%       0.000000       35.500000\n",
       "50%       1.000000       70.350000\n",
       "75%       1.000000       89.850000\n",
       "max       1.000000      118.750000"
      ]
     },
     "execution_count": 29,
     "metadata": {},
     "output_type": "execute_result"
    }
   ],
   "source": [
    "contract_adj.describe()"
   ]
  },
  {
   "cell_type": "code",
   "execution_count": 30,
   "id": "eef3df27",
   "metadata": {},
   "outputs": [],
   "source": [
    "# contract_final = contract_adj.query('year_end != 1970')"
   ]
  },
  {
   "cell_type": "code",
   "execution_count": 31,
   "id": "c1b84ddc",
   "metadata": {
    "scrolled": true
   },
   "outputs": [],
   "source": [
    "# contract_final[contract_final['year_end'] == 1970]"
   ]
  },
  {
   "cell_type": "code",
   "execution_count": 32,
   "id": "b4b19517",
   "metadata": {},
   "outputs": [],
   "source": [
    "# data['Tenure'] = data['Tenure'].fillna(data.groupby('Balance')['Tenure'].transform('median'))\n",
    "# data['Tenure'].isna().sum() / len(data)"
   ]
  },
  {
   "cell_type": "code",
   "execution_count": 33,
   "id": "73822313",
   "metadata": {},
   "outputs": [
    {
     "data": {
      "text/plain": [
       "customerID          0\n",
       "churned             0\n",
       "BeginDate           0\n",
       "EndDate             0\n",
       "Type                0\n",
       "PaperlessBilling    0\n",
       "PaymentMethod       0\n",
       "MonthlyCharges      0\n",
       "TotalCharges        0\n",
       "begin_date          0\n",
       "end_date            0\n",
       "dtype: int64"
      ]
     },
     "execution_count": 33,
     "metadata": {},
     "output_type": "execute_result"
    }
   ],
   "source": [
    "contract_adj.isnull().sum()"
   ]
  },
  {
   "cell_type": "code",
   "execution_count": 34,
   "id": "9c38d687",
   "metadata": {},
   "outputs": [
    {
     "name": "stdout",
     "output_type": "stream",
     "text": [
      "<class 'pandas.core.frame.DataFrame'>\n",
      "Int64Index: 7043 entries, 0 to 7042\n",
      "Data columns (total 11 columns):\n",
      " #   Column            Non-Null Count  Dtype  \n",
      "---  ------            --------------  -----  \n",
      " 0   customerID        7043 non-null   object \n",
      " 1   churned           7043 non-null   float64\n",
      " 2   BeginDate         7043 non-null   object \n",
      " 3   EndDate           7043 non-null   object \n",
      " 4   Type              7043 non-null   object \n",
      " 5   PaperlessBilling  7043 non-null   object \n",
      " 6   PaymentMethod     7043 non-null   object \n",
      " 7   MonthlyCharges    7043 non-null   float64\n",
      " 8   TotalCharges      7043 non-null   object \n",
      " 9   begin_date        7043 non-null   object \n",
      " 10  end_date          7043 non-null   object \n",
      "dtypes: float64(2), object(9)\n",
      "memory usage: 660.3+ KB\n"
     ]
    }
   ],
   "source": [
    "contract_adj.info()"
   ]
  },
  {
   "cell_type": "code",
   "execution_count": 35,
   "id": "1db68d90",
   "metadata": {},
   "outputs": [],
   "source": [
    "# изменим тип данных, где приведены целочисленные значения\n",
    "contract_adj['churned'] = contract_adj['churned'].astype('int')"
   ]
  },
  {
   "cell_type": "code",
   "execution_count": 36,
   "id": "03f3f8cc",
   "metadata": {},
   "outputs": [],
   "source": [
    "contract_adj['TotalCharges'] = np.floor(pd.to_numeric(contract_adj['TotalCharges'], errors='coerce')).astype('float64')"
   ]
  },
  {
   "cell_type": "markdown",
   "id": "93e1e121",
   "metadata": {},
   "source": [
    "<div class=\"alert alert-danger\">\n",
    "<b>Комментарий ревьюера: &#10060; </b> Не совсем понятно зачем здесь округление, поясни, пожалуйста</div>"
   ]
  },
  {
   "cell_type": "markdown",
   "id": "c32efbc3",
   "metadata": {},
   "source": [
    "<div class=\"alert alert-info\"> <b>Юлия:</b>\n",
    "    \n",
    "Округления здесь нет.\n",
    "    \n",
    "- churned имеет тип переменной float, но так как это бинарная переменная, я перевожу в int();\n",
    "- TotalCharges имеет тип переменной object, но является числом с двумя знаками после запятой, поэтому перевожу в тип float64.\n",
    "</div>\n"
   ]
  },
  {
   "cell_type": "code",
   "execution_count": 37,
   "id": "8c98bad0",
   "metadata": {},
   "outputs": [],
   "source": [
    "contract_adj = contract_adj.drop(columns=['BeginDate'])\n",
    "contract_adj = contract_adj.drop(columns=['EndDate'])"
   ]
  },
  {
   "cell_type": "code",
   "execution_count": 38,
   "id": "cd297d4d",
   "metadata": {
    "scrolled": true
   },
   "outputs": [
    {
     "name": "stdout",
     "output_type": "stream",
     "text": [
      "<class 'pandas.core.frame.DataFrame'>\n",
      "Int64Index: 7043 entries, 0 to 7042\n",
      "Data columns (total 9 columns):\n",
      " #   Column            Non-Null Count  Dtype  \n",
      "---  ------            --------------  -----  \n",
      " 0   customerID        7043 non-null   object \n",
      " 1   churned           7043 non-null   int64  \n",
      " 2   Type              7043 non-null   object \n",
      " 3   PaperlessBilling  7043 non-null   object \n",
      " 4   PaymentMethod     7043 non-null   object \n",
      " 5   MonthlyCharges    7043 non-null   float64\n",
      " 6   TotalCharges      7032 non-null   float64\n",
      " 7   begin_date        7043 non-null   object \n",
      " 8   end_date          7043 non-null   object \n",
      "dtypes: float64(2), int64(1), object(6)\n",
      "memory usage: 550.2+ KB\n"
     ]
    }
   ],
   "source": [
    "contract_adj.info()"
   ]
  },
  {
   "cell_type": "code",
   "execution_count": 39,
   "id": "a9902011",
   "metadata": {},
   "outputs": [
    {
     "data": {
      "text/plain": [
       "Index(['TotalCharges'], dtype='object')"
      ]
     },
     "execution_count": 39,
     "metadata": {},
     "output_type": "execute_result"
    }
   ],
   "source": [
    "contract_adj.columns[contract_adj.isnull().any()]"
   ]
  },
  {
   "cell_type": "markdown",
   "id": "00de7f23",
   "metadata": {},
   "source": [
    "### *Вывод `contract`:* В данных создана отдельная колонка бинарного целевого признака со значениями 0, 1 в зависимости от того, являлся ли клиент действующим или нет. Решение было принято на основе наличия конечной даты контакта в исходных данных `EndDate`. Также были изменены типы переменных, вместо исходных колонок с датой начало и окончаения контракта в разных форматах, были созданы две новые колонки в едином формате даты. Финальная версия данных `contract` содержит 9 признаков (включая целевой) и 7043 наблюдения и готова к дальнейшему использованию. В колонке `TotalCharges` содержатся пропущенные значения. "
   ]
  },
  {
   "cell_type": "markdown",
   "id": "72ab45fe",
   "metadata": {},
   "source": [
    "<div class=\"alert alert-success\">\n",
    "<b>Комментарий ревьюера:\n",
    "&#9989;</b> Хорошо! </div>"
   ]
  },
  {
   "cell_type": "markdown",
   "id": "111ffce4",
   "metadata": {},
   "source": [
    "- ####  `internet`"
   ]
  },
  {
   "cell_type": "code",
   "execution_count": 40,
   "id": "e7b718d5",
   "metadata": {},
   "outputs": [],
   "source": [
    "# read the file handling exceptions\n",
    "try:\n",
    "    internet = pd.read_csv('/Users/yuliabezginova/PycharmProjects/00_files-for_NLP/final_provider/internet.csv') #, index_col=[0])\n",
    "except FileNotFoundError:\n",
    "    internet = pd.read_csv('/datasets/final_provider/internet.csv') #, index_col=[0])"
   ]
  },
  {
   "cell_type": "code",
   "execution_count": 41,
   "id": "fac1408a",
   "metadata": {},
   "outputs": [
    {
     "data": {
      "text/html": [
       "<div>\n",
       "<style scoped>\n",
       "    .dataframe tbody tr th:only-of-type {\n",
       "        vertical-align: middle;\n",
       "    }\n",
       "\n",
       "    .dataframe tbody tr th {\n",
       "        vertical-align: top;\n",
       "    }\n",
       "\n",
       "    .dataframe thead th {\n",
       "        text-align: right;\n",
       "    }\n",
       "</style>\n",
       "<table border=\"1\" class=\"dataframe\">\n",
       "  <thead>\n",
       "    <tr style=\"text-align: right;\">\n",
       "      <th></th>\n",
       "      <th>customerID</th>\n",
       "      <th>InternetService</th>\n",
       "      <th>OnlineSecurity</th>\n",
       "      <th>OnlineBackup</th>\n",
       "      <th>DeviceProtection</th>\n",
       "      <th>TechSupport</th>\n",
       "      <th>StreamingTV</th>\n",
       "      <th>StreamingMovies</th>\n",
       "    </tr>\n",
       "  </thead>\n",
       "  <tbody>\n",
       "    <tr>\n",
       "      <th>0</th>\n",
       "      <td>7590-VHVEG</td>\n",
       "      <td>DSL</td>\n",
       "      <td>No</td>\n",
       "      <td>Yes</td>\n",
       "      <td>No</td>\n",
       "      <td>No</td>\n",
       "      <td>No</td>\n",
       "      <td>No</td>\n",
       "    </tr>\n",
       "    <tr>\n",
       "      <th>1</th>\n",
       "      <td>5575-GNVDE</td>\n",
       "      <td>DSL</td>\n",
       "      <td>Yes</td>\n",
       "      <td>No</td>\n",
       "      <td>Yes</td>\n",
       "      <td>No</td>\n",
       "      <td>No</td>\n",
       "      <td>No</td>\n",
       "    </tr>\n",
       "    <tr>\n",
       "      <th>2</th>\n",
       "      <td>3668-QPYBK</td>\n",
       "      <td>DSL</td>\n",
       "      <td>Yes</td>\n",
       "      <td>Yes</td>\n",
       "      <td>No</td>\n",
       "      <td>No</td>\n",
       "      <td>No</td>\n",
       "      <td>No</td>\n",
       "    </tr>\n",
       "  </tbody>\n",
       "</table>\n",
       "</div>"
      ],
      "text/plain": [
       "   customerID InternetService OnlineSecurity OnlineBackup DeviceProtection  \\\n",
       "0  7590-VHVEG             DSL             No          Yes               No   \n",
       "1  5575-GNVDE             DSL            Yes           No              Yes   \n",
       "2  3668-QPYBK             DSL            Yes          Yes               No   \n",
       "\n",
       "  TechSupport StreamingTV StreamingMovies  \n",
       "0          No          No              No  \n",
       "1          No          No              No  \n",
       "2          No          No              No  "
      ]
     },
     "execution_count": 41,
     "metadata": {},
     "output_type": "execute_result"
    }
   ],
   "source": [
    "internet.head(3)"
   ]
  },
  {
   "cell_type": "code",
   "execution_count": 42,
   "id": "71e5bf3e",
   "metadata": {},
   "outputs": [
    {
     "data": {
      "text/plain": [
       "customerID          0\n",
       "InternetService     0\n",
       "OnlineSecurity      0\n",
       "OnlineBackup        0\n",
       "DeviceProtection    0\n",
       "TechSupport         0\n",
       "StreamingTV         0\n",
       "StreamingMovies     0\n",
       "dtype: int64"
      ]
     },
     "execution_count": 42,
     "metadata": {},
     "output_type": "execute_result"
    }
   ],
   "source": [
    "# проверка на пропущенные значения и дубликаты\n",
    "internet.isnull().sum()"
   ]
  },
  {
   "cell_type": "code",
   "execution_count": 43,
   "id": "8b63f728",
   "metadata": {},
   "outputs": [
    {
     "data": {
      "text/plain": [
       "Index([], dtype='object')"
      ]
     },
     "execution_count": 43,
     "metadata": {},
     "output_type": "execute_result"
    }
   ],
   "source": [
    "internet.columns[internet.isnull().any()]"
   ]
  },
  {
   "cell_type": "code",
   "execution_count": 44,
   "id": "313c4c19",
   "metadata": {},
   "outputs": [
    {
     "data": {
      "text/plain": [
       "array(['DSL', 'Fiber optic'], dtype=object)"
      ]
     },
     "execution_count": 44,
     "metadata": {},
     "output_type": "execute_result"
    }
   ],
   "source": [
    "# проверка на аномалии в категориях\n",
    "internet['InternetService'].unique()"
   ]
  },
  {
   "cell_type": "code",
   "execution_count": 45,
   "id": "ce192633",
   "metadata": {},
   "outputs": [
    {
     "data": {
      "text/plain": [
       "array(['No', 'Yes'], dtype=object)"
      ]
     },
     "execution_count": 45,
     "metadata": {},
     "output_type": "execute_result"
    }
   ],
   "source": [
    "internet['OnlineSecurity'].unique()"
   ]
  },
  {
   "cell_type": "code",
   "execution_count": 46,
   "id": "c6d4de1c",
   "metadata": {},
   "outputs": [
    {
     "data": {
      "text/plain": [
       "array(['Yes', 'No'], dtype=object)"
      ]
     },
     "execution_count": 46,
     "metadata": {},
     "output_type": "execute_result"
    }
   ],
   "source": [
    "internet['OnlineBackup'].unique()"
   ]
  },
  {
   "cell_type": "code",
   "execution_count": 47,
   "id": "2c11c44e",
   "metadata": {},
   "outputs": [
    {
     "data": {
      "text/plain": [
       "array(['No', 'Yes'], dtype=object)"
      ]
     },
     "execution_count": 47,
     "metadata": {},
     "output_type": "execute_result"
    }
   ],
   "source": [
    "internet['DeviceProtection'].unique()"
   ]
  },
  {
   "cell_type": "code",
   "execution_count": 48,
   "id": "b90b374c",
   "metadata": {},
   "outputs": [
    {
     "data": {
      "text/plain": [
       "array(['No', 'Yes'], dtype=object)"
      ]
     },
     "execution_count": 48,
     "metadata": {},
     "output_type": "execute_result"
    }
   ],
   "source": [
    "internet['TechSupport'].unique()"
   ]
  },
  {
   "cell_type": "code",
   "execution_count": 49,
   "id": "32a147fa",
   "metadata": {},
   "outputs": [
    {
     "data": {
      "text/plain": [
       "array(['No', 'Yes'], dtype=object)"
      ]
     },
     "execution_count": 49,
     "metadata": {},
     "output_type": "execute_result"
    }
   ],
   "source": [
    "internet['StreamingTV'].unique()"
   ]
  },
  {
   "cell_type": "code",
   "execution_count": 50,
   "id": "867586cf",
   "metadata": {},
   "outputs": [
    {
     "data": {
      "text/plain": [
       "array(['No', 'Yes'], dtype=object)"
      ]
     },
     "execution_count": 50,
     "metadata": {},
     "output_type": "execute_result"
    }
   ],
   "source": [
    "internet['StreamingMovies'].unique()"
   ]
  },
  {
   "cell_type": "markdown",
   "id": "33f233db",
   "metadata": {},
   "source": [
    "### *Вывод:* Данные `internet` содержат категориальные переменные, не содержат пропусков. Аномальных значений в категориях не обнаружено. Данные готовы к дальнейшему анализу."
   ]
  },
  {
   "cell_type": "markdown",
   "id": "3b829c8d",
   "metadata": {},
   "source": [
    "<div class=\"alert alert-success\">\n",
    "<b>Комментарий ревьюера:\n",
    "&#9989;</b> Хорошо! </div>"
   ]
  },
  {
   "cell_type": "markdown",
   "id": "0dd28642",
   "metadata": {},
   "source": [
    "- ####  `personal`"
   ]
  },
  {
   "cell_type": "code",
   "execution_count": 51,
   "id": "e1b22ed3",
   "metadata": {},
   "outputs": [],
   "source": [
    "# read the file handling exceptions\n",
    "try:\n",
    "    personal = pd.read_csv('/Users/yuliabezginova/PycharmProjects/00_files-for_NLP/final_provider/personal.csv') #, index_col=[0])\n",
    "except FileNotFoundError:\n",
    "    personal = pd.read_csv('/datasets/final_provider/personal.csv') #, index_col=[0])"
   ]
  },
  {
   "cell_type": "code",
   "execution_count": 52,
   "id": "db500090",
   "metadata": {
    "scrolled": true
   },
   "outputs": [
    {
     "data": {
      "text/html": [
       "<div>\n",
       "<style scoped>\n",
       "    .dataframe tbody tr th:only-of-type {\n",
       "        vertical-align: middle;\n",
       "    }\n",
       "\n",
       "    .dataframe tbody tr th {\n",
       "        vertical-align: top;\n",
       "    }\n",
       "\n",
       "    .dataframe thead th {\n",
       "        text-align: right;\n",
       "    }\n",
       "</style>\n",
       "<table border=\"1\" class=\"dataframe\">\n",
       "  <thead>\n",
       "    <tr style=\"text-align: right;\">\n",
       "      <th></th>\n",
       "      <th>customerID</th>\n",
       "      <th>gender</th>\n",
       "      <th>SeniorCitizen</th>\n",
       "      <th>Partner</th>\n",
       "      <th>Dependents</th>\n",
       "    </tr>\n",
       "  </thead>\n",
       "  <tbody>\n",
       "    <tr>\n",
       "      <th>0</th>\n",
       "      <td>7590-VHVEG</td>\n",
       "      <td>Female</td>\n",
       "      <td>0</td>\n",
       "      <td>Yes</td>\n",
       "      <td>No</td>\n",
       "    </tr>\n",
       "    <tr>\n",
       "      <th>1</th>\n",
       "      <td>5575-GNVDE</td>\n",
       "      <td>Male</td>\n",
       "      <td>0</td>\n",
       "      <td>No</td>\n",
       "      <td>No</td>\n",
       "    </tr>\n",
       "    <tr>\n",
       "      <th>2</th>\n",
       "      <td>3668-QPYBK</td>\n",
       "      <td>Male</td>\n",
       "      <td>0</td>\n",
       "      <td>No</td>\n",
       "      <td>No</td>\n",
       "    </tr>\n",
       "  </tbody>\n",
       "</table>\n",
       "</div>"
      ],
      "text/plain": [
       "   customerID  gender  SeniorCitizen Partner Dependents\n",
       "0  7590-VHVEG  Female              0     Yes         No\n",
       "1  5575-GNVDE    Male              0      No         No\n",
       "2  3668-QPYBK    Male              0      No         No"
      ]
     },
     "execution_count": 52,
     "metadata": {},
     "output_type": "execute_result"
    }
   ],
   "source": [
    "personal.head(3)"
   ]
  },
  {
   "cell_type": "code",
   "execution_count": 53,
   "id": "3ed330bf",
   "metadata": {},
   "outputs": [
    {
     "data": {
      "text/plain": [
       "customerID       0\n",
       "gender           0\n",
       "SeniorCitizen    0\n",
       "Partner          0\n",
       "Dependents       0\n",
       "dtype: int64"
      ]
     },
     "execution_count": 53,
     "metadata": {},
     "output_type": "execute_result"
    }
   ],
   "source": [
    "# проверка на пропущенные значения и дубликаты\n",
    "personal.isnull().sum()"
   ]
  },
  {
   "cell_type": "code",
   "execution_count": 54,
   "id": "bb229084",
   "metadata": {},
   "outputs": [
    {
     "data": {
      "text/plain": [
       "array(['Female', 'Male'], dtype=object)"
      ]
     },
     "execution_count": 54,
     "metadata": {},
     "output_type": "execute_result"
    }
   ],
   "source": [
    "personal['gender'].unique()"
   ]
  },
  {
   "cell_type": "code",
   "execution_count": 55,
   "id": "53ae4fb4",
   "metadata": {},
   "outputs": [
    {
     "data": {
      "text/plain": [
       "array([0, 1])"
      ]
     },
     "execution_count": 55,
     "metadata": {},
     "output_type": "execute_result"
    }
   ],
   "source": [
    "personal['SeniorCitizen'].unique()"
   ]
  },
  {
   "cell_type": "code",
   "execution_count": 56,
   "id": "b819a7b1",
   "metadata": {},
   "outputs": [
    {
     "data": {
      "text/plain": [
       "array(['Yes', 'No'], dtype=object)"
      ]
     },
     "execution_count": 56,
     "metadata": {},
     "output_type": "execute_result"
    }
   ],
   "source": [
    "personal['Partner'].unique()"
   ]
  },
  {
   "cell_type": "code",
   "execution_count": 57,
   "id": "561140ec",
   "metadata": {},
   "outputs": [
    {
     "data": {
      "text/plain": [
       "array(['No', 'Yes'], dtype=object)"
      ]
     },
     "execution_count": 57,
     "metadata": {},
     "output_type": "execute_result"
    }
   ],
   "source": [
    "personal['Dependents'].unique()"
   ]
  },
  {
   "cell_type": "markdown",
   "id": "fe43b278",
   "metadata": {},
   "source": [
    "### *Вывод:* Данные `personal` содержат категориальные переменные, не содержат пропусков. Аномальных значений в категориях не обнаружено. Данные готовы к дальнейшему анализу."
   ]
  },
  {
   "cell_type": "markdown",
   "id": "61973d3d",
   "metadata": {},
   "source": [
    "<div class=\"alert alert-success\">\n",
    "<b>Комментарий ревьюера:\n",
    "&#9989;</b> Хорошо! </div>"
   ]
  },
  {
   "cell_type": "markdown",
   "id": "ad71e163",
   "metadata": {},
   "source": [
    "- ####  `phone`"
   ]
  },
  {
   "cell_type": "code",
   "execution_count": 58,
   "id": "5b1bfee3",
   "metadata": {},
   "outputs": [],
   "source": [
    "# read the file handling exceptions\n",
    "try:\n",
    "    phone = pd.read_csv('/Users/yuliabezginova/PycharmProjects/00_files-for_NLP/final_provider/phone.csv') #, index_col=[0])\n",
    "except FileNotFoundError:\n",
    "    phone = pd.read_csv('/datasets/final_provider/phone.csv') #, index_col=[0])"
   ]
  },
  {
   "cell_type": "code",
   "execution_count": 59,
   "id": "5041c959",
   "metadata": {
    "scrolled": true
   },
   "outputs": [
    {
     "data": {
      "text/html": [
       "<div>\n",
       "<style scoped>\n",
       "    .dataframe tbody tr th:only-of-type {\n",
       "        vertical-align: middle;\n",
       "    }\n",
       "\n",
       "    .dataframe tbody tr th {\n",
       "        vertical-align: top;\n",
       "    }\n",
       "\n",
       "    .dataframe thead th {\n",
       "        text-align: right;\n",
       "    }\n",
       "</style>\n",
       "<table border=\"1\" class=\"dataframe\">\n",
       "  <thead>\n",
       "    <tr style=\"text-align: right;\">\n",
       "      <th></th>\n",
       "      <th>customerID</th>\n",
       "      <th>MultipleLines</th>\n",
       "    </tr>\n",
       "  </thead>\n",
       "  <tbody>\n",
       "    <tr>\n",
       "      <th>0</th>\n",
       "      <td>5575-GNVDE</td>\n",
       "      <td>No</td>\n",
       "    </tr>\n",
       "    <tr>\n",
       "      <th>1</th>\n",
       "      <td>3668-QPYBK</td>\n",
       "      <td>No</td>\n",
       "    </tr>\n",
       "    <tr>\n",
       "      <th>2</th>\n",
       "      <td>9237-HQITU</td>\n",
       "      <td>No</td>\n",
       "    </tr>\n",
       "  </tbody>\n",
       "</table>\n",
       "</div>"
      ],
      "text/plain": [
       "   customerID MultipleLines\n",
       "0  5575-GNVDE            No\n",
       "1  3668-QPYBK            No\n",
       "2  9237-HQITU            No"
      ]
     },
     "execution_count": 59,
     "metadata": {},
     "output_type": "execute_result"
    }
   ],
   "source": [
    "phone.head(3)"
   ]
  },
  {
   "cell_type": "code",
   "execution_count": 60,
   "id": "00e8157e",
   "metadata": {},
   "outputs": [
    {
     "data": {
      "text/plain": [
       "customerID       0\n",
       "MultipleLines    0\n",
       "dtype: int64"
      ]
     },
     "execution_count": 60,
     "metadata": {},
     "output_type": "execute_result"
    }
   ],
   "source": [
    "# проверка на пропущенные значения и дубликаты\n",
    "phone.isnull().sum()"
   ]
  },
  {
   "cell_type": "markdown",
   "id": "51b3f381",
   "metadata": {},
   "source": [
    "### *Вывод:* Данные `phone` содержат категориальные переменные, не содержат пропусков. Аномальных значений в категориях не обнаружено. Данные готовы к дальнейшему анализу."
   ]
  },
  {
   "cell_type": "markdown",
   "id": "9f2cba9d",
   "metadata": {},
   "source": [
    "<div class=\"alert alert-success\">\n",
    "<b>Комментарий ревьюера:\n",
    "&#9989;</b> Хорошо! </div>"
   ]
  },
  {
   "cell_type": "markdown",
   "id": "49e26229",
   "metadata": {},
   "source": [
    "### *Общий вывод:* Все четыре датасета подготовлены к дальнейшему анализу."
   ]
  },
  {
   "attachments": {
    "image.png": {
     "image/png": "[encoded data removed]"
    }
   },
   "cell_type": "markdown",
   "id": "2cc3f47d",
   "metadata": {},
   "source": [
    "## 2 Исследовательский анализ данных\n",
    "![image.png](attachment:image.png)"
   ]
  },
  {
   "cell_type": "markdown",
   "id": "526ef614",
   "metadata": {},
   "source": [
    "### 2.1 Подготовка финального датасета"
   ]
  },
  {
   "cell_type": "code",
   "execution_count": 61,
   "id": "31fad53a",
   "metadata": {},
   "outputs": [],
   "source": [
    "df_1 = contract_adj.merge(personal, on='customerID', how='left')\n",
    "df_2 = df_1.merge(phone, on='customerID', how='left')\n",
    "df = df_2.merge(internet, on='customerID', how='left')"
   ]
  },
  {
   "cell_type": "markdown",
   "id": "d17f43e4",
   "metadata": {},
   "source": [
    "<div class=\"alert alert-danger\">\n",
    "<b>Комментарий ревьюера: &#10060; </b> Также вылетает ошибка, переменная не объявлена</div>"
   ]
  },
  {
   "cell_type": "markdown",
   "id": "6f368f6b",
   "metadata": {},
   "source": [
    "<div class=\"alert alert-info\"> <b>Юлия:</b>\n",
    "Поправила.\n",
    "</div>\n"
   ]
  },
  {
   "cell_type": "code",
   "execution_count": 62,
   "id": "2dcefe3c",
   "metadata": {},
   "outputs": [
    {
     "data": {
      "text/plain": [
       "(7043, 21)"
      ]
     },
     "execution_count": 62,
     "metadata": {},
     "output_type": "execute_result"
    }
   ],
   "source": [
    "df.shape"
   ]
  },
  {
   "cell_type": "code",
   "execution_count": 63,
   "id": "ffc0a169",
   "metadata": {
    "scrolled": true
   },
   "outputs": [
    {
     "data": {
      "text/html": [
       "<div>\n",
       "<style scoped>\n",
       "    .dataframe tbody tr th:only-of-type {\n",
       "        vertical-align: middle;\n",
       "    }\n",
       "\n",
       "    .dataframe tbody tr th {\n",
       "        vertical-align: top;\n",
       "    }\n",
       "\n",
       "    .dataframe thead th {\n",
       "        text-align: right;\n",
       "    }\n",
       "</style>\n",
       "<table border=\"1\" class=\"dataframe\">\n",
       "  <thead>\n",
       "    <tr style=\"text-align: right;\">\n",
       "      <th></th>\n",
       "      <th>customerID</th>\n",
       "      <th>churned</th>\n",
       "      <th>Type</th>\n",
       "      <th>PaperlessBilling</th>\n",
       "      <th>PaymentMethod</th>\n",
       "      <th>MonthlyCharges</th>\n",
       "      <th>TotalCharges</th>\n",
       "      <th>begin_date</th>\n",
       "      <th>end_date</th>\n",
       "      <th>gender</th>\n",
       "      <th>...</th>\n",
       "      <th>Partner</th>\n",
       "      <th>Dependents</th>\n",
       "      <th>MultipleLines</th>\n",
       "      <th>InternetService</th>\n",
       "      <th>OnlineSecurity</th>\n",
       "      <th>OnlineBackup</th>\n",
       "      <th>DeviceProtection</th>\n",
       "      <th>TechSupport</th>\n",
       "      <th>StreamingTV</th>\n",
       "      <th>StreamingMovies</th>\n",
       "    </tr>\n",
       "  </thead>\n",
       "  <tbody>\n",
       "    <tr>\n",
       "      <th>0</th>\n",
       "      <td>7590-VHVEG</td>\n",
       "      <td>1</td>\n",
       "      <td>Month-to-month</td>\n",
       "      <td>Yes</td>\n",
       "      <td>Electronic check</td>\n",
       "      <td>29.85</td>\n",
       "      <td>29.0</td>\n",
       "      <td>2020-01-01</td>\n",
       "      <td>2020-02-01</td>\n",
       "      <td>Female</td>\n",
       "      <td>...</td>\n",
       "      <td>Yes</td>\n",
       "      <td>No</td>\n",
       "      <td>NaN</td>\n",
       "      <td>DSL</td>\n",
       "      <td>No</td>\n",
       "      <td>Yes</td>\n",
       "      <td>No</td>\n",
       "      <td>No</td>\n",
       "      <td>No</td>\n",
       "      <td>No</td>\n",
       "    </tr>\n",
       "    <tr>\n",
       "      <th>1</th>\n",
       "      <td>5575-GNVDE</td>\n",
       "      <td>1</td>\n",
       "      <td>One year</td>\n",
       "      <td>No</td>\n",
       "      <td>Mailed check</td>\n",
       "      <td>56.95</td>\n",
       "      <td>1889.0</td>\n",
       "      <td>2017-04-01</td>\n",
       "      <td>2020-02-01</td>\n",
       "      <td>Male</td>\n",
       "      <td>...</td>\n",
       "      <td>No</td>\n",
       "      <td>No</td>\n",
       "      <td>No</td>\n",
       "      <td>DSL</td>\n",
       "      <td>Yes</td>\n",
       "      <td>No</td>\n",
       "      <td>Yes</td>\n",
       "      <td>No</td>\n",
       "      <td>No</td>\n",
       "      <td>No</td>\n",
       "    </tr>\n",
       "    <tr>\n",
       "      <th>2</th>\n",
       "      <td>3668-QPYBK</td>\n",
       "      <td>0</td>\n",
       "      <td>Month-to-month</td>\n",
       "      <td>Yes</td>\n",
       "      <td>Mailed check</td>\n",
       "      <td>53.85</td>\n",
       "      <td>108.0</td>\n",
       "      <td>2019-10-01</td>\n",
       "      <td>2019-12-01</td>\n",
       "      <td>Male</td>\n",
       "      <td>...</td>\n",
       "      <td>No</td>\n",
       "      <td>No</td>\n",
       "      <td>No</td>\n",
       "      <td>DSL</td>\n",
       "      <td>Yes</td>\n",
       "      <td>Yes</td>\n",
       "      <td>No</td>\n",
       "      <td>No</td>\n",
       "      <td>No</td>\n",
       "      <td>No</td>\n",
       "    </tr>\n",
       "  </tbody>\n",
       "</table>\n",
       "<p>3 rows × 21 columns</p>\n",
       "</div>"
      ],
      "text/plain": [
       "   customerID  churned            Type PaperlessBilling     PaymentMethod  \\\n",
       "0  7590-VHVEG        1  Month-to-month              Yes  Electronic check   \n",
       "1  5575-GNVDE        1        One year               No      Mailed check   \n",
       "2  3668-QPYBK        0  Month-to-month              Yes      Mailed check   \n",
       "\n",
       "   MonthlyCharges  TotalCharges  begin_date    end_date  gender  ...  Partner  \\\n",
       "0           29.85          29.0  2020-01-01  2020-02-01  Female  ...      Yes   \n",
       "1           56.95        1889.0  2017-04-01  2020-02-01    Male  ...       No   \n",
       "2           53.85         108.0  2019-10-01  2019-12-01    Male  ...       No   \n",
       "\n",
       "  Dependents MultipleLines InternetService OnlineSecurity OnlineBackup  \\\n",
       "0         No           NaN             DSL             No          Yes   \n",
       "1         No            No             DSL            Yes           No   \n",
       "2         No            No             DSL            Yes          Yes   \n",
       "\n",
       "  DeviceProtection TechSupport StreamingTV StreamingMovies  \n",
       "0               No          No          No              No  \n",
       "1              Yes          No          No              No  \n",
       "2               No          No          No              No  \n",
       "\n",
       "[3 rows x 21 columns]"
      ]
     },
     "execution_count": 63,
     "metadata": {},
     "output_type": "execute_result"
    }
   ],
   "source": [
    "df.head(3)"
   ]
  },
  {
   "cell_type": "code",
   "execution_count": 64,
   "id": "005422e6",
   "metadata": {
    "scrolled": true
   },
   "outputs": [
    {
     "name": "stdout",
     "output_type": "stream",
     "text": [
      "<class 'pandas.core.frame.DataFrame'>\n",
      "Int64Index: 7043 entries, 0 to 7042\n",
      "Data columns (total 21 columns):\n",
      " #   Column            Non-Null Count  Dtype  \n",
      "---  ------            --------------  -----  \n",
      " 0   customerID        7043 non-null   object \n",
      " 1   churned           7043 non-null   int64  \n",
      " 2   Type              7043 non-null   object \n",
      " 3   PaperlessBilling  7043 non-null   object \n",
      " 4   PaymentMethod     7043 non-null   object \n",
      " 5   MonthlyCharges    7043 non-null   float64\n",
      " 6   TotalCharges      7032 non-null   float64\n",
      " 7   begin_date        7043 non-null   object \n",
      " 8   end_date          7043 non-null   object \n",
      " 9   gender            7043 non-null   object \n",
      " 10  SeniorCitizen     7043 non-null   int64  \n",
      " 11  Partner           7043 non-null   object \n",
      " 12  Dependents        7043 non-null   object \n",
      " 13  MultipleLines     6361 non-null   object \n",
      " 14  InternetService   5517 non-null   object \n",
      " 15  OnlineSecurity    5517 non-null   object \n",
      " 16  OnlineBackup      5517 non-null   object \n",
      " 17  DeviceProtection  5517 non-null   object \n",
      " 18  TechSupport       5517 non-null   object \n",
      " 19  StreamingTV       5517 non-null   object \n",
      " 20  StreamingMovies   5517 non-null   object \n",
      "dtypes: float64(2), int64(2), object(17)\n",
      "memory usage: 1.2+ MB\n"
     ]
    }
   ],
   "source": [
    "df.info()"
   ]
  },
  {
   "cell_type": "markdown",
   "id": "a67b7ea6",
   "metadata": {},
   "source": [
    "### 2.2 Обработка пропусков"
   ]
  },
  {
   "cell_type": "code",
   "execution_count": 65,
   "id": "ed7d7ecf",
   "metadata": {
    "scrolled": true
   },
   "outputs": [],
   "source": [
    "# df = df.fillna(df.interpolate())\n",
    "# df.isnull().sum()"
   ]
  },
  {
   "cell_type": "code",
   "execution_count": 66,
   "id": "75411bcf",
   "metadata": {},
   "outputs": [
    {
     "data": {
      "text/html": [
       "<style type=\"text/css\">\n",
       "#T_890bd_row0_col0, #T_890bd_row1_col0, #T_890bd_row2_col0, #T_890bd_row3_col0, #T_890bd_row4_col0, #T_890bd_row5_col0, #T_890bd_row6_col0, #T_890bd_row7_col0, #T_890bd_row8_col0, #T_890bd_row9_col0, #T_890bd_row10_col0, #T_890bd_row11_col0, #T_890bd_row12_col0 {\n",
       "  background-color: #3b4cc0;\n",
       "  color: #f1f1f1;\n",
       "}\n",
       "#T_890bd_row13_col0 {\n",
       "  background-color: #d1dae9;\n",
       "  color: #000000;\n",
       "}\n",
       "#T_890bd_row14_col0, #T_890bd_row15_col0, #T_890bd_row16_col0, #T_890bd_row17_col0, #T_890bd_row18_col0, #T_890bd_row19_col0, #T_890bd_row20_col0 {\n",
       "  background-color: #b40426;\n",
       "  color: #f1f1f1;\n",
       "}\n",
       "</style>\n",
       "<table id=\"T_890bd\">\n",
       "  <thead>\n",
       "    <tr>\n",
       "      <th class=\"blank level0\" >&nbsp;</th>\n",
       "      <th id=\"T_890bd_level0_col0\" class=\"col_heading level0 col0\" >0</th>\n",
       "    </tr>\n",
       "  </thead>\n",
       "  <tbody>\n",
       "    <tr>\n",
       "      <th id=\"T_890bd_level0_row0\" class=\"row_heading level0 row0\" >customerID</th>\n",
       "      <td id=\"T_890bd_row0_col0\" class=\"data row0 col0\" >0.000000</td>\n",
       "    </tr>\n",
       "    <tr>\n",
       "      <th id=\"T_890bd_level0_row1\" class=\"row_heading level0 row1\" >churned</th>\n",
       "      <td id=\"T_890bd_row1_col0\" class=\"data row1 col0\" >0.000000</td>\n",
       "    </tr>\n",
       "    <tr>\n",
       "      <th id=\"T_890bd_level0_row2\" class=\"row_heading level0 row2\" >Type</th>\n",
       "      <td id=\"T_890bd_row2_col0\" class=\"data row2 col0\" >0.000000</td>\n",
       "    </tr>\n",
       "    <tr>\n",
       "      <th id=\"T_890bd_level0_row3\" class=\"row_heading level0 row3\" >PaperlessBilling</th>\n",
       "      <td id=\"T_890bd_row3_col0\" class=\"data row3 col0\" >0.000000</td>\n",
       "    </tr>\n",
       "    <tr>\n",
       "      <th id=\"T_890bd_level0_row4\" class=\"row_heading level0 row4\" >PaymentMethod</th>\n",
       "      <td id=\"T_890bd_row4_col0\" class=\"data row4 col0\" >0.000000</td>\n",
       "    </tr>\n",
       "    <tr>\n",
       "      <th id=\"T_890bd_level0_row5\" class=\"row_heading level0 row5\" >MonthlyCharges</th>\n",
       "      <td id=\"T_890bd_row5_col0\" class=\"data row5 col0\" >0.000000</td>\n",
       "    </tr>\n",
       "    <tr>\n",
       "      <th id=\"T_890bd_level0_row6\" class=\"row_heading level0 row6\" >TotalCharges</th>\n",
       "      <td id=\"T_890bd_row6_col0\" class=\"data row6 col0\" >0.000000</td>\n",
       "    </tr>\n",
       "    <tr>\n",
       "      <th id=\"T_890bd_level0_row7\" class=\"row_heading level0 row7\" >begin_date</th>\n",
       "      <td id=\"T_890bd_row7_col0\" class=\"data row7 col0\" >0.000000</td>\n",
       "    </tr>\n",
       "    <tr>\n",
       "      <th id=\"T_890bd_level0_row8\" class=\"row_heading level0 row8\" >end_date</th>\n",
       "      <td id=\"T_890bd_row8_col0\" class=\"data row8 col0\" >0.000000</td>\n",
       "    </tr>\n",
       "    <tr>\n",
       "      <th id=\"T_890bd_level0_row9\" class=\"row_heading level0 row9\" >gender</th>\n",
       "      <td id=\"T_890bd_row9_col0\" class=\"data row9 col0\" >0.000000</td>\n",
       "    </tr>\n",
       "    <tr>\n",
       "      <th id=\"T_890bd_level0_row10\" class=\"row_heading level0 row10\" >SeniorCitizen</th>\n",
       "      <td id=\"T_890bd_row10_col0\" class=\"data row10 col0\" >0.000000</td>\n",
       "    </tr>\n",
       "    <tr>\n",
       "      <th id=\"T_890bd_level0_row11\" class=\"row_heading level0 row11\" >Partner</th>\n",
       "      <td id=\"T_890bd_row11_col0\" class=\"data row11 col0\" >0.000000</td>\n",
       "    </tr>\n",
       "    <tr>\n",
       "      <th id=\"T_890bd_level0_row12\" class=\"row_heading level0 row12\" >Dependents</th>\n",
       "      <td id=\"T_890bd_row12_col0\" class=\"data row12 col0\" >0.000000</td>\n",
       "    </tr>\n",
       "    <tr>\n",
       "      <th id=\"T_890bd_level0_row13\" class=\"row_heading level0 row13\" >MultipleLines</th>\n",
       "      <td id=\"T_890bd_row13_col0\" class=\"data row13 col0\" >10.000000</td>\n",
       "    </tr>\n",
       "    <tr>\n",
       "      <th id=\"T_890bd_level0_row14\" class=\"row_heading level0 row14\" >InternetService</th>\n",
       "      <td id=\"T_890bd_row14_col0\" class=\"data row14 col0\" >22.000000</td>\n",
       "    </tr>\n",
       "    <tr>\n",
       "      <th id=\"T_890bd_level0_row15\" class=\"row_heading level0 row15\" >OnlineSecurity</th>\n",
       "      <td id=\"T_890bd_row15_col0\" class=\"data row15 col0\" >22.000000</td>\n",
       "    </tr>\n",
       "    <tr>\n",
       "      <th id=\"T_890bd_level0_row16\" class=\"row_heading level0 row16\" >OnlineBackup</th>\n",
       "      <td id=\"T_890bd_row16_col0\" class=\"data row16 col0\" >22.000000</td>\n",
       "    </tr>\n",
       "    <tr>\n",
       "      <th id=\"T_890bd_level0_row17\" class=\"row_heading level0 row17\" >DeviceProtection</th>\n",
       "      <td id=\"T_890bd_row17_col0\" class=\"data row17 col0\" >22.000000</td>\n",
       "    </tr>\n",
       "    <tr>\n",
       "      <th id=\"T_890bd_level0_row18\" class=\"row_heading level0 row18\" >TechSupport</th>\n",
       "      <td id=\"T_890bd_row18_col0\" class=\"data row18 col0\" >22.000000</td>\n",
       "    </tr>\n",
       "    <tr>\n",
       "      <th id=\"T_890bd_level0_row19\" class=\"row_heading level0 row19\" >StreamingTV</th>\n",
       "      <td id=\"T_890bd_row19_col0\" class=\"data row19 col0\" >22.000000</td>\n",
       "    </tr>\n",
       "    <tr>\n",
       "      <th id=\"T_890bd_level0_row20\" class=\"row_heading level0 row20\" >StreamingMovies</th>\n",
       "      <td id=\"T_890bd_row20_col0\" class=\"data row20 col0\" >22.000000</td>\n",
       "    </tr>\n",
       "  </tbody>\n",
       "</table>\n"
      ],
      "text/plain": [
       "<pandas.io.formats.style.Styler at 0x122767280>"
      ]
     },
     "execution_count": 66,
     "metadata": {},
     "output_type": "execute_result"
    }
   ],
   "source": [
    "pd.DataFrame(round(df.isna().mean()*100,)).style.background_gradient('coolwarm')"
   ]
  },
  {
   "cell_type": "code",
   "execution_count": 67,
   "id": "aff78c6a",
   "metadata": {
    "scrolled": true
   },
   "outputs": [
    {
     "data": {
      "text/plain": [
       "Index(['TotalCharges', 'MultipleLines', 'InternetService', 'OnlineSecurity',\n",
       "       'OnlineBackup', 'DeviceProtection', 'TechSupport', 'StreamingTV',\n",
       "       'StreamingMovies'],\n",
       "      dtype='object')"
      ]
     },
     "execution_count": 67,
     "metadata": {},
     "output_type": "execute_result"
    }
   ],
   "source": [
    "df.columns[df.isnull().any()]"
   ]
  },
  {
   "cell_type": "markdown",
   "id": "36217a86",
   "metadata": {},
   "source": [
    "### *Вывод:* В колонке ```MultipleLines``` пропуски в данных занимают менее 10% объема наблюдений, их можно безопасно удалить. Пропуски в колонках ```InternetService```, ```OnlineSecurity```, ```OnlineBackup```, ```DeviceProtection```, ```TechSupport```, ```StreamingTV```, ```StreamingMovies``` необходимо заполнить."
   ]
  },
  {
   "cell_type": "code",
   "execution_count": 68,
   "id": "8f00b791",
   "metadata": {},
   "outputs": [],
   "source": [
    "df_v1 = df.dropna(subset=['MultipleLines'])"
   ]
  },
  {
   "cell_type": "markdown",
   "id": "9bcd6ded",
   "metadata": {},
   "source": [
    "В колонке ```MultipleLines``` пропуски удалены, продолжим работать с пропусками в остальных колонках."
   ]
  },
  {
   "cell_type": "code",
   "execution_count": 69,
   "id": "5e5f21bb",
   "metadata": {
    "scrolled": true
   },
   "outputs": [
    {
     "name": "stdout",
     "output_type": "stream",
     "text": [
      "customerID             0\n",
      "churned                0\n",
      "Type                   0\n",
      "PaperlessBilling       0\n",
      "PaymentMethod          0\n",
      "MonthlyCharges         0\n",
      "TotalCharges           9\n",
      "begin_date             0\n",
      "end_date               0\n",
      "gender                 0\n",
      "SeniorCitizen          0\n",
      "Partner                0\n",
      "Dependents             0\n",
      "MultipleLines          0\n",
      "InternetService     1526\n",
      "OnlineSecurity      1526\n",
      "OnlineBackup        1526\n",
      "DeviceProtection    1526\n",
      "TechSupport         1526\n",
      "StreamingTV         1526\n",
      "StreamingMovies     1526\n",
      "dtype: int64\n"
     ]
    }
   ],
   "source": [
    "print(df_v1.isnull().sum(axis=0))"
   ]
  },
  {
   "cell_type": "code",
   "execution_count": 70,
   "id": "90ffb8a1",
   "metadata": {
    "scrolled": true
   },
   "outputs": [
    {
     "data": {
      "text/plain": [
       "array(['DSL', 'Fiber optic', nan], dtype=object)"
      ]
     },
     "execution_count": 70,
     "metadata": {},
     "output_type": "execute_result"
    }
   ],
   "source": [
    "df_v1['InternetService'].unique()"
   ]
  },
  {
   "cell_type": "code",
   "execution_count": 71,
   "id": "2aa841ad",
   "metadata": {},
   "outputs": [
    {
     "data": {
      "text/plain": [
       "0.23989938688885395"
      ]
     },
     "execution_count": 71,
     "metadata": {},
     "output_type": "execute_result"
    }
   ],
   "source": [
    "df_v1['InternetService'].isna().sum() / len(df_v1)"
   ]
  },
  {
   "cell_type": "code",
   "execution_count": 72,
   "id": "9b75c4c9",
   "metadata": {},
   "outputs": [
    {
     "data": {
      "text/plain": [
       "array(['Yes', 'No', nan], dtype=object)"
      ]
     },
     "execution_count": 72,
     "metadata": {},
     "output_type": "execute_result"
    }
   ],
   "source": [
    "df_v1['OnlineSecurity'].unique()"
   ]
  },
  {
   "cell_type": "code",
   "execution_count": 73,
   "id": "b23b5078",
   "metadata": {
    "scrolled": true
   },
   "outputs": [
    {
     "data": {
      "text/plain": [
       "0.23989938688885395"
      ]
     },
     "execution_count": 73,
     "metadata": {},
     "output_type": "execute_result"
    }
   ],
   "source": [
    "df_v1['OnlineSecurity'].isna().sum() / len(df_v1)"
   ]
  },
  {
   "cell_type": "code",
   "execution_count": 74,
   "id": "a489f872",
   "metadata": {},
   "outputs": [
    {
     "data": {
      "text/plain": [
       "array(['No', 'Yes', nan], dtype=object)"
      ]
     },
     "execution_count": 74,
     "metadata": {},
     "output_type": "execute_result"
    }
   ],
   "source": [
    "df_v1['OnlineBackup'].unique()"
   ]
  },
  {
   "cell_type": "code",
   "execution_count": 75,
   "id": "8b6d6de4",
   "metadata": {},
   "outputs": [
    {
     "data": {
      "text/plain": [
       "0.23989938688885395"
      ]
     },
     "execution_count": 75,
     "metadata": {},
     "output_type": "execute_result"
    }
   ],
   "source": [
    "df_v1['OnlineBackup'].isna().sum() / len(df_v1)"
   ]
  },
  {
   "cell_type": "code",
   "execution_count": 76,
   "id": "0b1bebcc",
   "metadata": {},
   "outputs": [
    {
     "data": {
      "text/plain": [
       "array(['Yes', 'No', nan], dtype=object)"
      ]
     },
     "execution_count": 76,
     "metadata": {},
     "output_type": "execute_result"
    }
   ],
   "source": [
    "df_v1['DeviceProtection'].unique()"
   ]
  },
  {
   "cell_type": "code",
   "execution_count": 77,
   "id": "b3ba6c94",
   "metadata": {},
   "outputs": [
    {
     "data": {
      "text/plain": [
       "0.23989938688885395"
      ]
     },
     "execution_count": 77,
     "metadata": {},
     "output_type": "execute_result"
    }
   ],
   "source": [
    "df_v1['DeviceProtection'].isna().sum() / len(df_v1)"
   ]
  },
  {
   "cell_type": "code",
   "execution_count": 78,
   "id": "9ca71b11",
   "metadata": {},
   "outputs": [
    {
     "data": {
      "text/plain": [
       "array(['No', 'Yes', nan], dtype=object)"
      ]
     },
     "execution_count": 78,
     "metadata": {},
     "output_type": "execute_result"
    }
   ],
   "source": [
    "df_v1['TechSupport'].unique()"
   ]
  },
  {
   "cell_type": "code",
   "execution_count": 79,
   "id": "a55eb4e2",
   "metadata": {},
   "outputs": [
    {
     "data": {
      "text/plain": [
       "0.23989938688885395"
      ]
     },
     "execution_count": 79,
     "metadata": {},
     "output_type": "execute_result"
    }
   ],
   "source": [
    "df_v1['TechSupport'].isna().sum() / len(df_v1)"
   ]
  },
  {
   "cell_type": "code",
   "execution_count": 80,
   "id": "90c474cf",
   "metadata": {},
   "outputs": [
    {
     "data": {
      "text/plain": [
       "array(['No', 'Yes', nan], dtype=object)"
      ]
     },
     "execution_count": 80,
     "metadata": {},
     "output_type": "execute_result"
    }
   ],
   "source": [
    "df_v1['StreamingTV'].unique()"
   ]
  },
  {
   "cell_type": "code",
   "execution_count": 81,
   "id": "4e97b639",
   "metadata": {},
   "outputs": [
    {
     "data": {
      "text/plain": [
       "0.23989938688885395"
      ]
     },
     "execution_count": 81,
     "metadata": {},
     "output_type": "execute_result"
    }
   ],
   "source": [
    "df_v1['StreamingTV'].isna().sum() / len(df_v1)"
   ]
  },
  {
   "cell_type": "code",
   "execution_count": 82,
   "id": "1770086b",
   "metadata": {},
   "outputs": [
    {
     "data": {
      "text/plain": [
       "array(['No', 'Yes', nan], dtype=object)"
      ]
     },
     "execution_count": 82,
     "metadata": {},
     "output_type": "execute_result"
    }
   ],
   "source": [
    "df_v1['StreamingTV'].unique()"
   ]
  },
  {
   "cell_type": "code",
   "execution_count": 83,
   "id": "0fe33e65",
   "metadata": {},
   "outputs": [
    {
     "data": {
      "text/plain": [
       "0.23989938688885395"
      ]
     },
     "execution_count": 83,
     "metadata": {},
     "output_type": "execute_result"
    }
   ],
   "source": [
    "df_v1['StreamingTV'].isna().sum() / len(df_v1)"
   ]
  },
  {
   "cell_type": "code",
   "execution_count": 84,
   "id": "a121cbc4",
   "metadata": {},
   "outputs": [
    {
     "data": {
      "text/plain": [
       "array(['No', 'Yes', nan], dtype=object)"
      ]
     },
     "execution_count": 84,
     "metadata": {},
     "output_type": "execute_result"
    }
   ],
   "source": [
    "df_v1['StreamingMovies'].unique()"
   ]
  },
  {
   "cell_type": "code",
   "execution_count": 85,
   "id": "be1dec24",
   "metadata": {},
   "outputs": [
    {
     "data": {
      "text/plain": [
       "0.23989938688885395"
      ]
     },
     "execution_count": 85,
     "metadata": {},
     "output_type": "execute_result"
    }
   ],
   "source": [
    "df_v1['StreamingMovies'].isna().sum() / len(df_v1)"
   ]
  },
  {
   "cell_type": "code",
   "execution_count": 86,
   "id": "5bbc2bc8",
   "metadata": {},
   "outputs": [],
   "source": [
    "# filling with most common class\n",
    "df_filled = df_v1.apply(lambda x: x.fillna(x.value_counts().index[0]))"
   ]
  },
  {
   "cell_type": "code",
   "execution_count": 87,
   "id": "37621032",
   "metadata": {},
   "outputs": [
    {
     "data": {
      "text/html": [
       "<style type=\"text/css\">\n",
       "#T_d3035_row0_col0, #T_d3035_row1_col0, #T_d3035_row2_col0, #T_d3035_row3_col0, #T_d3035_row4_col0, #T_d3035_row5_col0, #T_d3035_row6_col0, #T_d3035_row7_col0, #T_d3035_row8_col0, #T_d3035_row9_col0, #T_d3035_row10_col0, #T_d3035_row11_col0, #T_d3035_row12_col0, #T_d3035_row13_col0, #T_d3035_row14_col0, #T_d3035_row15_col0, #T_d3035_row16_col0, #T_d3035_row17_col0, #T_d3035_row18_col0, #T_d3035_row19_col0, #T_d3035_row20_col0 {\n",
       "  background-color: #3b4cc0;\n",
       "  color: #f1f1f1;\n",
       "}\n",
       "</style>\n",
       "<table id=\"T_d3035\">\n",
       "  <thead>\n",
       "    <tr>\n",
       "      <th class=\"blank level0\" >&nbsp;</th>\n",
       "      <th id=\"T_d3035_level0_col0\" class=\"col_heading level0 col0\" >0</th>\n",
       "    </tr>\n",
       "  </thead>\n",
       "  <tbody>\n",
       "    <tr>\n",
       "      <th id=\"T_d3035_level0_row0\" class=\"row_heading level0 row0\" >customerID</th>\n",
       "      <td id=\"T_d3035_row0_col0\" class=\"data row0 col0\" >0.000000</td>\n",
       "    </tr>\n",
       "    <tr>\n",
       "      <th id=\"T_d3035_level0_row1\" class=\"row_heading level0 row1\" >churned</th>\n",
       "      <td id=\"T_d3035_row1_col0\" class=\"data row1 col0\" >0.000000</td>\n",
       "    </tr>\n",
       "    <tr>\n",
       "      <th id=\"T_d3035_level0_row2\" class=\"row_heading level0 row2\" >Type</th>\n",
       "      <td id=\"T_d3035_row2_col0\" class=\"data row2 col0\" >0.000000</td>\n",
       "    </tr>\n",
       "    <tr>\n",
       "      <th id=\"T_d3035_level0_row3\" class=\"row_heading level0 row3\" >PaperlessBilling</th>\n",
       "      <td id=\"T_d3035_row3_col0\" class=\"data row3 col0\" >0.000000</td>\n",
       "    </tr>\n",
       "    <tr>\n",
       "      <th id=\"T_d3035_level0_row4\" class=\"row_heading level0 row4\" >PaymentMethod</th>\n",
       "      <td id=\"T_d3035_row4_col0\" class=\"data row4 col0\" >0.000000</td>\n",
       "    </tr>\n",
       "    <tr>\n",
       "      <th id=\"T_d3035_level0_row5\" class=\"row_heading level0 row5\" >MonthlyCharges</th>\n",
       "      <td id=\"T_d3035_row5_col0\" class=\"data row5 col0\" >0.000000</td>\n",
       "    </tr>\n",
       "    <tr>\n",
       "      <th id=\"T_d3035_level0_row6\" class=\"row_heading level0 row6\" >TotalCharges</th>\n",
       "      <td id=\"T_d3035_row6_col0\" class=\"data row6 col0\" >0.000000</td>\n",
       "    </tr>\n",
       "    <tr>\n",
       "      <th id=\"T_d3035_level0_row7\" class=\"row_heading level0 row7\" >begin_date</th>\n",
       "      <td id=\"T_d3035_row7_col0\" class=\"data row7 col0\" >0.000000</td>\n",
       "    </tr>\n",
       "    <tr>\n",
       "      <th id=\"T_d3035_level0_row8\" class=\"row_heading level0 row8\" >end_date</th>\n",
       "      <td id=\"T_d3035_row8_col0\" class=\"data row8 col0\" >0.000000</td>\n",
       "    </tr>\n",
       "    <tr>\n",
       "      <th id=\"T_d3035_level0_row9\" class=\"row_heading level0 row9\" >gender</th>\n",
       "      <td id=\"T_d3035_row9_col0\" class=\"data row9 col0\" >0.000000</td>\n",
       "    </tr>\n",
       "    <tr>\n",
       "      <th id=\"T_d3035_level0_row10\" class=\"row_heading level0 row10\" >SeniorCitizen</th>\n",
       "      <td id=\"T_d3035_row10_col0\" class=\"data row10 col0\" >0.000000</td>\n",
       "    </tr>\n",
       "    <tr>\n",
       "      <th id=\"T_d3035_level0_row11\" class=\"row_heading level0 row11\" >Partner</th>\n",
       "      <td id=\"T_d3035_row11_col0\" class=\"data row11 col0\" >0.000000</td>\n",
       "    </tr>\n",
       "    <tr>\n",
       "      <th id=\"T_d3035_level0_row12\" class=\"row_heading level0 row12\" >Dependents</th>\n",
       "      <td id=\"T_d3035_row12_col0\" class=\"data row12 col0\" >0.000000</td>\n",
       "    </tr>\n",
       "    <tr>\n",
       "      <th id=\"T_d3035_level0_row13\" class=\"row_heading level0 row13\" >MultipleLines</th>\n",
       "      <td id=\"T_d3035_row13_col0\" class=\"data row13 col0\" >0.000000</td>\n",
       "    </tr>\n",
       "    <tr>\n",
       "      <th id=\"T_d3035_level0_row14\" class=\"row_heading level0 row14\" >InternetService</th>\n",
       "      <td id=\"T_d3035_row14_col0\" class=\"data row14 col0\" >0.000000</td>\n",
       "    </tr>\n",
       "    <tr>\n",
       "      <th id=\"T_d3035_level0_row15\" class=\"row_heading level0 row15\" >OnlineSecurity</th>\n",
       "      <td id=\"T_d3035_row15_col0\" class=\"data row15 col0\" >0.000000</td>\n",
       "    </tr>\n",
       "    <tr>\n",
       "      <th id=\"T_d3035_level0_row16\" class=\"row_heading level0 row16\" >OnlineBackup</th>\n",
       "      <td id=\"T_d3035_row16_col0\" class=\"data row16 col0\" >0.000000</td>\n",
       "    </tr>\n",
       "    <tr>\n",
       "      <th id=\"T_d3035_level0_row17\" class=\"row_heading level0 row17\" >DeviceProtection</th>\n",
       "      <td id=\"T_d3035_row17_col0\" class=\"data row17 col0\" >0.000000</td>\n",
       "    </tr>\n",
       "    <tr>\n",
       "      <th id=\"T_d3035_level0_row18\" class=\"row_heading level0 row18\" >TechSupport</th>\n",
       "      <td id=\"T_d3035_row18_col0\" class=\"data row18 col0\" >0.000000</td>\n",
       "    </tr>\n",
       "    <tr>\n",
       "      <th id=\"T_d3035_level0_row19\" class=\"row_heading level0 row19\" >StreamingTV</th>\n",
       "      <td id=\"T_d3035_row19_col0\" class=\"data row19 col0\" >0.000000</td>\n",
       "    </tr>\n",
       "    <tr>\n",
       "      <th id=\"T_d3035_level0_row20\" class=\"row_heading level0 row20\" >StreamingMovies</th>\n",
       "      <td id=\"T_d3035_row20_col0\" class=\"data row20 col0\" >0.000000</td>\n",
       "    </tr>\n",
       "  </tbody>\n",
       "</table>\n"
      ],
      "text/plain": [
       "<pandas.io.formats.style.Styler at 0x10accfcd0>"
      ]
     },
     "execution_count": 87,
     "metadata": {},
     "output_type": "execute_result"
    }
   ],
   "source": [
    "pd.DataFrame(round(df_filled.isna().mean()*100,)).style.background_gradient('coolwarm')"
   ]
  },
  {
   "cell_type": "markdown",
   "id": "0198bcbd",
   "metadata": {},
   "source": [
    "### 2.3 Проверка данных на явные дубликаты"
   ]
  },
  {
   "cell_type": "code",
   "execution_count": 88,
   "id": "3dd7680b",
   "metadata": {},
   "outputs": [
    {
     "data": {
      "text/plain": [
       "0"
      ]
     },
     "execution_count": 88,
     "metadata": {},
     "output_type": "execute_result"
    }
   ],
   "source": [
    "df_filled.duplicated().sum()"
   ]
  },
  {
   "cell_type": "markdown",
   "id": "b557a5b5",
   "metadata": {},
   "source": [
    "### 2.4 Финальная проверка признаков на дисбаланс и аномалии различного рода"
   ]
  },
  {
   "cell_type": "code",
   "execution_count": 89,
   "id": "573264f7",
   "metadata": {},
   "outputs": [
    {
     "data": {
      "text/plain": [
       "Index(['customerID', 'churned', 'Type', 'PaperlessBilling', 'PaymentMethod',\n",
       "       'MonthlyCharges', 'TotalCharges', 'begin_date', 'end_date', 'gender',\n",
       "       'SeniorCitizen', 'Partner', 'Dependents', 'MultipleLines',\n",
       "       'InternetService', 'OnlineSecurity', 'OnlineBackup', 'DeviceProtection',\n",
       "       'TechSupport', 'StreamingTV', 'StreamingMovies'],\n",
       "      dtype='object')"
      ]
     },
     "execution_count": 89,
     "metadata": {},
     "output_type": "execute_result"
    }
   ],
   "source": [
    "df_filled.columns"
   ]
  },
  {
   "cell_type": "code",
   "execution_count": 90,
   "id": "5bba582d",
   "metadata": {},
   "outputs": [
    {
     "data": {
      "text/plain": [
       "array(['One year', 'Month-to-month', 'Two year'], dtype=object)"
      ]
     },
     "execution_count": 90,
     "metadata": {},
     "output_type": "execute_result"
    }
   ],
   "source": [
    "df_filled['Type'].unique()"
   ]
  },
  {
   "cell_type": "code",
   "execution_count": 91,
   "id": "5e63d052",
   "metadata": {},
   "outputs": [
    {
     "data": {
      "text/plain": [
       "Month-to-month    3499\n",
       "Two year          1534\n",
       "One year          1328\n",
       "Name: Type, dtype: int64"
      ]
     },
     "execution_count": 91,
     "metadata": {},
     "output_type": "execute_result"
    }
   ],
   "source": [
    "# проверка на дисбаланс\n",
    "df_filled['Type'].value_counts()"
   ]
  },
  {
   "cell_type": "code",
   "execution_count": 92,
   "id": "8d397579",
   "metadata": {
    "scrolled": true
   },
   "outputs": [
    {
     "data": {
      "text/plain": [
       "array(['No', 'Yes'], dtype=object)"
      ]
     },
     "execution_count": 92,
     "metadata": {},
     "output_type": "execute_result"
    }
   ],
   "source": [
    "df_filled['PaperlessBilling'].unique()"
   ]
  },
  {
   "cell_type": "code",
   "execution_count": 93,
   "id": "c3951d4b",
   "metadata": {},
   "outputs": [
    {
     "data": {
      "text/plain": [
       "Yes    3784\n",
       "No     2577\n",
       "Name: PaperlessBilling, dtype: int64"
      ]
     },
     "execution_count": 93,
     "metadata": {},
     "output_type": "execute_result"
    }
   ],
   "source": [
    "# проверка на дисбаланс\n",
    "df_filled['PaperlessBilling'].value_counts()"
   ]
  },
  {
   "cell_type": "code",
   "execution_count": 94,
   "id": "2f542253",
   "metadata": {},
   "outputs": [
    {
     "data": {
      "text/plain": [
       "array(['Mailed check', 'Electronic check', 'Credit card (automatic)',\n",
       "       'Bank transfer (automatic)'], dtype=object)"
      ]
     },
     "execution_count": 94,
     "metadata": {},
     "output_type": "execute_result"
    }
   ],
   "source": [
    "df_filled['PaymentMethod'].unique()"
   ]
  },
  {
   "cell_type": "code",
   "execution_count": 95,
   "id": "8ec05eba",
   "metadata": {},
   "outputs": [
    {
     "data": {
      "text/plain": [
       "Electronic check             2139\n",
       "Mailed check                 1453\n",
       "Bank transfer (automatic)    1401\n",
       "Credit card (automatic)      1368\n",
       "Name: PaymentMethod, dtype: int64"
      ]
     },
     "execution_count": 95,
     "metadata": {},
     "output_type": "execute_result"
    }
   ],
   "source": [
    "# проверка на дисбаланс\n",
    "df_filled['PaymentMethod'].value_counts()"
   ]
  },
  {
   "cell_type": "code",
   "execution_count": 96,
   "id": "3eb25aca",
   "metadata": {},
   "outputs": [
    {
     "data": {
      "text/plain": [
       "array([ 56.95,  53.85,  70.7 , ..., 108.35,  44.2 ,  78.7 ])"
      ]
     },
     "execution_count": 96,
     "metadata": {},
     "output_type": "execute_result"
    }
   ],
   "source": [
    "df_filled['MonthlyCharges'].unique()"
   ]
  },
  {
   "cell_type": "code",
   "execution_count": 97,
   "id": "63896d24",
   "metadata": {},
   "outputs": [
    {
     "data": {
      "text/plain": [
       "count    6361.000000\n",
       "mean       67.199041\n",
       "std        30.449604\n",
       "min        18.250000\n",
       "25%        44.750000\n",
       "50%        74.700000\n",
       "75%        91.250000\n",
       "max       118.750000\n",
       "Name: MonthlyCharges, dtype: float64"
      ]
     },
     "execution_count": 97,
     "metadata": {},
     "output_type": "execute_result"
    }
   ],
   "source": [
    "# проверка описательных статистик\n",
    "df_filled['MonthlyCharges'].describe()"
   ]
  },
  {
   "cell_type": "code",
   "execution_count": 98,
   "id": "f340757e",
   "metadata": {
    "scrolled": true
   },
   "outputs": [
    {
     "data": {
      "text/plain": [
       "array([1889.,  108.,  151., ..., 1990., 7362., 6844.])"
      ]
     },
     "execution_count": 98,
     "metadata": {},
     "output_type": "execute_result"
    }
   ],
   "source": [
    "df_filled['TotalCharges'].unique()"
   ]
  },
  {
   "cell_type": "code",
   "execution_count": 99,
   "id": "5bef17f5",
   "metadata": {},
   "outputs": [
    {
     "data": {
      "text/plain": [
       "count    6361.000000\n",
       "mean     2363.316460\n",
       "std      2328.849064\n",
       "min        18.000000\n",
       "25%       413.000000\n",
       "50%      1417.000000\n",
       "75%      4024.000000\n",
       "max      8684.000000\n",
       "Name: TotalCharges, dtype: float64"
      ]
     },
     "execution_count": 99,
     "metadata": {},
     "output_type": "execute_result"
    }
   ],
   "source": [
    "# проверка на дисбаланс\n",
    "df_filled['TotalCharges'].describe()"
   ]
  },
  {
   "cell_type": "code",
   "execution_count": 100,
   "id": "09c93529",
   "metadata": {},
   "outputs": [
    {
     "data": {
      "text/plain": [
       "array(['Male', 'Female'], dtype=object)"
      ]
     },
     "execution_count": 100,
     "metadata": {},
     "output_type": "execute_result"
    }
   ],
   "source": [
    "df_filled['gender'].unique()"
   ]
  },
  {
   "cell_type": "code",
   "execution_count": 101,
   "id": "b4b541b3",
   "metadata": {},
   "outputs": [
    {
     "data": {
      "text/plain": [
       "Male      3204\n",
       "Female    3157\n",
       "Name: gender, dtype: int64"
      ]
     },
     "execution_count": 101,
     "metadata": {},
     "output_type": "execute_result"
    }
   ],
   "source": [
    "# проверка на дисбаланс\n",
    "df_filled['gender'].value_counts()"
   ]
  },
  {
   "cell_type": "code",
   "execution_count": 102,
   "id": "fe6c4799",
   "metadata": {
    "scrolled": true
   },
   "outputs": [
    {
     "data": {
      "text/plain": [
       "array([0, 1])"
      ]
     },
     "execution_count": 102,
     "metadata": {},
     "output_type": "execute_result"
    }
   ],
   "source": [
    "df_filled['SeniorCitizen'].unique()"
   ]
  },
  {
   "cell_type": "code",
   "execution_count": 103,
   "id": "3f871100",
   "metadata": {},
   "outputs": [
    {
     "data": {
      "text/plain": [
       "0    5323\n",
       "1    1038\n",
       "Name: SeniorCitizen, dtype: int64"
      ]
     },
     "execution_count": 103,
     "metadata": {},
     "output_type": "execute_result"
    }
   ],
   "source": [
    "# проверка на дисбаланс\n",
    "df_filled['SeniorCitizen'].value_counts() # признак несбалансирован"
   ]
  },
  {
   "cell_type": "code",
   "execution_count": 104,
   "id": "cc8b855e",
   "metadata": {
    "scrolled": true
   },
   "outputs": [
    {
     "data": {
      "text/plain": [
       "array(['No', 'Yes'], dtype=object)"
      ]
     },
     "execution_count": 104,
     "metadata": {},
     "output_type": "execute_result"
    }
   ],
   "source": [
    "df_filled['Partner'].unique()"
   ]
  },
  {
   "cell_type": "code",
   "execution_count": 105,
   "id": "03756dff",
   "metadata": {},
   "outputs": [
    {
     "data": {
      "text/plain": [
       "No     3270\n",
       "Yes    3091\n",
       "Name: Partner, dtype: int64"
      ]
     },
     "execution_count": 105,
     "metadata": {},
     "output_type": "execute_result"
    }
   ],
   "source": [
    "# проверка на дисбаланс\n",
    "df_filled['Partner'].value_counts()"
   ]
  },
  {
   "cell_type": "code",
   "execution_count": 106,
   "id": "ccb4146b",
   "metadata": {
    "scrolled": true
   },
   "outputs": [
    {
     "data": {
      "text/plain": [
       "array(['No', 'Yes'], dtype=object)"
      ]
     },
     "execution_count": 106,
     "metadata": {},
     "output_type": "execute_result"
    }
   ],
   "source": [
    "df_filled['MultipleLines'].unique()"
   ]
  },
  {
   "cell_type": "code",
   "execution_count": 107,
   "id": "b1f2b52b",
   "metadata": {},
   "outputs": [
    {
     "data": {
      "text/plain": [
       "No     3390\n",
       "Yes    2971\n",
       "Name: MultipleLines, dtype: int64"
      ]
     },
     "execution_count": 107,
     "metadata": {},
     "output_type": "execute_result"
    }
   ],
   "source": [
    "# проверка на дисбаланс\n",
    "df_filled['MultipleLines'].value_counts()"
   ]
  },
  {
   "cell_type": "code",
   "execution_count": 108,
   "id": "0148d65a",
   "metadata": {
    "scrolled": true
   },
   "outputs": [
    {
     "data": {
      "text/plain": [
       "array(['No', 'Yes'], dtype=object)"
      ]
     },
     "execution_count": 108,
     "metadata": {},
     "output_type": "execute_result"
    }
   ],
   "source": [
    "df_filled['Dependents'].unique()"
   ]
  },
  {
   "cell_type": "code",
   "execution_count": 109,
   "id": "a561f2b9",
   "metadata": {},
   "outputs": [
    {
     "data": {
      "text/plain": [
       "No     4457\n",
       "Yes    1904\n",
       "Name: Dependents, dtype: int64"
      ]
     },
     "execution_count": 109,
     "metadata": {},
     "output_type": "execute_result"
    }
   ],
   "source": [
    "# проверка на дисбаланс\n",
    "df_filled['Dependents'].value_counts() # признак несбалансирован"
   ]
  },
  {
   "cell_type": "code",
   "execution_count": 110,
   "id": "55b566ef",
   "metadata": {},
   "outputs": [
    {
     "data": {
      "text/plain": [
       "array(['DSL', 'Fiber optic'], dtype=object)"
      ]
     },
     "execution_count": 110,
     "metadata": {},
     "output_type": "execute_result"
    }
   ],
   "source": [
    "df_filled['InternetService'].unique()"
   ]
  },
  {
   "cell_type": "code",
   "execution_count": 111,
   "id": "e20f2395",
   "metadata": {},
   "outputs": [
    {
     "data": {
      "text/plain": [
       "Fiber optic    4622\n",
       "DSL            1739\n",
       "Name: InternetService, dtype: int64"
      ]
     },
     "execution_count": 111,
     "metadata": {},
     "output_type": "execute_result"
    }
   ],
   "source": [
    "# проверка на дисбаланс\n",
    "df_filled['InternetService'].value_counts() # признак несбалансирован"
   ]
  },
  {
   "cell_type": "code",
   "execution_count": 112,
   "id": "e611face",
   "metadata": {
    "scrolled": true
   },
   "outputs": [
    {
     "data": {
      "text/plain": [
       "array(['Yes', 'No'], dtype=object)"
      ]
     },
     "execution_count": 112,
     "metadata": {},
     "output_type": "execute_result"
    }
   ],
   "source": [
    "df_filled['OnlineSecurity'].unique()"
   ]
  },
  {
   "cell_type": "code",
   "execution_count": 113,
   "id": "795d78ea",
   "metadata": {},
   "outputs": [
    {
     "data": {
      "text/plain": [
       "No     4625\n",
       "Yes    1736\n",
       "Name: OnlineSecurity, dtype: int64"
      ]
     },
     "execution_count": 113,
     "metadata": {},
     "output_type": "execute_result"
    }
   ],
   "source": [
    "# проверка на дисбаланс\n",
    "df_filled['OnlineSecurity'].value_counts() # признак несбалансирован"
   ]
  },
  {
   "cell_type": "code",
   "execution_count": 114,
   "id": "4a899cc0",
   "metadata": {
    "scrolled": true
   },
   "outputs": [
    {
     "data": {
      "text/plain": [
       "array(['No', 'Yes'], dtype=object)"
      ]
     },
     "execution_count": 114,
     "metadata": {},
     "output_type": "execute_result"
    }
   ],
   "source": [
    "df_filled['OnlineBackup'].unique()"
   ]
  },
  {
   "cell_type": "code",
   "execution_count": 115,
   "id": "790447ee",
   "metadata": {},
   "outputs": [
    {
     "data": {
      "text/plain": [
       "No     4219\n",
       "Yes    2142\n",
       "Name: OnlineBackup, dtype: int64"
      ]
     },
     "execution_count": 115,
     "metadata": {},
     "output_type": "execute_result"
    }
   ],
   "source": [
    "# проверка на дисбаланс\n",
    "df_filled['OnlineBackup'].value_counts()"
   ]
  },
  {
   "cell_type": "code",
   "execution_count": 116,
   "id": "bbb3d36a",
   "metadata": {},
   "outputs": [
    {
     "data": {
      "text/plain": [
       "array(['Yes', 'No'], dtype=object)"
      ]
     },
     "execution_count": 116,
     "metadata": {},
     "output_type": "execute_result"
    }
   ],
   "source": [
    "df_filled['DeviceProtection'].unique()"
   ]
  },
  {
   "cell_type": "code",
   "execution_count": 117,
   "id": "9d45d74b",
   "metadata": {},
   "outputs": [
    {
     "data": {
      "text/plain": [
       "No     4244\n",
       "Yes    2117\n",
       "Name: DeviceProtection, dtype: int64"
      ]
     },
     "execution_count": 117,
     "metadata": {},
     "output_type": "execute_result"
    }
   ],
   "source": [
    "# проверка на дисбаланс\n",
    "df_filled['DeviceProtection'].value_counts()"
   ]
  },
  {
   "cell_type": "code",
   "execution_count": 118,
   "id": "f26fa209",
   "metadata": {},
   "outputs": [
    {
     "data": {
      "text/plain": [
       "array(['No', 'Yes'], dtype=object)"
      ]
     },
     "execution_count": 118,
     "metadata": {},
     "output_type": "execute_result"
    }
   ],
   "source": [
    "df_filled['TechSupport'].unique()"
   ]
  },
  {
   "cell_type": "code",
   "execution_count": 119,
   "id": "afa648ca",
   "metadata": {},
   "outputs": [
    {
     "data": {
      "text/plain": [
       "No     4606\n",
       "Yes    1755\n",
       "Name: TechSupport, dtype: int64"
      ]
     },
     "execution_count": 119,
     "metadata": {},
     "output_type": "execute_result"
    }
   ],
   "source": [
    "# проверка на дисбаланс\n",
    "df_filled['TechSupport'].value_counts() # признак несбалансирован"
   ]
  },
  {
   "cell_type": "code",
   "execution_count": 120,
   "id": "3efa010c",
   "metadata": {},
   "outputs": [
    {
     "data": {
      "text/plain": [
       "array(['No', 'Yes'], dtype=object)"
      ]
     },
     "execution_count": 120,
     "metadata": {},
     "output_type": "execute_result"
    }
   ],
   "source": [
    "df_filled['StreamingTV'].unique()"
   ]
  },
  {
   "cell_type": "code",
   "execution_count": 121,
   "id": "9894e32b",
   "metadata": {},
   "outputs": [
    {
     "data": {
      "text/plain": [
       "Yes    3948\n",
       "No     2413\n",
       "Name: StreamingTV, dtype: int64"
      ]
     },
     "execution_count": 121,
     "metadata": {},
     "output_type": "execute_result"
    }
   ],
   "source": [
    "# проверка на дисбаланс\n",
    "df_filled['StreamingTV'].value_counts()"
   ]
  },
  {
   "cell_type": "code",
   "execution_count": 122,
   "id": "5c59ad5a",
   "metadata": {},
   "outputs": [
    {
     "data": {
      "text/plain": [
       "array(['No', 'Yes'], dtype=object)"
      ]
     },
     "execution_count": 122,
     "metadata": {},
     "output_type": "execute_result"
    }
   ],
   "source": [
    "df_filled['StreamingMovies'].unique()"
   ]
  },
  {
   "cell_type": "code",
   "execution_count": 123,
   "id": "99e6f567",
   "metadata": {},
   "outputs": [
    {
     "data": {
      "text/plain": [
       "Yes    3960\n",
       "No     2401\n",
       "Name: StreamingMovies, dtype: int64"
      ]
     },
     "execution_count": 123,
     "metadata": {},
     "output_type": "execute_result"
    }
   ],
   "source": [
    "# проверка на дисбаланс\n",
    "df_filled['StreamingMovies'].value_counts() # признак несбалансирован"
   ]
  },
  {
   "cell_type": "code",
   "execution_count": 124,
   "id": "1204dfde",
   "metadata": {
    "scrolled": true
   },
   "outputs": [
    {
     "name": "stdout",
     "output_type": "stream",
     "text": [
      "<class 'pandas.core.frame.DataFrame'>\n",
      "Int64Index: 6361 entries, 1 to 7042\n",
      "Data columns (total 21 columns):\n",
      " #   Column            Non-Null Count  Dtype  \n",
      "---  ------            --------------  -----  \n",
      " 0   customerID        6361 non-null   object \n",
      " 1   churned           6361 non-null   int64  \n",
      " 2   Type              6361 non-null   object \n",
      " 3   PaperlessBilling  6361 non-null   object \n",
      " 4   PaymentMethod     6361 non-null   object \n",
      " 5   MonthlyCharges    6361 non-null   float64\n",
      " 6   TotalCharges      6361 non-null   float64\n",
      " 7   begin_date        6361 non-null   object \n",
      " 8   end_date          6361 non-null   object \n",
      " 9   gender            6361 non-null   object \n",
      " 10  SeniorCitizen     6361 non-null   int64  \n",
      " 11  Partner           6361 non-null   object \n",
      " 12  Dependents        6361 non-null   object \n",
      " 13  MultipleLines     6361 non-null   object \n",
      " 14  InternetService   6361 non-null   object \n",
      " 15  OnlineSecurity    6361 non-null   object \n",
      " 16  OnlineBackup      6361 non-null   object \n",
      " 17  DeviceProtection  6361 non-null   object \n",
      " 18  TechSupport       6361 non-null   object \n",
      " 19  StreamingTV       6361 non-null   object \n",
      " 20  StreamingMovies   6361 non-null   object \n",
      "dtypes: float64(2), int64(2), object(17)\n",
      "memory usage: 1.1+ MB\n"
     ]
    }
   ],
   "source": [
    "df_filled.info()"
   ]
  },
  {
   "cell_type": "code",
   "execution_count": 125,
   "id": "a1e3bbe2",
   "metadata": {},
   "outputs": [
    {
     "data": {
      "text/plain": [
       "(6361, 21)"
      ]
     },
     "execution_count": 125,
     "metadata": {},
     "output_type": "execute_result"
    }
   ],
   "source": [
    "df_filled.shape"
   ]
  },
  {
   "cell_type": "markdown",
   "id": "852099dd",
   "metadata": {},
   "source": [
    "### *Вывод:* Данные чистые, дубликатов нет, аномалии не обнаружены. Финальный датасет после удаления признаков становится небольшим, что может негативно сказаться на качестве обучения модели. Это нужно учесть в дальнейшей работе. Большая часть признаков - категориальные, бинарные переменные, которые необходимо закодировать."
   ]
  },
  {
   "cell_type": "code",
   "execution_count": 126,
   "id": "627e7c4b",
   "metadata": {},
   "outputs": [
    {
     "data": {
      "text/html": [
       "<div>\n",
       "<style scoped>\n",
       "    .dataframe tbody tr th:only-of-type {\n",
       "        vertical-align: middle;\n",
       "    }\n",
       "\n",
       "    .dataframe tbody tr th {\n",
       "        vertical-align: top;\n",
       "    }\n",
       "\n",
       "    .dataframe thead th {\n",
       "        text-align: right;\n",
       "    }\n",
       "</style>\n",
       "<table border=\"1\" class=\"dataframe\">\n",
       "  <thead>\n",
       "    <tr style=\"text-align: right;\">\n",
       "      <th></th>\n",
       "      <th>customerID</th>\n",
       "      <th>churned</th>\n",
       "      <th>Type</th>\n",
       "      <th>PaperlessBilling</th>\n",
       "      <th>PaymentMethod</th>\n",
       "      <th>MonthlyCharges</th>\n",
       "      <th>TotalCharges</th>\n",
       "      <th>begin_date</th>\n",
       "      <th>end_date</th>\n",
       "      <th>gender</th>\n",
       "      <th>...</th>\n",
       "      <th>Partner</th>\n",
       "      <th>Dependents</th>\n",
       "      <th>MultipleLines</th>\n",
       "      <th>InternetService</th>\n",
       "      <th>OnlineSecurity</th>\n",
       "      <th>OnlineBackup</th>\n",
       "      <th>DeviceProtection</th>\n",
       "      <th>TechSupport</th>\n",
       "      <th>StreamingTV</th>\n",
       "      <th>StreamingMovies</th>\n",
       "    </tr>\n",
       "  </thead>\n",
       "  <tbody>\n",
       "    <tr>\n",
       "      <th>1</th>\n",
       "      <td>5575-GNVDE</td>\n",
       "      <td>1</td>\n",
       "      <td>One year</td>\n",
       "      <td>No</td>\n",
       "      <td>Mailed check</td>\n",
       "      <td>56.95</td>\n",
       "      <td>1889.0</td>\n",
       "      <td>2017-04-01</td>\n",
       "      <td>2020-02-01</td>\n",
       "      <td>Male</td>\n",
       "      <td>...</td>\n",
       "      <td>No</td>\n",
       "      <td>No</td>\n",
       "      <td>No</td>\n",
       "      <td>DSL</td>\n",
       "      <td>Yes</td>\n",
       "      <td>No</td>\n",
       "      <td>Yes</td>\n",
       "      <td>No</td>\n",
       "      <td>No</td>\n",
       "      <td>No</td>\n",
       "    </tr>\n",
       "    <tr>\n",
       "      <th>2</th>\n",
       "      <td>3668-QPYBK</td>\n",
       "      <td>0</td>\n",
       "      <td>Month-to-month</td>\n",
       "      <td>Yes</td>\n",
       "      <td>Mailed check</td>\n",
       "      <td>53.85</td>\n",
       "      <td>108.0</td>\n",
       "      <td>2019-10-01</td>\n",
       "      <td>2019-12-01</td>\n",
       "      <td>Male</td>\n",
       "      <td>...</td>\n",
       "      <td>No</td>\n",
       "      <td>No</td>\n",
       "      <td>No</td>\n",
       "      <td>DSL</td>\n",
       "      <td>Yes</td>\n",
       "      <td>Yes</td>\n",
       "      <td>No</td>\n",
       "      <td>No</td>\n",
       "      <td>No</td>\n",
       "      <td>No</td>\n",
       "    </tr>\n",
       "    <tr>\n",
       "      <th>4</th>\n",
       "      <td>9237-HQITU</td>\n",
       "      <td>0</td>\n",
       "      <td>Month-to-month</td>\n",
       "      <td>Yes</td>\n",
       "      <td>Electronic check</td>\n",
       "      <td>70.70</td>\n",
       "      <td>151.0</td>\n",
       "      <td>2019-09-01</td>\n",
       "      <td>2019-11-01</td>\n",
       "      <td>Female</td>\n",
       "      <td>...</td>\n",
       "      <td>No</td>\n",
       "      <td>No</td>\n",
       "      <td>No</td>\n",
       "      <td>Fiber optic</td>\n",
       "      <td>No</td>\n",
       "      <td>No</td>\n",
       "      <td>No</td>\n",
       "      <td>No</td>\n",
       "      <td>No</td>\n",
       "      <td>No</td>\n",
       "    </tr>\n",
       "    <tr>\n",
       "      <th>5</th>\n",
       "      <td>9305-CDSKC</td>\n",
       "      <td>0</td>\n",
       "      <td>Month-to-month</td>\n",
       "      <td>Yes</td>\n",
       "      <td>Electronic check</td>\n",
       "      <td>99.65</td>\n",
       "      <td>820.0</td>\n",
       "      <td>2019-03-01</td>\n",
       "      <td>2019-11-01</td>\n",
       "      <td>Female</td>\n",
       "      <td>...</td>\n",
       "      <td>No</td>\n",
       "      <td>No</td>\n",
       "      <td>Yes</td>\n",
       "      <td>Fiber optic</td>\n",
       "      <td>No</td>\n",
       "      <td>No</td>\n",
       "      <td>Yes</td>\n",
       "      <td>No</td>\n",
       "      <td>Yes</td>\n",
       "      <td>Yes</td>\n",
       "    </tr>\n",
       "    <tr>\n",
       "      <th>6</th>\n",
       "      <td>1452-KIOVK</td>\n",
       "      <td>1</td>\n",
       "      <td>Month-to-month</td>\n",
       "      <td>Yes</td>\n",
       "      <td>Credit card (automatic)</td>\n",
       "      <td>89.10</td>\n",
       "      <td>1949.0</td>\n",
       "      <td>2018-04-01</td>\n",
       "      <td>2020-02-01</td>\n",
       "      <td>Male</td>\n",
       "      <td>...</td>\n",
       "      <td>No</td>\n",
       "      <td>Yes</td>\n",
       "      <td>Yes</td>\n",
       "      <td>Fiber optic</td>\n",
       "      <td>No</td>\n",
       "      <td>Yes</td>\n",
       "      <td>No</td>\n",
       "      <td>No</td>\n",
       "      <td>Yes</td>\n",
       "      <td>No</td>\n",
       "    </tr>\n",
       "    <tr>\n",
       "      <th>8</th>\n",
       "      <td>7892-POOKP</td>\n",
       "      <td>0</td>\n",
       "      <td>Month-to-month</td>\n",
       "      <td>Yes</td>\n",
       "      <td>Electronic check</td>\n",
       "      <td>104.80</td>\n",
       "      <td>3046.0</td>\n",
       "      <td>2017-07-01</td>\n",
       "      <td>2019-11-01</td>\n",
       "      <td>Female</td>\n",
       "      <td>...</td>\n",
       "      <td>Yes</td>\n",
       "      <td>No</td>\n",
       "      <td>Yes</td>\n",
       "      <td>Fiber optic</td>\n",
       "      <td>No</td>\n",
       "      <td>No</td>\n",
       "      <td>Yes</td>\n",
       "      <td>Yes</td>\n",
       "      <td>Yes</td>\n",
       "      <td>Yes</td>\n",
       "    </tr>\n",
       "    <tr>\n",
       "      <th>9</th>\n",
       "      <td>6388-TABGU</td>\n",
       "      <td>1</td>\n",
       "      <td>One year</td>\n",
       "      <td>No</td>\n",
       "      <td>Bank transfer (automatic)</td>\n",
       "      <td>56.15</td>\n",
       "      <td>3487.0</td>\n",
       "      <td>2014-12-01</td>\n",
       "      <td>2020-02-01</td>\n",
       "      <td>Male</td>\n",
       "      <td>...</td>\n",
       "      <td>No</td>\n",
       "      <td>Yes</td>\n",
       "      <td>No</td>\n",
       "      <td>DSL</td>\n",
       "      <td>Yes</td>\n",
       "      <td>Yes</td>\n",
       "      <td>No</td>\n",
       "      <td>No</td>\n",
       "      <td>No</td>\n",
       "      <td>No</td>\n",
       "    </tr>\n",
       "    <tr>\n",
       "      <th>10</th>\n",
       "      <td>9763-GRSKD</td>\n",
       "      <td>1</td>\n",
       "      <td>Month-to-month</td>\n",
       "      <td>Yes</td>\n",
       "      <td>Mailed check</td>\n",
       "      <td>49.95</td>\n",
       "      <td>587.0</td>\n",
       "      <td>2019-01-01</td>\n",
       "      <td>2020-02-01</td>\n",
       "      <td>Male</td>\n",
       "      <td>...</td>\n",
       "      <td>Yes</td>\n",
       "      <td>Yes</td>\n",
       "      <td>No</td>\n",
       "      <td>DSL</td>\n",
       "      <td>Yes</td>\n",
       "      <td>No</td>\n",
       "      <td>No</td>\n",
       "      <td>No</td>\n",
       "      <td>No</td>\n",
       "      <td>No</td>\n",
       "    </tr>\n",
       "    <tr>\n",
       "      <th>11</th>\n",
       "      <td>7469-LKBCI</td>\n",
       "      <td>1</td>\n",
       "      <td>Two year</td>\n",
       "      <td>No</td>\n",
       "      <td>Credit card (automatic)</td>\n",
       "      <td>18.95</td>\n",
       "      <td>326.0</td>\n",
       "      <td>2018-10-01</td>\n",
       "      <td>2020-02-01</td>\n",
       "      <td>Male</td>\n",
       "      <td>...</td>\n",
       "      <td>No</td>\n",
       "      <td>No</td>\n",
       "      <td>No</td>\n",
       "      <td>Fiber optic</td>\n",
       "      <td>No</td>\n",
       "      <td>No</td>\n",
       "      <td>No</td>\n",
       "      <td>No</td>\n",
       "      <td>Yes</td>\n",
       "      <td>Yes</td>\n",
       "    </tr>\n",
       "    <tr>\n",
       "      <th>12</th>\n",
       "      <td>8091-TTVAX</td>\n",
       "      <td>1</td>\n",
       "      <td>One year</td>\n",
       "      <td>No</td>\n",
       "      <td>Credit card (automatic)</td>\n",
       "      <td>100.35</td>\n",
       "      <td>5681.0</td>\n",
       "      <td>2015-04-01</td>\n",
       "      <td>2020-02-01</td>\n",
       "      <td>Male</td>\n",
       "      <td>...</td>\n",
       "      <td>Yes</td>\n",
       "      <td>No</td>\n",
       "      <td>Yes</td>\n",
       "      <td>Fiber optic</td>\n",
       "      <td>No</td>\n",
       "      <td>No</td>\n",
       "      <td>Yes</td>\n",
       "      <td>No</td>\n",
       "      <td>Yes</td>\n",
       "      <td>Yes</td>\n",
       "    </tr>\n",
       "    <tr>\n",
       "      <th>13</th>\n",
       "      <td>0280-XJGEX</td>\n",
       "      <td>0</td>\n",
       "      <td>Month-to-month</td>\n",
       "      <td>Yes</td>\n",
       "      <td>Bank transfer (automatic)</td>\n",
       "      <td>103.70</td>\n",
       "      <td>5036.0</td>\n",
       "      <td>2015-09-01</td>\n",
       "      <td>2019-10-01</td>\n",
       "      <td>Male</td>\n",
       "      <td>...</td>\n",
       "      <td>No</td>\n",
       "      <td>No</td>\n",
       "      <td>Yes</td>\n",
       "      <td>Fiber optic</td>\n",
       "      <td>No</td>\n",
       "      <td>Yes</td>\n",
       "      <td>Yes</td>\n",
       "      <td>No</td>\n",
       "      <td>Yes</td>\n",
       "      <td>Yes</td>\n",
       "    </tr>\n",
       "    <tr>\n",
       "      <th>14</th>\n",
       "      <td>5129-JLPIS</td>\n",
       "      <td>1</td>\n",
       "      <td>Month-to-month</td>\n",
       "      <td>Yes</td>\n",
       "      <td>Electronic check</td>\n",
       "      <td>105.50</td>\n",
       "      <td>2686.0</td>\n",
       "      <td>2018-01-01</td>\n",
       "      <td>2020-02-01</td>\n",
       "      <td>Male</td>\n",
       "      <td>...</td>\n",
       "      <td>No</td>\n",
       "      <td>No</td>\n",
       "      <td>No</td>\n",
       "      <td>Fiber optic</td>\n",
       "      <td>Yes</td>\n",
       "      <td>No</td>\n",
       "      <td>Yes</td>\n",
       "      <td>Yes</td>\n",
       "      <td>Yes</td>\n",
       "      <td>Yes</td>\n",
       "    </tr>\n",
       "    <tr>\n",
       "      <th>15</th>\n",
       "      <td>3655-SNQYZ</td>\n",
       "      <td>1</td>\n",
       "      <td>Two year</td>\n",
       "      <td>No</td>\n",
       "      <td>Credit card (automatic)</td>\n",
       "      <td>113.25</td>\n",
       "      <td>7895.0</td>\n",
       "      <td>2014-05-01</td>\n",
       "      <td>2020-02-01</td>\n",
       "      <td>Female</td>\n",
       "      <td>...</td>\n",
       "      <td>Yes</td>\n",
       "      <td>Yes</td>\n",
       "      <td>Yes</td>\n",
       "      <td>Fiber optic</td>\n",
       "      <td>Yes</td>\n",
       "      <td>Yes</td>\n",
       "      <td>Yes</td>\n",
       "      <td>Yes</td>\n",
       "      <td>Yes</td>\n",
       "      <td>Yes</td>\n",
       "    </tr>\n",
       "    <tr>\n",
       "      <th>16</th>\n",
       "      <td>8191-XWSZG</td>\n",
       "      <td>1</td>\n",
       "      <td>One year</td>\n",
       "      <td>No</td>\n",
       "      <td>Mailed check</td>\n",
       "      <td>20.65</td>\n",
       "      <td>1022.0</td>\n",
       "      <td>2015-10-01</td>\n",
       "      <td>2020-02-01</td>\n",
       "      <td>Female</td>\n",
       "      <td>...</td>\n",
       "      <td>No</td>\n",
       "      <td>No</td>\n",
       "      <td>No</td>\n",
       "      <td>Fiber optic</td>\n",
       "      <td>No</td>\n",
       "      <td>No</td>\n",
       "      <td>No</td>\n",
       "      <td>No</td>\n",
       "      <td>Yes</td>\n",
       "      <td>Yes</td>\n",
       "    </tr>\n",
       "    <tr>\n",
       "      <th>17</th>\n",
       "      <td>9959-WOFKT</td>\n",
       "      <td>1</td>\n",
       "      <td>Two year</td>\n",
       "      <td>No</td>\n",
       "      <td>Bank transfer (automatic)</td>\n",
       "      <td>106.70</td>\n",
       "      <td>7382.0</td>\n",
       "      <td>2014-03-01</td>\n",
       "      <td>2020-02-01</td>\n",
       "      <td>Male</td>\n",
       "      <td>...</td>\n",
       "      <td>No</td>\n",
       "      <td>Yes</td>\n",
       "      <td>Yes</td>\n",
       "      <td>Fiber optic</td>\n",
       "      <td>Yes</td>\n",
       "      <td>No</td>\n",
       "      <td>Yes</td>\n",
       "      <td>No</td>\n",
       "      <td>Yes</td>\n",
       "      <td>Yes</td>\n",
       "    </tr>\n",
       "    <tr>\n",
       "      <th>18</th>\n",
       "      <td>4190-MFLUW</td>\n",
       "      <td>0</td>\n",
       "      <td>Month-to-month</td>\n",
       "      <td>No</td>\n",
       "      <td>Credit card (automatic)</td>\n",
       "      <td>55.20</td>\n",
       "      <td>528.0</td>\n",
       "      <td>2019-01-01</td>\n",
       "      <td>2019-11-01</td>\n",
       "      <td>Female</td>\n",
       "      <td>...</td>\n",
       "      <td>Yes</td>\n",
       "      <td>Yes</td>\n",
       "      <td>No</td>\n",
       "      <td>DSL</td>\n",
       "      <td>No</td>\n",
       "      <td>No</td>\n",
       "      <td>Yes</td>\n",
       "      <td>Yes</td>\n",
       "      <td>No</td>\n",
       "      <td>No</td>\n",
       "    </tr>\n",
       "    <tr>\n",
       "      <th>19</th>\n",
       "      <td>4183-MYFRB</td>\n",
       "      <td>1</td>\n",
       "      <td>Month-to-month</td>\n",
       "      <td>Yes</td>\n",
       "      <td>Electronic check</td>\n",
       "      <td>90.05</td>\n",
       "      <td>1862.0</td>\n",
       "      <td>2018-05-01</td>\n",
       "      <td>2020-02-01</td>\n",
       "      <td>Female</td>\n",
       "      <td>...</td>\n",
       "      <td>No</td>\n",
       "      <td>No</td>\n",
       "      <td>No</td>\n",
       "      <td>Fiber optic</td>\n",
       "      <td>No</td>\n",
       "      <td>Yes</td>\n",
       "      <td>Yes</td>\n",
       "      <td>No</td>\n",
       "      <td>No</td>\n",
       "      <td>Yes</td>\n",
       "    </tr>\n",
       "    <tr>\n",
       "      <th>21</th>\n",
       "      <td>1680-VDCWW</td>\n",
       "      <td>1</td>\n",
       "      <td>One year</td>\n",
       "      <td>No</td>\n",
       "      <td>Bank transfer (automatic)</td>\n",
       "      <td>19.80</td>\n",
       "      <td>202.0</td>\n",
       "      <td>2019-02-01</td>\n",
       "      <td>2020-02-01</td>\n",
       "      <td>Male</td>\n",
       "      <td>...</td>\n",
       "      <td>Yes</td>\n",
       "      <td>No</td>\n",
       "      <td>No</td>\n",
       "      <td>Fiber optic</td>\n",
       "      <td>No</td>\n",
       "      <td>No</td>\n",
       "      <td>No</td>\n",
       "      <td>No</td>\n",
       "      <td>Yes</td>\n",
       "      <td>Yes</td>\n",
       "    </tr>\n",
       "    <tr>\n",
       "      <th>22</th>\n",
       "      <td>1066-JKSGK</td>\n",
       "      <td>0</td>\n",
       "      <td>Month-to-month</td>\n",
       "      <td>No</td>\n",
       "      <td>Mailed check</td>\n",
       "      <td>20.15</td>\n",
       "      <td>20.0</td>\n",
       "      <td>2019-11-01</td>\n",
       "      <td>2019-12-01</td>\n",
       "      <td>Male</td>\n",
       "      <td>...</td>\n",
       "      <td>No</td>\n",
       "      <td>No</td>\n",
       "      <td>No</td>\n",
       "      <td>Fiber optic</td>\n",
       "      <td>No</td>\n",
       "      <td>No</td>\n",
       "      <td>No</td>\n",
       "      <td>No</td>\n",
       "      <td>Yes</td>\n",
       "      <td>Yes</td>\n",
       "    </tr>\n",
       "    <tr>\n",
       "      <th>23</th>\n",
       "      <td>3638-WEABW</td>\n",
       "      <td>1</td>\n",
       "      <td>Two year</td>\n",
       "      <td>Yes</td>\n",
       "      <td>Credit card (automatic)</td>\n",
       "      <td>59.90</td>\n",
       "      <td>3505.0</td>\n",
       "      <td>2015-04-01</td>\n",
       "      <td>2020-02-01</td>\n",
       "      <td>Female</td>\n",
       "      <td>...</td>\n",
       "      <td>Yes</td>\n",
       "      <td>No</td>\n",
       "      <td>Yes</td>\n",
       "      <td>DSL</td>\n",
       "      <td>No</td>\n",
       "      <td>Yes</td>\n",
       "      <td>No</td>\n",
       "      <td>Yes</td>\n",
       "      <td>No</td>\n",
       "      <td>No</td>\n",
       "    </tr>\n",
       "  </tbody>\n",
       "</table>\n",
       "<p>20 rows × 21 columns</p>\n",
       "</div>"
      ],
      "text/plain": [
       "    customerID  churned            Type PaperlessBilling  \\\n",
       "1   5575-GNVDE        1        One year               No   \n",
       "2   3668-QPYBK        0  Month-to-month              Yes   \n",
       "4   9237-HQITU        0  Month-to-month              Yes   \n",
       "5   9305-CDSKC        0  Month-to-month              Yes   \n",
       "6   1452-KIOVK        1  Month-to-month              Yes   \n",
       "8   7892-POOKP        0  Month-to-month              Yes   \n",
       "9   6388-TABGU        1        One year               No   \n",
       "10  9763-GRSKD        1  Month-to-month              Yes   \n",
       "11  7469-LKBCI        1        Two year               No   \n",
       "12  8091-TTVAX        1        One year               No   \n",
       "13  0280-XJGEX        0  Month-to-month              Yes   \n",
       "14  5129-JLPIS        1  Month-to-month              Yes   \n",
       "15  3655-SNQYZ        1        Two year               No   \n",
       "16  8191-XWSZG        1        One year               No   \n",
       "17  9959-WOFKT        1        Two year               No   \n",
       "18  4190-MFLUW        0  Month-to-month               No   \n",
       "19  4183-MYFRB        1  Month-to-month              Yes   \n",
       "21  1680-VDCWW        1        One year               No   \n",
       "22  1066-JKSGK        0  Month-to-month               No   \n",
       "23  3638-WEABW        1        Two year              Yes   \n",
       "\n",
       "                PaymentMethod  MonthlyCharges  TotalCharges  begin_date  \\\n",
       "1                Mailed check           56.95        1889.0  2017-04-01   \n",
       "2                Mailed check           53.85         108.0  2019-10-01   \n",
       "4            Electronic check           70.70         151.0  2019-09-01   \n",
       "5            Electronic check           99.65         820.0  2019-03-01   \n",
       "6     Credit card (automatic)           89.10        1949.0  2018-04-01   \n",
       "8            Electronic check          104.80        3046.0  2017-07-01   \n",
       "9   Bank transfer (automatic)           56.15        3487.0  2014-12-01   \n",
       "10               Mailed check           49.95         587.0  2019-01-01   \n",
       "11    Credit card (automatic)           18.95         326.0  2018-10-01   \n",
       "12    Credit card (automatic)          100.35        5681.0  2015-04-01   \n",
       "13  Bank transfer (automatic)          103.70        5036.0  2015-09-01   \n",
       "14           Electronic check          105.50        2686.0  2018-01-01   \n",
       "15    Credit card (automatic)          113.25        7895.0  2014-05-01   \n",
       "16               Mailed check           20.65        1022.0  2015-10-01   \n",
       "17  Bank transfer (automatic)          106.70        7382.0  2014-03-01   \n",
       "18    Credit card (automatic)           55.20         528.0  2019-01-01   \n",
       "19           Electronic check           90.05        1862.0  2018-05-01   \n",
       "21  Bank transfer (automatic)           19.80         202.0  2019-02-01   \n",
       "22               Mailed check           20.15          20.0  2019-11-01   \n",
       "23    Credit card (automatic)           59.90        3505.0  2015-04-01   \n",
       "\n",
       "      end_date  gender  ...  Partner Dependents MultipleLines InternetService  \\\n",
       "1   2020-02-01    Male  ...       No         No            No             DSL   \n",
       "2   2019-12-01    Male  ...       No         No            No             DSL   \n",
       "4   2019-11-01  Female  ...       No         No            No     Fiber optic   \n",
       "5   2019-11-01  Female  ...       No         No           Yes     Fiber optic   \n",
       "6   2020-02-01    Male  ...       No        Yes           Yes     Fiber optic   \n",
       "8   2019-11-01  Female  ...      Yes         No           Yes     Fiber optic   \n",
       "9   2020-02-01    Male  ...       No        Yes            No             DSL   \n",
       "10  2020-02-01    Male  ...      Yes        Yes            No             DSL   \n",
       "11  2020-02-01    Male  ...       No         No            No     Fiber optic   \n",
       "12  2020-02-01    Male  ...      Yes         No           Yes     Fiber optic   \n",
       "13  2019-10-01    Male  ...       No         No           Yes     Fiber optic   \n",
       "14  2020-02-01    Male  ...       No         No            No     Fiber optic   \n",
       "15  2020-02-01  Female  ...      Yes        Yes           Yes     Fiber optic   \n",
       "16  2020-02-01  Female  ...       No         No            No     Fiber optic   \n",
       "17  2020-02-01    Male  ...       No        Yes           Yes     Fiber optic   \n",
       "18  2019-11-01  Female  ...      Yes        Yes            No             DSL   \n",
       "19  2020-02-01  Female  ...       No         No            No     Fiber optic   \n",
       "21  2020-02-01    Male  ...      Yes         No            No     Fiber optic   \n",
       "22  2019-12-01    Male  ...       No         No            No     Fiber optic   \n",
       "23  2020-02-01  Female  ...      Yes         No           Yes             DSL   \n",
       "\n",
       "   OnlineSecurity OnlineBackup DeviceProtection TechSupport StreamingTV  \\\n",
       "1             Yes           No              Yes          No          No   \n",
       "2             Yes          Yes               No          No          No   \n",
       "4              No           No               No          No          No   \n",
       "5              No           No              Yes          No         Yes   \n",
       "6              No          Yes               No          No         Yes   \n",
       "8              No           No              Yes         Yes         Yes   \n",
       "9             Yes          Yes               No          No          No   \n",
       "10            Yes           No               No          No          No   \n",
       "11             No           No               No          No         Yes   \n",
       "12             No           No              Yes          No         Yes   \n",
       "13             No          Yes              Yes          No         Yes   \n",
       "14            Yes           No              Yes         Yes         Yes   \n",
       "15            Yes          Yes              Yes         Yes         Yes   \n",
       "16             No           No               No          No         Yes   \n",
       "17            Yes           No              Yes          No         Yes   \n",
       "18             No           No              Yes         Yes          No   \n",
       "19             No          Yes              Yes          No          No   \n",
       "21             No           No               No          No         Yes   \n",
       "22             No           No               No          No         Yes   \n",
       "23             No          Yes               No         Yes          No   \n",
       "\n",
       "   StreamingMovies  \n",
       "1               No  \n",
       "2               No  \n",
       "4               No  \n",
       "5              Yes  \n",
       "6               No  \n",
       "8              Yes  \n",
       "9               No  \n",
       "10              No  \n",
       "11             Yes  \n",
       "12             Yes  \n",
       "13             Yes  \n",
       "14             Yes  \n",
       "15             Yes  \n",
       "16             Yes  \n",
       "17             Yes  \n",
       "18              No  \n",
       "19             Yes  \n",
       "21             Yes  \n",
       "22             Yes  \n",
       "23              No  \n",
       "\n",
       "[20 rows x 21 columns]"
      ]
     },
     "execution_count": 126,
     "metadata": {},
     "output_type": "execute_result"
    }
   ],
   "source": [
    "df_filled.head(20)"
   ]
  },
  {
   "cell_type": "markdown",
   "id": "09aea24f",
   "metadata": {},
   "source": [
    "### 2.5 Проверка признаков на мультиколлинеарность"
   ]
  },
  {
   "cell_type": "markdown",
   "id": "70f20881",
   "metadata": {
    "scrolled": true
   },
   "source": [
    "#### 2.5.1 Проверка числовых признаков на мультиколлинеарность коррелляцией Пирсона"
   ]
  },
  {
   "cell_type": "code",
   "execution_count": 127,
   "id": "d7851a98",
   "metadata": {},
   "outputs": [
    {
     "name": "stdout",
     "output_type": "stream",
     "text": [
      "<class 'pandas.core.frame.DataFrame'>\n",
      "Int64Index: 6361 entries, 1 to 7042\n",
      "Data columns (total 21 columns):\n",
      " #   Column            Non-Null Count  Dtype  \n",
      "---  ------            --------------  -----  \n",
      " 0   customerID        6361 non-null   object \n",
      " 1   churned           6361 non-null   int64  \n",
      " 2   Type              6361 non-null   object \n",
      " 3   PaperlessBilling  6361 non-null   object \n",
      " 4   PaymentMethod     6361 non-null   object \n",
      " 5   MonthlyCharges    6361 non-null   float64\n",
      " 6   TotalCharges      6361 non-null   float64\n",
      " 7   begin_date        6361 non-null   object \n",
      " 8   end_date          6361 non-null   object \n",
      " 9   gender            6361 non-null   object \n",
      " 10  SeniorCitizen     6361 non-null   int64  \n",
      " 11  Partner           6361 non-null   object \n",
      " 12  Dependents        6361 non-null   object \n",
      " 13  MultipleLines     6361 non-null   object \n",
      " 14  InternetService   6361 non-null   object \n",
      " 15  OnlineSecurity    6361 non-null   object \n",
      " 16  OnlineBackup      6361 non-null   object \n",
      " 17  DeviceProtection  6361 non-null   object \n",
      " 18  TechSupport       6361 non-null   object \n",
      " 19  StreamingTV       6361 non-null   object \n",
      " 20  StreamingMovies   6361 non-null   object \n",
      "dtypes: float64(2), int64(2), object(17)\n",
      "memory usage: 1.1+ MB\n"
     ]
    }
   ],
   "source": [
    "df_filled.info()"
   ]
  },
  {
   "cell_type": "code",
   "execution_count": 128,
   "id": "d802ce9d",
   "metadata": {},
   "outputs": [],
   "source": [
    "d_int = df_filled[['MonthlyCharges',\n",
    "                  'SeniorCitizen']]"
   ]
  },
  {
   "cell_type": "code",
   "execution_count": 129,
   "id": "5c575155",
   "metadata": {},
   "outputs": [
    {
     "data": {
      "text/html": [
       "<div>\n",
       "<style scoped>\n",
       "    .dataframe tbody tr th:only-of-type {\n",
       "        vertical-align: middle;\n",
       "    }\n",
       "\n",
       "    .dataframe tbody tr th {\n",
       "        vertical-align: top;\n",
       "    }\n",
       "\n",
       "    .dataframe thead th {\n",
       "        text-align: right;\n",
       "    }\n",
       "</style>\n",
       "<table border=\"1\" class=\"dataframe\">\n",
       "  <thead>\n",
       "    <tr style=\"text-align: right;\">\n",
       "      <th></th>\n",
       "      <th>MonthlyCharges</th>\n",
       "      <th>SeniorCitizen</th>\n",
       "    </tr>\n",
       "  </thead>\n",
       "  <tbody>\n",
       "    <tr>\n",
       "      <th>MonthlyCharges</th>\n",
       "      <td>1.000000</td>\n",
       "      <td>0.239209</td>\n",
       "    </tr>\n",
       "    <tr>\n",
       "      <th>SeniorCitizen</th>\n",
       "      <td>0.239209</td>\n",
       "      <td>1.000000</td>\n",
       "    </tr>\n",
       "  </tbody>\n",
       "</table>\n",
       "</div>"
      ],
      "text/plain": [
       "                MonthlyCharges  SeniorCitizen\n",
       "MonthlyCharges        1.000000       0.239209\n",
       "SeniorCitizen         0.239209       1.000000"
      ]
     },
     "execution_count": 129,
     "metadata": {},
     "output_type": "execute_result"
    }
   ],
   "source": [
    "d_int.corr()"
   ]
  },
  {
   "cell_type": "markdown",
   "id": "5f02b6b0",
   "metadata": {},
   "source": [
    "### *Вывод:* Коэффициенты Пирсона не превышают величины абсолютных значений 0.8, значит, допустимы к использованию в модели.\n",
    "\n",
    "Перейдем к анализу мультикорреляции категориальных признаков."
   ]
  },
  {
   "cell_type": "markdown",
   "id": "60aadffe",
   "metadata": {},
   "source": [
    "<div class=\"alert alert-danger\">\n",
    "<b>Комментарий ревьюера: &#10060; </b> Для категориальных признаков корреляция Пиросона не применима, присмотрись к phi_k, VIF</div>"
   ]
  },
  {
   "cell_type": "markdown",
   "id": "38c66d6e",
   "metadata": {},
   "source": [
    "<div class=\"alert alert-info\"> <b>Юлия:</b>\n",
    "Использую обе техники ниже.\n",
    "</div>\n"
   ]
  },
  {
   "cell_type": "markdown",
   "id": "24326442",
   "metadata": {},
   "source": [
    "#### 2.5.2 Поиск зависимостей между категориальными признаками проводим с помощью [коэффициента VIF](https://towardsdatascience.com/targeting-multicollinearity-with-python-3bd3b4088d0b)."
   ]
  },
  {
   "cell_type": "code",
   "execution_count": 130,
   "id": "d600b8e8",
   "metadata": {},
   "outputs": [],
   "source": [
    "d_categ = df_filled[['Type',\n",
    "                    'PaperlessBilling',\n",
    "                    'PaymentMethod',\n",
    "                    'TotalCharges',\n",
    "                    'gender',\n",
    "                    'SeniorCitizen',\n",
    "                    'Partner',\n",
    "                    'Dependents',\n",
    "                    'MultipleLines',\n",
    "                    'InternetService',\n",
    "                    'OnlineSecurity',\n",
    "                    'OnlineBackup',\n",
    "                    'DeviceProtection',\n",
    "                    'TechSupport',\n",
    "                    'StreamingTV',\n",
    "                    'StreamingMovies']]"
   ]
  },
  {
   "cell_type": "code",
   "execution_count": 131,
   "id": "8924628e",
   "metadata": {},
   "outputs": [],
   "source": [
    "# закодируем категориальные признаки, чтобы проверить мультиколлинеарность\n",
    "# define ordinal encoding\n",
    "ordinalencoder = OrdinalEncoder()"
   ]
  },
  {
   "cell_type": "code",
   "execution_count": 132,
   "id": "cbe1fbd7",
   "metadata": {},
   "outputs": [],
   "source": [
    "result = ordinalencoder.set_params(encoded_missing_value=-1).fit_transform(d_categ[['Type',\n",
    "                    'PaperlessBilling',\n",
    "                    'PaymentMethod',\n",
    "                    'TotalCharges',\n",
    "                    'gender',\n",
    "                    'SeniorCitizen',\n",
    "                    'Partner',\n",
    "                    'Dependents',\n",
    "                    'MultipleLines',\n",
    "                    'InternetService',\n",
    "                    'OnlineSecurity',\n",
    "                    'OnlineBackup',\n",
    "                    'DeviceProtection',\n",
    "                    'TechSupport',\n",
    "                    'StreamingTV',\n",
    "                    'StreamingMovies']])"
   ]
  },
  {
   "cell_type": "code",
   "execution_count": 133,
   "id": "075b43df",
   "metadata": {},
   "outputs": [],
   "source": [
    "result_df = pd.DataFrame(result)"
   ]
  },
  {
   "cell_type": "code",
   "execution_count": 134,
   "id": "88a2a7c6",
   "metadata": {},
   "outputs": [],
   "source": [
    "# объединим закодированные колонки и наш основной датасет (с удаленными категориальными признаками)\n",
    "df_enc = d_categ.join(result_df)"
   ]
  },
  {
   "cell_type": "code",
   "execution_count": 135,
   "id": "494cf11e",
   "metadata": {},
   "outputs": [],
   "source": [
    "df_enc_dropped = df_enc.drop(columns=['Type',\n",
    "                    'PaperlessBilling',\n",
    "                    'PaymentMethod',\n",
    "                    'TotalCharges',\n",
    "                    'gender',\n",
    "                    'SeniorCitizen',\n",
    "                    'Partner',\n",
    "                    'Dependents',\n",
    "                    'MultipleLines',\n",
    "                    'InternetService',\n",
    "                    'OnlineSecurity',\n",
    "                    'OnlineBackup',\n",
    "                    'DeviceProtection',\n",
    "                    'TechSupport',\n",
    "                    'StreamingTV',\n",
    "                    'StreamingMovies'])"
   ]
  },
  {
   "cell_type": "code",
   "execution_count": 136,
   "id": "8b5a974a",
   "metadata": {},
   "outputs": [
    {
     "data": {
      "text/plain": [
       "Index([0, 1, 2, 3, 4, 5, 6, 7, 8, 9, 10, 11, 12, 13, 14, 15], dtype='object')"
      ]
     },
     "execution_count": 136,
     "metadata": {},
     "output_type": "execute_result"
    }
   ],
   "source": [
    "df_enc_dropped.columns"
   ]
  },
  {
   "cell_type": "code",
   "execution_count": 137,
   "id": "871d799e",
   "metadata": {},
   "outputs": [
    {
     "data": {
      "text/html": [
       "<div>\n",
       "<style scoped>\n",
       "    .dataframe tbody tr th:only-of-type {\n",
       "        vertical-align: middle;\n",
       "    }\n",
       "\n",
       "    .dataframe tbody tr th {\n",
       "        vertical-align: top;\n",
       "    }\n",
       "\n",
       "    .dataframe thead th {\n",
       "        text-align: right;\n",
       "    }\n",
       "</style>\n",
       "<table border=\"1\" class=\"dataframe\">\n",
       "  <thead>\n",
       "    <tr style=\"text-align: right;\">\n",
       "      <th></th>\n",
       "      <th>0</th>\n",
       "      <th>1</th>\n",
       "      <th>2</th>\n",
       "      <th>3</th>\n",
       "      <th>4</th>\n",
       "      <th>5</th>\n",
       "      <th>6</th>\n",
       "      <th>7</th>\n",
       "      <th>8</th>\n",
       "      <th>9</th>\n",
       "      <th>10</th>\n",
       "      <th>11</th>\n",
       "      <th>12</th>\n",
       "      <th>13</th>\n",
       "      <th>14</th>\n",
       "      <th>15</th>\n",
       "    </tr>\n",
       "  </thead>\n",
       "  <tbody>\n",
       "    <tr>\n",
       "      <th>1</th>\n",
       "      <td>0.0</td>\n",
       "      <td>1.0</td>\n",
       "      <td>3.0</td>\n",
       "      <td>84.0</td>\n",
       "      <td>1.0</td>\n",
       "      <td>0.0</td>\n",
       "      <td>0.0</td>\n",
       "      <td>0.0</td>\n",
       "      <td>0.0</td>\n",
       "      <td>0.0</td>\n",
       "      <td>1.0</td>\n",
       "      <td>1.0</td>\n",
       "      <td>0.0</td>\n",
       "      <td>0.0</td>\n",
       "      <td>0.0</td>\n",
       "      <td>0.0</td>\n",
       "    </tr>\n",
       "    <tr>\n",
       "      <th>2</th>\n",
       "      <td>0.0</td>\n",
       "      <td>1.0</td>\n",
       "      <td>2.0</td>\n",
       "      <td>126.0</td>\n",
       "      <td>0.0</td>\n",
       "      <td>0.0</td>\n",
       "      <td>0.0</td>\n",
       "      <td>0.0</td>\n",
       "      <td>0.0</td>\n",
       "      <td>1.0</td>\n",
       "      <td>0.0</td>\n",
       "      <td>0.0</td>\n",
       "      <td>0.0</td>\n",
       "      <td>0.0</td>\n",
       "      <td>0.0</td>\n",
       "      <td>0.0</td>\n",
       "    </tr>\n",
       "    <tr>\n",
       "      <th>4</th>\n",
       "      <td>0.0</td>\n",
       "      <td>1.0</td>\n",
       "      <td>1.0</td>\n",
       "      <td>1491.0</td>\n",
       "      <td>1.0</td>\n",
       "      <td>0.0</td>\n",
       "      <td>0.0</td>\n",
       "      <td>1.0</td>\n",
       "      <td>1.0</td>\n",
       "      <td>1.0</td>\n",
       "      <td>0.0</td>\n",
       "      <td>1.0</td>\n",
       "      <td>0.0</td>\n",
       "      <td>0.0</td>\n",
       "      <td>1.0</td>\n",
       "      <td>0.0</td>\n",
       "    </tr>\n",
       "  </tbody>\n",
       "</table>\n",
       "</div>"
      ],
      "text/plain": [
       "     0    1    2       3    4    5    6    7    8    9   10   11   12   13  \\\n",
       "1  0.0  1.0  3.0    84.0  1.0  0.0  0.0  0.0  0.0  0.0  1.0  1.0  0.0  0.0   \n",
       "2  0.0  1.0  2.0   126.0  0.0  0.0  0.0  0.0  0.0  1.0  0.0  0.0  0.0  0.0   \n",
       "4  0.0  1.0  1.0  1491.0  1.0  0.0  0.0  1.0  1.0  1.0  0.0  1.0  0.0  0.0   \n",
       "\n",
       "    14   15  \n",
       "1  0.0  0.0  \n",
       "2  0.0  0.0  \n",
       "4  1.0  0.0  "
      ]
     },
     "execution_count": 137,
     "metadata": {},
     "output_type": "execute_result"
    }
   ],
   "source": [
    "df_enc_dropped.head(3)"
   ]
  },
  {
   "cell_type": "code",
   "execution_count": 138,
   "id": "7be72fa9",
   "metadata": {},
   "outputs": [],
   "source": [
    "df_enc_dropped.rename(columns = \n",
    "            {0:  'Type',\n",
    "               1:  'PaperlessBilling',\n",
    "               2:     'PaymentMethod',\n",
    "               3:     'TotalCharges',\n",
    "               4:     'gender',\n",
    "               5:     'SeniorCitizen',\n",
    "               6:     'Partner',\n",
    "               7:     'Dependents',\n",
    "               8:     'MultipleLines',\n",
    "               9:     'InternetService',\n",
    "                    10: 'OnlineSecurity',\n",
    "                    11: 'OnlineBackup',\n",
    "                    12: 'DeviceProtection',\n",
    "                    13: 'TechSupport',\n",
    "                    14: 'StreamingTV',\n",
    "                    15: 'StreamingMovies'}, inplace=True,)"
   ]
  },
  {
   "cell_type": "code",
   "execution_count": 139,
   "id": "cd3cc575",
   "metadata": {},
   "outputs": [
    {
     "data": {
      "text/plain": [
       "Index(['Type', 'PaperlessBilling', 'PaymentMethod', 'TotalCharges', 'gender',\n",
       "       'SeniorCitizen', 'Partner', 'Dependents', 'MultipleLines',\n",
       "       'InternetService', 'OnlineSecurity', 'OnlineBackup', 'DeviceProtection',\n",
       "       'TechSupport', 'StreamingTV', 'StreamingMovies'],\n",
       "      dtype='object')"
      ]
     },
     "execution_count": 139,
     "metadata": {},
     "output_type": "execute_result"
    }
   ],
   "source": [
    "df_enc_dropped.columns"
   ]
  },
  {
   "cell_type": "code",
   "execution_count": 140,
   "id": "68da6a76",
   "metadata": {
    "scrolled": true
   },
   "outputs": [
    {
     "data": {
      "text/plain": [
       "pandas.core.frame.DataFrame"
      ]
     },
     "execution_count": 140,
     "metadata": {},
     "output_type": "execute_result"
    }
   ],
   "source": [
    "type(df_enc_dropped)"
   ]
  },
  {
   "cell_type": "code",
   "execution_count": 141,
   "id": "e99c3afc",
   "metadata": {
    "scrolled": true
   },
   "outputs": [],
   "source": [
    "df_enc_dropped = df_enc_dropped.dropna().head(3)"
   ]
  },
  {
   "cell_type": "code",
   "execution_count": 142,
   "id": "ab261012",
   "metadata": {
    "scrolled": true
   },
   "outputs": [],
   "source": [
    "# compute the vif for all given features\n",
    "def calc_vif(data, columns):\n",
    "    \n",
    "    X = data[columns]\n",
    "    # the calculation of variance inflation requires a constant\n",
    "    X['intercept'] = 1\n",
    "    \n",
    "    # create dataframe to store vif values\n",
    "    vif = pd.DataFrame()\n",
    "    vif[\"Variable\"] = X.columns\n",
    "    vif[\"VIF\"] = [variance_inflation_factor(X.values, i) for i in range(X.shape[1])]\n",
    "    vif = vif[vif['Variable']!='intercept']\n",
    "    return vif"
   ]
  },
  {
   "cell_type": "code",
   "execution_count": 143,
   "id": "7a30c137",
   "metadata": {},
   "outputs": [
    {
     "data": {
      "text/html": [
       "<div>\n",
       "<style scoped>\n",
       "    .dataframe tbody tr th:only-of-type {\n",
       "        vertical-align: middle;\n",
       "    }\n",
       "\n",
       "    .dataframe tbody tr th {\n",
       "        vertical-align: top;\n",
       "    }\n",
       "\n",
       "    .dataframe thead th {\n",
       "        text-align: right;\n",
       "    }\n",
       "</style>\n",
       "<table border=\"1\" class=\"dataframe\">\n",
       "  <thead>\n",
       "    <tr style=\"text-align: right;\">\n",
       "      <th></th>\n",
       "      <th>Variable</th>\n",
       "      <th>VIF</th>\n",
       "    </tr>\n",
       "  </thead>\n",
       "  <tbody>\n",
       "    <tr>\n",
       "      <th>0</th>\n",
       "      <td>Type</td>\n",
       "      <td>NaN</td>\n",
       "    </tr>\n",
       "    <tr>\n",
       "      <th>1</th>\n",
       "      <td>PaperlessBilling</td>\n",
       "      <td>0.0</td>\n",
       "    </tr>\n",
       "    <tr>\n",
       "      <th>2</th>\n",
       "      <td>PaymentMethod</td>\n",
       "      <td>inf</td>\n",
       "    </tr>\n",
       "    <tr>\n",
       "      <th>3</th>\n",
       "      <td>TotalCharges</td>\n",
       "      <td>inf</td>\n",
       "    </tr>\n",
       "    <tr>\n",
       "      <th>4</th>\n",
       "      <td>gender</td>\n",
       "      <td>inf</td>\n",
       "    </tr>\n",
       "    <tr>\n",
       "      <th>5</th>\n",
       "      <td>SeniorCitizen</td>\n",
       "      <td>NaN</td>\n",
       "    </tr>\n",
       "    <tr>\n",
       "      <th>6</th>\n",
       "      <td>Partner</td>\n",
       "      <td>NaN</td>\n",
       "    </tr>\n",
       "    <tr>\n",
       "      <th>7</th>\n",
       "      <td>Dependents</td>\n",
       "      <td>inf</td>\n",
       "    </tr>\n",
       "    <tr>\n",
       "      <th>8</th>\n",
       "      <td>MultipleLines</td>\n",
       "      <td>inf</td>\n",
       "    </tr>\n",
       "    <tr>\n",
       "      <th>9</th>\n",
       "      <td>InternetService</td>\n",
       "      <td>inf</td>\n",
       "    </tr>\n",
       "    <tr>\n",
       "      <th>10</th>\n",
       "      <td>OnlineSecurity</td>\n",
       "      <td>inf</td>\n",
       "    </tr>\n",
       "    <tr>\n",
       "      <th>11</th>\n",
       "      <td>OnlineBackup</td>\n",
       "      <td>inf</td>\n",
       "    </tr>\n",
       "    <tr>\n",
       "      <th>12</th>\n",
       "      <td>DeviceProtection</td>\n",
       "      <td>NaN</td>\n",
       "    </tr>\n",
       "    <tr>\n",
       "      <th>13</th>\n",
       "      <td>TechSupport</td>\n",
       "      <td>NaN</td>\n",
       "    </tr>\n",
       "    <tr>\n",
       "      <th>14</th>\n",
       "      <td>StreamingTV</td>\n",
       "      <td>inf</td>\n",
       "    </tr>\n",
       "    <tr>\n",
       "      <th>15</th>\n",
       "      <td>StreamingMovies</td>\n",
       "      <td>NaN</td>\n",
       "    </tr>\n",
       "  </tbody>\n",
       "</table>\n",
       "</div>"
      ],
      "text/plain": [
       "            Variable  VIF\n",
       "0               Type  NaN\n",
       "1   PaperlessBilling  0.0\n",
       "2      PaymentMethod  inf\n",
       "3       TotalCharges  inf\n",
       "4             gender  inf\n",
       "5      SeniorCitizen  NaN\n",
       "6            Partner  NaN\n",
       "7         Dependents  inf\n",
       "8      MultipleLines  inf\n",
       "9    InternetService  inf\n",
       "10    OnlineSecurity  inf\n",
       "11      OnlineBackup  inf\n",
       "12  DeviceProtection  NaN\n",
       "13       TechSupport  NaN\n",
       "14       StreamingTV  inf\n",
       "15   StreamingMovies  NaN"
      ]
     },
     "execution_count": 143,
     "metadata": {},
     "output_type": "execute_result"
    }
   ],
   "source": [
    "calc_vif(df_enc_dropped, ['Type', 'PaperlessBilling', 'PaymentMethod', 'TotalCharges', 'gender','SeniorCitizen','Partner',\n",
    "                          'Dependents', 'MultipleLines', 'InternetService', 'OnlineSecurity', 'OnlineBackup',\n",
    "                          'DeviceProtection', 'TechSupport', 'StreamingTV', 'StreamingMovies'])"
   ]
  },
  {
   "cell_type": "markdown",
   "id": "3dd861d5",
   "metadata": {},
   "source": [
    "### *Вывод:* Техника VIF не привела к существенным результатам, так как все показатели < 5, а значит, принять решение, какую колонку исключить, нельзя. Однако категориальных признаков по-прежнему много, обратимся к показателю Phi_K, который анализирует categorical, ordinal и интервальные переменные, демонстрируя не только линейные, но и нелинейные зависимости между признаками."
   ]
  },
  {
   "cell_type": "markdown",
   "id": "6e1baf34",
   "metadata": {},
   "source": [
    "#### 2.5.3 Поиск зависимостей между категориальными переменными с использованием [анализатора Phi_K](https://phik.readthedocs.io/en/latest/introduction.html)"
   ]
  },
  {
   "cell_type": "code",
   "execution_count": 144,
   "id": "b997922b",
   "metadata": {},
   "outputs": [
    {
     "data": {
      "text/plain": [
       "84.0"
      ]
     },
     "execution_count": 144,
     "metadata": {},
     "output_type": "execute_result"
    }
   ],
   "source": [
    "df_enc_dropped['TotalCharges'].min()"
   ]
  },
  {
   "cell_type": "code",
   "execution_count": 145,
   "id": "53d36ccc",
   "metadata": {},
   "outputs": [
    {
     "data": {
      "text/plain": [
       "1491.0"
      ]
     },
     "execution_count": 145,
     "metadata": {},
     "output_type": "execute_result"
    }
   ],
   "source": [
    "df_enc_dropped['TotalCharges'].max()"
   ]
  },
  {
   "cell_type": "code",
   "execution_count": 146,
   "id": "9f216765",
   "metadata": {},
   "outputs": [
    {
     "data": {
      "text/plain": [
       "126.0"
      ]
     },
     "execution_count": 146,
     "metadata": {},
     "output_type": "execute_result"
    }
   ],
   "source": [
    "df_enc_dropped['TotalCharges'].median()"
   ]
  },
  {
   "cell_type": "code",
   "execution_count": 147,
   "id": "69619623",
   "metadata": {},
   "outputs": [],
   "source": [
    "df_enc_dropped['TotalCharges'] = df_enc_dropped['TotalCharges'] / 100"
   ]
  },
  {
   "cell_type": "code",
   "execution_count": 148,
   "id": "6515bf4c",
   "metadata": {
    "scrolled": true
   },
   "outputs": [
    {
     "data": {
      "text/html": [
       "<div>\n",
       "<style scoped>\n",
       "    .dataframe tbody tr th:only-of-type {\n",
       "        vertical-align: middle;\n",
       "    }\n",
       "\n",
       "    .dataframe tbody tr th {\n",
       "        vertical-align: top;\n",
       "    }\n",
       "\n",
       "    .dataframe thead th {\n",
       "        text-align: right;\n",
       "    }\n",
       "</style>\n",
       "<table border=\"1\" class=\"dataframe\">\n",
       "  <thead>\n",
       "    <tr style=\"text-align: right;\">\n",
       "      <th></th>\n",
       "      <th>Type</th>\n",
       "      <th>PaperlessBilling</th>\n",
       "      <th>PaymentMethod</th>\n",
       "      <th>TotalCharges</th>\n",
       "      <th>gender</th>\n",
       "      <th>SeniorCitizen</th>\n",
       "      <th>Partner</th>\n",
       "      <th>Dependents</th>\n",
       "      <th>MultipleLines</th>\n",
       "      <th>InternetService</th>\n",
       "      <th>OnlineSecurity</th>\n",
       "      <th>OnlineBackup</th>\n",
       "      <th>DeviceProtection</th>\n",
       "      <th>TechSupport</th>\n",
       "      <th>StreamingTV</th>\n",
       "      <th>StreamingMovies</th>\n",
       "    </tr>\n",
       "  </thead>\n",
       "  <tbody>\n",
       "    <tr>\n",
       "      <th>count</th>\n",
       "      <td>3.0</td>\n",
       "      <td>3.0</td>\n",
       "      <td>3.0</td>\n",
       "      <td>3.00000</td>\n",
       "      <td>3.000000</td>\n",
       "      <td>3.0</td>\n",
       "      <td>3.0</td>\n",
       "      <td>3.000000</td>\n",
       "      <td>3.000000</td>\n",
       "      <td>3.000000</td>\n",
       "      <td>3.000000</td>\n",
       "      <td>3.000000</td>\n",
       "      <td>3.0</td>\n",
       "      <td>3.0</td>\n",
       "      <td>3.000000</td>\n",
       "      <td>3.0</td>\n",
       "    </tr>\n",
       "    <tr>\n",
       "      <th>mean</th>\n",
       "      <td>0.0</td>\n",
       "      <td>1.0</td>\n",
       "      <td>2.0</td>\n",
       "      <td>5.67000</td>\n",
       "      <td>0.666667</td>\n",
       "      <td>0.0</td>\n",
       "      <td>0.0</td>\n",
       "      <td>0.333333</td>\n",
       "      <td>0.333333</td>\n",
       "      <td>0.666667</td>\n",
       "      <td>0.333333</td>\n",
       "      <td>0.666667</td>\n",
       "      <td>0.0</td>\n",
       "      <td>0.0</td>\n",
       "      <td>0.333333</td>\n",
       "      <td>0.0</td>\n",
       "    </tr>\n",
       "    <tr>\n",
       "      <th>std</th>\n",
       "      <td>0.0</td>\n",
       "      <td>0.0</td>\n",
       "      <td>1.0</td>\n",
       "      <td>8.00483</td>\n",
       "      <td>0.577350</td>\n",
       "      <td>0.0</td>\n",
       "      <td>0.0</td>\n",
       "      <td>0.577350</td>\n",
       "      <td>0.577350</td>\n",
       "      <td>0.577350</td>\n",
       "      <td>0.577350</td>\n",
       "      <td>0.577350</td>\n",
       "      <td>0.0</td>\n",
       "      <td>0.0</td>\n",
       "      <td>0.577350</td>\n",
       "      <td>0.0</td>\n",
       "    </tr>\n",
       "    <tr>\n",
       "      <th>min</th>\n",
       "      <td>0.0</td>\n",
       "      <td>1.0</td>\n",
       "      <td>1.0</td>\n",
       "      <td>0.84000</td>\n",
       "      <td>0.000000</td>\n",
       "      <td>0.0</td>\n",
       "      <td>0.0</td>\n",
       "      <td>0.000000</td>\n",
       "      <td>0.000000</td>\n",
       "      <td>0.000000</td>\n",
       "      <td>0.000000</td>\n",
       "      <td>0.000000</td>\n",
       "      <td>0.0</td>\n",
       "      <td>0.0</td>\n",
       "      <td>0.000000</td>\n",
       "      <td>0.0</td>\n",
       "    </tr>\n",
       "    <tr>\n",
       "      <th>25%</th>\n",
       "      <td>0.0</td>\n",
       "      <td>1.0</td>\n",
       "      <td>1.5</td>\n",
       "      <td>1.05000</td>\n",
       "      <td>0.500000</td>\n",
       "      <td>0.0</td>\n",
       "      <td>0.0</td>\n",
       "      <td>0.000000</td>\n",
       "      <td>0.000000</td>\n",
       "      <td>0.500000</td>\n",
       "      <td>0.000000</td>\n",
       "      <td>0.500000</td>\n",
       "      <td>0.0</td>\n",
       "      <td>0.0</td>\n",
       "      <td>0.000000</td>\n",
       "      <td>0.0</td>\n",
       "    </tr>\n",
       "    <tr>\n",
       "      <th>50%</th>\n",
       "      <td>0.0</td>\n",
       "      <td>1.0</td>\n",
       "      <td>2.0</td>\n",
       "      <td>1.26000</td>\n",
       "      <td>1.000000</td>\n",
       "      <td>0.0</td>\n",
       "      <td>0.0</td>\n",
       "      <td>0.000000</td>\n",
       "      <td>0.000000</td>\n",
       "      <td>1.000000</td>\n",
       "      <td>0.000000</td>\n",
       "      <td>1.000000</td>\n",
       "      <td>0.0</td>\n",
       "      <td>0.0</td>\n",
       "      <td>0.000000</td>\n",
       "      <td>0.0</td>\n",
       "    </tr>\n",
       "    <tr>\n",
       "      <th>75%</th>\n",
       "      <td>0.0</td>\n",
       "      <td>1.0</td>\n",
       "      <td>2.5</td>\n",
       "      <td>8.08500</td>\n",
       "      <td>1.000000</td>\n",
       "      <td>0.0</td>\n",
       "      <td>0.0</td>\n",
       "      <td>0.500000</td>\n",
       "      <td>0.500000</td>\n",
       "      <td>1.000000</td>\n",
       "      <td>0.500000</td>\n",
       "      <td>1.000000</td>\n",
       "      <td>0.0</td>\n",
       "      <td>0.0</td>\n",
       "      <td>0.500000</td>\n",
       "      <td>0.0</td>\n",
       "    </tr>\n",
       "    <tr>\n",
       "      <th>max</th>\n",
       "      <td>0.0</td>\n",
       "      <td>1.0</td>\n",
       "      <td>3.0</td>\n",
       "      <td>14.91000</td>\n",
       "      <td>1.000000</td>\n",
       "      <td>0.0</td>\n",
       "      <td>0.0</td>\n",
       "      <td>1.000000</td>\n",
       "      <td>1.000000</td>\n",
       "      <td>1.000000</td>\n",
       "      <td>1.000000</td>\n",
       "      <td>1.000000</td>\n",
       "      <td>0.0</td>\n",
       "      <td>0.0</td>\n",
       "      <td>1.000000</td>\n",
       "      <td>0.0</td>\n",
       "    </tr>\n",
       "  </tbody>\n",
       "</table>\n",
       "</div>"
      ],
      "text/plain": [
       "       Type  PaperlessBilling  PaymentMethod  TotalCharges    gender  \\\n",
       "count   3.0               3.0            3.0       3.00000  3.000000   \n",
       "mean    0.0               1.0            2.0       5.67000  0.666667   \n",
       "std     0.0               0.0            1.0       8.00483  0.577350   \n",
       "min     0.0               1.0            1.0       0.84000  0.000000   \n",
       "25%     0.0               1.0            1.5       1.05000  0.500000   \n",
       "50%     0.0               1.0            2.0       1.26000  1.000000   \n",
       "75%     0.0               1.0            2.5       8.08500  1.000000   \n",
       "max     0.0               1.0            3.0      14.91000  1.000000   \n",
       "\n",
       "       SeniorCitizen  Partner  Dependents  MultipleLines  InternetService  \\\n",
       "count            3.0      3.0    3.000000       3.000000         3.000000   \n",
       "mean             0.0      0.0    0.333333       0.333333         0.666667   \n",
       "std              0.0      0.0    0.577350       0.577350         0.577350   \n",
       "min              0.0      0.0    0.000000       0.000000         0.000000   \n",
       "25%              0.0      0.0    0.000000       0.000000         0.500000   \n",
       "50%              0.0      0.0    0.000000       0.000000         1.000000   \n",
       "75%              0.0      0.0    0.500000       0.500000         1.000000   \n",
       "max              0.0      0.0    1.000000       1.000000         1.000000   \n",
       "\n",
       "       OnlineSecurity  OnlineBackup  DeviceProtection  TechSupport  \\\n",
       "count        3.000000      3.000000               3.0          3.0   \n",
       "mean         0.333333      0.666667               0.0          0.0   \n",
       "std          0.577350      0.577350               0.0          0.0   \n",
       "min          0.000000      0.000000               0.0          0.0   \n",
       "25%          0.000000      0.500000               0.0          0.0   \n",
       "50%          0.000000      1.000000               0.0          0.0   \n",
       "75%          0.500000      1.000000               0.0          0.0   \n",
       "max          1.000000      1.000000               0.0          0.0   \n",
       "\n",
       "       StreamingTV  StreamingMovies  \n",
       "count     3.000000              3.0  \n",
       "mean      0.333333              0.0  \n",
       "std       0.577350              0.0  \n",
       "min       0.000000              0.0  \n",
       "25%       0.000000              0.0  \n",
       "50%       0.000000              0.0  \n",
       "75%       0.500000              0.0  \n",
       "max       1.000000              0.0  "
      ]
     },
     "execution_count": 148,
     "metadata": {},
     "output_type": "execute_result"
    }
   ],
   "source": [
    "df_enc_dropped.describe()"
   ]
  },
  {
   "cell_type": "code",
   "execution_count": 149,
   "id": "70de8fce",
   "metadata": {},
   "outputs": [],
   "source": [
    "import phik\n",
    "from phik import resources, report"
   ]
  },
  {
   "cell_type": "code",
   "execution_count": 150,
   "id": "62ad6961",
   "metadata": {},
   "outputs": [],
   "source": [
    "df_enc_dropped = df_enc_dropped.dropna()"
   ]
  },
  {
   "cell_type": "code",
   "execution_count": 151,
   "id": "9b2b1f56",
   "metadata": {},
   "outputs": [
    {
     "name": "stdout",
     "output_type": "stream",
     "text": [
      "interval columns not set, guessing: ['Type', 'PaperlessBilling', 'PaymentMethod', 'TotalCharges', 'gender', 'SeniorCitizen', 'Partner', 'Dependents', 'MultipleLines', 'InternetService', 'OnlineSecurity', 'OnlineBackup', 'DeviceProtection', 'TechSupport', 'StreamingTV', 'StreamingMovies']\n",
      "interval columns not set, guessing: ['Type', 'PaperlessBilling', 'PaymentMethod', 'TotalCharges', 'gender', 'SeniorCitizen', 'Partner', 'Dependents', 'MultipleLines', 'InternetService', 'OnlineSecurity', 'OnlineBackup', 'DeviceProtection', 'TechSupport', 'StreamingTV', 'StreamingMovies']\n",
      "interval columns not set, guessing: ['Type', 'PaperlessBilling', 'PaymentMethod', 'TotalCharges', 'gender', 'SeniorCitizen', 'Partner', 'Dependents', 'MultipleLines', 'InternetService', 'OnlineSecurity', 'OnlineBackup', 'DeviceProtection', 'TechSupport', 'StreamingTV', 'StreamingMovies']\n"
     ]
    },
    {
     "data": {
      "text/plain": [
       "{'PaymentMethod:TotalCharges':           0.8_2.2  13.5_14.9\n",
       " 1.0_1.2       NaN        NaN\n",
       " 2.0_2.2 -0.318639  -1.413563\n",
       " 2.8_3.0 -0.318639  -1.413563,\n",
       " 'PaymentMethod:gender':          -0.0_0.1   0.9_1.0\n",
       " 1.0_1.2 -1.413563 -0.318639\n",
       " 2.0_2.2       NaN       NaN\n",
       " 2.8_3.0 -1.413563 -0.318639,\n",
       " 'PaymentMethod:Dependents':          -0.0_0.1   0.9_1.0\n",
       " 1.0_1.2       NaN       NaN\n",
       " 2.0_2.2 -0.318639 -1.413563\n",
       " 2.8_3.0 -0.318639 -1.413563,\n",
       " 'PaymentMethod:MultipleLines':          -0.0_0.1   0.9_1.0\n",
       " 1.0_1.2       NaN       NaN\n",
       " 2.0_2.2 -0.318639 -1.413563\n",
       " 2.8_3.0 -0.318639 -1.413563,\n",
       " 'PaymentMethod:InternetService':          -0.0_0.1   0.9_1.0\n",
       " 1.0_1.2 -1.413563 -0.318639\n",
       " 2.0_2.2 -1.413563 -0.318639\n",
       " 2.8_3.0       NaN       NaN,\n",
       " 'PaymentMethod:OnlineSecurity':          -0.0_0.1   0.9_1.0\n",
       " 1.0_1.2 -0.318639 -1.413563\n",
       " 2.0_2.2 -0.318639 -1.413563\n",
       " 2.8_3.0       NaN       NaN,\n",
       " 'PaymentMethod:OnlineBackup':          -0.0_0.1   0.9_1.0\n",
       " 1.0_1.2 -1.413563 -0.318639\n",
       " 2.0_2.2       NaN       NaN\n",
       " 2.8_3.0 -1.413563 -0.318639,\n",
       " 'PaymentMethod:StreamingTV':          -0.0_0.1   0.9_1.0\n",
       " 1.0_1.2       NaN       NaN\n",
       " 2.0_2.2 -0.318639 -1.413563\n",
       " 2.8_3.0 -0.318639 -1.413563,\n",
       " 'TotalCharges:gender':            -0.0_0.1   0.9_1.0\n",
       " 0.8_2.2   -0.318639       NaN\n",
       " 13.5_14.9 -1.413563 -0.318639,\n",
       " 'TotalCharges:Dependents':            -0.0_0.1  0.9_1.0\n",
       " 0.8_2.2         NaN      NaN\n",
       " 13.5_14.9       NaN      NaN,\n",
       " 'TotalCharges:MultipleLines':            -0.0_0.1  0.9_1.0\n",
       " 0.8_2.2         NaN      NaN\n",
       " 13.5_14.9       NaN      NaN,\n",
       " 'TotalCharges:InternetService':            -0.0_0.1   0.9_1.0\n",
       " 0.8_2.2   -0.318639       NaN\n",
       " 13.5_14.9 -1.413563 -0.318639,\n",
       " 'TotalCharges:OnlineSecurity':            -0.0_0.1   0.9_1.0\n",
       " 0.8_2.2         NaN -0.318639\n",
       " 13.5_14.9 -0.318639 -1.413563,\n",
       " 'TotalCharges:OnlineBackup':            -0.0_0.1   0.9_1.0\n",
       " 0.8_2.2   -0.318639       NaN\n",
       " 13.5_14.9 -1.413563 -0.318639,\n",
       " 'TotalCharges:StreamingTV':            -0.0_0.1  0.9_1.0\n",
       " 0.8_2.2         NaN      NaN\n",
       " 13.5_14.9       NaN      NaN,\n",
       " 'gender:Dependents':           -0.0_0.1   0.9_1.0\n",
       " -0.0_0.1 -0.318639 -1.413563\n",
       " 0.9_1.0        NaN -0.318639,\n",
       " 'gender:MultipleLines':           -0.0_0.1   0.9_1.0\n",
       " -0.0_0.1 -0.318639 -1.413563\n",
       " 0.9_1.0        NaN -0.318639,\n",
       " 'gender:InternetService':           -0.0_0.1   0.9_1.0\n",
       " -0.0_0.1 -1.413563 -0.318639\n",
       " 0.9_1.0  -0.318639       NaN,\n",
       " 'gender:OnlineSecurity':           -0.0_0.1   0.9_1.0\n",
       " -0.0_0.1 -0.318639 -1.413563\n",
       " 0.9_1.0        NaN -0.318639,\n",
       " 'gender:OnlineBackup':           -0.0_0.1  0.9_1.0\n",
       " -0.0_0.1       NaN      NaN\n",
       " 0.9_1.0        NaN      NaN,\n",
       " 'gender:StreamingTV':           -0.0_0.1   0.9_1.0\n",
       " -0.0_0.1 -0.318639 -1.413563\n",
       " 0.9_1.0        NaN -0.318639,\n",
       " 'Dependents:MultipleLines':           -0.0_0.1  0.9_1.0\n",
       " -0.0_0.1       NaN      NaN\n",
       " 0.9_1.0        NaN      NaN,\n",
       " 'Dependents:InternetService':           -0.0_0.1   0.9_1.0\n",
       " -0.0_0.1 -0.318639       NaN\n",
       " 0.9_1.0  -1.413563 -0.318639,\n",
       " 'Dependents:OnlineSecurity':           -0.0_0.1   0.9_1.0\n",
       " -0.0_0.1       NaN -0.318639\n",
       " 0.9_1.0  -0.318639 -1.413563,\n",
       " 'Dependents:OnlineBackup':           -0.0_0.1   0.9_1.0\n",
       " -0.0_0.1 -0.318639       NaN\n",
       " 0.9_1.0  -1.413563 -0.318639,\n",
       " 'Dependents:StreamingTV':           -0.0_0.1  0.9_1.0\n",
       " -0.0_0.1       NaN      NaN\n",
       " 0.9_1.0        NaN      NaN,\n",
       " 'MultipleLines:InternetService':           -0.0_0.1   0.9_1.0\n",
       " -0.0_0.1 -0.318639       NaN\n",
       " 0.9_1.0  -1.413563 -0.318639,\n",
       " 'MultipleLines:OnlineSecurity':           -0.0_0.1   0.9_1.0\n",
       " -0.0_0.1       NaN -0.318639\n",
       " 0.9_1.0  -0.318639 -1.413563,\n",
       " 'MultipleLines:OnlineBackup':           -0.0_0.1   0.9_1.0\n",
       " -0.0_0.1 -0.318639       NaN\n",
       " 0.9_1.0  -1.413563 -0.318639,\n",
       " 'MultipleLines:StreamingTV':           -0.0_0.1  0.9_1.0\n",
       " -0.0_0.1       NaN      NaN\n",
       " 0.9_1.0        NaN      NaN,\n",
       " 'InternetService:OnlineSecurity':           -0.0_0.1  0.9_1.0\n",
       " -0.0_0.1       NaN      NaN\n",
       " 0.9_1.0        NaN      NaN,\n",
       " 'InternetService:OnlineBackup':           -0.0_0.1   0.9_1.0\n",
       " -0.0_0.1 -1.413563 -0.318639\n",
       " 0.9_1.0  -0.318639       NaN,\n",
       " 'InternetService:StreamingTV':           -0.0_0.1   0.9_1.0\n",
       " -0.0_0.1 -0.318639 -1.413563\n",
       " 0.9_1.0        NaN -0.318639,\n",
       " 'OnlineSecurity:OnlineBackup':           -0.0_0.1   0.9_1.0\n",
       " -0.0_0.1 -0.318639       NaN\n",
       " 0.9_1.0  -1.413563 -0.318639,\n",
       " 'OnlineSecurity:StreamingTV':           -0.0_0.1   0.9_1.0\n",
       " -0.0_0.1       NaN -0.318639\n",
       " 0.9_1.0  -0.318639 -1.413563,\n",
       " 'OnlineBackup:StreamingTV':           -0.0_0.1   0.9_1.0\n",
       " -0.0_0.1 -0.318639 -1.413563\n",
       " 0.9_1.0        NaN -0.318639}"
      ]
     },
     "execution_count": 151,
     "metadata": {},
     "output_type": "execute_result"
    }
   ],
   "source": [
    "# # get the phi_k correlation matrix between all variables\n",
    "df_enc_dropped.phik_matrix()\n",
    "\n",
    "# # get global correlations based on phi_k correlation matrix\n",
    "df_enc_dropped.global_phik()\n",
    " \n",
    "# get the significance matrix (expressed as one-sided Z)\n",
    "# of the hypothesis test of each variable-pair dependency\n",
    "# df_enc_dropped.significance_matrix()\n",
    "\n",
    "# # contingency table of two columns\n",
    "# cols = ['mileage','car_size']\n",
    "# df[cols].hist2d()\n",
    "\n",
    "# # normalized residuals of contingency test applied to cols\n",
    "# df[cols].outlier_significance_matrix()\n",
    "\n",
    "# # show the normalized residuals of each variable-pair\n",
    "df_enc_dropped.outlier_significance_matrices()"
   ]
  },
  {
   "cell_type": "markdown",
   "id": "412bfb91",
   "metadata": {},
   "source": [
    "<div class=\"alert alert-info\"> <b>Юлия:</b>\n",
    "Не понимаю, как интерпретировать выдачу VIF, Phi_K. Признаки оставила, как есть, для дальнейшего анализа.\n",
    "</div>\n"
   ]
  },
  {
   "cell_type": "markdown",
   "id": "3ab44d41",
   "metadata": {},
   "source": [
    "## 3 Модели\n",
    "\n",
    "### 3.1 Деление выборки на подвыборки\n",
    "\n",
    "```\n",
    "- 75% train_data\n",
    "- 25% test_data\n",
    "```"
   ]
  },
  {
   "cell_type": "code",
   "execution_count": 152,
   "id": "b2815894",
   "metadata": {},
   "outputs": [],
   "source": [
    "data = df_filled.copy()"
   ]
  },
  {
   "cell_type": "code",
   "execution_count": 153,
   "id": "a8f0c40e",
   "metadata": {},
   "outputs": [
    {
     "name": "stdout",
     "output_type": "stream",
     "text": [
      "Размер обучающей выборки: 4770\n",
      "Размер тестовой выборки: 1591\n"
     ]
    }
   ],
   "source": [
    "train_data, test_data = train_test_split(data, test_size=0.25, random_state=RANDOM_STATE)\n",
    "\n",
    "print('Размер обучающей выборки:', train_data.shape[0])\n",
    "print('Размер тестовой выборки:', test_data.shape[0])"
   ]
  },
  {
   "cell_type": "markdown",
   "id": "f7fa5f3c",
   "metadata": {},
   "source": [
    "### 3.2 Кодирование признаков (после деления выборки на подвыборки)\n",
    "\n",
    "Есть несколько способов, как кодировать переменные:\n",
    "\n",
    "- get_dummies()\n",
    "- OHE\n",
    "- OrdinalEncoding\n",
    "- LabelEncoding\n",
    "\n",
    "Мы не хотим увеличивать количество колонок, поэтому в рамках данного проекта выбираем способ *OrdinalEncoding()*."
   ]
  },
  {
   "cell_type": "code",
   "execution_count": 154,
   "id": "453ea025",
   "metadata": {},
   "outputs": [
    {
     "name": "stdout",
     "output_type": "stream",
     "text": [
      "<class 'pandas.core.frame.DataFrame'>\n",
      "Int64Index: 6361 entries, 1 to 7042\n",
      "Data columns (total 21 columns):\n",
      " #   Column            Non-Null Count  Dtype  \n",
      "---  ------            --------------  -----  \n",
      " 0   customerID        6361 non-null   object \n",
      " 1   churned           6361 non-null   int64  \n",
      " 2   Type              6361 non-null   object \n",
      " 3   PaperlessBilling  6361 non-null   object \n",
      " 4   PaymentMethod     6361 non-null   object \n",
      " 5   MonthlyCharges    6361 non-null   float64\n",
      " 6   TotalCharges      6361 non-null   float64\n",
      " 7   begin_date        6361 non-null   object \n",
      " 8   end_date          6361 non-null   object \n",
      " 9   gender            6361 non-null   object \n",
      " 10  SeniorCitizen     6361 non-null   int64  \n",
      " 11  Partner           6361 non-null   object \n",
      " 12  Dependents        6361 non-null   object \n",
      " 13  MultipleLines     6361 non-null   object \n",
      " 14  InternetService   6361 non-null   object \n",
      " 15  OnlineSecurity    6361 non-null   object \n",
      " 16  OnlineBackup      6361 non-null   object \n",
      " 17  DeviceProtection  6361 non-null   object \n",
      " 18  TechSupport       6361 non-null   object \n",
      " 19  StreamingTV       6361 non-null   object \n",
      " 20  StreamingMovies   6361 non-null   object \n",
      "dtypes: float64(2), int64(2), object(17)\n",
      "memory usage: 1.3+ MB\n"
     ]
    }
   ],
   "source": [
    "data.info()"
   ]
  },
  {
   "cell_type": "markdown",
   "id": "8ec58bae",
   "metadata": {},
   "source": [
    "### Признаки, которые необходимо кодировать (только категориальные):\n",
    "```\n",
    "'Type',\n",
    "'PaperlessBilling',\n",
    "'PaymentMethod',\n",
    "'gender',\n",
    "'Partner',\n",
    "'Dependents',\n",
    "'MultipleLines',\n",
    "'InternetService',\n",
    "'OnlineSecurity',\n",
    "'OnlineBackup',\n",
    "'DeviceProtection',\n",
    "'TechSupport',\n",
    "'StreamingTV',\n",
    "'StreamingMovies'\n",
    "\n",
    "```"
   ]
  },
  {
   "cell_type": "code",
   "execution_count": 155,
   "id": "e4ab0c30",
   "metadata": {},
   "outputs": [],
   "source": [
    "# define ordinal encoding\n",
    "ordinalencoder = OrdinalEncoder()"
   ]
  },
  {
   "cell_type": "code",
   "execution_count": 156,
   "id": "6d0c47f2",
   "metadata": {},
   "outputs": [
    {
     "name": "stdout",
     "output_type": "stream",
     "text": [
      "<class 'pandas.core.frame.DataFrame'>\n"
     ]
    },
    {
     "data": {
      "text/html": [
       "<div>\n",
       "<style scoped>\n",
       "    .dataframe tbody tr th:only-of-type {\n",
       "        vertical-align: middle;\n",
       "    }\n",
       "\n",
       "    .dataframe tbody tr th {\n",
       "        vertical-align: top;\n",
       "    }\n",
       "\n",
       "    .dataframe thead th {\n",
       "        text-align: right;\n",
       "    }\n",
       "</style>\n",
       "<table border=\"1\" class=\"dataframe\">\n",
       "  <thead>\n",
       "    <tr style=\"text-align: right;\">\n",
       "      <th></th>\n",
       "      <th>0</th>\n",
       "      <th>1</th>\n",
       "      <th>2</th>\n",
       "      <th>3</th>\n",
       "      <th>4</th>\n",
       "      <th>5</th>\n",
       "      <th>6</th>\n",
       "      <th>7</th>\n",
       "      <th>8</th>\n",
       "      <th>9</th>\n",
       "      <th>10</th>\n",
       "      <th>11</th>\n",
       "      <th>12</th>\n",
       "      <th>13</th>\n",
       "    </tr>\n",
       "  </thead>\n",
       "  <tbody>\n",
       "    <tr>\n",
       "      <th>0</th>\n",
       "      <td>1.0</td>\n",
       "      <td>1.0</td>\n",
       "      <td>0.0</td>\n",
       "      <td>1.0</td>\n",
       "      <td>1.0</td>\n",
       "      <td>0.0</td>\n",
       "      <td>0.0</td>\n",
       "      <td>1.0</td>\n",
       "      <td>0.0</td>\n",
       "      <td>0.0</td>\n",
       "      <td>1.0</td>\n",
       "      <td>0.0</td>\n",
       "      <td>1.0</td>\n",
       "      <td>1.0</td>\n",
       "    </tr>\n",
       "    <tr>\n",
       "      <th>1</th>\n",
       "      <td>1.0</td>\n",
       "      <td>0.0</td>\n",
       "      <td>2.0</td>\n",
       "      <td>0.0</td>\n",
       "      <td>1.0</td>\n",
       "      <td>1.0</td>\n",
       "      <td>0.0</td>\n",
       "      <td>1.0</td>\n",
       "      <td>1.0</td>\n",
       "      <td>0.0</td>\n",
       "      <td>1.0</td>\n",
       "      <td>0.0</td>\n",
       "      <td>1.0</td>\n",
       "      <td>1.0</td>\n",
       "    </tr>\n",
       "    <tr>\n",
       "      <th>2</th>\n",
       "      <td>0.0</td>\n",
       "      <td>1.0</td>\n",
       "      <td>2.0</td>\n",
       "      <td>0.0</td>\n",
       "      <td>0.0</td>\n",
       "      <td>0.0</td>\n",
       "      <td>0.0</td>\n",
       "      <td>0.0</td>\n",
       "      <td>1.0</td>\n",
       "      <td>0.0</td>\n",
       "      <td>0.0</td>\n",
       "      <td>0.0</td>\n",
       "      <td>1.0</td>\n",
       "      <td>1.0</td>\n",
       "    </tr>\n",
       "  </tbody>\n",
       "</table>\n",
       "</div>"
      ],
      "text/plain": [
       "    0    1    2    3    4    5    6    7    8    9    10   11   12   13\n",
       "0  1.0  1.0  0.0  1.0  1.0  0.0  0.0  1.0  0.0  0.0  1.0  0.0  1.0  1.0\n",
       "1  1.0  0.0  2.0  0.0  1.0  1.0  0.0  1.0  1.0  0.0  1.0  0.0  1.0  1.0\n",
       "2  0.0  1.0  2.0  0.0  0.0  0.0  0.0  0.0  1.0  0.0  0.0  0.0  1.0  1.0"
      ]
     },
     "execution_count": 156,
     "metadata": {},
     "output_type": "execute_result"
    }
   ],
   "source": [
    "# transform data\n",
    "result_train = ordinalencoder.set_params(encoded_missing_value=-1).fit_transform(train_data[['Type',\n",
    "                                            'PaperlessBilling',\n",
    "                                            'PaymentMethod',\n",
    "                                            'gender',\n",
    "                                            'Partner',\n",
    "                                            'Dependents',\n",
    "                                            'MultipleLines',\n",
    "                                            'InternetService',\n",
    "                                            'OnlineSecurity',\n",
    "                                            'OnlineBackup',\n",
    "                                            'DeviceProtection',\n",
    "                                            'TechSupport',\n",
    "                                            'StreamingTV',\n",
    "                                            'StreamingMovies']])\n",
    "\n",
    "result_train = pd.DataFrame(result_train)\n",
    "\n",
    "print(type(result_train))\n",
    "result_train.head(3)"
   ]
  },
  {
   "cell_type": "code",
   "execution_count": 157,
   "id": "6cf7da47",
   "metadata": {},
   "outputs": [
    {
     "name": "stdout",
     "output_type": "stream",
     "text": [
      "<class 'pandas.core.frame.DataFrame'>\n"
     ]
    },
    {
     "data": {
      "text/html": [
       "<div>\n",
       "<style scoped>\n",
       "    .dataframe tbody tr th:only-of-type {\n",
       "        vertical-align: middle;\n",
       "    }\n",
       "\n",
       "    .dataframe tbody tr th {\n",
       "        vertical-align: top;\n",
       "    }\n",
       "\n",
       "    .dataframe thead th {\n",
       "        text-align: right;\n",
       "    }\n",
       "</style>\n",
       "<table border=\"1\" class=\"dataframe\">\n",
       "  <thead>\n",
       "    <tr style=\"text-align: right;\">\n",
       "      <th></th>\n",
       "      <th>0</th>\n",
       "      <th>1</th>\n",
       "      <th>2</th>\n",
       "      <th>3</th>\n",
       "      <th>4</th>\n",
       "      <th>5</th>\n",
       "      <th>6</th>\n",
       "      <th>7</th>\n",
       "      <th>8</th>\n",
       "      <th>9</th>\n",
       "      <th>10</th>\n",
       "      <th>11</th>\n",
       "      <th>12</th>\n",
       "      <th>13</th>\n",
       "    </tr>\n",
       "  </thead>\n",
       "  <tbody>\n",
       "    <tr>\n",
       "      <th>0</th>\n",
       "      <td>1.0</td>\n",
       "      <td>1.0</td>\n",
       "      <td>0.0</td>\n",
       "      <td>1.0</td>\n",
       "      <td>1.0</td>\n",
       "      <td>0.0</td>\n",
       "      <td>0.0</td>\n",
       "      <td>1.0</td>\n",
       "      <td>0.0</td>\n",
       "      <td>0.0</td>\n",
       "      <td>1.0</td>\n",
       "      <td>0.0</td>\n",
       "      <td>1.0</td>\n",
       "      <td>1.0</td>\n",
       "    </tr>\n",
       "    <tr>\n",
       "      <th>1</th>\n",
       "      <td>1.0</td>\n",
       "      <td>0.0</td>\n",
       "      <td>2.0</td>\n",
       "      <td>0.0</td>\n",
       "      <td>1.0</td>\n",
       "      <td>1.0</td>\n",
       "      <td>0.0</td>\n",
       "      <td>1.0</td>\n",
       "      <td>1.0</td>\n",
       "      <td>0.0</td>\n",
       "      <td>1.0</td>\n",
       "      <td>0.0</td>\n",
       "      <td>1.0</td>\n",
       "      <td>1.0</td>\n",
       "    </tr>\n",
       "    <tr>\n",
       "      <th>2</th>\n",
       "      <td>0.0</td>\n",
       "      <td>1.0</td>\n",
       "      <td>2.0</td>\n",
       "      <td>0.0</td>\n",
       "      <td>0.0</td>\n",
       "      <td>0.0</td>\n",
       "      <td>0.0</td>\n",
       "      <td>0.0</td>\n",
       "      <td>1.0</td>\n",
       "      <td>0.0</td>\n",
       "      <td>0.0</td>\n",
       "      <td>0.0</td>\n",
       "      <td>1.0</td>\n",
       "      <td>1.0</td>\n",
       "    </tr>\n",
       "  </tbody>\n",
       "</table>\n",
       "</div>"
      ],
      "text/plain": [
       "    0    1    2    3    4    5    6    7    8    9    10   11   12   13\n",
       "0  1.0  1.0  0.0  1.0  1.0  0.0  0.0  1.0  0.0  0.0  1.0  0.0  1.0  1.0\n",
       "1  1.0  0.0  2.0  0.0  1.0  1.0  0.0  1.0  1.0  0.0  1.0  0.0  1.0  1.0\n",
       "2  0.0  1.0  2.0  0.0  0.0  0.0  0.0  0.0  1.0  0.0  0.0  0.0  1.0  1.0"
      ]
     },
     "execution_count": 157,
     "metadata": {},
     "output_type": "execute_result"
    }
   ],
   "source": [
    "# transform data\n",
    "result_test = ordinalencoder.set_params(encoded_missing_value=-1).fit_transform(test_data[['Type',\n",
    "                                            'PaperlessBilling',\n",
    "                                            'PaymentMethod',\n",
    "                                            'gender',\n",
    "                                            'Partner',\n",
    "                                            'Dependents',\n",
    "                                            'MultipleLines',\n",
    "                                            'InternetService',\n",
    "                                            'OnlineSecurity',\n",
    "                                            'OnlineBackup',\n",
    "                                            'DeviceProtection',\n",
    "                                            'TechSupport',\n",
    "                                            'StreamingTV',\n",
    "                                            'StreamingMovies']])\n",
    "\n",
    "result_test = pd.DataFrame(result_test)\n",
    "\n",
    "print(type(result_train))\n",
    "result_train.head(3)"
   ]
  },
  {
   "cell_type": "markdown",
   "id": "fe6e3648",
   "metadata": {},
   "source": [
    "<div class=\"alert alert-danger\">\n",
    "<b>Комментарий ревьюера: &#10060; </b> Кодирование и масштабирование признаков производится только после разбиения на трейн и тест, так же численные признаки не надо кодировать</div>"
   ]
  },
  {
   "cell_type": "code",
   "execution_count": 158,
   "id": "a78543f2",
   "metadata": {},
   "outputs": [],
   "source": [
    "# объединим закодированные колонки и наш основной датасет (с удаленными категориальными признаками)\n",
    "train_enc = train_data.join(result_train)"
   ]
  },
  {
   "cell_type": "code",
   "execution_count": 159,
   "id": "fcad62dc",
   "metadata": {},
   "outputs": [],
   "source": [
    "# объединим закодированные колонки и наш основной датасет (с удаленными категориальными признаками)\n",
    "test_enc = test_data.join(result_test)"
   ]
  },
  {
   "cell_type": "code",
   "execution_count": 185,
   "id": "0dcc5fec",
   "metadata": {},
   "outputs": [
    {
     "data": {
      "text/html": [
       "<div>\n",
       "<style scoped>\n",
       "    .dataframe tbody tr th:only-of-type {\n",
       "        vertical-align: middle;\n",
       "    }\n",
       "\n",
       "    .dataframe tbody tr th {\n",
       "        vertical-align: top;\n",
       "    }\n",
       "\n",
       "    .dataframe thead th {\n",
       "        text-align: right;\n",
       "    }\n",
       "</style>\n",
       "<table border=\"1\" class=\"dataframe\">\n",
       "  <thead>\n",
       "    <tr style=\"text-align: right;\">\n",
       "      <th></th>\n",
       "      <th>customerID</th>\n",
       "      <th>churned</th>\n",
       "      <th>MonthlyCharges</th>\n",
       "      <th>TotalCharges</th>\n",
       "      <th>begin_date</th>\n",
       "      <th>end_date</th>\n",
       "      <th>SeniorCitizen</th>\n",
       "      <th>0</th>\n",
       "      <th>1</th>\n",
       "      <th>2</th>\n",
       "      <th>...</th>\n",
       "      <th>4</th>\n",
       "      <th>5</th>\n",
       "      <th>6</th>\n",
       "      <th>7</th>\n",
       "      <th>8</th>\n",
       "      <th>9</th>\n",
       "      <th>10</th>\n",
       "      <th>11</th>\n",
       "      <th>12</th>\n",
       "      <th>13</th>\n",
       "    </tr>\n",
       "  </thead>\n",
       "  <tbody>\n",
       "    <tr>\n",
       "      <th>1812</th>\n",
       "      <td>2085-BOJKI</td>\n",
       "      <td>1</td>\n",
       "      <td>96.65</td>\n",
       "      <td>1588.0</td>\n",
       "      <td>2018-09-01</td>\n",
       "      <td>2020-02-01</td>\n",
       "      <td>0</td>\n",
       "      <td>2.0</td>\n",
       "      <td>0.0</td>\n",
       "      <td>1.0</td>\n",
       "      <td>...</td>\n",
       "      <td>1.0</td>\n",
       "      <td>0.0</td>\n",
       "      <td>0.0</td>\n",
       "      <td>1.0</td>\n",
       "      <td>0.0</td>\n",
       "      <td>0.0</td>\n",
       "      <td>0.0</td>\n",
       "      <td>0.0</td>\n",
       "      <td>1.0</td>\n",
       "      <td>1.0</td>\n",
       "    </tr>\n",
       "    <tr>\n",
       "      <th>1442</th>\n",
       "      <td>3253-HKOKL</td>\n",
       "      <td>1</td>\n",
       "      <td>100.30</td>\n",
       "      <td>5244.0</td>\n",
       "      <td>2015-10-01</td>\n",
       "      <td>2020-02-01</td>\n",
       "      <td>0</td>\n",
       "      <td>1.0</td>\n",
       "      <td>1.0</td>\n",
       "      <td>2.0</td>\n",
       "      <td>...</td>\n",
       "      <td>1.0</td>\n",
       "      <td>1.0</td>\n",
       "      <td>1.0</td>\n",
       "      <td>1.0</td>\n",
       "      <td>1.0</td>\n",
       "      <td>0.0</td>\n",
       "      <td>1.0</td>\n",
       "      <td>1.0</td>\n",
       "      <td>1.0</td>\n",
       "      <td>1.0</td>\n",
       "    </tr>\n",
       "    <tr>\n",
       "      <th>3319</th>\n",
       "      <td>3866-MDTUB</td>\n",
       "      <td>0</td>\n",
       "      <td>70.75</td>\n",
       "      <td>146.0</td>\n",
       "      <td>2019-10-01</td>\n",
       "      <td>2019-12-01</td>\n",
       "      <td>0</td>\n",
       "      <td>0.0</td>\n",
       "      <td>0.0</td>\n",
       "      <td>2.0</td>\n",
       "      <td>...</td>\n",
       "      <td>1.0</td>\n",
       "      <td>1.0</td>\n",
       "      <td>0.0</td>\n",
       "      <td>1.0</td>\n",
       "      <td>0.0</td>\n",
       "      <td>0.0</td>\n",
       "      <td>0.0</td>\n",
       "      <td>0.0</td>\n",
       "      <td>1.0</td>\n",
       "      <td>1.0</td>\n",
       "    </tr>\n",
       "    <tr>\n",
       "      <th>1877</th>\n",
       "      <td>7873-CVMAW</td>\n",
       "      <td>1</td>\n",
       "      <td>88.55</td>\n",
       "      <td>6362.0</td>\n",
       "      <td>2014-02-01</td>\n",
       "      <td>2020-02-01</td>\n",
       "      <td>0</td>\n",
       "      <td>0.0</td>\n",
       "      <td>0.0</td>\n",
       "      <td>2.0</td>\n",
       "      <td>...</td>\n",
       "      <td>0.0</td>\n",
       "      <td>0.0</td>\n",
       "      <td>0.0</td>\n",
       "      <td>1.0</td>\n",
       "      <td>0.0</td>\n",
       "      <td>0.0</td>\n",
       "      <td>0.0</td>\n",
       "      <td>0.0</td>\n",
       "      <td>1.0</td>\n",
       "      <td>1.0</td>\n",
       "    </tr>\n",
       "    <tr>\n",
       "      <th>2793</th>\n",
       "      <td>3904-UKFRE</td>\n",
       "      <td>1</td>\n",
       "      <td>80.10</td>\n",
       "      <td>336.0</td>\n",
       "      <td>2019-10-01</td>\n",
       "      <td>2020-02-01</td>\n",
       "      <td>0</td>\n",
       "      <td>0.0</td>\n",
       "      <td>1.0</td>\n",
       "      <td>2.0</td>\n",
       "      <td>...</td>\n",
       "      <td>0.0</td>\n",
       "      <td>0.0</td>\n",
       "      <td>1.0</td>\n",
       "      <td>1.0</td>\n",
       "      <td>0.0</td>\n",
       "      <td>1.0</td>\n",
       "      <td>0.0</td>\n",
       "      <td>0.0</td>\n",
       "      <td>1.0</td>\n",
       "      <td>0.0</td>\n",
       "    </tr>\n",
       "    <tr>\n",
       "      <th>...</th>\n",
       "      <td>...</td>\n",
       "      <td>...</td>\n",
       "      <td>...</td>\n",
       "      <td>...</td>\n",
       "      <td>...</td>\n",
       "      <td>...</td>\n",
       "      <td>...</td>\n",
       "      <td>...</td>\n",
       "      <td>...</td>\n",
       "      <td>...</td>\n",
       "      <td>...</td>\n",
       "      <td>...</td>\n",
       "      <td>...</td>\n",
       "      <td>...</td>\n",
       "      <td>...</td>\n",
       "      <td>...</td>\n",
       "      <td>...</td>\n",
       "      <td>...</td>\n",
       "      <td>...</td>\n",
       "      <td>...</td>\n",
       "      <td>...</td>\n",
       "    </tr>\n",
       "    <tr>\n",
       "      <th>1683</th>\n",
       "      <td>0354-VXMJC</td>\n",
       "      <td>1</td>\n",
       "      <td>19.60</td>\n",
       "      <td>426.0</td>\n",
       "      <td>2018-03-01</td>\n",
       "      <td>2020-02-01</td>\n",
       "      <td>0</td>\n",
       "      <td>0.0</td>\n",
       "      <td>1.0</td>\n",
       "      <td>0.0</td>\n",
       "      <td>...</td>\n",
       "      <td>0.0</td>\n",
       "      <td>0.0</td>\n",
       "      <td>0.0</td>\n",
       "      <td>1.0</td>\n",
       "      <td>0.0</td>\n",
       "      <td>0.0</td>\n",
       "      <td>0.0</td>\n",
       "      <td>0.0</td>\n",
       "      <td>0.0</td>\n",
       "      <td>1.0</td>\n",
       "    </tr>\n",
       "    <tr>\n",
       "      <th>334</th>\n",
       "      <td>2868-SNELZ</td>\n",
       "      <td>0</td>\n",
       "      <td>80.60</td>\n",
       "      <td>155.0</td>\n",
       "      <td>2019-10-01</td>\n",
       "      <td>2019-12-01</td>\n",
       "      <td>0</td>\n",
       "      <td>2.0</td>\n",
       "      <td>1.0</td>\n",
       "      <td>0.0</td>\n",
       "      <td>...</td>\n",
       "      <td>1.0</td>\n",
       "      <td>0.0</td>\n",
       "      <td>1.0</td>\n",
       "      <td>0.0</td>\n",
       "      <td>1.0</td>\n",
       "      <td>1.0</td>\n",
       "      <td>1.0</td>\n",
       "      <td>1.0</td>\n",
       "      <td>1.0</td>\n",
       "      <td>1.0</td>\n",
       "    </tr>\n",
       "    <tr>\n",
       "      <th>4886</th>\n",
       "      <td>2673-ZALNP</td>\n",
       "      <td>1</td>\n",
       "      <td>19.90</td>\n",
       "      <td>173.0</td>\n",
       "      <td>2019-07-01</td>\n",
       "      <td>2020-02-01</td>\n",
       "      <td>0</td>\n",
       "      <td>NaN</td>\n",
       "      <td>NaN</td>\n",
       "      <td>NaN</td>\n",
       "      <td>...</td>\n",
       "      <td>NaN</td>\n",
       "      <td>NaN</td>\n",
       "      <td>NaN</td>\n",
       "      <td>NaN</td>\n",
       "      <td>NaN</td>\n",
       "      <td>NaN</td>\n",
       "      <td>NaN</td>\n",
       "      <td>NaN</td>\n",
       "      <td>NaN</td>\n",
       "      <td>NaN</td>\n",
       "    </tr>\n",
       "    <tr>\n",
       "      <th>2467</th>\n",
       "      <td>6559-RAKOZ</td>\n",
       "      <td>1</td>\n",
       "      <td>97.95</td>\n",
       "      <td>4917.0</td>\n",
       "      <td>2016-01-01</td>\n",
       "      <td>2020-02-01</td>\n",
       "      <td>0</td>\n",
       "      <td>0.0</td>\n",
       "      <td>1.0</td>\n",
       "      <td>2.0</td>\n",
       "      <td>...</td>\n",
       "      <td>0.0</td>\n",
       "      <td>0.0</td>\n",
       "      <td>0.0</td>\n",
       "      <td>0.0</td>\n",
       "      <td>0.0</td>\n",
       "      <td>1.0</td>\n",
       "      <td>0.0</td>\n",
       "      <td>0.0</td>\n",
       "      <td>1.0</td>\n",
       "      <td>0.0</td>\n",
       "    </tr>\n",
       "    <tr>\n",
       "      <th>1822</th>\n",
       "      <td>4911-BANWH</td>\n",
       "      <td>0</td>\n",
       "      <td>86.55</td>\n",
       "      <td>2697.0</td>\n",
       "      <td>2017-04-01</td>\n",
       "      <td>2019-11-01</td>\n",
       "      <td>0</td>\n",
       "      <td>0.0</td>\n",
       "      <td>1.0</td>\n",
       "      <td>2.0</td>\n",
       "      <td>...</td>\n",
       "      <td>1.0</td>\n",
       "      <td>0.0</td>\n",
       "      <td>0.0</td>\n",
       "      <td>1.0</td>\n",
       "      <td>0.0</td>\n",
       "      <td>0.0</td>\n",
       "      <td>0.0</td>\n",
       "      <td>0.0</td>\n",
       "      <td>0.0</td>\n",
       "      <td>0.0</td>\n",
       "    </tr>\n",
       "  </tbody>\n",
       "</table>\n",
       "<p>4770 rows × 21 columns</p>\n",
       "</div>"
      ],
      "text/plain": [
       "      customerID  churned  MonthlyCharges  TotalCharges  begin_date  \\\n",
       "1812  2085-BOJKI        1           96.65        1588.0  2018-09-01   \n",
       "1442  3253-HKOKL        1          100.30        5244.0  2015-10-01   \n",
       "3319  3866-MDTUB        0           70.75         146.0  2019-10-01   \n",
       "1877  7873-CVMAW        1           88.55        6362.0  2014-02-01   \n",
       "2793  3904-UKFRE        1           80.10         336.0  2019-10-01   \n",
       "...          ...      ...             ...           ...         ...   \n",
       "1683  0354-VXMJC        1           19.60         426.0  2018-03-01   \n",
       "334   2868-SNELZ        0           80.60         155.0  2019-10-01   \n",
       "4886  2673-ZALNP        1           19.90         173.0  2019-07-01   \n",
       "2467  6559-RAKOZ        1           97.95        4917.0  2016-01-01   \n",
       "1822  4911-BANWH        0           86.55        2697.0  2017-04-01   \n",
       "\n",
       "        end_date  SeniorCitizen    0    1    2  ...    4    5    6    7    8  \\\n",
       "1812  2020-02-01              0  2.0  0.0  1.0  ...  1.0  0.0  0.0  1.0  0.0   \n",
       "1442  2020-02-01              0  1.0  1.0  2.0  ...  1.0  1.0  1.0  1.0  1.0   \n",
       "3319  2019-12-01              0  0.0  0.0  2.0  ...  1.0  1.0  0.0  1.0  0.0   \n",
       "1877  2020-02-01              0  0.0  0.0  2.0  ...  0.0  0.0  0.0  1.0  0.0   \n",
       "2793  2020-02-01              0  0.0  1.0  2.0  ...  0.0  0.0  1.0  1.0  0.0   \n",
       "...          ...            ...  ...  ...  ...  ...  ...  ...  ...  ...  ...   \n",
       "1683  2020-02-01              0  0.0  1.0  0.0  ...  0.0  0.0  0.0  1.0  0.0   \n",
       "334   2019-12-01              0  2.0  1.0  0.0  ...  1.0  0.0  1.0  0.0  1.0   \n",
       "4886  2020-02-01              0  NaN  NaN  NaN  ...  NaN  NaN  NaN  NaN  NaN   \n",
       "2467  2020-02-01              0  0.0  1.0  2.0  ...  0.0  0.0  0.0  0.0  0.0   \n",
       "1822  2019-11-01              0  0.0  1.0  2.0  ...  1.0  0.0  0.0  1.0  0.0   \n",
       "\n",
       "        9   10   11   12   13  \n",
       "1812  0.0  0.0  0.0  1.0  1.0  \n",
       "1442  0.0  1.0  1.0  1.0  1.0  \n",
       "3319  0.0  0.0  0.0  1.0  1.0  \n",
       "1877  0.0  0.0  0.0  1.0  1.0  \n",
       "2793  1.0  0.0  0.0  1.0  0.0  \n",
       "...   ...  ...  ...  ...  ...  \n",
       "1683  0.0  0.0  0.0  0.0  1.0  \n",
       "334   1.0  1.0  1.0  1.0  1.0  \n",
       "4886  NaN  NaN  NaN  NaN  NaN  \n",
       "2467  1.0  0.0  0.0  1.0  0.0  \n",
       "1822  0.0  0.0  0.0  0.0  0.0  \n",
       "\n",
       "[4770 rows x 21 columns]"
      ]
     },
     "execution_count": 185,
     "metadata": {},
     "output_type": "execute_result"
    }
   ],
   "source": [
    "# удалим колонки, которые хотим кодировать\n",
    "train_dropped = train_enc.drop(['Type','PaperlessBilling',\n",
    "                                            'PaymentMethod',\n",
    "                                            'gender',\n",
    "                                            'Partner',\n",
    "                                            'Dependents',\n",
    "                                            'MultipleLines',\n",
    "                                            'InternetService',\n",
    "                                            'OnlineSecurity',\n",
    "                                            'OnlineBackup',\n",
    "                                            'DeviceProtection',\n",
    "                                            'TechSupport',\n",
    "                                            'StreamingTV',\n",
    "                                            'StreamingMovies'], axis=1)\n",
    "train_dropped"
   ]
  },
  {
   "cell_type": "code",
   "execution_count": 186,
   "id": "993d2a52",
   "metadata": {},
   "outputs": [
    {
     "data": {
      "text/html": [
       "<div>\n",
       "<style scoped>\n",
       "    .dataframe tbody tr th:only-of-type {\n",
       "        vertical-align: middle;\n",
       "    }\n",
       "\n",
       "    .dataframe tbody tr th {\n",
       "        vertical-align: top;\n",
       "    }\n",
       "\n",
       "    .dataframe thead th {\n",
       "        text-align: right;\n",
       "    }\n",
       "</style>\n",
       "<table border=\"1\" class=\"dataframe\">\n",
       "  <thead>\n",
       "    <tr style=\"text-align: right;\">\n",
       "      <th></th>\n",
       "      <th>customerID</th>\n",
       "      <th>churned</th>\n",
       "      <th>MonthlyCharges</th>\n",
       "      <th>TotalCharges</th>\n",
       "      <th>begin_date</th>\n",
       "      <th>end_date</th>\n",
       "      <th>SeniorCitizen</th>\n",
       "      <th>0</th>\n",
       "      <th>1</th>\n",
       "      <th>2</th>\n",
       "      <th>...</th>\n",
       "      <th>4</th>\n",
       "      <th>5</th>\n",
       "      <th>6</th>\n",
       "      <th>7</th>\n",
       "      <th>8</th>\n",
       "      <th>9</th>\n",
       "      <th>10</th>\n",
       "      <th>11</th>\n",
       "      <th>12</th>\n",
       "      <th>13</th>\n",
       "    </tr>\n",
       "  </thead>\n",
       "  <tbody>\n",
       "    <tr>\n",
       "      <th>4742</th>\n",
       "      <td>8544-JNBOX</td>\n",
       "      <td>1</td>\n",
       "      <td>20.80</td>\n",
       "      <td>1521.0</td>\n",
       "      <td>2014-02-01</td>\n",
       "      <td>2020-02-01</td>\n",
       "      <td>0</td>\n",
       "      <td>NaN</td>\n",
       "      <td>NaN</td>\n",
       "      <td>NaN</td>\n",
       "      <td>...</td>\n",
       "      <td>NaN</td>\n",
       "      <td>NaN</td>\n",
       "      <td>NaN</td>\n",
       "      <td>NaN</td>\n",
       "      <td>NaN</td>\n",
       "      <td>NaN</td>\n",
       "      <td>NaN</td>\n",
       "      <td>NaN</td>\n",
       "      <td>NaN</td>\n",
       "      <td>NaN</td>\n",
       "    </tr>\n",
       "    <tr>\n",
       "      <th>4243</th>\n",
       "      <td>9362-MWODR</td>\n",
       "      <td>1</td>\n",
       "      <td>64.10</td>\n",
       "      <td>2460.0</td>\n",
       "      <td>2016-10-01</td>\n",
       "      <td>2020-02-01</td>\n",
       "      <td>0</td>\n",
       "      <td>NaN</td>\n",
       "      <td>NaN</td>\n",
       "      <td>NaN</td>\n",
       "      <td>...</td>\n",
       "      <td>NaN</td>\n",
       "      <td>NaN</td>\n",
       "      <td>NaN</td>\n",
       "      <td>NaN</td>\n",
       "      <td>NaN</td>\n",
       "      <td>NaN</td>\n",
       "      <td>NaN</td>\n",
       "      <td>NaN</td>\n",
       "      <td>NaN</td>\n",
       "      <td>NaN</td>\n",
       "    </tr>\n",
       "    <tr>\n",
       "      <th>6629</th>\n",
       "      <td>6437-UDQJM</td>\n",
       "      <td>1</td>\n",
       "      <td>84.10</td>\n",
       "      <td>6129.0</td>\n",
       "      <td>2014-02-01</td>\n",
       "      <td>2020-02-01</td>\n",
       "      <td>1</td>\n",
       "      <td>NaN</td>\n",
       "      <td>NaN</td>\n",
       "      <td>NaN</td>\n",
       "      <td>...</td>\n",
       "      <td>NaN</td>\n",
       "      <td>NaN</td>\n",
       "      <td>NaN</td>\n",
       "      <td>NaN</td>\n",
       "      <td>NaN</td>\n",
       "      <td>NaN</td>\n",
       "      <td>NaN</td>\n",
       "      <td>NaN</td>\n",
       "      <td>NaN</td>\n",
       "      <td>NaN</td>\n",
       "    </tr>\n",
       "    <tr>\n",
       "      <th>446</th>\n",
       "      <td>4110-PFEUZ</td>\n",
       "      <td>0</td>\n",
       "      <td>69.55</td>\n",
       "      <td>69.0</td>\n",
       "      <td>2019-09-01</td>\n",
       "      <td>2019-10-01</td>\n",
       "      <td>0</td>\n",
       "      <td>0.0</td>\n",
       "      <td>0.0</td>\n",
       "      <td>0.0</td>\n",
       "      <td>...</td>\n",
       "      <td>1.0</td>\n",
       "      <td>1.0</td>\n",
       "      <td>1.0</td>\n",
       "      <td>0.0</td>\n",
       "      <td>0.0</td>\n",
       "      <td>0.0</td>\n",
       "      <td>0.0</td>\n",
       "      <td>0.0</td>\n",
       "      <td>0.0</td>\n",
       "      <td>1.0</td>\n",
       "    </tr>\n",
       "    <tr>\n",
       "      <th>2717</th>\n",
       "      <td>0244-LGNFY</td>\n",
       "      <td>1</td>\n",
       "      <td>92.65</td>\n",
       "      <td>6733.0</td>\n",
       "      <td>2014-02-01</td>\n",
       "      <td>2020-02-01</td>\n",
       "      <td>0</td>\n",
       "      <td>NaN</td>\n",
       "      <td>NaN</td>\n",
       "      <td>NaN</td>\n",
       "      <td>...</td>\n",
       "      <td>NaN</td>\n",
       "      <td>NaN</td>\n",
       "      <td>NaN</td>\n",
       "      <td>NaN</td>\n",
       "      <td>NaN</td>\n",
       "      <td>NaN</td>\n",
       "      <td>NaN</td>\n",
       "      <td>NaN</td>\n",
       "      <td>NaN</td>\n",
       "      <td>NaN</td>\n",
       "    </tr>\n",
       "    <tr>\n",
       "      <th>...</th>\n",
       "      <td>...</td>\n",
       "      <td>...</td>\n",
       "      <td>...</td>\n",
       "      <td>...</td>\n",
       "      <td>...</td>\n",
       "      <td>...</td>\n",
       "      <td>...</td>\n",
       "      <td>...</td>\n",
       "      <td>...</td>\n",
       "      <td>...</td>\n",
       "      <td>...</td>\n",
       "      <td>...</td>\n",
       "      <td>...</td>\n",
       "      <td>...</td>\n",
       "      <td>...</td>\n",
       "      <td>...</td>\n",
       "      <td>...</td>\n",
       "      <td>...</td>\n",
       "      <td>...</td>\n",
       "      <td>...</td>\n",
       "      <td>...</td>\n",
       "    </tr>\n",
       "    <tr>\n",
       "      <th>4912</th>\n",
       "      <td>5281-BUZGT</td>\n",
       "      <td>0</td>\n",
       "      <td>90.85</td>\n",
       "      <td>3186.0</td>\n",
       "      <td>2016-11-01</td>\n",
       "      <td>2019-11-01</td>\n",
       "      <td>1</td>\n",
       "      <td>NaN</td>\n",
       "      <td>NaN</td>\n",
       "      <td>NaN</td>\n",
       "      <td>...</td>\n",
       "      <td>NaN</td>\n",
       "      <td>NaN</td>\n",
       "      <td>NaN</td>\n",
       "      <td>NaN</td>\n",
       "      <td>NaN</td>\n",
       "      <td>NaN</td>\n",
       "      <td>NaN</td>\n",
       "      <td>NaN</td>\n",
       "      <td>NaN</td>\n",
       "      <td>NaN</td>\n",
       "    </tr>\n",
       "    <tr>\n",
       "      <th>1478</th>\n",
       "      <td>9851-QXEEQ</td>\n",
       "      <td>0</td>\n",
       "      <td>104.70</td>\n",
       "      <td>4346.0</td>\n",
       "      <td>2016-06-01</td>\n",
       "      <td>2019-11-01</td>\n",
       "      <td>0</td>\n",
       "      <td>0.0</td>\n",
       "      <td>1.0</td>\n",
       "      <td>2.0</td>\n",
       "      <td>...</td>\n",
       "      <td>1.0</td>\n",
       "      <td>1.0</td>\n",
       "      <td>0.0</td>\n",
       "      <td>0.0</td>\n",
       "      <td>0.0</td>\n",
       "      <td>0.0</td>\n",
       "      <td>1.0</td>\n",
       "      <td>0.0</td>\n",
       "      <td>0.0</td>\n",
       "      <td>0.0</td>\n",
       "    </tr>\n",
       "    <tr>\n",
       "      <th>1772</th>\n",
       "      <td>7198-GLXTC</td>\n",
       "      <td>0</td>\n",
       "      <td>79.00</td>\n",
       "      <td>143.0</td>\n",
       "      <td>2019-09-01</td>\n",
       "      <td>2019-11-01</td>\n",
       "      <td>0</td>\n",
       "      <td>NaN</td>\n",
       "      <td>NaN</td>\n",
       "      <td>NaN</td>\n",
       "      <td>...</td>\n",
       "      <td>NaN</td>\n",
       "      <td>NaN</td>\n",
       "      <td>NaN</td>\n",
       "      <td>NaN</td>\n",
       "      <td>NaN</td>\n",
       "      <td>NaN</td>\n",
       "      <td>NaN</td>\n",
       "      <td>NaN</td>\n",
       "      <td>NaN</td>\n",
       "      <td>NaN</td>\n",
       "    </tr>\n",
       "    <tr>\n",
       "      <th>5748</th>\n",
       "      <td>4686-UXDML</td>\n",
       "      <td>1</td>\n",
       "      <td>99.85</td>\n",
       "      <td>1992.0</td>\n",
       "      <td>2018-05-01</td>\n",
       "      <td>2020-02-01</td>\n",
       "      <td>0</td>\n",
       "      <td>NaN</td>\n",
       "      <td>NaN</td>\n",
       "      <td>NaN</td>\n",
       "      <td>...</td>\n",
       "      <td>NaN</td>\n",
       "      <td>NaN</td>\n",
       "      <td>NaN</td>\n",
       "      <td>NaN</td>\n",
       "      <td>NaN</td>\n",
       "      <td>NaN</td>\n",
       "      <td>NaN</td>\n",
       "      <td>NaN</td>\n",
       "      <td>NaN</td>\n",
       "      <td>NaN</td>\n",
       "    </tr>\n",
       "    <tr>\n",
       "      <th>1415</th>\n",
       "      <td>5223-UZAVK</td>\n",
       "      <td>1</td>\n",
       "      <td>100.30</td>\n",
       "      <td>6603.0</td>\n",
       "      <td>2014-10-01</td>\n",
       "      <td>2020-02-01</td>\n",
       "      <td>0</td>\n",
       "      <td>2.0</td>\n",
       "      <td>1.0</td>\n",
       "      <td>1.0</td>\n",
       "      <td>...</td>\n",
       "      <td>1.0</td>\n",
       "      <td>0.0</td>\n",
       "      <td>1.0</td>\n",
       "      <td>1.0</td>\n",
       "      <td>0.0</td>\n",
       "      <td>0.0</td>\n",
       "      <td>0.0</td>\n",
       "      <td>0.0</td>\n",
       "      <td>1.0</td>\n",
       "      <td>1.0</td>\n",
       "    </tr>\n",
       "  </tbody>\n",
       "</table>\n",
       "<p>1591 rows × 21 columns</p>\n",
       "</div>"
      ],
      "text/plain": [
       "      customerID  churned  MonthlyCharges  TotalCharges  begin_date  \\\n",
       "4742  8544-JNBOX        1           20.80        1521.0  2014-02-01   \n",
       "4243  9362-MWODR        1           64.10        2460.0  2016-10-01   \n",
       "6629  6437-UDQJM        1           84.10        6129.0  2014-02-01   \n",
       "446   4110-PFEUZ        0           69.55          69.0  2019-09-01   \n",
       "2717  0244-LGNFY        1           92.65        6733.0  2014-02-01   \n",
       "...          ...      ...             ...           ...         ...   \n",
       "4912  5281-BUZGT        0           90.85        3186.0  2016-11-01   \n",
       "1478  9851-QXEEQ        0          104.70        4346.0  2016-06-01   \n",
       "1772  7198-GLXTC        0           79.00         143.0  2019-09-01   \n",
       "5748  4686-UXDML        1           99.85        1992.0  2018-05-01   \n",
       "1415  5223-UZAVK        1          100.30        6603.0  2014-10-01   \n",
       "\n",
       "        end_date  SeniorCitizen    0    1    2  ...    4    5    6    7    8  \\\n",
       "4742  2020-02-01              0  NaN  NaN  NaN  ...  NaN  NaN  NaN  NaN  NaN   \n",
       "4243  2020-02-01              0  NaN  NaN  NaN  ...  NaN  NaN  NaN  NaN  NaN   \n",
       "6629  2020-02-01              1  NaN  NaN  NaN  ...  NaN  NaN  NaN  NaN  NaN   \n",
       "446   2019-10-01              0  0.0  0.0  0.0  ...  1.0  1.0  1.0  0.0  0.0   \n",
       "2717  2020-02-01              0  NaN  NaN  NaN  ...  NaN  NaN  NaN  NaN  NaN   \n",
       "...          ...            ...  ...  ...  ...  ...  ...  ...  ...  ...  ...   \n",
       "4912  2019-11-01              1  NaN  NaN  NaN  ...  NaN  NaN  NaN  NaN  NaN   \n",
       "1478  2019-11-01              0  0.0  1.0  2.0  ...  1.0  1.0  0.0  0.0  0.0   \n",
       "1772  2019-11-01              0  NaN  NaN  NaN  ...  NaN  NaN  NaN  NaN  NaN   \n",
       "5748  2020-02-01              0  NaN  NaN  NaN  ...  NaN  NaN  NaN  NaN  NaN   \n",
       "1415  2020-02-01              0  2.0  1.0  1.0  ...  1.0  0.0  1.0  1.0  0.0   \n",
       "\n",
       "        9   10   11   12   13  \n",
       "4742  NaN  NaN  NaN  NaN  NaN  \n",
       "4243  NaN  NaN  NaN  NaN  NaN  \n",
       "6629  NaN  NaN  NaN  NaN  NaN  \n",
       "446   0.0  0.0  0.0  0.0  1.0  \n",
       "2717  NaN  NaN  NaN  NaN  NaN  \n",
       "...   ...  ...  ...  ...  ...  \n",
       "4912  NaN  NaN  NaN  NaN  NaN  \n",
       "1478  0.0  1.0  0.0  0.0  0.0  \n",
       "1772  NaN  NaN  NaN  NaN  NaN  \n",
       "5748  NaN  NaN  NaN  NaN  NaN  \n",
       "1415  0.0  0.0  0.0  1.0  1.0  \n",
       "\n",
       "[1591 rows x 21 columns]"
      ]
     },
     "execution_count": 186,
     "metadata": {},
     "output_type": "execute_result"
    }
   ],
   "source": [
    "# удалим колонки, которые хотим кодировать\n",
    "test_dropped = test_enc.drop(['Type','PaperlessBilling',\n",
    "                                            'PaymentMethod',\n",
    "                                            'gender',\n",
    "                                            'Partner',\n",
    "                                            'Dependents',\n",
    "                                            'MultipleLines',\n",
    "                                            'InternetService',\n",
    "                                            'OnlineSecurity',\n",
    "                                            'OnlineBackup',\n",
    "                                            'DeviceProtection',\n",
    "                                            'TechSupport',\n",
    "                                            'StreamingTV',\n",
    "                                            'StreamingMovies'], axis=1)\n",
    "test_dropped"
   ]
  },
  {
   "cell_type": "code",
   "execution_count": 187,
   "id": "60ee80c0",
   "metadata": {},
   "outputs": [
    {
     "data": {
      "text/plain": [
       "(4770, 21)"
      ]
     },
     "execution_count": 187,
     "metadata": {},
     "output_type": "execute_result"
    }
   ],
   "source": [
    "train_dropped.shape"
   ]
  },
  {
   "cell_type": "code",
   "execution_count": 188,
   "id": "371897ed",
   "metadata": {},
   "outputs": [
    {
     "data": {
      "text/plain": [
       "(1591, 21)"
      ]
     },
     "execution_count": 188,
     "metadata": {},
     "output_type": "execute_result"
    }
   ],
   "source": [
    "test_dropped.shape"
   ]
  },
  {
   "cell_type": "code",
   "execution_count": 190,
   "id": "991c00c0",
   "metadata": {},
   "outputs": [
    {
     "data": {
      "text/plain": [
       "customerID           0\n",
       "churned              0\n",
       "MonthlyCharges       0\n",
       "TotalCharges         0\n",
       "begin_date           0\n",
       "end_date             0\n",
       "SeniorCitizen        0\n",
       "0                 1526\n",
       "1                 1526\n",
       "2                 1526\n",
       "3                 1526\n",
       "4                 1526\n",
       "5                 1526\n",
       "6                 1526\n",
       "7                 1526\n",
       "8                 1526\n",
       "9                 1526\n",
       "10                1526\n",
       "11                1526\n",
       "12                1526\n",
       "13                1526\n",
       "dtype: int64"
      ]
     },
     "execution_count": 190,
     "metadata": {},
     "output_type": "execute_result"
    }
   ],
   "source": [
    "train_dropped.isna().sum()"
   ]
  },
  {
   "cell_type": "code",
   "execution_count": 191,
   "id": "e14f62dd",
   "metadata": {
    "scrolled": true
   },
   "outputs": [
    {
     "data": {
      "text/plain": [
       "customerID           0\n",
       "churned              0\n",
       "MonthlyCharges       0\n",
       "TotalCharges         0\n",
       "begin_date           0\n",
       "end_date             0\n",
       "SeniorCitizen        0\n",
       "0                 1223\n",
       "1                 1223\n",
       "2                 1223\n",
       "3                 1223\n",
       "4                 1223\n",
       "5                 1223\n",
       "6                 1223\n",
       "7                 1223\n",
       "8                 1223\n",
       "9                 1223\n",
       "10                1223\n",
       "11                1223\n",
       "12                1223\n",
       "13                1223\n",
       "dtype: int64"
      ]
     },
     "execution_count": 191,
     "metadata": {},
     "output_type": "execute_result"
    }
   ],
   "source": [
    "test_dropped.isna().sum()"
   ]
  },
  {
   "cell_type": "code",
   "execution_count": 192,
   "id": "cbbeab2d",
   "metadata": {},
   "outputs": [],
   "source": [
    "train_dropped = train_dropped.dropna()"
   ]
  },
  {
   "cell_type": "code",
   "execution_count": 193,
   "id": "2e9dbb62",
   "metadata": {},
   "outputs": [],
   "source": [
    "test_dropped = test_dropped.dropna()"
   ]
  },
  {
   "cell_type": "code",
   "execution_count": 195,
   "id": "56aac8ee",
   "metadata": {},
   "outputs": [
    {
     "data": {
      "text/plain": [
       "customerID        0\n",
       "churned           0\n",
       "MonthlyCharges    0\n",
       "TotalCharges      0\n",
       "begin_date        0\n",
       "end_date          0\n",
       "SeniorCitizen     0\n",
       "0                 0\n",
       "1                 0\n",
       "2                 0\n",
       "3                 0\n",
       "4                 0\n",
       "5                 0\n",
       "6                 0\n",
       "7                 0\n",
       "8                 0\n",
       "9                 0\n",
       "10                0\n",
       "11                0\n",
       "12                0\n",
       "13                0\n",
       "dtype: int64"
      ]
     },
     "execution_count": 195,
     "metadata": {},
     "output_type": "execute_result"
    }
   ],
   "source": [
    "train_dropped.isna().sum()"
   ]
  },
  {
   "cell_type": "code",
   "execution_count": 196,
   "id": "187728e2",
   "metadata": {},
   "outputs": [
    {
     "data": {
      "text/plain": [
       "customerID        0\n",
       "churned           0\n",
       "MonthlyCharges    0\n",
       "TotalCharges      0\n",
       "begin_date        0\n",
       "end_date          0\n",
       "SeniorCitizen     0\n",
       "0                 0\n",
       "1                 0\n",
       "2                 0\n",
       "3                 0\n",
       "4                 0\n",
       "5                 0\n",
       "6                 0\n",
       "7                 0\n",
       "8                 0\n",
       "9                 0\n",
       "10                0\n",
       "11                0\n",
       "12                0\n",
       "13                0\n",
       "dtype: int64"
      ]
     },
     "execution_count": 196,
     "metadata": {},
     "output_type": "execute_result"
    }
   ],
   "source": [
    "test_dropped.isna().sum()"
   ]
  },
  {
   "cell_type": "markdown",
   "id": "13dcc039",
   "metadata": {},
   "source": [
    "### 3.3 После кодирования категориальных переменных выделяем `X, y` для обучения и тестирования моделей"
   ]
  },
  {
   "cell_type": "code",
   "execution_count": 197,
   "id": "06c9236f",
   "metadata": {},
   "outputs": [
    {
     "name": "stdout",
     "output_type": "stream",
     "text": [
      "Обучающая выборка (признаки): 3244\n",
      "Обучающая выборка (таргет) 3244\n",
      "\n",
      "Тестовая выборка (признаки): 368\n",
      "Тестовая выборка (таргет) 368\n"
     ]
    }
   ],
   "source": [
    "X_train = train_dropped.drop(['churned'], axis=1)\n",
    "y_train = train_dropped['churned']\n",
    "\n",
    "X_test = test_dropped.drop(['churned'], axis=1)\n",
    "y_test = test_dropped['churned']\n",
    "\n",
    "print('Обучающая выборка (признаки):', X_train.shape[0])\n",
    "print('Обучающая выборка (таргет)', y_train.shape[0])\n",
    "print()\n",
    "print('Тестовая выборка (признаки):', X_test.shape[0])\n",
    "print('Тестовая выборка (таргет)', y_test.shape[0])"
   ]
  },
  {
   "cell_type": "markdown",
   "id": "d0c54bab",
   "metadata": {},
   "source": [
    "### 3.4 Масштабирование признаков"
   ]
  },
  {
   "cell_type": "code",
   "execution_count": 198,
   "id": "e1888904",
   "metadata": {},
   "outputs": [],
   "source": [
    "from sklearn.preprocessing import MinMaxScaler"
   ]
  },
  {
   "cell_type": "code",
   "execution_count": 199,
   "id": "3e32c0b6",
   "metadata": {},
   "outputs": [],
   "source": [
    "X_train_n = X_train.drop(columns=['customerID', 'begin_date', 'end_date'])"
   ]
  },
  {
   "cell_type": "code",
   "execution_count": 200,
   "id": "2bf5100d",
   "metadata": {},
   "outputs": [],
   "source": [
    "X_test_n = X_test.drop(columns=['customerID', 'begin_date', 'end_date'])"
   ]
  },
  {
   "cell_type": "code",
   "execution_count": 201,
   "id": "fb58222b",
   "metadata": {},
   "outputs": [],
   "source": [
    "# вычисляем минимум и максимум по обучающим данным\n",
    "scaler_train = MinMaxScaler().fit(X_train_n)"
   ]
  },
  {
   "cell_type": "code",
   "execution_count": 202,
   "id": "8ec2e0dd",
   "metadata": {},
   "outputs": [],
   "source": [
    "# вычисляем минимум и максимум по тестовым данным\n",
    "scaler_test = MinMaxScaler().fit(X_test_n)"
   ]
  },
  {
   "cell_type": "code",
   "execution_count": 203,
   "id": "31419b25",
   "metadata": {},
   "outputs": [],
   "source": [
    "# масштабируем обучающие данные\n",
    "X_train_scaled = scaler_train.transform(X_train_n)"
   ]
  },
  {
   "cell_type": "code",
   "execution_count": 204,
   "id": "6a393b2a",
   "metadata": {},
   "outputs": [],
   "source": [
    "# масштабируем тестовые данные и оцениваем качество на масштабированных данных\n",
    "X_test_scaled = scaler_test.transform(X_test_n)"
   ]
  },
  {
   "cell_type": "markdown",
   "id": "dddbf44e",
   "metadata": {},
   "source": [
    "### *Вывод:* Данные готовы для обучения моделей: пропуски заполнены, признаки проверены на мультиколлинеарность, выделены подвыборки (трейн, тест), выделен целевой признак, категориальные данные закодированы, числовые признаки приведены к единому масштабу."
   ]
  },
  {
   "cell_type": "markdown",
   "id": "5e8a022a",
   "metadata": {},
   "source": [
    "## 4 Модели"
   ]
  },
  {
   "cell_type": "markdown",
   "id": "b989889e",
   "metadata": {},
   "source": [
    "### 4.4.1 Decision Tree\n",
    "https://scikit-learn.org/stable/modules/generated/sklearn.tree.DecisionTreeClassifier.html"
   ]
  },
  {
   "cell_type": "code",
   "execution_count": 205,
   "id": "f06db6e2",
   "metadata": {},
   "outputs": [
    {
     "name": "stdout",
     "output_type": "stream",
     "text": [
      "Наилучшие параметры для Decision Tree: {'criterion': 'entropy', 'max_depth': 4, 'splitter': 'best'}\n",
      "CPU times: user 583 ms, sys: 11.5 ms, total: 594 ms\n",
      "Wall time: 617 ms\n"
     ]
    }
   ],
   "source": [
    "%%time\n",
    "# Initiating and building Decision Tree model\n",
    "parameters_dt = {\n",
    "    'max_depth': [2, 3, 4, 5],\n",
    "    'splitter': ['best', 'random'],\n",
    "    'criterion': ['gini', 'entropy', 'log_loss']\n",
    "}\n",
    "\n",
    "dt = DecisionTreeClassifier()\n",
    "grid_DT = GridSearchCV(dt, param_grid=parameters_dt)\n",
    "best_decision_tree_model = grid_DT.fit(X_train_scaled, y_train)\n",
    "print('Наилучшие параметры для Decision Tree: {}'.format(best_decision_tree_model.best_params_))"
   ]
  },
  {
   "cell_type": "markdown",
   "id": "36260b8e",
   "metadata": {},
   "source": [
    "### 4.4.2 Random Forest\n",
    "https://scikit-learn.org/stable/modules/generated/sklearn.ensemble.RandomForestClassifier.html"
   ]
  },
  {
   "cell_type": "code",
   "execution_count": 206,
   "id": "02bff188",
   "metadata": {},
   "outputs": [
    {
     "name": "stdout",
     "output_type": "stream",
     "text": [
      "Наилучшие параметры для Random Forest: {'criterion': 'gini', 'max_depth': 9, 'n_estimators': 20}\n",
      "CPU times: user 4.78 s, sys: 49.8 ms, total: 4.83 s\n",
      "Wall time: 4.86 s\n"
     ]
    }
   ],
   "source": [
    "%%time\n",
    "# Initiating and building Random Forest Regressor model\n",
    "parameters_rf = {\n",
    "    'n_estimators': [5, 10, 20],\n",
    "    'max_depth': [3, 7, 9],\n",
    "    'criterion': ['gini', 'entropy', 'log_loss'],\n",
    "}\n",
    "\n",
    "rf_model = RandomForestClassifier()\n",
    "grid_RF = GridSearchCV(estimator=rf_model, param_grid=parameters_rf)\n",
    "best_random_forest_model = grid_RF.fit(X_train_scaled, y_train)\n",
    "print('Наилучшие параметры для Random Forest: {}'.format(best_random_forest_model.best_params_))"
   ]
  },
  {
   "cell_type": "markdown",
   "id": "8e6a3b87",
   "metadata": {},
   "source": [
    "### 4.4.3 Gradient Boosting\n",
    "\n",
    "https://scikit-learn.org/stable/modules/generated/sklearn.ensemble.GradientBoostingClassifier.html\n",
    "\n",
    "https://medium.com/all-things-ai/in-depth-parameter-tuning-for-gradient-boosting-3363992e9bae"
   ]
  },
  {
   "cell_type": "code",
   "execution_count": 207,
   "id": "edca992f",
   "metadata": {},
   "outputs": [
    {
     "name": "stdout",
     "output_type": "stream",
     "text": [
      "Наилучшие параметры для Gradient Descent: {'learning_rate': 0.1, 'max_depth': 4, 'max_features': 1.0, 'min_samples_leaf': 3, 'n_estimators': 10}\n",
      "CPU times: user 150 ms, sys: 15.1 ms, total: 165 ms\n",
      "Wall time: 1.15 s\n"
     ]
    }
   ],
   "source": [
    "%%time\n",
    "param_grid={'n_estimators':[5,10], \n",
    "            'learning_rate': [0.1,0.04,0.05,0.02],\n",
    "            'max_depth':[4], \n",
    "            'min_samples_leaf':[3], \n",
    "            'max_features':[1.0] } \n",
    "n_jobs=4\n",
    "\n",
    "estimator = GradientBoostingClassifier() \n",
    "gb_classifier = GridSearchCV(estimator=estimator, \n",
    "                          cv=5, \n",
    "                          param_grid=param_grid, \n",
    "                          n_jobs=n_jobs)\n",
    "    \n",
    "best_gb_model = gb_classifier.fit(X_train_scaled, y_train)\n",
    "print('Наилучшие параметры для Gradient Descent: {}'.format(best_gb_model.best_params_))"
   ]
  },
  {
   "cell_type": "code",
   "execution_count": 208,
   "id": "d5e177e0",
   "metadata": {},
   "outputs": [
    {
     "name": "stdout",
     "output_type": "stream",
     "text": [
      "GradientBoostingClassifier(max_depth=4, max_features=1.0, min_samples_leaf=3,\n",
      "                           n_estimators=10)\n"
     ]
    }
   ],
   "source": [
    "print(best_gb_model.best_estimator_)"
   ]
  },
  {
   "cell_type": "markdown",
   "id": "8afc784c",
   "metadata": {},
   "source": [
    "### 4.4.4 Сравнение качества моделей по кросс-валидации: "
   ]
  },
  {
   "cell_type": "markdown",
   "id": "3db57b5e",
   "metadata": {},
   "source": [
    "- **Decision Tree**"
   ]
  },
  {
   "cell_type": "code",
   "execution_count": 209,
   "id": "34ca2222",
   "metadata": {},
   "outputs": [
    {
     "name": "stdout",
     "output_type": "stream",
     "text": [
      "Best score Decision Tree: 0.78884\n"
     ]
    }
   ],
   "source": [
    "best_score_dt = round(best_decision_tree_model.best_score_, 5)\n",
    "print('Best score Decision Tree: {}'.format(best_score_dt))"
   ]
  },
  {
   "cell_type": "code",
   "execution_count": 211,
   "id": "e627fc35",
   "metadata": {},
   "outputs": [
    {
     "name": "stdout",
     "output_type": "stream",
     "text": [
      "TRAIN Decision Tree Model, F1: 0.8718458176038147\n"
     ]
    }
   ],
   "source": [
    "train_predicted_dt = best_decision_tree_model.predict(X_train_scaled)\n",
    "print(\"TRAIN Decision Tree Model, F1:\", f1_score(y_train, train_predicted_dt))"
   ]
  },
  {
   "cell_type": "code",
   "execution_count": 214,
   "id": "7e5ec602",
   "metadata": {},
   "outputs": [
    {
     "data": {
      "image/png": "[encoded data removed]",
      "text/plain": [
       "<Figure size 640x480 with 1 Axes>"
      ]
     },
     "metadata": {},
     "output_type": "display_data"
    }
   ],
   "source": [
    "probabilities_train_dt = best_decision_tree_model.predict_proba(X_train_scaled)\n",
    "probabilities_one_train_dt = probabilities_train_dt[:, 1]\n",
    "\n",
    "fpr, tpr, thresholds = roc_curve(y_train, probabilities_one_train_dt)\n",
    "\n",
    "plt.figure()\n",
    "\n",
    "# ROC-кривая случайной модели (выглядит как прямая)\n",
    "plt.plot([0, 1], [0, 1], linestyle='--')\n",
    "plt.plot(fpr, tpr)\n",
    "\n",
    "# < применим функции plt.xlim() и plt.ylim(), чтобы\n",
    "#   установим границы осей от 0 до 1 >\n",
    "plt.xlim([0.0, 1.0])\n",
    "plt.ylim([0.0, 1.0])\n",
    "\n",
    "# < применим функции plt.xlabel() и plt.ylabel(), чтобы\n",
    "#   подпишем оси \"False Positive Rate\" и \"True Positive Rate\" >\n",
    "plt.xlabel('False Positive Rate')\n",
    "plt.ylabel('True Positive Rate')\n",
    "\n",
    "# добавим к графику заголовок \"ROC-кривая\" функцией plt.title() >\n",
    "plt.title('ROC for Decision Tree (train data)')\n",
    "plt.show();"
   ]
  },
  {
   "cell_type": "code",
   "execution_count": 215,
   "id": "c04faa5a",
   "metadata": {},
   "outputs": [
    {
     "name": "stdout",
     "output_type": "stream",
     "text": [
      "Decision Tree // model 1 AUC score: 0.827776127089771\n"
     ]
    }
   ],
   "source": [
    "auc_roc_dt = roc_auc_score(y_train, probabilities_one_train_dt)\n",
    "print(f'Decision Tree // model 1 AUC score: {auc_roc_dt}')"
   ]
  },
  {
   "cell_type": "markdown",
   "id": "649d4277",
   "metadata": {},
   "source": [
    "- **Random Forest**"
   ]
  },
  {
   "cell_type": "code",
   "execution_count": 216,
   "id": "e3ba2b6f",
   "metadata": {},
   "outputs": [
    {
     "name": "stdout",
     "output_type": "stream",
     "text": [
      "Best score Random Forest: 0.78607\n"
     ]
    }
   ],
   "source": [
    "best_score_rf = round(best_random_forest_model.best_score_, 5)\n",
    "print('Best score Random Forest: {}'.format(best_score_rf))"
   ]
  },
  {
   "cell_type": "code",
   "execution_count": 218,
   "id": "a5e1e113",
   "metadata": {},
   "outputs": [
    {
     "name": "stdout",
     "output_type": "stream",
     "text": [
      "TRAIN Random Forest Model, F1: 0.925414364640884\n"
     ]
    }
   ],
   "source": [
    "train_predicted_rf = best_random_forest_model.predict(X_train_scaled)\n",
    "print(\"TRAIN Random Forest Model, F1:\", f1_score(y_train, train_predicted_rf))"
   ]
  },
  {
   "cell_type": "code",
   "execution_count": 219,
   "id": "3a62dc04",
   "metadata": {},
   "outputs": [
    {
     "data": {
      "image/png": "[encoded data removed]",
      "text/plain": [
       "<Figure size 640x480 with 1 Axes>"
      ]
     },
     "metadata": {},
     "output_type": "display_data"
    }
   ],
   "source": [
    "probabilities_train_rf = best_random_forest_model.predict_proba(X_train_scaled)\n",
    "probabilities_one_train_rf = probabilities_train_rf[:, 1]\n",
    "\n",
    "fpr, tpr, thresholds = roc_curve(y_train, probabilities_one_train_rf)\n",
    "\n",
    "plt.figure()\n",
    "\n",
    "# ROC-кривая случайной модели (выглядит как прямая)\n",
    "plt.plot([0, 1], [0, 1], linestyle='--')\n",
    "plt.plot(fpr, tpr)\n",
    "\n",
    "# < применим функции plt.xlim() и plt.ylim(), чтобы\n",
    "#   установим границы осей от 0 до 1 >\n",
    "plt.xlim([0.0, 1.0])\n",
    "plt.ylim([0.0, 1.0])\n",
    "\n",
    "# < применим функции plt.xlabel() и plt.ylabel(), чтобы\n",
    "#   подпишем оси \"False Positive Rate\" и \"True Positive Rate\" >\n",
    "plt.xlabel('False Positive Rate')\n",
    "plt.ylabel('True Positive Rate')\n",
    "\n",
    "# добавим к графику заголовок \"ROC-кривая\" функцией plt.title() >\n",
    "plt.title('ROC for Random Forest (train data)')\n",
    "plt.show();"
   ]
  },
  {
   "cell_type": "code",
   "execution_count": 220,
   "id": "06903baa",
   "metadata": {},
   "outputs": [
    {
     "name": "stdout",
     "output_type": "stream",
     "text": [
      "Random Forest // model 1 AUC score: 0.9570098942239125\n"
     ]
    }
   ],
   "source": [
    "auc_roc_rf = roc_auc_score(y_train, probabilities_one_train_rf)\n",
    "print(f'Random Forest // model 1 AUC score: {auc_roc_rf}')"
   ]
  },
  {
   "cell_type": "markdown",
   "id": "d1804b79",
   "metadata": {},
   "source": [
    "- **Gradient Boosting**"
   ]
  },
  {
   "cell_type": "code",
   "execution_count": 222,
   "id": "12c34759",
   "metadata": {},
   "outputs": [
    {
     "name": "stdout",
     "output_type": "stream",
     "text": [
      "Best score Gradient Boosting: 0.78946\n"
     ]
    }
   ],
   "source": [
    "best_score_gb = round(best_gb_model.best_score_, 5)\n",
    "print('Best score Gradient Boosting: {}'.format(best_score_gb))"
   ]
  },
  {
   "cell_type": "code",
   "execution_count": 221,
   "id": "151479a5",
   "metadata": {},
   "outputs": [
    {
     "name": "stdout",
     "output_type": "stream",
     "text": [
      "TRAIN Random Forest Model, F1: 0.925414364640884\n"
     ]
    }
   ],
   "source": [
    "train_predicted_gb = best_random_forest_model.predict(X_train_scaled)\n",
    "print(\"TRAIN Random Forest Model, F1:\", f1_score(y_train, train_predicted_rf))"
   ]
  },
  {
   "cell_type": "code",
   "execution_count": 223,
   "id": "f99b09c3",
   "metadata": {},
   "outputs": [
    {
     "data": {
      "image/png": "[encoded data removed]",
      "text/plain": [
       "<Figure size 640x480 with 1 Axes>"
      ]
     },
     "metadata": {},
     "output_type": "display_data"
    }
   ],
   "source": [
    "probabilities_train_gb = best_gb_model.predict_proba(X_train_scaled)\n",
    "probabilities_one_train_gb = probabilities_train_gb[:, 1]\n",
    "\n",
    "fpr, tpr, thresholds = roc_curve(y_train, probabilities_one_train_gb)\n",
    "\n",
    "plt.figure()\n",
    "\n",
    "# ROC-кривая случайной модели (выглядит как прямая)\n",
    "plt.plot([0, 1], [0, 1], linestyle='--')\n",
    "plt.plot(fpr, tpr)\n",
    "\n",
    "# < применим функции plt.xlim() и plt.ylim(), чтобы\n",
    "#   установим границы осей от 0 до 1 >\n",
    "plt.xlim([0.0, 1.0])\n",
    "plt.ylim([0.0, 1.0])\n",
    "\n",
    "# < применим функции plt.xlabel() и plt.ylabel(), чтобы\n",
    "#   подпишем оси \"False Positive Rate\" и \"True Positive Rate\" >\n",
    "plt.xlabel('False Positive Rate')\n",
    "plt.ylabel('True Positive Rate')\n",
    "\n",
    "# добавим к графику заголовок \"ROC-кривая\" функцией plt.title() >\n",
    "plt.title('ROC for Gradient Boosting (test data)')\n",
    "plt.show();"
   ]
  },
  {
   "cell_type": "code",
   "execution_count": 224,
   "id": "fa885588",
   "metadata": {},
   "outputs": [
    {
     "name": "stdout",
     "output_type": "stream",
     "text": [
      "Gradient Boosting // model 1 AUC score: 0.8541272977577054\n"
     ]
    }
   ],
   "source": [
    "auc_roc_gb = roc_auc_score(y_train, probabilities_one_train_gb)\n",
    "print(f'Gradient Boosting // model 1 AUC score: {auc_roc_gb}')"
   ]
  },
  {
   "cell_type": "markdown",
   "id": "ec2f1dfe",
   "metadata": {},
   "source": [
    "### *Вывод:* Наивысший скор по кросс-валидации получил градиентный бустинг."
   ]
  },
  {
   "cell_type": "markdown",
   "id": "2049e54d",
   "metadata": {},
   "source": [
    "## 5 Тестируем лучшую модель (gradient boosting) на тестовой выборке и делаем тестовые предсказания"
   ]
  },
  {
   "cell_type": "markdown",
   "id": "7d869983",
   "metadata": {},
   "source": [
    "### 5.1 Тестируем Gradient Boosting"
   ]
  },
  {
   "cell_type": "code",
   "execution_count": 234,
   "id": "2e48b0ab",
   "metadata": {},
   "outputs": [
    {
     "name": "stdout",
     "output_type": "stream",
     "text": [
      "TEST Gradient Boosting Model, F1: 0.8576329331046312\n"
     ]
    }
   ],
   "source": [
    "test_predicted_gb = best_gb_model.predict(X_test_scaled)\n",
    "print(\"TEST Gradient Boosting Model, F1:\", f1_score(y_test, test_predicted_gb))"
   ]
  },
  {
   "cell_type": "code",
   "execution_count": 235,
   "id": "8bf9803f",
   "metadata": {},
   "outputs": [
    {
     "data": {
      "image/png": "[encoded data removed]",
      "text/plain": [
       "<Figure size 640x480 with 1 Axes>"
      ]
     },
     "metadata": {},
     "output_type": "display_data"
    }
   ],
   "source": [
    "probabilities_test_gb = best_gb_model.predict_proba(X_test_scaled)\n",
    "probabilities_one_test_gb = probabilities_test_gb[:, 1]\n",
    "\n",
    "fpr, tpr, thresholds = roc_curve(y_test, probabilities_one_test_gb)\n",
    "\n",
    "plt.figure()\n",
    "\n",
    "# ROC-кривая случайной модели (выглядит как прямая)\n",
    "plt.plot([0, 1], [0, 1], linestyle='--')\n",
    "plt.plot(fpr, tpr)\n",
    "\n",
    "# < применим функции plt.xlim() и plt.ylim(), чтобы\n",
    "#   установим границы осей от 0 до 1 >\n",
    "plt.xlim([0.0, 1.0])\n",
    "plt.ylim([0.0, 1.0])\n",
    "\n",
    "# < применим функции plt.xlabel() и plt.ylabel(), чтобы\n",
    "#   подпишем оси \"False Positive Rate\" и \"True Positive Rate\" >\n",
    "plt.xlabel('False Positive Rate')\n",
    "plt.ylabel('True Positive Rate')\n",
    "\n",
    "# добавим к графику заголовок \"ROC-кривая\" функцией plt.title() >\n",
    "plt.title('ROC for Gradient Boosting (test data)')\n",
    "plt.show();"
   ]
  },
  {
   "cell_type": "code",
   "execution_count": 236,
   "id": "01819102",
   "metadata": {},
   "outputs": [
    {
     "name": "stdout",
     "output_type": "stream",
     "text": [
      "Gradient Boosting // model 1 AUC score: 0.829184472934473\n"
     ]
    }
   ],
   "source": [
    "auc_roc_gb = roc_auc_score(y_test, probabilities_one_test_gb)\n",
    "print(f'Gradient Boosting // model 1 AUC score: {auc_roc_gb}')"
   ]
  },
  {
   "cell_type": "markdown",
   "id": "902454ba",
   "metadata": {},
   "source": [
    "### *Вывод:* Модель градиентного бустинга показала наилучший результат. Модель слегка переобучается: на обучающей выборке AUC-ROC=0.85, на тестовой подвыборке AUC-ROC=0.82."
   ]
  },
  {
   "cell_type": "markdown",
   "id": "1e9bd205",
   "metadata": {},
   "source": [
    "### 5.2 Предсказания"
   ]
  },
  {
   "cell_type": "code",
   "execution_count": 238,
   "id": "83585bff",
   "metadata": {},
   "outputs": [
    {
     "data": {
      "text/plain": [
       "array([0, 1, 1, 1, 0, 1, 1, 1, 1, 1, 1, 1, 1, 0, 1, 1, 1, 1, 0, 1, 1, 1,\n",
       "       0, 1, 1, 1, 1, 1, 1, 1, 0, 1, 1, 1, 1, 1, 1, 1, 1, 1, 0, 1, 1, 0,\n",
       "       1, 1, 1, 1, 1, 1, 1, 1, 1, 1, 1, 1, 1, 1, 0, 1, 1, 1, 1, 1, 0, 1,\n",
       "       1, 1, 1, 0, 1, 1, 1, 1, 0, 1, 1, 1, 1, 1, 1, 1, 1, 1, 0, 1, 1, 1,\n",
       "       1, 1, 0, 0, 1, 0, 1, 1, 1, 1, 0, 1, 1, 0, 1, 1, 0, 1, 1, 0, 1, 1,\n",
       "       1, 1, 1, 1, 1, 0, 1, 1, 0, 1, 1, 1, 1, 1, 1, 1, 1, 1, 1, 1, 1, 1,\n",
       "       0, 1, 1, 1, 1, 1, 1, 1, 1, 1, 1, 1, 1, 1, 1, 1, 1, 1, 1, 1, 1, 1,\n",
       "       1, 1, 1, 1, 1, 1, 1, 1, 1, 1, 1, 1, 1, 1, 1, 1, 1, 1, 1, 1, 1, 1,\n",
       "       1, 1, 1, 1, 1, 1, 1, 1, 1, 1, 1, 0, 1, 1, 1, 1, 1, 1, 1, 1, 1, 1,\n",
       "       0, 1, 1, 1, 1, 1, 1, 1, 1, 1, 0, 1, 1, 1, 0, 1, 1, 1, 1, 0, 1, 1,\n",
       "       1, 1, 1, 1, 1, 1, 1, 1, 1, 1, 1, 1, 1, 1, 1, 0, 0, 1, 1, 1, 1, 1,\n",
       "       1, 1, 1, 1, 0, 0, 1, 1, 1, 1, 1, 1, 1, 1, 1, 1, 1, 1, 0, 1, 1, 1,\n",
       "       1, 1, 0, 0, 1, 1, 1, 1, 1, 1, 1, 1, 1, 1, 1, 0, 1, 1, 1, 1, 1, 1,\n",
       "       1, 1, 1, 1, 1, 1, 1, 1, 1, 1, 1, 1, 0, 0, 1, 1, 1, 1, 1, 1, 1, 1,\n",
       "       1, 1, 1, 1, 1, 1, 1, 1, 1, 0, 1, 1, 1, 1, 1, 1, 1, 1, 1, 1, 1, 1,\n",
       "       1, 1, 0, 1, 1, 1, 1, 1, 1, 1, 1, 1, 1, 1, 1, 1, 0, 0, 0, 1, 1, 1,\n",
       "       0, 1, 1, 1, 1, 1, 1, 1, 0, 1, 1, 1, 1, 1, 1, 1])"
      ]
     },
     "execution_count": 238,
     "metadata": {},
     "output_type": "execute_result"
    }
   ],
   "source": [
    "# Gradient Boosting\n",
    "y_pred_gb = best_gb_model.predict(X_test_scaled)\n",
    "y_pred_gb"
   ]
  },
  {
   "cell_type": "code",
   "execution_count": 252,
   "id": "56602d28",
   "metadata": {},
   "outputs": [
    {
     "data": {
      "text/plain": [
       "Index([    'customerID',        'churned', 'MonthlyCharges',   'TotalCharges',\n",
       "           'begin_date',       'end_date',  'SeniorCitizen',                0,\n",
       "                      1,                2,                3,                4,\n",
       "                      5,                6,                7,                8,\n",
       "                      9,               10,               11,               12,\n",
       "                     13],\n",
       "      dtype='object')"
      ]
     },
     "execution_count": 252,
     "metadata": {},
     "output_type": "execute_result"
    }
   ],
   "source": [
    "test_dropped.columns"
   ]
  },
  {
   "cell_type": "code",
   "execution_count": 253,
   "id": "f4fef32c",
   "metadata": {},
   "outputs": [],
   "source": [
    "# X_test_df = test_dropped.drop(columns=['target'])\n",
    "test_pred = test_dropped[['customerID',\n",
    "                          'MonthlyCharges',   \n",
    "                          'TotalCharges',\n",
    "                          'begin_date',       \n",
    "                          'end_date',  \n",
    "                          'SeniorCitizen']]"
   ]
  },
  {
   "cell_type": "code",
   "execution_count": 258,
   "id": "70ef7168",
   "metadata": {},
   "outputs": [],
   "source": [
    "test_pred['churned'] = best_gb_model.predict(X_test_scaled)"
   ]
  },
  {
   "cell_type": "code",
   "execution_count": 259,
   "id": "8806fd00",
   "metadata": {},
   "outputs": [
    {
     "data": {
      "text/plain": [
       "(368, 8)"
      ]
     },
     "execution_count": 259,
     "metadata": {},
     "output_type": "execute_result"
    }
   ],
   "source": [
    "test_pred['predictions'] = np.round(best_gb_model.predict_proba(X_test_scaled),3)[:, 1]\n",
    "test_pred.shape"
   ]
  },
  {
   "cell_type": "code",
   "execution_count": 260,
   "id": "a0d0c2a7",
   "metadata": {},
   "outputs": [
    {
     "data": {
      "text/html": [
       "<div>\n",
       "<style scoped>\n",
       "    .dataframe tbody tr th:only-of-type {\n",
       "        vertical-align: middle;\n",
       "    }\n",
       "\n",
       "    .dataframe tbody tr th {\n",
       "        vertical-align: top;\n",
       "    }\n",
       "\n",
       "    .dataframe thead th {\n",
       "        text-align: right;\n",
       "    }\n",
       "</style>\n",
       "<table border=\"1\" class=\"dataframe\">\n",
       "  <thead>\n",
       "    <tr style=\"text-align: right;\">\n",
       "      <th></th>\n",
       "      <th>customerID</th>\n",
       "      <th>MonthlyCharges</th>\n",
       "      <th>TotalCharges</th>\n",
       "      <th>begin_date</th>\n",
       "      <th>end_date</th>\n",
       "      <th>SeniorCitizen</th>\n",
       "      <th>predictions</th>\n",
       "      <th>churned</th>\n",
       "    </tr>\n",
       "  </thead>\n",
       "  <tbody>\n",
       "    <tr>\n",
       "      <th>446</th>\n",
       "      <td>4110-PFEUZ</td>\n",
       "      <td>69.55</td>\n",
       "      <td>69.0</td>\n",
       "      <td>2019-09-01</td>\n",
       "      <td>2019-10-01</td>\n",
       "      <td>0</td>\n",
       "      <td>0.449</td>\n",
       "      <td>0</td>\n",
       "    </tr>\n",
       "    <tr>\n",
       "      <th>823</th>\n",
       "      <td>0295-QVKPB</td>\n",
       "      <td>63.95</td>\n",
       "      <td>318.0</td>\n",
       "      <td>2019-09-01</td>\n",
       "      <td>2020-02-01</td>\n",
       "      <td>0</td>\n",
       "      <td>0.789</td>\n",
       "      <td>1</td>\n",
       "    </tr>\n",
       "    <tr>\n",
       "      <th>984</th>\n",
       "      <td>8165-ZJRNM</td>\n",
       "      <td>23.75</td>\n",
       "      <td>1679.0</td>\n",
       "      <td>2014-02-01</td>\n",
       "      <td>2020-02-01</td>\n",
       "      <td>0</td>\n",
       "      <td>0.897</td>\n",
       "      <td>1</td>\n",
       "    </tr>\n",
       "    <tr>\n",
       "      <th>1342</th>\n",
       "      <td>2017-CCBLH</td>\n",
       "      <td>20.00</td>\n",
       "      <td>141.0</td>\n",
       "      <td>2019-06-01</td>\n",
       "      <td>2020-02-01</td>\n",
       "      <td>0</td>\n",
       "      <td>0.875</td>\n",
       "      <td>1</td>\n",
       "    </tr>\n",
       "    <tr>\n",
       "      <th>419</th>\n",
       "      <td>5564-NEMQO</td>\n",
       "      <td>75.30</td>\n",
       "      <td>75.0</td>\n",
       "      <td>2019-11-01</td>\n",
       "      <td>2019-12-01</td>\n",
       "      <td>1</td>\n",
       "      <td>0.379</td>\n",
       "      <td>0</td>\n",
       "    </tr>\n",
       "    <tr>\n",
       "      <th>...</th>\n",
       "      <td>...</td>\n",
       "      <td>...</td>\n",
       "      <td>...</td>\n",
       "      <td>...</td>\n",
       "      <td>...</td>\n",
       "      <td>...</td>\n",
       "      <td>...</td>\n",
       "      <td>...</td>\n",
       "    </tr>\n",
       "    <tr>\n",
       "      <th>571</th>\n",
       "      <td>7025-WCBNE</td>\n",
       "      <td>59.60</td>\n",
       "      <td>2754.0</td>\n",
       "      <td>2016-03-01</td>\n",
       "      <td>2020-02-01</td>\n",
       "      <td>1</td>\n",
       "      <td>0.827</td>\n",
       "      <td>1</td>\n",
       "    </tr>\n",
       "    <tr>\n",
       "      <th>538</th>\n",
       "      <td>8905-IAZPF</td>\n",
       "      <td>95.65</td>\n",
       "      <td>6744.0</td>\n",
       "      <td>2014-05-01</td>\n",
       "      <td>2020-02-01</td>\n",
       "      <td>0</td>\n",
       "      <td>0.827</td>\n",
       "      <td>1</td>\n",
       "    </tr>\n",
       "    <tr>\n",
       "      <th>218</th>\n",
       "      <td>2040-LDIWQ</td>\n",
       "      <td>84.20</td>\n",
       "      <td>5324.0</td>\n",
       "      <td>2014-09-01</td>\n",
       "      <td>2020-02-01</td>\n",
       "      <td>0</td>\n",
       "      <td>0.849</td>\n",
       "      <td>1</td>\n",
       "    </tr>\n",
       "    <tr>\n",
       "      <th>1478</th>\n",
       "      <td>9851-QXEEQ</td>\n",
       "      <td>104.70</td>\n",
       "      <td>4346.0</td>\n",
       "      <td>2016-06-01</td>\n",
       "      <td>2019-11-01</td>\n",
       "      <td>0</td>\n",
       "      <td>0.738</td>\n",
       "      <td>1</td>\n",
       "    </tr>\n",
       "    <tr>\n",
       "      <th>1415</th>\n",
       "      <td>5223-UZAVK</td>\n",
       "      <td>100.30</td>\n",
       "      <td>6603.0</td>\n",
       "      <td>2014-10-01</td>\n",
       "      <td>2020-02-01</td>\n",
       "      <td>0</td>\n",
       "      <td>0.786</td>\n",
       "      <td>1</td>\n",
       "    </tr>\n",
       "  </tbody>\n",
       "</table>\n",
       "<p>368 rows × 8 columns</p>\n",
       "</div>"
      ],
      "text/plain": [
       "      customerID  MonthlyCharges  TotalCharges  begin_date    end_date  \\\n",
       "446   4110-PFEUZ           69.55          69.0  2019-09-01  2019-10-01   \n",
       "823   0295-QVKPB           63.95         318.0  2019-09-01  2020-02-01   \n",
       "984   8165-ZJRNM           23.75        1679.0  2014-02-01  2020-02-01   \n",
       "1342  2017-CCBLH           20.00         141.0  2019-06-01  2020-02-01   \n",
       "419   5564-NEMQO           75.30          75.0  2019-11-01  2019-12-01   \n",
       "...          ...             ...           ...         ...         ...   \n",
       "571   7025-WCBNE           59.60        2754.0  2016-03-01  2020-02-01   \n",
       "538   8905-IAZPF           95.65        6744.0  2014-05-01  2020-02-01   \n",
       "218   2040-LDIWQ           84.20        5324.0  2014-09-01  2020-02-01   \n",
       "1478  9851-QXEEQ          104.70        4346.0  2016-06-01  2019-11-01   \n",
       "1415  5223-UZAVK          100.30        6603.0  2014-10-01  2020-02-01   \n",
       "\n",
       "      SeniorCitizen  predictions  churned  \n",
       "446               0        0.449        0  \n",
       "823               0        0.789        1  \n",
       "984               0        0.897        1  \n",
       "1342              0        0.875        1  \n",
       "419               1        0.379        0  \n",
       "...             ...          ...      ...  \n",
       "571               1        0.827        1  \n",
       "538               0        0.827        1  \n",
       "218               0        0.849        1  \n",
       "1478              0        0.738        1  \n",
       "1415              0        0.786        1  \n",
       "\n",
       "[368 rows x 8 columns]"
      ]
     },
     "execution_count": 260,
     "metadata": {},
     "output_type": "execute_result"
    }
   ],
   "source": [
    "test_pred_df = pd.DataFrame(test_pred)\n",
    "test_pred_df"
   ]
  },
  {
   "cell_type": "code",
   "execution_count": 262,
   "id": "d1157775",
   "metadata": {},
   "outputs": [],
   "source": [
    "# test_pred_df.to_csv('/Users/yuliabezginova/PycharmProjects/00_files-for_NLP/test_pred_df.csv')"
   ]
  },
  {
   "cell_type": "markdown",
   "id": "17bbe68f",
   "metadata": {},
   "source": [
    "### 5.3 Изучим важность признаков"
   ]
  },
  {
   "cell_type": "code",
   "execution_count": 263,
   "id": "4bbb76e0",
   "metadata": {},
   "outputs": [
    {
     "data": {
      "image/png": "[encoded data removed]",
      "text/plain": [
       "<Figure size 1500x1300 with 1 Axes>"
      ]
     },
     "metadata": {},
     "output_type": "display_data"
    }
   ],
   "source": [
    "importance = best_gb_model.best_estimator_.feature_importances_\n",
    "indices = np.argsort(importance)\n",
    "\n",
    "fig, ax = plt.subplots(figsize=(15, 13))\n",
    "ax.barh(range(len(importance)), importance[indices])\n",
    "ax.set_yticks(range(len(importance)))\n",
    "_ = ax.set_yticklabels(np.array(test_dropped.columns)[indices])"
   ]
  },
  {
   "cell_type": "markdown",
   "id": "784e698f",
   "metadata": {},
   "source": [
    "### 5.4 Изучим, насколько хорошо модель классифицирует целевое значение"
   ]
  },
  {
   "cell_type": "code",
   "execution_count": 266,
   "id": "e4877c15",
   "metadata": {},
   "outputs": [
    {
     "name": "stdout",
     "output_type": "stream",
     "text": [
      "              precision    recall  f1-score   support\n",
      "\n",
      "           0       0.78      0.32      0.46       108\n",
      "           1       0.77      0.96      0.86       260\n",
      "\n",
      "    accuracy                           0.77       368\n",
      "   macro avg       0.78      0.64      0.66       368\n",
      "weighted avg       0.78      0.77      0.74       368\n",
      "\n"
     ]
    }
   ],
   "source": [
    "print(classification_report(y_test,best_gb_model.predict(X_test_scaled)))"
   ]
  },
  {
   "cell_type": "markdown",
   "id": "99a5047d",
   "metadata": {},
   "source": [
    "### *Вывод*: Модель градиентного бустинга показала наилучший результат. Модель слегка переобучается: на обучающей выборке AUC-ROC=0.85, на тестовой подвыборке AUC-ROC=0.82. Было выполнено тестирование модели градиентного бустинга на тестовой подвыборке и выявлена важность изучаемых признаков. По отчету о классификации (classification report) видим, что модель научилась хорошо предсказывать 1-й класс (F1-score=0.86) и хуже предсказывает 0-й класс (F1-score=0.46)."
   ]
  },
  {
   "cell_type": "markdown",
   "id": "5bbceeca",
   "metadata": {},
   "source": [
    "### *Часть 1 - Отчет для Сергея*\n",
    "\n",
    "#### Проведите исследовательский анализ данных.\n",
    "Готово.\n",
    "#### Список уточняющих вопросов.\n",
    "- 1) Что необходимо предсказать моделью: \n",
    "    - а) решаем задачу бинарной классификации: 0 - клиент уйдет, 1 - клиент не уйдет. Остальное - оставляем на усмотрение менеджмента, кому что предложить, чтобы удержать.\n",
    "    - б) или скорее предсказать вероятность того, насколько клиент планирует уйти. Если этот вариант, то нужен совет, как это делать. Это будет задача классификации? Или можно, например, использовать предобученную нейронную сеть ResNet50, которую мы здесь проходили, с функцией softmax, которая как раз и предскажет вероятность?\n",
    "\n",
    "#### Примерный план решения задачи. Пропишите 3–5 основных шагов, каждый поясните не более двумя предложениями.\n",
    "Прописала с начале блокнота в разделе **Методология проекта**.\n",
    "\n",
    "#### Цель проекта\n",
    "Прописала с начале блокнота."
   ]
  },
  {
   "cell_type": "markdown",
   "id": "6a569d04",
   "metadata": {},
   "source": [
    "<div class=\"alert alert-success\">\n",
    "<b>Комментарий ревьюера:\n",
    "&#9989;</b> Ответы на вопросы: в данном случае у нас задача бинарной классификации </div>"
   ]
  },
  {
   "cell_type": "markdown",
   "id": "b931ea43",
   "metadata": {},
   "source": [
    "<b>Комментарий ревьюера:\n",
    "</b> Итоговый комментарий ревьюера, молодец, хороши план, есть название и описание. Есть пара критических замечаний, которые необходимо исправить в первой части, а именно: \n",
    "1. Предустановка библиотек\n",
    "2. Работоспособность кода(пропиши, пожалуйста, пути)\n",
    "3. Комментарии к анализу\n",
    "4. Округление total_charges\n",
    "5. Заполнение пропусков<br>\n",
    "\n",
    "Выше добавлены комментарии ко второй части. Также RANDOM_STATE необходимо прописать в константу.\n"
   ]
  },
  {
   "cell_type": "markdown",
   "id": "cd9383d9",
   "metadata": {},
   "source": [
    "### *Часть 2, 3 - Отчет для Сергея*"
   ]
  },
  {
   "cell_type": "markdown",
   "id": "956d5ebb",
   "metadata": {},
   "source": [
    "<div class=\"alert alert-info\"> <b>Юлия:</b>\n",
    "- Предустановка библиотек\n",
    "Про библиотеки не до конца поняла. У вас каки-то пипы не установлены? Подскажите, пож-та, которые библиотеки надо предустановить.\n",
    "    \n",
    "- Работоспособность кода(пропиши, пожалуйста, пути)\n",
    "Пути прописала через исключение. Код проверила, воспроизвелся вроде.\n",
    "    \n",
    "- Комментарии к анализу\n",
    "Добавила выводы после каждого раздела.\n",
    "   \n",
    "- Округление total_charges\n",
    "Проверила и оставила пояснение в работе.\n",
    "    \n",
    "- Заполнение пропусков\n",
    "Заполнила, пояснения в работе оставила для каждого шага.\n",
    "    \n",
    "</div>"
   ]
  },
  {
   "cell_type": "markdown",
   "id": "27697ef4",
   "metadata": {},
   "source": [
    "Precision: Out of all the players that the model predicted would get drafted, only 43% actually did.\n",
    "\n",
    "Recall: Out of all the players that actually did get drafted, the model only predicted this outcome correctly for 36% of those players.\n",
    "\n",
    "F1 Score: This value is calculated as:\n",
    "\n",
    "F1 Score: 2 * (Precision * Recall) / (Precision + Recall)\n",
    "F1 Score: 2 * (.43 * .36) / (.43 + .36)\n",
    "F1 Score: 0.40.\n",
    "Since this value isn’t very close to 1, it tells us that the model does a poor job of predicting whether or not players will get drafted.\n",
    "\n",
    "Support: These values simply tell us how many players belonged to each class in the test dataset. We can see that among the players in the test dataset, 160 did not get drafted and 140 did get drafted."
   ]
  }
 ],
 "metadata": {
  "ExecuteTimeLog": [
   {
    "duration": 1734,
    "start_time": "2023-02-01T07:41:26.613Z"
   },
   {
    "duration": 0,
    "start_time": "2023-02-01T07:41:28.353Z"
   },
   {
    "duration": 0,
    "start_time": "2023-02-01T07:41:28.355Z"
   },
   {
    "duration": 0,
    "start_time": "2023-02-01T07:41:28.357Z"
   },
   {
    "duration": 0,
    "start_time": "2023-02-01T07:41:28.358Z"
   },
   {
    "duration": 0,
    "start_time": "2023-02-01T07:41:28.360Z"
   },
   {
    "duration": 0,
    "start_time": "2023-02-01T07:41:28.362Z"
   },
   {
    "duration": 0,
    "start_time": "2023-02-01T07:41:28.364Z"
   },
   {
    "duration": 0,
    "start_time": "2023-02-01T07:41:28.365Z"
   },
   {
    "duration": 0,
    "start_time": "2023-02-01T07:41:28.366Z"
   },
   {
    "duration": 0,
    "start_time": "2023-02-01T07:41:28.367Z"
   },
   {
    "duration": 0,
    "start_time": "2023-02-01T07:41:28.370Z"
   },
   {
    "duration": 0,
    "start_time": "2023-02-01T07:41:28.371Z"
   },
   {
    "duration": 0,
    "start_time": "2023-02-01T07:41:28.372Z"
   },
   {
    "duration": 0,
    "start_time": "2023-02-01T07:41:28.374Z"
   },
   {
    "duration": 0,
    "start_time": "2023-02-01T07:41:28.375Z"
   },
   {
    "duration": 0,
    "start_time": "2023-02-01T07:41:28.376Z"
   },
   {
    "duration": 0,
    "start_time": "2023-02-01T07:41:28.378Z"
   },
   {
    "duration": 0,
    "start_time": "2023-02-01T07:41:28.379Z"
   },
   {
    "duration": 0,
    "start_time": "2023-02-01T07:41:28.381Z"
   },
   {
    "duration": 0,
    "start_time": "2023-02-01T07:41:28.383Z"
   },
   {
    "duration": 0,
    "start_time": "2023-02-01T07:41:28.385Z"
   },
   {
    "duration": 0,
    "start_time": "2023-02-01T07:41:28.386Z"
   },
   {
    "duration": 0,
    "start_time": "2023-02-01T07:41:28.437Z"
   },
   {
    "duration": 0,
    "start_time": "2023-02-01T07:41:28.438Z"
   },
   {
    "duration": 0,
    "start_time": "2023-02-01T07:41:28.440Z"
   },
   {
    "duration": 0,
    "start_time": "2023-02-01T07:41:28.442Z"
   },
   {
    "duration": 0,
    "start_time": "2023-02-01T07:41:28.444Z"
   },
   {
    "duration": 0,
    "start_time": "2023-02-01T07:41:28.446Z"
   },
   {
    "duration": 0,
    "start_time": "2023-02-01T07:41:28.447Z"
   },
   {
    "duration": 1,
    "start_time": "2023-02-01T07:41:28.448Z"
   },
   {
    "duration": 0,
    "start_time": "2023-02-01T07:41:28.450Z"
   },
   {
    "duration": 0,
    "start_time": "2023-02-01T07:41:28.451Z"
   },
   {
    "duration": 0,
    "start_time": "2023-02-01T07:41:28.452Z"
   },
   {
    "duration": 0,
    "start_time": "2023-02-01T07:41:28.454Z"
   },
   {
    "duration": 0,
    "start_time": "2023-02-01T07:41:28.455Z"
   },
   {
    "duration": 0,
    "start_time": "2023-02-01T07:41:28.457Z"
   },
   {
    "duration": 0,
    "start_time": "2023-02-01T07:41:28.459Z"
   },
   {
    "duration": 0,
    "start_time": "2023-02-01T07:41:28.460Z"
   },
   {
    "duration": 0,
    "start_time": "2023-02-01T07:41:28.462Z"
   },
   {
    "duration": 0,
    "start_time": "2023-02-01T07:41:28.464Z"
   },
   {
    "duration": 0,
    "start_time": "2023-02-01T07:41:28.465Z"
   },
   {
    "duration": 0,
    "start_time": "2023-02-01T07:41:28.467Z"
   },
   {
    "duration": 0,
    "start_time": "2023-02-01T07:41:28.468Z"
   },
   {
    "duration": 0,
    "start_time": "2023-02-01T07:41:28.470Z"
   },
   {
    "duration": 0,
    "start_time": "2023-02-01T07:41:28.472Z"
   },
   {
    "duration": 0,
    "start_time": "2023-02-01T07:41:28.473Z"
   },
   {
    "duration": 0,
    "start_time": "2023-02-01T07:41:28.474Z"
   },
   {
    "duration": 0,
    "start_time": "2023-02-01T07:41:28.476Z"
   },
   {
    "duration": 0,
    "start_time": "2023-02-01T07:41:28.477Z"
   },
   {
    "duration": 0,
    "start_time": "2023-02-01T07:41:28.538Z"
   },
   {
    "duration": 0,
    "start_time": "2023-02-01T07:41:28.539Z"
   },
   {
    "duration": 0,
    "start_time": "2023-02-01T07:41:28.541Z"
   },
   {
    "duration": 0,
    "start_time": "2023-02-01T07:41:28.542Z"
   },
   {
    "duration": 0,
    "start_time": "2023-02-01T07:41:28.544Z"
   },
   {
    "duration": 0,
    "start_time": "2023-02-01T07:41:28.545Z"
   },
   {
    "duration": 0,
    "start_time": "2023-02-01T07:41:28.547Z"
   },
   {
    "duration": 0,
    "start_time": "2023-02-01T07:41:28.548Z"
   },
   {
    "duration": 0,
    "start_time": "2023-02-01T07:41:28.549Z"
   },
   {
    "duration": 0,
    "start_time": "2023-02-01T07:41:28.551Z"
   },
   {
    "duration": 0,
    "start_time": "2023-02-01T07:41:28.552Z"
   },
   {
    "duration": 0,
    "start_time": "2023-02-01T07:41:28.553Z"
   },
   {
    "duration": 0,
    "start_time": "2023-02-01T07:41:28.554Z"
   },
   {
    "duration": 0,
    "start_time": "2023-02-01T07:41:28.555Z"
   },
   {
    "duration": 0,
    "start_time": "2023-02-01T07:41:28.556Z"
   },
   {
    "duration": 0,
    "start_time": "2023-02-01T07:41:28.558Z"
   },
   {
    "duration": 0,
    "start_time": "2023-02-01T07:41:28.559Z"
   },
   {
    "duration": 0,
    "start_time": "2023-02-01T07:41:28.560Z"
   },
   {
    "duration": 0,
    "start_time": "2023-02-01T07:41:28.561Z"
   },
   {
    "duration": 0,
    "start_time": "2023-02-01T07:41:28.562Z"
   },
   {
    "duration": 0,
    "start_time": "2023-02-01T07:41:28.563Z"
   },
   {
    "duration": 0,
    "start_time": "2023-02-01T07:41:28.564Z"
   },
   {
    "duration": 0,
    "start_time": "2023-02-01T07:41:28.565Z"
   },
   {
    "duration": 0,
    "start_time": "2023-02-01T07:41:28.566Z"
   },
   {
    "duration": 0,
    "start_time": "2023-02-01T07:41:28.567Z"
   },
   {
    "duration": 0,
    "start_time": "2023-02-01T07:41:28.568Z"
   },
   {
    "duration": 0,
    "start_time": "2023-02-01T07:41:28.569Z"
   },
   {
    "duration": 0,
    "start_time": "2023-02-01T07:41:28.570Z"
   },
   {
    "duration": 0,
    "start_time": "2023-02-01T07:41:28.571Z"
   },
   {
    "duration": 0,
    "start_time": "2023-02-01T07:41:28.572Z"
   },
   {
    "duration": 0,
    "start_time": "2023-02-01T07:41:28.573Z"
   },
   {
    "duration": 0,
    "start_time": "2023-02-01T07:41:28.636Z"
   },
   {
    "duration": 0,
    "start_time": "2023-02-01T07:41:28.638Z"
   },
   {
    "duration": 0,
    "start_time": "2023-02-01T07:41:28.639Z"
   },
   {
    "duration": 0,
    "start_time": "2023-02-01T07:41:28.640Z"
   },
   {
    "duration": 0,
    "start_time": "2023-02-01T07:41:28.642Z"
   },
   {
    "duration": 0,
    "start_time": "2023-02-01T07:41:28.643Z"
   },
   {
    "duration": 0,
    "start_time": "2023-02-01T07:41:28.644Z"
   },
   {
    "duration": 0,
    "start_time": "2023-02-01T07:41:28.645Z"
   },
   {
    "duration": 0,
    "start_time": "2023-02-01T07:41:28.646Z"
   },
   {
    "duration": 0,
    "start_time": "2023-02-01T07:41:28.647Z"
   },
   {
    "duration": 0,
    "start_time": "2023-02-01T07:41:28.648Z"
   },
   {
    "duration": 0,
    "start_time": "2023-02-01T07:41:28.649Z"
   },
   {
    "duration": 0,
    "start_time": "2023-02-01T07:41:28.650Z"
   },
   {
    "duration": 0,
    "start_time": "2023-02-01T07:41:28.651Z"
   },
   {
    "duration": 0,
    "start_time": "2023-02-01T07:41:28.652Z"
   },
   {
    "duration": 0,
    "start_time": "2023-02-01T07:41:28.653Z"
   },
   {
    "duration": 0,
    "start_time": "2023-02-01T07:41:28.654Z"
   },
   {
    "duration": 0,
    "start_time": "2023-02-01T07:41:28.655Z"
   },
   {
    "duration": 0,
    "start_time": "2023-02-01T07:41:28.656Z"
   },
   {
    "duration": 0,
    "start_time": "2023-02-01T07:41:28.657Z"
   },
   {
    "duration": 14542,
    "start_time": "2023-02-01T07:47:25.068Z"
   },
   {
    "duration": 3188,
    "start_time": "2023-02-01T07:47:39.612Z"
   },
   {
    "duration": 196,
    "start_time": "2023-02-01T07:47:42.801Z"
   },
   {
    "duration": 0,
    "start_time": "2023-02-01T07:47:43.002Z"
   },
   {
    "duration": 0,
    "start_time": "2023-02-01T07:47:43.003Z"
   },
   {
    "duration": 0,
    "start_time": "2023-02-01T07:47:43.004Z"
   },
   {
    "duration": 0,
    "start_time": "2023-02-01T07:47:43.006Z"
   },
   {
    "duration": 0,
    "start_time": "2023-02-01T07:47:43.007Z"
   },
   {
    "duration": 0,
    "start_time": "2023-02-01T07:47:43.008Z"
   },
   {
    "duration": 0,
    "start_time": "2023-02-01T07:47:43.009Z"
   },
   {
    "duration": 0,
    "start_time": "2023-02-01T07:47:43.010Z"
   },
   {
    "duration": 0,
    "start_time": "2023-02-01T07:47:43.011Z"
   },
   {
    "duration": 0,
    "start_time": "2023-02-01T07:47:43.012Z"
   },
   {
    "duration": 1,
    "start_time": "2023-02-01T07:47:43.012Z"
   },
   {
    "duration": 0,
    "start_time": "2023-02-01T07:47:43.014Z"
   },
   {
    "duration": 0,
    "start_time": "2023-02-01T07:47:43.014Z"
   },
   {
    "duration": 0,
    "start_time": "2023-02-01T07:47:43.015Z"
   },
   {
    "duration": 0,
    "start_time": "2023-02-01T07:47:43.016Z"
   },
   {
    "duration": 0,
    "start_time": "2023-02-01T07:47:43.017Z"
   },
   {
    "duration": 0,
    "start_time": "2023-02-01T07:47:43.018Z"
   },
   {
    "duration": 0,
    "start_time": "2023-02-01T07:47:43.019Z"
   },
   {
    "duration": 0,
    "start_time": "2023-02-01T07:47:43.020Z"
   },
   {
    "duration": 0,
    "start_time": "2023-02-01T07:47:43.021Z"
   },
   {
    "duration": 0,
    "start_time": "2023-02-01T07:47:43.036Z"
   },
   {
    "duration": 0,
    "start_time": "2023-02-01T07:47:43.038Z"
   },
   {
    "duration": 0,
    "start_time": "2023-02-01T07:47:43.039Z"
   },
   {
    "duration": 0,
    "start_time": "2023-02-01T07:47:43.040Z"
   },
   {
    "duration": 0,
    "start_time": "2023-02-01T07:47:43.041Z"
   },
   {
    "duration": 0,
    "start_time": "2023-02-01T07:47:43.042Z"
   },
   {
    "duration": 0,
    "start_time": "2023-02-01T07:47:43.043Z"
   },
   {
    "duration": 0,
    "start_time": "2023-02-01T07:47:43.044Z"
   },
   {
    "duration": 0,
    "start_time": "2023-02-01T07:47:43.045Z"
   },
   {
    "duration": 0,
    "start_time": "2023-02-01T07:47:43.046Z"
   },
   {
    "duration": 0,
    "start_time": "2023-02-01T07:47:43.047Z"
   },
   {
    "duration": 0,
    "start_time": "2023-02-01T07:47:43.050Z"
   },
   {
    "duration": 0,
    "start_time": "2023-02-01T07:47:43.051Z"
   },
   {
    "duration": 1,
    "start_time": "2023-02-01T07:47:43.052Z"
   },
   {
    "duration": 0,
    "start_time": "2023-02-01T07:47:43.053Z"
   },
   {
    "duration": 0,
    "start_time": "2023-02-01T07:47:43.055Z"
   },
   {
    "duration": 0,
    "start_time": "2023-02-01T07:47:43.055Z"
   },
   {
    "duration": 0,
    "start_time": "2023-02-01T07:47:43.056Z"
   },
   {
    "duration": 0,
    "start_time": "2023-02-01T07:47:43.058Z"
   },
   {
    "duration": 0,
    "start_time": "2023-02-01T07:47:43.059Z"
   },
   {
    "duration": 0,
    "start_time": "2023-02-01T07:47:43.060Z"
   },
   {
    "duration": 0,
    "start_time": "2023-02-01T07:47:43.061Z"
   },
   {
    "duration": 0,
    "start_time": "2023-02-01T07:47:43.062Z"
   },
   {
    "duration": 0,
    "start_time": "2023-02-01T07:47:43.063Z"
   },
   {
    "duration": 0,
    "start_time": "2023-02-01T07:47:43.064Z"
   },
   {
    "duration": 0,
    "start_time": "2023-02-01T07:47:43.065Z"
   },
   {
    "duration": 0,
    "start_time": "2023-02-01T07:47:43.066Z"
   },
   {
    "duration": 0,
    "start_time": "2023-02-01T07:47:43.068Z"
   },
   {
    "duration": 0,
    "start_time": "2023-02-01T07:47:43.069Z"
   },
   {
    "duration": 0,
    "start_time": "2023-02-01T07:47:43.070Z"
   },
   {
    "duration": 0,
    "start_time": "2023-02-01T07:47:43.071Z"
   },
   {
    "duration": 0,
    "start_time": "2023-02-01T07:47:43.072Z"
   },
   {
    "duration": 0,
    "start_time": "2023-02-01T07:47:43.073Z"
   },
   {
    "duration": 0,
    "start_time": "2023-02-01T07:47:43.137Z"
   },
   {
    "duration": 0,
    "start_time": "2023-02-01T07:47:43.138Z"
   },
   {
    "duration": 0,
    "start_time": "2023-02-01T07:47:43.139Z"
   },
   {
    "duration": 0,
    "start_time": "2023-02-01T07:47:43.141Z"
   },
   {
    "duration": 0,
    "start_time": "2023-02-01T07:47:43.142Z"
   },
   {
    "duration": 0,
    "start_time": "2023-02-01T07:47:43.143Z"
   },
   {
    "duration": 0,
    "start_time": "2023-02-01T07:47:43.144Z"
   },
   {
    "duration": 0,
    "start_time": "2023-02-01T07:47:43.145Z"
   },
   {
    "duration": 0,
    "start_time": "2023-02-01T07:47:43.146Z"
   },
   {
    "duration": 0,
    "start_time": "2023-02-01T07:47:43.147Z"
   },
   {
    "duration": 0,
    "start_time": "2023-02-01T07:47:43.148Z"
   },
   {
    "duration": 0,
    "start_time": "2023-02-01T07:47:43.149Z"
   },
   {
    "duration": 0,
    "start_time": "2023-02-01T07:47:43.150Z"
   },
   {
    "duration": 0,
    "start_time": "2023-02-01T07:47:43.151Z"
   },
   {
    "duration": 0,
    "start_time": "2023-02-01T07:47:43.152Z"
   },
   {
    "duration": 0,
    "start_time": "2023-02-01T07:47:43.153Z"
   },
   {
    "duration": 0,
    "start_time": "2023-02-01T07:47:43.154Z"
   },
   {
    "duration": 1,
    "start_time": "2023-02-01T07:47:43.154Z"
   },
   {
    "duration": 0,
    "start_time": "2023-02-01T07:47:43.155Z"
   },
   {
    "duration": 0,
    "start_time": "2023-02-01T07:47:43.157Z"
   },
   {
    "duration": 0,
    "start_time": "2023-02-01T07:47:43.157Z"
   },
   {
    "duration": 0,
    "start_time": "2023-02-01T07:47:43.158Z"
   },
   {
    "duration": 0,
    "start_time": "2023-02-01T07:47:43.160Z"
   },
   {
    "duration": 0,
    "start_time": "2023-02-01T07:47:43.161Z"
   },
   {
    "duration": 0,
    "start_time": "2023-02-01T07:47:43.162Z"
   },
   {
    "duration": 0,
    "start_time": "2023-02-01T07:47:43.163Z"
   },
   {
    "duration": 1,
    "start_time": "2023-02-01T07:47:43.163Z"
   },
   {
    "duration": 0,
    "start_time": "2023-02-01T07:47:43.164Z"
   },
   {
    "duration": 0,
    "start_time": "2023-02-01T07:47:43.166Z"
   },
   {
    "duration": 0,
    "start_time": "2023-02-01T07:47:43.167Z"
   },
   {
    "duration": 0,
    "start_time": "2023-02-01T07:47:43.168Z"
   },
   {
    "duration": 0,
    "start_time": "2023-02-01T07:47:43.169Z"
   },
   {
    "duration": 0,
    "start_time": "2023-02-01T07:47:43.169Z"
   },
   {
    "duration": 0,
    "start_time": "2023-02-01T07:47:43.170Z"
   },
   {
    "duration": 0,
    "start_time": "2023-02-01T07:47:43.171Z"
   },
   {
    "duration": 0,
    "start_time": "2023-02-01T07:47:43.173Z"
   },
   {
    "duration": 0,
    "start_time": "2023-02-01T07:47:43.174Z"
   },
   {
    "duration": 0,
    "start_time": "2023-02-01T07:47:43.237Z"
   },
   {
    "duration": 0,
    "start_time": "2023-02-01T07:47:43.238Z"
   },
   {
    "duration": 0,
    "start_time": "2023-02-01T07:47:43.239Z"
   },
   {
    "duration": 0,
    "start_time": "2023-02-01T07:47:43.240Z"
   },
   {
    "duration": 0,
    "start_time": "2023-02-01T07:47:43.241Z"
   },
   {
    "duration": 0,
    "start_time": "2023-02-01T07:47:43.241Z"
   },
   {
    "duration": 0,
    "start_time": "2023-02-01T07:47:43.243Z"
   },
   {
    "duration": 0,
    "start_time": "2023-02-01T07:47:43.243Z"
   },
   {
    "duration": 0,
    "start_time": "2023-02-01T07:47:43.244Z"
   },
   {
    "duration": 140,
    "start_time": "2023-02-01T07:54:26.029Z"
   },
   {
    "duration": 7,
    "start_time": "2023-02-01T07:54:27.578Z"
   },
   {
    "duration": 7,
    "start_time": "2023-02-01T07:54:30.100Z"
   },
   {
    "duration": 13,
    "start_time": "2023-02-01T07:54:34.366Z"
   },
   {
    "duration": 14,
    "start_time": "2023-02-01T07:54:35.980Z"
   },
   {
    "duration": 9,
    "start_time": "2023-02-01T07:54:37.536Z"
   },
   {
    "duration": 13,
    "start_time": "2023-02-01T07:54:38.516Z"
   },
   {
    "duration": 11,
    "start_time": "2023-02-01T07:54:52.588Z"
   },
   {
    "duration": 16,
    "start_time": "2023-02-01T07:55:10.244Z"
   },
   {
    "duration": 5,
    "start_time": "2023-02-01T07:55:11.358Z"
   },
   {
    "duration": 5,
    "start_time": "2023-02-01T07:55:15.253Z"
   },
   {
    "duration": 20,
    "start_time": "2023-02-01T07:55:16.517Z"
   },
   {
    "duration": 6,
    "start_time": "2023-02-01T07:55:18.196Z"
   },
   {
    "duration": 21,
    "start_time": "2023-02-01T07:55:19.070Z"
   },
   {
    "duration": 4,
    "start_time": "2023-02-01T07:55:20.357Z"
   },
   {
    "duration": 20,
    "start_time": "2023-02-01T07:55:21.660Z"
   },
   {
    "duration": 12,
    "start_time": "2023-02-01T07:55:26.426Z"
   },
   {
    "duration": 20,
    "start_time": "2023-02-01T07:55:27.420Z"
   },
   {
    "duration": 26,
    "start_time": "2023-02-01T07:55:28.436Z"
   },
   {
    "duration": 2,
    "start_time": "2023-02-01T07:55:29.748Z"
   },
   {
    "duration": 10,
    "start_time": "2023-02-01T07:55:30.665Z"
   },
   {
    "duration": 5,
    "start_time": "2023-02-01T07:55:31.469Z"
   },
   {
    "duration": 8,
    "start_time": "2023-02-01T07:55:32.350Z"
   },
   {
    "duration": 20,
    "start_time": "2023-02-01T07:55:33.563Z"
   },
   {
    "duration": 5,
    "start_time": "2023-02-01T07:55:34.740Z"
   },
   {
    "duration": 15,
    "start_time": "2023-02-01T07:55:35.532Z"
   },
   {
    "duration": 785,
    "start_time": "2023-02-01T07:55:36.700Z"
   },
   {
    "duration": 17,
    "start_time": "2023-02-01T07:55:37.701Z"
   },
   {
    "duration": 15,
    "start_time": "2023-02-01T07:56:51.670Z"
   },
   {
    "duration": 4,
    "start_time": "2023-02-01T07:57:01.024Z"
   },
   {
    "duration": 8,
    "start_time": "2023-02-01T07:57:02.541Z"
   },
   {
    "duration": 6,
    "start_time": "2023-02-01T07:57:04.464Z"
   },
   {
    "duration": 7,
    "start_time": "2023-02-01T07:57:05.381Z"
   },
   {
    "duration": 6,
    "start_time": "2023-02-01T07:57:06.301Z"
   },
   {
    "duration": 121,
    "start_time": "2023-02-01T07:57:07.173Z"
   },
   {
    "duration": 10,
    "start_time": "2023-02-01T07:57:10.485Z"
   },
   {
    "duration": 18,
    "start_time": "2023-02-01T07:58:16.846Z"
   },
   {
    "duration": 15,
    "start_time": "2023-02-01T08:04:34.160Z"
   },
   {
    "duration": 14,
    "start_time": "2023-02-01T08:11:11.275Z"
   },
   {
    "duration": 9,
    "start_time": "2023-02-01T08:18:42.971Z"
   },
   {
    "duration": 2315,
    "start_time": "2023-02-01T08:18:50.263Z"
   },
   {
    "duration": 1997,
    "start_time": "2023-02-01T08:18:52.580Z"
   },
   {
    "duration": 172,
    "start_time": "2023-02-01T08:18:54.579Z"
   },
   {
    "duration": 0,
    "start_time": "2023-02-01T08:18:54.756Z"
   },
   {
    "duration": 0,
    "start_time": "2023-02-01T08:18:54.757Z"
   },
   {
    "duration": 0,
    "start_time": "2023-02-01T08:18:54.758Z"
   },
   {
    "duration": 0,
    "start_time": "2023-02-01T08:18:54.759Z"
   },
   {
    "duration": 0,
    "start_time": "2023-02-01T08:18:54.760Z"
   },
   {
    "duration": 0,
    "start_time": "2023-02-01T08:18:54.761Z"
   },
   {
    "duration": 0,
    "start_time": "2023-02-01T08:18:54.763Z"
   },
   {
    "duration": 0,
    "start_time": "2023-02-01T08:18:54.764Z"
   },
   {
    "duration": 0,
    "start_time": "2023-02-01T08:18:54.765Z"
   },
   {
    "duration": 0,
    "start_time": "2023-02-01T08:18:54.766Z"
   },
   {
    "duration": 0,
    "start_time": "2023-02-01T08:18:54.768Z"
   },
   {
    "duration": 0,
    "start_time": "2023-02-01T08:18:54.769Z"
   },
   {
    "duration": 0,
    "start_time": "2023-02-01T08:18:54.770Z"
   },
   {
    "duration": 0,
    "start_time": "2023-02-01T08:18:54.772Z"
   },
   {
    "duration": 0,
    "start_time": "2023-02-01T08:18:54.773Z"
   },
   {
    "duration": 0,
    "start_time": "2023-02-01T08:18:54.774Z"
   },
   {
    "duration": 0,
    "start_time": "2023-02-01T08:18:54.775Z"
   },
   {
    "duration": 0,
    "start_time": "2023-02-01T08:18:54.775Z"
   },
   {
    "duration": 0,
    "start_time": "2023-02-01T08:18:54.776Z"
   },
   {
    "duration": 0,
    "start_time": "2023-02-01T08:18:54.777Z"
   },
   {
    "duration": 0,
    "start_time": "2023-02-01T08:18:54.778Z"
   },
   {
    "duration": 0,
    "start_time": "2023-02-01T08:18:54.779Z"
   },
   {
    "duration": 0,
    "start_time": "2023-02-01T08:18:54.780Z"
   },
   {
    "duration": 0,
    "start_time": "2023-02-01T08:18:54.781Z"
   },
   {
    "duration": 0,
    "start_time": "2023-02-01T08:18:54.782Z"
   },
   {
    "duration": 0,
    "start_time": "2023-02-01T08:18:54.783Z"
   },
   {
    "duration": 0,
    "start_time": "2023-02-01T08:18:54.784Z"
   },
   {
    "duration": 0,
    "start_time": "2023-02-01T08:18:54.785Z"
   },
   {
    "duration": 0,
    "start_time": "2023-02-01T08:18:54.786Z"
   },
   {
    "duration": 0,
    "start_time": "2023-02-01T08:18:54.837Z"
   },
   {
    "duration": 0,
    "start_time": "2023-02-01T08:18:54.838Z"
   },
   {
    "duration": 0,
    "start_time": "2023-02-01T08:18:54.839Z"
   },
   {
    "duration": 0,
    "start_time": "2023-02-01T08:18:54.840Z"
   },
   {
    "duration": 0,
    "start_time": "2023-02-01T08:18:54.841Z"
   },
   {
    "duration": 0,
    "start_time": "2023-02-01T08:18:54.842Z"
   },
   {
    "duration": 0,
    "start_time": "2023-02-01T08:18:54.843Z"
   },
   {
    "duration": 0,
    "start_time": "2023-02-01T08:18:54.844Z"
   },
   {
    "duration": 0,
    "start_time": "2023-02-01T08:18:54.845Z"
   },
   {
    "duration": 0,
    "start_time": "2023-02-01T08:18:54.846Z"
   },
   {
    "duration": 0,
    "start_time": "2023-02-01T08:18:54.847Z"
   },
   {
    "duration": 0,
    "start_time": "2023-02-01T08:18:54.848Z"
   },
   {
    "duration": 0,
    "start_time": "2023-02-01T08:18:54.849Z"
   },
   {
    "duration": 0,
    "start_time": "2023-02-01T08:18:54.850Z"
   },
   {
    "duration": 0,
    "start_time": "2023-02-01T08:18:54.851Z"
   },
   {
    "duration": 0,
    "start_time": "2023-02-01T08:18:54.852Z"
   },
   {
    "duration": 0,
    "start_time": "2023-02-01T08:18:54.853Z"
   },
   {
    "duration": 1,
    "start_time": "2023-02-01T08:18:54.854Z"
   },
   {
    "duration": 0,
    "start_time": "2023-02-01T08:18:54.855Z"
   },
   {
    "duration": 0,
    "start_time": "2023-02-01T08:18:54.857Z"
   },
   {
    "duration": 0,
    "start_time": "2023-02-01T08:18:54.858Z"
   },
   {
    "duration": 0,
    "start_time": "2023-02-01T08:18:54.859Z"
   },
   {
    "duration": 0,
    "start_time": "2023-02-01T08:18:54.860Z"
   },
   {
    "duration": 0,
    "start_time": "2023-02-01T08:18:54.861Z"
   },
   {
    "duration": 1,
    "start_time": "2023-02-01T08:18:54.861Z"
   },
   {
    "duration": 0,
    "start_time": "2023-02-01T08:18:54.862Z"
   },
   {
    "duration": 0,
    "start_time": "2023-02-01T08:18:54.864Z"
   },
   {
    "duration": 0,
    "start_time": "2023-02-01T08:18:54.865Z"
   },
   {
    "duration": 0,
    "start_time": "2023-02-01T08:18:54.866Z"
   },
   {
    "duration": 0,
    "start_time": "2023-02-01T08:18:54.867Z"
   },
   {
    "duration": 0,
    "start_time": "2023-02-01T08:18:54.868Z"
   },
   {
    "duration": 0,
    "start_time": "2023-02-01T08:18:54.869Z"
   },
   {
    "duration": 0,
    "start_time": "2023-02-01T08:18:54.870Z"
   },
   {
    "duration": 0,
    "start_time": "2023-02-01T08:18:54.871Z"
   },
   {
    "duration": 0,
    "start_time": "2023-02-01T08:18:54.872Z"
   },
   {
    "duration": 0,
    "start_time": "2023-02-01T08:18:54.873Z"
   },
   {
    "duration": 0,
    "start_time": "2023-02-01T08:18:54.874Z"
   },
   {
    "duration": 0,
    "start_time": "2023-02-01T08:18:54.874Z"
   },
   {
    "duration": 0,
    "start_time": "2023-02-01T08:18:54.937Z"
   },
   {
    "duration": 0,
    "start_time": "2023-02-01T08:18:54.938Z"
   },
   {
    "duration": 0,
    "start_time": "2023-02-01T08:18:54.940Z"
   },
   {
    "duration": 0,
    "start_time": "2023-02-01T08:18:54.941Z"
   },
   {
    "duration": 0,
    "start_time": "2023-02-01T08:18:54.943Z"
   },
   {
    "duration": 0,
    "start_time": "2023-02-01T08:18:54.944Z"
   },
   {
    "duration": 0,
    "start_time": "2023-02-01T08:18:54.945Z"
   },
   {
    "duration": 0,
    "start_time": "2023-02-01T08:18:54.945Z"
   },
   {
    "duration": 0,
    "start_time": "2023-02-01T08:18:54.947Z"
   },
   {
    "duration": 0,
    "start_time": "2023-02-01T08:18:54.947Z"
   },
   {
    "duration": 0,
    "start_time": "2023-02-01T08:18:54.948Z"
   },
   {
    "duration": 0,
    "start_time": "2023-02-01T08:18:54.949Z"
   },
   {
    "duration": 0,
    "start_time": "2023-02-01T08:18:54.951Z"
   },
   {
    "duration": 0,
    "start_time": "2023-02-01T08:18:54.951Z"
   },
   {
    "duration": 0,
    "start_time": "2023-02-01T08:18:54.952Z"
   },
   {
    "duration": 0,
    "start_time": "2023-02-01T08:18:54.954Z"
   },
   {
    "duration": 0,
    "start_time": "2023-02-01T08:18:54.955Z"
   },
   {
    "duration": 0,
    "start_time": "2023-02-01T08:18:54.955Z"
   },
   {
    "duration": 0,
    "start_time": "2023-02-01T08:18:54.956Z"
   },
   {
    "duration": 0,
    "start_time": "2023-02-01T08:18:54.957Z"
   },
   {
    "duration": 0,
    "start_time": "2023-02-01T08:18:54.959Z"
   },
   {
    "duration": 0,
    "start_time": "2023-02-01T08:18:54.960Z"
   },
   {
    "duration": 0,
    "start_time": "2023-02-01T08:18:54.961Z"
   },
   {
    "duration": 0,
    "start_time": "2023-02-01T08:18:54.962Z"
   },
   {
    "duration": 0,
    "start_time": "2023-02-01T08:18:54.963Z"
   },
   {
    "duration": 0,
    "start_time": "2023-02-01T08:18:54.964Z"
   },
   {
    "duration": 0,
    "start_time": "2023-02-01T08:18:54.965Z"
   },
   {
    "duration": 0,
    "start_time": "2023-02-01T08:18:54.966Z"
   },
   {
    "duration": 0,
    "start_time": "2023-02-01T08:18:54.968Z"
   },
   {
    "duration": 0,
    "start_time": "2023-02-01T08:18:54.969Z"
   },
   {
    "duration": 0,
    "start_time": "2023-02-01T08:18:54.970Z"
   },
   {
    "duration": 0,
    "start_time": "2023-02-01T08:18:54.971Z"
   },
   {
    "duration": 0,
    "start_time": "2023-02-01T08:18:54.972Z"
   },
   {
    "duration": 0,
    "start_time": "2023-02-01T08:18:54.973Z"
   },
   {
    "duration": 0,
    "start_time": "2023-02-01T08:18:55.038Z"
   },
   {
    "duration": 0,
    "start_time": "2023-02-01T08:18:55.039Z"
   },
   {
    "duration": 52,
    "start_time": "2023-02-01T08:18:59.980Z"
   },
   {
    "duration": 24,
    "start_time": "2023-02-01T08:19:01.011Z"
   },
   {
    "duration": 4,
    "start_time": "2023-02-01T08:19:02.062Z"
   },
   {
    "duration": 7,
    "start_time": "2023-02-01T08:19:02.893Z"
   },
   {
    "duration": 11,
    "start_time": "2023-02-01T08:19:04.187Z"
   },
   {
    "duration": 12,
    "start_time": "2023-02-01T08:19:06.059Z"
   },
   {
    "duration": 10,
    "start_time": "2023-02-01T08:19:07.010Z"
   },
   {
    "duration": 12,
    "start_time": "2023-02-01T08:19:07.906Z"
   },
   {
    "duration": 17,
    "start_time": "2023-02-01T08:19:09.116Z"
   },
   {
    "duration": 5,
    "start_time": "2023-02-01T08:19:10.274Z"
   },
   {
    "duration": 5,
    "start_time": "2023-02-01T08:19:12.556Z"
   },
   {
    "duration": 26,
    "start_time": "2023-02-01T08:19:13.459Z"
   },
   {
    "duration": 7,
    "start_time": "2023-02-01T08:19:14.515Z"
   },
   {
    "duration": 21,
    "start_time": "2023-02-01T08:19:15.324Z"
   },
   {
    "duration": 5,
    "start_time": "2023-02-01T08:19:16.482Z"
   },
   {
    "duration": 19,
    "start_time": "2023-02-01T08:19:17.420Z"
   },
   {
    "duration": 16,
    "start_time": "2023-02-01T08:19:18.480Z"
   },
   {
    "duration": 8,
    "start_time": "2023-02-01T08:19:19.612Z"
   },
   {
    "duration": 20,
    "start_time": "2023-02-01T08:19:20.697Z"
   },
   {
    "duration": 21,
    "start_time": "2023-02-01T08:19:21.683Z"
   }
  ],
  "kernelspec": {
   "display_name": "Python 3 (ipykernel)",
   "language": "python",
   "name": "python3"
  },
  "language_info": {
   "codemirror_mode": {
    "name": "ipython",
    "version": 3
   },
   "file_extension": ".py",
   "mimetype": "text/x-python",
   "name": "python",
   "nbconvert_exporter": "python",
   "pygments_lexer": "ipython3",
   "version": "3.10.9"
  },
  "toc": {
   "base_numbering": 1,
   "nav_menu": {},
   "number_sections": true,
   "sideBar": true,
   "skip_h1_title": true,
   "title_cell": "Table of Contents",
   "title_sidebar": "Contents",
   "toc_cell": false,
   "toc_position": {},
   "toc_section_display": true,
   "toc_window_display": false
  }
 },
 "nbformat": 4,
 "nbformat_minor": 5
}
