{
 "cells": [
  {
   "cell_type": "markdown",
   "id": "78387963",
   "metadata": {},
   "source": [
    "<div style=\"border:solid green 2px; padding: 20px\">\n",
    "Юля, привет и хорошего дня! <br>\n",
    "Меня зовут Сергей Дроздов, и я буду проверять твой проект. Предлагаю общаться на «ты». Если тебе удобнее общаться на \"Вы\", просто дай знать. \n",
    "\n",
    "Ты уже проделал большую работу над проектом, но давай сделаем его еще лучше. Ниже ты найдешь мои комментарии - пожалуйста, не перемещай, не изменяй и не удаляй их. Я буду использовать цветовую разметку:\n",
    "\n",
    "<div class=\"alert alert-danger\">\n",
    "<b>Комментарий ревьюера: &#10060; </b> Так будут выделены комментарии с указаниями, обязательными к выполнению. Без их выполнения проект не будет принят. </div>\n",
    "\n",
    "<div class=\"alert alert-warning\">\n",
    "<b>Комментарий ревьюера:\n",
    "&#9888;</b> Так будут выделены некритичные замечания. Их отработка позволит улучшить качество твоего проекта.\n",
    "</div>\n",
    "\n",
    "<div class=\"alert alert-success\">\n",
    "<b>Комментарий ревьюера:\n",
    "&#9989;</b> Так будут выделены остальные комментарии, полезные лайфхаки и ссылки на сторонние ресурсы </div>\n",
    "\n",
    "Для наиболее эффективной и оперативной работы над проектом, мне хотелось бы иметь обратную связь. Не стесняйся задавать вопросы. Если ты что-либо меняешь в проекте, пожалуйста, комментируй это. Мне будет легче отследить изменения, если ты выделишь свои комментарии:\n",
    "<div class=\"alert alert-info\"> <b>Комментарий студента:</b> Например так</div>"
   ]
  },
  {
   "cell_type": "markdown",
   "id": "b58cfe4f",
   "metadata": {},
   "source": [
    "# Телеком\n",
    "\n",
    "Оператор связи *\"Ниединогоразрыва.ком\"* хочет научиться прогнозировать отток клиентов. Если выяснится, что пользователь планирует уйти, ему будут предложены промокоды и специальные условия. Команда оператора собрала персональные данные о некоторых клиентах, информацию об их тарифах и договорах.\n",
    "\n",
    "### Цель проекта\n",
    "**Разработать модель машинного обучения бинарной классификации, которая по различным характеристикам клиента сможет прогнозировать, планирует ли клиент расторгнуть контракт и отказать от услуг телекоммуникационного оператора.**\n",
    "\n",
    "### Методология проекта\n",
    "1. Загрузить данные, понять содержание данные, соединить в единый датасет.\n",
    "2. Изучить предложенные данные, заполнить пропуски, проверить данные на дубликаты (явные и неявные). Подготовить данные к дальнейшему анализу.\n",
    "3. Проверить корреляционную зависимость, исключить столбцы с признаками, которые имеют коэффициенты корреляции Пирсона выше 0.8.\n",
    "4. Изучить значение целевого признака, проверить на наличие в нем дисбаланса.\n",
    "5. Разработать и обучить неколько моделей машинного обучения для решения задачи бинарной классификации. Выбрать наилучшую модель по метрике качества с помощью поиска по сетке или кросс-валидации, протестировать модель на тестовых данных. При разработке модели учитывать проблему переобучения; провести масштабирование и нормализацию признаков, где необходимо.\n",
    "\n",
    "### Описание услуг\n",
    "\n",
    "Оператор предоставляет два основных типа услуг: \n",
    "\n",
    "1. Стационарную телефонную связь. Возможно подключение телефонного аппарата к нескольким линиям одновременно.\n",
    "2. Интернет. Подключение может быть двух типов: через телефонную линию (*DSL*, от англ. *digital subscriber line*, «цифровая абонентская линия») или оптоволоконный кабель (*Fiber optic*).  \n",
    "\n",
    "Также доступны такие услуги:\n",
    "\n",
    "- Интернет-безопасность: антивирус (*DeviceProtection*) и блокировка небезопасных сайтов (*OnlineSecurity*);\n",
    "- Выделенная линия технической поддержки (*TechSupport*);\n",
    "- Облачное хранилище файлов для резервного копирования данных (*OnlineBackup*);\n",
    "- Стриминговое телевидение (*StreamingTV*) и каталог фильмов (*StreamingMovies*).\n",
    "\n",
    "За услуги клиенты могут платить каждый месяц или заключить договор на 1–2 года. Доступны различные способы расчёта и возможность получения электронного чека.\n",
    "\n",
    "### Описание данных\n",
    "\n",
    "Данные состоят из файлов, полученных из разных источников:\n",
    "\n",
    "- `contract.csv` — информация о договоре;\n",
    "- `personal.csv` — персональные данные клиента;\n",
    "- `internet.csv` — информация об интернет-услугах;\n",
    "- `phone.csv` — информация об услугах телефонии.\n",
    "\n",
    "Во всех файлах столбец `customerID` содержит код клиента.\n",
    "\n",
    "Информация о договорах актуальна на 1 февраля 2020.\n",
    "\n",
    "*Описание проекта в Notion [здесь](https://concrete-web-bad.notion.site/20b6db57bf464afe86232e26190285e5).*"
   ]
  },
  {
   "cell_type": "markdown",
   "id": "0146ec99",
   "metadata": {},
   "source": [
    "<div class=\"alert alert-success\">\n",
    "<b>Комментарий ревьюера:\n",
    "&#9989;</b> Отлично, название проекта и описание на месте, ссылку на Notion лучше удалить, т.к. не у всех есть доступ </div>"
   ]
  },
  {
   "cell_type": "markdown",
   "id": "4d04dc0d",
   "metadata": {},
   "source": [
    "<div class=\"alert alert-danger\">\n",
    "<b>Комментарий ревьюера: &#10060; </b> Предусмотри, пожалуйста, установку сторонних библиотек, так же не советую использовать профайлинг, т.к. это может приводить к падению ядра на стороне сервера яндекса </div>"
   ]
  },
  {
   "cell_type": "code",
   "execution_count": 1,
   "id": "32a91716",
   "metadata": {},
   "outputs": [
    {
     "name": "stdout",
     "output_type": "stream",
     "text": [
      "Note: you may need to restart the kernel to use updated packages.\n"
     ]
    }
   ],
   "source": [
    "pip install -q --upgrade pip"
   ]
  },
  {
   "cell_type": "code",
   "execution_count": 2,
   "id": "9fd54902",
   "metadata": {},
   "outputs": [
    {
     "name": "stdout",
     "output_type": "stream",
     "text": [
      "Note: you may need to restart the kernel to use updated packages.\n"
     ]
    }
   ],
   "source": [
    "pip install -q dill"
   ]
  },
  {
   "cell_type": "code",
   "execution_count": 3,
   "id": "4bc2a2d5",
   "metadata": {},
   "outputs": [],
   "source": [
    "import pandas as pd\n",
    "import numpy as np\n",
    "import matplotlib.pyplot as plt\n",
    "import seaborn as sns\n",
    "import warnings\n",
    "import dill as pickle\n",
    "\n",
    "from joblib import Parallel, delayed\n",
    "from sklearn.dummy import DummyClassifier\n",
    "from sklearn.model_selection import GridSearchCV\n",
    "from sklearn.tree import DecisionTreeClassifier\n",
    "from sklearn.ensemble import GradientBoostingClassifier\n",
    "from sklearn.ensemble import RandomForestClassifier\n",
    "from catboost import CatBoostClassifier, Pool\n",
    "from sklearn.metrics import r2_score\n",
    "from sklearn.model_selection import train_test_split\n",
    "from sklearn import preprocessing\n",
    "from sklearn.preprocessing import OrdinalEncoder, MinMaxScaler\n",
    "from statsmodels.stats.outliers_influence import variance_inflation_factor\n",
    "from sklearn.metrics import fbeta_score, make_scorer, classification_report, roc_curve, confusion_matrix, roc_auc_score, accuracy_score, f1_score\n",
    "from statsmodels.tools.tools import add_constant\n",
    "%matplotlib inline\n",
    "\n",
    "sns.set_style('whitegrid')\n",
    "warnings.filterwarnings('ignore')\n",
    "warnings.simplefilter(\"ignore\", category=RuntimeWarning)\n",
    "pd.options.mode.chained_assignment = None"
   ]
  },
  {
   "cell_type": "markdown",
   "id": "73e89d8a",
   "metadata": {},
   "source": [
    "## 1 Загрузка данных, преобработка данных"
   ]
  },
  {
   "cell_type": "code",
   "execution_count": 4,
   "id": "3065fded",
   "metadata": {},
   "outputs": [],
   "source": [
    "RANDOM_STATE = 300123"
   ]
  },
  {
   "cell_type": "markdown",
   "id": "59bf013d",
   "metadata": {},
   "source": [
    "### 1.1 Загрузка данных"
   ]
  },
  {
   "cell_type": "markdown",
   "id": "e5890a4c",
   "metadata": {},
   "source": [
    "- ####  `contract`"
   ]
  },
  {
   "cell_type": "code",
   "execution_count": 5,
   "id": "5359e0ec",
   "metadata": {
    "scrolled": false
   },
   "outputs": [],
   "source": [
    "# read the file handling exceptions\n",
    "try:\n",
    "    contract = pd.read_csv('/Users/yuliabezginova/PycharmProjects/00_files-for_NLP/final_provider/contract.csv') #, index_col=[0])\n",
    "except FileNotFoundError:\n",
    "    contract = pd.read_csv('/datasets/final_provider/contract.csv') #, index_col=[0])"
   ]
  },
  {
   "cell_type": "markdown",
   "id": "c2aac258",
   "metadata": {},
   "source": [
    "<div class=\"alert alert-danger\">\n",
    "<b>Комментарий ревьюера: &#10060; </b> Здесь и далее: предусмотри, пожалуйста, выполнение кода на стороне яндекса(try...except) Путь к файлам в тренажере <code>/datasets/final_provider/</code> Так же стоит комментировать проводимый анализ</div>"
   ]
  },
  {
   "cell_type": "markdown",
   "id": "0c95e5c6",
   "metadata": {},
   "source": [
    "<div class=\"alert alert-info\"> <b>Юлия:</b>\n",
    "Подскажите, пожалуйста, какие сторонние библиотеки у вас не установлены, я пропишу их установку.\n",
    "</div>\n"
   ]
  },
  {
   "cell_type": "markdown",
   "id": "5d482735",
   "metadata": {},
   "source": [
    "<div class=\"alert alert-success\">\n",
    "<b>Комментарий ревьюера V2:\n",
    "&#9989;</b> Теперь все работает! </div>"
   ]
  },
  {
   "cell_type": "code",
   "execution_count": 6,
   "id": "998bda34",
   "metadata": {},
   "outputs": [
    {
     "name": "stdout",
     "output_type": "stream",
     "text": [
      "<class 'pandas.core.frame.DataFrame'>\n",
      "RangeIndex: 7043 entries, 0 to 7042\n",
      "Data columns (total 8 columns):\n",
      " #   Column            Non-Null Count  Dtype  \n",
      "---  ------            --------------  -----  \n",
      " 0   customerID        7043 non-null   object \n",
      " 1   BeginDate         7043 non-null   object \n",
      " 2   EndDate           7043 non-null   object \n",
      " 3   Type              7043 non-null   object \n",
      " 4   PaperlessBilling  7043 non-null   object \n",
      " 5   PaymentMethod     7043 non-null   object \n",
      " 6   MonthlyCharges    7043 non-null   float64\n",
      " 7   TotalCharges      7043 non-null   object \n",
      "dtypes: float64(1), object(7)\n",
      "memory usage: 440.3+ KB\n"
     ]
    }
   ],
   "source": [
    "contract.info()"
   ]
  },
  {
   "cell_type": "code",
   "execution_count": 8,
   "id": "33400dcd",
   "metadata": {
    "scrolled": true
   },
   "outputs": [
    {
     "data": {
      "text/plain": [
       "Index(['customerID', 'BeginDate', 'EndDate', 'Type', 'PaperlessBilling',\n",
       "       'PaymentMethod', 'MonthlyCharges', 'TotalCharges'],\n",
       "      dtype='object')"
      ]
     },
     "execution_count": 8,
     "metadata": {},
     "output_type": "execute_result"
    }
   ],
   "source": [
    "contract.columns"
   ]
  },
  {
   "cell_type": "code",
   "execution_count": 9,
   "id": "228735be",
   "metadata": {
    "scrolled": true
   },
   "outputs": [
    {
     "data": {
      "text/plain": [
       "73.46"
      ]
     },
     "execution_count": 9,
     "metadata": {},
     "output_type": "execute_result"
    }
   ],
   "source": [
    "round(len(contract[contract['EndDate'] == 'No']) / len(contract) * 100, 2)"
   ]
  },
  {
   "cell_type": "code",
   "execution_count": 10,
   "id": "b8174288",
   "metadata": {},
   "outputs": [
    {
     "data": {
      "text/html": [
       "<div>\n",
       "<style scoped>\n",
       "    .dataframe tbody tr th:only-of-type {\n",
       "        vertical-align: middle;\n",
       "    }\n",
       "\n",
       "    .dataframe tbody tr th {\n",
       "        vertical-align: top;\n",
       "    }\n",
       "\n",
       "    .dataframe thead th {\n",
       "        text-align: right;\n",
       "    }\n",
       "</style>\n",
       "<table border=\"1\" class=\"dataframe\">\n",
       "  <thead>\n",
       "    <tr style=\"text-align: right;\">\n",
       "      <th></th>\n",
       "      <th>customerID</th>\n",
       "      <th>BeginDate</th>\n",
       "      <th>EndDate</th>\n",
       "      <th>Type</th>\n",
       "      <th>PaperlessBilling</th>\n",
       "      <th>PaymentMethod</th>\n",
       "      <th>MonthlyCharges</th>\n",
       "      <th>TotalCharges</th>\n",
       "    </tr>\n",
       "  </thead>\n",
       "  <tbody>\n",
       "    <tr>\n",
       "      <th>0</th>\n",
       "      <td>7590-VHVEG</td>\n",
       "      <td>2020-01-01</td>\n",
       "      <td>No</td>\n",
       "      <td>Month-to-month</td>\n",
       "      <td>Yes</td>\n",
       "      <td>Electronic check</td>\n",
       "      <td>29.85</td>\n",
       "      <td>29.85</td>\n",
       "    </tr>\n",
       "    <tr>\n",
       "      <th>1</th>\n",
       "      <td>5575-GNVDE</td>\n",
       "      <td>2017-04-01</td>\n",
       "      <td>No</td>\n",
       "      <td>One year</td>\n",
       "      <td>No</td>\n",
       "      <td>Mailed check</td>\n",
       "      <td>56.95</td>\n",
       "      <td>1889.5</td>\n",
       "    </tr>\n",
       "    <tr>\n",
       "      <th>2</th>\n",
       "      <td>3668-QPYBK</td>\n",
       "      <td>2019-10-01</td>\n",
       "      <td>2019-12-01 00:00:00</td>\n",
       "      <td>Month-to-month</td>\n",
       "      <td>Yes</td>\n",
       "      <td>Mailed check</td>\n",
       "      <td>53.85</td>\n",
       "      <td>108.15</td>\n",
       "    </tr>\n",
       "    <tr>\n",
       "      <th>3</th>\n",
       "      <td>7795-CFOCW</td>\n",
       "      <td>2016-05-01</td>\n",
       "      <td>No</td>\n",
       "      <td>One year</td>\n",
       "      <td>No</td>\n",
       "      <td>Bank transfer (automatic)</td>\n",
       "      <td>42.30</td>\n",
       "      <td>1840.75</td>\n",
       "    </tr>\n",
       "    <tr>\n",
       "      <th>4</th>\n",
       "      <td>9237-HQITU</td>\n",
       "      <td>2019-09-01</td>\n",
       "      <td>2019-11-01 00:00:00</td>\n",
       "      <td>Month-to-month</td>\n",
       "      <td>Yes</td>\n",
       "      <td>Electronic check</td>\n",
       "      <td>70.70</td>\n",
       "      <td>151.65</td>\n",
       "    </tr>\n",
       "  </tbody>\n",
       "</table>\n",
       "</div>"
      ],
      "text/plain": [
       "   customerID   BeginDate              EndDate            Type  \\\n",
       "0  7590-VHVEG  2020-01-01                   No  Month-to-month   \n",
       "1  5575-GNVDE  2017-04-01                   No        One year   \n",
       "2  3668-QPYBK  2019-10-01  2019-12-01 00:00:00  Month-to-month   \n",
       "3  7795-CFOCW  2016-05-01                   No        One year   \n",
       "4  9237-HQITU  2019-09-01  2019-11-01 00:00:00  Month-to-month   \n",
       "\n",
       "  PaperlessBilling              PaymentMethod  MonthlyCharges TotalCharges  \n",
       "0              Yes           Electronic check           29.85        29.85  \n",
       "1               No               Mailed check           56.95       1889.5  \n",
       "2              Yes               Mailed check           53.85       108.15  \n",
       "3               No  Bank transfer (automatic)           42.30      1840.75  \n",
       "4              Yes           Electronic check           70.70       151.65  "
      ]
     },
     "execution_count": 10,
     "metadata": {},
     "output_type": "execute_result"
    }
   ],
   "source": [
    "contract.head()"
   ]
  },
  {
   "cell_type": "markdown",
   "id": "1e51cf3a",
   "metadata": {},
   "source": [
    "Создадим временный датасет с двумя колонками ID клиента и статус окончания использования контрактом EndDate."
   ]
  },
  {
   "cell_type": "markdown",
   "id": "2c4d7805",
   "metadata": {},
   "source": [
    "<div class=\"alert alert-warning\">\n",
    "<b>Комментарий ревьюера:\n",
    "&#9888;</b> Мне кажется это лишнее, не проще добавить столбец?\n",
    "</div>"
   ]
  },
  {
   "cell_type": "code",
   "execution_count": 11,
   "id": "95a23636",
   "metadata": {},
   "outputs": [
    {
     "data": {
      "text/html": [
       "<div>\n",
       "<style scoped>\n",
       "    .dataframe tbody tr th:only-of-type {\n",
       "        vertical-align: middle;\n",
       "    }\n",
       "\n",
       "    .dataframe tbody tr th {\n",
       "        vertical-align: top;\n",
       "    }\n",
       "\n",
       "    .dataframe thead th {\n",
       "        text-align: right;\n",
       "    }\n",
       "</style>\n",
       "<table border=\"1\" class=\"dataframe\">\n",
       "  <thead>\n",
       "    <tr style=\"text-align: right;\">\n",
       "      <th></th>\n",
       "      <th>customerID</th>\n",
       "      <th>EndDate</th>\n",
       "    </tr>\n",
       "  </thead>\n",
       "  <tbody>\n",
       "    <tr>\n",
       "      <th>0</th>\n",
       "      <td>7590-VHVEG</td>\n",
       "      <td>No</td>\n",
       "    </tr>\n",
       "    <tr>\n",
       "      <th>1</th>\n",
       "      <td>5575-GNVDE</td>\n",
       "      <td>No</td>\n",
       "    </tr>\n",
       "    <tr>\n",
       "      <th>2</th>\n",
       "      <td>3668-QPYBK</td>\n",
       "      <td>2019-12-01 00:00:00</td>\n",
       "    </tr>\n",
       "    <tr>\n",
       "      <th>3</th>\n",
       "      <td>7795-CFOCW</td>\n",
       "      <td>No</td>\n",
       "    </tr>\n",
       "    <tr>\n",
       "      <th>4</th>\n",
       "      <td>9237-HQITU</td>\n",
       "      <td>2019-11-01 00:00:00</td>\n",
       "    </tr>\n",
       "    <tr>\n",
       "      <th>...</th>\n",
       "      <td>...</td>\n",
       "      <td>...</td>\n",
       "    </tr>\n",
       "    <tr>\n",
       "      <th>7038</th>\n",
       "      <td>6840-RESVB</td>\n",
       "      <td>No</td>\n",
       "    </tr>\n",
       "    <tr>\n",
       "      <th>7039</th>\n",
       "      <td>2234-XADUH</td>\n",
       "      <td>No</td>\n",
       "    </tr>\n",
       "    <tr>\n",
       "      <th>7040</th>\n",
       "      <td>4801-JZAZL</td>\n",
       "      <td>No</td>\n",
       "    </tr>\n",
       "    <tr>\n",
       "      <th>7041</th>\n",
       "      <td>8361-LTMKD</td>\n",
       "      <td>2019-11-01 00:00:00</td>\n",
       "    </tr>\n",
       "    <tr>\n",
       "      <th>7042</th>\n",
       "      <td>3186-AJIEK</td>\n",
       "      <td>No</td>\n",
       "    </tr>\n",
       "  </tbody>\n",
       "</table>\n",
       "<p>7043 rows × 2 columns</p>\n",
       "</div>"
      ],
      "text/plain": [
       "      customerID              EndDate\n",
       "0     7590-VHVEG                   No\n",
       "1     5575-GNVDE                   No\n",
       "2     3668-QPYBK  2019-12-01 00:00:00\n",
       "3     7795-CFOCW                   No\n",
       "4     9237-HQITU  2019-11-01 00:00:00\n",
       "...          ...                  ...\n",
       "7038  6840-RESVB                   No\n",
       "7039  2234-XADUH                   No\n",
       "7040  4801-JZAZL                   No\n",
       "7041  8361-LTMKD  2019-11-01 00:00:00\n",
       "7042  3186-AJIEK                   No\n",
       "\n",
       "[7043 rows x 2 columns]"
      ]
     },
     "execution_count": 11,
     "metadata": {},
     "output_type": "execute_result"
    }
   ],
   "source": [
    "temp = contract[['customerID', 'EndDate']].copy()\n",
    "temp"
   ]
  },
  {
   "cell_type": "code",
   "execution_count": 12,
   "id": "6b6d6b7f",
   "metadata": {
    "scrolled": false
   },
   "outputs": [
    {
     "data": {
      "text/html": [
       "<div>\n",
       "<style scoped>\n",
       "    .dataframe tbody tr th:only-of-type {\n",
       "        vertical-align: middle;\n",
       "    }\n",
       "\n",
       "    .dataframe tbody tr th {\n",
       "        vertical-align: top;\n",
       "    }\n",
       "\n",
       "    .dataframe thead th {\n",
       "        text-align: right;\n",
       "    }\n",
       "</style>\n",
       "<table border=\"1\" class=\"dataframe\">\n",
       "  <thead>\n",
       "    <tr style=\"text-align: right;\">\n",
       "      <th></th>\n",
       "      <th>customerID</th>\n",
       "      <th>EndDate</th>\n",
       "    </tr>\n",
       "  </thead>\n",
       "  <tbody>\n",
       "    <tr>\n",
       "      <th>0</th>\n",
       "      <td>7590-VHVEG</td>\n",
       "      <td>No</td>\n",
       "    </tr>\n",
       "    <tr>\n",
       "      <th>1</th>\n",
       "      <td>5575-GNVDE</td>\n",
       "      <td>No</td>\n",
       "    </tr>\n",
       "    <tr>\n",
       "      <th>3</th>\n",
       "      <td>7795-CFOCW</td>\n",
       "      <td>No</td>\n",
       "    </tr>\n",
       "    <tr>\n",
       "      <th>6</th>\n",
       "      <td>1452-KIOVK</td>\n",
       "      <td>No</td>\n",
       "    </tr>\n",
       "    <tr>\n",
       "      <th>7</th>\n",
       "      <td>6713-OKOMC</td>\n",
       "      <td>No</td>\n",
       "    </tr>\n",
       "  </tbody>\n",
       "</table>\n",
       "</div>"
      ],
      "text/plain": [
       "   customerID EndDate\n",
       "0  7590-VHVEG      No\n",
       "1  5575-GNVDE      No\n",
       "3  7795-CFOCW      No\n",
       "6  1452-KIOVK      No\n",
       "7  6713-OKOMC      No"
      ]
     },
     "execution_count": 12,
     "metadata": {},
     "output_type": "execute_result"
    }
   ],
   "source": [
    "churned = temp[temp['EndDate'] == 'No']\n",
    "churned.head()"
   ]
  },
  {
   "cell_type": "code",
   "execution_count": 13,
   "id": "fc582841",
   "metadata": {
    "scrolled": true
   },
   "outputs": [
    {
     "data": {
      "text/html": [
       "<div>\n",
       "<style scoped>\n",
       "    .dataframe tbody tr th:only-of-type {\n",
       "        vertical-align: middle;\n",
       "    }\n",
       "\n",
       "    .dataframe tbody tr th {\n",
       "        vertical-align: top;\n",
       "    }\n",
       "\n",
       "    .dataframe thead th {\n",
       "        text-align: right;\n",
       "    }\n",
       "</style>\n",
       "<table border=\"1\" class=\"dataframe\">\n",
       "  <thead>\n",
       "    <tr style=\"text-align: right;\">\n",
       "      <th></th>\n",
       "      <th>customerID</th>\n",
       "      <th>churned</th>\n",
       "    </tr>\n",
       "  </thead>\n",
       "  <tbody>\n",
       "    <tr>\n",
       "      <th>0</th>\n",
       "      <td>7590-VHVEG</td>\n",
       "      <td>1</td>\n",
       "    </tr>\n",
       "    <tr>\n",
       "      <th>1</th>\n",
       "      <td>5575-GNVDE</td>\n",
       "      <td>1</td>\n",
       "    </tr>\n",
       "    <tr>\n",
       "      <th>3</th>\n",
       "      <td>7795-CFOCW</td>\n",
       "      <td>1</td>\n",
       "    </tr>\n",
       "    <tr>\n",
       "      <th>6</th>\n",
       "      <td>1452-KIOVK</td>\n",
       "      <td>1</td>\n",
       "    </tr>\n",
       "    <tr>\n",
       "      <th>7</th>\n",
       "      <td>6713-OKOMC</td>\n",
       "      <td>1</td>\n",
       "    </tr>\n",
       "    <tr>\n",
       "      <th>...</th>\n",
       "      <td>...</td>\n",
       "      <td>...</td>\n",
       "    </tr>\n",
       "    <tr>\n",
       "      <th>7037</th>\n",
       "      <td>2569-WGERO</td>\n",
       "      <td>1</td>\n",
       "    </tr>\n",
       "    <tr>\n",
       "      <th>7038</th>\n",
       "      <td>6840-RESVB</td>\n",
       "      <td>1</td>\n",
       "    </tr>\n",
       "    <tr>\n",
       "      <th>7039</th>\n",
       "      <td>2234-XADUH</td>\n",
       "      <td>1</td>\n",
       "    </tr>\n",
       "    <tr>\n",
       "      <th>7040</th>\n",
       "      <td>4801-JZAZL</td>\n",
       "      <td>1</td>\n",
       "    </tr>\n",
       "    <tr>\n",
       "      <th>7042</th>\n",
       "      <td>3186-AJIEK</td>\n",
       "      <td>1</td>\n",
       "    </tr>\n",
       "  </tbody>\n",
       "</table>\n",
       "<p>5174 rows × 2 columns</p>\n",
       "</div>"
      ],
      "text/plain": [
       "      customerID  churned\n",
       "0     7590-VHVEG        1\n",
       "1     5575-GNVDE        1\n",
       "3     7795-CFOCW        1\n",
       "6     1452-KIOVK        1\n",
       "7     6713-OKOMC        1\n",
       "...          ...      ...\n",
       "7037  2569-WGERO        1\n",
       "7038  6840-RESVB        1\n",
       "7039  2234-XADUH        1\n",
       "7040  4801-JZAZL        1\n",
       "7042  3186-AJIEK        1\n",
       "\n",
       "[5174 rows x 2 columns]"
      ]
     },
     "execution_count": 13,
     "metadata": {},
     "output_type": "execute_result"
    }
   ],
   "source": [
    "churned['churned'] = int(1)\n",
    "churned.drop(columns=['EndDate'])"
   ]
  },
  {
   "cell_type": "code",
   "execution_count": 14,
   "id": "5c8ffb4e",
   "metadata": {
    "scrolled": false
   },
   "outputs": [
    {
     "data": {
      "text/plain": [
       "(7043, 10)"
      ]
     },
     "execution_count": 14,
     "metadata": {},
     "output_type": "execute_result"
    }
   ],
   "source": [
    "j = churned.merge(contract[['customerID', 'BeginDate', 'EndDate', 'Type', \n",
    "                            'PaperlessBilling', 'PaymentMethod', 'MonthlyCharges', \n",
    "                            'TotalCharges']], how='right', on='customerID')\n",
    "j.shape"
   ]
  },
  {
   "cell_type": "code",
   "execution_count": 15,
   "id": "0ce513d8",
   "metadata": {},
   "outputs": [
    {
     "data": {
      "text/plain": [
       "array([ 1., nan])"
      ]
     },
     "execution_count": 15,
     "metadata": {},
     "output_type": "execute_result"
    }
   ],
   "source": [
    "j['churned'].unique()"
   ]
  },
  {
   "cell_type": "code",
   "execution_count": 16,
   "id": "88692727",
   "metadata": {},
   "outputs": [
    {
     "data": {
      "text/plain": [
       "1869"
      ]
     },
     "execution_count": 16,
     "metadata": {},
     "output_type": "execute_result"
    }
   ],
   "source": [
    "j['churned'].isnull().sum()"
   ]
  },
  {
   "cell_type": "code",
   "execution_count": 17,
   "id": "cbc1627a",
   "metadata": {},
   "outputs": [
    {
     "data": {
      "text/html": [
       "<div>\n",
       "<style scoped>\n",
       "    .dataframe tbody tr th:only-of-type {\n",
       "        vertical-align: middle;\n",
       "    }\n",
       "\n",
       "    .dataframe tbody tr th {\n",
       "        vertical-align: top;\n",
       "    }\n",
       "\n",
       "    .dataframe thead th {\n",
       "        text-align: right;\n",
       "    }\n",
       "</style>\n",
       "<table border=\"1\" class=\"dataframe\">\n",
       "  <thead>\n",
       "    <tr style=\"text-align: right;\">\n",
       "      <th></th>\n",
       "      <th>customerID</th>\n",
       "      <th>EndDate_x</th>\n",
       "      <th>churned</th>\n",
       "      <th>BeginDate</th>\n",
       "      <th>EndDate_y</th>\n",
       "      <th>Type</th>\n",
       "      <th>PaperlessBilling</th>\n",
       "      <th>PaymentMethod</th>\n",
       "      <th>MonthlyCharges</th>\n",
       "      <th>TotalCharges</th>\n",
       "    </tr>\n",
       "  </thead>\n",
       "  <tbody>\n",
       "    <tr>\n",
       "      <th>0</th>\n",
       "      <td>7590-VHVEG</td>\n",
       "      <td>No</td>\n",
       "      <td>1.0</td>\n",
       "      <td>2020-01-01</td>\n",
       "      <td>No</td>\n",
       "      <td>Month-to-month</td>\n",
       "      <td>Yes</td>\n",
       "      <td>Electronic check</td>\n",
       "      <td>29.85</td>\n",
       "      <td>29.85</td>\n",
       "    </tr>\n",
       "    <tr>\n",
       "      <th>1</th>\n",
       "      <td>5575-GNVDE</td>\n",
       "      <td>No</td>\n",
       "      <td>1.0</td>\n",
       "      <td>2017-04-01</td>\n",
       "      <td>No</td>\n",
       "      <td>One year</td>\n",
       "      <td>No</td>\n",
       "      <td>Mailed check</td>\n",
       "      <td>56.95</td>\n",
       "      <td>1889.5</td>\n",
       "    </tr>\n",
       "    <tr>\n",
       "      <th>2</th>\n",
       "      <td>3668-QPYBK</td>\n",
       "      <td>NaN</td>\n",
       "      <td>NaN</td>\n",
       "      <td>2019-10-01</td>\n",
       "      <td>2019-12-01 00:00:00</td>\n",
       "      <td>Month-to-month</td>\n",
       "      <td>Yes</td>\n",
       "      <td>Mailed check</td>\n",
       "      <td>53.85</td>\n",
       "      <td>108.15</td>\n",
       "    </tr>\n",
       "  </tbody>\n",
       "</table>\n",
       "</div>"
      ],
      "text/plain": [
       "   customerID EndDate_x  churned   BeginDate            EndDate_y  \\\n",
       "0  7590-VHVEG        No      1.0  2020-01-01                   No   \n",
       "1  5575-GNVDE        No      1.0  2017-04-01                   No   \n",
       "2  3668-QPYBK       NaN      NaN  2019-10-01  2019-12-01 00:00:00   \n",
       "\n",
       "             Type PaperlessBilling     PaymentMethod  MonthlyCharges  \\\n",
       "0  Month-to-month              Yes  Electronic check           29.85   \n",
       "1        One year               No      Mailed check           56.95   \n",
       "2  Month-to-month              Yes      Mailed check           53.85   \n",
       "\n",
       "  TotalCharges  \n",
       "0        29.85  \n",
       "1       1889.5  \n",
       "2       108.15  "
      ]
     },
     "execution_count": 17,
     "metadata": {},
     "output_type": "execute_result"
    }
   ],
   "source": [
    "contract_adj = j.copy()\n",
    "contract_adj.head(3)"
   ]
  },
  {
   "cell_type": "code",
   "execution_count": 18,
   "id": "cc1796e8",
   "metadata": {
    "scrolled": true
   },
   "outputs": [],
   "source": [
    "contract_adj = contract_adj.drop(columns=['EndDate_x'])"
   ]
  },
  {
   "cell_type": "code",
   "execution_count": 19,
   "id": "4284071f",
   "metadata": {},
   "outputs": [
    {
     "data": {
      "text/html": [
       "<div>\n",
       "<style scoped>\n",
       "    .dataframe tbody tr th:only-of-type {\n",
       "        vertical-align: middle;\n",
       "    }\n",
       "\n",
       "    .dataframe tbody tr th {\n",
       "        vertical-align: top;\n",
       "    }\n",
       "\n",
       "    .dataframe thead th {\n",
       "        text-align: right;\n",
       "    }\n",
       "</style>\n",
       "<table border=\"1\" class=\"dataframe\">\n",
       "  <thead>\n",
       "    <tr style=\"text-align: right;\">\n",
       "      <th></th>\n",
       "      <th>customerID</th>\n",
       "      <th>churned</th>\n",
       "      <th>BeginDate</th>\n",
       "      <th>EndDate_y</th>\n",
       "      <th>Type</th>\n",
       "      <th>PaperlessBilling</th>\n",
       "      <th>PaymentMethod</th>\n",
       "      <th>MonthlyCharges</th>\n",
       "      <th>TotalCharges</th>\n",
       "    </tr>\n",
       "  </thead>\n",
       "  <tbody>\n",
       "    <tr>\n",
       "      <th>0</th>\n",
       "      <td>7590-VHVEG</td>\n",
       "      <td>1.0</td>\n",
       "      <td>2020-01-01</td>\n",
       "      <td>No</td>\n",
       "      <td>Month-to-month</td>\n",
       "      <td>Yes</td>\n",
       "      <td>Electronic check</td>\n",
       "      <td>29.85</td>\n",
       "      <td>29.85</td>\n",
       "    </tr>\n",
       "    <tr>\n",
       "      <th>1</th>\n",
       "      <td>5575-GNVDE</td>\n",
       "      <td>1.0</td>\n",
       "      <td>2017-04-01</td>\n",
       "      <td>No</td>\n",
       "      <td>One year</td>\n",
       "      <td>No</td>\n",
       "      <td>Mailed check</td>\n",
       "      <td>56.95</td>\n",
       "      <td>1889.5</td>\n",
       "    </tr>\n",
       "    <tr>\n",
       "      <th>2</th>\n",
       "      <td>3668-QPYBK</td>\n",
       "      <td>NaN</td>\n",
       "      <td>2019-10-01</td>\n",
       "      <td>2019-12-01 00:00:00</td>\n",
       "      <td>Month-to-month</td>\n",
       "      <td>Yes</td>\n",
       "      <td>Mailed check</td>\n",
       "      <td>53.85</td>\n",
       "      <td>108.15</td>\n",
       "    </tr>\n",
       "  </tbody>\n",
       "</table>\n",
       "</div>"
      ],
      "text/plain": [
       "   customerID  churned   BeginDate            EndDate_y            Type  \\\n",
       "0  7590-VHVEG      1.0  2020-01-01                   No  Month-to-month   \n",
       "1  5575-GNVDE      1.0  2017-04-01                   No        One year   \n",
       "2  3668-QPYBK      NaN  2019-10-01  2019-12-01 00:00:00  Month-to-month   \n",
       "\n",
       "  PaperlessBilling     PaymentMethod  MonthlyCharges TotalCharges  \n",
       "0              Yes  Electronic check           29.85        29.85  \n",
       "1               No      Mailed check           56.95       1889.5  \n",
       "2              Yes      Mailed check           53.85       108.15  "
      ]
     },
     "execution_count": 19,
     "metadata": {},
     "output_type": "execute_result"
    }
   ],
   "source": [
    "contract_adj.head(3)"
   ]
  },
  {
   "cell_type": "code",
   "execution_count": 20,
   "id": "a6698caf",
   "metadata": {},
   "outputs": [],
   "source": [
    "contract_adj.rename(columns = {'EndDate_y':'EndDate'}, inplace = True)"
   ]
  },
  {
   "cell_type": "code",
   "execution_count": 21,
   "id": "79c7d02b",
   "metadata": {},
   "outputs": [
    {
     "data": {
      "text/html": [
       "<div>\n",
       "<style scoped>\n",
       "    .dataframe tbody tr th:only-of-type {\n",
       "        vertical-align: middle;\n",
       "    }\n",
       "\n",
       "    .dataframe tbody tr th {\n",
       "        vertical-align: top;\n",
       "    }\n",
       "\n",
       "    .dataframe thead th {\n",
       "        text-align: right;\n",
       "    }\n",
       "</style>\n",
       "<table border=\"1\" class=\"dataframe\">\n",
       "  <thead>\n",
       "    <tr style=\"text-align: right;\">\n",
       "      <th></th>\n",
       "      <th>customerID</th>\n",
       "      <th>churned</th>\n",
       "      <th>BeginDate</th>\n",
       "      <th>EndDate</th>\n",
       "      <th>Type</th>\n",
       "      <th>PaperlessBilling</th>\n",
       "      <th>PaymentMethod</th>\n",
       "      <th>MonthlyCharges</th>\n",
       "      <th>TotalCharges</th>\n",
       "    </tr>\n",
       "  </thead>\n",
       "  <tbody>\n",
       "    <tr>\n",
       "      <th>0</th>\n",
       "      <td>7590-VHVEG</td>\n",
       "      <td>1.0</td>\n",
       "      <td>2020-01-01</td>\n",
       "      <td>No</td>\n",
       "      <td>Month-to-month</td>\n",
       "      <td>Yes</td>\n",
       "      <td>Electronic check</td>\n",
       "      <td>29.85</td>\n",
       "      <td>29.85</td>\n",
       "    </tr>\n",
       "    <tr>\n",
       "      <th>1</th>\n",
       "      <td>5575-GNVDE</td>\n",
       "      <td>1.0</td>\n",
       "      <td>2017-04-01</td>\n",
       "      <td>No</td>\n",
       "      <td>One year</td>\n",
       "      <td>No</td>\n",
       "      <td>Mailed check</td>\n",
       "      <td>56.95</td>\n",
       "      <td>1889.5</td>\n",
       "    </tr>\n",
       "    <tr>\n",
       "      <th>2</th>\n",
       "      <td>3668-QPYBK</td>\n",
       "      <td>NaN</td>\n",
       "      <td>2019-10-01</td>\n",
       "      <td>2019-12-01 00:00:00</td>\n",
       "      <td>Month-to-month</td>\n",
       "      <td>Yes</td>\n",
       "      <td>Mailed check</td>\n",
       "      <td>53.85</td>\n",
       "      <td>108.15</td>\n",
       "    </tr>\n",
       "  </tbody>\n",
       "</table>\n",
       "</div>"
      ],
      "text/plain": [
       "   customerID  churned   BeginDate              EndDate            Type  \\\n",
       "0  7590-VHVEG      1.0  2020-01-01                   No  Month-to-month   \n",
       "1  5575-GNVDE      1.0  2017-04-01                   No        One year   \n",
       "2  3668-QPYBK      NaN  2019-10-01  2019-12-01 00:00:00  Month-to-month   \n",
       "\n",
       "  PaperlessBilling     PaymentMethod  MonthlyCharges TotalCharges  \n",
       "0              Yes  Electronic check           29.85        29.85  \n",
       "1               No      Mailed check           56.95       1889.5  \n",
       "2              Yes      Mailed check           53.85       108.15  "
      ]
     },
     "execution_count": 21,
     "metadata": {},
     "output_type": "execute_result"
    }
   ],
   "source": [
    "contract_adj.head(3)"
   ]
  },
  {
   "cell_type": "code",
   "execution_count": 22,
   "id": "cfe6edaf",
   "metadata": {
    "scrolled": false
   },
   "outputs": [
    {
     "data": {
      "text/plain": [
       "customerID                         0002-ORFBO\n",
       "churned                                   0.0\n",
       "BeginDate                          2013-10-01\n",
       "EndDate                   2019-10-01 00:00:00\n",
       "Type                           Month-to-month\n",
       "PaperlessBilling                           No\n",
       "PaymentMethod       Bank transfer (automatic)\n",
       "MonthlyCharges                          18.25\n",
       "TotalCharges                                 \n",
       "dtype: object"
      ]
     },
     "execution_count": 22,
     "metadata": {},
     "output_type": "execute_result"
    }
   ],
   "source": [
    "contract_adj['churned'] = contract_adj['churned'].fillna(0)\n",
    "contract_adj.min()"
   ]
  },
  {
   "cell_type": "code",
   "execution_count": 23,
   "id": "9e633a9f",
   "metadata": {},
   "outputs": [
    {
     "data": {
      "text/plain": [
       "customerID          0\n",
       "churned             0\n",
       "BeginDate           0\n",
       "EndDate             0\n",
       "Type                0\n",
       "PaperlessBilling    0\n",
       "PaymentMethod       0\n",
       "MonthlyCharges      0\n",
       "TotalCharges        0\n",
       "dtype: int64"
      ]
     },
     "execution_count": 23,
     "metadata": {},
     "output_type": "execute_result"
    }
   ],
   "source": [
    "# Код ревьюера\n",
    "contract_adj.isna().sum()"
   ]
  },
  {
   "cell_type": "code",
   "execution_count": 24,
   "id": "26eb1fa7",
   "metadata": {},
   "outputs": [
    {
     "data": {
      "text/html": [
       "<div>\n",
       "<style scoped>\n",
       "    .dataframe tbody tr th:only-of-type {\n",
       "        vertical-align: middle;\n",
       "    }\n",
       "\n",
       "    .dataframe tbody tr th {\n",
       "        vertical-align: top;\n",
       "    }\n",
       "\n",
       "    .dataframe thead th {\n",
       "        text-align: right;\n",
       "    }\n",
       "</style>\n",
       "<table border=\"1\" class=\"dataframe\">\n",
       "  <thead>\n",
       "    <tr style=\"text-align: right;\">\n",
       "      <th></th>\n",
       "      <th>customerID</th>\n",
       "      <th>churned</th>\n",
       "      <th>BeginDate</th>\n",
       "      <th>EndDate</th>\n",
       "      <th>Type</th>\n",
       "      <th>PaperlessBilling</th>\n",
       "      <th>PaymentMethod</th>\n",
       "      <th>MonthlyCharges</th>\n",
       "      <th>TotalCharges</th>\n",
       "    </tr>\n",
       "  </thead>\n",
       "  <tbody>\n",
       "    <tr>\n",
       "      <th>7040</th>\n",
       "      <td>4801-JZAZL</td>\n",
       "      <td>1.0</td>\n",
       "      <td>2019-03-01</td>\n",
       "      <td>No</td>\n",
       "      <td>Month-to-month</td>\n",
       "      <td>Yes</td>\n",
       "      <td>Electronic check</td>\n",
       "      <td>29.60</td>\n",
       "      <td>346.45</td>\n",
       "    </tr>\n",
       "    <tr>\n",
       "      <th>7041</th>\n",
       "      <td>8361-LTMKD</td>\n",
       "      <td>0.0</td>\n",
       "      <td>2019-07-01</td>\n",
       "      <td>2019-11-01 00:00:00</td>\n",
       "      <td>Month-to-month</td>\n",
       "      <td>Yes</td>\n",
       "      <td>Mailed check</td>\n",
       "      <td>74.40</td>\n",
       "      <td>306.6</td>\n",
       "    </tr>\n",
       "    <tr>\n",
       "      <th>7042</th>\n",
       "      <td>3186-AJIEK</td>\n",
       "      <td>1.0</td>\n",
       "      <td>2014-08-01</td>\n",
       "      <td>No</td>\n",
       "      <td>Two year</td>\n",
       "      <td>Yes</td>\n",
       "      <td>Bank transfer (automatic)</td>\n",
       "      <td>105.65</td>\n",
       "      <td>6844.5</td>\n",
       "    </tr>\n",
       "  </tbody>\n",
       "</table>\n",
       "</div>"
      ],
      "text/plain": [
       "      customerID  churned   BeginDate              EndDate            Type  \\\n",
       "7040  4801-JZAZL      1.0  2019-03-01                   No  Month-to-month   \n",
       "7041  8361-LTMKD      0.0  2019-07-01  2019-11-01 00:00:00  Month-to-month   \n",
       "7042  3186-AJIEK      1.0  2014-08-01                   No        Two year   \n",
       "\n",
       "     PaperlessBilling              PaymentMethod  MonthlyCharges TotalCharges  \n",
       "7040              Yes           Electronic check           29.60       346.45  \n",
       "7041              Yes               Mailed check           74.40        306.6  \n",
       "7042              Yes  Bank transfer (automatic)          105.65       6844.5  "
      ]
     },
     "execution_count": 24,
     "metadata": {},
     "output_type": "execute_result"
    }
   ],
   "source": [
    "contract_adj.tail(3)"
   ]
  },
  {
   "cell_type": "markdown",
   "id": "6decfc26",
   "metadata": {},
   "source": [
    "<div class=\"alert alert-danger\">\n",
    "<b>Комментарий ревьюера: &#10060; </b> Не совсем понятно, зачем нужна строка выше, если пропусков нет, так же здесь и далее: заполнение пропусков интерполяцией в этом проекте не корректно, пропуски в услугах означают их отсутствие(у те</div>"
   ]
  },
  {
   "cell_type": "markdown",
   "id": "50d26a26",
   "metadata": {},
   "source": [
    "<div class=\"alert alert-info\"> <b>Юлия:</b>\n",
    "Убрала.\n",
    "</div>\n"
   ]
  },
  {
   "cell_type": "code",
   "execution_count": 25,
   "id": "1164ddbe",
   "metadata": {},
   "outputs": [],
   "source": [
    "contract_adj['begin_date'] = pd.to_datetime(contract_adj['BeginDate']).dt.date"
   ]
  },
  {
   "cell_type": "code",
   "execution_count": 26,
   "id": "5e168c1b",
   "metadata": {
    "scrolled": true
   },
   "outputs": [
    {
     "data": {
      "text/plain": [
       "customerID                         0002-ORFBO\n",
       "churned                                   0.0\n",
       "BeginDate                          2013-10-01\n",
       "Type                           Month-to-month\n",
       "PaperlessBilling                           No\n",
       "PaymentMethod       Bank transfer (automatic)\n",
       "MonthlyCharges                          18.25\n",
       "TotalCharges                                 \n",
       "begin_date                         2013-10-01\n",
       "dtype: object"
      ]
     },
     "execution_count": 26,
     "metadata": {},
     "output_type": "execute_result"
    }
   ],
   "source": [
    "contract_adj.loc[contract_adj['EndDate'] == 'No', 'EndDate'] = pd.to_datetime('2020-02-01')\n",
    "contract_adj.min()"
   ]
  },
  {
   "cell_type": "markdown",
   "id": "f31242ec",
   "metadata": {},
   "source": [
    "<div class=\"alert alert-danger\">\n",
    "<b>Комментарий ревьюера: &#10060; </b> Обрати, пожалуйста, внимание на end_date (во что преобразуются нули)Здесь пропуски лучше заполнить датой выгрузки из бд</div>"
   ]
  },
  {
   "cell_type": "markdown",
   "id": "4c935673",
   "metadata": {},
   "source": [
    "<div class=\"alert alert-info\"> <b>Юлия:</b>\n",
    "Заполнила датой 01/02/2020.\n",
    "</div>\n"
   ]
  },
  {
   "cell_type": "markdown",
   "id": "3ee71c3e",
   "metadata": {},
   "source": [
    "<div class=\"alert alert-success\">\n",
    "<b>Комментарий ревьюера V2:\n",
    "&#9989;</b> Отлично! </div>"
   ]
  },
  {
   "cell_type": "code",
   "execution_count": 27,
   "id": "c95a5992",
   "metadata": {},
   "outputs": [],
   "source": [
    "contract_adj['end_date'] = pd.to_datetime(contract_adj['EndDate']).dt.date"
   ]
  },
  {
   "cell_type": "code",
   "execution_count": 28,
   "id": "8204b553",
   "metadata": {},
   "outputs": [
    {
     "data": {
      "text/html": [
       "<div>\n",
       "<style scoped>\n",
       "    .dataframe tbody tr th:only-of-type {\n",
       "        vertical-align: middle;\n",
       "    }\n",
       "\n",
       "    .dataframe tbody tr th {\n",
       "        vertical-align: top;\n",
       "    }\n",
       "\n",
       "    .dataframe thead th {\n",
       "        text-align: right;\n",
       "    }\n",
       "</style>\n",
       "<table border=\"1\" class=\"dataframe\">\n",
       "  <thead>\n",
       "    <tr style=\"text-align: right;\">\n",
       "      <th></th>\n",
       "      <th>customerID</th>\n",
       "      <th>churned</th>\n",
       "      <th>BeginDate</th>\n",
       "      <th>EndDate</th>\n",
       "      <th>Type</th>\n",
       "      <th>PaperlessBilling</th>\n",
       "      <th>PaymentMethod</th>\n",
       "      <th>MonthlyCharges</th>\n",
       "      <th>TotalCharges</th>\n",
       "      <th>begin_date</th>\n",
       "      <th>end_date</th>\n",
       "    </tr>\n",
       "  </thead>\n",
       "  <tbody>\n",
       "    <tr>\n",
       "      <th>0</th>\n",
       "      <td>7590-VHVEG</td>\n",
       "      <td>1.0</td>\n",
       "      <td>2020-01-01</td>\n",
       "      <td>2020-02-01 00:00:00</td>\n",
       "      <td>Month-to-month</td>\n",
       "      <td>Yes</td>\n",
       "      <td>Electronic check</td>\n",
       "      <td>29.85</td>\n",
       "      <td>29.85</td>\n",
       "      <td>2020-01-01</td>\n",
       "      <td>2020-02-01</td>\n",
       "    </tr>\n",
       "    <tr>\n",
       "      <th>1</th>\n",
       "      <td>5575-GNVDE</td>\n",
       "      <td>1.0</td>\n",
       "      <td>2017-04-01</td>\n",
       "      <td>2020-02-01 00:00:00</td>\n",
       "      <td>One year</td>\n",
       "      <td>No</td>\n",
       "      <td>Mailed check</td>\n",
       "      <td>56.95</td>\n",
       "      <td>1889.5</td>\n",
       "      <td>2017-04-01</td>\n",
       "      <td>2020-02-01</td>\n",
       "    </tr>\n",
       "    <tr>\n",
       "      <th>2</th>\n",
       "      <td>3668-QPYBK</td>\n",
       "      <td>0.0</td>\n",
       "      <td>2019-10-01</td>\n",
       "      <td>2019-12-01 00:00:00</td>\n",
       "      <td>Month-to-month</td>\n",
       "      <td>Yes</td>\n",
       "      <td>Mailed check</td>\n",
       "      <td>53.85</td>\n",
       "      <td>108.15</td>\n",
       "      <td>2019-10-01</td>\n",
       "      <td>2019-12-01</td>\n",
       "    </tr>\n",
       "    <tr>\n",
       "      <th>3</th>\n",
       "      <td>7795-CFOCW</td>\n",
       "      <td>1.0</td>\n",
       "      <td>2016-05-01</td>\n",
       "      <td>2020-02-01 00:00:00</td>\n",
       "      <td>One year</td>\n",
       "      <td>No</td>\n",
       "      <td>Bank transfer (automatic)</td>\n",
       "      <td>42.30</td>\n",
       "      <td>1840.75</td>\n",
       "      <td>2016-05-01</td>\n",
       "      <td>2020-02-01</td>\n",
       "    </tr>\n",
       "    <tr>\n",
       "      <th>4</th>\n",
       "      <td>9237-HQITU</td>\n",
       "      <td>0.0</td>\n",
       "      <td>2019-09-01</td>\n",
       "      <td>2019-11-01 00:00:00</td>\n",
       "      <td>Month-to-month</td>\n",
       "      <td>Yes</td>\n",
       "      <td>Electronic check</td>\n",
       "      <td>70.70</td>\n",
       "      <td>151.65</td>\n",
       "      <td>2019-09-01</td>\n",
       "      <td>2019-11-01</td>\n",
       "    </tr>\n",
       "  </tbody>\n",
       "</table>\n",
       "</div>"
      ],
      "text/plain": [
       "   customerID  churned   BeginDate              EndDate            Type  \\\n",
       "0  7590-VHVEG      1.0  2020-01-01  2020-02-01 00:00:00  Month-to-month   \n",
       "1  5575-GNVDE      1.0  2017-04-01  2020-02-01 00:00:00        One year   \n",
       "2  3668-QPYBK      0.0  2019-10-01  2019-12-01 00:00:00  Month-to-month   \n",
       "3  7795-CFOCW      1.0  2016-05-01  2020-02-01 00:00:00        One year   \n",
       "4  9237-HQITU      0.0  2019-09-01  2019-11-01 00:00:00  Month-to-month   \n",
       "\n",
       "  PaperlessBilling              PaymentMethod  MonthlyCharges TotalCharges  \\\n",
       "0              Yes           Electronic check           29.85        29.85   \n",
       "1               No               Mailed check           56.95       1889.5   \n",
       "2              Yes               Mailed check           53.85       108.15   \n",
       "3               No  Bank transfer (automatic)           42.30      1840.75   \n",
       "4              Yes           Electronic check           70.70       151.65   \n",
       "\n",
       "   begin_date    end_date  \n",
       "0  2020-01-01  2020-02-01  \n",
       "1  2017-04-01  2020-02-01  \n",
       "2  2019-10-01  2019-12-01  \n",
       "3  2016-05-01  2020-02-01  \n",
       "4  2019-09-01  2019-11-01  "
      ]
     },
     "execution_count": 28,
     "metadata": {},
     "output_type": "execute_result"
    }
   ],
   "source": [
    "contract_adj.head(5)"
   ]
  },
  {
   "cell_type": "code",
   "execution_count": 29,
   "id": "99324115",
   "metadata": {
    "scrolled": false
   },
   "outputs": [
    {
     "data": {
      "text/plain": [
       "(7043, 11)"
      ]
     },
     "execution_count": 29,
     "metadata": {},
     "output_type": "execute_result"
    }
   ],
   "source": [
    "contract_adj.shape"
   ]
  },
  {
   "cell_type": "markdown",
   "id": "c8d1e92b",
   "metadata": {},
   "source": [
    "<div class=\"alert alert-danger\">\n",
    "<b>Комментарий ревьюера: &#10060; </b> Здесь вылетает ошибка</div>"
   ]
  },
  {
   "cell_type": "markdown",
   "id": "b7cee5d0",
   "metadata": {},
   "source": [
    "<div class=\"alert alert-info\"> <b>Юлия:</b>\n",
    "Поправила.\n",
    "</div>\n"
   ]
  },
  {
   "cell_type": "markdown",
   "id": "d379a0c2",
   "metadata": {},
   "source": [
    "<div class=\"alert alert-success\">\n",
    "<b>Комментарий ревьюера V2:\n",
    "&#9989;</b> Отлично! </div>"
   ]
  },
  {
   "cell_type": "code",
   "execution_count": 30,
   "id": "6bc49ed4",
   "metadata": {
    "scrolled": true
   },
   "outputs": [
    {
     "data": {
      "text/html": [
       "<div>\n",
       "<style scoped>\n",
       "    .dataframe tbody tr th:only-of-type {\n",
       "        vertical-align: middle;\n",
       "    }\n",
       "\n",
       "    .dataframe tbody tr th {\n",
       "        vertical-align: top;\n",
       "    }\n",
       "\n",
       "    .dataframe thead th {\n",
       "        text-align: right;\n",
       "    }\n",
       "</style>\n",
       "<table border=\"1\" class=\"dataframe\">\n",
       "  <thead>\n",
       "    <tr style=\"text-align: right;\">\n",
       "      <th></th>\n",
       "      <th>churned</th>\n",
       "      <th>MonthlyCharges</th>\n",
       "    </tr>\n",
       "  </thead>\n",
       "  <tbody>\n",
       "    <tr>\n",
       "      <th>count</th>\n",
       "      <td>7043.000000</td>\n",
       "      <td>7043.000000</td>\n",
       "    </tr>\n",
       "    <tr>\n",
       "      <th>mean</th>\n",
       "      <td>0.734630</td>\n",
       "      <td>64.761692</td>\n",
       "    </tr>\n",
       "    <tr>\n",
       "      <th>std</th>\n",
       "      <td>0.441561</td>\n",
       "      <td>30.090047</td>\n",
       "    </tr>\n",
       "    <tr>\n",
       "      <th>min</th>\n",
       "      <td>0.000000</td>\n",
       "      <td>18.250000</td>\n",
       "    </tr>\n",
       "    <tr>\n",
       "      <th>25%</th>\n",
       "      <td>0.000000</td>\n",
       "      <td>35.500000</td>\n",
       "    </tr>\n",
       "    <tr>\n",
       "      <th>50%</th>\n",
       "      <td>1.000000</td>\n",
       "      <td>70.350000</td>\n",
       "    </tr>\n",
       "    <tr>\n",
       "      <th>75%</th>\n",
       "      <td>1.000000</td>\n",
       "      <td>89.850000</td>\n",
       "    </tr>\n",
       "    <tr>\n",
       "      <th>max</th>\n",
       "      <td>1.000000</td>\n",
       "      <td>118.750000</td>\n",
       "    </tr>\n",
       "  </tbody>\n",
       "</table>\n",
       "</div>"
      ],
      "text/plain": [
       "           churned  MonthlyCharges\n",
       "count  7043.000000     7043.000000\n",
       "mean      0.734630       64.761692\n",
       "std       0.441561       30.090047\n",
       "min       0.000000       18.250000\n",
       "25%       0.000000       35.500000\n",
       "50%       1.000000       70.350000\n",
       "75%       1.000000       89.850000\n",
       "max       1.000000      118.750000"
      ]
     },
     "execution_count": 30,
     "metadata": {},
     "output_type": "execute_result"
    }
   ],
   "source": [
    "contract_adj.describe()"
   ]
  },
  {
   "cell_type": "code",
   "execution_count": 31,
   "id": "eef3df27",
   "metadata": {},
   "outputs": [],
   "source": [
    "# contract_final = contract_adj.query('year_end != 1970')"
   ]
  },
  {
   "cell_type": "code",
   "execution_count": 32,
   "id": "c1b84ddc",
   "metadata": {
    "scrolled": true
   },
   "outputs": [],
   "source": [
    "# contract_final[contract_final['year_end'] == 1970]"
   ]
  },
  {
   "cell_type": "code",
   "execution_count": 33,
   "id": "b4b19517",
   "metadata": {},
   "outputs": [],
   "source": [
    "# data['Tenure'] = data['Tenure'].fillna(data.groupby('Balance')['Tenure'].transform('median'))\n",
    "# data['Tenure'].isna().sum() / len(data)"
   ]
  },
  {
   "cell_type": "code",
   "execution_count": 34,
   "id": "73822313",
   "metadata": {},
   "outputs": [
    {
     "data": {
      "text/plain": [
       "customerID          0\n",
       "churned             0\n",
       "BeginDate           0\n",
       "EndDate             0\n",
       "Type                0\n",
       "PaperlessBilling    0\n",
       "PaymentMethod       0\n",
       "MonthlyCharges      0\n",
       "TotalCharges        0\n",
       "begin_date          0\n",
       "end_date            0\n",
       "dtype: int64"
      ]
     },
     "execution_count": 34,
     "metadata": {},
     "output_type": "execute_result"
    }
   ],
   "source": [
    "contract_adj.isnull().sum()"
   ]
  },
  {
   "cell_type": "code",
   "execution_count": 35,
   "id": "9c38d687",
   "metadata": {},
   "outputs": [
    {
     "name": "stdout",
     "output_type": "stream",
     "text": [
      "<class 'pandas.core.frame.DataFrame'>\n",
      "Int64Index: 7043 entries, 0 to 7042\n",
      "Data columns (total 11 columns):\n",
      " #   Column            Non-Null Count  Dtype  \n",
      "---  ------            --------------  -----  \n",
      " 0   customerID        7043 non-null   object \n",
      " 1   churned           7043 non-null   float64\n",
      " 2   BeginDate         7043 non-null   object \n",
      " 3   EndDate           7043 non-null   object \n",
      " 4   Type              7043 non-null   object \n",
      " 5   PaperlessBilling  7043 non-null   object \n",
      " 6   PaymentMethod     7043 non-null   object \n",
      " 7   MonthlyCharges    7043 non-null   float64\n",
      " 8   TotalCharges      7043 non-null   object \n",
      " 9   begin_date        7043 non-null   object \n",
      " 10  end_date          7043 non-null   object \n",
      "dtypes: float64(2), object(9)\n",
      "memory usage: 660.3+ KB\n"
     ]
    }
   ],
   "source": [
    "contract_adj.info()"
   ]
  },
  {
   "cell_type": "code",
   "execution_count": 36,
   "id": "1db68d90",
   "metadata": {},
   "outputs": [],
   "source": [
    "# изменим тип данных, где приведены целочисленные значения\n",
    "contract_adj['churned'] = contract_adj['churned'].astype('int')"
   ]
  },
  {
   "cell_type": "code",
   "execution_count": 37,
   "id": "03f3f8cc",
   "metadata": {},
   "outputs": [],
   "source": [
    "contract_adj['TotalCharges'] = np.floor(pd.to_numeric(contract_adj['TotalCharges'], errors='coerce')).astype('float64')"
   ]
  },
  {
   "cell_type": "markdown",
   "id": "93e1e121",
   "metadata": {},
   "source": [
    "<div class=\"alert alert-danger\">\n",
    "<b>Комментарий ревьюера: &#10060; </b> Не совсем понятно зачем здесь округление, поясни, пожалуйста</div>"
   ]
  },
  {
   "cell_type": "markdown",
   "id": "c32efbc3",
   "metadata": {},
   "source": [
    "<div class=\"alert alert-info\"> <b>Юлия:</b>\n",
    "    \n",
    "Округления здесь нет.\n",
    "    \n",
    "- churned имеет тип переменной float, но так как это бинарная переменная, я перевожу в int();\n",
    "- TotalCharges имеет тип переменной object, но является числом с двумя знаками после запятой, поэтому перевожу в тип float64.\n",
    "</div>\n"
   ]
  },
  {
   "cell_type": "code",
   "execution_count": 38,
   "id": "8c98bad0",
   "metadata": {},
   "outputs": [],
   "source": [
    "contract_adj = contract_adj.drop(columns=['BeginDate'])\n",
    "contract_adj = contract_adj.drop(columns=['EndDate'])"
   ]
  },
  {
   "cell_type": "code",
   "execution_count": 39,
   "id": "cd297d4d",
   "metadata": {
    "scrolled": true
   },
   "outputs": [
    {
     "name": "stdout",
     "output_type": "stream",
     "text": [
      "<class 'pandas.core.frame.DataFrame'>\n",
      "Int64Index: 7043 entries, 0 to 7042\n",
      "Data columns (total 9 columns):\n",
      " #   Column            Non-Null Count  Dtype  \n",
      "---  ------            --------------  -----  \n",
      " 0   customerID        7043 non-null   object \n",
      " 1   churned           7043 non-null   int64  \n",
      " 2   Type              7043 non-null   object \n",
      " 3   PaperlessBilling  7043 non-null   object \n",
      " 4   PaymentMethod     7043 non-null   object \n",
      " 5   MonthlyCharges    7043 non-null   float64\n",
      " 6   TotalCharges      7032 non-null   float64\n",
      " 7   begin_date        7043 non-null   object \n",
      " 8   end_date          7043 non-null   object \n",
      "dtypes: float64(2), int64(1), object(6)\n",
      "memory usage: 550.2+ KB\n"
     ]
    }
   ],
   "source": [
    "contract_adj.info()"
   ]
  },
  {
   "cell_type": "code",
   "execution_count": 40,
   "id": "a9902011",
   "metadata": {},
   "outputs": [
    {
     "data": {
      "text/plain": [
       "Index(['TotalCharges'], dtype='object')"
      ]
     },
     "execution_count": 40,
     "metadata": {},
     "output_type": "execute_result"
    }
   ],
   "source": [
    "contract_adj.columns[contract_adj.isnull().any()]"
   ]
  },
  {
   "cell_type": "markdown",
   "id": "00de7f23",
   "metadata": {},
   "source": [
    "### *Вывод `contract`:* В данных создана отдельная колонка бинарного целевого признака со значениями 0, 1 в зависимости от того, являлся ли клиент действующим или нет. Решение было принято на основе наличия конечной даты контакта в исходных данных `EndDate`. Также были изменены типы переменных, вместо исходных колонок с датой начало и окончаения контракта в разных форматах, были созданы две новые колонки в едином формате даты. Финальная версия данных `contract` содержит 9 признаков (включая целевой) и 7043 наблюдения и готова к дальнейшему использованию. В колонке `TotalCharges` содержатся пропущенные значения. "
   ]
  },
  {
   "cell_type": "markdown",
   "id": "72ab45fe",
   "metadata": {},
   "source": [
    "<div class=\"alert alert-success\">\n",
    "<b>Комментарий ревьюера:\n",
    "&#9989;</b> Хорошо! </div>"
   ]
  },
  {
   "cell_type": "markdown",
   "id": "111ffce4",
   "metadata": {},
   "source": [
    "- ####  `internet`"
   ]
  },
  {
   "cell_type": "code",
   "execution_count": 41,
   "id": "e7b718d5",
   "metadata": {},
   "outputs": [],
   "source": [
    "# read the file handling exceptions\n",
    "try:\n",
    "    internet = pd.read_csv('/Users/yuliabezginova/PycharmProjects/00_files-for_NLP/final_provider/internet.csv') #, index_col=[0])\n",
    "except FileNotFoundError:\n",
    "    internet = pd.read_csv('/datasets/final_provider/internet.csv') #, index_col=[0])"
   ]
  },
  {
   "cell_type": "code",
   "execution_count": 42,
   "id": "fac1408a",
   "metadata": {},
   "outputs": [
    {
     "data": {
      "text/html": [
       "<div>\n",
       "<style scoped>\n",
       "    .dataframe tbody tr th:only-of-type {\n",
       "        vertical-align: middle;\n",
       "    }\n",
       "\n",
       "    .dataframe tbody tr th {\n",
       "        vertical-align: top;\n",
       "    }\n",
       "\n",
       "    .dataframe thead th {\n",
       "        text-align: right;\n",
       "    }\n",
       "</style>\n",
       "<table border=\"1\" class=\"dataframe\">\n",
       "  <thead>\n",
       "    <tr style=\"text-align: right;\">\n",
       "      <th></th>\n",
       "      <th>customerID</th>\n",
       "      <th>InternetService</th>\n",
       "      <th>OnlineSecurity</th>\n",
       "      <th>OnlineBackup</th>\n",
       "      <th>DeviceProtection</th>\n",
       "      <th>TechSupport</th>\n",
       "      <th>StreamingTV</th>\n",
       "      <th>StreamingMovies</th>\n",
       "    </tr>\n",
       "  </thead>\n",
       "  <tbody>\n",
       "    <tr>\n",
       "      <th>0</th>\n",
       "      <td>7590-VHVEG</td>\n",
       "      <td>DSL</td>\n",
       "      <td>No</td>\n",
       "      <td>Yes</td>\n",
       "      <td>No</td>\n",
       "      <td>No</td>\n",
       "      <td>No</td>\n",
       "      <td>No</td>\n",
       "    </tr>\n",
       "    <tr>\n",
       "      <th>1</th>\n",
       "      <td>5575-GNVDE</td>\n",
       "      <td>DSL</td>\n",
       "      <td>Yes</td>\n",
       "      <td>No</td>\n",
       "      <td>Yes</td>\n",
       "      <td>No</td>\n",
       "      <td>No</td>\n",
       "      <td>No</td>\n",
       "    </tr>\n",
       "    <tr>\n",
       "      <th>2</th>\n",
       "      <td>3668-QPYBK</td>\n",
       "      <td>DSL</td>\n",
       "      <td>Yes</td>\n",
       "      <td>Yes</td>\n",
       "      <td>No</td>\n",
       "      <td>No</td>\n",
       "      <td>No</td>\n",
       "      <td>No</td>\n",
       "    </tr>\n",
       "  </tbody>\n",
       "</table>\n",
       "</div>"
      ],
      "text/plain": [
       "   customerID InternetService OnlineSecurity OnlineBackup DeviceProtection  \\\n",
       "0  7590-VHVEG             DSL             No          Yes               No   \n",
       "1  5575-GNVDE             DSL            Yes           No              Yes   \n",
       "2  3668-QPYBK             DSL            Yes          Yes               No   \n",
       "\n",
       "  TechSupport StreamingTV StreamingMovies  \n",
       "0          No          No              No  \n",
       "1          No          No              No  \n",
       "2          No          No              No  "
      ]
     },
     "execution_count": 42,
     "metadata": {},
     "output_type": "execute_result"
    }
   ],
   "source": [
    "internet.head(3)"
   ]
  },
  {
   "cell_type": "code",
   "execution_count": 43,
   "id": "71e5bf3e",
   "metadata": {},
   "outputs": [
    {
     "data": {
      "text/plain": [
       "customerID          0\n",
       "InternetService     0\n",
       "OnlineSecurity      0\n",
       "OnlineBackup        0\n",
       "DeviceProtection    0\n",
       "TechSupport         0\n",
       "StreamingTV         0\n",
       "StreamingMovies     0\n",
       "dtype: int64"
      ]
     },
     "execution_count": 43,
     "metadata": {},
     "output_type": "execute_result"
    }
   ],
   "source": [
    "# проверка на пропущенные значения и дубликаты\n",
    "internet.isnull().sum()"
   ]
  },
  {
   "cell_type": "code",
   "execution_count": 44,
   "id": "8b63f728",
   "metadata": {},
   "outputs": [
    {
     "data": {
      "text/plain": [
       "Index([], dtype='object')"
      ]
     },
     "execution_count": 44,
     "metadata": {},
     "output_type": "execute_result"
    }
   ],
   "source": [
    "internet.columns[internet.isnull().any()]"
   ]
  },
  {
   "cell_type": "code",
   "execution_count": 45,
   "id": "313c4c19",
   "metadata": {},
   "outputs": [
    {
     "data": {
      "text/plain": [
       "array(['DSL', 'Fiber optic'], dtype=object)"
      ]
     },
     "execution_count": 45,
     "metadata": {},
     "output_type": "execute_result"
    }
   ],
   "source": [
    "# проверка на аномалии в категориях\n",
    "internet['InternetService'].unique()"
   ]
  },
  {
   "cell_type": "code",
   "execution_count": 46,
   "id": "ce192633",
   "metadata": {},
   "outputs": [
    {
     "data": {
      "text/plain": [
       "array(['No', 'Yes'], dtype=object)"
      ]
     },
     "execution_count": 46,
     "metadata": {},
     "output_type": "execute_result"
    }
   ],
   "source": [
    "internet['OnlineSecurity'].unique()"
   ]
  },
  {
   "cell_type": "code",
   "execution_count": 47,
   "id": "c6d4de1c",
   "metadata": {},
   "outputs": [
    {
     "data": {
      "text/plain": [
       "array(['Yes', 'No'], dtype=object)"
      ]
     },
     "execution_count": 47,
     "metadata": {},
     "output_type": "execute_result"
    }
   ],
   "source": [
    "internet['OnlineBackup'].unique()"
   ]
  },
  {
   "cell_type": "code",
   "execution_count": 48,
   "id": "2c11c44e",
   "metadata": {},
   "outputs": [
    {
     "data": {
      "text/plain": [
       "array(['No', 'Yes'], dtype=object)"
      ]
     },
     "execution_count": 48,
     "metadata": {},
     "output_type": "execute_result"
    }
   ],
   "source": [
    "internet['DeviceProtection'].unique()"
   ]
  },
  {
   "cell_type": "code",
   "execution_count": 49,
   "id": "b90b374c",
   "metadata": {},
   "outputs": [
    {
     "data": {
      "text/plain": [
       "array(['No', 'Yes'], dtype=object)"
      ]
     },
     "execution_count": 49,
     "metadata": {},
     "output_type": "execute_result"
    }
   ],
   "source": [
    "internet['TechSupport'].unique()"
   ]
  },
  {
   "cell_type": "code",
   "execution_count": 50,
   "id": "32a147fa",
   "metadata": {},
   "outputs": [
    {
     "data": {
      "text/plain": [
       "array(['No', 'Yes'], dtype=object)"
      ]
     },
     "execution_count": 50,
     "metadata": {},
     "output_type": "execute_result"
    }
   ],
   "source": [
    "internet['StreamingTV'].unique()"
   ]
  },
  {
   "cell_type": "code",
   "execution_count": 51,
   "id": "867586cf",
   "metadata": {},
   "outputs": [
    {
     "data": {
      "text/plain": [
       "array(['No', 'Yes'], dtype=object)"
      ]
     },
     "execution_count": 51,
     "metadata": {},
     "output_type": "execute_result"
    }
   ],
   "source": [
    "internet['StreamingMovies'].unique()"
   ]
  },
  {
   "cell_type": "markdown",
   "id": "33f233db",
   "metadata": {},
   "source": [
    "### *Вывод:* Данные `internet` содержат категориальные переменные, не содержат пропусков. Аномальных значений в категориях не обнаружено. Данные готовы к дальнейшему анализу."
   ]
  },
  {
   "cell_type": "markdown",
   "id": "3b829c8d",
   "metadata": {},
   "source": [
    "<div class=\"alert alert-success\">\n",
    "<b>Комментарий ревьюера:\n",
    "&#9989;</b> Хорошо! </div>"
   ]
  },
  {
   "cell_type": "markdown",
   "id": "0dd28642",
   "metadata": {},
   "source": [
    "- ####  `personal`"
   ]
  },
  {
   "cell_type": "code",
   "execution_count": 52,
   "id": "e1b22ed3",
   "metadata": {},
   "outputs": [],
   "source": [
    "# read the file handling exceptions\n",
    "try:\n",
    "    personal = pd.read_csv('/Users/yuliabezginova/PycharmProjects/00_files-for_NLP/final_provider/personal.csv') #, index_col=[0])\n",
    "except FileNotFoundError:\n",
    "    personal = pd.read_csv('/datasets/final_provider/personal.csv') #, index_col=[0])"
   ]
  },
  {
   "cell_type": "code",
   "execution_count": 53,
   "id": "db500090",
   "metadata": {
    "scrolled": true
   },
   "outputs": [
    {
     "data": {
      "text/html": [
       "<div>\n",
       "<style scoped>\n",
       "    .dataframe tbody tr th:only-of-type {\n",
       "        vertical-align: middle;\n",
       "    }\n",
       "\n",
       "    .dataframe tbody tr th {\n",
       "        vertical-align: top;\n",
       "    }\n",
       "\n",
       "    .dataframe thead th {\n",
       "        text-align: right;\n",
       "    }\n",
       "</style>\n",
       "<table border=\"1\" class=\"dataframe\">\n",
       "  <thead>\n",
       "    <tr style=\"text-align: right;\">\n",
       "      <th></th>\n",
       "      <th>customerID</th>\n",
       "      <th>gender</th>\n",
       "      <th>SeniorCitizen</th>\n",
       "      <th>Partner</th>\n",
       "      <th>Dependents</th>\n",
       "    </tr>\n",
       "  </thead>\n",
       "  <tbody>\n",
       "    <tr>\n",
       "      <th>0</th>\n",
       "      <td>7590-VHVEG</td>\n",
       "      <td>Female</td>\n",
       "      <td>0</td>\n",
       "      <td>Yes</td>\n",
       "      <td>No</td>\n",
       "    </tr>\n",
       "    <tr>\n",
       "      <th>1</th>\n",
       "      <td>5575-GNVDE</td>\n",
       "      <td>Male</td>\n",
       "      <td>0</td>\n",
       "      <td>No</td>\n",
       "      <td>No</td>\n",
       "    </tr>\n",
       "    <tr>\n",
       "      <th>2</th>\n",
       "      <td>3668-QPYBK</td>\n",
       "      <td>Male</td>\n",
       "      <td>0</td>\n",
       "      <td>No</td>\n",
       "      <td>No</td>\n",
       "    </tr>\n",
       "  </tbody>\n",
       "</table>\n",
       "</div>"
      ],
      "text/plain": [
       "   customerID  gender  SeniorCitizen Partner Dependents\n",
       "0  7590-VHVEG  Female              0     Yes         No\n",
       "1  5575-GNVDE    Male              0      No         No\n",
       "2  3668-QPYBK    Male              0      No         No"
      ]
     },
     "execution_count": 53,
     "metadata": {},
     "output_type": "execute_result"
    }
   ],
   "source": [
    "personal.head(3)"
   ]
  },
  {
   "cell_type": "code",
   "execution_count": 54,
   "id": "3ed330bf",
   "metadata": {},
   "outputs": [
    {
     "data": {
      "text/plain": [
       "customerID       0\n",
       "gender           0\n",
       "SeniorCitizen    0\n",
       "Partner          0\n",
       "Dependents       0\n",
       "dtype: int64"
      ]
     },
     "execution_count": 54,
     "metadata": {},
     "output_type": "execute_result"
    }
   ],
   "source": [
    "# проверка на пропущенные значения и дубликаты\n",
    "personal.isnull().sum()"
   ]
  },
  {
   "cell_type": "code",
   "execution_count": 55,
   "id": "bb229084",
   "metadata": {},
   "outputs": [
    {
     "data": {
      "text/plain": [
       "array(['Female', 'Male'], dtype=object)"
      ]
     },
     "execution_count": 55,
     "metadata": {},
     "output_type": "execute_result"
    }
   ],
   "source": [
    "personal['gender'].unique()"
   ]
  },
  {
   "cell_type": "code",
   "execution_count": 56,
   "id": "53ae4fb4",
   "metadata": {},
   "outputs": [
    {
     "data": {
      "text/plain": [
       "array([0, 1])"
      ]
     },
     "execution_count": 56,
     "metadata": {},
     "output_type": "execute_result"
    }
   ],
   "source": [
    "personal['SeniorCitizen'].unique()"
   ]
  },
  {
   "cell_type": "code",
   "execution_count": 57,
   "id": "b819a7b1",
   "metadata": {},
   "outputs": [
    {
     "data": {
      "text/plain": [
       "array(['Yes', 'No'], dtype=object)"
      ]
     },
     "execution_count": 57,
     "metadata": {},
     "output_type": "execute_result"
    }
   ],
   "source": [
    "personal['Partner'].unique()"
   ]
  },
  {
   "cell_type": "code",
   "execution_count": 58,
   "id": "561140ec",
   "metadata": {},
   "outputs": [
    {
     "data": {
      "text/plain": [
       "array(['No', 'Yes'], dtype=object)"
      ]
     },
     "execution_count": 58,
     "metadata": {},
     "output_type": "execute_result"
    }
   ],
   "source": [
    "personal['Dependents'].unique()"
   ]
  },
  {
   "cell_type": "markdown",
   "id": "fe43b278",
   "metadata": {},
   "source": [
    "### *Вывод:* Данные `personal` содержат категориальные переменные, не содержат пропусков. Аномальных значений в категориях не обнаружено. Данные готовы к дальнейшему анализу."
   ]
  },
  {
   "cell_type": "markdown",
   "id": "61973d3d",
   "metadata": {},
   "source": [
    "<div class=\"alert alert-success\">\n",
    "<b>Комментарий ревьюера:\n",
    "&#9989;</b> Хорошо! </div>"
   ]
  },
  {
   "cell_type": "markdown",
   "id": "ad71e163",
   "metadata": {},
   "source": [
    "- ####  `phone`"
   ]
  },
  {
   "cell_type": "code",
   "execution_count": 59,
   "id": "5b1bfee3",
   "metadata": {},
   "outputs": [],
   "source": [
    "# read the file handling exceptions\n",
    "try:\n",
    "    phone = pd.read_csv('/Users/yuliabezginova/PycharmProjects/00_files-for_NLP/final_provider/phone.csv') #, index_col=[0])\n",
    "except FileNotFoundError:\n",
    "    phone = pd.read_csv('/datasets/final_provider/phone.csv') #, index_col=[0])"
   ]
  },
  {
   "cell_type": "code",
   "execution_count": 60,
   "id": "5041c959",
   "metadata": {
    "scrolled": true
   },
   "outputs": [
    {
     "data": {
      "text/html": [
       "<div>\n",
       "<style scoped>\n",
       "    .dataframe tbody tr th:only-of-type {\n",
       "        vertical-align: middle;\n",
       "    }\n",
       "\n",
       "    .dataframe tbody tr th {\n",
       "        vertical-align: top;\n",
       "    }\n",
       "\n",
       "    .dataframe thead th {\n",
       "        text-align: right;\n",
       "    }\n",
       "</style>\n",
       "<table border=\"1\" class=\"dataframe\">\n",
       "  <thead>\n",
       "    <tr style=\"text-align: right;\">\n",
       "      <th></th>\n",
       "      <th>customerID</th>\n",
       "      <th>MultipleLines</th>\n",
       "    </tr>\n",
       "  </thead>\n",
       "  <tbody>\n",
       "    <tr>\n",
       "      <th>0</th>\n",
       "      <td>5575-GNVDE</td>\n",
       "      <td>No</td>\n",
       "    </tr>\n",
       "    <tr>\n",
       "      <th>1</th>\n",
       "      <td>3668-QPYBK</td>\n",
       "      <td>No</td>\n",
       "    </tr>\n",
       "    <tr>\n",
       "      <th>2</th>\n",
       "      <td>9237-HQITU</td>\n",
       "      <td>No</td>\n",
       "    </tr>\n",
       "  </tbody>\n",
       "</table>\n",
       "</div>"
      ],
      "text/plain": [
       "   customerID MultipleLines\n",
       "0  5575-GNVDE            No\n",
       "1  3668-QPYBK            No\n",
       "2  9237-HQITU            No"
      ]
     },
     "execution_count": 60,
     "metadata": {},
     "output_type": "execute_result"
    }
   ],
   "source": [
    "phone.head(3)"
   ]
  },
  {
   "cell_type": "code",
   "execution_count": 61,
   "id": "00e8157e",
   "metadata": {},
   "outputs": [
    {
     "data": {
      "text/plain": [
       "customerID       0\n",
       "MultipleLines    0\n",
       "dtype: int64"
      ]
     },
     "execution_count": 61,
     "metadata": {},
     "output_type": "execute_result"
    }
   ],
   "source": [
    "# проверка на пропущенные значения и дубликаты\n",
    "phone.isnull().sum()"
   ]
  },
  {
   "cell_type": "markdown",
   "id": "51b3f381",
   "metadata": {},
   "source": [
    "### *Вывод:* Данные `phone` содержат категориальные переменные, не содержат пропусков. Аномальных значений в категориях не обнаружено. Данные готовы к дальнейшему анализу."
   ]
  },
  {
   "cell_type": "markdown",
   "id": "9f2cba9d",
   "metadata": {},
   "source": [
    "<div class=\"alert alert-success\">\n",
    "<b>Комментарий ревьюера:\n",
    "&#9989;</b> Хорошо! </div>"
   ]
  },
  {
   "cell_type": "markdown",
   "id": "49e26229",
   "metadata": {},
   "source": [
    "### *Общий вывод:* Все четыре датасета подготовлены к дальнейшему анализу."
   ]
  },
  {
   "attachments": {
    "image.png": {
     "image/png": "[encoded data removed]"
    }
   },
   "cell_type": "markdown",
   "id": "2cc3f47d",
   "metadata": {},
   "source": [
    "## 2 Исследовательский анализ данных\n",
    "![image.png](attachment:image.png)"
   ]
  },
  {
   "cell_type": "markdown",
   "id": "526ef614",
   "metadata": {},
   "source": [
    "### 2.1 Подготовка финального датасета"
   ]
  },
  {
   "cell_type": "code",
   "execution_count": 62,
   "id": "31fad53a",
   "metadata": {},
   "outputs": [],
   "source": [
    "df_1 = contract_adj.merge(personal, on='customerID', how='left')\n",
    "df_2 = df_1.merge(phone, on='customerID', how='left')\n",
    "df = df_2.merge(internet, on='customerID', how='left')"
   ]
  },
  {
   "cell_type": "markdown",
   "id": "d17f43e4",
   "metadata": {},
   "source": [
    "<div class=\"alert alert-danger\">\n",
    "<b>Комментарий ревьюера: &#10060; </b> Также вылетает ошибка, переменная не объявлена</div>"
   ]
  },
  {
   "cell_type": "markdown",
   "id": "6f368f6b",
   "metadata": {},
   "source": [
    "<div class=\"alert alert-info\"> <b>Юлия:</b>\n",
    "Поправила.\n",
    "</div>\n"
   ]
  },
  {
   "cell_type": "code",
   "execution_count": 63,
   "id": "2dcefe3c",
   "metadata": {},
   "outputs": [
    {
     "data": {
      "text/plain": [
       "(7043, 21)"
      ]
     },
     "execution_count": 63,
     "metadata": {},
     "output_type": "execute_result"
    }
   ],
   "source": [
    "df.shape"
   ]
  },
  {
   "cell_type": "code",
   "execution_count": 64,
   "id": "ffc0a169",
   "metadata": {
    "scrolled": true
   },
   "outputs": [
    {
     "data": {
      "text/html": [
       "<div>\n",
       "<style scoped>\n",
       "    .dataframe tbody tr th:only-of-type {\n",
       "        vertical-align: middle;\n",
       "    }\n",
       "\n",
       "    .dataframe tbody tr th {\n",
       "        vertical-align: top;\n",
       "    }\n",
       "\n",
       "    .dataframe thead th {\n",
       "        text-align: right;\n",
       "    }\n",
       "</style>\n",
       "<table border=\"1\" class=\"dataframe\">\n",
       "  <thead>\n",
       "    <tr style=\"text-align: right;\">\n",
       "      <th></th>\n",
       "      <th>customerID</th>\n",
       "      <th>churned</th>\n",
       "      <th>Type</th>\n",
       "      <th>PaperlessBilling</th>\n",
       "      <th>PaymentMethod</th>\n",
       "      <th>MonthlyCharges</th>\n",
       "      <th>TotalCharges</th>\n",
       "      <th>begin_date</th>\n",
       "      <th>end_date</th>\n",
       "      <th>gender</th>\n",
       "      <th>...</th>\n",
       "      <th>Partner</th>\n",
       "      <th>Dependents</th>\n",
       "      <th>MultipleLines</th>\n",
       "      <th>InternetService</th>\n",
       "      <th>OnlineSecurity</th>\n",
       "      <th>OnlineBackup</th>\n",
       "      <th>DeviceProtection</th>\n",
       "      <th>TechSupport</th>\n",
       "      <th>StreamingTV</th>\n",
       "      <th>StreamingMovies</th>\n",
       "    </tr>\n",
       "  </thead>\n",
       "  <tbody>\n",
       "    <tr>\n",
       "      <th>0</th>\n",
       "      <td>7590-VHVEG</td>\n",
       "      <td>1</td>\n",
       "      <td>Month-to-month</td>\n",
       "      <td>Yes</td>\n",
       "      <td>Electronic check</td>\n",
       "      <td>29.85</td>\n",
       "      <td>29.0</td>\n",
       "      <td>2020-01-01</td>\n",
       "      <td>2020-02-01</td>\n",
       "      <td>Female</td>\n",
       "      <td>...</td>\n",
       "      <td>Yes</td>\n",
       "      <td>No</td>\n",
       "      <td>NaN</td>\n",
       "      <td>DSL</td>\n",
       "      <td>No</td>\n",
       "      <td>Yes</td>\n",
       "      <td>No</td>\n",
       "      <td>No</td>\n",
       "      <td>No</td>\n",
       "      <td>No</td>\n",
       "    </tr>\n",
       "    <tr>\n",
       "      <th>1</th>\n",
       "      <td>5575-GNVDE</td>\n",
       "      <td>1</td>\n",
       "      <td>One year</td>\n",
       "      <td>No</td>\n",
       "      <td>Mailed check</td>\n",
       "      <td>56.95</td>\n",
       "      <td>1889.0</td>\n",
       "      <td>2017-04-01</td>\n",
       "      <td>2020-02-01</td>\n",
       "      <td>Male</td>\n",
       "      <td>...</td>\n",
       "      <td>No</td>\n",
       "      <td>No</td>\n",
       "      <td>No</td>\n",
       "      <td>DSL</td>\n",
       "      <td>Yes</td>\n",
       "      <td>No</td>\n",
       "      <td>Yes</td>\n",
       "      <td>No</td>\n",
       "      <td>No</td>\n",
       "      <td>No</td>\n",
       "    </tr>\n",
       "    <tr>\n",
       "      <th>2</th>\n",
       "      <td>3668-QPYBK</td>\n",
       "      <td>0</td>\n",
       "      <td>Month-to-month</td>\n",
       "      <td>Yes</td>\n",
       "      <td>Mailed check</td>\n",
       "      <td>53.85</td>\n",
       "      <td>108.0</td>\n",
       "      <td>2019-10-01</td>\n",
       "      <td>2019-12-01</td>\n",
       "      <td>Male</td>\n",
       "      <td>...</td>\n",
       "      <td>No</td>\n",
       "      <td>No</td>\n",
       "      <td>No</td>\n",
       "      <td>DSL</td>\n",
       "      <td>Yes</td>\n",
       "      <td>Yes</td>\n",
       "      <td>No</td>\n",
       "      <td>No</td>\n",
       "      <td>No</td>\n",
       "      <td>No</td>\n",
       "    </tr>\n",
       "  </tbody>\n",
       "</table>\n",
       "<p>3 rows × 21 columns</p>\n",
       "</div>"
      ],
      "text/plain": [
       "   customerID  churned            Type PaperlessBilling     PaymentMethod  \\\n",
       "0  7590-VHVEG        1  Month-to-month              Yes  Electronic check   \n",
       "1  5575-GNVDE        1        One year               No      Mailed check   \n",
       "2  3668-QPYBK        0  Month-to-month              Yes      Mailed check   \n",
       "\n",
       "   MonthlyCharges  TotalCharges  begin_date    end_date  gender  ...  Partner  \\\n",
       "0           29.85          29.0  2020-01-01  2020-02-01  Female  ...      Yes   \n",
       "1           56.95        1889.0  2017-04-01  2020-02-01    Male  ...       No   \n",
       "2           53.85         108.0  2019-10-01  2019-12-01    Male  ...       No   \n",
       "\n",
       "  Dependents MultipleLines InternetService OnlineSecurity OnlineBackup  \\\n",
       "0         No           NaN             DSL             No          Yes   \n",
       "1         No            No             DSL            Yes           No   \n",
       "2         No            No             DSL            Yes          Yes   \n",
       "\n",
       "  DeviceProtection TechSupport StreamingTV StreamingMovies  \n",
       "0               No          No          No              No  \n",
       "1              Yes          No          No              No  \n",
       "2               No          No          No              No  \n",
       "\n",
       "[3 rows x 21 columns]"
      ]
     },
     "execution_count": 64,
     "metadata": {},
     "output_type": "execute_result"
    }
   ],
   "source": [
    "df.head(3)"
   ]
  },
  {
   "cell_type": "code",
   "execution_count": 65,
   "id": "005422e6",
   "metadata": {
    "scrolled": true
   },
   "outputs": [
    {
     "name": "stdout",
     "output_type": "stream",
     "text": [
      "<class 'pandas.core.frame.DataFrame'>\n",
      "Int64Index: 7043 entries, 0 to 7042\n",
      "Data columns (total 21 columns):\n",
      " #   Column            Non-Null Count  Dtype  \n",
      "---  ------            --------------  -----  \n",
      " 0   customerID        7043 non-null   object \n",
      " 1   churned           7043 non-null   int64  \n",
      " 2   Type              7043 non-null   object \n",
      " 3   PaperlessBilling  7043 non-null   object \n",
      " 4   PaymentMethod     7043 non-null   object \n",
      " 5   MonthlyCharges    7043 non-null   float64\n",
      " 6   TotalCharges      7032 non-null   float64\n",
      " 7   begin_date        7043 non-null   object \n",
      " 8   end_date          7043 non-null   object \n",
      " 9   gender            7043 non-null   object \n",
      " 10  SeniorCitizen     7043 non-null   int64  \n",
      " 11  Partner           7043 non-null   object \n",
      " 12  Dependents        7043 non-null   object \n",
      " 13  MultipleLines     6361 non-null   object \n",
      " 14  InternetService   5517 non-null   object \n",
      " 15  OnlineSecurity    5517 non-null   object \n",
      " 16  OnlineBackup      5517 non-null   object \n",
      " 17  DeviceProtection  5517 non-null   object \n",
      " 18  TechSupport       5517 non-null   object \n",
      " 19  StreamingTV       5517 non-null   object \n",
      " 20  StreamingMovies   5517 non-null   object \n",
      "dtypes: float64(2), int64(2), object(17)\n",
      "memory usage: 1.2+ MB\n"
     ]
    }
   ],
   "source": [
    "df.info()"
   ]
  },
  {
   "cell_type": "markdown",
   "id": "a67b7ea6",
   "metadata": {},
   "source": [
    "### 2.2 Обработка пропусков"
   ]
  },
  {
   "cell_type": "code",
   "execution_count": 66,
   "id": "ed7d7ecf",
   "metadata": {
    "scrolled": true
   },
   "outputs": [],
   "source": [
    "# df = df.fillna(df.interpolate())\n",
    "# df.isnull().sum()"
   ]
  },
  {
   "cell_type": "code",
   "execution_count": 70,
   "id": "75411bcf",
   "metadata": {},
   "outputs": [
    {
     "data": {
      "text/html": [
       "<style type=\"text/css\">\n",
       "#T_ba5ee_row0_col0, #T_ba5ee_row1_col0, #T_ba5ee_row2_col0, #T_ba5ee_row3_col0, #T_ba5ee_row4_col0, #T_ba5ee_row5_col0, #T_ba5ee_row6_col0, #T_ba5ee_row7_col0, #T_ba5ee_row8_col0, #T_ba5ee_row9_col0, #T_ba5ee_row10_col0, #T_ba5ee_row11_col0, #T_ba5ee_row12_col0 {\n",
       "  background-color: #3b4cc0;\n",
       "  color: #f1f1f1;\n",
       "}\n",
       "#T_ba5ee_row13_col0 {\n",
       "  background-color: #d1dae9;\n",
       "  color: #000000;\n",
       "}\n",
       "#T_ba5ee_row14_col0, #T_ba5ee_row15_col0, #T_ba5ee_row16_col0, #T_ba5ee_row17_col0, #T_ba5ee_row18_col0, #T_ba5ee_row19_col0, #T_ba5ee_row20_col0 {\n",
       "  background-color: #b40426;\n",
       "  color: #f1f1f1;\n",
       "}\n",
       "</style>\n",
       "<table id=\"T_ba5ee\">\n",
       "  <thead>\n",
       "    <tr>\n",
       "      <th class=\"blank level0\" >&nbsp;</th>\n",
       "      <th id=\"T_ba5ee_level0_col0\" class=\"col_heading level0 col0\" >0</th>\n",
       "    </tr>\n",
       "  </thead>\n",
       "  <tbody>\n",
       "    <tr>\n",
       "      <th id=\"T_ba5ee_level0_row0\" class=\"row_heading level0 row0\" >customerID</th>\n",
       "      <td id=\"T_ba5ee_row0_col0\" class=\"data row0 col0\" >0.000000</td>\n",
       "    </tr>\n",
       "    <tr>\n",
       "      <th id=\"T_ba5ee_level0_row1\" class=\"row_heading level0 row1\" >churned</th>\n",
       "      <td id=\"T_ba5ee_row1_col0\" class=\"data row1 col0\" >0.000000</td>\n",
       "    </tr>\n",
       "    <tr>\n",
       "      <th id=\"T_ba5ee_level0_row2\" class=\"row_heading level0 row2\" >Type</th>\n",
       "      <td id=\"T_ba5ee_row2_col0\" class=\"data row2 col0\" >0.000000</td>\n",
       "    </tr>\n",
       "    <tr>\n",
       "      <th id=\"T_ba5ee_level0_row3\" class=\"row_heading level0 row3\" >PaperlessBilling</th>\n",
       "      <td id=\"T_ba5ee_row3_col0\" class=\"data row3 col0\" >0.000000</td>\n",
       "    </tr>\n",
       "    <tr>\n",
       "      <th id=\"T_ba5ee_level0_row4\" class=\"row_heading level0 row4\" >PaymentMethod</th>\n",
       "      <td id=\"T_ba5ee_row4_col0\" class=\"data row4 col0\" >0.000000</td>\n",
       "    </tr>\n",
       "    <tr>\n",
       "      <th id=\"T_ba5ee_level0_row5\" class=\"row_heading level0 row5\" >MonthlyCharges</th>\n",
       "      <td id=\"T_ba5ee_row5_col0\" class=\"data row5 col0\" >0.000000</td>\n",
       "    </tr>\n",
       "    <tr>\n",
       "      <th id=\"T_ba5ee_level0_row6\" class=\"row_heading level0 row6\" >TotalCharges</th>\n",
       "      <td id=\"T_ba5ee_row6_col0\" class=\"data row6 col0\" >0.000000</td>\n",
       "    </tr>\n",
       "    <tr>\n",
       "      <th id=\"T_ba5ee_level0_row7\" class=\"row_heading level0 row7\" >begin_date</th>\n",
       "      <td id=\"T_ba5ee_row7_col0\" class=\"data row7 col0\" >0.000000</td>\n",
       "    </tr>\n",
       "    <tr>\n",
       "      <th id=\"T_ba5ee_level0_row8\" class=\"row_heading level0 row8\" >end_date</th>\n",
       "      <td id=\"T_ba5ee_row8_col0\" class=\"data row8 col0\" >0.000000</td>\n",
       "    </tr>\n",
       "    <tr>\n",
       "      <th id=\"T_ba5ee_level0_row9\" class=\"row_heading level0 row9\" >gender</th>\n",
       "      <td id=\"T_ba5ee_row9_col0\" class=\"data row9 col0\" >0.000000</td>\n",
       "    </tr>\n",
       "    <tr>\n",
       "      <th id=\"T_ba5ee_level0_row10\" class=\"row_heading level0 row10\" >SeniorCitizen</th>\n",
       "      <td id=\"T_ba5ee_row10_col0\" class=\"data row10 col0\" >0.000000</td>\n",
       "    </tr>\n",
       "    <tr>\n",
       "      <th id=\"T_ba5ee_level0_row11\" class=\"row_heading level0 row11\" >Partner</th>\n",
       "      <td id=\"T_ba5ee_row11_col0\" class=\"data row11 col0\" >0.000000</td>\n",
       "    </tr>\n",
       "    <tr>\n",
       "      <th id=\"T_ba5ee_level0_row12\" class=\"row_heading level0 row12\" >Dependents</th>\n",
       "      <td id=\"T_ba5ee_row12_col0\" class=\"data row12 col0\" >0.000000</td>\n",
       "    </tr>\n",
       "    <tr>\n",
       "      <th id=\"T_ba5ee_level0_row13\" class=\"row_heading level0 row13\" >MultipleLines</th>\n",
       "      <td id=\"T_ba5ee_row13_col0\" class=\"data row13 col0\" >10.000000</td>\n",
       "    </tr>\n",
       "    <tr>\n",
       "      <th id=\"T_ba5ee_level0_row14\" class=\"row_heading level0 row14\" >InternetService</th>\n",
       "      <td id=\"T_ba5ee_row14_col0\" class=\"data row14 col0\" >22.000000</td>\n",
       "    </tr>\n",
       "    <tr>\n",
       "      <th id=\"T_ba5ee_level0_row15\" class=\"row_heading level0 row15\" >OnlineSecurity</th>\n",
       "      <td id=\"T_ba5ee_row15_col0\" class=\"data row15 col0\" >22.000000</td>\n",
       "    </tr>\n",
       "    <tr>\n",
       "      <th id=\"T_ba5ee_level0_row16\" class=\"row_heading level0 row16\" >OnlineBackup</th>\n",
       "      <td id=\"T_ba5ee_row16_col0\" class=\"data row16 col0\" >22.000000</td>\n",
       "    </tr>\n",
       "    <tr>\n",
       "      <th id=\"T_ba5ee_level0_row17\" class=\"row_heading level0 row17\" >DeviceProtection</th>\n",
       "      <td id=\"T_ba5ee_row17_col0\" class=\"data row17 col0\" >22.000000</td>\n",
       "    </tr>\n",
       "    <tr>\n",
       "      <th id=\"T_ba5ee_level0_row18\" class=\"row_heading level0 row18\" >TechSupport</th>\n",
       "      <td id=\"T_ba5ee_row18_col0\" class=\"data row18 col0\" >22.000000</td>\n",
       "    </tr>\n",
       "    <tr>\n",
       "      <th id=\"T_ba5ee_level0_row19\" class=\"row_heading level0 row19\" >StreamingTV</th>\n",
       "      <td id=\"T_ba5ee_row19_col0\" class=\"data row19 col0\" >22.000000</td>\n",
       "    </tr>\n",
       "    <tr>\n",
       "      <th id=\"T_ba5ee_level0_row20\" class=\"row_heading level0 row20\" >StreamingMovies</th>\n",
       "      <td id=\"T_ba5ee_row20_col0\" class=\"data row20 col0\" >22.000000</td>\n",
       "    </tr>\n",
       "  </tbody>\n",
       "</table>\n"
      ],
      "text/plain": [
       "<pandas.io.formats.style.Styler at 0x12617b010>"
      ]
     },
     "execution_count": 70,
     "metadata": {},
     "output_type": "execute_result"
    }
   ],
   "source": [
    "pd.DataFrame(round(df.isna().mean()*100,)).style.background_gradient('coolwarm')"
   ]
  },
  {
   "cell_type": "code",
   "execution_count": 71,
   "id": "aff78c6a",
   "metadata": {
    "scrolled": true
   },
   "outputs": [
    {
     "data": {
      "text/plain": [
       "Index(['TotalCharges', 'MultipleLines', 'InternetService', 'OnlineSecurity',\n",
       "       'OnlineBackup', 'DeviceProtection', 'TechSupport', 'StreamingTV',\n",
       "       'StreamingMovies'],\n",
       "      dtype='object')"
      ]
     },
     "execution_count": 71,
     "metadata": {},
     "output_type": "execute_result"
    }
   ],
   "source": [
    "df.columns[df.isnull().any()]"
   ]
  },
  {
   "cell_type": "markdown",
   "id": "36217a86",
   "metadata": {},
   "source": [
    "### *Вывод:* В колонке ```MultipleLines``` пропуски в данных занимают менее 10% объема наблюдений, их можно безопасно удалить, но лучше поставить заглушку ввиду небольшого объема данных. Пропуски в колонках ```InternetService```, ```OnlineSecurity```, ```OnlineBackup```, ```DeviceProtection```, ```TechSupport```, ```StreamingTV```, ```StreamingMovies``` необходимо заполнить."
   ]
  },
  {
   "cell_type": "markdown",
   "id": "5bb63306",
   "metadata": {},
   "source": [
    "<div class=\"alert alert-danger\">\n",
    "<b>Комментарий ревьюера: &#10060; </b> Здесь и далее: не стоит удалять данные, у нас их не так много. Пропуски в даных обозначают отсутствие услуги, у тебя есть значения 'No', лучше заполнить пропуски этой заглушкой</div>"
   ]
  },
  {
   "cell_type": "markdown",
   "id": "fe887faa",
   "metadata": {},
   "source": [
    "<div class=\"alert alert-info\"> <b>Юлия:</b>\n",
    "Поправила.\n",
    "</div>"
   ]
  },
  {
   "cell_type": "code",
   "execution_count": 97,
   "id": "0bcb95f3",
   "metadata": {},
   "outputs": [],
   "source": [
    "df_v1 = df.copy()"
   ]
  },
  {
   "cell_type": "code",
   "execution_count": 76,
   "id": "656c7331",
   "metadata": {},
   "outputs": [
    {
     "data": {
      "text/plain": [
       "array([nan, 'No', 'Yes'], dtype=object)"
      ]
     },
     "execution_count": 76,
     "metadata": {},
     "output_type": "execute_result"
    }
   ],
   "source": [
    "df_v1['MultipleLines'].unique()"
   ]
  },
  {
   "cell_type": "code",
   "execution_count": 77,
   "id": "bd0a5e28",
   "metadata": {},
   "outputs": [
    {
     "data": {
      "text/plain": [
       "0.09683373562402385"
      ]
     },
     "execution_count": 77,
     "metadata": {},
     "output_type": "execute_result"
    }
   ],
   "source": [
    "df_v1['MultipleLines'].isna().sum() / len(df_v1)"
   ]
  },
  {
   "cell_type": "code",
   "execution_count": 78,
   "id": "90ffb8a1",
   "metadata": {
    "scrolled": true
   },
   "outputs": [
    {
     "data": {
      "text/plain": [
       "array(['DSL', 'Fiber optic', nan], dtype=object)"
      ]
     },
     "execution_count": 78,
     "metadata": {},
     "output_type": "execute_result"
    }
   ],
   "source": [
    "df_v1['InternetService'].unique()"
   ]
  },
  {
   "cell_type": "code",
   "execution_count": 79,
   "id": "2aa841ad",
   "metadata": {},
   "outputs": [
    {
     "data": {
      "text/plain": [
       "0.21666903308249325"
      ]
     },
     "execution_count": 79,
     "metadata": {},
     "output_type": "execute_result"
    }
   ],
   "source": [
    "df_v1['InternetService'].isna().sum() / len(df_v1)"
   ]
  },
  {
   "cell_type": "code",
   "execution_count": 80,
   "id": "9b75c4c9",
   "metadata": {},
   "outputs": [
    {
     "data": {
      "text/plain": [
       "array(['No', 'Yes', nan], dtype=object)"
      ]
     },
     "execution_count": 80,
     "metadata": {},
     "output_type": "execute_result"
    }
   ],
   "source": [
    "df_v1['OnlineSecurity'].unique()"
   ]
  },
  {
   "cell_type": "code",
   "execution_count": 81,
   "id": "b23b5078",
   "metadata": {
    "scrolled": true
   },
   "outputs": [
    {
     "data": {
      "text/plain": [
       "0.21666903308249325"
      ]
     },
     "execution_count": 81,
     "metadata": {},
     "output_type": "execute_result"
    }
   ],
   "source": [
    "df_v1['OnlineSecurity'].isna().sum() / len(df_v1)"
   ]
  },
  {
   "cell_type": "code",
   "execution_count": 82,
   "id": "a489f872",
   "metadata": {},
   "outputs": [
    {
     "data": {
      "text/plain": [
       "array(['Yes', 'No', nan], dtype=object)"
      ]
     },
     "execution_count": 82,
     "metadata": {},
     "output_type": "execute_result"
    }
   ],
   "source": [
    "df_v1['OnlineBackup'].unique()"
   ]
  },
  {
   "cell_type": "code",
   "execution_count": 83,
   "id": "8b6d6de4",
   "metadata": {},
   "outputs": [
    {
     "data": {
      "text/plain": [
       "0.21666903308249325"
      ]
     },
     "execution_count": 83,
     "metadata": {},
     "output_type": "execute_result"
    }
   ],
   "source": [
    "df_v1['OnlineBackup'].isna().sum() / len(df_v1)"
   ]
  },
  {
   "cell_type": "code",
   "execution_count": 84,
   "id": "0b1bebcc",
   "metadata": {},
   "outputs": [
    {
     "data": {
      "text/plain": [
       "array(['No', 'Yes', nan], dtype=object)"
      ]
     },
     "execution_count": 84,
     "metadata": {},
     "output_type": "execute_result"
    }
   ],
   "source": [
    "df_v1['DeviceProtection'].unique()"
   ]
  },
  {
   "cell_type": "code",
   "execution_count": 85,
   "id": "b3ba6c94",
   "metadata": {},
   "outputs": [
    {
     "data": {
      "text/plain": [
       "0.21666903308249325"
      ]
     },
     "execution_count": 85,
     "metadata": {},
     "output_type": "execute_result"
    }
   ],
   "source": [
    "df_v1['DeviceProtection'].isna().sum() / len(df_v1)"
   ]
  },
  {
   "cell_type": "code",
   "execution_count": 86,
   "id": "9ca71b11",
   "metadata": {},
   "outputs": [
    {
     "data": {
      "text/plain": [
       "array(['No', 'Yes', nan], dtype=object)"
      ]
     },
     "execution_count": 86,
     "metadata": {},
     "output_type": "execute_result"
    }
   ],
   "source": [
    "df_v1['TechSupport'].unique()"
   ]
  },
  {
   "cell_type": "code",
   "execution_count": 87,
   "id": "a55eb4e2",
   "metadata": {},
   "outputs": [
    {
     "data": {
      "text/plain": [
       "0.21666903308249325"
      ]
     },
     "execution_count": 87,
     "metadata": {},
     "output_type": "execute_result"
    }
   ],
   "source": [
    "df_v1['TechSupport'].isna().sum() / len(df_v1)"
   ]
  },
  {
   "cell_type": "code",
   "execution_count": 88,
   "id": "90c474cf",
   "metadata": {},
   "outputs": [
    {
     "data": {
      "text/plain": [
       "array(['No', 'Yes', nan], dtype=object)"
      ]
     },
     "execution_count": 88,
     "metadata": {},
     "output_type": "execute_result"
    }
   ],
   "source": [
    "df_v1['StreamingTV'].unique()"
   ]
  },
  {
   "cell_type": "code",
   "execution_count": 89,
   "id": "4e97b639",
   "metadata": {},
   "outputs": [
    {
     "data": {
      "text/plain": [
       "0.21666903308249325"
      ]
     },
     "execution_count": 89,
     "metadata": {},
     "output_type": "execute_result"
    }
   ],
   "source": [
    "df_v1['StreamingTV'].isna().sum() / len(df_v1)"
   ]
  },
  {
   "cell_type": "code",
   "execution_count": 90,
   "id": "1770086b",
   "metadata": {},
   "outputs": [
    {
     "data": {
      "text/plain": [
       "array(['No', 'Yes', nan], dtype=object)"
      ]
     },
     "execution_count": 90,
     "metadata": {},
     "output_type": "execute_result"
    }
   ],
   "source": [
    "df_v1['StreamingTV'].unique()"
   ]
  },
  {
   "cell_type": "code",
   "execution_count": 91,
   "id": "0fe33e65",
   "metadata": {},
   "outputs": [
    {
     "data": {
      "text/plain": [
       "0.21666903308249325"
      ]
     },
     "execution_count": 91,
     "metadata": {},
     "output_type": "execute_result"
    }
   ],
   "source": [
    "df_v1['StreamingTV'].isna().sum() / len(df_v1)"
   ]
  },
  {
   "cell_type": "code",
   "execution_count": 92,
   "id": "a121cbc4",
   "metadata": {},
   "outputs": [
    {
     "data": {
      "text/plain": [
       "array(['No', 'Yes', nan], dtype=object)"
      ]
     },
     "execution_count": 92,
     "metadata": {},
     "output_type": "execute_result"
    }
   ],
   "source": [
    "df_v1['StreamingMovies'].unique()"
   ]
  },
  {
   "cell_type": "code",
   "execution_count": 93,
   "id": "be1dec24",
   "metadata": {},
   "outputs": [
    {
     "data": {
      "text/plain": [
       "0.21666903308249325"
      ]
     },
     "execution_count": 93,
     "metadata": {},
     "output_type": "execute_result"
    }
   ],
   "source": [
    "df_v1['StreamingMovies'].isna().sum() / len(df_v1)"
   ]
  },
  {
   "cell_type": "code",
   "execution_count": 94,
   "id": "5bbc2bc8",
   "metadata": {},
   "outputs": [],
   "source": [
    "# filling with most common class\n",
    "df_filled = df_v1.apply(lambda x: x.fillna(x.value_counts().index[0]))"
   ]
  },
  {
   "cell_type": "code",
   "execution_count": 98,
   "id": "37621032",
   "metadata": {
    "scrolled": true
   },
   "outputs": [
    {
     "data": {
      "text/html": [
       "<style type=\"text/css\">\n",
       "#T_fc7f7_row0_col0, #T_fc7f7_row1_col0, #T_fc7f7_row2_col0, #T_fc7f7_row3_col0, #T_fc7f7_row4_col0, #T_fc7f7_row5_col0, #T_fc7f7_row6_col0, #T_fc7f7_row7_col0, #T_fc7f7_row8_col0, #T_fc7f7_row9_col0, #T_fc7f7_row10_col0, #T_fc7f7_row11_col0, #T_fc7f7_row12_col0, #T_fc7f7_row13_col0, #T_fc7f7_row14_col0, #T_fc7f7_row15_col0, #T_fc7f7_row16_col0, #T_fc7f7_row17_col0, #T_fc7f7_row18_col0, #T_fc7f7_row19_col0, #T_fc7f7_row20_col0 {\n",
       "  background-color: #3b4cc0;\n",
       "  color: #f1f1f1;\n",
       "}\n",
       "</style>\n",
       "<table id=\"T_fc7f7\">\n",
       "  <thead>\n",
       "    <tr>\n",
       "      <th class=\"blank level0\" >&nbsp;</th>\n",
       "      <th id=\"T_fc7f7_level0_col0\" class=\"col_heading level0 col0\" >0</th>\n",
       "    </tr>\n",
       "  </thead>\n",
       "  <tbody>\n",
       "    <tr>\n",
       "      <th id=\"T_fc7f7_level0_row0\" class=\"row_heading level0 row0\" >customerID</th>\n",
       "      <td id=\"T_fc7f7_row0_col0\" class=\"data row0 col0\" >0.000000</td>\n",
       "    </tr>\n",
       "    <tr>\n",
       "      <th id=\"T_fc7f7_level0_row1\" class=\"row_heading level0 row1\" >churned</th>\n",
       "      <td id=\"T_fc7f7_row1_col0\" class=\"data row1 col0\" >0.000000</td>\n",
       "    </tr>\n",
       "    <tr>\n",
       "      <th id=\"T_fc7f7_level0_row2\" class=\"row_heading level0 row2\" >Type</th>\n",
       "      <td id=\"T_fc7f7_row2_col0\" class=\"data row2 col0\" >0.000000</td>\n",
       "    </tr>\n",
       "    <tr>\n",
       "      <th id=\"T_fc7f7_level0_row3\" class=\"row_heading level0 row3\" >PaperlessBilling</th>\n",
       "      <td id=\"T_fc7f7_row3_col0\" class=\"data row3 col0\" >0.000000</td>\n",
       "    </tr>\n",
       "    <tr>\n",
       "      <th id=\"T_fc7f7_level0_row4\" class=\"row_heading level0 row4\" >PaymentMethod</th>\n",
       "      <td id=\"T_fc7f7_row4_col0\" class=\"data row4 col0\" >0.000000</td>\n",
       "    </tr>\n",
       "    <tr>\n",
       "      <th id=\"T_fc7f7_level0_row5\" class=\"row_heading level0 row5\" >MonthlyCharges</th>\n",
       "      <td id=\"T_fc7f7_row5_col0\" class=\"data row5 col0\" >0.000000</td>\n",
       "    </tr>\n",
       "    <tr>\n",
       "      <th id=\"T_fc7f7_level0_row6\" class=\"row_heading level0 row6\" >TotalCharges</th>\n",
       "      <td id=\"T_fc7f7_row6_col0\" class=\"data row6 col0\" >0.000000</td>\n",
       "    </tr>\n",
       "    <tr>\n",
       "      <th id=\"T_fc7f7_level0_row7\" class=\"row_heading level0 row7\" >begin_date</th>\n",
       "      <td id=\"T_fc7f7_row7_col0\" class=\"data row7 col0\" >0.000000</td>\n",
       "    </tr>\n",
       "    <tr>\n",
       "      <th id=\"T_fc7f7_level0_row8\" class=\"row_heading level0 row8\" >end_date</th>\n",
       "      <td id=\"T_fc7f7_row8_col0\" class=\"data row8 col0\" >0.000000</td>\n",
       "    </tr>\n",
       "    <tr>\n",
       "      <th id=\"T_fc7f7_level0_row9\" class=\"row_heading level0 row9\" >gender</th>\n",
       "      <td id=\"T_fc7f7_row9_col0\" class=\"data row9 col0\" >0.000000</td>\n",
       "    </tr>\n",
       "    <tr>\n",
       "      <th id=\"T_fc7f7_level0_row10\" class=\"row_heading level0 row10\" >SeniorCitizen</th>\n",
       "      <td id=\"T_fc7f7_row10_col0\" class=\"data row10 col0\" >0.000000</td>\n",
       "    </tr>\n",
       "    <tr>\n",
       "      <th id=\"T_fc7f7_level0_row11\" class=\"row_heading level0 row11\" >Partner</th>\n",
       "      <td id=\"T_fc7f7_row11_col0\" class=\"data row11 col0\" >0.000000</td>\n",
       "    </tr>\n",
       "    <tr>\n",
       "      <th id=\"T_fc7f7_level0_row12\" class=\"row_heading level0 row12\" >Dependents</th>\n",
       "      <td id=\"T_fc7f7_row12_col0\" class=\"data row12 col0\" >0.000000</td>\n",
       "    </tr>\n",
       "    <tr>\n",
       "      <th id=\"T_fc7f7_level0_row13\" class=\"row_heading level0 row13\" >MultipleLines</th>\n",
       "      <td id=\"T_fc7f7_row13_col0\" class=\"data row13 col0\" >0.000000</td>\n",
       "    </tr>\n",
       "    <tr>\n",
       "      <th id=\"T_fc7f7_level0_row14\" class=\"row_heading level0 row14\" >InternetService</th>\n",
       "      <td id=\"T_fc7f7_row14_col0\" class=\"data row14 col0\" >0.000000</td>\n",
       "    </tr>\n",
       "    <tr>\n",
       "      <th id=\"T_fc7f7_level0_row15\" class=\"row_heading level0 row15\" >OnlineSecurity</th>\n",
       "      <td id=\"T_fc7f7_row15_col0\" class=\"data row15 col0\" >0.000000</td>\n",
       "    </tr>\n",
       "    <tr>\n",
       "      <th id=\"T_fc7f7_level0_row16\" class=\"row_heading level0 row16\" >OnlineBackup</th>\n",
       "      <td id=\"T_fc7f7_row16_col0\" class=\"data row16 col0\" >0.000000</td>\n",
       "    </tr>\n",
       "    <tr>\n",
       "      <th id=\"T_fc7f7_level0_row17\" class=\"row_heading level0 row17\" >DeviceProtection</th>\n",
       "      <td id=\"T_fc7f7_row17_col0\" class=\"data row17 col0\" >0.000000</td>\n",
       "    </tr>\n",
       "    <tr>\n",
       "      <th id=\"T_fc7f7_level0_row18\" class=\"row_heading level0 row18\" >TechSupport</th>\n",
       "      <td id=\"T_fc7f7_row18_col0\" class=\"data row18 col0\" >0.000000</td>\n",
       "    </tr>\n",
       "    <tr>\n",
       "      <th id=\"T_fc7f7_level0_row19\" class=\"row_heading level0 row19\" >StreamingTV</th>\n",
       "      <td id=\"T_fc7f7_row19_col0\" class=\"data row19 col0\" >0.000000</td>\n",
       "    </tr>\n",
       "    <tr>\n",
       "      <th id=\"T_fc7f7_level0_row20\" class=\"row_heading level0 row20\" >StreamingMovies</th>\n",
       "      <td id=\"T_fc7f7_row20_col0\" class=\"data row20 col0\" >0.000000</td>\n",
       "    </tr>\n",
       "  </tbody>\n",
       "</table>\n"
      ],
      "text/plain": [
       "<pandas.io.formats.style.Styler at 0x125adfb80>"
      ]
     },
     "execution_count": 98,
     "metadata": {},
     "output_type": "execute_result"
    }
   ],
   "source": [
    "pd.DataFrame(round(df_filled.isna().mean()*100,)).style.background_gradient('coolwarm')"
   ]
  },
  {
   "cell_type": "markdown",
   "id": "0198bcbd",
   "metadata": {},
   "source": [
    "### 2.3 Проверка данных на явные дубликаты"
   ]
  },
  {
   "cell_type": "code",
   "execution_count": 99,
   "id": "3dd7680b",
   "metadata": {},
   "outputs": [
    {
     "data": {
      "text/plain": [
       "0"
      ]
     },
     "execution_count": 99,
     "metadata": {},
     "output_type": "execute_result"
    }
   ],
   "source": [
    "df_filled.duplicated().sum()"
   ]
  },
  {
   "cell_type": "markdown",
   "id": "b557a5b5",
   "metadata": {},
   "source": [
    "### 2.4 Финальная проверка признаков на дисбаланс и аномалии различного рода"
   ]
  },
  {
   "cell_type": "code",
   "execution_count": 100,
   "id": "573264f7",
   "metadata": {},
   "outputs": [
    {
     "data": {
      "text/plain": [
       "Index(['customerID', 'churned', 'Type', 'PaperlessBilling', 'PaymentMethod',\n",
       "       'MonthlyCharges', 'TotalCharges', 'begin_date', 'end_date', 'gender',\n",
       "       'SeniorCitizen', 'Partner', 'Dependents', 'MultipleLines',\n",
       "       'InternetService', 'OnlineSecurity', 'OnlineBackup', 'DeviceProtection',\n",
       "       'TechSupport', 'StreamingTV', 'StreamingMovies'],\n",
       "      dtype='object')"
      ]
     },
     "execution_count": 100,
     "metadata": {},
     "output_type": "execute_result"
    }
   ],
   "source": [
    "df_filled.columns"
   ]
  },
  {
   "cell_type": "code",
   "execution_count": 101,
   "id": "5bba582d",
   "metadata": {},
   "outputs": [
    {
     "data": {
      "text/plain": [
       "array(['Month-to-month', 'One year', 'Two year'], dtype=object)"
      ]
     },
     "execution_count": 101,
     "metadata": {},
     "output_type": "execute_result"
    }
   ],
   "source": [
    "df_filled['Type'].unique()"
   ]
  },
  {
   "cell_type": "code",
   "execution_count": 102,
   "id": "5e63d052",
   "metadata": {},
   "outputs": [
    {
     "data": {
      "text/plain": [
       "Month-to-month    3875\n",
       "Two year          1695\n",
       "One year          1473\n",
       "Name: Type, dtype: int64"
      ]
     },
     "execution_count": 102,
     "metadata": {},
     "output_type": "execute_result"
    }
   ],
   "source": [
    "# проверка на дисбаланс\n",
    "df_filled['Type'].value_counts()"
   ]
  },
  {
   "cell_type": "code",
   "execution_count": 103,
   "id": "8d397579",
   "metadata": {
    "scrolled": true
   },
   "outputs": [
    {
     "data": {
      "text/plain": [
       "array(['Yes', 'No'], dtype=object)"
      ]
     },
     "execution_count": 103,
     "metadata": {},
     "output_type": "execute_result"
    }
   ],
   "source": [
    "df_filled['PaperlessBilling'].unique()"
   ]
  },
  {
   "cell_type": "code",
   "execution_count": 104,
   "id": "c3951d4b",
   "metadata": {},
   "outputs": [
    {
     "data": {
      "text/plain": [
       "Yes    4171\n",
       "No     2872\n",
       "Name: PaperlessBilling, dtype: int64"
      ]
     },
     "execution_count": 104,
     "metadata": {},
     "output_type": "execute_result"
    }
   ],
   "source": [
    "# проверка на дисбаланс\n",
    "df_filled['PaperlessBilling'].value_counts()"
   ]
  },
  {
   "cell_type": "code",
   "execution_count": 105,
   "id": "2f542253",
   "metadata": {},
   "outputs": [
    {
     "data": {
      "text/plain": [
       "array(['Electronic check', 'Mailed check', 'Bank transfer (automatic)',\n",
       "       'Credit card (automatic)'], dtype=object)"
      ]
     },
     "execution_count": 105,
     "metadata": {},
     "output_type": "execute_result"
    }
   ],
   "source": [
    "df_filled['PaymentMethod'].unique()"
   ]
  },
  {
   "cell_type": "code",
   "execution_count": 106,
   "id": "8ec05eba",
   "metadata": {},
   "outputs": [
    {
     "data": {
      "text/plain": [
       "Electronic check             2365\n",
       "Mailed check                 1612\n",
       "Bank transfer (automatic)    1544\n",
       "Credit card (automatic)      1522\n",
       "Name: PaymentMethod, dtype: int64"
      ]
     },
     "execution_count": 106,
     "metadata": {},
     "output_type": "execute_result"
    }
   ],
   "source": [
    "# проверка на дисбаланс\n",
    "df_filled['PaymentMethod'].value_counts()"
   ]
  },
  {
   "cell_type": "code",
   "execution_count": 107,
   "id": "3eb25aca",
   "metadata": {},
   "outputs": [
    {
     "data": {
      "text/plain": [
       "array([29.85, 56.95, 53.85, ..., 63.1 , 44.2 , 78.7 ])"
      ]
     },
     "execution_count": 107,
     "metadata": {},
     "output_type": "execute_result"
    }
   ],
   "source": [
    "df_filled['MonthlyCharges'].unique()"
   ]
  },
  {
   "cell_type": "code",
   "execution_count": 108,
   "id": "63896d24",
   "metadata": {},
   "outputs": [
    {
     "data": {
      "text/plain": [
       "count    7043.000000\n",
       "mean       64.761692\n",
       "std        30.090047\n",
       "min        18.250000\n",
       "25%        35.500000\n",
       "50%        70.350000\n",
       "75%        89.850000\n",
       "max       118.750000\n",
       "Name: MonthlyCharges, dtype: float64"
      ]
     },
     "execution_count": 108,
     "metadata": {},
     "output_type": "execute_result"
    }
   ],
   "source": [
    "# проверка описательных статистик\n",
    "df_filled['MonthlyCharges'].describe()"
   ]
  },
  {
   "cell_type": "code",
   "execution_count": 109,
   "id": "f340757e",
   "metadata": {
    "scrolled": true
   },
   "outputs": [
    {
     "data": {
      "text/plain": [
       "array([  29., 1889.,  108., ..., 1990., 7362., 6844.])"
      ]
     },
     "execution_count": 109,
     "metadata": {},
     "output_type": "execute_result"
    }
   ],
   "source": [
    "df_filled['TotalCharges'].unique()"
   ]
  },
  {
   "cell_type": "code",
   "execution_count": 110,
   "id": "5bef17f5",
   "metadata": {},
   "outputs": [
    {
     "data": {
      "text/plain": [
       "count    7043.000000\n",
       "mean     2279.294761\n",
       "std      2266.761146\n",
       "min        18.000000\n",
       "25%       398.000000\n",
       "50%      1394.000000\n",
       "75%      3786.500000\n",
       "max      8684.000000\n",
       "Name: TotalCharges, dtype: float64"
      ]
     },
     "execution_count": 110,
     "metadata": {},
     "output_type": "execute_result"
    }
   ],
   "source": [
    "# проверка на дисбаланс\n",
    "df_filled['TotalCharges'].describe()"
   ]
  },
  {
   "cell_type": "code",
   "execution_count": 111,
   "id": "09c93529",
   "metadata": {},
   "outputs": [
    {
     "data": {
      "text/plain": [
       "array(['Female', 'Male'], dtype=object)"
      ]
     },
     "execution_count": 111,
     "metadata": {},
     "output_type": "execute_result"
    }
   ],
   "source": [
    "df_filled['gender'].unique()"
   ]
  },
  {
   "cell_type": "code",
   "execution_count": 112,
   "id": "b4b541b3",
   "metadata": {},
   "outputs": [
    {
     "data": {
      "text/plain": [
       "Male      3555\n",
       "Female    3488\n",
       "Name: gender, dtype: int64"
      ]
     },
     "execution_count": 112,
     "metadata": {},
     "output_type": "execute_result"
    }
   ],
   "source": [
    "# проверка на дисбаланс\n",
    "df_filled['gender'].value_counts()"
   ]
  },
  {
   "cell_type": "code",
   "execution_count": 113,
   "id": "fe6c4799",
   "metadata": {
    "scrolled": true
   },
   "outputs": [
    {
     "data": {
      "text/plain": [
       "array([0, 1])"
      ]
     },
     "execution_count": 113,
     "metadata": {},
     "output_type": "execute_result"
    }
   ],
   "source": [
    "df_filled['SeniorCitizen'].unique()"
   ]
  },
  {
   "cell_type": "code",
   "execution_count": 114,
   "id": "3f871100",
   "metadata": {},
   "outputs": [
    {
     "data": {
      "text/plain": [
       "0    5901\n",
       "1    1142\n",
       "Name: SeniorCitizen, dtype: int64"
      ]
     },
     "execution_count": 114,
     "metadata": {},
     "output_type": "execute_result"
    }
   ],
   "source": [
    "# проверка на дисбаланс\n",
    "df_filled['SeniorCitizen'].value_counts() # признак несбалансирован"
   ]
  },
  {
   "cell_type": "code",
   "execution_count": 115,
   "id": "cc8b855e",
   "metadata": {
    "scrolled": true
   },
   "outputs": [
    {
     "data": {
      "text/plain": [
       "array(['Yes', 'No'], dtype=object)"
      ]
     },
     "execution_count": 115,
     "metadata": {},
     "output_type": "execute_result"
    }
   ],
   "source": [
    "df_filled['Partner'].unique()"
   ]
  },
  {
   "cell_type": "code",
   "execution_count": 116,
   "id": "03756dff",
   "metadata": {},
   "outputs": [
    {
     "data": {
      "text/plain": [
       "No     3641\n",
       "Yes    3402\n",
       "Name: Partner, dtype: int64"
      ]
     },
     "execution_count": 116,
     "metadata": {},
     "output_type": "execute_result"
    }
   ],
   "source": [
    "# проверка на дисбаланс\n",
    "df_filled['Partner'].value_counts()"
   ]
  },
  {
   "cell_type": "code",
   "execution_count": 117,
   "id": "ccb4146b",
   "metadata": {
    "scrolled": true
   },
   "outputs": [
    {
     "data": {
      "text/plain": [
       "array(['No', 'Yes'], dtype=object)"
      ]
     },
     "execution_count": 117,
     "metadata": {},
     "output_type": "execute_result"
    }
   ],
   "source": [
    "df_filled['MultipleLines'].unique()"
   ]
  },
  {
   "cell_type": "code",
   "execution_count": 118,
   "id": "b1f2b52b",
   "metadata": {},
   "outputs": [
    {
     "data": {
      "text/plain": [
       "No     4072\n",
       "Yes    2971\n",
       "Name: MultipleLines, dtype: int64"
      ]
     },
     "execution_count": 118,
     "metadata": {},
     "output_type": "execute_result"
    }
   ],
   "source": [
    "# проверка на дисбаланс\n",
    "df_filled['MultipleLines'].value_counts()"
   ]
  },
  {
   "cell_type": "code",
   "execution_count": 119,
   "id": "0148d65a",
   "metadata": {
    "scrolled": true
   },
   "outputs": [
    {
     "data": {
      "text/plain": [
       "array(['No', 'Yes'], dtype=object)"
      ]
     },
     "execution_count": 119,
     "metadata": {},
     "output_type": "execute_result"
    }
   ],
   "source": [
    "df_filled['Dependents'].unique()"
   ]
  },
  {
   "cell_type": "code",
   "execution_count": 120,
   "id": "a561f2b9",
   "metadata": {},
   "outputs": [
    {
     "data": {
      "text/plain": [
       "No     4933\n",
       "Yes    2110\n",
       "Name: Dependents, dtype: int64"
      ]
     },
     "execution_count": 120,
     "metadata": {},
     "output_type": "execute_result"
    }
   ],
   "source": [
    "# проверка на дисбаланс\n",
    "df_filled['Dependents'].value_counts() # признак несбалансирован"
   ]
  },
  {
   "cell_type": "code",
   "execution_count": 121,
   "id": "55b566ef",
   "metadata": {},
   "outputs": [
    {
     "data": {
      "text/plain": [
       "array(['DSL', 'Fiber optic'], dtype=object)"
      ]
     },
     "execution_count": 121,
     "metadata": {},
     "output_type": "execute_result"
    }
   ],
   "source": [
    "df_filled['InternetService'].unique()"
   ]
  },
  {
   "cell_type": "code",
   "execution_count": 122,
   "id": "e20f2395",
   "metadata": {},
   "outputs": [
    {
     "data": {
      "text/plain": [
       "Fiber optic    4622\n",
       "DSL            2421\n",
       "Name: InternetService, dtype: int64"
      ]
     },
     "execution_count": 122,
     "metadata": {},
     "output_type": "execute_result"
    }
   ],
   "source": [
    "# проверка на дисбаланс\n",
    "df_filled['InternetService'].value_counts() # признак несбалансирован"
   ]
  },
  {
   "cell_type": "code",
   "execution_count": 123,
   "id": "e611face",
   "metadata": {
    "scrolled": true
   },
   "outputs": [
    {
     "data": {
      "text/plain": [
       "array(['No', 'Yes'], dtype=object)"
      ]
     },
     "execution_count": 123,
     "metadata": {},
     "output_type": "execute_result"
    }
   ],
   "source": [
    "df_filled['OnlineSecurity'].unique()"
   ]
  },
  {
   "cell_type": "code",
   "execution_count": 124,
   "id": "795d78ea",
   "metadata": {},
   "outputs": [
    {
     "data": {
      "text/plain": [
       "No     5024\n",
       "Yes    2019\n",
       "Name: OnlineSecurity, dtype: int64"
      ]
     },
     "execution_count": 124,
     "metadata": {},
     "output_type": "execute_result"
    }
   ],
   "source": [
    "# проверка на дисбаланс\n",
    "df_filled['OnlineSecurity'].value_counts() # признак несбалансирован"
   ]
  },
  {
   "cell_type": "code",
   "execution_count": 125,
   "id": "4a899cc0",
   "metadata": {
    "scrolled": true
   },
   "outputs": [
    {
     "data": {
      "text/plain": [
       "array(['Yes', 'No'], dtype=object)"
      ]
     },
     "execution_count": 125,
     "metadata": {},
     "output_type": "execute_result"
    }
   ],
   "source": [
    "df_filled['OnlineBackup'].unique()"
   ]
  },
  {
   "cell_type": "code",
   "execution_count": 126,
   "id": "790447ee",
   "metadata": {},
   "outputs": [
    {
     "data": {
      "text/plain": [
       "No     4614\n",
       "Yes    2429\n",
       "Name: OnlineBackup, dtype: int64"
      ]
     },
     "execution_count": 126,
     "metadata": {},
     "output_type": "execute_result"
    }
   ],
   "source": [
    "# проверка на дисбаланс\n",
    "df_filled['OnlineBackup'].value_counts()"
   ]
  },
  {
   "cell_type": "code",
   "execution_count": 127,
   "id": "bbb3d36a",
   "metadata": {},
   "outputs": [
    {
     "data": {
      "text/plain": [
       "array(['No', 'Yes'], dtype=object)"
      ]
     },
     "execution_count": 127,
     "metadata": {},
     "output_type": "execute_result"
    }
   ],
   "source": [
    "df_filled['DeviceProtection'].unique()"
   ]
  },
  {
   "cell_type": "code",
   "execution_count": 128,
   "id": "9d45d74b",
   "metadata": {},
   "outputs": [
    {
     "data": {
      "text/plain": [
       "No     4621\n",
       "Yes    2422\n",
       "Name: DeviceProtection, dtype: int64"
      ]
     },
     "execution_count": 128,
     "metadata": {},
     "output_type": "execute_result"
    }
   ],
   "source": [
    "# проверка на дисбаланс\n",
    "df_filled['DeviceProtection'].value_counts()"
   ]
  },
  {
   "cell_type": "code",
   "execution_count": 129,
   "id": "f26fa209",
   "metadata": {},
   "outputs": [
    {
     "data": {
      "text/plain": [
       "array(['No', 'Yes'], dtype=object)"
      ]
     },
     "execution_count": 129,
     "metadata": {},
     "output_type": "execute_result"
    }
   ],
   "source": [
    "df_filled['TechSupport'].unique()"
   ]
  },
  {
   "cell_type": "code",
   "execution_count": 130,
   "id": "afa648ca",
   "metadata": {},
   "outputs": [
    {
     "data": {
      "text/plain": [
       "No     4999\n",
       "Yes    2044\n",
       "Name: TechSupport, dtype: int64"
      ]
     },
     "execution_count": 130,
     "metadata": {},
     "output_type": "execute_result"
    }
   ],
   "source": [
    "# проверка на дисбаланс\n",
    "df_filled['TechSupport'].value_counts() # признак несбалансирован"
   ]
  },
  {
   "cell_type": "code",
   "execution_count": 131,
   "id": "3efa010c",
   "metadata": {},
   "outputs": [
    {
     "data": {
      "text/plain": [
       "array(['No', 'Yes'], dtype=object)"
      ]
     },
     "execution_count": 131,
     "metadata": {},
     "output_type": "execute_result"
    }
   ],
   "source": [
    "df_filled['StreamingTV'].unique()"
   ]
  },
  {
   "cell_type": "code",
   "execution_count": 132,
   "id": "9894e32b",
   "metadata": {},
   "outputs": [
    {
     "data": {
      "text/plain": [
       "No     4336\n",
       "Yes    2707\n",
       "Name: StreamingTV, dtype: int64"
      ]
     },
     "execution_count": 132,
     "metadata": {},
     "output_type": "execute_result"
    }
   ],
   "source": [
    "# проверка на дисбаланс\n",
    "df_filled['StreamingTV'].value_counts()"
   ]
  },
  {
   "cell_type": "code",
   "execution_count": 133,
   "id": "5c59ad5a",
   "metadata": {},
   "outputs": [
    {
     "data": {
      "text/plain": [
       "array(['No', 'Yes'], dtype=object)"
      ]
     },
     "execution_count": 133,
     "metadata": {},
     "output_type": "execute_result"
    }
   ],
   "source": [
    "df_filled['StreamingMovies'].unique()"
   ]
  },
  {
   "cell_type": "code",
   "execution_count": 134,
   "id": "99e6f567",
   "metadata": {},
   "outputs": [
    {
     "data": {
      "text/plain": [
       "No     4311\n",
       "Yes    2732\n",
       "Name: StreamingMovies, dtype: int64"
      ]
     },
     "execution_count": 134,
     "metadata": {},
     "output_type": "execute_result"
    }
   ],
   "source": [
    "# проверка на дисбаланс\n",
    "df_filled['StreamingMovies'].value_counts() # признак несбалансирован"
   ]
  },
  {
   "cell_type": "code",
   "execution_count": 135,
   "id": "1204dfde",
   "metadata": {
    "scrolled": true
   },
   "outputs": [
    {
     "name": "stdout",
     "output_type": "stream",
     "text": [
      "<class 'pandas.core.frame.DataFrame'>\n",
      "Int64Index: 7043 entries, 0 to 7042\n",
      "Data columns (total 21 columns):\n",
      " #   Column            Non-Null Count  Dtype  \n",
      "---  ------            --------------  -----  \n",
      " 0   customerID        7043 non-null   object \n",
      " 1   churned           7043 non-null   int64  \n",
      " 2   Type              7043 non-null   object \n",
      " 3   PaperlessBilling  7043 non-null   object \n",
      " 4   PaymentMethod     7043 non-null   object \n",
      " 5   MonthlyCharges    7043 non-null   float64\n",
      " 6   TotalCharges      7043 non-null   float64\n",
      " 7   begin_date        7043 non-null   object \n",
      " 8   end_date          7043 non-null   object \n",
      " 9   gender            7043 non-null   object \n",
      " 10  SeniorCitizen     7043 non-null   int64  \n",
      " 11  Partner           7043 non-null   object \n",
      " 12  Dependents        7043 non-null   object \n",
      " 13  MultipleLines     7043 non-null   object \n",
      " 14  InternetService   7043 non-null   object \n",
      " 15  OnlineSecurity    7043 non-null   object \n",
      " 16  OnlineBackup      7043 non-null   object \n",
      " 17  DeviceProtection  7043 non-null   object \n",
      " 18  TechSupport       7043 non-null   object \n",
      " 19  StreamingTV       7043 non-null   object \n",
      " 20  StreamingMovies   7043 non-null   object \n",
      "dtypes: float64(2), int64(2), object(17)\n",
      "memory usage: 1.2+ MB\n"
     ]
    }
   ],
   "source": [
    "df_filled.info()"
   ]
  },
  {
   "cell_type": "code",
   "execution_count": 136,
   "id": "a1e3bbe2",
   "metadata": {},
   "outputs": [
    {
     "data": {
      "text/plain": [
       "(7043, 21)"
      ]
     },
     "execution_count": 136,
     "metadata": {},
     "output_type": "execute_result"
    }
   ],
   "source": [
    "df_filled.shape"
   ]
  },
  {
   "cell_type": "markdown",
   "id": "852099dd",
   "metadata": {},
   "source": [
    "### *Вывод:* Данные чистые, дубликатов нет, аномалии не обнаружены. Финальный датасет после удаления признаков становится небольшим, что может негативно сказаться на качестве обучения модели. Это нужно учесть в дальнейшей работе. Большая часть признаков - категориальные, бинарные переменные, которые необходимо закодировать."
   ]
  },
  {
   "cell_type": "code",
   "execution_count": 138,
   "id": "627e7c4b",
   "metadata": {},
   "outputs": [
    {
     "data": {
      "text/html": [
       "<div>\n",
       "<style scoped>\n",
       "    .dataframe tbody tr th:only-of-type {\n",
       "        vertical-align: middle;\n",
       "    }\n",
       "\n",
       "    .dataframe tbody tr th {\n",
       "        vertical-align: top;\n",
       "    }\n",
       "\n",
       "    .dataframe thead th {\n",
       "        text-align: right;\n",
       "    }\n",
       "</style>\n",
       "<table border=\"1\" class=\"dataframe\">\n",
       "  <thead>\n",
       "    <tr style=\"text-align: right;\">\n",
       "      <th></th>\n",
       "      <th>customerID</th>\n",
       "      <th>churned</th>\n",
       "      <th>Type</th>\n",
       "      <th>PaperlessBilling</th>\n",
       "      <th>PaymentMethod</th>\n",
       "      <th>MonthlyCharges</th>\n",
       "      <th>TotalCharges</th>\n",
       "      <th>begin_date</th>\n",
       "      <th>end_date</th>\n",
       "      <th>gender</th>\n",
       "      <th>...</th>\n",
       "      <th>Partner</th>\n",
       "      <th>Dependents</th>\n",
       "      <th>MultipleLines</th>\n",
       "      <th>InternetService</th>\n",
       "      <th>OnlineSecurity</th>\n",
       "      <th>OnlineBackup</th>\n",
       "      <th>DeviceProtection</th>\n",
       "      <th>TechSupport</th>\n",
       "      <th>StreamingTV</th>\n",
       "      <th>StreamingMovies</th>\n",
       "    </tr>\n",
       "  </thead>\n",
       "  <tbody>\n",
       "    <tr>\n",
       "      <th>0</th>\n",
       "      <td>7590-VHVEG</td>\n",
       "      <td>1</td>\n",
       "      <td>Month-to-month</td>\n",
       "      <td>Yes</td>\n",
       "      <td>Electronic check</td>\n",
       "      <td>29.85</td>\n",
       "      <td>29.0</td>\n",
       "      <td>2020-01-01</td>\n",
       "      <td>2020-02-01</td>\n",
       "      <td>Female</td>\n",
       "      <td>...</td>\n",
       "      <td>Yes</td>\n",
       "      <td>No</td>\n",
       "      <td>No</td>\n",
       "      <td>DSL</td>\n",
       "      <td>No</td>\n",
       "      <td>Yes</td>\n",
       "      <td>No</td>\n",
       "      <td>No</td>\n",
       "      <td>No</td>\n",
       "      <td>No</td>\n",
       "    </tr>\n",
       "    <tr>\n",
       "      <th>1</th>\n",
       "      <td>5575-GNVDE</td>\n",
       "      <td>1</td>\n",
       "      <td>One year</td>\n",
       "      <td>No</td>\n",
       "      <td>Mailed check</td>\n",
       "      <td>56.95</td>\n",
       "      <td>1889.0</td>\n",
       "      <td>2017-04-01</td>\n",
       "      <td>2020-02-01</td>\n",
       "      <td>Male</td>\n",
       "      <td>...</td>\n",
       "      <td>No</td>\n",
       "      <td>No</td>\n",
       "      <td>No</td>\n",
       "      <td>DSL</td>\n",
       "      <td>Yes</td>\n",
       "      <td>No</td>\n",
       "      <td>Yes</td>\n",
       "      <td>No</td>\n",
       "      <td>No</td>\n",
       "      <td>No</td>\n",
       "    </tr>\n",
       "    <tr>\n",
       "      <th>2</th>\n",
       "      <td>3668-QPYBK</td>\n",
       "      <td>0</td>\n",
       "      <td>Month-to-month</td>\n",
       "      <td>Yes</td>\n",
       "      <td>Mailed check</td>\n",
       "      <td>53.85</td>\n",
       "      <td>108.0</td>\n",
       "      <td>2019-10-01</td>\n",
       "      <td>2019-12-01</td>\n",
       "      <td>Male</td>\n",
       "      <td>...</td>\n",
       "      <td>No</td>\n",
       "      <td>No</td>\n",
       "      <td>No</td>\n",
       "      <td>DSL</td>\n",
       "      <td>Yes</td>\n",
       "      <td>Yes</td>\n",
       "      <td>No</td>\n",
       "      <td>No</td>\n",
       "      <td>No</td>\n",
       "      <td>No</td>\n",
       "    </tr>\n",
       "    <tr>\n",
       "      <th>3</th>\n",
       "      <td>7795-CFOCW</td>\n",
       "      <td>1</td>\n",
       "      <td>One year</td>\n",
       "      <td>No</td>\n",
       "      <td>Bank transfer (automatic)</td>\n",
       "      <td>42.30</td>\n",
       "      <td>1840.0</td>\n",
       "      <td>2016-05-01</td>\n",
       "      <td>2020-02-01</td>\n",
       "      <td>Male</td>\n",
       "      <td>...</td>\n",
       "      <td>No</td>\n",
       "      <td>No</td>\n",
       "      <td>No</td>\n",
       "      <td>DSL</td>\n",
       "      <td>Yes</td>\n",
       "      <td>No</td>\n",
       "      <td>Yes</td>\n",
       "      <td>Yes</td>\n",
       "      <td>No</td>\n",
       "      <td>No</td>\n",
       "    </tr>\n",
       "    <tr>\n",
       "      <th>4</th>\n",
       "      <td>9237-HQITU</td>\n",
       "      <td>0</td>\n",
       "      <td>Month-to-month</td>\n",
       "      <td>Yes</td>\n",
       "      <td>Electronic check</td>\n",
       "      <td>70.70</td>\n",
       "      <td>151.0</td>\n",
       "      <td>2019-09-01</td>\n",
       "      <td>2019-11-01</td>\n",
       "      <td>Female</td>\n",
       "      <td>...</td>\n",
       "      <td>No</td>\n",
       "      <td>No</td>\n",
       "      <td>No</td>\n",
       "      <td>Fiber optic</td>\n",
       "      <td>No</td>\n",
       "      <td>No</td>\n",
       "      <td>No</td>\n",
       "      <td>No</td>\n",
       "      <td>No</td>\n",
       "      <td>No</td>\n",
       "    </tr>\n",
       "  </tbody>\n",
       "</table>\n",
       "<p>5 rows × 21 columns</p>\n",
       "</div>"
      ],
      "text/plain": [
       "   customerID  churned            Type PaperlessBilling  \\\n",
       "0  7590-VHVEG        1  Month-to-month              Yes   \n",
       "1  5575-GNVDE        1        One year               No   \n",
       "2  3668-QPYBK        0  Month-to-month              Yes   \n",
       "3  7795-CFOCW        1        One year               No   \n",
       "4  9237-HQITU        0  Month-to-month              Yes   \n",
       "\n",
       "               PaymentMethod  MonthlyCharges  TotalCharges  begin_date  \\\n",
       "0           Electronic check           29.85          29.0  2020-01-01   \n",
       "1               Mailed check           56.95        1889.0  2017-04-01   \n",
       "2               Mailed check           53.85         108.0  2019-10-01   \n",
       "3  Bank transfer (automatic)           42.30        1840.0  2016-05-01   \n",
       "4           Electronic check           70.70         151.0  2019-09-01   \n",
       "\n",
       "     end_date  gender  ...  Partner Dependents MultipleLines InternetService  \\\n",
       "0  2020-02-01  Female  ...      Yes         No            No             DSL   \n",
       "1  2020-02-01    Male  ...       No         No            No             DSL   \n",
       "2  2019-12-01    Male  ...       No         No            No             DSL   \n",
       "3  2020-02-01    Male  ...       No         No            No             DSL   \n",
       "4  2019-11-01  Female  ...       No         No            No     Fiber optic   \n",
       "\n",
       "  OnlineSecurity OnlineBackup DeviceProtection TechSupport StreamingTV  \\\n",
       "0             No          Yes               No          No          No   \n",
       "1            Yes           No              Yes          No          No   \n",
       "2            Yes          Yes               No          No          No   \n",
       "3            Yes           No              Yes         Yes          No   \n",
       "4             No           No               No          No          No   \n",
       "\n",
       "  StreamingMovies  \n",
       "0              No  \n",
       "1              No  \n",
       "2              No  \n",
       "3              No  \n",
       "4              No  \n",
       "\n",
       "[5 rows x 21 columns]"
      ]
     },
     "execution_count": 138,
     "metadata": {},
     "output_type": "execute_result"
    }
   ],
   "source": [
    "df_filled.head(5)"
   ]
  },
  {
   "cell_type": "markdown",
   "id": "09aea24f",
   "metadata": {},
   "source": [
    "### 2.5 Проверка признаков на мультиколлинеарность"
   ]
  },
  {
   "cell_type": "markdown",
   "id": "70f20881",
   "metadata": {
    "scrolled": true
   },
   "source": [
    "#### 2.5.1 Проверка числовых признаков на мультиколлинеарность коррелляцией Пирсона"
   ]
  },
  {
   "cell_type": "code",
   "execution_count": 139,
   "id": "d7851a98",
   "metadata": {},
   "outputs": [
    {
     "name": "stdout",
     "output_type": "stream",
     "text": [
      "<class 'pandas.core.frame.DataFrame'>\n",
      "Int64Index: 7043 entries, 0 to 7042\n",
      "Data columns (total 21 columns):\n",
      " #   Column            Non-Null Count  Dtype  \n",
      "---  ------            --------------  -----  \n",
      " 0   customerID        7043 non-null   object \n",
      " 1   churned           7043 non-null   int64  \n",
      " 2   Type              7043 non-null   object \n",
      " 3   PaperlessBilling  7043 non-null   object \n",
      " 4   PaymentMethod     7043 non-null   object \n",
      " 5   MonthlyCharges    7043 non-null   float64\n",
      " 6   TotalCharges      7043 non-null   float64\n",
      " 7   begin_date        7043 non-null   object \n",
      " 8   end_date          7043 non-null   object \n",
      " 9   gender            7043 non-null   object \n",
      " 10  SeniorCitizen     7043 non-null   int64  \n",
      " 11  Partner           7043 non-null   object \n",
      " 12  Dependents        7043 non-null   object \n",
      " 13  MultipleLines     7043 non-null   object \n",
      " 14  InternetService   7043 non-null   object \n",
      " 15  OnlineSecurity    7043 non-null   object \n",
      " 16  OnlineBackup      7043 non-null   object \n",
      " 17  DeviceProtection  7043 non-null   object \n",
      " 18  TechSupport       7043 non-null   object \n",
      " 19  StreamingTV       7043 non-null   object \n",
      " 20  StreamingMovies   7043 non-null   object \n",
      "dtypes: float64(2), int64(2), object(17)\n",
      "memory usage: 1.2+ MB\n"
     ]
    }
   ],
   "source": [
    "df_filled.info()"
   ]
  },
  {
   "cell_type": "code",
   "execution_count": 140,
   "id": "d802ce9d",
   "metadata": {},
   "outputs": [],
   "source": [
    "d_int = df_filled[['MonthlyCharges',\n",
    "                  'TotalCharges']]"
   ]
  },
  {
   "cell_type": "code",
   "execution_count": 141,
   "id": "5c575155",
   "metadata": {},
   "outputs": [
    {
     "data": {
      "text/html": [
       "<div>\n",
       "<style scoped>\n",
       "    .dataframe tbody tr th:only-of-type {\n",
       "        vertical-align: middle;\n",
       "    }\n",
       "\n",
       "    .dataframe tbody tr th {\n",
       "        vertical-align: top;\n",
       "    }\n",
       "\n",
       "    .dataframe thead th {\n",
       "        text-align: right;\n",
       "    }\n",
       "</style>\n",
       "<table border=\"1\" class=\"dataframe\">\n",
       "  <thead>\n",
       "    <tr style=\"text-align: right;\">\n",
       "      <th></th>\n",
       "      <th>MonthlyCharges</th>\n",
       "      <th>TotalCharges</th>\n",
       "    </tr>\n",
       "  </thead>\n",
       "  <tbody>\n",
       "    <tr>\n",
       "      <th>MonthlyCharges</th>\n",
       "      <td>1.000000</td>\n",
       "      <td>0.651171</td>\n",
       "    </tr>\n",
       "    <tr>\n",
       "      <th>TotalCharges</th>\n",
       "      <td>0.651171</td>\n",
       "      <td>1.000000</td>\n",
       "    </tr>\n",
       "  </tbody>\n",
       "</table>\n",
       "</div>"
      ],
      "text/plain": [
       "                MonthlyCharges  TotalCharges\n",
       "MonthlyCharges        1.000000      0.651171\n",
       "TotalCharges          0.651171      1.000000"
      ]
     },
     "execution_count": 141,
     "metadata": {},
     "output_type": "execute_result"
    }
   ],
   "source": [
    "d_int.corr()"
   ]
  },
  {
   "cell_type": "markdown",
   "id": "c84abb71",
   "metadata": {},
   "source": [
    "<div class=\"alert alert-danger\">\n",
    "<b>Комментарий ревьюера V2: &#10060; </b> Не совсем так, численные признаки у тебя - MonthlyCharges, TotalCharges</div>"
   ]
  },
  {
   "cell_type": "markdown",
   "id": "1c2fe999",
   "metadata": {},
   "source": [
    "<div class=\"alert alert-info\"> <b>Юлия:</b>\n",
    "Поправила.\n",
    "</div>"
   ]
  },
  {
   "cell_type": "markdown",
   "id": "5f02b6b0",
   "metadata": {},
   "source": [
    "### *Вывод:* Коэффициенты Пирсона не превышают величины абсолютных значений 0.8, значит, допустимы к использованию в модели.\n",
    "\n",
    "Перейдем к анализу мультикорреляции категориальных признаков."
   ]
  },
  {
   "cell_type": "markdown",
   "id": "60aadffe",
   "metadata": {},
   "source": [
    "<div class=\"alert alert-danger\">\n",
    "<b>Комментарий ревьюера: &#10060; </b> Для категориальных признаков корреляция Пиросона не применима, присмотрись к phi_k, VIF</div>"
   ]
  },
  {
   "cell_type": "markdown",
   "id": "38c66d6e",
   "metadata": {},
   "source": [
    "<div class=\"alert alert-info\"> <b>Юлия:</b>\n",
    "Использую обе техники ниже.\n",
    "</div>\n"
   ]
  },
  {
   "cell_type": "markdown",
   "id": "24326442",
   "metadata": {},
   "source": [
    "#### 2.5.2 Поиск зависимостей между категориальными признаками проводим с помощью [коэффициента VIF](https://towardsdatascience.com/targeting-multicollinearity-with-python-3bd3b4088d0b)."
   ]
  },
  {
   "cell_type": "code",
   "execution_count": 142,
   "id": "d600b8e8",
   "metadata": {},
   "outputs": [],
   "source": [
    "d_categ = df_filled[['Type',\n",
    "                    'PaperlessBilling',\n",
    "                    'PaymentMethod',\n",
    "                    'gender',\n",
    "                    'SeniorCitizen',\n",
    "                    'Partner',\n",
    "                    'Dependents',\n",
    "                    'MultipleLines',\n",
    "                    'InternetService',\n",
    "                    'OnlineSecurity',\n",
    "                    'OnlineBackup',\n",
    "                    'DeviceProtection',\n",
    "                    'TechSupport',\n",
    "                    'StreamingTV',\n",
    "                    'StreamingMovies']]"
   ]
  },
  {
   "cell_type": "code",
   "execution_count": 143,
   "id": "1580963d",
   "metadata": {},
   "outputs": [
    {
     "data": {
      "text/html": [
       "<div>\n",
       "<style scoped>\n",
       "    .dataframe tbody tr th:only-of-type {\n",
       "        vertical-align: middle;\n",
       "    }\n",
       "\n",
       "    .dataframe tbody tr th {\n",
       "        vertical-align: top;\n",
       "    }\n",
       "\n",
       "    .dataframe thead th {\n",
       "        text-align: right;\n",
       "    }\n",
       "</style>\n",
       "<table border=\"1\" class=\"dataframe\">\n",
       "  <thead>\n",
       "    <tr style=\"text-align: right;\">\n",
       "      <th></th>\n",
       "      <th>Type</th>\n",
       "      <th>PaperlessBilling</th>\n",
       "      <th>PaymentMethod</th>\n",
       "      <th>gender</th>\n",
       "      <th>SeniorCitizen</th>\n",
       "      <th>Partner</th>\n",
       "      <th>Dependents</th>\n",
       "      <th>MultipleLines</th>\n",
       "      <th>InternetService</th>\n",
       "      <th>OnlineSecurity</th>\n",
       "      <th>OnlineBackup</th>\n",
       "      <th>DeviceProtection</th>\n",
       "      <th>TechSupport</th>\n",
       "      <th>StreamingTV</th>\n",
       "      <th>StreamingMovies</th>\n",
       "    </tr>\n",
       "  </thead>\n",
       "  <tbody>\n",
       "    <tr>\n",
       "      <th>0</th>\n",
       "      <td>Month-to-month</td>\n",
       "      <td>Yes</td>\n",
       "      <td>Electronic check</td>\n",
       "      <td>Female</td>\n",
       "      <td>0</td>\n",
       "      <td>Yes</td>\n",
       "      <td>No</td>\n",
       "      <td>No</td>\n",
       "      <td>DSL</td>\n",
       "      <td>No</td>\n",
       "      <td>Yes</td>\n",
       "      <td>No</td>\n",
       "      <td>No</td>\n",
       "      <td>No</td>\n",
       "      <td>No</td>\n",
       "    </tr>\n",
       "    <tr>\n",
       "      <th>1</th>\n",
       "      <td>One year</td>\n",
       "      <td>No</td>\n",
       "      <td>Mailed check</td>\n",
       "      <td>Male</td>\n",
       "      <td>0</td>\n",
       "      <td>No</td>\n",
       "      <td>No</td>\n",
       "      <td>No</td>\n",
       "      <td>DSL</td>\n",
       "      <td>Yes</td>\n",
       "      <td>No</td>\n",
       "      <td>Yes</td>\n",
       "      <td>No</td>\n",
       "      <td>No</td>\n",
       "      <td>No</td>\n",
       "    </tr>\n",
       "    <tr>\n",
       "      <th>2</th>\n",
       "      <td>Month-to-month</td>\n",
       "      <td>Yes</td>\n",
       "      <td>Mailed check</td>\n",
       "      <td>Male</td>\n",
       "      <td>0</td>\n",
       "      <td>No</td>\n",
       "      <td>No</td>\n",
       "      <td>No</td>\n",
       "      <td>DSL</td>\n",
       "      <td>Yes</td>\n",
       "      <td>Yes</td>\n",
       "      <td>No</td>\n",
       "      <td>No</td>\n",
       "      <td>No</td>\n",
       "      <td>No</td>\n",
       "    </tr>\n",
       "    <tr>\n",
       "      <th>3</th>\n",
       "      <td>One year</td>\n",
       "      <td>No</td>\n",
       "      <td>Bank transfer (automatic)</td>\n",
       "      <td>Male</td>\n",
       "      <td>0</td>\n",
       "      <td>No</td>\n",
       "      <td>No</td>\n",
       "      <td>No</td>\n",
       "      <td>DSL</td>\n",
       "      <td>Yes</td>\n",
       "      <td>No</td>\n",
       "      <td>Yes</td>\n",
       "      <td>Yes</td>\n",
       "      <td>No</td>\n",
       "      <td>No</td>\n",
       "    </tr>\n",
       "    <tr>\n",
       "      <th>4</th>\n",
       "      <td>Month-to-month</td>\n",
       "      <td>Yes</td>\n",
       "      <td>Electronic check</td>\n",
       "      <td>Female</td>\n",
       "      <td>0</td>\n",
       "      <td>No</td>\n",
       "      <td>No</td>\n",
       "      <td>No</td>\n",
       "      <td>Fiber optic</td>\n",
       "      <td>No</td>\n",
       "      <td>No</td>\n",
       "      <td>No</td>\n",
       "      <td>No</td>\n",
       "      <td>No</td>\n",
       "      <td>No</td>\n",
       "    </tr>\n",
       "    <tr>\n",
       "      <th>...</th>\n",
       "      <td>...</td>\n",
       "      <td>...</td>\n",
       "      <td>...</td>\n",
       "      <td>...</td>\n",
       "      <td>...</td>\n",
       "      <td>...</td>\n",
       "      <td>...</td>\n",
       "      <td>...</td>\n",
       "      <td>...</td>\n",
       "      <td>...</td>\n",
       "      <td>...</td>\n",
       "      <td>...</td>\n",
       "      <td>...</td>\n",
       "      <td>...</td>\n",
       "      <td>...</td>\n",
       "    </tr>\n",
       "    <tr>\n",
       "      <th>7038</th>\n",
       "      <td>One year</td>\n",
       "      <td>Yes</td>\n",
       "      <td>Mailed check</td>\n",
       "      <td>Male</td>\n",
       "      <td>0</td>\n",
       "      <td>Yes</td>\n",
       "      <td>Yes</td>\n",
       "      <td>Yes</td>\n",
       "      <td>DSL</td>\n",
       "      <td>Yes</td>\n",
       "      <td>No</td>\n",
       "      <td>Yes</td>\n",
       "      <td>Yes</td>\n",
       "      <td>Yes</td>\n",
       "      <td>Yes</td>\n",
       "    </tr>\n",
       "    <tr>\n",
       "      <th>7039</th>\n",
       "      <td>One year</td>\n",
       "      <td>Yes</td>\n",
       "      <td>Credit card (automatic)</td>\n",
       "      <td>Female</td>\n",
       "      <td>0</td>\n",
       "      <td>Yes</td>\n",
       "      <td>Yes</td>\n",
       "      <td>Yes</td>\n",
       "      <td>Fiber optic</td>\n",
       "      <td>No</td>\n",
       "      <td>Yes</td>\n",
       "      <td>Yes</td>\n",
       "      <td>No</td>\n",
       "      <td>Yes</td>\n",
       "      <td>Yes</td>\n",
       "    </tr>\n",
       "    <tr>\n",
       "      <th>7040</th>\n",
       "      <td>Month-to-month</td>\n",
       "      <td>Yes</td>\n",
       "      <td>Electronic check</td>\n",
       "      <td>Female</td>\n",
       "      <td>0</td>\n",
       "      <td>Yes</td>\n",
       "      <td>Yes</td>\n",
       "      <td>No</td>\n",
       "      <td>DSL</td>\n",
       "      <td>Yes</td>\n",
       "      <td>No</td>\n",
       "      <td>No</td>\n",
       "      <td>No</td>\n",
       "      <td>No</td>\n",
       "      <td>No</td>\n",
       "    </tr>\n",
       "    <tr>\n",
       "      <th>7041</th>\n",
       "      <td>Month-to-month</td>\n",
       "      <td>Yes</td>\n",
       "      <td>Mailed check</td>\n",
       "      <td>Male</td>\n",
       "      <td>1</td>\n",
       "      <td>Yes</td>\n",
       "      <td>No</td>\n",
       "      <td>Yes</td>\n",
       "      <td>Fiber optic</td>\n",
       "      <td>No</td>\n",
       "      <td>No</td>\n",
       "      <td>No</td>\n",
       "      <td>No</td>\n",
       "      <td>No</td>\n",
       "      <td>No</td>\n",
       "    </tr>\n",
       "    <tr>\n",
       "      <th>7042</th>\n",
       "      <td>Two year</td>\n",
       "      <td>Yes</td>\n",
       "      <td>Bank transfer (automatic)</td>\n",
       "      <td>Male</td>\n",
       "      <td>0</td>\n",
       "      <td>No</td>\n",
       "      <td>No</td>\n",
       "      <td>No</td>\n",
       "      <td>Fiber optic</td>\n",
       "      <td>Yes</td>\n",
       "      <td>No</td>\n",
       "      <td>Yes</td>\n",
       "      <td>Yes</td>\n",
       "      <td>Yes</td>\n",
       "      <td>Yes</td>\n",
       "    </tr>\n",
       "  </tbody>\n",
       "</table>\n",
       "<p>7043 rows × 15 columns</p>\n",
       "</div>"
      ],
      "text/plain": [
       "                Type PaperlessBilling              PaymentMethod  gender  \\\n",
       "0     Month-to-month              Yes           Electronic check  Female   \n",
       "1           One year               No               Mailed check    Male   \n",
       "2     Month-to-month              Yes               Mailed check    Male   \n",
       "3           One year               No  Bank transfer (automatic)    Male   \n",
       "4     Month-to-month              Yes           Electronic check  Female   \n",
       "...              ...              ...                        ...     ...   \n",
       "7038        One year              Yes               Mailed check    Male   \n",
       "7039        One year              Yes    Credit card (automatic)  Female   \n",
       "7040  Month-to-month              Yes           Electronic check  Female   \n",
       "7041  Month-to-month              Yes               Mailed check    Male   \n",
       "7042        Two year              Yes  Bank transfer (automatic)    Male   \n",
       "\n",
       "      SeniorCitizen Partner Dependents MultipleLines InternetService  \\\n",
       "0                 0     Yes         No            No             DSL   \n",
       "1                 0      No         No            No             DSL   \n",
       "2                 0      No         No            No             DSL   \n",
       "3                 0      No         No            No             DSL   \n",
       "4                 0      No         No            No     Fiber optic   \n",
       "...             ...     ...        ...           ...             ...   \n",
       "7038              0     Yes        Yes           Yes             DSL   \n",
       "7039              0     Yes        Yes           Yes     Fiber optic   \n",
       "7040              0     Yes        Yes            No             DSL   \n",
       "7041              1     Yes         No           Yes     Fiber optic   \n",
       "7042              0      No         No            No     Fiber optic   \n",
       "\n",
       "     OnlineSecurity OnlineBackup DeviceProtection TechSupport StreamingTV  \\\n",
       "0                No          Yes               No          No          No   \n",
       "1               Yes           No              Yes          No          No   \n",
       "2               Yes          Yes               No          No          No   \n",
       "3               Yes           No              Yes         Yes          No   \n",
       "4                No           No               No          No          No   \n",
       "...             ...          ...              ...         ...         ...   \n",
       "7038            Yes           No              Yes         Yes         Yes   \n",
       "7039             No          Yes              Yes          No         Yes   \n",
       "7040            Yes           No               No          No          No   \n",
       "7041             No           No               No          No          No   \n",
       "7042            Yes           No              Yes         Yes         Yes   \n",
       "\n",
       "     StreamingMovies  \n",
       "0                 No  \n",
       "1                 No  \n",
       "2                 No  \n",
       "3                 No  \n",
       "4                 No  \n",
       "...              ...  \n",
       "7038             Yes  \n",
       "7039             Yes  \n",
       "7040              No  \n",
       "7041              No  \n",
       "7042             Yes  \n",
       "\n",
       "[7043 rows x 15 columns]"
      ]
     },
     "execution_count": 143,
     "metadata": {},
     "output_type": "execute_result"
    }
   ],
   "source": [
    "d_categ"
   ]
  },
  {
   "cell_type": "code",
   "execution_count": 144,
   "id": "8924628e",
   "metadata": {},
   "outputs": [],
   "source": [
    "# закодируем категориальные признаки, чтобы проверить мультиколлинеарность\n",
    "# define ordinal encoding\n",
    "ordinalencoder = OrdinalEncoder()"
   ]
  },
  {
   "cell_type": "markdown",
   "id": "85658da6",
   "metadata": {},
   "source": [
    "<div class=\"alert alert-danger\">\n",
    "<b>Комментарий ревьюера V2: &#10060; </b> У тебя в OrdinalEncoder попал численный признак TotalCharges</div>"
   ]
  },
  {
   "cell_type": "code",
   "execution_count": 145,
   "id": "cbe1fbd7",
   "metadata": {},
   "outputs": [],
   "source": [
    "result = ordinalencoder.set_params(encoded_missing_value=-1).fit_transform(d_categ[['Type',\n",
    "                    'PaperlessBilling',\n",
    "                    'PaymentMethod',\n",
    "                    'gender',\n",
    "                    'SeniorCitizen',\n",
    "                    'Partner',\n",
    "                    'Dependents',\n",
    "                    'MultipleLines',\n",
    "                    'InternetService',\n",
    "                    'OnlineSecurity',\n",
    "                    'OnlineBackup',\n",
    "                    'DeviceProtection',\n",
    "                    'TechSupport',\n",
    "                    'StreamingTV',\n",
    "                    'StreamingMovies']])"
   ]
  },
  {
   "cell_type": "code",
   "execution_count": 146,
   "id": "075b43df",
   "metadata": {},
   "outputs": [],
   "source": [
    "result_df = pd.DataFrame(result)"
   ]
  },
  {
   "cell_type": "code",
   "execution_count": 147,
   "id": "dc724ac0",
   "metadata": {},
   "outputs": [
    {
     "data": {
      "text/html": [
       "<div>\n",
       "<style scoped>\n",
       "    .dataframe tbody tr th:only-of-type {\n",
       "        vertical-align: middle;\n",
       "    }\n",
       "\n",
       "    .dataframe tbody tr th {\n",
       "        vertical-align: top;\n",
       "    }\n",
       "\n",
       "    .dataframe thead th {\n",
       "        text-align: right;\n",
       "    }\n",
       "</style>\n",
       "<table border=\"1\" class=\"dataframe\">\n",
       "  <thead>\n",
       "    <tr style=\"text-align: right;\">\n",
       "      <th></th>\n",
       "      <th>0</th>\n",
       "      <th>1</th>\n",
       "      <th>2</th>\n",
       "      <th>3</th>\n",
       "      <th>4</th>\n",
       "      <th>5</th>\n",
       "      <th>6</th>\n",
       "      <th>7</th>\n",
       "      <th>8</th>\n",
       "      <th>9</th>\n",
       "      <th>10</th>\n",
       "      <th>11</th>\n",
       "      <th>12</th>\n",
       "      <th>13</th>\n",
       "      <th>14</th>\n",
       "    </tr>\n",
       "  </thead>\n",
       "  <tbody>\n",
       "    <tr>\n",
       "      <th>0</th>\n",
       "      <td>0.0</td>\n",
       "      <td>1.0</td>\n",
       "      <td>2.0</td>\n",
       "      <td>0.0</td>\n",
       "      <td>0.0</td>\n",
       "      <td>1.0</td>\n",
       "      <td>0.0</td>\n",
       "      <td>0.0</td>\n",
       "      <td>0.0</td>\n",
       "      <td>0.0</td>\n",
       "      <td>1.0</td>\n",
       "      <td>0.0</td>\n",
       "      <td>0.0</td>\n",
       "      <td>0.0</td>\n",
       "      <td>0.0</td>\n",
       "    </tr>\n",
       "    <tr>\n",
       "      <th>1</th>\n",
       "      <td>1.0</td>\n",
       "      <td>0.0</td>\n",
       "      <td>3.0</td>\n",
       "      <td>1.0</td>\n",
       "      <td>0.0</td>\n",
       "      <td>0.0</td>\n",
       "      <td>0.0</td>\n",
       "      <td>0.0</td>\n",
       "      <td>0.0</td>\n",
       "      <td>1.0</td>\n",
       "      <td>0.0</td>\n",
       "      <td>1.0</td>\n",
       "      <td>0.0</td>\n",
       "      <td>0.0</td>\n",
       "      <td>0.0</td>\n",
       "    </tr>\n",
       "    <tr>\n",
       "      <th>2</th>\n",
       "      <td>0.0</td>\n",
       "      <td>1.0</td>\n",
       "      <td>3.0</td>\n",
       "      <td>1.0</td>\n",
       "      <td>0.0</td>\n",
       "      <td>0.0</td>\n",
       "      <td>0.0</td>\n",
       "      <td>0.0</td>\n",
       "      <td>0.0</td>\n",
       "      <td>1.0</td>\n",
       "      <td>1.0</td>\n",
       "      <td>0.0</td>\n",
       "      <td>0.0</td>\n",
       "      <td>0.0</td>\n",
       "      <td>0.0</td>\n",
       "    </tr>\n",
       "    <tr>\n",
       "      <th>3</th>\n",
       "      <td>1.0</td>\n",
       "      <td>0.0</td>\n",
       "      <td>0.0</td>\n",
       "      <td>1.0</td>\n",
       "      <td>0.0</td>\n",
       "      <td>0.0</td>\n",
       "      <td>0.0</td>\n",
       "      <td>0.0</td>\n",
       "      <td>0.0</td>\n",
       "      <td>1.0</td>\n",
       "      <td>0.0</td>\n",
       "      <td>1.0</td>\n",
       "      <td>1.0</td>\n",
       "      <td>0.0</td>\n",
       "      <td>0.0</td>\n",
       "    </tr>\n",
       "    <tr>\n",
       "      <th>4</th>\n",
       "      <td>0.0</td>\n",
       "      <td>1.0</td>\n",
       "      <td>2.0</td>\n",
       "      <td>0.0</td>\n",
       "      <td>0.0</td>\n",
       "      <td>0.0</td>\n",
       "      <td>0.0</td>\n",
       "      <td>0.0</td>\n",
       "      <td>1.0</td>\n",
       "      <td>0.0</td>\n",
       "      <td>0.0</td>\n",
       "      <td>0.0</td>\n",
       "      <td>0.0</td>\n",
       "      <td>0.0</td>\n",
       "      <td>0.0</td>\n",
       "    </tr>\n",
       "    <tr>\n",
       "      <th>...</th>\n",
       "      <td>...</td>\n",
       "      <td>...</td>\n",
       "      <td>...</td>\n",
       "      <td>...</td>\n",
       "      <td>...</td>\n",
       "      <td>...</td>\n",
       "      <td>...</td>\n",
       "      <td>...</td>\n",
       "      <td>...</td>\n",
       "      <td>...</td>\n",
       "      <td>...</td>\n",
       "      <td>...</td>\n",
       "      <td>...</td>\n",
       "      <td>...</td>\n",
       "      <td>...</td>\n",
       "    </tr>\n",
       "    <tr>\n",
       "      <th>7038</th>\n",
       "      <td>1.0</td>\n",
       "      <td>1.0</td>\n",
       "      <td>3.0</td>\n",
       "      <td>1.0</td>\n",
       "      <td>0.0</td>\n",
       "      <td>1.0</td>\n",
       "      <td>1.0</td>\n",
       "      <td>1.0</td>\n",
       "      <td>0.0</td>\n",
       "      <td>1.0</td>\n",
       "      <td>0.0</td>\n",
       "      <td>1.0</td>\n",
       "      <td>1.0</td>\n",
       "      <td>1.0</td>\n",
       "      <td>1.0</td>\n",
       "    </tr>\n",
       "    <tr>\n",
       "      <th>7039</th>\n",
       "      <td>1.0</td>\n",
       "      <td>1.0</td>\n",
       "      <td>1.0</td>\n",
       "      <td>0.0</td>\n",
       "      <td>0.0</td>\n",
       "      <td>1.0</td>\n",
       "      <td>1.0</td>\n",
       "      <td>1.0</td>\n",
       "      <td>1.0</td>\n",
       "      <td>0.0</td>\n",
       "      <td>1.0</td>\n",
       "      <td>1.0</td>\n",
       "      <td>0.0</td>\n",
       "      <td>1.0</td>\n",
       "      <td>1.0</td>\n",
       "    </tr>\n",
       "    <tr>\n",
       "      <th>7040</th>\n",
       "      <td>0.0</td>\n",
       "      <td>1.0</td>\n",
       "      <td>2.0</td>\n",
       "      <td>0.0</td>\n",
       "      <td>0.0</td>\n",
       "      <td>1.0</td>\n",
       "      <td>1.0</td>\n",
       "      <td>0.0</td>\n",
       "      <td>0.0</td>\n",
       "      <td>1.0</td>\n",
       "      <td>0.0</td>\n",
       "      <td>0.0</td>\n",
       "      <td>0.0</td>\n",
       "      <td>0.0</td>\n",
       "      <td>0.0</td>\n",
       "    </tr>\n",
       "    <tr>\n",
       "      <th>7041</th>\n",
       "      <td>0.0</td>\n",
       "      <td>1.0</td>\n",
       "      <td>3.0</td>\n",
       "      <td>1.0</td>\n",
       "      <td>1.0</td>\n",
       "      <td>1.0</td>\n",
       "      <td>0.0</td>\n",
       "      <td>1.0</td>\n",
       "      <td>1.0</td>\n",
       "      <td>0.0</td>\n",
       "      <td>0.0</td>\n",
       "      <td>0.0</td>\n",
       "      <td>0.0</td>\n",
       "      <td>0.0</td>\n",
       "      <td>0.0</td>\n",
       "    </tr>\n",
       "    <tr>\n",
       "      <th>7042</th>\n",
       "      <td>2.0</td>\n",
       "      <td>1.0</td>\n",
       "      <td>0.0</td>\n",
       "      <td>1.0</td>\n",
       "      <td>0.0</td>\n",
       "      <td>0.0</td>\n",
       "      <td>0.0</td>\n",
       "      <td>0.0</td>\n",
       "      <td>1.0</td>\n",
       "      <td>1.0</td>\n",
       "      <td>0.0</td>\n",
       "      <td>1.0</td>\n",
       "      <td>1.0</td>\n",
       "      <td>1.0</td>\n",
       "      <td>1.0</td>\n",
       "    </tr>\n",
       "  </tbody>\n",
       "</table>\n",
       "<p>7043 rows × 15 columns</p>\n",
       "</div>"
      ],
      "text/plain": [
       "       0    1    2    3    4    5    6    7    8    9    10   11   12   13  \\\n",
       "0     0.0  1.0  2.0  0.0  0.0  1.0  0.0  0.0  0.0  0.0  1.0  0.0  0.0  0.0   \n",
       "1     1.0  0.0  3.0  1.0  0.0  0.0  0.0  0.0  0.0  1.0  0.0  1.0  0.0  0.0   \n",
       "2     0.0  1.0  3.0  1.0  0.0  0.0  0.0  0.0  0.0  1.0  1.0  0.0  0.0  0.0   \n",
       "3     1.0  0.0  0.0  1.0  0.0  0.0  0.0  0.0  0.0  1.0  0.0  1.0  1.0  0.0   \n",
       "4     0.0  1.0  2.0  0.0  0.0  0.0  0.0  0.0  1.0  0.0  0.0  0.0  0.0  0.0   \n",
       "...   ...  ...  ...  ...  ...  ...  ...  ...  ...  ...  ...  ...  ...  ...   \n",
       "7038  1.0  1.0  3.0  1.0  0.0  1.0  1.0  1.0  0.0  1.0  0.0  1.0  1.0  1.0   \n",
       "7039  1.0  1.0  1.0  0.0  0.0  1.0  1.0  1.0  1.0  0.0  1.0  1.0  0.0  1.0   \n",
       "7040  0.0  1.0  2.0  0.0  0.0  1.0  1.0  0.0  0.0  1.0  0.0  0.0  0.0  0.0   \n",
       "7041  0.0  1.0  3.0  1.0  1.0  1.0  0.0  1.0  1.0  0.0  0.0  0.0  0.0  0.0   \n",
       "7042  2.0  1.0  0.0  1.0  0.0  0.0  0.0  0.0  1.0  1.0  0.0  1.0  1.0  1.0   \n",
       "\n",
       "       14  \n",
       "0     0.0  \n",
       "1     0.0  \n",
       "2     0.0  \n",
       "3     0.0  \n",
       "4     0.0  \n",
       "...   ...  \n",
       "7038  1.0  \n",
       "7039  1.0  \n",
       "7040  0.0  \n",
       "7041  0.0  \n",
       "7042  1.0  \n",
       "\n",
       "[7043 rows x 15 columns]"
      ]
     },
     "execution_count": 147,
     "metadata": {},
     "output_type": "execute_result"
    }
   ],
   "source": [
    "result_df"
   ]
  },
  {
   "cell_type": "code",
   "execution_count": 148,
   "id": "88a2a7c6",
   "metadata": {},
   "outputs": [],
   "source": [
    "# объединим закодированные колонки и наш основной датасет (с удаленными категориальными признаками)\n",
    "df_enc = d_categ.join(result_df)"
   ]
  },
  {
   "cell_type": "code",
   "execution_count": 149,
   "id": "494cf11e",
   "metadata": {},
   "outputs": [],
   "source": [
    "df_enc_dropped = df_enc.drop(columns=['Type',\n",
    "                    'PaperlessBilling',\n",
    "                    'PaymentMethod',\n",
    "                    'gender',\n",
    "                    'SeniorCitizen',\n",
    "                    'Partner',\n",
    "                    'Dependents',\n",
    "                    'MultipleLines',\n",
    "                    'InternetService',\n",
    "                    'OnlineSecurity',\n",
    "                    'OnlineBackup',\n",
    "                    'DeviceProtection',\n",
    "                    'TechSupport',\n",
    "                    'StreamingTV',\n",
    "                    'StreamingMovies'])"
   ]
  },
  {
   "cell_type": "code",
   "execution_count": 150,
   "id": "8b5a974a",
   "metadata": {},
   "outputs": [
    {
     "data": {
      "text/plain": [
       "Index([0, 1, 2, 3, 4, 5, 6, 7, 8, 9, 10, 11, 12, 13, 14], dtype='object')"
      ]
     },
     "execution_count": 150,
     "metadata": {},
     "output_type": "execute_result"
    }
   ],
   "source": [
    "df_enc_dropped.columns"
   ]
  },
  {
   "cell_type": "code",
   "execution_count": 151,
   "id": "871d799e",
   "metadata": {},
   "outputs": [
    {
     "data": {
      "text/html": [
       "<div>\n",
       "<style scoped>\n",
       "    .dataframe tbody tr th:only-of-type {\n",
       "        vertical-align: middle;\n",
       "    }\n",
       "\n",
       "    .dataframe tbody tr th {\n",
       "        vertical-align: top;\n",
       "    }\n",
       "\n",
       "    .dataframe thead th {\n",
       "        text-align: right;\n",
       "    }\n",
       "</style>\n",
       "<table border=\"1\" class=\"dataframe\">\n",
       "  <thead>\n",
       "    <tr style=\"text-align: right;\">\n",
       "      <th></th>\n",
       "      <th>0</th>\n",
       "      <th>1</th>\n",
       "      <th>2</th>\n",
       "      <th>3</th>\n",
       "      <th>4</th>\n",
       "      <th>5</th>\n",
       "      <th>6</th>\n",
       "      <th>7</th>\n",
       "      <th>8</th>\n",
       "      <th>9</th>\n",
       "      <th>10</th>\n",
       "      <th>11</th>\n",
       "      <th>12</th>\n",
       "      <th>13</th>\n",
       "      <th>14</th>\n",
       "    </tr>\n",
       "  </thead>\n",
       "  <tbody>\n",
       "    <tr>\n",
       "      <th>0</th>\n",
       "      <td>0.0</td>\n",
       "      <td>1.0</td>\n",
       "      <td>2.0</td>\n",
       "      <td>0.0</td>\n",
       "      <td>0.0</td>\n",
       "      <td>1.0</td>\n",
       "      <td>0.0</td>\n",
       "      <td>0.0</td>\n",
       "      <td>0.0</td>\n",
       "      <td>0.0</td>\n",
       "      <td>1.0</td>\n",
       "      <td>0.0</td>\n",
       "      <td>0.0</td>\n",
       "      <td>0.0</td>\n",
       "      <td>0.0</td>\n",
       "    </tr>\n",
       "    <tr>\n",
       "      <th>1</th>\n",
       "      <td>1.0</td>\n",
       "      <td>0.0</td>\n",
       "      <td>3.0</td>\n",
       "      <td>1.0</td>\n",
       "      <td>0.0</td>\n",
       "      <td>0.0</td>\n",
       "      <td>0.0</td>\n",
       "      <td>0.0</td>\n",
       "      <td>0.0</td>\n",
       "      <td>1.0</td>\n",
       "      <td>0.0</td>\n",
       "      <td>1.0</td>\n",
       "      <td>0.0</td>\n",
       "      <td>0.0</td>\n",
       "      <td>0.0</td>\n",
       "    </tr>\n",
       "    <tr>\n",
       "      <th>2</th>\n",
       "      <td>0.0</td>\n",
       "      <td>1.0</td>\n",
       "      <td>3.0</td>\n",
       "      <td>1.0</td>\n",
       "      <td>0.0</td>\n",
       "      <td>0.0</td>\n",
       "      <td>0.0</td>\n",
       "      <td>0.0</td>\n",
       "      <td>0.0</td>\n",
       "      <td>1.0</td>\n",
       "      <td>1.0</td>\n",
       "      <td>0.0</td>\n",
       "      <td>0.0</td>\n",
       "      <td>0.0</td>\n",
       "      <td>0.0</td>\n",
       "    </tr>\n",
       "  </tbody>\n",
       "</table>\n",
       "</div>"
      ],
      "text/plain": [
       "     0    1    2    3    4    5    6    7    8    9   10   11   12   13   14\n",
       "0  0.0  1.0  2.0  0.0  0.0  1.0  0.0  0.0  0.0  0.0  1.0  0.0  0.0  0.0  0.0\n",
       "1  1.0  0.0  3.0  1.0  0.0  0.0  0.0  0.0  0.0  1.0  0.0  1.0  0.0  0.0  0.0\n",
       "2  0.0  1.0  3.0  1.0  0.0  0.0  0.0  0.0  0.0  1.0  1.0  0.0  0.0  0.0  0.0"
      ]
     },
     "execution_count": 151,
     "metadata": {},
     "output_type": "execute_result"
    }
   ],
   "source": [
    "df_enc_dropped.head(3)"
   ]
  },
  {
   "cell_type": "code",
   "execution_count": 152,
   "id": "7be72fa9",
   "metadata": {},
   "outputs": [],
   "source": [
    "df_enc_dropped.rename(columns = \n",
    "            {0:  'Type',\n",
    "               1:  'PaperlessBilling',\n",
    "               2:     'PaymentMethod',\n",
    "               3:     'gender',\n",
    "               4:     'SeniorCitizen',\n",
    "               5:     'Partner',\n",
    "               6:     'Dependents',\n",
    "               7:     'MultipleLines',\n",
    "               8:     'InternetService',\n",
    "                    9: 'OnlineSecurity',\n",
    "                    10: 'OnlineBackup',\n",
    "                    11: 'DeviceProtection',\n",
    "                    12: 'TechSupport',\n",
    "                    13: 'StreamingTV',\n",
    "                    14: 'StreamingMovies'}, inplace=True,)"
   ]
  },
  {
   "cell_type": "code",
   "execution_count": 153,
   "id": "cd3cc575",
   "metadata": {},
   "outputs": [
    {
     "data": {
      "text/plain": [
       "Index(['Type', 'PaperlessBilling', 'PaymentMethod', 'gender', 'SeniorCitizen',\n",
       "       'Partner', 'Dependents', 'MultipleLines', 'InternetService',\n",
       "       'OnlineSecurity', 'OnlineBackup', 'DeviceProtection', 'TechSupport',\n",
       "       'StreamingTV', 'StreamingMovies'],\n",
       "      dtype='object')"
      ]
     },
     "execution_count": 153,
     "metadata": {},
     "output_type": "execute_result"
    }
   ],
   "source": [
    "df_enc_dropped.columns"
   ]
  },
  {
   "cell_type": "code",
   "execution_count": 154,
   "id": "68da6a76",
   "metadata": {
    "scrolled": true
   },
   "outputs": [
    {
     "data": {
      "text/plain": [
       "pandas.core.frame.DataFrame"
      ]
     },
     "execution_count": 154,
     "metadata": {},
     "output_type": "execute_result"
    }
   ],
   "source": [
    "type(df_enc_dropped)"
   ]
  },
  {
   "cell_type": "code",
   "execution_count": 155,
   "id": "e99c3afc",
   "metadata": {
    "scrolled": true
   },
   "outputs": [],
   "source": [
    "df_enc_dropped = df_enc_dropped.dropna().head(3)"
   ]
  },
  {
   "cell_type": "code",
   "execution_count": 156,
   "id": "ab261012",
   "metadata": {
    "scrolled": true
   },
   "outputs": [],
   "source": [
    "# compute the vif for all given features\n",
    "def calc_vif(data, columns):\n",
    "    \n",
    "    X = data[columns]\n",
    "    # the calculation of variance inflation requires a constant\n",
    "    X['intercept'] = 1\n",
    "    \n",
    "    # create dataframe to store vif values\n",
    "    vif = pd.DataFrame()\n",
    "    vif[\"Variable\"] = X.columns\n",
    "    vif[\"VIF\"] = [variance_inflation_factor(X.values, i) for i in range(X.shape[1])]\n",
    "    vif = vif[vif['Variable']!='intercept']\n",
    "    return vif"
   ]
  },
  {
   "cell_type": "code",
   "execution_count": 157,
   "id": "7a30c137",
   "metadata": {},
   "outputs": [
    {
     "data": {
      "text/html": [
       "<div>\n",
       "<style scoped>\n",
       "    .dataframe tbody tr th:only-of-type {\n",
       "        vertical-align: middle;\n",
       "    }\n",
       "\n",
       "    .dataframe tbody tr th {\n",
       "        vertical-align: top;\n",
       "    }\n",
       "\n",
       "    .dataframe thead th {\n",
       "        text-align: right;\n",
       "    }\n",
       "</style>\n",
       "<table border=\"1\" class=\"dataframe\">\n",
       "  <thead>\n",
       "    <tr style=\"text-align: right;\">\n",
       "      <th></th>\n",
       "      <th>Variable</th>\n",
       "      <th>VIF</th>\n",
       "    </tr>\n",
       "  </thead>\n",
       "  <tbody>\n",
       "    <tr>\n",
       "      <th>0</th>\n",
       "      <td>Type</td>\n",
       "      <td>inf</td>\n",
       "    </tr>\n",
       "    <tr>\n",
       "      <th>1</th>\n",
       "      <td>PaperlessBilling</td>\n",
       "      <td>inf</td>\n",
       "    </tr>\n",
       "    <tr>\n",
       "      <th>2</th>\n",
       "      <td>PaymentMethod</td>\n",
       "      <td>inf</td>\n",
       "    </tr>\n",
       "    <tr>\n",
       "      <th>3</th>\n",
       "      <td>gender</td>\n",
       "      <td>inf</td>\n",
       "    </tr>\n",
       "    <tr>\n",
       "      <th>4</th>\n",
       "      <td>SeniorCitizen</td>\n",
       "      <td>NaN</td>\n",
       "    </tr>\n",
       "    <tr>\n",
       "      <th>5</th>\n",
       "      <td>Partner</td>\n",
       "      <td>inf</td>\n",
       "    </tr>\n",
       "    <tr>\n",
       "      <th>6</th>\n",
       "      <td>Dependents</td>\n",
       "      <td>NaN</td>\n",
       "    </tr>\n",
       "    <tr>\n",
       "      <th>7</th>\n",
       "      <td>MultipleLines</td>\n",
       "      <td>NaN</td>\n",
       "    </tr>\n",
       "    <tr>\n",
       "      <th>8</th>\n",
       "      <td>InternetService</td>\n",
       "      <td>NaN</td>\n",
       "    </tr>\n",
       "    <tr>\n",
       "      <th>9</th>\n",
       "      <td>OnlineSecurity</td>\n",
       "      <td>inf</td>\n",
       "    </tr>\n",
       "    <tr>\n",
       "      <th>10</th>\n",
       "      <td>OnlineBackup</td>\n",
       "      <td>inf</td>\n",
       "    </tr>\n",
       "    <tr>\n",
       "      <th>11</th>\n",
       "      <td>DeviceProtection</td>\n",
       "      <td>inf</td>\n",
       "    </tr>\n",
       "    <tr>\n",
       "      <th>12</th>\n",
       "      <td>TechSupport</td>\n",
       "      <td>NaN</td>\n",
       "    </tr>\n",
       "    <tr>\n",
       "      <th>13</th>\n",
       "      <td>StreamingTV</td>\n",
       "      <td>NaN</td>\n",
       "    </tr>\n",
       "    <tr>\n",
       "      <th>14</th>\n",
       "      <td>StreamingMovies</td>\n",
       "      <td>NaN</td>\n",
       "    </tr>\n",
       "  </tbody>\n",
       "</table>\n",
       "</div>"
      ],
      "text/plain": [
       "            Variable  VIF\n",
       "0               Type  inf\n",
       "1   PaperlessBilling  inf\n",
       "2      PaymentMethod  inf\n",
       "3             gender  inf\n",
       "4      SeniorCitizen  NaN\n",
       "5            Partner  inf\n",
       "6         Dependents  NaN\n",
       "7      MultipleLines  NaN\n",
       "8    InternetService  NaN\n",
       "9     OnlineSecurity  inf\n",
       "10      OnlineBackup  inf\n",
       "11  DeviceProtection  inf\n",
       "12       TechSupport  NaN\n",
       "13       StreamingTV  NaN\n",
       "14   StreamingMovies  NaN"
      ]
     },
     "execution_count": 157,
     "metadata": {},
     "output_type": "execute_result"
    }
   ],
   "source": [
    "calc_vif(df_enc_dropped, ['Type', 'PaperlessBilling', 'PaymentMethod', 'gender','SeniorCitizen','Partner',\n",
    "                          'Dependents', 'MultipleLines', 'InternetService', 'OnlineSecurity', 'OnlineBackup',\n",
    "                          'DeviceProtection', 'TechSupport', 'StreamingTV', 'StreamingMovies'])"
   ]
  },
  {
   "cell_type": "markdown",
   "id": "3dd861d5",
   "metadata": {},
   "source": [
    "### *Вывод:* Техника VIF не привела к существенным результатам, так как все показатели < 5, а значит, принять решение, какую колонку исключить, нельзя. Однако категориальных признаков по-прежнему много, обратимся к показателю Phi_K, который анализирует categorical, ordinal и интервальные переменные, демонстрируя не только линейные, но и нелинейные зависимости между признаками."
   ]
  },
  {
   "cell_type": "markdown",
   "id": "6e1baf34",
   "metadata": {},
   "source": [
    "#### 2.5.3 Поиск зависимостей между категориальными переменными с использованием [анализатора Phi_K](https://phik.readthedocs.io/en/latest/introduction.html)"
   ]
  },
  {
   "cell_type": "code",
   "execution_count": 165,
   "id": "d5a3a786",
   "metadata": {},
   "outputs": [],
   "source": [
    "!pip install -q phik"
   ]
  },
  {
   "cell_type": "code",
   "execution_count": 167,
   "id": "70de8fce",
   "metadata": {},
   "outputs": [],
   "source": [
    "import phik\n",
    "from phik import resources, report\n",
    "from phik.report import plot_correlation_matrix"
   ]
  },
  {
   "cell_type": "code",
   "execution_count": 168,
   "id": "62ad6961",
   "metadata": {},
   "outputs": [],
   "source": [
    "df_enc_dropped = df_enc_dropped.dropna()"
   ]
  },
  {
   "cell_type": "code",
   "execution_count": 169,
   "id": "7688e391",
   "metadata": {},
   "outputs": [
    {
     "name": "stdout",
     "output_type": "stream",
     "text": [
      "interval columns not set, guessing: ['Type', 'PaperlessBilling', 'PaymentMethod', 'gender', 'SeniorCitizen', 'Partner', 'Dependents', 'MultipleLines', 'InternetService', 'OnlineSecurity', 'OnlineBackup', 'DeviceProtection', 'TechSupport', 'StreamingTV', 'StreamingMovies']\n"
     ]
    },
    {
     "data": {
      "text/html": [
       "<div>\n",
       "<style scoped>\n",
       "    .dataframe tbody tr th:only-of-type {\n",
       "        vertical-align: middle;\n",
       "    }\n",
       "\n",
       "    .dataframe tbody tr th {\n",
       "        vertical-align: top;\n",
       "    }\n",
       "\n",
       "    .dataframe thead th {\n",
       "        text-align: right;\n",
       "    }\n",
       "</style>\n",
       "<table border=\"1\" class=\"dataframe\">\n",
       "  <thead>\n",
       "    <tr style=\"text-align: right;\">\n",
       "      <th></th>\n",
       "      <th>Type</th>\n",
       "      <th>PaperlessBilling</th>\n",
       "      <th>PaymentMethod</th>\n",
       "      <th>gender</th>\n",
       "      <th>Partner</th>\n",
       "      <th>OnlineSecurity</th>\n",
       "      <th>OnlineBackup</th>\n",
       "      <th>DeviceProtection</th>\n",
       "    </tr>\n",
       "  </thead>\n",
       "  <tbody>\n",
       "    <tr>\n",
       "      <th>Type</th>\n",
       "      <td>1.0</td>\n",
       "      <td>0.0</td>\n",
       "      <td>0.0</td>\n",
       "      <td>0.0</td>\n",
       "      <td>0.0</td>\n",
       "      <td>0.0</td>\n",
       "      <td>0.0</td>\n",
       "      <td>0.0</td>\n",
       "    </tr>\n",
       "    <tr>\n",
       "      <th>PaperlessBilling</th>\n",
       "      <td>0.0</td>\n",
       "      <td>1.0</td>\n",
       "      <td>0.0</td>\n",
       "      <td>0.0</td>\n",
       "      <td>0.0</td>\n",
       "      <td>0.0</td>\n",
       "      <td>0.0</td>\n",
       "      <td>0.0</td>\n",
       "    </tr>\n",
       "    <tr>\n",
       "      <th>PaymentMethod</th>\n",
       "      <td>0.0</td>\n",
       "      <td>0.0</td>\n",
       "      <td>1.0</td>\n",
       "      <td>0.0</td>\n",
       "      <td>0.0</td>\n",
       "      <td>0.0</td>\n",
       "      <td>0.0</td>\n",
       "      <td>0.0</td>\n",
       "    </tr>\n",
       "    <tr>\n",
       "      <th>gender</th>\n",
       "      <td>0.0</td>\n",
       "      <td>0.0</td>\n",
       "      <td>0.0</td>\n",
       "      <td>1.0</td>\n",
       "      <td>0.0</td>\n",
       "      <td>0.0</td>\n",
       "      <td>0.0</td>\n",
       "      <td>0.0</td>\n",
       "    </tr>\n",
       "    <tr>\n",
       "      <th>Partner</th>\n",
       "      <td>0.0</td>\n",
       "      <td>0.0</td>\n",
       "      <td>0.0</td>\n",
       "      <td>0.0</td>\n",
       "      <td>1.0</td>\n",
       "      <td>0.0</td>\n",
       "      <td>0.0</td>\n",
       "      <td>0.0</td>\n",
       "    </tr>\n",
       "    <tr>\n",
       "      <th>OnlineSecurity</th>\n",
       "      <td>0.0</td>\n",
       "      <td>0.0</td>\n",
       "      <td>0.0</td>\n",
       "      <td>0.0</td>\n",
       "      <td>0.0</td>\n",
       "      <td>1.0</td>\n",
       "      <td>0.0</td>\n",
       "      <td>0.0</td>\n",
       "    </tr>\n",
       "    <tr>\n",
       "      <th>OnlineBackup</th>\n",
       "      <td>0.0</td>\n",
       "      <td>0.0</td>\n",
       "      <td>0.0</td>\n",
       "      <td>0.0</td>\n",
       "      <td>0.0</td>\n",
       "      <td>0.0</td>\n",
       "      <td>1.0</td>\n",
       "      <td>0.0</td>\n",
       "    </tr>\n",
       "    <tr>\n",
       "      <th>DeviceProtection</th>\n",
       "      <td>0.0</td>\n",
       "      <td>0.0</td>\n",
       "      <td>0.0</td>\n",
       "      <td>0.0</td>\n",
       "      <td>0.0</td>\n",
       "      <td>0.0</td>\n",
       "      <td>0.0</td>\n",
       "      <td>1.0</td>\n",
       "    </tr>\n",
       "  </tbody>\n",
       "</table>\n",
       "</div>"
      ],
      "text/plain": [
       "                  Type  PaperlessBilling  PaymentMethod  gender  Partner  \\\n",
       "Type               1.0               0.0            0.0     0.0      0.0   \n",
       "PaperlessBilling   0.0               1.0            0.0     0.0      0.0   \n",
       "PaymentMethod      0.0               0.0            1.0     0.0      0.0   \n",
       "gender             0.0               0.0            0.0     1.0      0.0   \n",
       "Partner            0.0               0.0            0.0     0.0      1.0   \n",
       "OnlineSecurity     0.0               0.0            0.0     0.0      0.0   \n",
       "OnlineBackup       0.0               0.0            0.0     0.0      0.0   \n",
       "DeviceProtection   0.0               0.0            0.0     0.0      0.0   \n",
       "\n",
       "                  OnlineSecurity  OnlineBackup  DeviceProtection  \n",
       "Type                         0.0           0.0               0.0  \n",
       "PaperlessBilling             0.0           0.0               0.0  \n",
       "PaymentMethod                0.0           0.0               0.0  \n",
       "gender                       0.0           0.0               0.0  \n",
       "Partner                      0.0           0.0               0.0  \n",
       "OnlineSecurity               1.0           0.0               0.0  \n",
       "OnlineBackup                 0.0           1.0               0.0  \n",
       "DeviceProtection             0.0           0.0               1.0  "
      ]
     },
     "execution_count": 169,
     "metadata": {},
     "output_type": "execute_result"
    }
   ],
   "source": [
    "phik_overview = df_enc_dropped.phik_matrix()\n",
    "phik_overview.round(2)"
   ]
  },
  {
   "cell_type": "code",
   "execution_count": 171,
   "id": "b1a86e13",
   "metadata": {},
   "outputs": [],
   "source": [
    "interval_cols =['Type', 'PaperlessBilling', 'PaymentMethod', 'gender','SeniorCitizen','Partner',\n",
    "                          'Dependents', 'MultipleLines', 'InternetService', 'OnlineSecurity', 'OnlineBackup',\n",
    "                          'DeviceProtection', 'TechSupport', 'StreamingTV', 'StreamingMovies']\n",
    "phik_overview = df_enc_dropped.phik_matrix(interval_cols=interval_cols)"
   ]
  },
  {
   "cell_type": "code",
   "execution_count": 247,
   "id": "7e977f11",
   "metadata": {},
   "outputs": [
    {
     "data": {
      "image/png": "[encoded data removed]",
      "text/plain": [
       "<Figure size 1000x1000 with 2 Axes>"
      ]
     },
     "metadata": {},
     "output_type": "display_data"
    }
   ],
   "source": [
    "plot_correlation_matrix(phik_overview.values, \n",
    "                        x_labels=phik_overview.columns, \n",
    "                        y_labels=phik_overview.index, \n",
    "                        vmin=0, vmax=1, color_map=\"Greens\", \n",
    "                        title=r\"correlation $\\phi_K$\", \n",
    "                        fontsize_factor=1.5, \n",
    "                        figsize=(10, 10))\n",
    "plt.tight_layout();"
   ]
  },
  {
   "cell_type": "markdown",
   "id": "412bfb91",
   "metadata": {},
   "source": [
    "<div class=\"alert alert-info\"> <b>Юлия:</b>\n",
    "Не понимаю, как интерпретировать выдачу VIF, Phi_K. Признаки оставила, как есть, для дальнейшего анализа.\n",
    "</div>\n"
   ]
  },
  {
   "cell_type": "markdown",
   "id": "8e812693",
   "metadata": {},
   "source": [
    "<div class=\"alert alert-danger\">\n",
    "<b>Комментарий ревьюера V2: &#10060; </b> Пример использования <a href = \"https://towardsdatascience.com/phik-k-get-familiar-with-the-latest-correlation-coefficient-9ba0032b37e7\">Phi_k</a></div>"
   ]
  },
  {
   "cell_type": "markdown",
   "id": "049c6a04",
   "metadata": {},
   "source": [
    "<div class=\"alert alert-info\"> <b>Юлия:</b>\n",
    "Числовой признак исключила, матрицу построила.\n",
    "</div>\n"
   ]
  },
  {
   "cell_type": "markdown",
   "id": "5bbfd8cf",
   "metadata": {},
   "source": [
    "### *Вывод:* Категориальных признаков с высокой мультиколлинеарностью в данных нет."
   ]
  },
  {
   "cell_type": "markdown",
   "id": "3ab44d41",
   "metadata": {},
   "source": [
    "## 3 Модели\n",
    "\n",
    "### 3.1 Деление выборки на подвыборки\n",
    "\n",
    "```\n",
    "- 75% train_data\n",
    "- 25% test_data\n",
    "```"
   ]
  },
  {
   "cell_type": "code",
   "execution_count": 176,
   "id": "b2815894",
   "metadata": {},
   "outputs": [],
   "source": [
    "data = df_filled.drop(columns='customerID').copy()"
   ]
  },
  {
   "cell_type": "markdown",
   "id": "3bdb1270",
   "metadata": {},
   "source": [
    "<div class=\"alert alert-danger\">\n",
    "<b>Комментарий ревьюера V2: &#10060; </b> Стоит удалить айди и даты из итогового датафрейма </div>"
   ]
  },
  {
   "cell_type": "markdown",
   "id": "db79d454",
   "metadata": {},
   "source": [
    "<div class=\"alert alert-info\"> <b>Юлия:</b>\n",
    "Построила.\n",
    "</div>\n"
   ]
  },
  {
   "cell_type": "code",
   "execution_count": 179,
   "id": "fb54da48",
   "metadata": {},
   "outputs": [
    {
     "data": {
      "text/plain": [
       "Index(['churned', 'Type', 'PaperlessBilling', 'PaymentMethod',\n",
       "       'MonthlyCharges', 'TotalCharges', 'begin_date', 'end_date', 'gender',\n",
       "       'SeniorCitizen', 'Partner', 'Dependents', 'MultipleLines',\n",
       "       'InternetService', 'OnlineSecurity', 'OnlineBackup', 'DeviceProtection',\n",
       "       'TechSupport', 'StreamingTV', 'StreamingMovies'],\n",
       "      dtype='object')"
      ]
     },
     "execution_count": 179,
     "metadata": {},
     "output_type": "execute_result"
    }
   ],
   "source": [
    "data.columns"
   ]
  },
  {
   "cell_type": "code",
   "execution_count": 180,
   "id": "a8f0c40e",
   "metadata": {},
   "outputs": [
    {
     "name": "stdout",
     "output_type": "stream",
     "text": [
      "Размер обучающей выборки: 5282\n",
      "Размер тестовой выборки: 1761\n"
     ]
    }
   ],
   "source": [
    "train_data, test_data = train_test_split(data, test_size=0.25, random_state=RANDOM_STATE)\n",
    "\n",
    "print('Размер обучающей выборки:', train_data.shape[0])\n",
    "print('Размер тестовой выборки:', test_data.shape[0])"
   ]
  },
  {
   "cell_type": "markdown",
   "id": "f7fa5f3c",
   "metadata": {},
   "source": [
    "### 3.2 Кодирование признаков (после деления выборки на подвыборки)\n",
    "\n",
    "Есть несколько способов, как кодировать переменные:\n",
    "\n",
    "- get_dummies()\n",
    "- OHE\n",
    "- OrdinalEncoding\n",
    "- LabelEncoding\n",
    "\n",
    "Мы не хотим увеличивать количество колонок, поэтому в рамках данного проекта выбираем способ *OrdinalEncoding()*."
   ]
  },
  {
   "cell_type": "code",
   "execution_count": 181,
   "id": "453ea025",
   "metadata": {},
   "outputs": [
    {
     "name": "stdout",
     "output_type": "stream",
     "text": [
      "<class 'pandas.core.frame.DataFrame'>\n",
      "Int64Index: 7043 entries, 0 to 7042\n",
      "Data columns (total 20 columns):\n",
      " #   Column            Non-Null Count  Dtype  \n",
      "---  ------            --------------  -----  \n",
      " 0   churned           7043 non-null   int64  \n",
      " 1   Type              7043 non-null   object \n",
      " 2   PaperlessBilling  7043 non-null   object \n",
      " 3   PaymentMethod     7043 non-null   object \n",
      " 4   MonthlyCharges    7043 non-null   float64\n",
      " 5   TotalCharges      7043 non-null   float64\n",
      " 6   begin_date        7043 non-null   object \n",
      " 7   end_date          7043 non-null   object \n",
      " 8   gender            7043 non-null   object \n",
      " 9   SeniorCitizen     7043 non-null   int64  \n",
      " 10  Partner           7043 non-null   object \n",
      " 11  Dependents        7043 non-null   object \n",
      " 12  MultipleLines     7043 non-null   object \n",
      " 13  InternetService   7043 non-null   object \n",
      " 14  OnlineSecurity    7043 non-null   object \n",
      " 15  OnlineBackup      7043 non-null   object \n",
      " 16  DeviceProtection  7043 non-null   object \n",
      " 17  TechSupport       7043 non-null   object \n",
      " 18  StreamingTV       7043 non-null   object \n",
      " 19  StreamingMovies   7043 non-null   object \n",
      "dtypes: float64(2), int64(2), object(16)\n",
      "memory usage: 1.4+ MB\n"
     ]
    }
   ],
   "source": [
    "data.info()"
   ]
  },
  {
   "cell_type": "markdown",
   "id": "8ec58bae",
   "metadata": {},
   "source": [
    "### Признаки, которые необходимо кодировать (только категориальные):\n",
    "```\n",
    "'Type',\n",
    "'PaperlessBilling',\n",
    "'PaymentMethod',\n",
    "'gender',\n",
    "'Partner',\n",
    "'Dependents',\n",
    "'MultipleLines',\n",
    "'InternetService',\n",
    "'OnlineSecurity',\n",
    "'OnlineBackup',\n",
    "'DeviceProtection',\n",
    "'TechSupport',\n",
    "'StreamingTV',\n",
    "'StreamingMovies'\n",
    "\n",
    "```"
   ]
  },
  {
   "cell_type": "code",
   "execution_count": 183,
   "id": "e4ab0c30",
   "metadata": {},
   "outputs": [],
   "source": [
    "# define ordinal encoding\n",
    "ordinalencoder = OrdinalEncoder()"
   ]
  },
  {
   "cell_type": "code",
   "execution_count": 184,
   "id": "6d0c47f2",
   "metadata": {},
   "outputs": [
    {
     "name": "stdout",
     "output_type": "stream",
     "text": [
      "<class 'pandas.core.frame.DataFrame'>\n"
     ]
    },
    {
     "data": {
      "text/html": [
       "<div>\n",
       "<style scoped>\n",
       "    .dataframe tbody tr th:only-of-type {\n",
       "        vertical-align: middle;\n",
       "    }\n",
       "\n",
       "    .dataframe tbody tr th {\n",
       "        vertical-align: top;\n",
       "    }\n",
       "\n",
       "    .dataframe thead th {\n",
       "        text-align: right;\n",
       "    }\n",
       "</style>\n",
       "<table border=\"1\" class=\"dataframe\">\n",
       "  <thead>\n",
       "    <tr style=\"text-align: right;\">\n",
       "      <th></th>\n",
       "      <th>0</th>\n",
       "      <th>1</th>\n",
       "      <th>2</th>\n",
       "      <th>3</th>\n",
       "      <th>4</th>\n",
       "      <th>5</th>\n",
       "      <th>6</th>\n",
       "      <th>7</th>\n",
       "      <th>8</th>\n",
       "      <th>9</th>\n",
       "      <th>10</th>\n",
       "      <th>11</th>\n",
       "      <th>12</th>\n",
       "      <th>13</th>\n",
       "    </tr>\n",
       "  </thead>\n",
       "  <tbody>\n",
       "    <tr>\n",
       "      <th>0</th>\n",
       "      <td>0.0</td>\n",
       "      <td>0.0</td>\n",
       "      <td>3.0</td>\n",
       "      <td>0.0</td>\n",
       "      <td>0.0</td>\n",
       "      <td>0.0</td>\n",
       "      <td>0.0</td>\n",
       "      <td>1.0</td>\n",
       "      <td>0.0</td>\n",
       "      <td>0.0</td>\n",
       "      <td>0.0</td>\n",
       "      <td>0.0</td>\n",
       "      <td>0.0</td>\n",
       "      <td>0.0</td>\n",
       "    </tr>\n",
       "    <tr>\n",
       "      <th>1</th>\n",
       "      <td>0.0</td>\n",
       "      <td>1.0</td>\n",
       "      <td>2.0</td>\n",
       "      <td>0.0</td>\n",
       "      <td>0.0</td>\n",
       "      <td>0.0</td>\n",
       "      <td>1.0</td>\n",
       "      <td>1.0</td>\n",
       "      <td>0.0</td>\n",
       "      <td>1.0</td>\n",
       "      <td>1.0</td>\n",
       "      <td>0.0</td>\n",
       "      <td>1.0</td>\n",
       "      <td>1.0</td>\n",
       "    </tr>\n",
       "    <tr>\n",
       "      <th>2</th>\n",
       "      <td>2.0</td>\n",
       "      <td>0.0</td>\n",
       "      <td>3.0</td>\n",
       "      <td>0.0</td>\n",
       "      <td>1.0</td>\n",
       "      <td>0.0</td>\n",
       "      <td>1.0</td>\n",
       "      <td>1.0</td>\n",
       "      <td>1.0</td>\n",
       "      <td>1.0</td>\n",
       "      <td>1.0</td>\n",
       "      <td>1.0</td>\n",
       "      <td>1.0</td>\n",
       "      <td>1.0</td>\n",
       "    </tr>\n",
       "  </tbody>\n",
       "</table>\n",
       "</div>"
      ],
      "text/plain": [
       "    0    1    2    3    4    5    6    7    8    9    10   11   12   13\n",
       "0  0.0  0.0  3.0  0.0  0.0  0.0  0.0  1.0  0.0  0.0  0.0  0.0  0.0  0.0\n",
       "1  0.0  1.0  2.0  0.0  0.0  0.0  1.0  1.0  0.0  1.0  1.0  0.0  1.0  1.0\n",
       "2  2.0  0.0  3.0  0.0  1.0  0.0  1.0  1.0  1.0  1.0  1.0  1.0  1.0  1.0"
      ]
     },
     "execution_count": 184,
     "metadata": {},
     "output_type": "execute_result"
    }
   ],
   "source": [
    "# transform data\n",
    "result_train = ordinalencoder.set_params(encoded_missing_value=-1).fit_transform(train_data[['Type',\n",
    "                                            'PaperlessBilling',\n",
    "                                            'PaymentMethod',\n",
    "                                            'gender',\n",
    "                                            'Partner',\n",
    "                                            'Dependents',\n",
    "                                            'MultipleLines',\n",
    "                                            'InternetService',\n",
    "                                            'OnlineSecurity',\n",
    "                                            'OnlineBackup',\n",
    "                                            'DeviceProtection',\n",
    "                                            'TechSupport',\n",
    "                                            'StreamingTV',\n",
    "                                            'StreamingMovies']])\n",
    "\n",
    "result_train = pd.DataFrame(result_train)\n",
    "\n",
    "print(type(result_train))\n",
    "result_train.head(3)"
   ]
  },
  {
   "cell_type": "code",
   "execution_count": 185,
   "id": "6cf7da47",
   "metadata": {},
   "outputs": [
    {
     "name": "stdout",
     "output_type": "stream",
     "text": [
      "<class 'pandas.core.frame.DataFrame'>\n"
     ]
    },
    {
     "data": {
      "text/html": [
       "<div>\n",
       "<style scoped>\n",
       "    .dataframe tbody tr th:only-of-type {\n",
       "        vertical-align: middle;\n",
       "    }\n",
       "\n",
       "    .dataframe tbody tr th {\n",
       "        vertical-align: top;\n",
       "    }\n",
       "\n",
       "    .dataframe thead th {\n",
       "        text-align: right;\n",
       "    }\n",
       "</style>\n",
       "<table border=\"1\" class=\"dataframe\">\n",
       "  <thead>\n",
       "    <tr style=\"text-align: right;\">\n",
       "      <th></th>\n",
       "      <th>0</th>\n",
       "      <th>1</th>\n",
       "      <th>2</th>\n",
       "      <th>3</th>\n",
       "      <th>4</th>\n",
       "      <th>5</th>\n",
       "      <th>6</th>\n",
       "      <th>7</th>\n",
       "      <th>8</th>\n",
       "      <th>9</th>\n",
       "      <th>10</th>\n",
       "      <th>11</th>\n",
       "      <th>12</th>\n",
       "      <th>13</th>\n",
       "    </tr>\n",
       "  </thead>\n",
       "  <tbody>\n",
       "    <tr>\n",
       "      <th>0</th>\n",
       "      <td>0.0</td>\n",
       "      <td>0.0</td>\n",
       "      <td>3.0</td>\n",
       "      <td>0.0</td>\n",
       "      <td>0.0</td>\n",
       "      <td>0.0</td>\n",
       "      <td>0.0</td>\n",
       "      <td>1.0</td>\n",
       "      <td>0.0</td>\n",
       "      <td>0.0</td>\n",
       "      <td>0.0</td>\n",
       "      <td>0.0</td>\n",
       "      <td>0.0</td>\n",
       "      <td>0.0</td>\n",
       "    </tr>\n",
       "    <tr>\n",
       "      <th>1</th>\n",
       "      <td>0.0</td>\n",
       "      <td>1.0</td>\n",
       "      <td>2.0</td>\n",
       "      <td>0.0</td>\n",
       "      <td>0.0</td>\n",
       "      <td>0.0</td>\n",
       "      <td>1.0</td>\n",
       "      <td>1.0</td>\n",
       "      <td>0.0</td>\n",
       "      <td>1.0</td>\n",
       "      <td>1.0</td>\n",
       "      <td>0.0</td>\n",
       "      <td>1.0</td>\n",
       "      <td>1.0</td>\n",
       "    </tr>\n",
       "    <tr>\n",
       "      <th>2</th>\n",
       "      <td>2.0</td>\n",
       "      <td>0.0</td>\n",
       "      <td>3.0</td>\n",
       "      <td>0.0</td>\n",
       "      <td>1.0</td>\n",
       "      <td>0.0</td>\n",
       "      <td>1.0</td>\n",
       "      <td>1.0</td>\n",
       "      <td>1.0</td>\n",
       "      <td>1.0</td>\n",
       "      <td>1.0</td>\n",
       "      <td>1.0</td>\n",
       "      <td>1.0</td>\n",
       "      <td>1.0</td>\n",
       "    </tr>\n",
       "  </tbody>\n",
       "</table>\n",
       "</div>"
      ],
      "text/plain": [
       "    0    1    2    3    4    5    6    7    8    9    10   11   12   13\n",
       "0  0.0  0.0  3.0  0.0  0.0  0.0  0.0  1.0  0.0  0.0  0.0  0.0  0.0  0.0\n",
       "1  0.0  1.0  2.0  0.0  0.0  0.0  1.0  1.0  0.0  1.0  1.0  0.0  1.0  1.0\n",
       "2  2.0  0.0  3.0  0.0  1.0  0.0  1.0  1.0  1.0  1.0  1.0  1.0  1.0  1.0"
      ]
     },
     "execution_count": 185,
     "metadata": {},
     "output_type": "execute_result"
    }
   ],
   "source": [
    "# transform data\n",
    "result_test = ordinalencoder.set_params(encoded_missing_value=-1).transform(test_data[['Type',\n",
    "                                            'PaperlessBilling',\n",
    "                                            'PaymentMethod',\n",
    "                                            'gender',\n",
    "                                            'Partner',\n",
    "                                            'Dependents',\n",
    "                                            'MultipleLines',\n",
    "                                            'InternetService',\n",
    "                                            'OnlineSecurity',\n",
    "                                            'OnlineBackup',\n",
    "                                            'DeviceProtection',\n",
    "                                            'TechSupport',\n",
    "                                            'StreamingTV',\n",
    "                                            'StreamingMovies']])\n",
    "\n",
    "result_test = pd.DataFrame(result_test)\n",
    "\n",
    "print(type(result_train))\n",
    "result_train.head(3)"
   ]
  },
  {
   "cell_type": "markdown",
   "id": "fe6e3648",
   "metadata": {},
   "source": [
    "<div class=\"alert alert-danger\">\n",
    "<b>Комментарий ревьюера: &#10060; </b> Кодирование и масштабирование признаков производится только после разбиения на трейн и тест, так же численные признаки не надо кодировать</div>"
   ]
  },
  {
   "cell_type": "markdown",
   "id": "2eba1bef",
   "metadata": {},
   "source": [
    "<div class=\"alert alert-danger\">\n",
    "<b>Комментарий ревьюера V2: &#10060; </b> Не совсем так, на трейне fit_transform, на тесте - transform</div>"
   ]
  },
  {
   "cell_type": "markdown",
   "id": "c442f159",
   "metadata": {},
   "source": [
    "<div class=\"alert alert-info\"> <b>Юлия:</b>\n",
    "Поправила.\n",
    "</div>\n"
   ]
  },
  {
   "cell_type": "code",
   "execution_count": 186,
   "id": "a78543f2",
   "metadata": {},
   "outputs": [],
   "source": [
    "# объединим закодированные колонки и наш основной датасет (с удаленными категориальными признаками)\n",
    "train_enc = train_data.join(result_train)"
   ]
  },
  {
   "cell_type": "code",
   "execution_count": 187,
   "id": "fcad62dc",
   "metadata": {},
   "outputs": [],
   "source": [
    "# объединим закодированные колонки и наш основной датасет (с удаленными категориальными признаками)\n",
    "test_enc = test_data.join(result_test)"
   ]
  },
  {
   "cell_type": "code",
   "execution_count": 188,
   "id": "0dcc5fec",
   "metadata": {},
   "outputs": [
    {
     "data": {
      "text/html": [
       "<div>\n",
       "<style scoped>\n",
       "    .dataframe tbody tr th:only-of-type {\n",
       "        vertical-align: middle;\n",
       "    }\n",
       "\n",
       "    .dataframe tbody tr th {\n",
       "        vertical-align: top;\n",
       "    }\n",
       "\n",
       "    .dataframe thead th {\n",
       "        text-align: right;\n",
       "    }\n",
       "</style>\n",
       "<table border=\"1\" class=\"dataframe\">\n",
       "  <thead>\n",
       "    <tr style=\"text-align: right;\">\n",
       "      <th></th>\n",
       "      <th>churned</th>\n",
       "      <th>MonthlyCharges</th>\n",
       "      <th>TotalCharges</th>\n",
       "      <th>begin_date</th>\n",
       "      <th>end_date</th>\n",
       "      <th>SeniorCitizen</th>\n",
       "      <th>0</th>\n",
       "      <th>1</th>\n",
       "      <th>2</th>\n",
       "      <th>3</th>\n",
       "      <th>4</th>\n",
       "      <th>5</th>\n",
       "      <th>6</th>\n",
       "      <th>7</th>\n",
       "      <th>8</th>\n",
       "      <th>9</th>\n",
       "      <th>10</th>\n",
       "      <th>11</th>\n",
       "      <th>12</th>\n",
       "      <th>13</th>\n",
       "    </tr>\n",
       "  </thead>\n",
       "  <tbody>\n",
       "    <tr>\n",
       "      <th>4476</th>\n",
       "      <td>0</td>\n",
       "      <td>20.90</td>\n",
       "      <td>20.0</td>\n",
       "      <td>2019-09-01</td>\n",
       "      <td>2019-10-01</td>\n",
       "      <td>0</td>\n",
       "      <td>0.0</td>\n",
       "      <td>0.0</td>\n",
       "      <td>3.0</td>\n",
       "      <td>0.0</td>\n",
       "      <td>1.0</td>\n",
       "      <td>1.0</td>\n",
       "      <td>0.0</td>\n",
       "      <td>1.0</td>\n",
       "      <td>0.0</td>\n",
       "      <td>0.0</td>\n",
       "      <td>0.0</td>\n",
       "      <td>0.0</td>\n",
       "      <td>0.0</td>\n",
       "      <td>0.0</td>\n",
       "    </tr>\n",
       "    <tr>\n",
       "      <th>2474</th>\n",
       "      <td>1</td>\n",
       "      <td>106.35</td>\n",
       "      <td>4849.0</td>\n",
       "      <td>2016-03-01</td>\n",
       "      <td>2020-02-01</td>\n",
       "      <td>0</td>\n",
       "      <td>0.0</td>\n",
       "      <td>1.0</td>\n",
       "      <td>3.0</td>\n",
       "      <td>1.0</td>\n",
       "      <td>1.0</td>\n",
       "      <td>0.0</td>\n",
       "      <td>0.0</td>\n",
       "      <td>0.0</td>\n",
       "      <td>0.0</td>\n",
       "      <td>0.0</td>\n",
       "      <td>1.0</td>\n",
       "      <td>0.0</td>\n",
       "      <td>1.0</td>\n",
       "      <td>1.0</td>\n",
       "    </tr>\n",
       "    <tr>\n",
       "      <th>6077</th>\n",
       "      <td>1</td>\n",
       "      <td>113.95</td>\n",
       "      <td>6891.0</td>\n",
       "      <td>2014-12-01</td>\n",
       "      <td>2020-02-01</td>\n",
       "      <td>0</td>\n",
       "      <td>NaN</td>\n",
       "      <td>NaN</td>\n",
       "      <td>NaN</td>\n",
       "      <td>NaN</td>\n",
       "      <td>NaN</td>\n",
       "      <td>NaN</td>\n",
       "      <td>NaN</td>\n",
       "      <td>NaN</td>\n",
       "      <td>NaN</td>\n",
       "      <td>NaN</td>\n",
       "      <td>NaN</td>\n",
       "      <td>NaN</td>\n",
       "      <td>NaN</td>\n",
       "      <td>NaN</td>\n",
       "    </tr>\n",
       "    <tr>\n",
       "      <th>2263</th>\n",
       "      <td>0</td>\n",
       "      <td>98.15</td>\n",
       "      <td>567.0</td>\n",
       "      <td>2019-05-01</td>\n",
       "      <td>2019-11-01</td>\n",
       "      <td>0</td>\n",
       "      <td>2.0</td>\n",
       "      <td>0.0</td>\n",
       "      <td>0.0</td>\n",
       "      <td>0.0</td>\n",
       "      <td>1.0</td>\n",
       "      <td>1.0</td>\n",
       "      <td>0.0</td>\n",
       "      <td>1.0</td>\n",
       "      <td>0.0</td>\n",
       "      <td>0.0</td>\n",
       "      <td>0.0</td>\n",
       "      <td>0.0</td>\n",
       "      <td>0.0</td>\n",
       "      <td>0.0</td>\n",
       "    </tr>\n",
       "    <tr>\n",
       "      <th>6731</th>\n",
       "      <td>1</td>\n",
       "      <td>19.55</td>\n",
       "      <td>470.0</td>\n",
       "      <td>2018-02-01</td>\n",
       "      <td>2020-02-01</td>\n",
       "      <td>0</td>\n",
       "      <td>NaN</td>\n",
       "      <td>NaN</td>\n",
       "      <td>NaN</td>\n",
       "      <td>NaN</td>\n",
       "      <td>NaN</td>\n",
       "      <td>NaN</td>\n",
       "      <td>NaN</td>\n",
       "      <td>NaN</td>\n",
       "      <td>NaN</td>\n",
       "      <td>NaN</td>\n",
       "      <td>NaN</td>\n",
       "      <td>NaN</td>\n",
       "      <td>NaN</td>\n",
       "      <td>NaN</td>\n",
       "    </tr>\n",
       "    <tr>\n",
       "      <th>...</th>\n",
       "      <td>...</td>\n",
       "      <td>...</td>\n",
       "      <td>...</td>\n",
       "      <td>...</td>\n",
       "      <td>...</td>\n",
       "      <td>...</td>\n",
       "      <td>...</td>\n",
       "      <td>...</td>\n",
       "      <td>...</td>\n",
       "      <td>...</td>\n",
       "      <td>...</td>\n",
       "      <td>...</td>\n",
       "      <td>...</td>\n",
       "      <td>...</td>\n",
       "      <td>...</td>\n",
       "      <td>...</td>\n",
       "      <td>...</td>\n",
       "      <td>...</td>\n",
       "      <td>...</td>\n",
       "      <td>...</td>\n",
       "    </tr>\n",
       "    <tr>\n",
       "      <th>4441</th>\n",
       "      <td>1</td>\n",
       "      <td>20.25</td>\n",
       "      <td>835.0</td>\n",
       "      <td>2016-08-01</td>\n",
       "      <td>2020-02-01</td>\n",
       "      <td>0</td>\n",
       "      <td>0.0</td>\n",
       "      <td>0.0</td>\n",
       "      <td>3.0</td>\n",
       "      <td>0.0</td>\n",
       "      <td>1.0</td>\n",
       "      <td>1.0</td>\n",
       "      <td>0.0</td>\n",
       "      <td>1.0</td>\n",
       "      <td>0.0</td>\n",
       "      <td>0.0</td>\n",
       "      <td>0.0</td>\n",
       "      <td>0.0</td>\n",
       "      <td>0.0</td>\n",
       "      <td>0.0</td>\n",
       "    </tr>\n",
       "    <tr>\n",
       "      <th>2251</th>\n",
       "      <td>1</td>\n",
       "      <td>69.35</td>\n",
       "      <td>712.0</td>\n",
       "      <td>2019-03-01</td>\n",
       "      <td>2020-02-01</td>\n",
       "      <td>0</td>\n",
       "      <td>0.0</td>\n",
       "      <td>1.0</td>\n",
       "      <td>3.0</td>\n",
       "      <td>1.0</td>\n",
       "      <td>1.0</td>\n",
       "      <td>0.0</td>\n",
       "      <td>0.0</td>\n",
       "      <td>0.0</td>\n",
       "      <td>0.0</td>\n",
       "      <td>1.0</td>\n",
       "      <td>0.0</td>\n",
       "      <td>0.0</td>\n",
       "      <td>0.0</td>\n",
       "      <td>0.0</td>\n",
       "    </tr>\n",
       "    <tr>\n",
       "      <th>1664</th>\n",
       "      <td>0</td>\n",
       "      <td>96.05</td>\n",
       "      <td>4399.0</td>\n",
       "      <td>2015-12-01</td>\n",
       "      <td>2019-10-01</td>\n",
       "      <td>0</td>\n",
       "      <td>1.0</td>\n",
       "      <td>1.0</td>\n",
       "      <td>1.0</td>\n",
       "      <td>1.0</td>\n",
       "      <td>0.0</td>\n",
       "      <td>0.0</td>\n",
       "      <td>0.0</td>\n",
       "      <td>0.0</td>\n",
       "      <td>1.0</td>\n",
       "      <td>0.0</td>\n",
       "      <td>1.0</td>\n",
       "      <td>0.0</td>\n",
       "      <td>0.0</td>\n",
       "      <td>0.0</td>\n",
       "    </tr>\n",
       "    <tr>\n",
       "      <th>6787</th>\n",
       "      <td>1</td>\n",
       "      <td>109.95</td>\n",
       "      <td>3782.0</td>\n",
       "      <td>2017-03-01</td>\n",
       "      <td>2020-02-01</td>\n",
       "      <td>0</td>\n",
       "      <td>NaN</td>\n",
       "      <td>NaN</td>\n",
       "      <td>NaN</td>\n",
       "      <td>NaN</td>\n",
       "      <td>NaN</td>\n",
       "      <td>NaN</td>\n",
       "      <td>NaN</td>\n",
       "      <td>NaN</td>\n",
       "      <td>NaN</td>\n",
       "      <td>NaN</td>\n",
       "      <td>NaN</td>\n",
       "      <td>NaN</td>\n",
       "      <td>NaN</td>\n",
       "      <td>NaN</td>\n",
       "    </tr>\n",
       "    <tr>\n",
       "      <th>6367</th>\n",
       "      <td>1</td>\n",
       "      <td>48.40</td>\n",
       "      <td>3442.0</td>\n",
       "      <td>2014-04-01</td>\n",
       "      <td>2020-02-01</td>\n",
       "      <td>0</td>\n",
       "      <td>NaN</td>\n",
       "      <td>NaN</td>\n",
       "      <td>NaN</td>\n",
       "      <td>NaN</td>\n",
       "      <td>NaN</td>\n",
       "      <td>NaN</td>\n",
       "      <td>NaN</td>\n",
       "      <td>NaN</td>\n",
       "      <td>NaN</td>\n",
       "      <td>NaN</td>\n",
       "      <td>NaN</td>\n",
       "      <td>NaN</td>\n",
       "      <td>NaN</td>\n",
       "      <td>NaN</td>\n",
       "    </tr>\n",
       "  </tbody>\n",
       "</table>\n",
       "<p>5282 rows × 20 columns</p>\n",
       "</div>"
      ],
      "text/plain": [
       "      churned  MonthlyCharges  TotalCharges  begin_date    end_date  \\\n",
       "4476        0           20.90          20.0  2019-09-01  2019-10-01   \n",
       "2474        1          106.35        4849.0  2016-03-01  2020-02-01   \n",
       "6077        1          113.95        6891.0  2014-12-01  2020-02-01   \n",
       "2263        0           98.15         567.0  2019-05-01  2019-11-01   \n",
       "6731        1           19.55         470.0  2018-02-01  2020-02-01   \n",
       "...       ...             ...           ...         ...         ...   \n",
       "4441        1           20.25         835.0  2016-08-01  2020-02-01   \n",
       "2251        1           69.35         712.0  2019-03-01  2020-02-01   \n",
       "1664        0           96.05        4399.0  2015-12-01  2019-10-01   \n",
       "6787        1          109.95        3782.0  2017-03-01  2020-02-01   \n",
       "6367        1           48.40        3442.0  2014-04-01  2020-02-01   \n",
       "\n",
       "      SeniorCitizen    0    1    2    3    4    5    6    7    8    9   10  \\\n",
       "4476              0  0.0  0.0  3.0  0.0  1.0  1.0  0.0  1.0  0.0  0.0  0.0   \n",
       "2474              0  0.0  1.0  3.0  1.0  1.0  0.0  0.0  0.0  0.0  0.0  1.0   \n",
       "6077              0  NaN  NaN  NaN  NaN  NaN  NaN  NaN  NaN  NaN  NaN  NaN   \n",
       "2263              0  2.0  0.0  0.0  0.0  1.0  1.0  0.0  1.0  0.0  0.0  0.0   \n",
       "6731              0  NaN  NaN  NaN  NaN  NaN  NaN  NaN  NaN  NaN  NaN  NaN   \n",
       "...             ...  ...  ...  ...  ...  ...  ...  ...  ...  ...  ...  ...   \n",
       "4441              0  0.0  0.0  3.0  0.0  1.0  1.0  0.0  1.0  0.0  0.0  0.0   \n",
       "2251              0  0.0  1.0  3.0  1.0  1.0  0.0  0.0  0.0  0.0  1.0  0.0   \n",
       "1664              0  1.0  1.0  1.0  1.0  0.0  0.0  0.0  0.0  1.0  0.0  1.0   \n",
       "6787              0  NaN  NaN  NaN  NaN  NaN  NaN  NaN  NaN  NaN  NaN  NaN   \n",
       "6367              0  NaN  NaN  NaN  NaN  NaN  NaN  NaN  NaN  NaN  NaN  NaN   \n",
       "\n",
       "       11   12   13  \n",
       "4476  0.0  0.0  0.0  \n",
       "2474  0.0  1.0  1.0  \n",
       "6077  NaN  NaN  NaN  \n",
       "2263  0.0  0.0  0.0  \n",
       "6731  NaN  NaN  NaN  \n",
       "...   ...  ...  ...  \n",
       "4441  0.0  0.0  0.0  \n",
       "2251  0.0  0.0  0.0  \n",
       "1664  0.0  0.0  0.0  \n",
       "6787  NaN  NaN  NaN  \n",
       "6367  NaN  NaN  NaN  \n",
       "\n",
       "[5282 rows x 20 columns]"
      ]
     },
     "execution_count": 188,
     "metadata": {},
     "output_type": "execute_result"
    }
   ],
   "source": [
    "# удалим колонки, которые хотим кодировать\n",
    "train_dropped = train_enc.drop(['Type','PaperlessBilling',\n",
    "                                            'PaymentMethod',\n",
    "                                            'gender',\n",
    "                                            'Partner',\n",
    "                                            'Dependents',\n",
    "                                            'MultipleLines',\n",
    "                                            'InternetService',\n",
    "                                            'OnlineSecurity',\n",
    "                                            'OnlineBackup',\n",
    "                                            'DeviceProtection',\n",
    "                                            'TechSupport',\n",
    "                                            'StreamingTV',\n",
    "                                            'StreamingMovies'], axis=1)\n",
    "train_dropped"
   ]
  },
  {
   "cell_type": "code",
   "execution_count": 189,
   "id": "993d2a52",
   "metadata": {},
   "outputs": [
    {
     "data": {
      "text/html": [
       "<div>\n",
       "<style scoped>\n",
       "    .dataframe tbody tr th:only-of-type {\n",
       "        vertical-align: middle;\n",
       "    }\n",
       "\n",
       "    .dataframe tbody tr th {\n",
       "        vertical-align: top;\n",
       "    }\n",
       "\n",
       "    .dataframe thead th {\n",
       "        text-align: right;\n",
       "    }\n",
       "</style>\n",
       "<table border=\"1\" class=\"dataframe\">\n",
       "  <thead>\n",
       "    <tr style=\"text-align: right;\">\n",
       "      <th></th>\n",
       "      <th>churned</th>\n",
       "      <th>MonthlyCharges</th>\n",
       "      <th>TotalCharges</th>\n",
       "      <th>begin_date</th>\n",
       "      <th>end_date</th>\n",
       "      <th>SeniorCitizen</th>\n",
       "      <th>0</th>\n",
       "      <th>1</th>\n",
       "      <th>2</th>\n",
       "      <th>3</th>\n",
       "      <th>4</th>\n",
       "      <th>5</th>\n",
       "      <th>6</th>\n",
       "      <th>7</th>\n",
       "      <th>8</th>\n",
       "      <th>9</th>\n",
       "      <th>10</th>\n",
       "      <th>11</th>\n",
       "      <th>12</th>\n",
       "      <th>13</th>\n",
       "    </tr>\n",
       "  </thead>\n",
       "  <tbody>\n",
       "    <tr>\n",
       "      <th>954</th>\n",
       "      <td>1</td>\n",
       "      <td>95.10</td>\n",
       "      <td>2162.0</td>\n",
       "      <td>2018-04-01</td>\n",
       "      <td>2020-02-01</td>\n",
       "      <td>0</td>\n",
       "      <td>0.0</td>\n",
       "      <td>1.0</td>\n",
       "      <td>0.0</td>\n",
       "      <td>1.0</td>\n",
       "      <td>0.0</td>\n",
       "      <td>1.0</td>\n",
       "      <td>0.0</td>\n",
       "      <td>1.0</td>\n",
       "      <td>1.0</td>\n",
       "      <td>0.0</td>\n",
       "      <td>0.0</td>\n",
       "      <td>0.0</td>\n",
       "      <td>0.0</td>\n",
       "      <td>0.0</td>\n",
       "    </tr>\n",
       "    <tr>\n",
       "      <th>4096</th>\n",
       "      <td>1</td>\n",
       "      <td>89.40</td>\n",
       "      <td>1871.0</td>\n",
       "      <td>2018-06-01</td>\n",
       "      <td>2020-02-01</td>\n",
       "      <td>0</td>\n",
       "      <td>NaN</td>\n",
       "      <td>NaN</td>\n",
       "      <td>NaN</td>\n",
       "      <td>NaN</td>\n",
       "      <td>NaN</td>\n",
       "      <td>NaN</td>\n",
       "      <td>NaN</td>\n",
       "      <td>NaN</td>\n",
       "      <td>NaN</td>\n",
       "      <td>NaN</td>\n",
       "      <td>NaN</td>\n",
       "      <td>NaN</td>\n",
       "      <td>NaN</td>\n",
       "      <td>NaN</td>\n",
       "    </tr>\n",
       "    <tr>\n",
       "      <th>1756</th>\n",
       "      <td>1</td>\n",
       "      <td>74.85</td>\n",
       "      <td>3268.0</td>\n",
       "      <td>2016-06-01</td>\n",
       "      <td>2020-02-01</td>\n",
       "      <td>1</td>\n",
       "      <td>0.0</td>\n",
       "      <td>1.0</td>\n",
       "      <td>2.0</td>\n",
       "      <td>1.0</td>\n",
       "      <td>0.0</td>\n",
       "      <td>0.0</td>\n",
       "      <td>1.0</td>\n",
       "      <td>1.0</td>\n",
       "      <td>0.0</td>\n",
       "      <td>0.0</td>\n",
       "      <td>0.0</td>\n",
       "      <td>0.0</td>\n",
       "      <td>1.0</td>\n",
       "      <td>0.0</td>\n",
       "    </tr>\n",
       "    <tr>\n",
       "      <th>1250</th>\n",
       "      <td>1</td>\n",
       "      <td>103.20</td>\n",
       "      <td>5744.0</td>\n",
       "      <td>2015-06-01</td>\n",
       "      <td>2020-02-01</td>\n",
       "      <td>0</td>\n",
       "      <td>0.0</td>\n",
       "      <td>1.0</td>\n",
       "      <td>2.0</td>\n",
       "      <td>1.0</td>\n",
       "      <td>0.0</td>\n",
       "      <td>0.0</td>\n",
       "      <td>1.0</td>\n",
       "      <td>1.0</td>\n",
       "      <td>0.0</td>\n",
       "      <td>0.0</td>\n",
       "      <td>0.0</td>\n",
       "      <td>0.0</td>\n",
       "      <td>0.0</td>\n",
       "      <td>0.0</td>\n",
       "    </tr>\n",
       "    <tr>\n",
       "      <th>6742</th>\n",
       "      <td>1</td>\n",
       "      <td>79.20</td>\n",
       "      <td>4016.0</td>\n",
       "      <td>2015-10-01</td>\n",
       "      <td>2020-02-01</td>\n",
       "      <td>0</td>\n",
       "      <td>NaN</td>\n",
       "      <td>NaN</td>\n",
       "      <td>NaN</td>\n",
       "      <td>NaN</td>\n",
       "      <td>NaN</td>\n",
       "      <td>NaN</td>\n",
       "      <td>NaN</td>\n",
       "      <td>NaN</td>\n",
       "      <td>NaN</td>\n",
       "      <td>NaN</td>\n",
       "      <td>NaN</td>\n",
       "      <td>NaN</td>\n",
       "      <td>NaN</td>\n",
       "      <td>NaN</td>\n",
       "    </tr>\n",
       "    <tr>\n",
       "      <th>...</th>\n",
       "      <td>...</td>\n",
       "      <td>...</td>\n",
       "      <td>...</td>\n",
       "      <td>...</td>\n",
       "      <td>...</td>\n",
       "      <td>...</td>\n",
       "      <td>...</td>\n",
       "      <td>...</td>\n",
       "      <td>...</td>\n",
       "      <td>...</td>\n",
       "      <td>...</td>\n",
       "      <td>...</td>\n",
       "      <td>...</td>\n",
       "      <td>...</td>\n",
       "      <td>...</td>\n",
       "      <td>...</td>\n",
       "      <td>...</td>\n",
       "      <td>...</td>\n",
       "      <td>...</td>\n",
       "      <td>...</td>\n",
       "    </tr>\n",
       "    <tr>\n",
       "      <th>2442</th>\n",
       "      <td>0</td>\n",
       "      <td>84.80</td>\n",
       "      <td>546.0</td>\n",
       "      <td>2019-03-01</td>\n",
       "      <td>2019-10-01</td>\n",
       "      <td>1</td>\n",
       "      <td>NaN</td>\n",
       "      <td>NaN</td>\n",
       "      <td>NaN</td>\n",
       "      <td>NaN</td>\n",
       "      <td>NaN</td>\n",
       "      <td>NaN</td>\n",
       "      <td>NaN</td>\n",
       "      <td>NaN</td>\n",
       "      <td>NaN</td>\n",
       "      <td>NaN</td>\n",
       "      <td>NaN</td>\n",
       "      <td>NaN</td>\n",
       "      <td>NaN</td>\n",
       "      <td>NaN</td>\n",
       "    </tr>\n",
       "    <tr>\n",
       "      <th>428</th>\n",
       "      <td>1</td>\n",
       "      <td>75.60</td>\n",
       "      <td>1395.0</td>\n",
       "      <td>2018-08-01</td>\n",
       "      <td>2020-02-01</td>\n",
       "      <td>0</td>\n",
       "      <td>0.0</td>\n",
       "      <td>1.0</td>\n",
       "      <td>2.0</td>\n",
       "      <td>0.0</td>\n",
       "      <td>0.0</td>\n",
       "      <td>0.0</td>\n",
       "      <td>1.0</td>\n",
       "      <td>1.0</td>\n",
       "      <td>0.0</td>\n",
       "      <td>0.0</td>\n",
       "      <td>0.0</td>\n",
       "      <td>0.0</td>\n",
       "      <td>0.0</td>\n",
       "      <td>0.0</td>\n",
       "    </tr>\n",
       "    <tr>\n",
       "      <th>2876</th>\n",
       "      <td>1</td>\n",
       "      <td>19.70</td>\n",
       "      <td>386.0</td>\n",
       "      <td>2018-07-01</td>\n",
       "      <td>2020-02-01</td>\n",
       "      <td>0</td>\n",
       "      <td>NaN</td>\n",
       "      <td>NaN</td>\n",
       "      <td>NaN</td>\n",
       "      <td>NaN</td>\n",
       "      <td>NaN</td>\n",
       "      <td>NaN</td>\n",
       "      <td>NaN</td>\n",
       "      <td>NaN</td>\n",
       "      <td>NaN</td>\n",
       "      <td>NaN</td>\n",
       "      <td>NaN</td>\n",
       "      <td>NaN</td>\n",
       "      <td>NaN</td>\n",
       "      <td>NaN</td>\n",
       "    </tr>\n",
       "    <tr>\n",
       "      <th>3872</th>\n",
       "      <td>1</td>\n",
       "      <td>103.10</td>\n",
       "      <td>970.0</td>\n",
       "      <td>2019-05-01</td>\n",
       "      <td>2020-02-01</td>\n",
       "      <td>0</td>\n",
       "      <td>NaN</td>\n",
       "      <td>NaN</td>\n",
       "      <td>NaN</td>\n",
       "      <td>NaN</td>\n",
       "      <td>NaN</td>\n",
       "      <td>NaN</td>\n",
       "      <td>NaN</td>\n",
       "      <td>NaN</td>\n",
       "      <td>NaN</td>\n",
       "      <td>NaN</td>\n",
       "      <td>NaN</td>\n",
       "      <td>NaN</td>\n",
       "      <td>NaN</td>\n",
       "      <td>NaN</td>\n",
       "    </tr>\n",
       "    <tr>\n",
       "      <th>436</th>\n",
       "      <td>1</td>\n",
       "      <td>20.85</td>\n",
       "      <td>720.0</td>\n",
       "      <td>2017-02-01</td>\n",
       "      <td>2020-02-01</td>\n",
       "      <td>0</td>\n",
       "      <td>0.0</td>\n",
       "      <td>1.0</td>\n",
       "      <td>2.0</td>\n",
       "      <td>1.0</td>\n",
       "      <td>1.0</td>\n",
       "      <td>0.0</td>\n",
       "      <td>0.0</td>\n",
       "      <td>0.0</td>\n",
       "      <td>0.0</td>\n",
       "      <td>0.0</td>\n",
       "      <td>0.0</td>\n",
       "      <td>0.0</td>\n",
       "      <td>1.0</td>\n",
       "      <td>1.0</td>\n",
       "    </tr>\n",
       "  </tbody>\n",
       "</table>\n",
       "<p>1761 rows × 20 columns</p>\n",
       "</div>"
      ],
      "text/plain": [
       "      churned  MonthlyCharges  TotalCharges  begin_date    end_date  \\\n",
       "954         1           95.10        2162.0  2018-04-01  2020-02-01   \n",
       "4096        1           89.40        1871.0  2018-06-01  2020-02-01   \n",
       "1756        1           74.85        3268.0  2016-06-01  2020-02-01   \n",
       "1250        1          103.20        5744.0  2015-06-01  2020-02-01   \n",
       "6742        1           79.20        4016.0  2015-10-01  2020-02-01   \n",
       "...       ...             ...           ...         ...         ...   \n",
       "2442        0           84.80         546.0  2019-03-01  2019-10-01   \n",
       "428         1           75.60        1395.0  2018-08-01  2020-02-01   \n",
       "2876        1           19.70         386.0  2018-07-01  2020-02-01   \n",
       "3872        1          103.10         970.0  2019-05-01  2020-02-01   \n",
       "436         1           20.85         720.0  2017-02-01  2020-02-01   \n",
       "\n",
       "      SeniorCitizen    0    1    2    3    4    5    6    7    8    9   10  \\\n",
       "954               0  0.0  1.0  0.0  1.0  0.0  1.0  0.0  1.0  1.0  0.0  0.0   \n",
       "4096              0  NaN  NaN  NaN  NaN  NaN  NaN  NaN  NaN  NaN  NaN  NaN   \n",
       "1756              1  0.0  1.0  2.0  1.0  0.0  0.0  1.0  1.0  0.0  0.0  0.0   \n",
       "1250              0  0.0  1.0  2.0  1.0  0.0  0.0  1.0  1.0  0.0  0.0  0.0   \n",
       "6742              0  NaN  NaN  NaN  NaN  NaN  NaN  NaN  NaN  NaN  NaN  NaN   \n",
       "...             ...  ...  ...  ...  ...  ...  ...  ...  ...  ...  ...  ...   \n",
       "2442              1  NaN  NaN  NaN  NaN  NaN  NaN  NaN  NaN  NaN  NaN  NaN   \n",
       "428               0  0.0  1.0  2.0  0.0  0.0  0.0  1.0  1.0  0.0  0.0  0.0   \n",
       "2876              0  NaN  NaN  NaN  NaN  NaN  NaN  NaN  NaN  NaN  NaN  NaN   \n",
       "3872              0  NaN  NaN  NaN  NaN  NaN  NaN  NaN  NaN  NaN  NaN  NaN   \n",
       "436               0  0.0  1.0  2.0  1.0  1.0  0.0  0.0  0.0  0.0  0.0  0.0   \n",
       "\n",
       "       11   12   13  \n",
       "954   0.0  0.0  0.0  \n",
       "4096  NaN  NaN  NaN  \n",
       "1756  0.0  1.0  0.0  \n",
       "1250  0.0  0.0  0.0  \n",
       "6742  NaN  NaN  NaN  \n",
       "...   ...  ...  ...  \n",
       "2442  NaN  NaN  NaN  \n",
       "428   0.0  0.0  0.0  \n",
       "2876  NaN  NaN  NaN  \n",
       "3872  NaN  NaN  NaN  \n",
       "436   0.0  1.0  1.0  \n",
       "\n",
       "[1761 rows x 20 columns]"
      ]
     },
     "execution_count": 189,
     "metadata": {},
     "output_type": "execute_result"
    }
   ],
   "source": [
    "# удалим колонки, которые хотим кодировать\n",
    "test_dropped = test_enc.drop(['Type','PaperlessBilling',\n",
    "                                            'PaymentMethod',\n",
    "                                            'gender',\n",
    "                                            'Partner',\n",
    "                                            'Dependents',\n",
    "                                            'MultipleLines',\n",
    "                                            'InternetService',\n",
    "                                            'OnlineSecurity',\n",
    "                                            'OnlineBackup',\n",
    "                                            'DeviceProtection',\n",
    "                                            'TechSupport',\n",
    "                                            'StreamingTV',\n",
    "                                            'StreamingMovies'], axis=1)\n",
    "test_dropped"
   ]
  },
  {
   "cell_type": "code",
   "execution_count": 190,
   "id": "60ee80c0",
   "metadata": {},
   "outputs": [
    {
     "data": {
      "text/plain": [
       "(5282, 20)"
      ]
     },
     "execution_count": 190,
     "metadata": {},
     "output_type": "execute_result"
    }
   ],
   "source": [
    "train_dropped.shape"
   ]
  },
  {
   "cell_type": "code",
   "execution_count": 191,
   "id": "371897ed",
   "metadata": {},
   "outputs": [
    {
     "data": {
      "text/plain": [
       "(1761, 20)"
      ]
     },
     "execution_count": 191,
     "metadata": {},
     "output_type": "execute_result"
    }
   ],
   "source": [
    "test_dropped.shape"
   ]
  },
  {
   "cell_type": "code",
   "execution_count": 192,
   "id": "991c00c0",
   "metadata": {},
   "outputs": [
    {
     "data": {
      "text/plain": [
       "churned              0\n",
       "MonthlyCharges       0\n",
       "TotalCharges         0\n",
       "begin_date           0\n",
       "end_date             0\n",
       "SeniorCitizen        0\n",
       "0                 1304\n",
       "1                 1304\n",
       "2                 1304\n",
       "3                 1304\n",
       "4                 1304\n",
       "5                 1304\n",
       "6                 1304\n",
       "7                 1304\n",
       "8                 1304\n",
       "9                 1304\n",
       "10                1304\n",
       "11                1304\n",
       "12                1304\n",
       "13                1304\n",
       "dtype: int64"
      ]
     },
     "execution_count": 192,
     "metadata": {},
     "output_type": "execute_result"
    }
   ],
   "source": [
    "train_dropped.isna().sum()"
   ]
  },
  {
   "cell_type": "code",
   "execution_count": 193,
   "id": "e14f62dd",
   "metadata": {
    "scrolled": true
   },
   "outputs": [
    {
     "data": {
      "text/plain": [
       "churned              0\n",
       "MonthlyCharges       0\n",
       "TotalCharges         0\n",
       "begin_date           0\n",
       "end_date             0\n",
       "SeniorCitizen        0\n",
       "0                 1323\n",
       "1                 1323\n",
       "2                 1323\n",
       "3                 1323\n",
       "4                 1323\n",
       "5                 1323\n",
       "6                 1323\n",
       "7                 1323\n",
       "8                 1323\n",
       "9                 1323\n",
       "10                1323\n",
       "11                1323\n",
       "12                1323\n",
       "13                1323\n",
       "dtype: int64"
      ]
     },
     "execution_count": 193,
     "metadata": {},
     "output_type": "execute_result"
    }
   ],
   "source": [
    "test_dropped.isna().sum()"
   ]
  },
  {
   "cell_type": "code",
   "execution_count": 194,
   "id": "cbbeab2d",
   "metadata": {},
   "outputs": [],
   "source": [
    "train_dropped = train_dropped.dropna()"
   ]
  },
  {
   "cell_type": "code",
   "execution_count": 195,
   "id": "2e9dbb62",
   "metadata": {},
   "outputs": [],
   "source": [
    "test_dropped = test_dropped.dropna()"
   ]
  },
  {
   "cell_type": "code",
   "execution_count": 196,
   "id": "56aac8ee",
   "metadata": {},
   "outputs": [
    {
     "data": {
      "text/plain": [
       "churned           0\n",
       "MonthlyCharges    0\n",
       "TotalCharges      0\n",
       "begin_date        0\n",
       "end_date          0\n",
       "SeniorCitizen     0\n",
       "0                 0\n",
       "1                 0\n",
       "2                 0\n",
       "3                 0\n",
       "4                 0\n",
       "5                 0\n",
       "6                 0\n",
       "7                 0\n",
       "8                 0\n",
       "9                 0\n",
       "10                0\n",
       "11                0\n",
       "12                0\n",
       "13                0\n",
       "dtype: int64"
      ]
     },
     "execution_count": 196,
     "metadata": {},
     "output_type": "execute_result"
    }
   ],
   "source": [
    "train_dropped.isna().sum()"
   ]
  },
  {
   "cell_type": "code",
   "execution_count": 197,
   "id": "187728e2",
   "metadata": {},
   "outputs": [
    {
     "data": {
      "text/plain": [
       "churned           0\n",
       "MonthlyCharges    0\n",
       "TotalCharges      0\n",
       "begin_date        0\n",
       "end_date          0\n",
       "SeniorCitizen     0\n",
       "0                 0\n",
       "1                 0\n",
       "2                 0\n",
       "3                 0\n",
       "4                 0\n",
       "5                 0\n",
       "6                 0\n",
       "7                 0\n",
       "8                 0\n",
       "9                 0\n",
       "10                0\n",
       "11                0\n",
       "12                0\n",
       "13                0\n",
       "dtype: int64"
      ]
     },
     "execution_count": 197,
     "metadata": {},
     "output_type": "execute_result"
    }
   ],
   "source": [
    "test_dropped.isna().sum()"
   ]
  },
  {
   "cell_type": "markdown",
   "id": "13dcc039",
   "metadata": {},
   "source": [
    "### 3.3 После кодирования категориальных переменных выделяем `X, y` для обучения и тестирования моделей"
   ]
  },
  {
   "cell_type": "code",
   "execution_count": 198,
   "id": "06c9236f",
   "metadata": {},
   "outputs": [
    {
     "name": "stdout",
     "output_type": "stream",
     "text": [
      "Обучающая выборка (признаки): 3978\n",
      "Обучающая выборка (таргет) 3978\n",
      "\n",
      "Тестовая выборка (признаки): 438\n",
      "Тестовая выборка (таргет) 438\n"
     ]
    }
   ],
   "source": [
    "X_train = train_dropped.drop(['churned'], axis=1)\n",
    "y_train = train_dropped['churned']\n",
    "\n",
    "X_test = test_dropped.drop(['churned'], axis=1)\n",
    "y_test = test_dropped['churned']\n",
    "\n",
    "print('Обучающая выборка (признаки):', X_train.shape[0])\n",
    "print('Обучающая выборка (таргет)', y_train.shape[0])\n",
    "print()\n",
    "print('Тестовая выборка (признаки):', X_test.shape[0])\n",
    "print('Тестовая выборка (таргет)', y_test.shape[0])"
   ]
  },
  {
   "cell_type": "markdown",
   "id": "d0c54bab",
   "metadata": {},
   "source": [
    "### 3.4 Масштабирование признаков"
   ]
  },
  {
   "cell_type": "code",
   "execution_count": 202,
   "id": "e1888904",
   "metadata": {},
   "outputs": [],
   "source": [
    "from sklearn.preprocessing import MinMaxScaler"
   ]
  },
  {
   "cell_type": "code",
   "execution_count": 204,
   "id": "3e32c0b6",
   "metadata": {},
   "outputs": [],
   "source": [
    "X_train_n = X_train.drop(columns=['begin_date', 'end_date'])"
   ]
  },
  {
   "cell_type": "code",
   "execution_count": 205,
   "id": "2bf5100d",
   "metadata": {},
   "outputs": [],
   "source": [
    "X_test_n = X_test.drop(columns=['begin_date', 'end_date'])"
   ]
  },
  {
   "cell_type": "code",
   "execution_count": 206,
   "id": "fb58222b",
   "metadata": {},
   "outputs": [],
   "source": [
    "# вычисляем минимум и максимум по обучающим данным\n",
    "scaler_train = MinMaxScaler().fit(X_train_n)"
   ]
  },
  {
   "cell_type": "code",
   "execution_count": 207,
   "id": "8ec2e0dd",
   "metadata": {},
   "outputs": [],
   "source": [
    "# вычисляем минимум и максимум по тестовым данным\n",
    "scaler_test = MinMaxScaler().fit(X_test_n)"
   ]
  },
  {
   "cell_type": "code",
   "execution_count": 208,
   "id": "31419b25",
   "metadata": {},
   "outputs": [],
   "source": [
    "# масштабируем обучающие данные\n",
    "X_train_scaled = scaler_train.transform(X_train_n)"
   ]
  },
  {
   "cell_type": "code",
   "execution_count": 209,
   "id": "6a393b2a",
   "metadata": {},
   "outputs": [],
   "source": [
    "# масштабируем тестовые данные и оцениваем качество на масштабированных данных\n",
    "X_test_scaled = scaler_test.transform(X_test_n)"
   ]
  },
  {
   "cell_type": "markdown",
   "id": "dddbf44e",
   "metadata": {},
   "source": [
    "### *Вывод:* Данные готовы для обучения моделей: пропуски заполнены, признаки проверены на мультиколлинеарность, выделены подвыборки (трейн, тест), выделен целевой признак, категориальные данные закодированы, числовые признаки приведены к единому масштабу."
   ]
  },
  {
   "cell_type": "markdown",
   "id": "5e8a022a",
   "metadata": {},
   "source": [
    "## 4 Модели"
   ]
  },
  {
   "cell_type": "markdown",
   "id": "b989889e",
   "metadata": {},
   "source": [
    "### 4.4.1 Decision Tree\n",
    "https://scikit-learn.org/stable/modules/generated/sklearn.tree.DecisionTreeClassifier.html"
   ]
  },
  {
   "cell_type": "code",
   "execution_count": 210,
   "id": "f06db6e2",
   "metadata": {},
   "outputs": [
    {
     "name": "stdout",
     "output_type": "stream",
     "text": [
      "Наилучшие параметры для Decision Tree: {'criterion': 'gini', 'max_depth': 5, 'splitter': 'best'}\n",
      "CPU times: user 724 ms, sys: 20 ms, total: 744 ms\n",
      "Wall time: 846 ms\n"
     ]
    }
   ],
   "source": [
    "%%time\n",
    "# Initiating and building Decision Tree model\n",
    "parameters_dt = {\n",
    "    'max_depth': [2, 3, 4, 5],\n",
    "    'splitter': ['best', 'random'],\n",
    "    'criterion': ['gini', 'entropy', 'log_loss']\n",
    "}\n",
    "\n",
    "dt = DecisionTreeClassifier()\n",
    "grid_DT = GridSearchCV(dt, param_grid=parameters_dt)\n",
    "best_decision_tree_model = grid_DT.fit(X_train_scaled, y_train)\n",
    "print('Наилучшие параметры для Decision Tree: {}'.format(best_decision_tree_model.best_params_))"
   ]
  },
  {
   "cell_type": "markdown",
   "id": "36260b8e",
   "metadata": {},
   "source": [
    "### 4.4.2 Random Forest\n",
    "https://scikit-learn.org/stable/modules/generated/sklearn.ensemble.RandomForestClassifier.html"
   ]
  },
  {
   "cell_type": "code",
   "execution_count": 211,
   "id": "02bff188",
   "metadata": {},
   "outputs": [
    {
     "name": "stdout",
     "output_type": "stream",
     "text": [
      "Наилучшие параметры для Random Forest: {'criterion': 'gini', 'max_depth': 9, 'n_estimators': 20}\n",
      "CPU times: user 6.43 s, sys: 121 ms, total: 6.55 s\n",
      "Wall time: 7.13 s\n"
     ]
    }
   ],
   "source": [
    "%%time\n",
    "# Initiating and building Random Forest Regressor model\n",
    "parameters_rf = {\n",
    "    'n_estimators': [5, 10, 20],\n",
    "    'max_depth': [3, 7, 9],\n",
    "    'criterion': ['gini', 'entropy', 'log_loss'],\n",
    "}\n",
    "\n",
    "rf_model = RandomForestClassifier()\n",
    "grid_RF = GridSearchCV(estimator=rf_model, param_grid=parameters_rf)\n",
    "best_random_forest_model = grid_RF.fit(X_train_scaled, y_train)\n",
    "print('Наилучшие параметры для Random Forest: {}'.format(best_random_forest_model.best_params_))"
   ]
  },
  {
   "cell_type": "markdown",
   "id": "8e6a3b87",
   "metadata": {},
   "source": [
    "### 4.4.3 Gradient Boosting\n",
    "\n",
    "https://scikit-learn.org/stable/modules/generated/sklearn.ensemble.GradientBoostingClassifier.html\n",
    "\n",
    "https://medium.com/all-things-ai/in-depth-parameter-tuning-for-gradient-boosting-3363992e9bae"
   ]
  },
  {
   "cell_type": "code",
   "execution_count": 212,
   "id": "edca992f",
   "metadata": {},
   "outputs": [
    {
     "name": "stdout",
     "output_type": "stream",
     "text": [
      "Наилучшие параметры для Gradient Descent: {'learning_rate': 0.1, 'max_depth': 4, 'max_features': 1.0, 'min_samples_leaf': 3, 'n_estimators': 10}\n",
      "CPU times: user 226 ms, sys: 100 ms, total: 326 ms\n",
      "Wall time: 6.41 s\n"
     ]
    }
   ],
   "source": [
    "%%time\n",
    "param_grid={'n_estimators':[5,10], \n",
    "            'learning_rate': [0.1,0.04,0.05,0.02],\n",
    "            'max_depth':[4], \n",
    "            'min_samples_leaf':[3], \n",
    "            'max_features':[1.0] } \n",
    "n_jobs=4\n",
    "\n",
    "estimator = GradientBoostingClassifier() \n",
    "gb_classifier = GridSearchCV(estimator=estimator, \n",
    "                          cv=5, \n",
    "                          param_grid=param_grid, \n",
    "                          n_jobs=n_jobs)\n",
    "    \n",
    "best_gb_model = gb_classifier.fit(X_train_scaled, y_train)\n",
    "print('Наилучшие параметры для Gradient Descent: {}'.format(best_gb_model.best_params_))"
   ]
  },
  {
   "cell_type": "code",
   "execution_count": 213,
   "id": "d5e177e0",
   "metadata": {},
   "outputs": [
    {
     "name": "stdout",
     "output_type": "stream",
     "text": [
      "GradientBoostingClassifier(max_depth=4, max_features=1.0, min_samples_leaf=3,\n",
      "                           n_estimators=10)\n"
     ]
    }
   ],
   "source": [
    "print(best_gb_model.best_estimator_)"
   ]
  },
  {
   "cell_type": "markdown",
   "id": "8afc784c",
   "metadata": {},
   "source": [
    "### 4.4.4 Сравнение качества моделей по кросс-валидации: "
   ]
  },
  {
   "cell_type": "markdown",
   "id": "3db57b5e",
   "metadata": {},
   "source": [
    "- **Decision Tree**"
   ]
  },
  {
   "cell_type": "code",
   "execution_count": 214,
   "id": "34ca2222",
   "metadata": {},
   "outputs": [
    {
     "name": "stdout",
     "output_type": "stream",
     "text": [
      "Best score Decision Tree: 0.78029\n"
     ]
    }
   ],
   "source": [
    "best_score_dt = round(best_decision_tree_model.best_score_, 5)\n",
    "print('Best score Decision Tree: {}'.format(best_score_dt))"
   ]
  },
  {
   "cell_type": "code",
   "execution_count": 215,
   "id": "e627fc35",
   "metadata": {},
   "outputs": [
    {
     "name": "stdout",
     "output_type": "stream",
     "text": [
      "TRAIN Decision Tree Model, F1: 0.8735888058514867\n"
     ]
    }
   ],
   "source": [
    "train_predicted_dt = best_decision_tree_model.predict(X_train_scaled)\n",
    "print(\"TRAIN Decision Tree Model, F1:\", f1_score(y_train, train_predicted_dt))"
   ]
  },
  {
   "cell_type": "code",
   "execution_count": 216,
   "id": "7e5ec602",
   "metadata": {},
   "outputs": [
    {
     "data": {
      "image/png": "[encoded data removed]",
      "text/plain": [
       "<Figure size 640x480 with 1 Axes>"
      ]
     },
     "metadata": {},
     "output_type": "display_data"
    }
   ],
   "source": [
    "probabilities_train_dt = best_decision_tree_model.predict_proba(X_train_scaled)\n",
    "probabilities_one_train_dt = probabilities_train_dt[:, 1]\n",
    "\n",
    "fpr, tpr, thresholds = roc_curve(y_train, probabilities_one_train_dt)\n",
    "\n",
    "plt.figure()\n",
    "\n",
    "# ROC-кривая случайной модели (выглядит как прямая)\n",
    "plt.plot([0, 1], [0, 1], linestyle='--')\n",
    "plt.plot(fpr, tpr)\n",
    "\n",
    "# < применим функции plt.xlim() и plt.ylim(), чтобы\n",
    "#   установим границы осей от 0 до 1 >\n",
    "plt.xlim([0.0, 1.0])\n",
    "plt.ylim([0.0, 1.0])\n",
    "\n",
    "# < применим функции plt.xlabel() и plt.ylabel(), чтобы\n",
    "#   подпишем оси \"False Positive Rate\" и \"True Positive Rate\" >\n",
    "plt.xlabel('False Positive Rate')\n",
    "plt.ylabel('True Positive Rate')\n",
    "\n",
    "# добавим к графику заголовок \"ROC-кривая\" функцией plt.title() >\n",
    "plt.title('ROC for Decision Tree (train data)')\n",
    "plt.show();"
   ]
  },
  {
   "cell_type": "code",
   "execution_count": 217,
   "id": "c04faa5a",
   "metadata": {},
   "outputs": [
    {
     "name": "stdout",
     "output_type": "stream",
     "text": [
      "Decision Tree // model 1 AUC score: 0.8343133481453336\n"
     ]
    }
   ],
   "source": [
    "auc_roc_dt = roc_auc_score(y_train, probabilities_one_train_dt)\n",
    "print(f'Decision Tree // model 1 AUC score: {auc_roc_dt}')"
   ]
  },
  {
   "cell_type": "markdown",
   "id": "649d4277",
   "metadata": {},
   "source": [
    "- **Random Forest**"
   ]
  },
  {
   "cell_type": "code",
   "execution_count": 218,
   "id": "e3ba2b6f",
   "metadata": {},
   "outputs": [
    {
     "name": "stdout",
     "output_type": "stream",
     "text": [
      "Best score Random Forest: 0.77728\n"
     ]
    }
   ],
   "source": [
    "best_score_rf = round(best_random_forest_model.best_score_, 5)\n",
    "print('Best score Random Forest: {}'.format(best_score_rf))"
   ]
  },
  {
   "cell_type": "code",
   "execution_count": 219,
   "id": "a5e1e113",
   "metadata": {},
   "outputs": [
    {
     "name": "stdout",
     "output_type": "stream",
     "text": [
      "TRAIN Random Forest Model, F1: 0.9186467348544454\n"
     ]
    }
   ],
   "source": [
    "train_predicted_rf = best_random_forest_model.predict(X_train_scaled)\n",
    "print(\"TRAIN Random Forest Model, F1:\", f1_score(y_train, train_predicted_rf))"
   ]
  },
  {
   "cell_type": "code",
   "execution_count": 220,
   "id": "3a62dc04",
   "metadata": {},
   "outputs": [
    {
     "data": {
      "image/png": "[encoded data removed]",
      "text/plain": [
       "<Figure size 640x480 with 1 Axes>"
      ]
     },
     "metadata": {},
     "output_type": "display_data"
    }
   ],
   "source": [
    "probabilities_train_rf = best_random_forest_model.predict_proba(X_train_scaled)\n",
    "probabilities_one_train_rf = probabilities_train_rf[:, 1]\n",
    "\n",
    "fpr, tpr, thresholds = roc_curve(y_train, probabilities_one_train_rf)\n",
    "\n",
    "plt.figure()\n",
    "\n",
    "# ROC-кривая случайной модели (выглядит как прямая)\n",
    "plt.plot([0, 1], [0, 1], linestyle='--')\n",
    "plt.plot(fpr, tpr)\n",
    "\n",
    "# < применим функции plt.xlim() и plt.ylim(), чтобы\n",
    "#   установим границы осей от 0 до 1 >\n",
    "plt.xlim([0.0, 1.0])\n",
    "plt.ylim([0.0, 1.0])\n",
    "\n",
    "# < применим функции plt.xlabel() и plt.ylabel(), чтобы\n",
    "#   подпишем оси \"False Positive Rate\" и \"True Positive Rate\" >\n",
    "plt.xlabel('False Positive Rate')\n",
    "plt.ylabel('True Positive Rate')\n",
    "\n",
    "# добавим к графику заголовок \"ROC-кривая\" функцией plt.title() >\n",
    "plt.title('ROC for Random Forest (train data)')\n",
    "plt.show();"
   ]
  },
  {
   "cell_type": "code",
   "execution_count": 221,
   "id": "06903baa",
   "metadata": {},
   "outputs": [
    {
     "name": "stdout",
     "output_type": "stream",
     "text": [
      "Random Forest // model 1 AUC score: 0.9550479462803433\n"
     ]
    }
   ],
   "source": [
    "auc_roc_rf = roc_auc_score(y_train, probabilities_one_train_rf)\n",
    "print(f'Random Forest // model 1 AUC score: {auc_roc_rf}')"
   ]
  },
  {
   "cell_type": "markdown",
   "id": "d1804b79",
   "metadata": {},
   "source": [
    "- **Gradient Boosting**"
   ]
  },
  {
   "cell_type": "code",
   "execution_count": 223,
   "id": "12c34759",
   "metadata": {},
   "outputs": [
    {
     "name": "stdout",
     "output_type": "stream",
     "text": [
      "Best score Gradient Boosting: 0.78633\n"
     ]
    }
   ],
   "source": [
    "best_score_gb = round(best_gb_model.best_score_, 5)\n",
    "print('Best score Gradient Boosting: {}'.format(best_score_gb))"
   ]
  },
  {
   "cell_type": "code",
   "execution_count": 224,
   "id": "151479a5",
   "metadata": {},
   "outputs": [
    {
     "name": "stdout",
     "output_type": "stream",
     "text": [
      "TRAIN Random Forest Model, F1: 0.9186467348544454\n"
     ]
    }
   ],
   "source": [
    "train_predicted_gb = best_random_forest_model.predict(X_train_scaled)\n",
    "print(\"TRAIN Random Forest Model, F1:\", f1_score(y_train, train_predicted_rf))"
   ]
  },
  {
   "cell_type": "code",
   "execution_count": 225,
   "id": "f99b09c3",
   "metadata": {},
   "outputs": [
    {
     "data": {
      "image/png": "[encoded data removed]",
      "text/plain": [
       "<Figure size 640x480 with 1 Axes>"
      ]
     },
     "metadata": {},
     "output_type": "display_data"
    }
   ],
   "source": [
    "probabilities_train_gb = best_gb_model.predict_proba(X_train_scaled)\n",
    "probabilities_one_train_gb = probabilities_train_gb[:, 1]\n",
    "\n",
    "fpr, tpr, thresholds = roc_curve(y_train, probabilities_one_train_gb)\n",
    "\n",
    "plt.figure()\n",
    "\n",
    "# ROC-кривая случайной модели (выглядит как прямая)\n",
    "plt.plot([0, 1], [0, 1], linestyle='--')\n",
    "plt.plot(fpr, tpr)\n",
    "\n",
    "# < применим функции plt.xlim() и plt.ylim(), чтобы\n",
    "#   установим границы осей от 0 до 1 >\n",
    "plt.xlim([0.0, 1.0])\n",
    "plt.ylim([0.0, 1.0])\n",
    "\n",
    "# < применим функции plt.xlabel() и plt.ylabel(), чтобы\n",
    "#   подпишем оси \"False Positive Rate\" и \"True Positive Rate\" >\n",
    "plt.xlabel('False Positive Rate')\n",
    "plt.ylabel('True Positive Rate')\n",
    "\n",
    "# добавим к графику заголовок \"ROC-кривая\" функцией plt.title() >\n",
    "plt.title('ROC for Gradient Boosting (test data)')\n",
    "plt.show();"
   ]
  },
  {
   "cell_type": "code",
   "execution_count": 226,
   "id": "fa885588",
   "metadata": {},
   "outputs": [
    {
     "name": "stdout",
     "output_type": "stream",
     "text": [
      "Gradient Boosting // model 1 AUC score: 0.8369449836049325\n"
     ]
    }
   ],
   "source": [
    "auc_roc_gb = roc_auc_score(y_train, probabilities_one_train_gb)\n",
    "print(f'Gradient Boosting // model 1 AUC score: {auc_roc_gb}')"
   ]
  },
  {
   "cell_type": "markdown",
   "id": "ec2f1dfe",
   "metadata": {},
   "source": [
    "### *Вывод:* Наивысший скор по кросс-валидации получил градиентный бустинг."
   ]
  },
  {
   "cell_type": "markdown",
   "id": "2049e54d",
   "metadata": {},
   "source": [
    "## 5 Тестируем лучшую модель (gradient boosting) на тестовой выборке и делаем тестовые предсказания"
   ]
  },
  {
   "cell_type": "markdown",
   "id": "7d869983",
   "metadata": {},
   "source": [
    "### 5.1 Тестируем Gradient Boosting"
   ]
  },
  {
   "cell_type": "code",
   "execution_count": 227,
   "id": "2e48b0ab",
   "metadata": {},
   "outputs": [
    {
     "name": "stdout",
     "output_type": "stream",
     "text": [
      "TEST Gradient Boosting Model, F1: 0.8531468531468532\n"
     ]
    }
   ],
   "source": [
    "test_predicted_gb = best_gb_model.predict(X_test_scaled)\n",
    "print(\"TEST Gradient Boosting Model, F1:\", f1_score(y_test, test_predicted_gb))"
   ]
  },
  {
   "cell_type": "code",
   "execution_count": 228,
   "id": "8bf9803f",
   "metadata": {},
   "outputs": [
    {
     "data": {
      "image/png": "[encoded data removed]",
      "text/plain": [
       "<Figure size 640x480 with 1 Axes>"
      ]
     },
     "metadata": {},
     "output_type": "display_data"
    }
   ],
   "source": [
    "probabilities_test_gb = best_gb_model.predict_proba(X_test_scaled)\n",
    "probabilities_one_test_gb = probabilities_test_gb[:, 1]\n",
    "\n",
    "fpr, tpr, thresholds = roc_curve(y_test, probabilities_one_test_gb)\n",
    "\n",
    "plt.figure()\n",
    "\n",
    "# ROC-кривая случайной модели (выглядит как прямая)\n",
    "plt.plot([0, 1], [0, 1], linestyle='--')\n",
    "plt.plot(fpr, tpr)\n",
    "\n",
    "# < применим функции plt.xlim() и plt.ylim(), чтобы\n",
    "#   установим границы осей от 0 до 1 >\n",
    "plt.xlim([0.0, 1.0])\n",
    "plt.ylim([0.0, 1.0])\n",
    "\n",
    "# < применим функции plt.xlabel() и plt.ylabel(), чтобы\n",
    "#   подпишем оси \"False Positive Rate\" и \"True Positive Rate\" >\n",
    "plt.xlabel('False Positive Rate')\n",
    "plt.ylabel('True Positive Rate')\n",
    "\n",
    "# добавим к графику заголовок \"ROC-кривая\" функцией plt.title() >\n",
    "plt.title('ROC for Gradient Boosting (test data)')\n",
    "plt.show();"
   ]
  },
  {
   "cell_type": "code",
   "execution_count": 229,
   "id": "01819102",
   "metadata": {},
   "outputs": [
    {
     "name": "stdout",
     "output_type": "stream",
     "text": [
      "Gradient Boosting // model 1 AUC score: 0.8490734824281151\n"
     ]
    }
   ],
   "source": [
    "auc_roc_gb = roc_auc_score(y_test, probabilities_one_test_gb)\n",
    "print(f'Gradient Boosting // model 1 AUC score: {auc_roc_gb}')"
   ]
  },
  {
   "cell_type": "markdown",
   "id": "902454ba",
   "metadata": {},
   "source": [
    "### *Вывод:* Модель градиентного бустинга показала наилучший результат. Модель слегка переобучается: на обучающей выборке AUC-ROC=0.85, на тестовой подвыборке AUC-ROC=0.82."
   ]
  },
  {
   "cell_type": "markdown",
   "id": "1e9bd205",
   "metadata": {},
   "source": [
    "### 5.2 Предсказания"
   ]
  },
  {
   "cell_type": "code",
   "execution_count": 230,
   "id": "83585bff",
   "metadata": {},
   "outputs": [
    {
     "data": {
      "text/plain": [
       "array([1, 1, 1, 1, 1, 0, 1, 1, 1, 1, 1, 0, 0, 1, 1, 1, 1, 1, 1, 1, 1, 1,\n",
       "       1, 1, 1, 1, 1, 1, 1, 1, 1, 0, 0, 1, 1, 1, 1, 1, 1, 1, 1, 1, 1, 1,\n",
       "       0, 0, 1, 1, 1, 1, 1, 1, 1, 1, 1, 1, 1, 1, 1, 1, 1, 1, 1, 1, 1, 1,\n",
       "       1, 1, 1, 1, 0, 1, 1, 1, 1, 1, 1, 1, 1, 1, 1, 1, 1, 1, 1, 1, 1, 1,\n",
       "       1, 1, 1, 1, 1, 1, 1, 1, 0, 1, 1, 1, 1, 1, 1, 1, 1, 1, 1, 1, 1, 1,\n",
       "       1, 1, 1, 1, 1, 1, 1, 1, 1, 1, 1, 1, 1, 1, 1, 1, 1, 1, 1, 1, 1, 1,\n",
       "       0, 1, 0, 1, 1, 1, 1, 1, 1, 1, 1, 1, 1, 1, 1, 1, 1, 1, 1, 1, 1, 1,\n",
       "       1, 1, 1, 1, 1, 1, 1, 1, 1, 1, 1, 1, 1, 0, 1, 1, 1, 1, 1, 1, 0, 1,\n",
       "       1, 1, 1, 1, 1, 1, 1, 0, 1, 1, 1, 1, 1, 1, 1, 1, 1, 1, 1, 1, 1, 1,\n",
       "       1, 1, 1, 1, 0, 1, 1, 1, 1, 1, 1, 1, 1, 1, 1, 1, 1, 1, 1, 1, 1, 1,\n",
       "       1, 1, 0, 1, 1, 1, 1, 1, 1, 1, 1, 1, 1, 1, 1, 1, 0, 1, 1, 1, 1, 1,\n",
       "       1, 1, 1, 1, 1, 1, 0, 1, 1, 1, 1, 0, 1, 1, 1, 0, 0, 1, 1, 1, 0, 1,\n",
       "       1, 1, 1, 1, 1, 1, 1, 1, 1, 0, 1, 1, 1, 1, 1, 0, 1, 1, 1, 1, 1, 1,\n",
       "       1, 1, 1, 1, 0, 1, 1, 1, 1, 1, 0, 1, 1, 1, 1, 1, 1, 1, 1, 1, 0, 1,\n",
       "       1, 1, 1, 1, 0, 1, 1, 1, 1, 1, 1, 1, 1, 1, 1, 1, 1, 1, 1, 1, 1, 1,\n",
       "       1, 1, 1, 1, 1, 1, 1, 1, 1, 1, 1, 1, 1, 1, 1, 1, 1, 1, 0, 1, 1, 1,\n",
       "       1, 1, 1, 1, 1, 1, 1, 1, 1, 1, 1, 1, 1, 1, 1, 1, 1, 1, 0, 1, 1, 1,\n",
       "       1, 1, 1, 1, 1, 1, 1, 1, 1, 1, 1, 1, 1, 1, 1, 1, 1, 0, 1, 0, 1, 1,\n",
       "       1, 1, 1, 1, 1, 0, 1, 1, 1, 1, 1, 1, 1, 0, 0, 1, 1, 1, 1, 1, 1, 1,\n",
       "       1, 1, 1, 1, 1, 1, 1, 1, 1, 1, 1, 1, 1, 1, 1, 1, 1, 0, 1, 1])"
      ]
     },
     "execution_count": 230,
     "metadata": {},
     "output_type": "execute_result"
    }
   ],
   "source": [
    "# Gradient Boosting\n",
    "y_pred_gb = best_gb_model.predict(X_test_scaled)\n",
    "y_pred_gb"
   ]
  },
  {
   "cell_type": "code",
   "execution_count": 231,
   "id": "56602d28",
   "metadata": {},
   "outputs": [
    {
     "data": {
      "text/plain": [
       "Index([       'churned', 'MonthlyCharges',   'TotalCharges',     'begin_date',\n",
       "             'end_date',  'SeniorCitizen',                0,                1,\n",
       "                      2,                3,                4,                5,\n",
       "                      6,                7,                8,                9,\n",
       "                     10,               11,               12,               13],\n",
       "      dtype='object')"
      ]
     },
     "execution_count": 231,
     "metadata": {},
     "output_type": "execute_result"
    }
   ],
   "source": [
    "test_dropped.columns"
   ]
  },
  {
   "cell_type": "code",
   "execution_count": 233,
   "id": "f4fef32c",
   "metadata": {},
   "outputs": [],
   "source": [
    "# X_test_df = test_dropped.drop(columns=['target'])\n",
    "test_pred = test_dropped[['MonthlyCharges',   \n",
    "                          'TotalCharges',\n",
    "                          'begin_date',       \n",
    "                          'end_date',  \n",
    "                          'SeniorCitizen']]"
   ]
  },
  {
   "cell_type": "code",
   "execution_count": 234,
   "id": "70ef7168",
   "metadata": {},
   "outputs": [],
   "source": [
    "test_pred['churned'] = best_gb_model.predict(X_test_scaled)"
   ]
  },
  {
   "cell_type": "code",
   "execution_count": 235,
   "id": "8806fd00",
   "metadata": {},
   "outputs": [
    {
     "data": {
      "text/plain": [
       "(438, 7)"
      ]
     },
     "execution_count": 235,
     "metadata": {},
     "output_type": "execute_result"
    }
   ],
   "source": [
    "test_pred['predictions'] = np.round(best_gb_model.predict_proba(X_test_scaled),3)[:, 1]\n",
    "test_pred.shape"
   ]
  },
  {
   "cell_type": "code",
   "execution_count": 236,
   "id": "a0d0c2a7",
   "metadata": {},
   "outputs": [
    {
     "data": {
      "text/html": [
       "<div>\n",
       "<style scoped>\n",
       "    .dataframe tbody tr th:only-of-type {\n",
       "        vertical-align: middle;\n",
       "    }\n",
       "\n",
       "    .dataframe tbody tr th {\n",
       "        vertical-align: top;\n",
       "    }\n",
       "\n",
       "    .dataframe thead th {\n",
       "        text-align: right;\n",
       "    }\n",
       "</style>\n",
       "<table border=\"1\" class=\"dataframe\">\n",
       "  <thead>\n",
       "    <tr style=\"text-align: right;\">\n",
       "      <th></th>\n",
       "      <th>MonthlyCharges</th>\n",
       "      <th>TotalCharges</th>\n",
       "      <th>begin_date</th>\n",
       "      <th>end_date</th>\n",
       "      <th>SeniorCitizen</th>\n",
       "      <th>churned</th>\n",
       "      <th>predictions</th>\n",
       "    </tr>\n",
       "  </thead>\n",
       "  <tbody>\n",
       "    <tr>\n",
       "      <th>954</th>\n",
       "      <td>95.10</td>\n",
       "      <td>2162.0</td>\n",
       "      <td>2018-04-01</td>\n",
       "      <td>2020-02-01</td>\n",
       "      <td>0</td>\n",
       "      <td>1</td>\n",
       "      <td>0.664</td>\n",
       "    </tr>\n",
       "    <tr>\n",
       "      <th>1756</th>\n",
       "      <td>74.85</td>\n",
       "      <td>3268.0</td>\n",
       "      <td>2016-06-01</td>\n",
       "      <td>2020-02-01</td>\n",
       "      <td>1</td>\n",
       "      <td>1</td>\n",
       "      <td>0.763</td>\n",
       "    </tr>\n",
       "    <tr>\n",
       "      <th>1250</th>\n",
       "      <td>103.20</td>\n",
       "      <td>5744.0</td>\n",
       "      <td>2015-06-01</td>\n",
       "      <td>2020-02-01</td>\n",
       "      <td>0</td>\n",
       "      <td>1</td>\n",
       "      <td>0.800</td>\n",
       "    </tr>\n",
       "    <tr>\n",
       "      <th>1602</th>\n",
       "      <td>90.25</td>\n",
       "      <td>2755.0</td>\n",
       "      <td>2017-04-01</td>\n",
       "      <td>2019-10-01</td>\n",
       "      <td>0</td>\n",
       "      <td>1</td>\n",
       "      <td>0.674</td>\n",
       "    </tr>\n",
       "    <tr>\n",
       "      <th>767</th>\n",
       "      <td>20.40</td>\n",
       "      <td>275.0</td>\n",
       "      <td>2018-12-01</td>\n",
       "      <td>2020-02-01</td>\n",
       "      <td>0</td>\n",
       "      <td>1</td>\n",
       "      <td>0.848</td>\n",
       "    </tr>\n",
       "    <tr>\n",
       "      <th>...</th>\n",
       "      <td>...</td>\n",
       "      <td>...</td>\n",
       "      <td>...</td>\n",
       "      <td>...</td>\n",
       "      <td>...</td>\n",
       "      <td>...</td>\n",
       "      <td>...</td>\n",
       "    </tr>\n",
       "    <tr>\n",
       "      <th>889</th>\n",
       "      <td>100.55</td>\n",
       "      <td>6215.0</td>\n",
       "      <td>2014-07-01</td>\n",
       "      <td>2019-10-01</td>\n",
       "      <td>0</td>\n",
       "      <td>1</td>\n",
       "      <td>0.800</td>\n",
       "    </tr>\n",
       "    <tr>\n",
       "      <th>222</th>\n",
       "      <td>20.20</td>\n",
       "      <td>20.0</td>\n",
       "      <td>2020-01-01</td>\n",
       "      <td>2020-02-01</td>\n",
       "      <td>0</td>\n",
       "      <td>1</td>\n",
       "      <td>0.748</td>\n",
       "    </tr>\n",
       "    <tr>\n",
       "      <th>1731</th>\n",
       "      <td>69.60</td>\n",
       "      <td>69.0</td>\n",
       "      <td>2019-12-01</td>\n",
       "      <td>2020-01-01</td>\n",
       "      <td>1</td>\n",
       "      <td>0</td>\n",
       "      <td>0.390</td>\n",
       "    </tr>\n",
       "    <tr>\n",
       "      <th>428</th>\n",
       "      <td>75.60</td>\n",
       "      <td>1395.0</td>\n",
       "      <td>2018-08-01</td>\n",
       "      <td>2020-02-01</td>\n",
       "      <td>0</td>\n",
       "      <td>1</td>\n",
       "      <td>0.630</td>\n",
       "    </tr>\n",
       "    <tr>\n",
       "      <th>436</th>\n",
       "      <td>20.85</td>\n",
       "      <td>720.0</td>\n",
       "      <td>2017-02-01</td>\n",
       "      <td>2020-02-01</td>\n",
       "      <td>0</td>\n",
       "      <td>1</td>\n",
       "      <td>0.881</td>\n",
       "    </tr>\n",
       "  </tbody>\n",
       "</table>\n",
       "<p>438 rows × 7 columns</p>\n",
       "</div>"
      ],
      "text/plain": [
       "      MonthlyCharges  TotalCharges  begin_date    end_date  SeniorCitizen  \\\n",
       "954            95.10        2162.0  2018-04-01  2020-02-01              0   \n",
       "1756           74.85        3268.0  2016-06-01  2020-02-01              1   \n",
       "1250          103.20        5744.0  2015-06-01  2020-02-01              0   \n",
       "1602           90.25        2755.0  2017-04-01  2019-10-01              0   \n",
       "767            20.40         275.0  2018-12-01  2020-02-01              0   \n",
       "...              ...           ...         ...         ...            ...   \n",
       "889           100.55        6215.0  2014-07-01  2019-10-01              0   \n",
       "222            20.20          20.0  2020-01-01  2020-02-01              0   \n",
       "1731           69.60          69.0  2019-12-01  2020-01-01              1   \n",
       "428            75.60        1395.0  2018-08-01  2020-02-01              0   \n",
       "436            20.85         720.0  2017-02-01  2020-02-01              0   \n",
       "\n",
       "      churned  predictions  \n",
       "954         1        0.664  \n",
       "1756        1        0.763  \n",
       "1250        1        0.800  \n",
       "1602        1        0.674  \n",
       "767         1        0.848  \n",
       "...       ...          ...  \n",
       "889         1        0.800  \n",
       "222         1        0.748  \n",
       "1731        0        0.390  \n",
       "428         1        0.630  \n",
       "436         1        0.881  \n",
       "\n",
       "[438 rows x 7 columns]"
      ]
     },
     "execution_count": 236,
     "metadata": {},
     "output_type": "execute_result"
    }
   ],
   "source": [
    "test_pred_df = pd.DataFrame(test_pred)\n",
    "test_pred_df"
   ]
  },
  {
   "cell_type": "code",
   "execution_count": 237,
   "id": "d1157775",
   "metadata": {},
   "outputs": [],
   "source": [
    "# test_pred_df.to_csv('/Users/yuliabezginova/PycharmProjects/00_files-for_NLP/test_pred_df.csv')"
   ]
  },
  {
   "cell_type": "markdown",
   "id": "17bbe68f",
   "metadata": {},
   "source": [
    "### 5.3 Изучим важность признаков"
   ]
  },
  {
   "cell_type": "code",
   "execution_count": 245,
   "id": "4bbb76e0",
   "metadata": {},
   "outputs": [
    {
     "data": {
      "image/png": "[encoded data removed]",
      "text/plain": [
       "<Figure size 1200x500 with 1 Axes>"
      ]
     },
     "metadata": {},
     "output_type": "display_data"
    }
   ],
   "source": [
    "importance = best_gb_model.best_estimator_.feature_importances_\n",
    "indices = np.argsort(importance)\n",
    "\n",
    "fig, ax = plt.subplots(figsize=(12, 5))\n",
    "ax.barh(range(len(importance)), importance[indices])\n",
    "ax.set_yticks(range(len(importance)))\n",
    "_ = ax.set_yticklabels(np.array(test_data.drop(columns=['churned']).columns)[indices])"
   ]
  },
  {
   "cell_type": "code",
   "execution_count": 242,
   "id": "4deeac66",
   "metadata": {},
   "outputs": [
    {
     "data": {
      "text/plain": [
       "Index(['churned', 'Type', 'PaperlessBilling', 'PaymentMethod',\n",
       "       'MonthlyCharges', 'TotalCharges', 'begin_date', 'end_date', 'gender',\n",
       "       'SeniorCitizen', 'Partner', 'Dependents', 'MultipleLines',\n",
       "       'InternetService', 'OnlineSecurity', 'OnlineBackup', 'DeviceProtection',\n",
       "       'TechSupport', 'StreamingTV', 'StreamingMovies'],\n",
       "      dtype='object')"
      ]
     },
     "execution_count": 242,
     "metadata": {},
     "output_type": "execute_result"
    }
   ],
   "source": [
    "test_data.columns"
   ]
  },
  {
   "cell_type": "markdown",
   "id": "784e698f",
   "metadata": {},
   "source": [
    "### 5.4 Изучим, насколько хорошо модель классифицирует целевое значение"
   ]
  },
  {
   "cell_type": "code",
   "execution_count": 239,
   "id": "e4877c15",
   "metadata": {},
   "outputs": [
    {
     "name": "stdout",
     "output_type": "stream",
     "text": [
      "              precision    recall  f1-score   support\n",
      "\n",
      "           0       0.78      0.22      0.35       125\n",
      "           1       0.76      0.97      0.85       313\n",
      "\n",
      "    accuracy                           0.76       438\n",
      "   macro avg       0.77      0.60      0.60       438\n",
      "weighted avg       0.76      0.76      0.71       438\n",
      "\n"
     ]
    }
   ],
   "source": [
    "print(classification_report(y_test,best_gb_model.predict(X_test_scaled)))"
   ]
  },
  {
   "cell_type": "markdown",
   "id": "99a5047d",
   "metadata": {},
   "source": [
    "### *Вывод*: Модель градиентного бустинга показала наилучший результат. Модель слегка переобучается: на обучающей выборке AUC-ROC=0.85, на тестовой подвыборке AUC-ROC=0.82. Было выполнено тестирование модели градиентного бустинга на тестовой подвыборке и выявлена важность изучаемых признаков. По отчету о классификации (classification report) видим, что модель научилась хорошо предсказывать 1-й класс (F1-score=0.86) и хуже предсказывает 0-й класс (F1-score=0.46). Наиболее высокое влияние в модели оказывают признаки ```'PaperlessBilling'```, ```'Type'```, ```'PaymentMethod'```."
   ]
  },
  {
   "cell_type": "markdown",
   "id": "5bbceeca",
   "metadata": {},
   "source": [
    "### *Часть 1 - Отчет для Сергея*\n",
    "\n",
    "#### Проведите исследовательский анализ данных.\n",
    "Готово.\n",
    "#### Список уточняющих вопросов.\n",
    "- 1) Что необходимо предсказать моделью: \n",
    "    - а) решаем задачу бинарной классификации: 0 - клиент уйдет, 1 - клиент не уйдет. Остальное - оставляем на усмотрение менеджмента, кому что предложить, чтобы удержать.\n",
    "    - б) или скорее предсказать вероятность того, насколько клиент планирует уйти. Если этот вариант, то нужен совет, как это делать. Это будет задача классификации? Или можно, например, использовать предобученную нейронную сеть ResNet50, которую мы здесь проходили, с функцией softmax, которая как раз и предскажет вероятность?\n",
    "\n",
    "#### Примерный план решения задачи. Пропишите 3–5 основных шагов, каждый поясните не более двумя предложениями.\n",
    "Прописала с начале блокнота в разделе **Методология проекта**.\n",
    "\n",
    "#### Цель проекта\n",
    "Прописала с начале блокнота."
   ]
  },
  {
   "cell_type": "markdown",
   "id": "6a569d04",
   "metadata": {},
   "source": [
    "<div class=\"alert alert-success\">\n",
    "<b>Комментарий ревьюера:\n",
    "&#9989;</b> Ответы на вопросы: в данном случае у нас задача бинарной классификации </div>"
   ]
  },
  {
   "cell_type": "markdown",
   "id": "b931ea43",
   "metadata": {},
   "source": [
    "<b>Итоговый комментарий ревьюера:\n",
    "</b>  Молодец, хороший план, есть название и описание. Есть пара критических замечаний, которые необходимо исправить в первой части, а именно: \n",
    "1. Предустановка библиотек (phik)\n",
    "2. Работоспособность кода(пропиши, пожалуйста, пути)\n",
    "3. Комментарии к анализу\n",
    "4. Округление total_charges\n",
    "5. Заполнение пропусков<br>\n",
    "\n",
    "Выше добавлены комментарии ко второй части. Также RANDOM_STATE необходимо прописать в константу.\n"
   ]
  },
  {
   "cell_type": "markdown",
   "id": "cd9383d9",
   "metadata": {},
   "source": [
    "### *Часть 2, 3 - Отчет для Сергея*"
   ]
  },
  {
   "cell_type": "markdown",
   "id": "956d5ebb",
   "metadata": {},
   "source": [
    "<div class=\"alert alert-info\"> <b>Юлия:</b>\n",
    "- Предустановка библиотек\n",
    "Про библиотеки не до конца поняла. У вас каки-то пипы не установлены? Подскажите, пож-та, которые библиотеки надо предустановить.\n",
    "    \n",
    "- Работоспособность кода(пропиши, пожалуйста, пути)\n",
    "Пути прописала через исключение. Код проверила, воспроизвелся вроде.\n",
    "    \n",
    "- Комментарии к анализу\n",
    "Добавила выводы после каждого раздела.\n",
    "   \n",
    "- Округление total_charges\n",
    "Проверила и оставила пояснение в работе.\n",
    "    \n",
    "- Заполнение пропусков\n",
    "Заполнила, пояснения в работе оставила для каждого шага.\n",
    "    \n",
    "</div>"
   ]
  },
  {
   "cell_type": "markdown",
   "id": "c20e831c",
   "metadata": {},
   "source": [
    "<b>Итоговый комментарий ревьюера:\n",
    "</b> Молодец, 1 часть принята, замечания по 2 части:\n",
    "1. Предустановка библиотек(phik)\n",
    "2. Корреляция\n",
    "3. Визуализация признаков\n",
    "4. Пропуски\n",
    "5. Кодирование признаков\n",
    "\n",
    "<br> Выше оставил ссылку на использование phi_k. Так же при подборе гиперпараметров стоит прописать scoring\n",
    "\n"
   ]
  },
  {
   "cell_type": "markdown",
   "id": "27697ef4",
   "metadata": {},
   "source": [
    "Precision: Out of all the players that the model predicted would get drafted, only 43% actually did.\n",
    "\n",
    "Recall: Out of all the players that actually did get drafted, the model only predicted this outcome correctly for 36% of those players.\n",
    "\n",
    "F1 Score: This value is calculated as:\n",
    "\n",
    "F1 Score: 2 * (Precision * Recall) / (Precision + Recall)\n",
    "F1 Score: 2 * (.43 * .36) / (.43 + .36)\n",
    "F1 Score: 0.40.\n",
    "Since this value isn’t very close to 1, it tells us that the model does a poor job of predicting whether or not players will get drafted.\n",
    "\n",
    "Support: These values simply tell us how many players belonged to each class in the test dataset. We can see that among the players in the test dataset, 160 did not get drafted and 140 did get drafted."
   ]
  }
 ],
 "metadata": {
  "ExecuteTimeLog": [
   {
    "duration": 1734,
    "start_time": "2023-02-01T07:41:26.613Z"
   },
   {
    "duration": 0,
    "start_time": "2023-02-01T07:41:28.353Z"
   },
   {
    "duration": 0,
    "start_time": "2023-02-01T07:41:28.355Z"
   },
   {
    "duration": 0,
    "start_time": "2023-02-01T07:41:28.357Z"
   },
   {
    "duration": 0,
    "start_time": "2023-02-01T07:41:28.358Z"
   },
   {
    "duration": 0,
    "start_time": "2023-02-01T07:41:28.360Z"
   },
   {
    "duration": 0,
    "start_time": "2023-02-01T07:41:28.362Z"
   },
   {
    "duration": 0,
    "start_time": "2023-02-01T07:41:28.364Z"
   },
   {
    "duration": 0,
    "start_time": "2023-02-01T07:41:28.365Z"
   },
   {
    "duration": 0,
    "start_time": "2023-02-01T07:41:28.366Z"
   },
   {
    "duration": 0,
    "start_time": "2023-02-01T07:41:28.367Z"
   },
   {
    "duration": 0,
    "start_time": "2023-02-01T07:41:28.370Z"
   },
   {
    "duration": 0,
    "start_time": "2023-02-01T07:41:28.371Z"
   },
   {
    "duration": 0,
    "start_time": "2023-02-01T07:41:28.372Z"
   },
   {
    "duration": 0,
    "start_time": "2023-02-01T07:41:28.374Z"
   },
   {
    "duration": 0,
    "start_time": "2023-02-01T07:41:28.375Z"
   },
   {
    "duration": 0,
    "start_time": "2023-02-01T07:41:28.376Z"
   },
   {
    "duration": 0,
    "start_time": "2023-02-01T07:41:28.378Z"
   },
   {
    "duration": 0,
    "start_time": "2023-02-01T07:41:28.379Z"
   },
   {
    "duration": 0,
    "start_time": "2023-02-01T07:41:28.381Z"
   },
   {
    "duration": 0,
    "start_time": "2023-02-01T07:41:28.383Z"
   },
   {
    "duration": 0,
    "start_time": "2023-02-01T07:41:28.385Z"
   },
   {
    "duration": 0,
    "start_time": "2023-02-01T07:41:28.386Z"
   },
   {
    "duration": 0,
    "start_time": "2023-02-01T07:41:28.437Z"
   },
   {
    "duration": 0,
    "start_time": "2023-02-01T07:41:28.438Z"
   },
   {
    "duration": 0,
    "start_time": "2023-02-01T07:41:28.440Z"
   },
   {
    "duration": 0,
    "start_time": "2023-02-01T07:41:28.442Z"
   },
   {
    "duration": 0,
    "start_time": "2023-02-01T07:41:28.444Z"
   },
   {
    "duration": 0,
    "start_time": "2023-02-01T07:41:28.446Z"
   },
   {
    "duration": 0,
    "start_time": "2023-02-01T07:41:28.447Z"
   },
   {
    "duration": 1,
    "start_time": "2023-02-01T07:41:28.448Z"
   },
   {
    "duration": 0,
    "start_time": "2023-02-01T07:41:28.450Z"
   },
   {
    "duration": 0,
    "start_time": "2023-02-01T07:41:28.451Z"
   },
   {
    "duration": 0,
    "start_time": "2023-02-01T07:41:28.452Z"
   },
   {
    "duration": 0,
    "start_time": "2023-02-01T07:41:28.454Z"
   },
   {
    "duration": 0,
    "start_time": "2023-02-01T07:41:28.455Z"
   },
   {
    "duration": 0,
    "start_time": "2023-02-01T07:41:28.457Z"
   },
   {
    "duration": 0,
    "start_time": "2023-02-01T07:41:28.459Z"
   },
   {
    "duration": 0,
    "start_time": "2023-02-01T07:41:28.460Z"
   },
   {
    "duration": 0,
    "start_time": "2023-02-01T07:41:28.462Z"
   },
   {
    "duration": 0,
    "start_time": "2023-02-01T07:41:28.464Z"
   },
   {
    "duration": 0,
    "start_time": "2023-02-01T07:41:28.465Z"
   },
   {
    "duration": 0,
    "start_time": "2023-02-01T07:41:28.467Z"
   },
   {
    "duration": 0,
    "start_time": "2023-02-01T07:41:28.468Z"
   },
   {
    "duration": 0,
    "start_time": "2023-02-01T07:41:28.470Z"
   },
   {
    "duration": 0,
    "start_time": "2023-02-01T07:41:28.472Z"
   },
   {
    "duration": 0,
    "start_time": "2023-02-01T07:41:28.473Z"
   },
   {
    "duration": 0,
    "start_time": "2023-02-01T07:41:28.474Z"
   },
   {
    "duration": 0,
    "start_time": "2023-02-01T07:41:28.476Z"
   },
   {
    "duration": 0,
    "start_time": "2023-02-01T07:41:28.477Z"
   },
   {
    "duration": 0,
    "start_time": "2023-02-01T07:41:28.538Z"
   },
   {
    "duration": 0,
    "start_time": "2023-02-01T07:41:28.539Z"
   },
   {
    "duration": 0,
    "start_time": "2023-02-01T07:41:28.541Z"
   },
   {
    "duration": 0,
    "start_time": "2023-02-01T07:41:28.542Z"
   },
   {
    "duration": 0,
    "start_time": "2023-02-01T07:41:28.544Z"
   },
   {
    "duration": 0,
    "start_time": "2023-02-01T07:41:28.545Z"
   },
   {
    "duration": 0,
    "start_time": "2023-02-01T07:41:28.547Z"
   },
   {
    "duration": 0,
    "start_time": "2023-02-01T07:41:28.548Z"
   },
   {
    "duration": 0,
    "start_time": "2023-02-01T07:41:28.549Z"
   },
   {
    "duration": 0,
    "start_time": "2023-02-01T07:41:28.551Z"
   },
   {
    "duration": 0,
    "start_time": "2023-02-01T07:41:28.552Z"
   },
   {
    "duration": 0,
    "start_time": "2023-02-01T07:41:28.553Z"
   },
   {
    "duration": 0,
    "start_time": "2023-02-01T07:41:28.554Z"
   },
   {
    "duration": 0,
    "start_time": "2023-02-01T07:41:28.555Z"
   },
   {
    "duration": 0,
    "start_time": "2023-02-01T07:41:28.556Z"
   },
   {
    "duration": 0,
    "start_time": "2023-02-01T07:41:28.558Z"
   },
   {
    "duration": 0,
    "start_time": "2023-02-01T07:41:28.559Z"
   },
   {
    "duration": 0,
    "start_time": "2023-02-01T07:41:28.560Z"
   },
   {
    "duration": 0,
    "start_time": "2023-02-01T07:41:28.561Z"
   },
   {
    "duration": 0,
    "start_time": "2023-02-01T07:41:28.562Z"
   },
   {
    "duration": 0,
    "start_time": "2023-02-01T07:41:28.563Z"
   },
   {
    "duration": 0,
    "start_time": "2023-02-01T07:41:28.564Z"
   },
   {
    "duration": 0,
    "start_time": "2023-02-01T07:41:28.565Z"
   },
   {
    "duration": 0,
    "start_time": "2023-02-01T07:41:28.566Z"
   },
   {
    "duration": 0,
    "start_time": "2023-02-01T07:41:28.567Z"
   },
   {
    "duration": 0,
    "start_time": "2023-02-01T07:41:28.568Z"
   },
   {
    "duration": 0,
    "start_time": "2023-02-01T07:41:28.569Z"
   },
   {
    "duration": 0,
    "start_time": "2023-02-01T07:41:28.570Z"
   },
   {
    "duration": 0,
    "start_time": "2023-02-01T07:41:28.571Z"
   },
   {
    "duration": 0,
    "start_time": "2023-02-01T07:41:28.572Z"
   },
   {
    "duration": 0,
    "start_time": "2023-02-01T07:41:28.573Z"
   },
   {
    "duration": 0,
    "start_time": "2023-02-01T07:41:28.636Z"
   },
   {
    "duration": 0,
    "start_time": "2023-02-01T07:41:28.638Z"
   },
   {
    "duration": 0,
    "start_time": "2023-02-01T07:41:28.639Z"
   },
   {
    "duration": 0,
    "start_time": "2023-02-01T07:41:28.640Z"
   },
   {
    "duration": 0,
    "start_time": "2023-02-01T07:41:28.642Z"
   },
   {
    "duration": 0,
    "start_time": "2023-02-01T07:41:28.643Z"
   },
   {
    "duration": 0,
    "start_time": "2023-02-01T07:41:28.644Z"
   },
   {
    "duration": 0,
    "start_time": "2023-02-01T07:41:28.645Z"
   },
   {
    "duration": 0,
    "start_time": "2023-02-01T07:41:28.646Z"
   },
   {
    "duration": 0,
    "start_time": "2023-02-01T07:41:28.647Z"
   },
   {
    "duration": 0,
    "start_time": "2023-02-01T07:41:28.648Z"
   },
   {
    "duration": 0,
    "start_time": "2023-02-01T07:41:28.649Z"
   },
   {
    "duration": 0,
    "start_time": "2023-02-01T07:41:28.650Z"
   },
   {
    "duration": 0,
    "start_time": "2023-02-01T07:41:28.651Z"
   },
   {
    "duration": 0,
    "start_time": "2023-02-01T07:41:28.652Z"
   },
   {
    "duration": 0,
    "start_time": "2023-02-01T07:41:28.653Z"
   },
   {
    "duration": 0,
    "start_time": "2023-02-01T07:41:28.654Z"
   },
   {
    "duration": 0,
    "start_time": "2023-02-01T07:41:28.655Z"
   },
   {
    "duration": 0,
    "start_time": "2023-02-01T07:41:28.656Z"
   },
   {
    "duration": 0,
    "start_time": "2023-02-01T07:41:28.657Z"
   },
   {
    "duration": 14542,
    "start_time": "2023-02-01T07:47:25.068Z"
   },
   {
    "duration": 3188,
    "start_time": "2023-02-01T07:47:39.612Z"
   },
   {
    "duration": 196,
    "start_time": "2023-02-01T07:47:42.801Z"
   },
   {
    "duration": 0,
    "start_time": "2023-02-01T07:47:43.002Z"
   },
   {
    "duration": 0,
    "start_time": "2023-02-01T07:47:43.003Z"
   },
   {
    "duration": 0,
    "start_time": "2023-02-01T07:47:43.004Z"
   },
   {
    "duration": 0,
    "start_time": "2023-02-01T07:47:43.006Z"
   },
   {
    "duration": 0,
    "start_time": "2023-02-01T07:47:43.007Z"
   },
   {
    "duration": 0,
    "start_time": "2023-02-01T07:47:43.008Z"
   },
   {
    "duration": 0,
    "start_time": "2023-02-01T07:47:43.009Z"
   },
   {
    "duration": 0,
    "start_time": "2023-02-01T07:47:43.010Z"
   },
   {
    "duration": 0,
    "start_time": "2023-02-01T07:47:43.011Z"
   },
   {
    "duration": 0,
    "start_time": "2023-02-01T07:47:43.012Z"
   },
   {
    "duration": 1,
    "start_time": "2023-02-01T07:47:43.012Z"
   },
   {
    "duration": 0,
    "start_time": "2023-02-01T07:47:43.014Z"
   },
   {
    "duration": 0,
    "start_time": "2023-02-01T07:47:43.014Z"
   },
   {
    "duration": 0,
    "start_time": "2023-02-01T07:47:43.015Z"
   },
   {
    "duration": 0,
    "start_time": "2023-02-01T07:47:43.016Z"
   },
   {
    "duration": 0,
    "start_time": "2023-02-01T07:47:43.017Z"
   },
   {
    "duration": 0,
    "start_time": "2023-02-01T07:47:43.018Z"
   },
   {
    "duration": 0,
    "start_time": "2023-02-01T07:47:43.019Z"
   },
   {
    "duration": 0,
    "start_time": "2023-02-01T07:47:43.020Z"
   },
   {
    "duration": 0,
    "start_time": "2023-02-01T07:47:43.021Z"
   },
   {
    "duration": 0,
    "start_time": "2023-02-01T07:47:43.036Z"
   },
   {
    "duration": 0,
    "start_time": "2023-02-01T07:47:43.038Z"
   },
   {
    "duration": 0,
    "start_time": "2023-02-01T07:47:43.039Z"
   },
   {
    "duration": 0,
    "start_time": "2023-02-01T07:47:43.040Z"
   },
   {
    "duration": 0,
    "start_time": "2023-02-01T07:47:43.041Z"
   },
   {
    "duration": 0,
    "start_time": "2023-02-01T07:47:43.042Z"
   },
   {
    "duration": 0,
    "start_time": "2023-02-01T07:47:43.043Z"
   },
   {
    "duration": 0,
    "start_time": "2023-02-01T07:47:43.044Z"
   },
   {
    "duration": 0,
    "start_time": "2023-02-01T07:47:43.045Z"
   },
   {
    "duration": 0,
    "start_time": "2023-02-01T07:47:43.046Z"
   },
   {
    "duration": 0,
    "start_time": "2023-02-01T07:47:43.047Z"
   },
   {
    "duration": 0,
    "start_time": "2023-02-01T07:47:43.050Z"
   },
   {
    "duration": 0,
    "start_time": "2023-02-01T07:47:43.051Z"
   },
   {
    "duration": 1,
    "start_time": "2023-02-01T07:47:43.052Z"
   },
   {
    "duration": 0,
    "start_time": "2023-02-01T07:47:43.053Z"
   },
   {
    "duration": 0,
    "start_time": "2023-02-01T07:47:43.055Z"
   },
   {
    "duration": 0,
    "start_time": "2023-02-01T07:47:43.055Z"
   },
   {
    "duration": 0,
    "start_time": "2023-02-01T07:47:43.056Z"
   },
   {
    "duration": 0,
    "start_time": "2023-02-01T07:47:43.058Z"
   },
   {
    "duration": 0,
    "start_time": "2023-02-01T07:47:43.059Z"
   },
   {
    "duration": 0,
    "start_time": "2023-02-01T07:47:43.060Z"
   },
   {
    "duration": 0,
    "start_time": "2023-02-01T07:47:43.061Z"
   },
   {
    "duration": 0,
    "start_time": "2023-02-01T07:47:43.062Z"
   },
   {
    "duration": 0,
    "start_time": "2023-02-01T07:47:43.063Z"
   },
   {
    "duration": 0,
    "start_time": "2023-02-01T07:47:43.064Z"
   },
   {
    "duration": 0,
    "start_time": "2023-02-01T07:47:43.065Z"
   },
   {
    "duration": 0,
    "start_time": "2023-02-01T07:47:43.066Z"
   },
   {
    "duration": 0,
    "start_time": "2023-02-01T07:47:43.068Z"
   },
   {
    "duration": 0,
    "start_time": "2023-02-01T07:47:43.069Z"
   },
   {
    "duration": 0,
    "start_time": "2023-02-01T07:47:43.070Z"
   },
   {
    "duration": 0,
    "start_time": "2023-02-01T07:47:43.071Z"
   },
   {
    "duration": 0,
    "start_time": "2023-02-01T07:47:43.072Z"
   },
   {
    "duration": 0,
    "start_time": "2023-02-01T07:47:43.073Z"
   },
   {
    "duration": 0,
    "start_time": "2023-02-01T07:47:43.137Z"
   },
   {
    "duration": 0,
    "start_time": "2023-02-01T07:47:43.138Z"
   },
   {
    "duration": 0,
    "start_time": "2023-02-01T07:47:43.139Z"
   },
   {
    "duration": 0,
    "start_time": "2023-02-01T07:47:43.141Z"
   },
   {
    "duration": 0,
    "start_time": "2023-02-01T07:47:43.142Z"
   },
   {
    "duration": 0,
    "start_time": "2023-02-01T07:47:43.143Z"
   },
   {
    "duration": 0,
    "start_time": "2023-02-01T07:47:43.144Z"
   },
   {
    "duration": 0,
    "start_time": "2023-02-01T07:47:43.145Z"
   },
   {
    "duration": 0,
    "start_time": "2023-02-01T07:47:43.146Z"
   },
   {
    "duration": 0,
    "start_time": "2023-02-01T07:47:43.147Z"
   },
   {
    "duration": 0,
    "start_time": "2023-02-01T07:47:43.148Z"
   },
   {
    "duration": 0,
    "start_time": "2023-02-01T07:47:43.149Z"
   },
   {
    "duration": 0,
    "start_time": "2023-02-01T07:47:43.150Z"
   },
   {
    "duration": 0,
    "start_time": "2023-02-01T07:47:43.151Z"
   },
   {
    "duration": 0,
    "start_time": "2023-02-01T07:47:43.152Z"
   },
   {
    "duration": 0,
    "start_time": "2023-02-01T07:47:43.153Z"
   },
   {
    "duration": 0,
    "start_time": "2023-02-01T07:47:43.154Z"
   },
   {
    "duration": 1,
    "start_time": "2023-02-01T07:47:43.154Z"
   },
   {
    "duration": 0,
    "start_time": "2023-02-01T07:47:43.155Z"
   },
   {
    "duration": 0,
    "start_time": "2023-02-01T07:47:43.157Z"
   },
   {
    "duration": 0,
    "start_time": "2023-02-01T07:47:43.157Z"
   },
   {
    "duration": 0,
    "start_time": "2023-02-01T07:47:43.158Z"
   },
   {
    "duration": 0,
    "start_time": "2023-02-01T07:47:43.160Z"
   },
   {
    "duration": 0,
    "start_time": "2023-02-01T07:47:43.161Z"
   },
   {
    "duration": 0,
    "start_time": "2023-02-01T07:47:43.162Z"
   },
   {
    "duration": 0,
    "start_time": "2023-02-01T07:47:43.163Z"
   },
   {
    "duration": 1,
    "start_time": "2023-02-01T07:47:43.163Z"
   },
   {
    "duration": 0,
    "start_time": "2023-02-01T07:47:43.164Z"
   },
   {
    "duration": 0,
    "start_time": "2023-02-01T07:47:43.166Z"
   },
   {
    "duration": 0,
    "start_time": "2023-02-01T07:47:43.167Z"
   },
   {
    "duration": 0,
    "start_time": "2023-02-01T07:47:43.168Z"
   },
   {
    "duration": 0,
    "start_time": "2023-02-01T07:47:43.169Z"
   },
   {
    "duration": 0,
    "start_time": "2023-02-01T07:47:43.169Z"
   },
   {
    "duration": 0,
    "start_time": "2023-02-01T07:47:43.170Z"
   },
   {
    "duration": 0,
    "start_time": "2023-02-01T07:47:43.171Z"
   },
   {
    "duration": 0,
    "start_time": "2023-02-01T07:47:43.173Z"
   },
   {
    "duration": 0,
    "start_time": "2023-02-01T07:47:43.174Z"
   },
   {
    "duration": 0,
    "start_time": "2023-02-01T07:47:43.237Z"
   },
   {
    "duration": 0,
    "start_time": "2023-02-01T07:47:43.238Z"
   },
   {
    "duration": 0,
    "start_time": "2023-02-01T07:47:43.239Z"
   },
   {
    "duration": 0,
    "start_time": "2023-02-01T07:47:43.240Z"
   },
   {
    "duration": 0,
    "start_time": "2023-02-01T07:47:43.241Z"
   },
   {
    "duration": 0,
    "start_time": "2023-02-01T07:47:43.241Z"
   },
   {
    "duration": 0,
    "start_time": "2023-02-01T07:47:43.243Z"
   },
   {
    "duration": 0,
    "start_time": "2023-02-01T07:47:43.243Z"
   },
   {
    "duration": 0,
    "start_time": "2023-02-01T07:47:43.244Z"
   },
   {
    "duration": 140,
    "start_time": "2023-02-01T07:54:26.029Z"
   },
   {
    "duration": 7,
    "start_time": "2023-02-01T07:54:27.578Z"
   },
   {
    "duration": 7,
    "start_time": "2023-02-01T07:54:30.100Z"
   },
   {
    "duration": 13,
    "start_time": "2023-02-01T07:54:34.366Z"
   },
   {
    "duration": 14,
    "start_time": "2023-02-01T07:54:35.980Z"
   },
   {
    "duration": 9,
    "start_time": "2023-02-01T07:54:37.536Z"
   },
   {
    "duration": 13,
    "start_time": "2023-02-01T07:54:38.516Z"
   },
   {
    "duration": 11,
    "start_time": "2023-02-01T07:54:52.588Z"
   },
   {
    "duration": 16,
    "start_time": "2023-02-01T07:55:10.244Z"
   },
   {
    "duration": 5,
    "start_time": "2023-02-01T07:55:11.358Z"
   },
   {
    "duration": 5,
    "start_time": "2023-02-01T07:55:15.253Z"
   },
   {
    "duration": 20,
    "start_time": "2023-02-01T07:55:16.517Z"
   },
   {
    "duration": 6,
    "start_time": "2023-02-01T07:55:18.196Z"
   },
   {
    "duration": 21,
    "start_time": "2023-02-01T07:55:19.070Z"
   },
   {
    "duration": 4,
    "start_time": "2023-02-01T07:55:20.357Z"
   },
   {
    "duration": 20,
    "start_time": "2023-02-01T07:55:21.660Z"
   },
   {
    "duration": 12,
    "start_time": "2023-02-01T07:55:26.426Z"
   },
   {
    "duration": 20,
    "start_time": "2023-02-01T07:55:27.420Z"
   },
   {
    "duration": 26,
    "start_time": "2023-02-01T07:55:28.436Z"
   },
   {
    "duration": 2,
    "start_time": "2023-02-01T07:55:29.748Z"
   },
   {
    "duration": 10,
    "start_time": "2023-02-01T07:55:30.665Z"
   },
   {
    "duration": 5,
    "start_time": "2023-02-01T07:55:31.469Z"
   },
   {
    "duration": 8,
    "start_time": "2023-02-01T07:55:32.350Z"
   },
   {
    "duration": 20,
    "start_time": "2023-02-01T07:55:33.563Z"
   },
   {
    "duration": 5,
    "start_time": "2023-02-01T07:55:34.740Z"
   },
   {
    "duration": 15,
    "start_time": "2023-02-01T07:55:35.532Z"
   },
   {
    "duration": 785,
    "start_time": "2023-02-01T07:55:36.700Z"
   },
   {
    "duration": 17,
    "start_time": "2023-02-01T07:55:37.701Z"
   },
   {
    "duration": 15,
    "start_time": "2023-02-01T07:56:51.670Z"
   },
   {
    "duration": 4,
    "start_time": "2023-02-01T07:57:01.024Z"
   },
   {
    "duration": 8,
    "start_time": "2023-02-01T07:57:02.541Z"
   },
   {
    "duration": 6,
    "start_time": "2023-02-01T07:57:04.464Z"
   },
   {
    "duration": 7,
    "start_time": "2023-02-01T07:57:05.381Z"
   },
   {
    "duration": 6,
    "start_time": "2023-02-01T07:57:06.301Z"
   },
   {
    "duration": 121,
    "start_time": "2023-02-01T07:57:07.173Z"
   },
   {
    "duration": 10,
    "start_time": "2023-02-01T07:57:10.485Z"
   },
   {
    "duration": 18,
    "start_time": "2023-02-01T07:58:16.846Z"
   },
   {
    "duration": 15,
    "start_time": "2023-02-01T08:04:34.160Z"
   },
   {
    "duration": 14,
    "start_time": "2023-02-01T08:11:11.275Z"
   },
   {
    "duration": 9,
    "start_time": "2023-02-01T08:18:42.971Z"
   },
   {
    "duration": 2315,
    "start_time": "2023-02-01T08:18:50.263Z"
   },
   {
    "duration": 1997,
    "start_time": "2023-02-01T08:18:52.580Z"
   },
   {
    "duration": 172,
    "start_time": "2023-02-01T08:18:54.579Z"
   },
   {
    "duration": 0,
    "start_time": "2023-02-01T08:18:54.756Z"
   },
   {
    "duration": 0,
    "start_time": "2023-02-01T08:18:54.757Z"
   },
   {
    "duration": 0,
    "start_time": "2023-02-01T08:18:54.758Z"
   },
   {
    "duration": 0,
    "start_time": "2023-02-01T08:18:54.759Z"
   },
   {
    "duration": 0,
    "start_time": "2023-02-01T08:18:54.760Z"
   },
   {
    "duration": 0,
    "start_time": "2023-02-01T08:18:54.761Z"
   },
   {
    "duration": 0,
    "start_time": "2023-02-01T08:18:54.763Z"
   },
   {
    "duration": 0,
    "start_time": "2023-02-01T08:18:54.764Z"
   },
   {
    "duration": 0,
    "start_time": "2023-02-01T08:18:54.765Z"
   },
   {
    "duration": 0,
    "start_time": "2023-02-01T08:18:54.766Z"
   },
   {
    "duration": 0,
    "start_time": "2023-02-01T08:18:54.768Z"
   },
   {
    "duration": 0,
    "start_time": "2023-02-01T08:18:54.769Z"
   },
   {
    "duration": 0,
    "start_time": "2023-02-01T08:18:54.770Z"
   },
   {
    "duration": 0,
    "start_time": "2023-02-01T08:18:54.772Z"
   },
   {
    "duration": 0,
    "start_time": "2023-02-01T08:18:54.773Z"
   },
   {
    "duration": 0,
    "start_time": "2023-02-01T08:18:54.774Z"
   },
   {
    "duration": 0,
    "start_time": "2023-02-01T08:18:54.775Z"
   },
   {
    "duration": 0,
    "start_time": "2023-02-01T08:18:54.775Z"
   },
   {
    "duration": 0,
    "start_time": "2023-02-01T08:18:54.776Z"
   },
   {
    "duration": 0,
    "start_time": "2023-02-01T08:18:54.777Z"
   },
   {
    "duration": 0,
    "start_time": "2023-02-01T08:18:54.778Z"
   },
   {
    "duration": 0,
    "start_time": "2023-02-01T08:18:54.779Z"
   },
   {
    "duration": 0,
    "start_time": "2023-02-01T08:18:54.780Z"
   },
   {
    "duration": 0,
    "start_time": "2023-02-01T08:18:54.781Z"
   },
   {
    "duration": 0,
    "start_time": "2023-02-01T08:18:54.782Z"
   },
   {
    "duration": 0,
    "start_time": "2023-02-01T08:18:54.783Z"
   },
   {
    "duration": 0,
    "start_time": "2023-02-01T08:18:54.784Z"
   },
   {
    "duration": 0,
    "start_time": "2023-02-01T08:18:54.785Z"
   },
   {
    "duration": 0,
    "start_time": "2023-02-01T08:18:54.786Z"
   },
   {
    "duration": 0,
    "start_time": "2023-02-01T08:18:54.837Z"
   },
   {
    "duration": 0,
    "start_time": "2023-02-01T08:18:54.838Z"
   },
   {
    "duration": 0,
    "start_time": "2023-02-01T08:18:54.839Z"
   },
   {
    "duration": 0,
    "start_time": "2023-02-01T08:18:54.840Z"
   },
   {
    "duration": 0,
    "start_time": "2023-02-01T08:18:54.841Z"
   },
   {
    "duration": 0,
    "start_time": "2023-02-01T08:18:54.842Z"
   },
   {
    "duration": 0,
    "start_time": "2023-02-01T08:18:54.843Z"
   },
   {
    "duration": 0,
    "start_time": "2023-02-01T08:18:54.844Z"
   },
   {
    "duration": 0,
    "start_time": "2023-02-01T08:18:54.845Z"
   },
   {
    "duration": 0,
    "start_time": "2023-02-01T08:18:54.846Z"
   },
   {
    "duration": 0,
    "start_time": "2023-02-01T08:18:54.847Z"
   },
   {
    "duration": 0,
    "start_time": "2023-02-01T08:18:54.848Z"
   },
   {
    "duration": 0,
    "start_time": "2023-02-01T08:18:54.849Z"
   },
   {
    "duration": 0,
    "start_time": "2023-02-01T08:18:54.850Z"
   },
   {
    "duration": 0,
    "start_time": "2023-02-01T08:18:54.851Z"
   },
   {
    "duration": 0,
    "start_time": "2023-02-01T08:18:54.852Z"
   },
   {
    "duration": 0,
    "start_time": "2023-02-01T08:18:54.853Z"
   },
   {
    "duration": 1,
    "start_time": "2023-02-01T08:18:54.854Z"
   },
   {
    "duration": 0,
    "start_time": "2023-02-01T08:18:54.855Z"
   },
   {
    "duration": 0,
    "start_time": "2023-02-01T08:18:54.857Z"
   },
   {
    "duration": 0,
    "start_time": "2023-02-01T08:18:54.858Z"
   },
   {
    "duration": 0,
    "start_time": "2023-02-01T08:18:54.859Z"
   },
   {
    "duration": 0,
    "start_time": "2023-02-01T08:18:54.860Z"
   },
   {
    "duration": 0,
    "start_time": "2023-02-01T08:18:54.861Z"
   },
   {
    "duration": 1,
    "start_time": "2023-02-01T08:18:54.861Z"
   },
   {
    "duration": 0,
    "start_time": "2023-02-01T08:18:54.862Z"
   },
   {
    "duration": 0,
    "start_time": "2023-02-01T08:18:54.864Z"
   },
   {
    "duration": 0,
    "start_time": "2023-02-01T08:18:54.865Z"
   },
   {
    "duration": 0,
    "start_time": "2023-02-01T08:18:54.866Z"
   },
   {
    "duration": 0,
    "start_time": "2023-02-01T08:18:54.867Z"
   },
   {
    "duration": 0,
    "start_time": "2023-02-01T08:18:54.868Z"
   },
   {
    "duration": 0,
    "start_time": "2023-02-01T08:18:54.869Z"
   },
   {
    "duration": 0,
    "start_time": "2023-02-01T08:18:54.870Z"
   },
   {
    "duration": 0,
    "start_time": "2023-02-01T08:18:54.871Z"
   },
   {
    "duration": 0,
    "start_time": "2023-02-01T08:18:54.872Z"
   },
   {
    "duration": 0,
    "start_time": "2023-02-01T08:18:54.873Z"
   },
   {
    "duration": 0,
    "start_time": "2023-02-01T08:18:54.874Z"
   },
   {
    "duration": 0,
    "start_time": "2023-02-01T08:18:54.874Z"
   },
   {
    "duration": 0,
    "start_time": "2023-02-01T08:18:54.937Z"
   },
   {
    "duration": 0,
    "start_time": "2023-02-01T08:18:54.938Z"
   },
   {
    "duration": 0,
    "start_time": "2023-02-01T08:18:54.940Z"
   },
   {
    "duration": 0,
    "start_time": "2023-02-01T08:18:54.941Z"
   },
   {
    "duration": 0,
    "start_time": "2023-02-01T08:18:54.943Z"
   },
   {
    "duration": 0,
    "start_time": "2023-02-01T08:18:54.944Z"
   },
   {
    "duration": 0,
    "start_time": "2023-02-01T08:18:54.945Z"
   },
   {
    "duration": 0,
    "start_time": "2023-02-01T08:18:54.945Z"
   },
   {
    "duration": 0,
    "start_time": "2023-02-01T08:18:54.947Z"
   },
   {
    "duration": 0,
    "start_time": "2023-02-01T08:18:54.947Z"
   },
   {
    "duration": 0,
    "start_time": "2023-02-01T08:18:54.948Z"
   },
   {
    "duration": 0,
    "start_time": "2023-02-01T08:18:54.949Z"
   },
   {
    "duration": 0,
    "start_time": "2023-02-01T08:18:54.951Z"
   },
   {
    "duration": 0,
    "start_time": "2023-02-01T08:18:54.951Z"
   },
   {
    "duration": 0,
    "start_time": "2023-02-01T08:18:54.952Z"
   },
   {
    "duration": 0,
    "start_time": "2023-02-01T08:18:54.954Z"
   },
   {
    "duration": 0,
    "start_time": "2023-02-01T08:18:54.955Z"
   },
   {
    "duration": 0,
    "start_time": "2023-02-01T08:18:54.955Z"
   },
   {
    "duration": 0,
    "start_time": "2023-02-01T08:18:54.956Z"
   },
   {
    "duration": 0,
    "start_time": "2023-02-01T08:18:54.957Z"
   },
   {
    "duration": 0,
    "start_time": "2023-02-01T08:18:54.959Z"
   },
   {
    "duration": 0,
    "start_time": "2023-02-01T08:18:54.960Z"
   },
   {
    "duration": 0,
    "start_time": "2023-02-01T08:18:54.961Z"
   },
   {
    "duration": 0,
    "start_time": "2023-02-01T08:18:54.962Z"
   },
   {
    "duration": 0,
    "start_time": "2023-02-01T08:18:54.963Z"
   },
   {
    "duration": 0,
    "start_time": "2023-02-01T08:18:54.964Z"
   },
   {
    "duration": 0,
    "start_time": "2023-02-01T08:18:54.965Z"
   },
   {
    "duration": 0,
    "start_time": "2023-02-01T08:18:54.966Z"
   },
   {
    "duration": 0,
    "start_time": "2023-02-01T08:18:54.968Z"
   },
   {
    "duration": 0,
    "start_time": "2023-02-01T08:18:54.969Z"
   },
   {
    "duration": 0,
    "start_time": "2023-02-01T08:18:54.970Z"
   },
   {
    "duration": 0,
    "start_time": "2023-02-01T08:18:54.971Z"
   },
   {
    "duration": 0,
    "start_time": "2023-02-01T08:18:54.972Z"
   },
   {
    "duration": 0,
    "start_time": "2023-02-01T08:18:54.973Z"
   },
   {
    "duration": 0,
    "start_time": "2023-02-01T08:18:55.038Z"
   },
   {
    "duration": 0,
    "start_time": "2023-02-01T08:18:55.039Z"
   },
   {
    "duration": 52,
    "start_time": "2023-02-01T08:18:59.980Z"
   },
   {
    "duration": 24,
    "start_time": "2023-02-01T08:19:01.011Z"
   },
   {
    "duration": 4,
    "start_time": "2023-02-01T08:19:02.062Z"
   },
   {
    "duration": 7,
    "start_time": "2023-02-01T08:19:02.893Z"
   },
   {
    "duration": 11,
    "start_time": "2023-02-01T08:19:04.187Z"
   },
   {
    "duration": 12,
    "start_time": "2023-02-01T08:19:06.059Z"
   },
   {
    "duration": 10,
    "start_time": "2023-02-01T08:19:07.010Z"
   },
   {
    "duration": 12,
    "start_time": "2023-02-01T08:19:07.906Z"
   },
   {
    "duration": 17,
    "start_time": "2023-02-01T08:19:09.116Z"
   },
   {
    "duration": 5,
    "start_time": "2023-02-01T08:19:10.274Z"
   },
   {
    "duration": 5,
    "start_time": "2023-02-01T08:19:12.556Z"
   },
   {
    "duration": 26,
    "start_time": "2023-02-01T08:19:13.459Z"
   },
   {
    "duration": 7,
    "start_time": "2023-02-01T08:19:14.515Z"
   },
   {
    "duration": 21,
    "start_time": "2023-02-01T08:19:15.324Z"
   },
   {
    "duration": 5,
    "start_time": "2023-02-01T08:19:16.482Z"
   },
   {
    "duration": 19,
    "start_time": "2023-02-01T08:19:17.420Z"
   },
   {
    "duration": 16,
    "start_time": "2023-02-01T08:19:18.480Z"
   },
   {
    "duration": 8,
    "start_time": "2023-02-01T08:19:19.612Z"
   },
   {
    "duration": 20,
    "start_time": "2023-02-01T08:19:20.697Z"
   },
   {
    "duration": 21,
    "start_time": "2023-02-01T08:19:21.683Z"
   },
   {
    "duration": 5292,
    "start_time": "2023-02-07T07:08:24.032Z"
   },
   {
    "duration": 2709,
    "start_time": "2023-02-07T07:08:29.327Z"
   },
   {
    "duration": 1569,
    "start_time": "2023-02-07T07:08:32.038Z"
   },
   {
    "duration": 3,
    "start_time": "2023-02-07T07:08:33.609Z"
   },
   {
    "duration": 137,
    "start_time": "2023-02-07T07:08:33.613Z"
   },
   {
    "duration": 17,
    "start_time": "2023-02-07T07:08:33.752Z"
   },
   {
    "duration": 8,
    "start_time": "2023-02-07T07:08:33.771Z"
   },
   {
    "duration": 9,
    "start_time": "2023-02-07T07:08:33.780Z"
   },
   {
    "duration": 17,
    "start_time": "2023-02-07T07:08:33.791Z"
   },
   {
    "duration": 12,
    "start_time": "2023-02-07T07:08:33.812Z"
   },
   {
    "duration": 33,
    "start_time": "2023-02-07T07:08:33.826Z"
   },
   {
    "duration": 21,
    "start_time": "2023-02-07T07:08:33.861Z"
   },
   {
    "duration": 30,
    "start_time": "2023-02-07T07:08:33.883Z"
   },
   {
    "duration": 6,
    "start_time": "2023-02-07T07:08:33.915Z"
   },
   {
    "duration": 6,
    "start_time": "2023-02-07T07:08:33.923Z"
   },
   {
    "duration": 12,
    "start_time": "2023-02-07T07:08:33.948Z"
   },
   {
    "duration": 5,
    "start_time": "2023-02-07T07:08:33.962Z"
   },
   {
    "duration": 12,
    "start_time": "2023-02-07T07:08:33.969Z"
   },
   {
    "duration": 7,
    "start_time": "2023-02-07T07:08:33.983Z"
   },
   {
    "duration": 17,
    "start_time": "2023-02-07T07:08:33.991Z"
   },
   {
    "duration": 40,
    "start_time": "2023-02-07T07:08:34.010Z"
   },
   {
    "duration": 9,
    "start_time": "2023-02-07T07:08:34.052Z"
   },
   {
    "duration": 17,
    "start_time": "2023-02-07T07:08:34.063Z"
   },
   {
    "duration": 15,
    "start_time": "2023-02-07T07:08:34.081Z"
   },
   {
    "duration": 11,
    "start_time": "2023-02-07T07:08:34.098Z"
   },
   {
    "duration": 10,
    "start_time": "2023-02-07T07:08:34.111Z"
   },
   {
    "duration": 13,
    "start_time": "2023-02-07T07:08:34.149Z"
   },
   {
    "duration": 12,
    "start_time": "2023-02-07T07:08:34.167Z"
   },
   {
    "duration": 18,
    "start_time": "2023-02-07T07:08:34.181Z"
   },
   {
    "duration": 2,
    "start_time": "2023-02-07T07:08:34.201Z"
   },
   {
    "duration": 5,
    "start_time": "2023-02-07T07:08:34.204Z"
   },
   {
    "duration": 6,
    "start_time": "2023-02-07T07:08:34.211Z"
   },
   {
    "duration": 13,
    "start_time": "2023-02-07T07:08:34.219Z"
   },
   {
    "duration": 23,
    "start_time": "2023-02-07T07:08:34.233Z"
   },
   {
    "duration": 4,
    "start_time": "2023-02-07T07:08:34.258Z"
   },
   {
    "duration": 8,
    "start_time": "2023-02-07T07:08:34.264Z"
   },
   {
    "duration": 8,
    "start_time": "2023-02-07T07:08:34.273Z"
   },
   {
    "duration": 13,
    "start_time": "2023-02-07T07:08:34.282Z"
   },
   {
    "duration": 9,
    "start_time": "2023-02-07T07:08:34.297Z"
   },
   {
    "duration": 114,
    "start_time": "2023-02-07T07:08:34.308Z"
   },
   {
    "duration": 9,
    "start_time": "2023-02-07T07:08:34.424Z"
   },
   {
    "duration": 10,
    "start_time": "2023-02-07T07:08:34.435Z"
   },
   {
    "duration": 9,
    "start_time": "2023-02-07T07:08:34.446Z"
   },
   {
    "duration": 11,
    "start_time": "2023-02-07T07:08:34.457Z"
   },
   {
    "duration": 9,
    "start_time": "2023-02-07T07:08:34.470Z"
   },
   {
    "duration": 9,
    "start_time": "2023-02-07T07:08:34.481Z"
   },
   {
    "duration": 7,
    "start_time": "2023-02-07T07:08:34.491Z"
   },
   {
    "duration": 8,
    "start_time": "2023-02-07T07:08:34.500Z"
   },
   {
    "duration": 6,
    "start_time": "2023-02-07T07:08:34.509Z"
   },
   {
    "duration": 6,
    "start_time": "2023-02-07T07:08:34.517Z"
   },
   {
    "duration": 87,
    "start_time": "2023-02-07T07:08:34.524Z"
   },
   {
    "duration": 8,
    "start_time": "2023-02-07T07:08:34.613Z"
   },
   {
    "duration": 8,
    "start_time": "2023-02-07T07:08:34.623Z"
   },
   {
    "duration": 6,
    "start_time": "2023-02-07T07:08:34.633Z"
   },
   {
    "duration": 7,
    "start_time": "2023-02-07T07:08:34.641Z"
   },
   {
    "duration": 6,
    "start_time": "2023-02-07T07:08:34.649Z"
   },
   {
    "duration": 7,
    "start_time": "2023-02-07T07:08:34.657Z"
   },
   {
    "duration": 106,
    "start_time": "2023-02-07T07:08:34.667Z"
   },
   {
    "duration": 9,
    "start_time": "2023-02-07T07:08:34.775Z"
   },
   {
    "duration": 9,
    "start_time": "2023-02-07T07:08:34.786Z"
   },
   {
    "duration": 38,
    "start_time": "2023-02-07T07:08:34.797Z"
   },
   {
    "duration": 4,
    "start_time": "2023-02-07T07:08:34.837Z"
   },
   {
    "duration": 22,
    "start_time": "2023-02-07T07:08:34.843Z"
   },
   {
    "duration": 23,
    "start_time": "2023-02-07T07:08:34.867Z"
   },
   {
    "duration": 2,
    "start_time": "2023-02-07T07:08:34.892Z"
   },
   {
    "duration": 71,
    "start_time": "2023-02-07T07:08:34.896Z"
   },
   {
    "duration": 11,
    "start_time": "2023-02-07T07:08:34.969Z"
   },
   {
    "duration": 15,
    "start_time": "2023-02-07T07:08:34.982Z"
   },
   {
    "duration": 15,
    "start_time": "2023-02-07T07:08:34.999Z"
   },
   {
    "duration": 33,
    "start_time": "2023-02-07T07:08:35.016Z"
   },
   {
    "duration": 13,
    "start_time": "2023-02-07T07:08:35.051Z"
   },
   {
    "duration": 38,
    "start_time": "2023-02-07T07:08:35.066Z"
   },
   {
    "duration": 9,
    "start_time": "2023-02-07T07:08:35.105Z"
   },
   {
    "duration": 7,
    "start_time": "2023-02-07T07:08:35.116Z"
   },
   {
    "duration": 9,
    "start_time": "2023-02-07T07:08:35.124Z"
   },
   {
    "duration": 11,
    "start_time": "2023-02-07T07:08:35.134Z"
   },
   {
    "duration": 7,
    "start_time": "2023-02-07T07:08:35.147Z"
   },
   {
    "duration": 12,
    "start_time": "2023-02-07T07:08:35.156Z"
   },
   {
    "duration": 9,
    "start_time": "2023-02-07T07:08:35.170Z"
   },
   {
    "duration": 10,
    "start_time": "2023-02-07T07:08:35.181Z"
   },
   {
    "duration": 6,
    "start_time": "2023-02-07T07:08:35.193Z"
   },
   {
    "duration": 4,
    "start_time": "2023-02-07T07:08:35.209Z"
   },
   {
    "duration": 8,
    "start_time": "2023-02-07T07:08:35.215Z"
   },
   {
    "duration": 25,
    "start_time": "2023-02-07T07:08:35.225Z"
   },
   {
    "duration": 6,
    "start_time": "2023-02-07T07:08:35.252Z"
   },
   {
    "duration": 120,
    "start_time": "2023-02-07T07:08:35.259Z"
   },
   {
    "duration": 21,
    "start_time": "2023-02-07T07:08:35.381Z"
   },
   {
    "duration": 16,
    "start_time": "2023-02-07T07:08:35.404Z"
   },
   {
    "duration": 5,
    "start_time": "2023-02-07T07:08:35.421Z"
   },
   {
    "duration": 5,
    "start_time": "2023-02-07T07:08:35.448Z"
   },
   {
    "duration": 6,
    "start_time": "2023-02-07T07:08:35.455Z"
   },
   {
    "duration": 5,
    "start_time": "2023-02-07T07:08:35.463Z"
   },
   {
    "duration": 24,
    "start_time": "2023-02-07T07:08:35.469Z"
   },
   {
    "duration": 13,
    "start_time": "2023-02-07T07:08:35.494Z"
   },
   {
    "duration": 5,
    "start_time": "2023-02-07T07:08:35.509Z"
   },
   {
    "duration": 6,
    "start_time": "2023-02-07T07:08:35.516Z"
   },
   {
    "duration": 11,
    "start_time": "2023-02-07T07:08:35.523Z"
   },
   {
    "duration": 16,
    "start_time": "2023-02-07T07:08:35.535Z"
   },
   {
    "duration": 8,
    "start_time": "2023-02-07T07:08:35.552Z"
   },
   {
    "duration": 9,
    "start_time": "2023-02-07T07:08:35.561Z"
   },
   {
    "duration": 9,
    "start_time": "2023-02-07T07:08:35.572Z"
   },
   {
    "duration": 5,
    "start_time": "2023-02-07T07:08:35.582Z"
   },
   {
    "duration": 12,
    "start_time": "2023-02-07T07:08:35.589Z"
   },
   {
    "duration": 9,
    "start_time": "2023-02-07T07:08:35.603Z"
   },
   {
    "duration": 10,
    "start_time": "2023-02-07T07:08:35.614Z"
   },
   {
    "duration": 24,
    "start_time": "2023-02-07T07:08:35.625Z"
   },
   {
    "duration": 16,
    "start_time": "2023-02-07T07:08:35.651Z"
   },
   {
    "duration": 7,
    "start_time": "2023-02-07T07:08:35.669Z"
   },
   {
    "duration": 10,
    "start_time": "2023-02-07T07:08:35.678Z"
   },
   {
    "duration": 9,
    "start_time": "2023-02-07T07:08:35.690Z"
   },
   {
    "duration": 8,
    "start_time": "2023-02-07T07:08:35.701Z"
   },
   {
    "duration": 10,
    "start_time": "2023-02-07T07:08:35.711Z"
   },
   {
    "duration": 26,
    "start_time": "2023-02-07T07:08:35.723Z"
   },
   {
    "duration": 5,
    "start_time": "2023-02-07T07:08:35.751Z"
   },
   {
    "duration": 8,
    "start_time": "2023-02-07T07:08:35.758Z"
   },
   {
    "duration": 21,
    "start_time": "2023-02-07T07:08:35.768Z"
   },
   {
    "duration": 17,
    "start_time": "2023-02-07T07:08:35.790Z"
   },
   {
    "duration": 8,
    "start_time": "2023-02-07T07:08:35.810Z"
   },
   {
    "duration": 10,
    "start_time": "2023-02-07T07:08:35.819Z"
   },
   {
    "duration": 7,
    "start_time": "2023-02-07T07:08:35.830Z"
   },
   {
    "duration": 13,
    "start_time": "2023-02-07T07:08:35.838Z"
   },
   {
    "duration": 7,
    "start_time": "2023-02-07T07:08:35.853Z"
   },
   {
    "duration": 10,
    "start_time": "2023-02-07T07:08:35.862Z"
   },
   {
    "duration": 26,
    "start_time": "2023-02-07T07:08:35.874Z"
   },
   {
    "duration": 4,
    "start_time": "2023-02-07T07:08:35.902Z"
   },
   {
    "duration": 47,
    "start_time": "2023-02-07T07:08:35.907Z"
   },
   {
    "duration": 17,
    "start_time": "2023-02-07T07:08:35.956Z"
   },
   {
    "duration": 6,
    "start_time": "2023-02-07T07:08:35.975Z"
   },
   {
    "duration": 15,
    "start_time": "2023-02-07T07:08:35.983Z"
   },
   {
    "duration": 5,
    "start_time": "2023-02-07T07:08:35.999Z"
   },
   {
    "duration": 13,
    "start_time": "2023-02-07T07:08:36.006Z"
   },
   {
    "duration": 145,
    "start_time": "2023-02-07T07:08:36.021Z"
   },
   {
    "duration": 1,
    "start_time": "2023-02-07T07:08:36.167Z"
   },
   {
    "duration": 0,
    "start_time": "2023-02-07T07:08:36.169Z"
   },
   {
    "duration": 0,
    "start_time": "2023-02-07T07:08:36.169Z"
   },
   {
    "duration": 0,
    "start_time": "2023-02-07T07:08:36.170Z"
   },
   {
    "duration": 0,
    "start_time": "2023-02-07T07:08:36.171Z"
   },
   {
    "duration": 0,
    "start_time": "2023-02-07T07:08:36.173Z"
   },
   {
    "duration": 0,
    "start_time": "2023-02-07T07:08:36.174Z"
   },
   {
    "duration": 0,
    "start_time": "2023-02-07T07:08:36.175Z"
   },
   {
    "duration": 0,
    "start_time": "2023-02-07T07:08:36.176Z"
   },
   {
    "duration": 0,
    "start_time": "2023-02-07T07:08:36.177Z"
   },
   {
    "duration": 0,
    "start_time": "2023-02-07T07:08:36.178Z"
   },
   {
    "duration": 0,
    "start_time": "2023-02-07T07:08:36.180Z"
   },
   {
    "duration": 0,
    "start_time": "2023-02-07T07:08:36.181Z"
   },
   {
    "duration": 0,
    "start_time": "2023-02-07T07:08:36.182Z"
   },
   {
    "duration": 0,
    "start_time": "2023-02-07T07:08:36.184Z"
   },
   {
    "duration": 0,
    "start_time": "2023-02-07T07:08:36.185Z"
   },
   {
    "duration": 0,
    "start_time": "2023-02-07T07:08:36.186Z"
   },
   {
    "duration": 0,
    "start_time": "2023-02-07T07:08:36.187Z"
   },
   {
    "duration": 0,
    "start_time": "2023-02-07T07:08:36.189Z"
   },
   {
    "duration": 0,
    "start_time": "2023-02-07T07:08:36.191Z"
   },
   {
    "duration": 0,
    "start_time": "2023-02-07T07:08:36.192Z"
   },
   {
    "duration": 0,
    "start_time": "2023-02-07T07:08:36.194Z"
   },
   {
    "duration": 0,
    "start_time": "2023-02-07T07:08:36.196Z"
   },
   {
    "duration": 0,
    "start_time": "2023-02-07T07:08:36.250Z"
   },
   {
    "duration": 0,
    "start_time": "2023-02-07T07:08:36.252Z"
   },
   {
    "duration": 0,
    "start_time": "2023-02-07T07:08:36.253Z"
   },
   {
    "duration": 0,
    "start_time": "2023-02-07T07:08:36.254Z"
   },
   {
    "duration": 0,
    "start_time": "2023-02-07T07:08:36.257Z"
   },
   {
    "duration": 0,
    "start_time": "2023-02-07T07:08:36.259Z"
   },
   {
    "duration": 0,
    "start_time": "2023-02-07T07:08:36.261Z"
   },
   {
    "duration": 0,
    "start_time": "2023-02-07T07:08:36.262Z"
   },
   {
    "duration": 0,
    "start_time": "2023-02-07T07:08:36.264Z"
   },
   {
    "duration": 0,
    "start_time": "2023-02-07T07:08:36.265Z"
   },
   {
    "duration": 0,
    "start_time": "2023-02-07T07:08:36.266Z"
   },
   {
    "duration": 0,
    "start_time": "2023-02-07T07:08:36.266Z"
   },
   {
    "duration": 0,
    "start_time": "2023-02-07T07:08:36.267Z"
   },
   {
    "duration": 0,
    "start_time": "2023-02-07T07:08:36.269Z"
   },
   {
    "duration": 0,
    "start_time": "2023-02-07T07:08:36.270Z"
   },
   {
    "duration": 0,
    "start_time": "2023-02-07T07:08:36.272Z"
   },
   {
    "duration": 0,
    "start_time": "2023-02-07T07:08:36.274Z"
   },
   {
    "duration": 0,
    "start_time": "2023-02-07T07:08:36.275Z"
   },
   {
    "duration": 1,
    "start_time": "2023-02-07T07:08:36.276Z"
   },
   {
    "duration": 0,
    "start_time": "2023-02-07T07:08:36.278Z"
   },
   {
    "duration": 0,
    "start_time": "2023-02-07T07:08:36.280Z"
   },
   {
    "duration": 0,
    "start_time": "2023-02-07T07:08:36.281Z"
   },
   {
    "duration": 0,
    "start_time": "2023-02-07T07:08:36.283Z"
   },
   {
    "duration": 0,
    "start_time": "2023-02-07T07:08:36.286Z"
   },
   {
    "duration": 0,
    "start_time": "2023-02-07T07:08:36.286Z"
   },
   {
    "duration": 0,
    "start_time": "2023-02-07T07:08:36.288Z"
   },
   {
    "duration": 0,
    "start_time": "2023-02-07T07:08:36.349Z"
   },
   {
    "duration": 0,
    "start_time": "2023-02-07T07:08:36.351Z"
   },
   {
    "duration": 0,
    "start_time": "2023-02-07T07:08:36.352Z"
   },
   {
    "duration": 0,
    "start_time": "2023-02-07T07:08:36.354Z"
   },
   {
    "duration": 0,
    "start_time": "2023-02-07T07:08:36.355Z"
   },
   {
    "duration": 0,
    "start_time": "2023-02-07T07:08:36.357Z"
   },
   {
    "duration": 0,
    "start_time": "2023-02-07T07:08:36.358Z"
   },
   {
    "duration": 0,
    "start_time": "2023-02-07T07:08:36.360Z"
   },
   {
    "duration": 0,
    "start_time": "2023-02-07T07:08:36.361Z"
   },
   {
    "duration": 0,
    "start_time": "2023-02-07T07:08:36.363Z"
   },
   {
    "duration": 0,
    "start_time": "2023-02-07T07:08:36.365Z"
   },
   {
    "duration": 0,
    "start_time": "2023-02-07T07:08:36.366Z"
   },
   {
    "duration": 0,
    "start_time": "2023-02-07T07:08:36.368Z"
   },
   {
    "duration": 0,
    "start_time": "2023-02-07T07:08:36.369Z"
   },
   {
    "duration": 0,
    "start_time": "2023-02-07T07:08:36.371Z"
   },
   {
    "duration": 0,
    "start_time": "2023-02-07T07:08:36.373Z"
   },
   {
    "duration": 0,
    "start_time": "2023-02-07T07:08:36.375Z"
   },
   {
    "duration": 0,
    "start_time": "2023-02-07T07:08:36.376Z"
   },
   {
    "duration": 0,
    "start_time": "2023-02-07T07:08:36.378Z"
   },
   {
    "duration": 0,
    "start_time": "2023-02-07T07:08:36.379Z"
   },
   {
    "duration": 0,
    "start_time": "2023-02-07T07:08:36.380Z"
   },
   {
    "duration": 0,
    "start_time": "2023-02-07T07:08:36.382Z"
   },
   {
    "duration": 0,
    "start_time": "2023-02-07T07:08:36.383Z"
   },
   {
    "duration": 0,
    "start_time": "2023-02-07T07:08:36.385Z"
   },
   {
    "duration": 4,
    "start_time": "2023-02-07T07:19:14.037Z"
   },
   {
    "duration": 4,
    "start_time": "2023-02-07T07:19:25.229Z"
   },
   {
    "duration": 5,
    "start_time": "2023-02-07T07:24:10.679Z"
   },
   {
    "duration": 41,
    "start_time": "2023-02-07T07:24:29.207Z"
   },
   {
    "duration": 18,
    "start_time": "2023-02-07T07:24:57.477Z"
   },
   {
    "duration": 11,
    "start_time": "2023-02-07T07:26:36.704Z"
   },
   {
    "duration": 30,
    "start_time": "2023-02-07T07:26:42.963Z"
   },
   {
    "duration": 2,
    "start_time": "2023-02-07T07:27:01.161Z"
   },
   {
    "duration": 26,
    "start_time": "2023-02-07T07:27:08.118Z"
   },
   {
    "duration": 7,
    "start_time": "2023-02-07T07:30:30.529Z"
   },
   {
    "duration": 17,
    "start_time": "2023-02-07T07:30:31.651Z"
   },
   {
    "duration": 6,
    "start_time": "2023-02-07T07:30:44.113Z"
   },
   {
    "duration": 4,
    "start_time": "2023-02-07T07:30:45.257Z"
   },
   {
    "duration": 18,
    "start_time": "2023-02-07T07:30:47.117Z"
   },
   {
    "duration": 4,
    "start_time": "2023-02-07T07:30:49.175Z"
   },
   {
    "duration": 4,
    "start_time": "2023-02-07T07:30:53.031Z"
   },
   {
    "duration": 2479,
    "start_time": "2023-02-07T07:32:48.082Z"
   },
   {
    "duration": 2186,
    "start_time": "2023-02-07T07:32:50.564Z"
   },
   {
    "duration": 1362,
    "start_time": "2023-02-07T07:32:52.752Z"
   },
   {
    "duration": 2,
    "start_time": "2023-02-07T07:32:54.116Z"
   },
   {
    "duration": 56,
    "start_time": "2023-02-07T07:32:54.120Z"
   },
   {
    "duration": 14,
    "start_time": "2023-02-07T07:32:54.177Z"
   },
   {
    "duration": 11,
    "start_time": "2023-02-07T07:32:54.192Z"
   },
   {
    "duration": 10,
    "start_time": "2023-02-07T07:32:54.205Z"
   },
   {
    "duration": 12,
    "start_time": "2023-02-07T07:32:54.217Z"
   },
   {
    "duration": 19,
    "start_time": "2023-02-07T07:32:54.231Z"
   },
   {
    "duration": 9,
    "start_time": "2023-02-07T07:32:54.251Z"
   },
   {
    "duration": 13,
    "start_time": "2023-02-07T07:32:54.261Z"
   },
   {
    "duration": 15,
    "start_time": "2023-02-07T07:32:54.275Z"
   },
   {
    "duration": 5,
    "start_time": "2023-02-07T07:32:54.294Z"
   },
   {
    "duration": 6,
    "start_time": "2023-02-07T07:32:54.301Z"
   },
   {
    "duration": 47,
    "start_time": "2023-02-07T07:32:54.308Z"
   },
   {
    "duration": 6,
    "start_time": "2023-02-07T07:32:54.357Z"
   },
   {
    "duration": 11,
    "start_time": "2023-02-07T07:32:54.364Z"
   },
   {
    "duration": 5,
    "start_time": "2023-02-07T07:32:54.376Z"
   },
   {
    "duration": 13,
    "start_time": "2023-02-07T07:32:54.383Z"
   },
   {
    "duration": 11,
    "start_time": "2023-02-07T07:32:54.398Z"
   },
   {
    "duration": 39,
    "start_time": "2023-02-07T07:32:54.411Z"
   },
   {
    "duration": 12,
    "start_time": "2023-02-07T07:32:54.451Z"
   },
   {
    "duration": 10,
    "start_time": "2023-02-07T07:32:54.464Z"
   },
   {
    "duration": 16,
    "start_time": "2023-02-07T07:32:54.476Z"
   },
   {
    "duration": 9,
    "start_time": "2023-02-07T07:32:54.493Z"
   },
   {
    "duration": 14,
    "start_time": "2023-02-07T07:32:54.504Z"
   },
   {
    "duration": 4,
    "start_time": "2023-02-07T07:32:54.548Z"
   },
   {
    "duration": 18,
    "start_time": "2023-02-07T07:32:54.553Z"
   },
   {
    "duration": 3,
    "start_time": "2023-02-07T07:32:54.573Z"
   },
   {
    "duration": 5,
    "start_time": "2023-02-07T07:32:54.578Z"
   },
   {
    "duration": 5,
    "start_time": "2023-02-07T07:32:54.584Z"
   },
   {
    "duration": 14,
    "start_time": "2023-02-07T07:32:54.591Z"
   },
   {
    "duration": 14,
    "start_time": "2023-02-07T07:32:54.607Z"
   },
   {
    "duration": 30,
    "start_time": "2023-02-07T07:32:54.623Z"
   },
   {
    "duration": 9,
    "start_time": "2023-02-07T07:32:54.655Z"
   },
   {
    "duration": 11,
    "start_time": "2023-02-07T07:32:54.666Z"
   },
   {
    "duration": 17,
    "start_time": "2023-02-07T07:32:54.678Z"
   },
   {
    "duration": 9,
    "start_time": "2023-02-07T07:32:54.697Z"
   },
   {
    "duration": 48,
    "start_time": "2023-02-07T07:32:54.708Z"
   },
   {
    "duration": 13,
    "start_time": "2023-02-07T07:32:54.765Z"
   },
   {
    "duration": 9,
    "start_time": "2023-02-07T07:32:54.780Z"
   },
   {
    "duration": 8,
    "start_time": "2023-02-07T07:32:54.790Z"
   },
   {
    "duration": 5,
    "start_time": "2023-02-07T07:32:54.800Z"
   },
   {
    "duration": 5,
    "start_time": "2023-02-07T07:32:54.807Z"
   },
   {
    "duration": 35,
    "start_time": "2023-02-07T07:32:54.814Z"
   },
   {
    "duration": 7,
    "start_time": "2023-02-07T07:32:54.851Z"
   },
   {
    "duration": 5,
    "start_time": "2023-02-07T07:32:54.860Z"
   },
   {
    "duration": 7,
    "start_time": "2023-02-07T07:32:54.866Z"
   },
   {
    "duration": 7,
    "start_time": "2023-02-07T07:32:54.875Z"
   },
   {
    "duration": 26,
    "start_time": "2023-02-07T07:32:54.884Z"
   },
   {
    "duration": 7,
    "start_time": "2023-02-07T07:32:54.912Z"
   },
   {
    "duration": 11,
    "start_time": "2023-02-07T07:32:54.921Z"
   },
   {
    "duration": 5,
    "start_time": "2023-02-07T07:32:54.949Z"
   },
   {
    "duration": 9,
    "start_time": "2023-02-07T07:32:54.956Z"
   },
   {
    "duration": 15,
    "start_time": "2023-02-07T07:32:54.967Z"
   },
   {
    "duration": 6,
    "start_time": "2023-02-07T07:32:54.983Z"
   },
   {
    "duration": 21,
    "start_time": "2023-02-07T07:32:54.991Z"
   },
   {
    "duration": 7,
    "start_time": "2023-02-07T07:32:55.014Z"
   },
   {
    "duration": 8,
    "start_time": "2023-02-07T07:32:55.023Z"
   },
   {
    "duration": 30,
    "start_time": "2023-02-07T07:32:55.049Z"
   },
   {
    "duration": 4,
    "start_time": "2023-02-07T07:32:55.081Z"
   },
   {
    "duration": 26,
    "start_time": "2023-02-07T07:32:55.087Z"
   },
   {
    "duration": 40,
    "start_time": "2023-02-07T07:32:55.116Z"
   },
   {
    "duration": 2,
    "start_time": "2023-02-07T07:32:55.158Z"
   },
   {
    "duration": 62,
    "start_time": "2023-02-07T07:32:55.161Z"
   },
   {
    "duration": 25,
    "start_time": "2023-02-07T07:32:55.225Z"
   },
   {
    "duration": 9,
    "start_time": "2023-02-07T07:32:55.251Z"
   },
   {
    "duration": 10,
    "start_time": "2023-02-07T07:32:55.261Z"
   },
   {
    "duration": 6,
    "start_time": "2023-02-07T07:32:55.273Z"
   },
   {
    "duration": 6,
    "start_time": "2023-02-07T07:32:55.280Z"
   },
   {
    "duration": 5,
    "start_time": "2023-02-07T07:32:55.288Z"
   },
   {
    "duration": 10,
    "start_time": "2023-02-07T07:32:55.296Z"
   },
   {
    "duration": 8,
    "start_time": "2023-02-07T07:32:55.308Z"
   },
   {
    "duration": 33,
    "start_time": "2023-02-07T07:32:55.317Z"
   },
   {
    "duration": 5,
    "start_time": "2023-02-07T07:32:55.351Z"
   },
   {
    "duration": 7,
    "start_time": "2023-02-07T07:32:55.358Z"
   },
   {
    "duration": 8,
    "start_time": "2023-02-07T07:32:55.367Z"
   },
   {
    "duration": 8,
    "start_time": "2023-02-07T07:32:55.377Z"
   },
   {
    "duration": 6,
    "start_time": "2023-02-07T07:32:55.388Z"
   },
   {
    "duration": 20,
    "start_time": "2023-02-07T07:32:55.396Z"
   },
   {
    "duration": 34,
    "start_time": "2023-02-07T07:32:55.418Z"
   },
   {
    "duration": 6,
    "start_time": "2023-02-07T07:32:55.454Z"
   },
   {
    "duration": 10,
    "start_time": "2023-02-07T07:32:55.462Z"
   },
   {
    "duration": 10,
    "start_time": "2023-02-07T07:32:55.473Z"
   },
   {
    "duration": 129,
    "start_time": "2023-02-07T07:32:55.484Z"
   },
   {
    "duration": 20,
    "start_time": "2023-02-07T07:32:55.614Z"
   },
   {
    "duration": 26,
    "start_time": "2023-02-07T07:32:55.636Z"
   },
   {
    "duration": 4,
    "start_time": "2023-02-07T07:32:55.664Z"
   },
   {
    "duration": 7,
    "start_time": "2023-02-07T07:32:55.669Z"
   },
   {
    "duration": 8,
    "start_time": "2023-02-07T07:32:55.677Z"
   },
   {
    "duration": 6,
    "start_time": "2023-02-07T07:32:55.687Z"
   },
   {
    "duration": 8,
    "start_time": "2023-02-07T07:32:55.695Z"
   },
   {
    "duration": 45,
    "start_time": "2023-02-07T07:32:55.705Z"
   },
   {
    "duration": 6,
    "start_time": "2023-02-07T07:32:55.752Z"
   },
   {
    "duration": 6,
    "start_time": "2023-02-07T07:32:55.760Z"
   },
   {
    "duration": 10,
    "start_time": "2023-02-07T07:32:55.767Z"
   },
   {
    "duration": 6,
    "start_time": "2023-02-07T07:32:55.779Z"
   },
   {
    "duration": 7,
    "start_time": "2023-02-07T07:32:55.787Z"
   },
   {
    "duration": 4,
    "start_time": "2023-02-07T07:32:55.796Z"
   },
   {
    "duration": 49,
    "start_time": "2023-02-07T07:32:55.802Z"
   },
   {
    "duration": 36,
    "start_time": "2023-02-07T07:32:55.853Z"
   },
   {
    "duration": 9,
    "start_time": "2023-02-07T07:32:55.891Z"
   },
   {
    "duration": 6,
    "start_time": "2023-02-07T07:32:55.901Z"
   },
   {
    "duration": 7,
    "start_time": "2023-02-07T07:32:55.909Z"
   },
   {
    "duration": 9,
    "start_time": "2023-02-07T07:32:55.917Z"
   },
   {
    "duration": 7,
    "start_time": "2023-02-07T07:32:55.928Z"
   },
   {
    "duration": 7,
    "start_time": "2023-02-07T07:32:55.936Z"
   },
   {
    "duration": 5,
    "start_time": "2023-02-07T07:32:55.948Z"
   },
   {
    "duration": 7,
    "start_time": "2023-02-07T07:32:55.955Z"
   },
   {
    "duration": 10,
    "start_time": "2023-02-07T07:32:55.964Z"
   },
   {
    "duration": 8,
    "start_time": "2023-02-07T07:32:55.975Z"
   },
   {
    "duration": 7,
    "start_time": "2023-02-07T07:32:55.984Z"
   },
   {
    "duration": 9,
    "start_time": "2023-02-07T07:32:55.993Z"
   },
   {
    "duration": 11,
    "start_time": "2023-02-07T07:32:56.004Z"
   },
   {
    "duration": 33,
    "start_time": "2023-02-07T07:32:56.017Z"
   },
   {
    "duration": 8,
    "start_time": "2023-02-07T07:32:56.052Z"
   },
   {
    "duration": 7,
    "start_time": "2023-02-07T07:32:56.062Z"
   },
   {
    "duration": 7,
    "start_time": "2023-02-07T07:32:56.071Z"
   },
   {
    "duration": 9,
    "start_time": "2023-02-07T07:32:56.080Z"
   },
   {
    "duration": 9,
    "start_time": "2023-02-07T07:32:56.090Z"
   },
   {
    "duration": 5,
    "start_time": "2023-02-07T07:32:56.108Z"
   },
   {
    "duration": 36,
    "start_time": "2023-02-07T07:32:56.114Z"
   },
   {
    "duration": 15,
    "start_time": "2023-02-07T07:32:56.152Z"
   },
   {
    "duration": 4,
    "start_time": "2023-02-07T07:32:56.169Z"
   },
   {
    "duration": 34,
    "start_time": "2023-02-07T07:32:56.174Z"
   },
   {
    "duration": 49,
    "start_time": "2023-02-07T07:32:56.210Z"
   },
   {
    "duration": 8,
    "start_time": "2023-02-07T07:32:56.261Z"
   },
   {
    "duration": 21,
    "start_time": "2023-02-07T07:32:56.271Z"
   },
   {
    "duration": 10,
    "start_time": "2023-02-07T07:32:56.294Z"
   },
   {
    "duration": 43,
    "start_time": "2023-02-07T07:32:56.307Z"
   },
   {
    "duration": 5,
    "start_time": "2023-02-07T07:32:56.352Z"
   },
   {
    "duration": 57,
    "start_time": "2023-02-07T07:32:56.359Z"
   },
   {
    "duration": 6,
    "start_time": "2023-02-07T07:32:56.419Z"
   },
   {
    "duration": 49,
    "start_time": "2023-02-07T07:32:56.427Z"
   },
   {
    "duration": 44,
    "start_time": "2023-02-07T07:32:56.478Z"
   },
   {
    "duration": 7,
    "start_time": "2023-02-07T07:32:56.525Z"
   },
   {
    "duration": 6,
    "start_time": "2023-02-07T07:32:56.533Z"
   },
   {
    "duration": 19,
    "start_time": "2023-02-07T07:32:56.541Z"
   },
   {
    "duration": 15,
    "start_time": "2023-02-07T07:32:56.561Z"
   },
   {
    "duration": 9,
    "start_time": "2023-02-07T07:32:56.578Z"
   },
   {
    "duration": 9,
    "start_time": "2023-02-07T07:32:56.588Z"
   },
   {
    "duration": 6,
    "start_time": "2023-02-07T07:32:56.599Z"
   },
   {
    "duration": 4,
    "start_time": "2023-02-07T07:32:56.607Z"
   },
   {
    "duration": 24,
    "start_time": "2023-02-07T07:32:56.613Z"
   },
   {
    "duration": 11,
    "start_time": "2023-02-07T07:32:56.639Z"
   },
   {
    "duration": 5,
    "start_time": "2023-02-07T07:32:56.653Z"
   },
   {
    "duration": 7,
    "start_time": "2023-02-07T07:32:56.660Z"
   },
   {
    "duration": 5,
    "start_time": "2023-02-07T07:32:56.669Z"
   },
   {
    "duration": 73,
    "start_time": "2023-02-07T07:32:56.676Z"
   },
   {
    "duration": 123,
    "start_time": "2023-02-07T07:32:56.752Z"
   },
   {
    "duration": 0,
    "start_time": "2023-02-07T07:32:56.877Z"
   },
   {
    "duration": 0,
    "start_time": "2023-02-07T07:32:56.878Z"
   },
   {
    "duration": 0,
    "start_time": "2023-02-07T07:32:56.880Z"
   },
   {
    "duration": 0,
    "start_time": "2023-02-07T07:32:56.881Z"
   },
   {
    "duration": 0,
    "start_time": "2023-02-07T07:32:56.882Z"
   },
   {
    "duration": 0,
    "start_time": "2023-02-07T07:32:56.883Z"
   },
   {
    "duration": 0,
    "start_time": "2023-02-07T07:32:56.885Z"
   },
   {
    "duration": 0,
    "start_time": "2023-02-07T07:32:56.886Z"
   },
   {
    "duration": 0,
    "start_time": "2023-02-07T07:32:56.887Z"
   },
   {
    "duration": 0,
    "start_time": "2023-02-07T07:32:56.889Z"
   },
   {
    "duration": 0,
    "start_time": "2023-02-07T07:32:56.891Z"
   },
   {
    "duration": 0,
    "start_time": "2023-02-07T07:32:56.892Z"
   },
   {
    "duration": 0,
    "start_time": "2023-02-07T07:32:56.893Z"
   },
   {
    "duration": 0,
    "start_time": "2023-02-07T07:32:56.895Z"
   },
   {
    "duration": 0,
    "start_time": "2023-02-07T07:32:56.896Z"
   },
   {
    "duration": 1,
    "start_time": "2023-02-07T07:32:56.897Z"
   },
   {
    "duration": 0,
    "start_time": "2023-02-07T07:32:56.898Z"
   },
   {
    "duration": 0,
    "start_time": "2023-02-07T07:32:56.900Z"
   },
   {
    "duration": 0,
    "start_time": "2023-02-07T07:32:56.901Z"
   },
   {
    "duration": 0,
    "start_time": "2023-02-07T07:32:56.902Z"
   },
   {
    "duration": 0,
    "start_time": "2023-02-07T07:32:56.903Z"
   },
   {
    "duration": 0,
    "start_time": "2023-02-07T07:32:56.949Z"
   },
   {
    "duration": 0,
    "start_time": "2023-02-07T07:32:56.950Z"
   },
   {
    "duration": 0,
    "start_time": "2023-02-07T07:32:56.951Z"
   },
   {
    "duration": 0,
    "start_time": "2023-02-07T07:32:56.953Z"
   },
   {
    "duration": 0,
    "start_time": "2023-02-07T07:32:56.954Z"
   },
   {
    "duration": 0,
    "start_time": "2023-02-07T07:32:56.955Z"
   },
   {
    "duration": 0,
    "start_time": "2023-02-07T07:32:56.957Z"
   },
   {
    "duration": 0,
    "start_time": "2023-02-07T07:32:56.957Z"
   },
   {
    "duration": 0,
    "start_time": "2023-02-07T07:32:56.958Z"
   },
   {
    "duration": 0,
    "start_time": "2023-02-07T07:32:56.960Z"
   },
   {
    "duration": 0,
    "start_time": "2023-02-07T07:32:56.962Z"
   },
   {
    "duration": 0,
    "start_time": "2023-02-07T07:32:56.963Z"
   },
   {
    "duration": 0,
    "start_time": "2023-02-07T07:32:56.965Z"
   },
   {
    "duration": 0,
    "start_time": "2023-02-07T07:32:56.966Z"
   },
   {
    "duration": 0,
    "start_time": "2023-02-07T07:32:56.968Z"
   },
   {
    "duration": 0,
    "start_time": "2023-02-07T07:32:56.969Z"
   },
   {
    "duration": 0,
    "start_time": "2023-02-07T07:32:56.970Z"
   },
   {
    "duration": 0,
    "start_time": "2023-02-07T07:32:56.972Z"
   },
   {
    "duration": 0,
    "start_time": "2023-02-07T07:32:56.975Z"
   },
   {
    "duration": 0,
    "start_time": "2023-02-07T07:32:56.976Z"
   },
   {
    "duration": 0,
    "start_time": "2023-02-07T07:32:56.977Z"
   },
   {
    "duration": 0,
    "start_time": "2023-02-07T07:32:56.978Z"
   },
   {
    "duration": 0,
    "start_time": "2023-02-07T07:32:56.980Z"
   },
   {
    "duration": 0,
    "start_time": "2023-02-07T07:32:56.981Z"
   },
   {
    "duration": 0,
    "start_time": "2023-02-07T07:32:56.982Z"
   },
   {
    "duration": 0,
    "start_time": "2023-02-07T07:32:56.983Z"
   },
   {
    "duration": 0,
    "start_time": "2023-02-07T07:32:56.984Z"
   },
   {
    "duration": 0,
    "start_time": "2023-02-07T07:32:56.986Z"
   },
   {
    "duration": 0,
    "start_time": "2023-02-07T07:32:57.048Z"
   },
   {
    "duration": 0,
    "start_time": "2023-02-07T07:32:57.050Z"
   },
   {
    "duration": 0,
    "start_time": "2023-02-07T07:32:57.051Z"
   },
   {
    "duration": 0,
    "start_time": "2023-02-07T07:32:57.052Z"
   },
   {
    "duration": 0,
    "start_time": "2023-02-07T07:32:57.053Z"
   },
   {
    "duration": 0,
    "start_time": "2023-02-07T07:32:57.054Z"
   },
   {
    "duration": 0,
    "start_time": "2023-02-07T07:32:57.055Z"
   },
   {
    "duration": 2668,
    "start_time": "2023-02-07T07:33:42.544Z"
   },
   {
    "duration": 23,
    "start_time": "2023-02-07T07:33:47.106Z"
   },
   {
    "duration": 5,
    "start_time": "2023-02-07T07:33:50.819Z"
   },
   {
    "duration": 692,
    "start_time": "2023-02-07T07:33:52.057Z"
   },
   {
    "duration": 38,
    "start_time": "2023-02-07T07:39:05.663Z"
   }
  ],
  "kernelspec": {
   "display_name": "Python 3 (ipykernel)",
   "language": "python",
   "name": "python3"
  },
  "language_info": {
   "codemirror_mode": {
    "name": "ipython",
    "version": 3
   },
   "file_extension": ".py",
   "mimetype": "text/x-python",
   "name": "python",
   "nbconvert_exporter": "python",
   "pygments_lexer": "ipython3",
   "version": "3.10.9"
  },
  "toc": {
   "base_numbering": 1,
   "nav_menu": {},
   "number_sections": true,
   "sideBar": true,
   "skip_h1_title": true,
   "title_cell": "Table of Contents",
   "title_sidebar": "Contents",
   "toc_cell": false,
   "toc_position": {},
   "toc_section_display": true,
   "toc_window_display": false
  }
 },
 "nbformat": 4,
 "nbformat_minor": 5
}
