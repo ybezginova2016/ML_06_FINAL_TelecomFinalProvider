{
 "cells": [
  {
   "cell_type": "markdown",
   "id": "5bca7576",
   "metadata": {},
   "source": [
    "<div class=\"alert alert-info\"> <b>Юлия v2:</b>\n",
    "\n",
    "    1. Код по VIF не могу воспроизвести. Как поправить? Ниже оставила комментарий, скриншот и текст ошибки. Пропусков в данных нет, как избавиться от бесконечности inf?\n",
    "    \n",
    "    2. Вижу, что вы далее не проверяете код после вифа. Могли бы Вы, пож-та, проверить модели, выводы? Когда ваш кусок кода воспроизведется и если корреляция что-то выявит, то эти колонки удалю, но хотелось бы сейчас понимать, правильно ли написаны модели, выводы, надо ли что-то править кардинально. Код в разделе 2 и далее воспроизводим, df_filled рабочий.\n",
    "</div>"
   ]
  },
  {
   "cell_type": "markdown",
   "id": "78387963",
   "metadata": {},
   "source": [
    "<div style=\"border:solid green 2px; padding: 20px\">\n",
    "Юля, привет и хорошего дня! <br>\n",
    "Меня зовут Сергей Дроздов, и я буду проверять твой проект. Предлагаю общаться на «ты». Если тебе удобнее общаться на \"Вы\", просто дай знать. \n",
    "\n",
    "Ты уже проделал большую работу над проектом, но давай сделаем его еще лучше. Ниже ты найдешь мои комментарии - пожалуйста, не перемещай, не изменяй и не удаляй их. Я буду использовать цветовую разметку:\n",
    "\n",
    "<div class=\"alert alert-danger\">\n",
    "<b>Комментарий ревьюера: &#10060; </b> Так будут выделены комментарии с указаниями, обязательными к выполнению. Без их выполнения проект не будет принят. </div>\n",
    "\n",
    "<div class=\"alert alert-warning\">\n",
    "<b>Комментарий ревьюера:\n",
    "&#9888;</b> Так будут выделены некритичные замечания. Их отработка позволит улучшить качество твоего проекта.\n",
    "</div>\n",
    "\n",
    "<div class=\"alert alert-success\">\n",
    "<b>Комментарий ревьюера:\n",
    "&#9989;</b> Так будут выделены остальные комментарии, полезные лайфхаки и ссылки на сторонние ресурсы </div>\n",
    "\n",
    "Для наиболее эффективной и оперативной работы над проектом, мне хотелось бы иметь обратную связь. Не стесняйся задавать вопросы. Если ты что-либо меняешь в проекте, пожалуйста, комментируй это. Мне будет легче отследить изменения, если ты выделишь свои комментарии:\n",
    "<div class=\"alert alert-info\"> <b>Комментарий студента:</b> Например так</div>"
   ]
  },
  {
   "cell_type": "markdown",
   "id": "b58cfe4f",
   "metadata": {},
   "source": [
    "# Телеком\n",
    "\n",
    "Оператор связи *\"Ниединогоразрыва.ком\"* хочет научиться прогнозировать отток клиентов. Если выяснится, что пользователь планирует уйти, ему будут предложены промокоды и специальные условия. Команда оператора собрала персональные данные о некоторых клиентах, информацию об их тарифах и договорах.\n",
    "\n",
    "### Цель проекта\n",
    "**Разработать модель машинного обучения бинарной классификации, которая по различным характеристикам клиента сможет прогнозировать, планирует ли клиент расторгнуть контракт и отказать от услуг телекоммуникационного оператора.**\n",
    "\n",
    "### Методология проекта\n",
    "1. Загрузить данные, понять содержание данные, соединить в единый датасет.\n",
    "2. Изучить предложенные данные, заполнить пропуски, проверить данные на дубликаты (явные и неявные). Подготовить данные к дальнейшему анализу.\n",
    "3. Проверить корреляционную зависимость, исключить столбцы с признаками, которые имеют коэффициенты корреляции Пирсона выше 0.8.\n",
    "4. Изучить значение целевого признака, проверить на наличие в нем дисбаланса.\n",
    "5. Разработать и обучить неколько моделей машинного обучения для решения задачи бинарной классификации. Выбрать наилучшую модель по метрике качества с помощью поиска по сетке или кросс-валидации, протестировать модель на тестовых данных. При разработке модели учитывать проблему переобучения; провести масштабирование и нормализацию признаков, где необходимо.\n",
    "\n",
    "### Описание услуг\n",
    "\n",
    "Оператор предоставляет два основных типа услуг: \n",
    "\n",
    "1. Стационарную телефонную связь. Возможно подключение телефонного аппарата к нескольким линиям одновременно.\n",
    "2. Интернет. Подключение может быть двух типов: через телефонную линию (*DSL*, от англ. *digital subscriber line*, «цифровая абонентская линия») или оптоволоконный кабель (*Fiber optic*).  \n",
    "\n",
    "Также доступны такие услуги:\n",
    "\n",
    "- Интернет-безопасность: антивирус (*DeviceProtection*) и блокировка небезопасных сайтов (*OnlineSecurity*);\n",
    "- Выделенная линия технической поддержки (*TechSupport*);\n",
    "- Облачное хранилище файлов для резервного копирования данных (*OnlineBackup*);\n",
    "- Стриминговое телевидение (*StreamingTV*) и каталог фильмов (*StreamingMovies*).\n",
    "\n",
    "За услуги клиенты могут платить каждый месяц или заключить договор на 1–2 года. Доступны различные способы расчёта и возможность получения электронного чека.\n",
    "\n",
    "### Описание данных\n",
    "\n",
    "Данные состоят из файлов, полученных из разных источников:\n",
    "\n",
    "- `contract.csv` — информация о договоре;\n",
    "- `personal.csv` — персональные данные клиента;\n",
    "- `internet.csv` — информация об интернет-услугах;\n",
    "- `phone.csv` — информация об услугах телефонии.\n",
    "\n",
    "Во всех файлах столбец `customerID` содержит код клиента.\n",
    "\n",
    "Информация о договорах актуальна на 1 февраля 2020.\n",
    "\n",
    "*Описание проекта в Notion [здесь](https://concrete-web-bad.notion.site/20b6db57bf464afe86232e26190285e5).*"
   ]
  },
  {
   "cell_type": "markdown",
   "id": "0146ec99",
   "metadata": {},
   "source": [
    "<div class=\"alert alert-success\">\n",
    "<b>Комментарий ревьюера:\n",
    "&#9989;</b> Отлично, название проекта и описание на месте, ссылку на Notion лучше удалить, т.к. не у всех есть доступ </div>"
   ]
  },
  {
   "cell_type": "markdown",
   "id": "4d04dc0d",
   "metadata": {},
   "source": [
    "<div class=\"alert alert-danger\">\n",
    "<b>Комментарий ревьюера: &#10060; </b> Предусмотри, пожалуйста, установку сторонних библиотек, так же не советую использовать профайлинг, т.к. это может приводить к падению ядра на стороне сервера яндекса </div>"
   ]
  },
  {
   "cell_type": "code",
   "execution_count": 1,
   "id": "32a91716",
   "metadata": {},
   "outputs": [
    {
     "name": "stdout",
     "output_type": "stream",
     "text": [
      "Note: you may need to restart the kernel to use updated packages.\n"
     ]
    }
   ],
   "source": [
    "pip install -q --upgrade pip"
   ]
  },
  {
   "cell_type": "code",
   "execution_count": 2,
   "id": "9fd54902",
   "metadata": {},
   "outputs": [
    {
     "name": "stdout",
     "output_type": "stream",
     "text": [
      "Note: you may need to restart the kernel to use updated packages.\n"
     ]
    }
   ],
   "source": [
    "pip install -q dill"
   ]
  },
  {
   "cell_type": "code",
   "execution_count": 152,
   "id": "4bc2a2d5",
   "metadata": {},
   "outputs": [],
   "source": [
    "import pandas as pd\n",
    "import numpy as np\n",
    "import matplotlib.pyplot as plt\n",
    "import seaborn as sns\n",
    "import warnings\n",
    "import dill as pickle\n",
    "\n",
    "from joblib import Parallel, delayed\n",
    "from sklearn.dummy import DummyClassifier\n",
    "from sklearn.model_selection import GridSearchCV\n",
    "from sklearn.tree import DecisionTreeClassifier\n",
    "from sklearn.ensemble import GradientBoostingClassifier\n",
    "from sklearn.ensemble import RandomForestClassifier\n",
    "from catboost import CatBoostClassifier, Pool\n",
    "from sklearn.metrics import r2_score\n",
    "from sklearn.model_selection import train_test_split\n",
    "from sklearn import preprocessing\n",
    "from sklearn.preprocessing import OrdinalEncoder, MinMaxScaler\n",
    "from statsmodels.stats.outliers_influence import variance_inflation_factor\n",
    "from sklearn.metrics import fbeta_score, make_scorer, classification_report, roc_curve, confusion_matrix, roc_auc_score, accuracy_score, f1_score\n",
    "from statsmodels.tools.tools import add_constant\n",
    "%matplotlib inline\n",
    "\n",
    "sns.set_style('whitegrid')\n",
    "warnings.filterwarnings('ignore')\n",
    "warnings.simplefilter(\"ignore\", category=RuntimeWarning)\n",
    "pd.options.mode.chained_assignment = None"
   ]
  },
  {
   "cell_type": "markdown",
   "id": "73e89d8a",
   "metadata": {},
   "source": [
    "## 1 Загрузка данных, преобработка данных"
   ]
  },
  {
   "cell_type": "code",
   "execution_count": 183,
   "id": "3065fded",
   "metadata": {},
   "outputs": [],
   "source": [
    "RANDOM_STATE = 300123"
   ]
  },
  {
   "cell_type": "markdown",
   "id": "59bf013d",
   "metadata": {},
   "source": [
    "### 1.1 Загрузка данных"
   ]
  },
  {
   "cell_type": "markdown",
   "id": "e5890a4c",
   "metadata": {},
   "source": [
    "- ####  `contract`"
   ]
  },
  {
   "cell_type": "code",
   "execution_count": 184,
   "id": "5359e0ec",
   "metadata": {
    "scrolled": false
   },
   "outputs": [],
   "source": [
    "# read the file handling exceptions\n",
    "try:\n",
    "    contract = pd.read_csv('/Users/yuliabezginova/PycharmProjects/00_files-for_NLP/final_provider/contract.csv') #, index_col=[0])\n",
    "except FileNotFoundError:\n",
    "    contract = pd.read_csv('/datasets/final_provider/contract.csv') #, index_col=[0])"
   ]
  },
  {
   "cell_type": "markdown",
   "id": "c2aac258",
   "metadata": {},
   "source": [
    "<div class=\"alert alert-danger\">\n",
    "<b>Комментарий ревьюера: &#10060; </b> Здесь и далее: предусмотри, пожалуйста, выполнение кода на стороне яндекса(try...except) Путь к файлам в тренажере <code>/datasets/final_provider/</code> Так же стоит комментировать проводимый анализ</div>"
   ]
  },
  {
   "cell_type": "markdown",
   "id": "0c95e5c6",
   "metadata": {},
   "source": [
    "<div class=\"alert alert-info\"> <b>Юлия:</b>\n",
    "Подскажите, пожалуйста, какие сторонние библиотеки у вас не установлены, я пропишу их установку.\n",
    "</div>\n"
   ]
  },
  {
   "cell_type": "markdown",
   "id": "5d482735",
   "metadata": {},
   "source": [
    "<div class=\"alert alert-success\">\n",
    "<b>Комментарий ревьюера V2:\n",
    "&#9989;</b> Теперь все работает! </div>"
   ]
  },
  {
   "cell_type": "code",
   "execution_count": 185,
   "id": "998bda34",
   "metadata": {},
   "outputs": [
    {
     "name": "stdout",
     "output_type": "stream",
     "text": [
      "<class 'pandas.core.frame.DataFrame'>\n",
      "RangeIndex: 7043 entries, 0 to 7042\n",
      "Data columns (total 8 columns):\n",
      " #   Column            Non-Null Count  Dtype  \n",
      "---  ------            --------------  -----  \n",
      " 0   customerID        7043 non-null   object \n",
      " 1   BeginDate         7043 non-null   object \n",
      " 2   EndDate           7043 non-null   object \n",
      " 3   Type              7043 non-null   object \n",
      " 4   PaperlessBilling  7043 non-null   object \n",
      " 5   PaymentMethod     7043 non-null   object \n",
      " 6   MonthlyCharges    7043 non-null   float64\n",
      " 7   TotalCharges      7043 non-null   object \n",
      "dtypes: float64(1), object(7)\n",
      "memory usage: 440.3+ KB\n"
     ]
    }
   ],
   "source": [
    "contract.info()"
   ]
  },
  {
   "cell_type": "code",
   "execution_count": 186,
   "id": "33400dcd",
   "metadata": {
    "scrolled": true
   },
   "outputs": [
    {
     "data": {
      "text/plain": [
       "Index(['customerID', 'BeginDate', 'EndDate', 'Type', 'PaperlessBilling',\n",
       "       'PaymentMethod', 'MonthlyCharges', 'TotalCharges'],\n",
       "      dtype='object')"
      ]
     },
     "execution_count": 186,
     "metadata": {},
     "output_type": "execute_result"
    }
   ],
   "source": [
    "contract.columns"
   ]
  },
  {
   "cell_type": "code",
   "execution_count": 187,
   "id": "228735be",
   "metadata": {
    "scrolled": true
   },
   "outputs": [
    {
     "data": {
      "text/plain": [
       "73.46"
      ]
     },
     "execution_count": 187,
     "metadata": {},
     "output_type": "execute_result"
    }
   ],
   "source": [
    "round(len(contract[contract['EndDate'] == 'No']) / len(contract) * 100, 2)"
   ]
  },
  {
   "cell_type": "code",
   "execution_count": 188,
   "id": "b8174288",
   "metadata": {},
   "outputs": [
    {
     "data": {
      "text/html": [
       "<div>\n",
       "<style scoped>\n",
       "    .dataframe tbody tr th:only-of-type {\n",
       "        vertical-align: middle;\n",
       "    }\n",
       "\n",
       "    .dataframe tbody tr th {\n",
       "        vertical-align: top;\n",
       "    }\n",
       "\n",
       "    .dataframe thead th {\n",
       "        text-align: right;\n",
       "    }\n",
       "</style>\n",
       "<table border=\"1\" class=\"dataframe\">\n",
       "  <thead>\n",
       "    <tr style=\"text-align: right;\">\n",
       "      <th></th>\n",
       "      <th>customerID</th>\n",
       "      <th>BeginDate</th>\n",
       "      <th>EndDate</th>\n",
       "      <th>Type</th>\n",
       "      <th>PaperlessBilling</th>\n",
       "      <th>PaymentMethod</th>\n",
       "      <th>MonthlyCharges</th>\n",
       "      <th>TotalCharges</th>\n",
       "    </tr>\n",
       "  </thead>\n",
       "  <tbody>\n",
       "    <tr>\n",
       "      <th>0</th>\n",
       "      <td>7590-VHVEG</td>\n",
       "      <td>2020-01-01</td>\n",
       "      <td>No</td>\n",
       "      <td>Month-to-month</td>\n",
       "      <td>Yes</td>\n",
       "      <td>Electronic check</td>\n",
       "      <td>29.85</td>\n",
       "      <td>29.85</td>\n",
       "    </tr>\n",
       "    <tr>\n",
       "      <th>1</th>\n",
       "      <td>5575-GNVDE</td>\n",
       "      <td>2017-04-01</td>\n",
       "      <td>No</td>\n",
       "      <td>One year</td>\n",
       "      <td>No</td>\n",
       "      <td>Mailed check</td>\n",
       "      <td>56.95</td>\n",
       "      <td>1889.5</td>\n",
       "    </tr>\n",
       "    <tr>\n",
       "      <th>2</th>\n",
       "      <td>3668-QPYBK</td>\n",
       "      <td>2019-10-01</td>\n",
       "      <td>2019-12-01 00:00:00</td>\n",
       "      <td>Month-to-month</td>\n",
       "      <td>Yes</td>\n",
       "      <td>Mailed check</td>\n",
       "      <td>53.85</td>\n",
       "      <td>108.15</td>\n",
       "    </tr>\n",
       "    <tr>\n",
       "      <th>3</th>\n",
       "      <td>7795-CFOCW</td>\n",
       "      <td>2016-05-01</td>\n",
       "      <td>No</td>\n",
       "      <td>One year</td>\n",
       "      <td>No</td>\n",
       "      <td>Bank transfer (automatic)</td>\n",
       "      <td>42.30</td>\n",
       "      <td>1840.75</td>\n",
       "    </tr>\n",
       "    <tr>\n",
       "      <th>4</th>\n",
       "      <td>9237-HQITU</td>\n",
       "      <td>2019-09-01</td>\n",
       "      <td>2019-11-01 00:00:00</td>\n",
       "      <td>Month-to-month</td>\n",
       "      <td>Yes</td>\n",
       "      <td>Electronic check</td>\n",
       "      <td>70.70</td>\n",
       "      <td>151.65</td>\n",
       "    </tr>\n",
       "  </tbody>\n",
       "</table>\n",
       "</div>"
      ],
      "text/plain": [
       "   customerID   BeginDate              EndDate            Type  \\\n",
       "0  7590-VHVEG  2020-01-01                   No  Month-to-month   \n",
       "1  5575-GNVDE  2017-04-01                   No        One year   \n",
       "2  3668-QPYBK  2019-10-01  2019-12-01 00:00:00  Month-to-month   \n",
       "3  7795-CFOCW  2016-05-01                   No        One year   \n",
       "4  9237-HQITU  2019-09-01  2019-11-01 00:00:00  Month-to-month   \n",
       "\n",
       "  PaperlessBilling              PaymentMethod  MonthlyCharges TotalCharges  \n",
       "0              Yes           Electronic check           29.85        29.85  \n",
       "1               No               Mailed check           56.95       1889.5  \n",
       "2              Yes               Mailed check           53.85       108.15  \n",
       "3               No  Bank transfer (automatic)           42.30      1840.75  \n",
       "4              Yes           Electronic check           70.70       151.65  "
      ]
     },
     "execution_count": 188,
     "metadata": {},
     "output_type": "execute_result"
    }
   ],
   "source": [
    "contract.head()"
   ]
  },
  {
   "cell_type": "markdown",
   "id": "1e51cf3a",
   "metadata": {},
   "source": [
    "Создадим временный датасет с двумя колонками ID клиента и статус окончания использования контрактом EndDate."
   ]
  },
  {
   "cell_type": "markdown",
   "id": "2c4d7805",
   "metadata": {},
   "source": [
    "<div class=\"alert alert-warning\">\n",
    "<b>Комментарий ревьюера:\n",
    "&#9888;</b> Мне кажется это лишнее, не проще добавить столбец?\n",
    "</div>"
   ]
  },
  {
   "cell_type": "code",
   "execution_count": 189,
   "id": "95a23636",
   "metadata": {},
   "outputs": [
    {
     "data": {
      "text/html": [
       "<div>\n",
       "<style scoped>\n",
       "    .dataframe tbody tr th:only-of-type {\n",
       "        vertical-align: middle;\n",
       "    }\n",
       "\n",
       "    .dataframe tbody tr th {\n",
       "        vertical-align: top;\n",
       "    }\n",
       "\n",
       "    .dataframe thead th {\n",
       "        text-align: right;\n",
       "    }\n",
       "</style>\n",
       "<table border=\"1\" class=\"dataframe\">\n",
       "  <thead>\n",
       "    <tr style=\"text-align: right;\">\n",
       "      <th></th>\n",
       "      <th>customerID</th>\n",
       "      <th>EndDate</th>\n",
       "    </tr>\n",
       "  </thead>\n",
       "  <tbody>\n",
       "    <tr>\n",
       "      <th>0</th>\n",
       "      <td>7590-VHVEG</td>\n",
       "      <td>No</td>\n",
       "    </tr>\n",
       "    <tr>\n",
       "      <th>1</th>\n",
       "      <td>5575-GNVDE</td>\n",
       "      <td>No</td>\n",
       "    </tr>\n",
       "    <tr>\n",
       "      <th>2</th>\n",
       "      <td>3668-QPYBK</td>\n",
       "      <td>2019-12-01 00:00:00</td>\n",
       "    </tr>\n",
       "    <tr>\n",
       "      <th>3</th>\n",
       "      <td>7795-CFOCW</td>\n",
       "      <td>No</td>\n",
       "    </tr>\n",
       "    <tr>\n",
       "      <th>4</th>\n",
       "      <td>9237-HQITU</td>\n",
       "      <td>2019-11-01 00:00:00</td>\n",
       "    </tr>\n",
       "    <tr>\n",
       "      <th>...</th>\n",
       "      <td>...</td>\n",
       "      <td>...</td>\n",
       "    </tr>\n",
       "    <tr>\n",
       "      <th>7038</th>\n",
       "      <td>6840-RESVB</td>\n",
       "      <td>No</td>\n",
       "    </tr>\n",
       "    <tr>\n",
       "      <th>7039</th>\n",
       "      <td>2234-XADUH</td>\n",
       "      <td>No</td>\n",
       "    </tr>\n",
       "    <tr>\n",
       "      <th>7040</th>\n",
       "      <td>4801-JZAZL</td>\n",
       "      <td>No</td>\n",
       "    </tr>\n",
       "    <tr>\n",
       "      <th>7041</th>\n",
       "      <td>8361-LTMKD</td>\n",
       "      <td>2019-11-01 00:00:00</td>\n",
       "    </tr>\n",
       "    <tr>\n",
       "      <th>7042</th>\n",
       "      <td>3186-AJIEK</td>\n",
       "      <td>No</td>\n",
       "    </tr>\n",
       "  </tbody>\n",
       "</table>\n",
       "<p>7043 rows × 2 columns</p>\n",
       "</div>"
      ],
      "text/plain": [
       "      customerID              EndDate\n",
       "0     7590-VHVEG                   No\n",
       "1     5575-GNVDE                   No\n",
       "2     3668-QPYBK  2019-12-01 00:00:00\n",
       "3     7795-CFOCW                   No\n",
       "4     9237-HQITU  2019-11-01 00:00:00\n",
       "...          ...                  ...\n",
       "7038  6840-RESVB                   No\n",
       "7039  2234-XADUH                   No\n",
       "7040  4801-JZAZL                   No\n",
       "7041  8361-LTMKD  2019-11-01 00:00:00\n",
       "7042  3186-AJIEK                   No\n",
       "\n",
       "[7043 rows x 2 columns]"
      ]
     },
     "execution_count": 189,
     "metadata": {},
     "output_type": "execute_result"
    }
   ],
   "source": [
    "temp = contract[['customerID', 'EndDate']].copy()\n",
    "temp"
   ]
  },
  {
   "cell_type": "code",
   "execution_count": 190,
   "id": "6b6d6b7f",
   "metadata": {
    "scrolled": false
   },
   "outputs": [
    {
     "data": {
      "text/html": [
       "<div>\n",
       "<style scoped>\n",
       "    .dataframe tbody tr th:only-of-type {\n",
       "        vertical-align: middle;\n",
       "    }\n",
       "\n",
       "    .dataframe tbody tr th {\n",
       "        vertical-align: top;\n",
       "    }\n",
       "\n",
       "    .dataframe thead th {\n",
       "        text-align: right;\n",
       "    }\n",
       "</style>\n",
       "<table border=\"1\" class=\"dataframe\">\n",
       "  <thead>\n",
       "    <tr style=\"text-align: right;\">\n",
       "      <th></th>\n",
       "      <th>customerID</th>\n",
       "      <th>EndDate</th>\n",
       "    </tr>\n",
       "  </thead>\n",
       "  <tbody>\n",
       "    <tr>\n",
       "      <th>0</th>\n",
       "      <td>7590-VHVEG</td>\n",
       "      <td>No</td>\n",
       "    </tr>\n",
       "    <tr>\n",
       "      <th>1</th>\n",
       "      <td>5575-GNVDE</td>\n",
       "      <td>No</td>\n",
       "    </tr>\n",
       "    <tr>\n",
       "      <th>3</th>\n",
       "      <td>7795-CFOCW</td>\n",
       "      <td>No</td>\n",
       "    </tr>\n",
       "    <tr>\n",
       "      <th>6</th>\n",
       "      <td>1452-KIOVK</td>\n",
       "      <td>No</td>\n",
       "    </tr>\n",
       "    <tr>\n",
       "      <th>7</th>\n",
       "      <td>6713-OKOMC</td>\n",
       "      <td>No</td>\n",
       "    </tr>\n",
       "  </tbody>\n",
       "</table>\n",
       "</div>"
      ],
      "text/plain": [
       "   customerID EndDate\n",
       "0  7590-VHVEG      No\n",
       "1  5575-GNVDE      No\n",
       "3  7795-CFOCW      No\n",
       "6  1452-KIOVK      No\n",
       "7  6713-OKOMC      No"
      ]
     },
     "execution_count": 190,
     "metadata": {},
     "output_type": "execute_result"
    }
   ],
   "source": [
    "churned = temp[temp['EndDate'] == 'No']\n",
    "churned.head()"
   ]
  },
  {
   "cell_type": "code",
   "execution_count": 191,
   "id": "fc582841",
   "metadata": {
    "scrolled": true
   },
   "outputs": [
    {
     "data": {
      "text/html": [
       "<div>\n",
       "<style scoped>\n",
       "    .dataframe tbody tr th:only-of-type {\n",
       "        vertical-align: middle;\n",
       "    }\n",
       "\n",
       "    .dataframe tbody tr th {\n",
       "        vertical-align: top;\n",
       "    }\n",
       "\n",
       "    .dataframe thead th {\n",
       "        text-align: right;\n",
       "    }\n",
       "</style>\n",
       "<table border=\"1\" class=\"dataframe\">\n",
       "  <thead>\n",
       "    <tr style=\"text-align: right;\">\n",
       "      <th></th>\n",
       "      <th>customerID</th>\n",
       "      <th>churned</th>\n",
       "    </tr>\n",
       "  </thead>\n",
       "  <tbody>\n",
       "    <tr>\n",
       "      <th>0</th>\n",
       "      <td>7590-VHVEG</td>\n",
       "      <td>1</td>\n",
       "    </tr>\n",
       "    <tr>\n",
       "      <th>1</th>\n",
       "      <td>5575-GNVDE</td>\n",
       "      <td>1</td>\n",
       "    </tr>\n",
       "    <tr>\n",
       "      <th>3</th>\n",
       "      <td>7795-CFOCW</td>\n",
       "      <td>1</td>\n",
       "    </tr>\n",
       "    <tr>\n",
       "      <th>6</th>\n",
       "      <td>1452-KIOVK</td>\n",
       "      <td>1</td>\n",
       "    </tr>\n",
       "    <tr>\n",
       "      <th>7</th>\n",
       "      <td>6713-OKOMC</td>\n",
       "      <td>1</td>\n",
       "    </tr>\n",
       "    <tr>\n",
       "      <th>...</th>\n",
       "      <td>...</td>\n",
       "      <td>...</td>\n",
       "    </tr>\n",
       "    <tr>\n",
       "      <th>7037</th>\n",
       "      <td>2569-WGERO</td>\n",
       "      <td>1</td>\n",
       "    </tr>\n",
       "    <tr>\n",
       "      <th>7038</th>\n",
       "      <td>6840-RESVB</td>\n",
       "      <td>1</td>\n",
       "    </tr>\n",
       "    <tr>\n",
       "      <th>7039</th>\n",
       "      <td>2234-XADUH</td>\n",
       "      <td>1</td>\n",
       "    </tr>\n",
       "    <tr>\n",
       "      <th>7040</th>\n",
       "      <td>4801-JZAZL</td>\n",
       "      <td>1</td>\n",
       "    </tr>\n",
       "    <tr>\n",
       "      <th>7042</th>\n",
       "      <td>3186-AJIEK</td>\n",
       "      <td>1</td>\n",
       "    </tr>\n",
       "  </tbody>\n",
       "</table>\n",
       "<p>5174 rows × 2 columns</p>\n",
       "</div>"
      ],
      "text/plain": [
       "      customerID  churned\n",
       "0     7590-VHVEG        1\n",
       "1     5575-GNVDE        1\n",
       "3     7795-CFOCW        1\n",
       "6     1452-KIOVK        1\n",
       "7     6713-OKOMC        1\n",
       "...          ...      ...\n",
       "7037  2569-WGERO        1\n",
       "7038  6840-RESVB        1\n",
       "7039  2234-XADUH        1\n",
       "7040  4801-JZAZL        1\n",
       "7042  3186-AJIEK        1\n",
       "\n",
       "[5174 rows x 2 columns]"
      ]
     },
     "execution_count": 191,
     "metadata": {},
     "output_type": "execute_result"
    }
   ],
   "source": [
    "churned['churned'] = int(1)\n",
    "churned.drop(columns=['EndDate'])"
   ]
  },
  {
   "cell_type": "code",
   "execution_count": 192,
   "id": "5c8ffb4e",
   "metadata": {
    "scrolled": false
   },
   "outputs": [
    {
     "data": {
      "text/plain": [
       "(7043, 10)"
      ]
     },
     "execution_count": 192,
     "metadata": {},
     "output_type": "execute_result"
    }
   ],
   "source": [
    "j = churned.merge(contract[['customerID', 'BeginDate', 'EndDate', 'Type', \n",
    "                            'PaperlessBilling', 'PaymentMethod', 'MonthlyCharges', \n",
    "                            'TotalCharges']], how='right', on='customerID')\n",
    "j.shape"
   ]
  },
  {
   "cell_type": "code",
   "execution_count": 193,
   "id": "0ce513d8",
   "metadata": {},
   "outputs": [
    {
     "data": {
      "text/plain": [
       "array([ 1., nan])"
      ]
     },
     "execution_count": 193,
     "metadata": {},
     "output_type": "execute_result"
    }
   ],
   "source": [
    "j['churned'].unique()"
   ]
  },
  {
   "cell_type": "code",
   "execution_count": 194,
   "id": "88692727",
   "metadata": {},
   "outputs": [
    {
     "data": {
      "text/plain": [
       "1869"
      ]
     },
     "execution_count": 194,
     "metadata": {},
     "output_type": "execute_result"
    }
   ],
   "source": [
    "j['churned'].isnull().sum()"
   ]
  },
  {
   "cell_type": "code",
   "execution_count": 195,
   "id": "cbc1627a",
   "metadata": {},
   "outputs": [
    {
     "data": {
      "text/html": [
       "<div>\n",
       "<style scoped>\n",
       "    .dataframe tbody tr th:only-of-type {\n",
       "        vertical-align: middle;\n",
       "    }\n",
       "\n",
       "    .dataframe tbody tr th {\n",
       "        vertical-align: top;\n",
       "    }\n",
       "\n",
       "    .dataframe thead th {\n",
       "        text-align: right;\n",
       "    }\n",
       "</style>\n",
       "<table border=\"1\" class=\"dataframe\">\n",
       "  <thead>\n",
       "    <tr style=\"text-align: right;\">\n",
       "      <th></th>\n",
       "      <th>customerID</th>\n",
       "      <th>EndDate_x</th>\n",
       "      <th>churned</th>\n",
       "      <th>BeginDate</th>\n",
       "      <th>EndDate_y</th>\n",
       "      <th>Type</th>\n",
       "      <th>PaperlessBilling</th>\n",
       "      <th>PaymentMethod</th>\n",
       "      <th>MonthlyCharges</th>\n",
       "      <th>TotalCharges</th>\n",
       "    </tr>\n",
       "  </thead>\n",
       "  <tbody>\n",
       "    <tr>\n",
       "      <th>0</th>\n",
       "      <td>7590-VHVEG</td>\n",
       "      <td>No</td>\n",
       "      <td>1.0</td>\n",
       "      <td>2020-01-01</td>\n",
       "      <td>No</td>\n",
       "      <td>Month-to-month</td>\n",
       "      <td>Yes</td>\n",
       "      <td>Electronic check</td>\n",
       "      <td>29.85</td>\n",
       "      <td>29.85</td>\n",
       "    </tr>\n",
       "    <tr>\n",
       "      <th>1</th>\n",
       "      <td>5575-GNVDE</td>\n",
       "      <td>No</td>\n",
       "      <td>1.0</td>\n",
       "      <td>2017-04-01</td>\n",
       "      <td>No</td>\n",
       "      <td>One year</td>\n",
       "      <td>No</td>\n",
       "      <td>Mailed check</td>\n",
       "      <td>56.95</td>\n",
       "      <td>1889.5</td>\n",
       "    </tr>\n",
       "    <tr>\n",
       "      <th>2</th>\n",
       "      <td>3668-QPYBK</td>\n",
       "      <td>NaN</td>\n",
       "      <td>NaN</td>\n",
       "      <td>2019-10-01</td>\n",
       "      <td>2019-12-01 00:00:00</td>\n",
       "      <td>Month-to-month</td>\n",
       "      <td>Yes</td>\n",
       "      <td>Mailed check</td>\n",
       "      <td>53.85</td>\n",
       "      <td>108.15</td>\n",
       "    </tr>\n",
       "  </tbody>\n",
       "</table>\n",
       "</div>"
      ],
      "text/plain": [
       "   customerID EndDate_x  churned   BeginDate            EndDate_y  \\\n",
       "0  7590-VHVEG        No      1.0  2020-01-01                   No   \n",
       "1  5575-GNVDE        No      1.0  2017-04-01                   No   \n",
       "2  3668-QPYBK       NaN      NaN  2019-10-01  2019-12-01 00:00:00   \n",
       "\n",
       "             Type PaperlessBilling     PaymentMethod  MonthlyCharges  \\\n",
       "0  Month-to-month              Yes  Electronic check           29.85   \n",
       "1        One year               No      Mailed check           56.95   \n",
       "2  Month-to-month              Yes      Mailed check           53.85   \n",
       "\n",
       "  TotalCharges  \n",
       "0        29.85  \n",
       "1       1889.5  \n",
       "2       108.15  "
      ]
     },
     "execution_count": 195,
     "metadata": {},
     "output_type": "execute_result"
    }
   ],
   "source": [
    "contract_adj = j.copy()\n",
    "contract_adj.head(3)"
   ]
  },
  {
   "cell_type": "code",
   "execution_count": 196,
   "id": "cc1796e8",
   "metadata": {
    "scrolled": true
   },
   "outputs": [],
   "source": [
    "contract_adj = contract_adj.drop(columns=['EndDate_x'])"
   ]
  },
  {
   "cell_type": "code",
   "execution_count": 197,
   "id": "4284071f",
   "metadata": {},
   "outputs": [
    {
     "data": {
      "text/html": [
       "<div>\n",
       "<style scoped>\n",
       "    .dataframe tbody tr th:only-of-type {\n",
       "        vertical-align: middle;\n",
       "    }\n",
       "\n",
       "    .dataframe tbody tr th {\n",
       "        vertical-align: top;\n",
       "    }\n",
       "\n",
       "    .dataframe thead th {\n",
       "        text-align: right;\n",
       "    }\n",
       "</style>\n",
       "<table border=\"1\" class=\"dataframe\">\n",
       "  <thead>\n",
       "    <tr style=\"text-align: right;\">\n",
       "      <th></th>\n",
       "      <th>customerID</th>\n",
       "      <th>churned</th>\n",
       "      <th>BeginDate</th>\n",
       "      <th>EndDate_y</th>\n",
       "      <th>Type</th>\n",
       "      <th>PaperlessBilling</th>\n",
       "      <th>PaymentMethod</th>\n",
       "      <th>MonthlyCharges</th>\n",
       "      <th>TotalCharges</th>\n",
       "    </tr>\n",
       "  </thead>\n",
       "  <tbody>\n",
       "    <tr>\n",
       "      <th>0</th>\n",
       "      <td>7590-VHVEG</td>\n",
       "      <td>1.0</td>\n",
       "      <td>2020-01-01</td>\n",
       "      <td>No</td>\n",
       "      <td>Month-to-month</td>\n",
       "      <td>Yes</td>\n",
       "      <td>Electronic check</td>\n",
       "      <td>29.85</td>\n",
       "      <td>29.85</td>\n",
       "    </tr>\n",
       "    <tr>\n",
       "      <th>1</th>\n",
       "      <td>5575-GNVDE</td>\n",
       "      <td>1.0</td>\n",
       "      <td>2017-04-01</td>\n",
       "      <td>No</td>\n",
       "      <td>One year</td>\n",
       "      <td>No</td>\n",
       "      <td>Mailed check</td>\n",
       "      <td>56.95</td>\n",
       "      <td>1889.5</td>\n",
       "    </tr>\n",
       "    <tr>\n",
       "      <th>2</th>\n",
       "      <td>3668-QPYBK</td>\n",
       "      <td>NaN</td>\n",
       "      <td>2019-10-01</td>\n",
       "      <td>2019-12-01 00:00:00</td>\n",
       "      <td>Month-to-month</td>\n",
       "      <td>Yes</td>\n",
       "      <td>Mailed check</td>\n",
       "      <td>53.85</td>\n",
       "      <td>108.15</td>\n",
       "    </tr>\n",
       "  </tbody>\n",
       "</table>\n",
       "</div>"
      ],
      "text/plain": [
       "   customerID  churned   BeginDate            EndDate_y            Type  \\\n",
       "0  7590-VHVEG      1.0  2020-01-01                   No  Month-to-month   \n",
       "1  5575-GNVDE      1.0  2017-04-01                   No        One year   \n",
       "2  3668-QPYBK      NaN  2019-10-01  2019-12-01 00:00:00  Month-to-month   \n",
       "\n",
       "  PaperlessBilling     PaymentMethod  MonthlyCharges TotalCharges  \n",
       "0              Yes  Electronic check           29.85        29.85  \n",
       "1               No      Mailed check           56.95       1889.5  \n",
       "2              Yes      Mailed check           53.85       108.15  "
      ]
     },
     "execution_count": 197,
     "metadata": {},
     "output_type": "execute_result"
    }
   ],
   "source": [
    "contract_adj.head(3)"
   ]
  },
  {
   "cell_type": "code",
   "execution_count": 198,
   "id": "a6698caf",
   "metadata": {},
   "outputs": [],
   "source": [
    "contract_adj.rename(columns = {'EndDate_y':'EndDate'}, inplace = True)"
   ]
  },
  {
   "cell_type": "code",
   "execution_count": 199,
   "id": "79c7d02b",
   "metadata": {},
   "outputs": [
    {
     "data": {
      "text/html": [
       "<div>\n",
       "<style scoped>\n",
       "    .dataframe tbody tr th:only-of-type {\n",
       "        vertical-align: middle;\n",
       "    }\n",
       "\n",
       "    .dataframe tbody tr th {\n",
       "        vertical-align: top;\n",
       "    }\n",
       "\n",
       "    .dataframe thead th {\n",
       "        text-align: right;\n",
       "    }\n",
       "</style>\n",
       "<table border=\"1\" class=\"dataframe\">\n",
       "  <thead>\n",
       "    <tr style=\"text-align: right;\">\n",
       "      <th></th>\n",
       "      <th>customerID</th>\n",
       "      <th>churned</th>\n",
       "      <th>BeginDate</th>\n",
       "      <th>EndDate</th>\n",
       "      <th>Type</th>\n",
       "      <th>PaperlessBilling</th>\n",
       "      <th>PaymentMethod</th>\n",
       "      <th>MonthlyCharges</th>\n",
       "      <th>TotalCharges</th>\n",
       "    </tr>\n",
       "  </thead>\n",
       "  <tbody>\n",
       "    <tr>\n",
       "      <th>0</th>\n",
       "      <td>7590-VHVEG</td>\n",
       "      <td>1.0</td>\n",
       "      <td>2020-01-01</td>\n",
       "      <td>No</td>\n",
       "      <td>Month-to-month</td>\n",
       "      <td>Yes</td>\n",
       "      <td>Electronic check</td>\n",
       "      <td>29.85</td>\n",
       "      <td>29.85</td>\n",
       "    </tr>\n",
       "    <tr>\n",
       "      <th>1</th>\n",
       "      <td>5575-GNVDE</td>\n",
       "      <td>1.0</td>\n",
       "      <td>2017-04-01</td>\n",
       "      <td>No</td>\n",
       "      <td>One year</td>\n",
       "      <td>No</td>\n",
       "      <td>Mailed check</td>\n",
       "      <td>56.95</td>\n",
       "      <td>1889.5</td>\n",
       "    </tr>\n",
       "    <tr>\n",
       "      <th>2</th>\n",
       "      <td>3668-QPYBK</td>\n",
       "      <td>NaN</td>\n",
       "      <td>2019-10-01</td>\n",
       "      <td>2019-12-01 00:00:00</td>\n",
       "      <td>Month-to-month</td>\n",
       "      <td>Yes</td>\n",
       "      <td>Mailed check</td>\n",
       "      <td>53.85</td>\n",
       "      <td>108.15</td>\n",
       "    </tr>\n",
       "  </tbody>\n",
       "</table>\n",
       "</div>"
      ],
      "text/plain": [
       "   customerID  churned   BeginDate              EndDate            Type  \\\n",
       "0  7590-VHVEG      1.0  2020-01-01                   No  Month-to-month   \n",
       "1  5575-GNVDE      1.0  2017-04-01                   No        One year   \n",
       "2  3668-QPYBK      NaN  2019-10-01  2019-12-01 00:00:00  Month-to-month   \n",
       "\n",
       "  PaperlessBilling     PaymentMethod  MonthlyCharges TotalCharges  \n",
       "0              Yes  Electronic check           29.85        29.85  \n",
       "1               No      Mailed check           56.95       1889.5  \n",
       "2              Yes      Mailed check           53.85       108.15  "
      ]
     },
     "execution_count": 199,
     "metadata": {},
     "output_type": "execute_result"
    }
   ],
   "source": [
    "contract_adj.head(3)"
   ]
  },
  {
   "cell_type": "code",
   "execution_count": 200,
   "id": "cfe6edaf",
   "metadata": {
    "scrolled": false
   },
   "outputs": [
    {
     "data": {
      "text/plain": [
       "customerID                         0002-ORFBO\n",
       "churned                                   0.0\n",
       "BeginDate                          2013-10-01\n",
       "EndDate                   2019-10-01 00:00:00\n",
       "Type                           Month-to-month\n",
       "PaperlessBilling                           No\n",
       "PaymentMethod       Bank transfer (automatic)\n",
       "MonthlyCharges                          18.25\n",
       "TotalCharges                                 \n",
       "dtype: object"
      ]
     },
     "execution_count": 200,
     "metadata": {},
     "output_type": "execute_result"
    }
   ],
   "source": [
    "contract_adj['churned'] = contract_adj['churned'].fillna(0)\n",
    "contract_adj.min()"
   ]
  },
  {
   "cell_type": "code",
   "execution_count": 201,
   "id": "9e633a9f",
   "metadata": {},
   "outputs": [
    {
     "data": {
      "text/plain": [
       "customerID          0\n",
       "churned             0\n",
       "BeginDate           0\n",
       "EndDate             0\n",
       "Type                0\n",
       "PaperlessBilling    0\n",
       "PaymentMethod       0\n",
       "MonthlyCharges      0\n",
       "TotalCharges        0\n",
       "dtype: int64"
      ]
     },
     "execution_count": 201,
     "metadata": {},
     "output_type": "execute_result"
    }
   ],
   "source": [
    "# Код ревьюера\n",
    "contract_adj.isna().sum()"
   ]
  },
  {
   "cell_type": "code",
   "execution_count": 202,
   "id": "26eb1fa7",
   "metadata": {},
   "outputs": [
    {
     "data": {
      "text/html": [
       "<div>\n",
       "<style scoped>\n",
       "    .dataframe tbody tr th:only-of-type {\n",
       "        vertical-align: middle;\n",
       "    }\n",
       "\n",
       "    .dataframe tbody tr th {\n",
       "        vertical-align: top;\n",
       "    }\n",
       "\n",
       "    .dataframe thead th {\n",
       "        text-align: right;\n",
       "    }\n",
       "</style>\n",
       "<table border=\"1\" class=\"dataframe\">\n",
       "  <thead>\n",
       "    <tr style=\"text-align: right;\">\n",
       "      <th></th>\n",
       "      <th>customerID</th>\n",
       "      <th>churned</th>\n",
       "      <th>BeginDate</th>\n",
       "      <th>EndDate</th>\n",
       "      <th>Type</th>\n",
       "      <th>PaperlessBilling</th>\n",
       "      <th>PaymentMethod</th>\n",
       "      <th>MonthlyCharges</th>\n",
       "      <th>TotalCharges</th>\n",
       "    </tr>\n",
       "  </thead>\n",
       "  <tbody>\n",
       "    <tr>\n",
       "      <th>7040</th>\n",
       "      <td>4801-JZAZL</td>\n",
       "      <td>1.0</td>\n",
       "      <td>2019-03-01</td>\n",
       "      <td>No</td>\n",
       "      <td>Month-to-month</td>\n",
       "      <td>Yes</td>\n",
       "      <td>Electronic check</td>\n",
       "      <td>29.60</td>\n",
       "      <td>346.45</td>\n",
       "    </tr>\n",
       "    <tr>\n",
       "      <th>7041</th>\n",
       "      <td>8361-LTMKD</td>\n",
       "      <td>0.0</td>\n",
       "      <td>2019-07-01</td>\n",
       "      <td>2019-11-01 00:00:00</td>\n",
       "      <td>Month-to-month</td>\n",
       "      <td>Yes</td>\n",
       "      <td>Mailed check</td>\n",
       "      <td>74.40</td>\n",
       "      <td>306.6</td>\n",
       "    </tr>\n",
       "    <tr>\n",
       "      <th>7042</th>\n",
       "      <td>3186-AJIEK</td>\n",
       "      <td>1.0</td>\n",
       "      <td>2014-08-01</td>\n",
       "      <td>No</td>\n",
       "      <td>Two year</td>\n",
       "      <td>Yes</td>\n",
       "      <td>Bank transfer (automatic)</td>\n",
       "      <td>105.65</td>\n",
       "      <td>6844.5</td>\n",
       "    </tr>\n",
       "  </tbody>\n",
       "</table>\n",
       "</div>"
      ],
      "text/plain": [
       "      customerID  churned   BeginDate              EndDate            Type  \\\n",
       "7040  4801-JZAZL      1.0  2019-03-01                   No  Month-to-month   \n",
       "7041  8361-LTMKD      0.0  2019-07-01  2019-11-01 00:00:00  Month-to-month   \n",
       "7042  3186-AJIEK      1.0  2014-08-01                   No        Two year   \n",
       "\n",
       "     PaperlessBilling              PaymentMethod  MonthlyCharges TotalCharges  \n",
       "7040              Yes           Electronic check           29.60       346.45  \n",
       "7041              Yes               Mailed check           74.40        306.6  \n",
       "7042              Yes  Bank transfer (automatic)          105.65       6844.5  "
      ]
     },
     "execution_count": 202,
     "metadata": {},
     "output_type": "execute_result"
    }
   ],
   "source": [
    "contract_adj.tail(3)"
   ]
  },
  {
   "cell_type": "markdown",
   "id": "6decfc26",
   "metadata": {},
   "source": [
    "<div class=\"alert alert-danger\">\n",
    "<b>Комментарий ревьюера: &#10060; </b> Не совсем понятно, зачем нужна строка выше, если пропусков нет, так же здесь и далее: заполнение пропусков интерполяцией в этом проекте не корректно, пропуски в услугах означают их отсутствие(у те</div>"
   ]
  },
  {
   "cell_type": "markdown",
   "id": "50d26a26",
   "metadata": {},
   "source": [
    "<div class=\"alert alert-info\"> <b>Юлия:</b>\n",
    "Убрала.\n",
    "</div>\n"
   ]
  },
  {
   "cell_type": "code",
   "execution_count": 203,
   "id": "1164ddbe",
   "metadata": {},
   "outputs": [],
   "source": [
    "contract_adj['begin_date'] = pd.to_datetime(contract_adj['BeginDate']).dt.date"
   ]
  },
  {
   "cell_type": "code",
   "execution_count": 204,
   "id": "5e168c1b",
   "metadata": {
    "scrolled": true
   },
   "outputs": [
    {
     "data": {
      "text/plain": [
       "customerID                         0002-ORFBO\n",
       "churned                                   0.0\n",
       "BeginDate                          2013-10-01\n",
       "Type                           Month-to-month\n",
       "PaperlessBilling                           No\n",
       "PaymentMethod       Bank transfer (automatic)\n",
       "MonthlyCharges                          18.25\n",
       "TotalCharges                                 \n",
       "begin_date                         2013-10-01\n",
       "dtype: object"
      ]
     },
     "execution_count": 204,
     "metadata": {},
     "output_type": "execute_result"
    }
   ],
   "source": [
    "contract_adj.loc[contract_adj['EndDate'] == 'No', 'EndDate'] = pd.to_datetime('2020-02-01')\n",
    "contract_adj.min()"
   ]
  },
  {
   "cell_type": "markdown",
   "id": "f31242ec",
   "metadata": {},
   "source": [
    "<div class=\"alert alert-danger\">\n",
    "<b>Комментарий ревьюера: &#10060; </b> Обрати, пожалуйста, внимание на end_date (во что преобразуются нули)Здесь пропуски лучше заполнить датой выгрузки из бд</div>"
   ]
  },
  {
   "cell_type": "markdown",
   "id": "4c935673",
   "metadata": {},
   "source": [
    "<div class=\"alert alert-info\"> <b>Юлия:</b>\n",
    "Заполнила датой 01/02/2020.\n",
    "</div>\n"
   ]
  },
  {
   "cell_type": "markdown",
   "id": "3ee71c3e",
   "metadata": {},
   "source": [
    "<div class=\"alert alert-success\">\n",
    "<b>Комментарий ревьюера V2:\n",
    "&#9989;</b> Отлично! </div>"
   ]
  },
  {
   "cell_type": "code",
   "execution_count": 205,
   "id": "c95a5992",
   "metadata": {},
   "outputs": [],
   "source": [
    "contract_adj['end_date'] = pd.to_datetime(contract_adj['EndDate']).dt.date"
   ]
  },
  {
   "cell_type": "code",
   "execution_count": 206,
   "id": "8204b553",
   "metadata": {},
   "outputs": [
    {
     "data": {
      "text/html": [
       "<div>\n",
       "<style scoped>\n",
       "    .dataframe tbody tr th:only-of-type {\n",
       "        vertical-align: middle;\n",
       "    }\n",
       "\n",
       "    .dataframe tbody tr th {\n",
       "        vertical-align: top;\n",
       "    }\n",
       "\n",
       "    .dataframe thead th {\n",
       "        text-align: right;\n",
       "    }\n",
       "</style>\n",
       "<table border=\"1\" class=\"dataframe\">\n",
       "  <thead>\n",
       "    <tr style=\"text-align: right;\">\n",
       "      <th></th>\n",
       "      <th>customerID</th>\n",
       "      <th>churned</th>\n",
       "      <th>BeginDate</th>\n",
       "      <th>EndDate</th>\n",
       "      <th>Type</th>\n",
       "      <th>PaperlessBilling</th>\n",
       "      <th>PaymentMethod</th>\n",
       "      <th>MonthlyCharges</th>\n",
       "      <th>TotalCharges</th>\n",
       "      <th>begin_date</th>\n",
       "      <th>end_date</th>\n",
       "    </tr>\n",
       "  </thead>\n",
       "  <tbody>\n",
       "    <tr>\n",
       "      <th>0</th>\n",
       "      <td>7590-VHVEG</td>\n",
       "      <td>1.0</td>\n",
       "      <td>2020-01-01</td>\n",
       "      <td>2020-02-01 00:00:00</td>\n",
       "      <td>Month-to-month</td>\n",
       "      <td>Yes</td>\n",
       "      <td>Electronic check</td>\n",
       "      <td>29.85</td>\n",
       "      <td>29.85</td>\n",
       "      <td>2020-01-01</td>\n",
       "      <td>2020-02-01</td>\n",
       "    </tr>\n",
       "    <tr>\n",
       "      <th>1</th>\n",
       "      <td>5575-GNVDE</td>\n",
       "      <td>1.0</td>\n",
       "      <td>2017-04-01</td>\n",
       "      <td>2020-02-01 00:00:00</td>\n",
       "      <td>One year</td>\n",
       "      <td>No</td>\n",
       "      <td>Mailed check</td>\n",
       "      <td>56.95</td>\n",
       "      <td>1889.5</td>\n",
       "      <td>2017-04-01</td>\n",
       "      <td>2020-02-01</td>\n",
       "    </tr>\n",
       "    <tr>\n",
       "      <th>2</th>\n",
       "      <td>3668-QPYBK</td>\n",
       "      <td>0.0</td>\n",
       "      <td>2019-10-01</td>\n",
       "      <td>2019-12-01 00:00:00</td>\n",
       "      <td>Month-to-month</td>\n",
       "      <td>Yes</td>\n",
       "      <td>Mailed check</td>\n",
       "      <td>53.85</td>\n",
       "      <td>108.15</td>\n",
       "      <td>2019-10-01</td>\n",
       "      <td>2019-12-01</td>\n",
       "    </tr>\n",
       "    <tr>\n",
       "      <th>3</th>\n",
       "      <td>7795-CFOCW</td>\n",
       "      <td>1.0</td>\n",
       "      <td>2016-05-01</td>\n",
       "      <td>2020-02-01 00:00:00</td>\n",
       "      <td>One year</td>\n",
       "      <td>No</td>\n",
       "      <td>Bank transfer (automatic)</td>\n",
       "      <td>42.30</td>\n",
       "      <td>1840.75</td>\n",
       "      <td>2016-05-01</td>\n",
       "      <td>2020-02-01</td>\n",
       "    </tr>\n",
       "    <tr>\n",
       "      <th>4</th>\n",
       "      <td>9237-HQITU</td>\n",
       "      <td>0.0</td>\n",
       "      <td>2019-09-01</td>\n",
       "      <td>2019-11-01 00:00:00</td>\n",
       "      <td>Month-to-month</td>\n",
       "      <td>Yes</td>\n",
       "      <td>Electronic check</td>\n",
       "      <td>70.70</td>\n",
       "      <td>151.65</td>\n",
       "      <td>2019-09-01</td>\n",
       "      <td>2019-11-01</td>\n",
       "    </tr>\n",
       "  </tbody>\n",
       "</table>\n",
       "</div>"
      ],
      "text/plain": [
       "   customerID  churned   BeginDate              EndDate            Type  \\\n",
       "0  7590-VHVEG      1.0  2020-01-01  2020-02-01 00:00:00  Month-to-month   \n",
       "1  5575-GNVDE      1.0  2017-04-01  2020-02-01 00:00:00        One year   \n",
       "2  3668-QPYBK      0.0  2019-10-01  2019-12-01 00:00:00  Month-to-month   \n",
       "3  7795-CFOCW      1.0  2016-05-01  2020-02-01 00:00:00        One year   \n",
       "4  9237-HQITU      0.0  2019-09-01  2019-11-01 00:00:00  Month-to-month   \n",
       "\n",
       "  PaperlessBilling              PaymentMethod  MonthlyCharges TotalCharges  \\\n",
       "0              Yes           Electronic check           29.85        29.85   \n",
       "1               No               Mailed check           56.95       1889.5   \n",
       "2              Yes               Mailed check           53.85       108.15   \n",
       "3               No  Bank transfer (automatic)           42.30      1840.75   \n",
       "4              Yes           Electronic check           70.70       151.65   \n",
       "\n",
       "   begin_date    end_date  \n",
       "0  2020-01-01  2020-02-01  \n",
       "1  2017-04-01  2020-02-01  \n",
       "2  2019-10-01  2019-12-01  \n",
       "3  2016-05-01  2020-02-01  \n",
       "4  2019-09-01  2019-11-01  "
      ]
     },
     "execution_count": 206,
     "metadata": {},
     "output_type": "execute_result"
    }
   ],
   "source": [
    "contract_adj.head(5)"
   ]
  },
  {
   "cell_type": "code",
   "execution_count": 207,
   "id": "99324115",
   "metadata": {
    "scrolled": false
   },
   "outputs": [
    {
     "data": {
      "text/plain": [
       "(7043, 11)"
      ]
     },
     "execution_count": 207,
     "metadata": {},
     "output_type": "execute_result"
    }
   ],
   "source": [
    "contract_adj.shape"
   ]
  },
  {
   "cell_type": "markdown",
   "id": "c8d1e92b",
   "metadata": {},
   "source": [
    "<div class=\"alert alert-danger\">\n",
    "<b>Комментарий ревьюера: &#10060; </b> Здесь вылетает ошибка</div>"
   ]
  },
  {
   "cell_type": "markdown",
   "id": "b7cee5d0",
   "metadata": {},
   "source": [
    "<div class=\"alert alert-info\"> <b>Юлия:</b>\n",
    "Поправила.\n",
    "</div>\n"
   ]
  },
  {
   "cell_type": "markdown",
   "id": "d379a0c2",
   "metadata": {},
   "source": [
    "<div class=\"alert alert-success\">\n",
    "<b>Комментарий ревьюера V2:\n",
    "&#9989;</b> Отлично! </div>"
   ]
  },
  {
   "cell_type": "code",
   "execution_count": 208,
   "id": "6bc49ed4",
   "metadata": {
    "scrolled": true
   },
   "outputs": [
    {
     "data": {
      "text/html": [
       "<div>\n",
       "<style scoped>\n",
       "    .dataframe tbody tr th:only-of-type {\n",
       "        vertical-align: middle;\n",
       "    }\n",
       "\n",
       "    .dataframe tbody tr th {\n",
       "        vertical-align: top;\n",
       "    }\n",
       "\n",
       "    .dataframe thead th {\n",
       "        text-align: right;\n",
       "    }\n",
       "</style>\n",
       "<table border=\"1\" class=\"dataframe\">\n",
       "  <thead>\n",
       "    <tr style=\"text-align: right;\">\n",
       "      <th></th>\n",
       "      <th>churned</th>\n",
       "      <th>MonthlyCharges</th>\n",
       "    </tr>\n",
       "  </thead>\n",
       "  <tbody>\n",
       "    <tr>\n",
       "      <th>count</th>\n",
       "      <td>7043.000000</td>\n",
       "      <td>7043.000000</td>\n",
       "    </tr>\n",
       "    <tr>\n",
       "      <th>mean</th>\n",
       "      <td>0.734630</td>\n",
       "      <td>64.761692</td>\n",
       "    </tr>\n",
       "    <tr>\n",
       "      <th>std</th>\n",
       "      <td>0.441561</td>\n",
       "      <td>30.090047</td>\n",
       "    </tr>\n",
       "    <tr>\n",
       "      <th>min</th>\n",
       "      <td>0.000000</td>\n",
       "      <td>18.250000</td>\n",
       "    </tr>\n",
       "    <tr>\n",
       "      <th>25%</th>\n",
       "      <td>0.000000</td>\n",
       "      <td>35.500000</td>\n",
       "    </tr>\n",
       "    <tr>\n",
       "      <th>50%</th>\n",
       "      <td>1.000000</td>\n",
       "      <td>70.350000</td>\n",
       "    </tr>\n",
       "    <tr>\n",
       "      <th>75%</th>\n",
       "      <td>1.000000</td>\n",
       "      <td>89.850000</td>\n",
       "    </tr>\n",
       "    <tr>\n",
       "      <th>max</th>\n",
       "      <td>1.000000</td>\n",
       "      <td>118.750000</td>\n",
       "    </tr>\n",
       "  </tbody>\n",
       "</table>\n",
       "</div>"
      ],
      "text/plain": [
       "           churned  MonthlyCharges\n",
       "count  7043.000000     7043.000000\n",
       "mean      0.734630       64.761692\n",
       "std       0.441561       30.090047\n",
       "min       0.000000       18.250000\n",
       "25%       0.000000       35.500000\n",
       "50%       1.000000       70.350000\n",
       "75%       1.000000       89.850000\n",
       "max       1.000000      118.750000"
      ]
     },
     "execution_count": 208,
     "metadata": {},
     "output_type": "execute_result"
    }
   ],
   "source": [
    "contract_adj.describe()"
   ]
  },
  {
   "cell_type": "code",
   "execution_count": 209,
   "id": "eef3df27",
   "metadata": {},
   "outputs": [],
   "source": [
    "# contract_final = contract_adj.query('year_end != 1970')"
   ]
  },
  {
   "cell_type": "code",
   "execution_count": 210,
   "id": "c1b84ddc",
   "metadata": {
    "scrolled": true
   },
   "outputs": [],
   "source": [
    "# contract_final[contract_final['year_end'] == 1970]"
   ]
  },
  {
   "cell_type": "code",
   "execution_count": 211,
   "id": "b4b19517",
   "metadata": {},
   "outputs": [],
   "source": [
    "# data['Tenure'] = data['Tenure'].fillna(data.groupby('Balance')['Tenure'].transform('median'))\n",
    "# data['Tenure'].isna().sum() / len(data)"
   ]
  },
  {
   "cell_type": "code",
   "execution_count": 212,
   "id": "73822313",
   "metadata": {},
   "outputs": [
    {
     "data": {
      "text/plain": [
       "customerID          0\n",
       "churned             0\n",
       "BeginDate           0\n",
       "EndDate             0\n",
       "Type                0\n",
       "PaperlessBilling    0\n",
       "PaymentMethod       0\n",
       "MonthlyCharges      0\n",
       "TotalCharges        0\n",
       "begin_date          0\n",
       "end_date            0\n",
       "dtype: int64"
      ]
     },
     "execution_count": 212,
     "metadata": {},
     "output_type": "execute_result"
    }
   ],
   "source": [
    "contract_adj.isnull().sum()"
   ]
  },
  {
   "cell_type": "code",
   "execution_count": 213,
   "id": "9c38d687",
   "metadata": {},
   "outputs": [
    {
     "name": "stdout",
     "output_type": "stream",
     "text": [
      "<class 'pandas.core.frame.DataFrame'>\n",
      "Int64Index: 7043 entries, 0 to 7042\n",
      "Data columns (total 11 columns):\n",
      " #   Column            Non-Null Count  Dtype  \n",
      "---  ------            --------------  -----  \n",
      " 0   customerID        7043 non-null   object \n",
      " 1   churned           7043 non-null   float64\n",
      " 2   BeginDate         7043 non-null   object \n",
      " 3   EndDate           7043 non-null   object \n",
      " 4   Type              7043 non-null   object \n",
      " 5   PaperlessBilling  7043 non-null   object \n",
      " 6   PaymentMethod     7043 non-null   object \n",
      " 7   MonthlyCharges    7043 non-null   float64\n",
      " 8   TotalCharges      7043 non-null   object \n",
      " 9   begin_date        7043 non-null   object \n",
      " 10  end_date          7043 non-null   object \n",
      "dtypes: float64(2), object(9)\n",
      "memory usage: 660.3+ KB\n"
     ]
    }
   ],
   "source": [
    "contract_adj.info()"
   ]
  },
  {
   "cell_type": "code",
   "execution_count": 214,
   "id": "1db68d90",
   "metadata": {},
   "outputs": [],
   "source": [
    "# изменим тип данных, где приведены целочисленные значения\n",
    "contract_adj['churned'] = contract_adj['churned'].astype('int')"
   ]
  },
  {
   "cell_type": "code",
   "execution_count": 215,
   "id": "03f3f8cc",
   "metadata": {},
   "outputs": [],
   "source": [
    "contract_adj['TotalCharges'] = np.floor(pd.to_numeric(contract_adj['TotalCharges'], errors='coerce')).astype('float64')"
   ]
  },
  {
   "cell_type": "markdown",
   "id": "93e1e121",
   "metadata": {},
   "source": [
    "<div class=\"alert alert-danger\">\n",
    "<b>Комментарий ревьюера: &#10060; </b> Не совсем понятно зачем здесь округление, поясни, пожалуйста</div>"
   ]
  },
  {
   "cell_type": "markdown",
   "id": "c32efbc3",
   "metadata": {},
   "source": [
    "<div class=\"alert alert-info\"> <b>Юлия:</b>\n",
    "    \n",
    "Округления здесь нет.\n",
    "    \n",
    "- churned имеет тип переменной float, но так как это бинарная переменная, я перевожу в int();\n",
    "- TotalCharges имеет тип переменной object, но является числом с двумя знаками после запятой, поэтому перевожу в тип float64.\n",
    "</div>\n"
   ]
  },
  {
   "cell_type": "code",
   "execution_count": 216,
   "id": "8c98bad0",
   "metadata": {},
   "outputs": [],
   "source": [
    "contract_adj = contract_adj.drop(columns=['BeginDate'])\n",
    "contract_adj = contract_adj.drop(columns=['EndDate'])"
   ]
  },
  {
   "cell_type": "code",
   "execution_count": 217,
   "id": "cd297d4d",
   "metadata": {
    "scrolled": true
   },
   "outputs": [
    {
     "name": "stdout",
     "output_type": "stream",
     "text": [
      "<class 'pandas.core.frame.DataFrame'>\n",
      "Int64Index: 7043 entries, 0 to 7042\n",
      "Data columns (total 9 columns):\n",
      " #   Column            Non-Null Count  Dtype  \n",
      "---  ------            --------------  -----  \n",
      " 0   customerID        7043 non-null   object \n",
      " 1   churned           7043 non-null   int64  \n",
      " 2   Type              7043 non-null   object \n",
      " 3   PaperlessBilling  7043 non-null   object \n",
      " 4   PaymentMethod     7043 non-null   object \n",
      " 5   MonthlyCharges    7043 non-null   float64\n",
      " 6   TotalCharges      7032 non-null   float64\n",
      " 7   begin_date        7043 non-null   object \n",
      " 8   end_date          7043 non-null   object \n",
      "dtypes: float64(2), int64(1), object(6)\n",
      "memory usage: 550.2+ KB\n"
     ]
    }
   ],
   "source": [
    "contract_adj.info()"
   ]
  },
  {
   "cell_type": "code",
   "execution_count": 218,
   "id": "a9902011",
   "metadata": {},
   "outputs": [
    {
     "data": {
      "text/plain": [
       "Index(['TotalCharges'], dtype='object')"
      ]
     },
     "execution_count": 218,
     "metadata": {},
     "output_type": "execute_result"
    }
   ],
   "source": [
    "contract_adj.columns[contract_adj.isnull().any()]"
   ]
  },
  {
   "cell_type": "markdown",
   "id": "00de7f23",
   "metadata": {},
   "source": [
    "### *Вывод `contract`:* В данных создана отдельная колонка бинарного целевого признака со значениями 0, 1 в зависимости от того, являлся ли клиент действующим или нет. Решение было принято на основе наличия конечной даты контакта в исходных данных `EndDate`. Также были изменены типы переменных, вместо исходных колонок с датой начало и окончаения контракта в разных форматах, были созданы две новые колонки в едином формате даты. Финальная версия данных `contract` содержит 9 признаков (включая целевой) и 7043 наблюдения и готова к дальнейшему использованию. В колонке `TotalCharges` содержатся пропущенные значения. "
   ]
  },
  {
   "cell_type": "markdown",
   "id": "72ab45fe",
   "metadata": {},
   "source": [
    "<div class=\"alert alert-success\">\n",
    "<b>Комментарий ревьюера:\n",
    "&#9989;</b> Хорошо! </div>"
   ]
  },
  {
   "cell_type": "markdown",
   "id": "111ffce4",
   "metadata": {},
   "source": [
    "- ####  `internet`"
   ]
  },
  {
   "cell_type": "code",
   "execution_count": 219,
   "id": "e7b718d5",
   "metadata": {},
   "outputs": [],
   "source": [
    "# read the file handling exceptions\n",
    "try:\n",
    "    internet = pd.read_csv('/Users/yuliabezginova/PycharmProjects/00_files-for_NLP/final_provider/internet.csv') #, index_col=[0])\n",
    "except FileNotFoundError:\n",
    "    internet = pd.read_csv('/datasets/final_provider/internet.csv') #, index_col=[0])"
   ]
  },
  {
   "cell_type": "code",
   "execution_count": 220,
   "id": "fac1408a",
   "metadata": {},
   "outputs": [
    {
     "data": {
      "text/html": [
       "<div>\n",
       "<style scoped>\n",
       "    .dataframe tbody tr th:only-of-type {\n",
       "        vertical-align: middle;\n",
       "    }\n",
       "\n",
       "    .dataframe tbody tr th {\n",
       "        vertical-align: top;\n",
       "    }\n",
       "\n",
       "    .dataframe thead th {\n",
       "        text-align: right;\n",
       "    }\n",
       "</style>\n",
       "<table border=\"1\" class=\"dataframe\">\n",
       "  <thead>\n",
       "    <tr style=\"text-align: right;\">\n",
       "      <th></th>\n",
       "      <th>customerID</th>\n",
       "      <th>InternetService</th>\n",
       "      <th>OnlineSecurity</th>\n",
       "      <th>OnlineBackup</th>\n",
       "      <th>DeviceProtection</th>\n",
       "      <th>TechSupport</th>\n",
       "      <th>StreamingTV</th>\n",
       "      <th>StreamingMovies</th>\n",
       "    </tr>\n",
       "  </thead>\n",
       "  <tbody>\n",
       "    <tr>\n",
       "      <th>0</th>\n",
       "      <td>7590-VHVEG</td>\n",
       "      <td>DSL</td>\n",
       "      <td>No</td>\n",
       "      <td>Yes</td>\n",
       "      <td>No</td>\n",
       "      <td>No</td>\n",
       "      <td>No</td>\n",
       "      <td>No</td>\n",
       "    </tr>\n",
       "    <tr>\n",
       "      <th>1</th>\n",
       "      <td>5575-GNVDE</td>\n",
       "      <td>DSL</td>\n",
       "      <td>Yes</td>\n",
       "      <td>No</td>\n",
       "      <td>Yes</td>\n",
       "      <td>No</td>\n",
       "      <td>No</td>\n",
       "      <td>No</td>\n",
       "    </tr>\n",
       "    <tr>\n",
       "      <th>2</th>\n",
       "      <td>3668-QPYBK</td>\n",
       "      <td>DSL</td>\n",
       "      <td>Yes</td>\n",
       "      <td>Yes</td>\n",
       "      <td>No</td>\n",
       "      <td>No</td>\n",
       "      <td>No</td>\n",
       "      <td>No</td>\n",
       "    </tr>\n",
       "  </tbody>\n",
       "</table>\n",
       "</div>"
      ],
      "text/plain": [
       "   customerID InternetService OnlineSecurity OnlineBackup DeviceProtection  \\\n",
       "0  7590-VHVEG             DSL             No          Yes               No   \n",
       "1  5575-GNVDE             DSL            Yes           No              Yes   \n",
       "2  3668-QPYBK             DSL            Yes          Yes               No   \n",
       "\n",
       "  TechSupport StreamingTV StreamingMovies  \n",
       "0          No          No              No  \n",
       "1          No          No              No  \n",
       "2          No          No              No  "
      ]
     },
     "execution_count": 220,
     "metadata": {},
     "output_type": "execute_result"
    }
   ],
   "source": [
    "internet.head(3)"
   ]
  },
  {
   "cell_type": "code",
   "execution_count": 221,
   "id": "71e5bf3e",
   "metadata": {},
   "outputs": [
    {
     "data": {
      "text/plain": [
       "customerID          0\n",
       "InternetService     0\n",
       "OnlineSecurity      0\n",
       "OnlineBackup        0\n",
       "DeviceProtection    0\n",
       "TechSupport         0\n",
       "StreamingTV         0\n",
       "StreamingMovies     0\n",
       "dtype: int64"
      ]
     },
     "execution_count": 221,
     "metadata": {},
     "output_type": "execute_result"
    }
   ],
   "source": [
    "# проверка на пропущенные значения и дубликаты\n",
    "internet.isnull().sum()"
   ]
  },
  {
   "cell_type": "code",
   "execution_count": 222,
   "id": "8b63f728",
   "metadata": {},
   "outputs": [
    {
     "data": {
      "text/plain": [
       "Index([], dtype='object')"
      ]
     },
     "execution_count": 222,
     "metadata": {},
     "output_type": "execute_result"
    }
   ],
   "source": [
    "internet.columns[internet.isnull().any()]"
   ]
  },
  {
   "cell_type": "code",
   "execution_count": 223,
   "id": "313c4c19",
   "metadata": {},
   "outputs": [
    {
     "data": {
      "text/plain": [
       "array(['DSL', 'Fiber optic'], dtype=object)"
      ]
     },
     "execution_count": 223,
     "metadata": {},
     "output_type": "execute_result"
    }
   ],
   "source": [
    "# проверка на аномалии в категориях\n",
    "internet['InternetService'].unique()"
   ]
  },
  {
   "cell_type": "code",
   "execution_count": 224,
   "id": "ce192633",
   "metadata": {},
   "outputs": [
    {
     "data": {
      "text/plain": [
       "array(['No', 'Yes'], dtype=object)"
      ]
     },
     "execution_count": 224,
     "metadata": {},
     "output_type": "execute_result"
    }
   ],
   "source": [
    "internet['OnlineSecurity'].unique()"
   ]
  },
  {
   "cell_type": "code",
   "execution_count": 225,
   "id": "c6d4de1c",
   "metadata": {},
   "outputs": [
    {
     "data": {
      "text/plain": [
       "array(['Yes', 'No'], dtype=object)"
      ]
     },
     "execution_count": 225,
     "metadata": {},
     "output_type": "execute_result"
    }
   ],
   "source": [
    "internet['OnlineBackup'].unique()"
   ]
  },
  {
   "cell_type": "code",
   "execution_count": 226,
   "id": "2c11c44e",
   "metadata": {},
   "outputs": [
    {
     "data": {
      "text/plain": [
       "array(['No', 'Yes'], dtype=object)"
      ]
     },
     "execution_count": 226,
     "metadata": {},
     "output_type": "execute_result"
    }
   ],
   "source": [
    "internet['DeviceProtection'].unique()"
   ]
  },
  {
   "cell_type": "code",
   "execution_count": 227,
   "id": "b90b374c",
   "metadata": {},
   "outputs": [
    {
     "data": {
      "text/plain": [
       "array(['No', 'Yes'], dtype=object)"
      ]
     },
     "execution_count": 227,
     "metadata": {},
     "output_type": "execute_result"
    }
   ],
   "source": [
    "internet['TechSupport'].unique()"
   ]
  },
  {
   "cell_type": "code",
   "execution_count": 228,
   "id": "32a147fa",
   "metadata": {},
   "outputs": [
    {
     "data": {
      "text/plain": [
       "array(['No', 'Yes'], dtype=object)"
      ]
     },
     "execution_count": 228,
     "metadata": {},
     "output_type": "execute_result"
    }
   ],
   "source": [
    "internet['StreamingTV'].unique()"
   ]
  },
  {
   "cell_type": "code",
   "execution_count": 229,
   "id": "867586cf",
   "metadata": {},
   "outputs": [
    {
     "data": {
      "text/plain": [
       "array(['No', 'Yes'], dtype=object)"
      ]
     },
     "execution_count": 229,
     "metadata": {},
     "output_type": "execute_result"
    }
   ],
   "source": [
    "internet['StreamingMovies'].unique()"
   ]
  },
  {
   "cell_type": "markdown",
   "id": "33f233db",
   "metadata": {},
   "source": [
    "### *Вывод:* Данные `internet` содержат категориальные переменные, не содержат пропусков. Аномальных значений в категориях не обнаружено. Данные готовы к дальнейшему анализу."
   ]
  },
  {
   "cell_type": "markdown",
   "id": "3b829c8d",
   "metadata": {},
   "source": [
    "<div class=\"alert alert-success\">\n",
    "<b>Комментарий ревьюера:\n",
    "&#9989;</b> Хорошо! </div>"
   ]
  },
  {
   "cell_type": "markdown",
   "id": "0dd28642",
   "metadata": {},
   "source": [
    "- ####  `personal`"
   ]
  },
  {
   "cell_type": "code",
   "execution_count": 230,
   "id": "e1b22ed3",
   "metadata": {},
   "outputs": [],
   "source": [
    "# read the file handling exceptions\n",
    "try:\n",
    "    personal = pd.read_csv('/Users/yuliabezginova/PycharmProjects/00_files-for_NLP/final_provider/personal.csv') #, index_col=[0])\n",
    "except FileNotFoundError:\n",
    "    personal = pd.read_csv('/datasets/final_provider/personal.csv') #, index_col=[0])"
   ]
  },
  {
   "cell_type": "code",
   "execution_count": 231,
   "id": "db500090",
   "metadata": {
    "scrolled": true
   },
   "outputs": [
    {
     "data": {
      "text/html": [
       "<div>\n",
       "<style scoped>\n",
       "    .dataframe tbody tr th:only-of-type {\n",
       "        vertical-align: middle;\n",
       "    }\n",
       "\n",
       "    .dataframe tbody tr th {\n",
       "        vertical-align: top;\n",
       "    }\n",
       "\n",
       "    .dataframe thead th {\n",
       "        text-align: right;\n",
       "    }\n",
       "</style>\n",
       "<table border=\"1\" class=\"dataframe\">\n",
       "  <thead>\n",
       "    <tr style=\"text-align: right;\">\n",
       "      <th></th>\n",
       "      <th>customerID</th>\n",
       "      <th>gender</th>\n",
       "      <th>SeniorCitizen</th>\n",
       "      <th>Partner</th>\n",
       "      <th>Dependents</th>\n",
       "    </tr>\n",
       "  </thead>\n",
       "  <tbody>\n",
       "    <tr>\n",
       "      <th>0</th>\n",
       "      <td>7590-VHVEG</td>\n",
       "      <td>Female</td>\n",
       "      <td>0</td>\n",
       "      <td>Yes</td>\n",
       "      <td>No</td>\n",
       "    </tr>\n",
       "    <tr>\n",
       "      <th>1</th>\n",
       "      <td>5575-GNVDE</td>\n",
       "      <td>Male</td>\n",
       "      <td>0</td>\n",
       "      <td>No</td>\n",
       "      <td>No</td>\n",
       "    </tr>\n",
       "    <tr>\n",
       "      <th>2</th>\n",
       "      <td>3668-QPYBK</td>\n",
       "      <td>Male</td>\n",
       "      <td>0</td>\n",
       "      <td>No</td>\n",
       "      <td>No</td>\n",
       "    </tr>\n",
       "  </tbody>\n",
       "</table>\n",
       "</div>"
      ],
      "text/plain": [
       "   customerID  gender  SeniorCitizen Partner Dependents\n",
       "0  7590-VHVEG  Female              0     Yes         No\n",
       "1  5575-GNVDE    Male              0      No         No\n",
       "2  3668-QPYBK    Male              0      No         No"
      ]
     },
     "execution_count": 231,
     "metadata": {},
     "output_type": "execute_result"
    }
   ],
   "source": [
    "personal.head(3)"
   ]
  },
  {
   "cell_type": "code",
   "execution_count": 232,
   "id": "3ed330bf",
   "metadata": {},
   "outputs": [
    {
     "data": {
      "text/plain": [
       "customerID       0\n",
       "gender           0\n",
       "SeniorCitizen    0\n",
       "Partner          0\n",
       "Dependents       0\n",
       "dtype: int64"
      ]
     },
     "execution_count": 232,
     "metadata": {},
     "output_type": "execute_result"
    }
   ],
   "source": [
    "# проверка на пропущенные значения и дубликаты\n",
    "personal.isnull().sum()"
   ]
  },
  {
   "cell_type": "code",
   "execution_count": 233,
   "id": "bb229084",
   "metadata": {},
   "outputs": [
    {
     "data": {
      "text/plain": [
       "array(['Female', 'Male'], dtype=object)"
      ]
     },
     "execution_count": 233,
     "metadata": {},
     "output_type": "execute_result"
    }
   ],
   "source": [
    "personal['gender'].unique()"
   ]
  },
  {
   "cell_type": "code",
   "execution_count": 234,
   "id": "53ae4fb4",
   "metadata": {},
   "outputs": [
    {
     "data": {
      "text/plain": [
       "array([0, 1])"
      ]
     },
     "execution_count": 234,
     "metadata": {},
     "output_type": "execute_result"
    }
   ],
   "source": [
    "personal['SeniorCitizen'].unique()"
   ]
  },
  {
   "cell_type": "code",
   "execution_count": 235,
   "id": "b819a7b1",
   "metadata": {},
   "outputs": [
    {
     "data": {
      "text/plain": [
       "array(['Yes', 'No'], dtype=object)"
      ]
     },
     "execution_count": 235,
     "metadata": {},
     "output_type": "execute_result"
    }
   ],
   "source": [
    "personal['Partner'].unique()"
   ]
  },
  {
   "cell_type": "code",
   "execution_count": 236,
   "id": "561140ec",
   "metadata": {},
   "outputs": [
    {
     "data": {
      "text/plain": [
       "array(['No', 'Yes'], dtype=object)"
      ]
     },
     "execution_count": 236,
     "metadata": {},
     "output_type": "execute_result"
    }
   ],
   "source": [
    "personal['Dependents'].unique()"
   ]
  },
  {
   "cell_type": "markdown",
   "id": "fe43b278",
   "metadata": {},
   "source": [
    "### *Вывод:* Данные `personal` содержат категориальные переменные, не содержат пропусков. Аномальных значений в категориях не обнаружено. Данные готовы к дальнейшему анализу."
   ]
  },
  {
   "cell_type": "markdown",
   "id": "61973d3d",
   "metadata": {},
   "source": [
    "<div class=\"alert alert-success\">\n",
    "<b>Комментарий ревьюера:\n",
    "&#9989;</b> Хорошо! </div>"
   ]
  },
  {
   "cell_type": "markdown",
   "id": "ad71e163",
   "metadata": {},
   "source": [
    "- ####  `phone`"
   ]
  },
  {
   "cell_type": "code",
   "execution_count": 237,
   "id": "5b1bfee3",
   "metadata": {},
   "outputs": [],
   "source": [
    "# read the file handling exceptions\n",
    "try:\n",
    "    phone = pd.read_csv('/Users/yuliabezginova/PycharmProjects/00_files-for_NLP/final_provider/phone.csv') #, index_col=[0])\n",
    "except FileNotFoundError:\n",
    "    phone = pd.read_csv('/datasets/final_provider/phone.csv') #, index_col=[0])"
   ]
  },
  {
   "cell_type": "code",
   "execution_count": 238,
   "id": "5041c959",
   "metadata": {
    "scrolled": true
   },
   "outputs": [
    {
     "data": {
      "text/html": [
       "<div>\n",
       "<style scoped>\n",
       "    .dataframe tbody tr th:only-of-type {\n",
       "        vertical-align: middle;\n",
       "    }\n",
       "\n",
       "    .dataframe tbody tr th {\n",
       "        vertical-align: top;\n",
       "    }\n",
       "\n",
       "    .dataframe thead th {\n",
       "        text-align: right;\n",
       "    }\n",
       "</style>\n",
       "<table border=\"1\" class=\"dataframe\">\n",
       "  <thead>\n",
       "    <tr style=\"text-align: right;\">\n",
       "      <th></th>\n",
       "      <th>customerID</th>\n",
       "      <th>MultipleLines</th>\n",
       "    </tr>\n",
       "  </thead>\n",
       "  <tbody>\n",
       "    <tr>\n",
       "      <th>0</th>\n",
       "      <td>5575-GNVDE</td>\n",
       "      <td>No</td>\n",
       "    </tr>\n",
       "    <tr>\n",
       "      <th>1</th>\n",
       "      <td>3668-QPYBK</td>\n",
       "      <td>No</td>\n",
       "    </tr>\n",
       "    <tr>\n",
       "      <th>2</th>\n",
       "      <td>9237-HQITU</td>\n",
       "      <td>No</td>\n",
       "    </tr>\n",
       "  </tbody>\n",
       "</table>\n",
       "</div>"
      ],
      "text/plain": [
       "   customerID MultipleLines\n",
       "0  5575-GNVDE            No\n",
       "1  3668-QPYBK            No\n",
       "2  9237-HQITU            No"
      ]
     },
     "execution_count": 238,
     "metadata": {},
     "output_type": "execute_result"
    }
   ],
   "source": [
    "phone.head(3)"
   ]
  },
  {
   "cell_type": "code",
   "execution_count": 239,
   "id": "00e8157e",
   "metadata": {},
   "outputs": [
    {
     "data": {
      "text/plain": [
       "customerID       0\n",
       "MultipleLines    0\n",
       "dtype: int64"
      ]
     },
     "execution_count": 239,
     "metadata": {},
     "output_type": "execute_result"
    }
   ],
   "source": [
    "# проверка на пропущенные значения и дубликаты\n",
    "phone.isnull().sum()"
   ]
  },
  {
   "cell_type": "markdown",
   "id": "51b3f381",
   "metadata": {},
   "source": [
    "### *Вывод:* Данные `phone` содержат категориальные переменные, не содержат пропусков. Аномальных значений в категориях не обнаружено. Данные готовы к дальнейшему анализу."
   ]
  },
  {
   "cell_type": "markdown",
   "id": "9f2cba9d",
   "metadata": {},
   "source": [
    "<div class=\"alert alert-success\">\n",
    "<b>Комментарий ревьюера:\n",
    "&#9989;</b> Хорошо! </div>"
   ]
  },
  {
   "cell_type": "markdown",
   "id": "49e26229",
   "metadata": {},
   "source": [
    "### *Общий вывод:* Все четыре датасета подготовлены к дальнейшему анализу."
   ]
  },
  {
   "attachments": {
    "image.png": {
     "image/png": "[encoded data removed]"
    }
   },
   "cell_type": "markdown",
   "id": "2cc3f47d",
   "metadata": {},
   "source": [
    "## 2 Исследовательский анализ данных\n",
    "![image.png](attachment:image.png)"
   ]
  },
  {
   "cell_type": "markdown",
   "id": "526ef614",
   "metadata": {},
   "source": [
    "### 2.1 Подготовка финального датасета"
   ]
  },
  {
   "cell_type": "code",
   "execution_count": 240,
   "id": "31fad53a",
   "metadata": {},
   "outputs": [],
   "source": [
    "df_1 = contract_adj.merge(personal, on='customerID', how='left')\n",
    "df_2 = df_1.merge(phone, on='customerID', how='left')\n",
    "df = df_2.merge(internet, on='customerID', how='left')"
   ]
  },
  {
   "cell_type": "markdown",
   "id": "d17f43e4",
   "metadata": {},
   "source": [
    "<div class=\"alert alert-danger\">\n",
    "<b>Комментарий ревьюера: &#10060; </b> Также вылетает ошибка, переменная не объявлена</div>"
   ]
  },
  {
   "cell_type": "markdown",
   "id": "6f368f6b",
   "metadata": {},
   "source": [
    "<div class=\"alert alert-info\"> <b>Юлия:</b>\n",
    "Поправила.\n",
    "</div>\n"
   ]
  },
  {
   "cell_type": "code",
   "execution_count": 241,
   "id": "2dcefe3c",
   "metadata": {},
   "outputs": [
    {
     "data": {
      "text/plain": [
       "(7043, 21)"
      ]
     },
     "execution_count": 241,
     "metadata": {},
     "output_type": "execute_result"
    }
   ],
   "source": [
    "df.shape"
   ]
  },
  {
   "cell_type": "code",
   "execution_count": 242,
   "id": "ffc0a169",
   "metadata": {
    "scrolled": true
   },
   "outputs": [
    {
     "data": {
      "text/html": [
       "<div>\n",
       "<style scoped>\n",
       "    .dataframe tbody tr th:only-of-type {\n",
       "        vertical-align: middle;\n",
       "    }\n",
       "\n",
       "    .dataframe tbody tr th {\n",
       "        vertical-align: top;\n",
       "    }\n",
       "\n",
       "    .dataframe thead th {\n",
       "        text-align: right;\n",
       "    }\n",
       "</style>\n",
       "<table border=\"1\" class=\"dataframe\">\n",
       "  <thead>\n",
       "    <tr style=\"text-align: right;\">\n",
       "      <th></th>\n",
       "      <th>customerID</th>\n",
       "      <th>churned</th>\n",
       "      <th>Type</th>\n",
       "      <th>PaperlessBilling</th>\n",
       "      <th>PaymentMethod</th>\n",
       "      <th>MonthlyCharges</th>\n",
       "      <th>TotalCharges</th>\n",
       "      <th>begin_date</th>\n",
       "      <th>end_date</th>\n",
       "      <th>gender</th>\n",
       "      <th>...</th>\n",
       "      <th>Partner</th>\n",
       "      <th>Dependents</th>\n",
       "      <th>MultipleLines</th>\n",
       "      <th>InternetService</th>\n",
       "      <th>OnlineSecurity</th>\n",
       "      <th>OnlineBackup</th>\n",
       "      <th>DeviceProtection</th>\n",
       "      <th>TechSupport</th>\n",
       "      <th>StreamingTV</th>\n",
       "      <th>StreamingMovies</th>\n",
       "    </tr>\n",
       "  </thead>\n",
       "  <tbody>\n",
       "    <tr>\n",
       "      <th>0</th>\n",
       "      <td>7590-VHVEG</td>\n",
       "      <td>1</td>\n",
       "      <td>Month-to-month</td>\n",
       "      <td>Yes</td>\n",
       "      <td>Electronic check</td>\n",
       "      <td>29.85</td>\n",
       "      <td>29.0</td>\n",
       "      <td>2020-01-01</td>\n",
       "      <td>2020-02-01</td>\n",
       "      <td>Female</td>\n",
       "      <td>...</td>\n",
       "      <td>Yes</td>\n",
       "      <td>No</td>\n",
       "      <td>NaN</td>\n",
       "      <td>DSL</td>\n",
       "      <td>No</td>\n",
       "      <td>Yes</td>\n",
       "      <td>No</td>\n",
       "      <td>No</td>\n",
       "      <td>No</td>\n",
       "      <td>No</td>\n",
       "    </tr>\n",
       "    <tr>\n",
       "      <th>1</th>\n",
       "      <td>5575-GNVDE</td>\n",
       "      <td>1</td>\n",
       "      <td>One year</td>\n",
       "      <td>No</td>\n",
       "      <td>Mailed check</td>\n",
       "      <td>56.95</td>\n",
       "      <td>1889.0</td>\n",
       "      <td>2017-04-01</td>\n",
       "      <td>2020-02-01</td>\n",
       "      <td>Male</td>\n",
       "      <td>...</td>\n",
       "      <td>No</td>\n",
       "      <td>No</td>\n",
       "      <td>No</td>\n",
       "      <td>DSL</td>\n",
       "      <td>Yes</td>\n",
       "      <td>No</td>\n",
       "      <td>Yes</td>\n",
       "      <td>No</td>\n",
       "      <td>No</td>\n",
       "      <td>No</td>\n",
       "    </tr>\n",
       "    <tr>\n",
       "      <th>2</th>\n",
       "      <td>3668-QPYBK</td>\n",
       "      <td>0</td>\n",
       "      <td>Month-to-month</td>\n",
       "      <td>Yes</td>\n",
       "      <td>Mailed check</td>\n",
       "      <td>53.85</td>\n",
       "      <td>108.0</td>\n",
       "      <td>2019-10-01</td>\n",
       "      <td>2019-12-01</td>\n",
       "      <td>Male</td>\n",
       "      <td>...</td>\n",
       "      <td>No</td>\n",
       "      <td>No</td>\n",
       "      <td>No</td>\n",
       "      <td>DSL</td>\n",
       "      <td>Yes</td>\n",
       "      <td>Yes</td>\n",
       "      <td>No</td>\n",
       "      <td>No</td>\n",
       "      <td>No</td>\n",
       "      <td>No</td>\n",
       "    </tr>\n",
       "  </tbody>\n",
       "</table>\n",
       "<p>3 rows × 21 columns</p>\n",
       "</div>"
      ],
      "text/plain": [
       "   customerID  churned            Type PaperlessBilling     PaymentMethod  \\\n",
       "0  7590-VHVEG        1  Month-to-month              Yes  Electronic check   \n",
       "1  5575-GNVDE        1        One year               No      Mailed check   \n",
       "2  3668-QPYBK        0  Month-to-month              Yes      Mailed check   \n",
       "\n",
       "   MonthlyCharges  TotalCharges  begin_date    end_date  gender  ...  Partner  \\\n",
       "0           29.85          29.0  2020-01-01  2020-02-01  Female  ...      Yes   \n",
       "1           56.95        1889.0  2017-04-01  2020-02-01    Male  ...       No   \n",
       "2           53.85         108.0  2019-10-01  2019-12-01    Male  ...       No   \n",
       "\n",
       "  Dependents MultipleLines InternetService OnlineSecurity OnlineBackup  \\\n",
       "0         No           NaN             DSL             No          Yes   \n",
       "1         No            No             DSL            Yes           No   \n",
       "2         No            No             DSL            Yes          Yes   \n",
       "\n",
       "  DeviceProtection TechSupport StreamingTV StreamingMovies  \n",
       "0               No          No          No              No  \n",
       "1              Yes          No          No              No  \n",
       "2               No          No          No              No  \n",
       "\n",
       "[3 rows x 21 columns]"
      ]
     },
     "execution_count": 242,
     "metadata": {},
     "output_type": "execute_result"
    }
   ],
   "source": [
    "df.head(3)"
   ]
  },
  {
   "cell_type": "code",
   "execution_count": 243,
   "id": "005422e6",
   "metadata": {
    "scrolled": true
   },
   "outputs": [
    {
     "name": "stdout",
     "output_type": "stream",
     "text": [
      "<class 'pandas.core.frame.DataFrame'>\n",
      "Int64Index: 7043 entries, 0 to 7042\n",
      "Data columns (total 21 columns):\n",
      " #   Column            Non-Null Count  Dtype  \n",
      "---  ------            --------------  -----  \n",
      " 0   customerID        7043 non-null   object \n",
      " 1   churned           7043 non-null   int64  \n",
      " 2   Type              7043 non-null   object \n",
      " 3   PaperlessBilling  7043 non-null   object \n",
      " 4   PaymentMethod     7043 non-null   object \n",
      " 5   MonthlyCharges    7043 non-null   float64\n",
      " 6   TotalCharges      7032 non-null   float64\n",
      " 7   begin_date        7043 non-null   object \n",
      " 8   end_date          7043 non-null   object \n",
      " 9   gender            7043 non-null   object \n",
      " 10  SeniorCitizen     7043 non-null   int64  \n",
      " 11  Partner           7043 non-null   object \n",
      " 12  Dependents        7043 non-null   object \n",
      " 13  MultipleLines     6361 non-null   object \n",
      " 14  InternetService   5517 non-null   object \n",
      " 15  OnlineSecurity    5517 non-null   object \n",
      " 16  OnlineBackup      5517 non-null   object \n",
      " 17  DeviceProtection  5517 non-null   object \n",
      " 18  TechSupport       5517 non-null   object \n",
      " 19  StreamingTV       5517 non-null   object \n",
      " 20  StreamingMovies   5517 non-null   object \n",
      "dtypes: float64(2), int64(2), object(17)\n",
      "memory usage: 1.2+ MB\n"
     ]
    }
   ],
   "source": [
    "df.info()"
   ]
  },
  {
   "cell_type": "markdown",
   "id": "a67b7ea6",
   "metadata": {},
   "source": [
    "### 2.2 Обработка пропусков"
   ]
  },
  {
   "cell_type": "code",
   "execution_count": 244,
   "id": "ed7d7ecf",
   "metadata": {
    "scrolled": true
   },
   "outputs": [],
   "source": [
    "# df = df.fillna(df.interpolate())\n",
    "# df.isnull().sum()"
   ]
  },
  {
   "cell_type": "code",
   "execution_count": 245,
   "id": "75411bcf",
   "metadata": {},
   "outputs": [
    {
     "data": {
      "text/html": [
       "<style type=\"text/css\">\n",
       "#T_24e6f_row0_col0, #T_24e6f_row1_col0, #T_24e6f_row2_col0, #T_24e6f_row3_col0, #T_24e6f_row4_col0, #T_24e6f_row5_col0, #T_24e6f_row6_col0, #T_24e6f_row7_col0, #T_24e6f_row8_col0, #T_24e6f_row9_col0, #T_24e6f_row10_col0, #T_24e6f_row11_col0, #T_24e6f_row12_col0 {\n",
       "  background-color: #3b4cc0;\n",
       "  color: #f1f1f1;\n",
       "}\n",
       "#T_24e6f_row13_col0 {\n",
       "  background-color: #d1dae9;\n",
       "  color: #000000;\n",
       "}\n",
       "#T_24e6f_row14_col0, #T_24e6f_row15_col0, #T_24e6f_row16_col0, #T_24e6f_row17_col0, #T_24e6f_row18_col0, #T_24e6f_row19_col0, #T_24e6f_row20_col0 {\n",
       "  background-color: #b40426;\n",
       "  color: #f1f1f1;\n",
       "}\n",
       "</style>\n",
       "<table id=\"T_24e6f\">\n",
       "  <thead>\n",
       "    <tr>\n",
       "      <th class=\"blank level0\" >&nbsp;</th>\n",
       "      <th id=\"T_24e6f_level0_col0\" class=\"col_heading level0 col0\" >0</th>\n",
       "    </tr>\n",
       "  </thead>\n",
       "  <tbody>\n",
       "    <tr>\n",
       "      <th id=\"T_24e6f_level0_row0\" class=\"row_heading level0 row0\" >customerID</th>\n",
       "      <td id=\"T_24e6f_row0_col0\" class=\"data row0 col0\" >0.000000</td>\n",
       "    </tr>\n",
       "    <tr>\n",
       "      <th id=\"T_24e6f_level0_row1\" class=\"row_heading level0 row1\" >churned</th>\n",
       "      <td id=\"T_24e6f_row1_col0\" class=\"data row1 col0\" >0.000000</td>\n",
       "    </tr>\n",
       "    <tr>\n",
       "      <th id=\"T_24e6f_level0_row2\" class=\"row_heading level0 row2\" >Type</th>\n",
       "      <td id=\"T_24e6f_row2_col0\" class=\"data row2 col0\" >0.000000</td>\n",
       "    </tr>\n",
       "    <tr>\n",
       "      <th id=\"T_24e6f_level0_row3\" class=\"row_heading level0 row3\" >PaperlessBilling</th>\n",
       "      <td id=\"T_24e6f_row3_col0\" class=\"data row3 col0\" >0.000000</td>\n",
       "    </tr>\n",
       "    <tr>\n",
       "      <th id=\"T_24e6f_level0_row4\" class=\"row_heading level0 row4\" >PaymentMethod</th>\n",
       "      <td id=\"T_24e6f_row4_col0\" class=\"data row4 col0\" >0.000000</td>\n",
       "    </tr>\n",
       "    <tr>\n",
       "      <th id=\"T_24e6f_level0_row5\" class=\"row_heading level0 row5\" >MonthlyCharges</th>\n",
       "      <td id=\"T_24e6f_row5_col0\" class=\"data row5 col0\" >0.000000</td>\n",
       "    </tr>\n",
       "    <tr>\n",
       "      <th id=\"T_24e6f_level0_row6\" class=\"row_heading level0 row6\" >TotalCharges</th>\n",
       "      <td id=\"T_24e6f_row6_col0\" class=\"data row6 col0\" >0.000000</td>\n",
       "    </tr>\n",
       "    <tr>\n",
       "      <th id=\"T_24e6f_level0_row7\" class=\"row_heading level0 row7\" >begin_date</th>\n",
       "      <td id=\"T_24e6f_row7_col0\" class=\"data row7 col0\" >0.000000</td>\n",
       "    </tr>\n",
       "    <tr>\n",
       "      <th id=\"T_24e6f_level0_row8\" class=\"row_heading level0 row8\" >end_date</th>\n",
       "      <td id=\"T_24e6f_row8_col0\" class=\"data row8 col0\" >0.000000</td>\n",
       "    </tr>\n",
       "    <tr>\n",
       "      <th id=\"T_24e6f_level0_row9\" class=\"row_heading level0 row9\" >gender</th>\n",
       "      <td id=\"T_24e6f_row9_col0\" class=\"data row9 col0\" >0.000000</td>\n",
       "    </tr>\n",
       "    <tr>\n",
       "      <th id=\"T_24e6f_level0_row10\" class=\"row_heading level0 row10\" >SeniorCitizen</th>\n",
       "      <td id=\"T_24e6f_row10_col0\" class=\"data row10 col0\" >0.000000</td>\n",
       "    </tr>\n",
       "    <tr>\n",
       "      <th id=\"T_24e6f_level0_row11\" class=\"row_heading level0 row11\" >Partner</th>\n",
       "      <td id=\"T_24e6f_row11_col0\" class=\"data row11 col0\" >0.000000</td>\n",
       "    </tr>\n",
       "    <tr>\n",
       "      <th id=\"T_24e6f_level0_row12\" class=\"row_heading level0 row12\" >Dependents</th>\n",
       "      <td id=\"T_24e6f_row12_col0\" class=\"data row12 col0\" >0.000000</td>\n",
       "    </tr>\n",
       "    <tr>\n",
       "      <th id=\"T_24e6f_level0_row13\" class=\"row_heading level0 row13\" >MultipleLines</th>\n",
       "      <td id=\"T_24e6f_row13_col0\" class=\"data row13 col0\" >10.000000</td>\n",
       "    </tr>\n",
       "    <tr>\n",
       "      <th id=\"T_24e6f_level0_row14\" class=\"row_heading level0 row14\" >InternetService</th>\n",
       "      <td id=\"T_24e6f_row14_col0\" class=\"data row14 col0\" >22.000000</td>\n",
       "    </tr>\n",
       "    <tr>\n",
       "      <th id=\"T_24e6f_level0_row15\" class=\"row_heading level0 row15\" >OnlineSecurity</th>\n",
       "      <td id=\"T_24e6f_row15_col0\" class=\"data row15 col0\" >22.000000</td>\n",
       "    </tr>\n",
       "    <tr>\n",
       "      <th id=\"T_24e6f_level0_row16\" class=\"row_heading level0 row16\" >OnlineBackup</th>\n",
       "      <td id=\"T_24e6f_row16_col0\" class=\"data row16 col0\" >22.000000</td>\n",
       "    </tr>\n",
       "    <tr>\n",
       "      <th id=\"T_24e6f_level0_row17\" class=\"row_heading level0 row17\" >DeviceProtection</th>\n",
       "      <td id=\"T_24e6f_row17_col0\" class=\"data row17 col0\" >22.000000</td>\n",
       "    </tr>\n",
       "    <tr>\n",
       "      <th id=\"T_24e6f_level0_row18\" class=\"row_heading level0 row18\" >TechSupport</th>\n",
       "      <td id=\"T_24e6f_row18_col0\" class=\"data row18 col0\" >22.000000</td>\n",
       "    </tr>\n",
       "    <tr>\n",
       "      <th id=\"T_24e6f_level0_row19\" class=\"row_heading level0 row19\" >StreamingTV</th>\n",
       "      <td id=\"T_24e6f_row19_col0\" class=\"data row19 col0\" >22.000000</td>\n",
       "    </tr>\n",
       "    <tr>\n",
       "      <th id=\"T_24e6f_level0_row20\" class=\"row_heading level0 row20\" >StreamingMovies</th>\n",
       "      <td id=\"T_24e6f_row20_col0\" class=\"data row20 col0\" >22.000000</td>\n",
       "    </tr>\n",
       "  </tbody>\n",
       "</table>\n"
      ],
      "text/plain": [
       "<pandas.io.formats.style.Styler at 0x12041fee0>"
      ]
     },
     "execution_count": 245,
     "metadata": {},
     "output_type": "execute_result"
    }
   ],
   "source": [
    "pd.DataFrame(round(df.isna().mean()*100,)).style.background_gradient('coolwarm')"
   ]
  },
  {
   "cell_type": "code",
   "execution_count": 246,
   "id": "aff78c6a",
   "metadata": {
    "scrolled": true
   },
   "outputs": [
    {
     "data": {
      "text/plain": [
       "Index(['TotalCharges', 'MultipleLines', 'InternetService', 'OnlineSecurity',\n",
       "       'OnlineBackup', 'DeviceProtection', 'TechSupport', 'StreamingTV',\n",
       "       'StreamingMovies'],\n",
       "      dtype='object')"
      ]
     },
     "execution_count": 246,
     "metadata": {},
     "output_type": "execute_result"
    }
   ],
   "source": [
    "df.columns[df.isnull().any()]"
   ]
  },
  {
   "cell_type": "markdown",
   "id": "36217a86",
   "metadata": {},
   "source": [
    "### *Вывод:* В колонке ```MultipleLines``` пропуски в данных занимают менее 10% объема наблюдений, их можно безопасно удалить, но лучше поставить заглушку ввиду небольшого объема данных. Пропуски в колонках ```InternetService```, ```OnlineSecurity```, ```OnlineBackup```, ```DeviceProtection```, ```TechSupport```, ```StreamingTV```, ```StreamingMovies``` необходимо заполнить."
   ]
  },
  {
   "cell_type": "markdown",
   "id": "5bb63306",
   "metadata": {},
   "source": [
    "<div class=\"alert alert-danger\">\n",
    "<b>Комментарий ревьюера: &#10060; </b> Здесь и далее: не стоит удалять данные, у нас их не так много. Пропуски в даных обозначают отсутствие услуги, у тебя есть значения 'No', лучше заполнить пропуски этой заглушкой</div>"
   ]
  },
  {
   "cell_type": "markdown",
   "id": "ef90d871",
   "metadata": {},
   "source": [
    "<div class=\"alert alert-info\"> <b>Юлия:</b>\n",
    "Поправила.\n",
    "</div>"
   ]
  },
  {
   "cell_type": "code",
   "execution_count": 247,
   "id": "72d436c4",
   "metadata": {},
   "outputs": [],
   "source": [
    "df_v1 = df.copy()"
   ]
  },
  {
   "cell_type": "code",
   "execution_count": 248,
   "id": "8e369814",
   "metadata": {},
   "outputs": [
    {
     "data": {
      "text/plain": [
       "array([nan, 'No', 'Yes'], dtype=object)"
      ]
     },
     "execution_count": 248,
     "metadata": {},
     "output_type": "execute_result"
    }
   ],
   "source": [
    "df_v1['MultipleLines'].unique()"
   ]
  },
  {
   "cell_type": "code",
   "execution_count": 249,
   "id": "fa9a2ec5",
   "metadata": {},
   "outputs": [
    {
     "data": {
      "text/plain": [
       "0.09683373562402385"
      ]
     },
     "execution_count": 249,
     "metadata": {},
     "output_type": "execute_result"
    }
   ],
   "source": [
    "df_v1['MultipleLines'].isna().sum() / len(df_v1)"
   ]
  },
  {
   "cell_type": "code",
   "execution_count": 250,
   "id": "90ffb8a1",
   "metadata": {
    "scrolled": true
   },
   "outputs": [
    {
     "data": {
      "text/plain": [
       "array(['DSL', 'Fiber optic', nan], dtype=object)"
      ]
     },
     "execution_count": 250,
     "metadata": {},
     "output_type": "execute_result"
    }
   ],
   "source": [
    "df_v1['InternetService'].unique()"
   ]
  },
  {
   "cell_type": "code",
   "execution_count": 251,
   "id": "2aa841ad",
   "metadata": {},
   "outputs": [
    {
     "data": {
      "text/plain": [
       "0.21666903308249325"
      ]
     },
     "execution_count": 251,
     "metadata": {},
     "output_type": "execute_result"
    }
   ],
   "source": [
    "df_v1['InternetService'].isna().sum() / len(df_v1)"
   ]
  },
  {
   "cell_type": "code",
   "execution_count": 252,
   "id": "9b75c4c9",
   "metadata": {},
   "outputs": [
    {
     "data": {
      "text/plain": [
       "array(['No', 'Yes', nan], dtype=object)"
      ]
     },
     "execution_count": 252,
     "metadata": {},
     "output_type": "execute_result"
    }
   ],
   "source": [
    "df_v1['OnlineSecurity'].unique()"
   ]
  },
  {
   "cell_type": "code",
   "execution_count": 253,
   "id": "b23b5078",
   "metadata": {
    "scrolled": true
   },
   "outputs": [
    {
     "data": {
      "text/plain": [
       "0.21666903308249325"
      ]
     },
     "execution_count": 253,
     "metadata": {},
     "output_type": "execute_result"
    }
   ],
   "source": [
    "df_v1['OnlineSecurity'].isna().sum() / len(df_v1)"
   ]
  },
  {
   "cell_type": "code",
   "execution_count": 254,
   "id": "a489f872",
   "metadata": {},
   "outputs": [
    {
     "data": {
      "text/plain": [
       "array(['Yes', 'No', nan], dtype=object)"
      ]
     },
     "execution_count": 254,
     "metadata": {},
     "output_type": "execute_result"
    }
   ],
   "source": [
    "df_v1['OnlineBackup'].unique()"
   ]
  },
  {
   "cell_type": "code",
   "execution_count": 255,
   "id": "8b6d6de4",
   "metadata": {},
   "outputs": [
    {
     "data": {
      "text/plain": [
       "0.21666903308249325"
      ]
     },
     "execution_count": 255,
     "metadata": {},
     "output_type": "execute_result"
    }
   ],
   "source": [
    "df_v1['OnlineBackup'].isna().sum() / len(df_v1)"
   ]
  },
  {
   "cell_type": "code",
   "execution_count": 256,
   "id": "0b1bebcc",
   "metadata": {},
   "outputs": [
    {
     "data": {
      "text/plain": [
       "array(['No', 'Yes', nan], dtype=object)"
      ]
     },
     "execution_count": 256,
     "metadata": {},
     "output_type": "execute_result"
    }
   ],
   "source": [
    "df_v1['DeviceProtection'].unique()"
   ]
  },
  {
   "cell_type": "code",
   "execution_count": 257,
   "id": "b3ba6c94",
   "metadata": {},
   "outputs": [
    {
     "data": {
      "text/plain": [
       "0.21666903308249325"
      ]
     },
     "execution_count": 257,
     "metadata": {},
     "output_type": "execute_result"
    }
   ],
   "source": [
    "df_v1['DeviceProtection'].isna().sum() / len(df_v1)"
   ]
  },
  {
   "cell_type": "code",
   "execution_count": 258,
   "id": "9ca71b11",
   "metadata": {},
   "outputs": [
    {
     "data": {
      "text/plain": [
       "array(['No', 'Yes', nan], dtype=object)"
      ]
     },
     "execution_count": 258,
     "metadata": {},
     "output_type": "execute_result"
    }
   ],
   "source": [
    "df_v1['TechSupport'].unique()"
   ]
  },
  {
   "cell_type": "code",
   "execution_count": 259,
   "id": "a55eb4e2",
   "metadata": {},
   "outputs": [
    {
     "data": {
      "text/plain": [
       "0.21666903308249325"
      ]
     },
     "execution_count": 259,
     "metadata": {},
     "output_type": "execute_result"
    }
   ],
   "source": [
    "df_v1['TechSupport'].isna().sum() / len(df_v1)"
   ]
  },
  {
   "cell_type": "code",
   "execution_count": 260,
   "id": "90c474cf",
   "metadata": {},
   "outputs": [
    {
     "data": {
      "text/plain": [
       "array(['No', 'Yes', nan], dtype=object)"
      ]
     },
     "execution_count": 260,
     "metadata": {},
     "output_type": "execute_result"
    }
   ],
   "source": [
    "df_v1['StreamingTV'].unique()"
   ]
  },
  {
   "cell_type": "code",
   "execution_count": 261,
   "id": "4e97b639",
   "metadata": {},
   "outputs": [
    {
     "data": {
      "text/plain": [
       "0.21666903308249325"
      ]
     },
     "execution_count": 261,
     "metadata": {},
     "output_type": "execute_result"
    }
   ],
   "source": [
    "df_v1['StreamingTV'].isna().sum() / len(df_v1)"
   ]
  },
  {
   "cell_type": "code",
   "execution_count": 262,
   "id": "1770086b",
   "metadata": {},
   "outputs": [
    {
     "data": {
      "text/plain": [
       "array(['No', 'Yes', nan], dtype=object)"
      ]
     },
     "execution_count": 262,
     "metadata": {},
     "output_type": "execute_result"
    }
   ],
   "source": [
    "df_v1['StreamingTV'].unique()"
   ]
  },
  {
   "cell_type": "code",
   "execution_count": 263,
   "id": "0fe33e65",
   "metadata": {},
   "outputs": [
    {
     "data": {
      "text/plain": [
       "0.21666903308249325"
      ]
     },
     "execution_count": 263,
     "metadata": {},
     "output_type": "execute_result"
    }
   ],
   "source": [
    "df_v1['StreamingTV'].isna().sum() / len(df_v1)"
   ]
  },
  {
   "cell_type": "code",
   "execution_count": 271,
   "id": "1e35e488",
   "metadata": {},
   "outputs": [
    {
     "data": {
      "text/plain": [
       "array([0, 1])"
      ]
     },
     "execution_count": 271,
     "metadata": {},
     "output_type": "execute_result"
    }
   ],
   "source": [
    "df_v1['SeniorCitizen'].unique()"
   ]
  },
  {
   "cell_type": "code",
   "execution_count": 264,
   "id": "a121cbc4",
   "metadata": {},
   "outputs": [
    {
     "data": {
      "text/plain": [
       "array(['No', 'Yes', nan], dtype=object)"
      ]
     },
     "execution_count": 264,
     "metadata": {},
     "output_type": "execute_result"
    }
   ],
   "source": [
    "df_v1['StreamingMovies'].unique()"
   ]
  },
  {
   "cell_type": "code",
   "execution_count": 265,
   "id": "be1dec24",
   "metadata": {},
   "outputs": [
    {
     "data": {
      "text/plain": [
       "0.21666903308249325"
      ]
     },
     "execution_count": 265,
     "metadata": {},
     "output_type": "execute_result"
    }
   ],
   "source": [
    "df_v1['StreamingMovies'].isna().sum() / len(df_v1)"
   ]
  },
  {
   "cell_type": "code",
   "execution_count": 266,
   "id": "cd8f076f",
   "metadata": {},
   "outputs": [],
   "source": [
    "# поставим заглушку 'No' на все пропуски в категориях\n",
    "df_filled = df_v1.fillna('No')"
   ]
  },
  {
   "cell_type": "code",
   "execution_count": 267,
   "id": "5bbc2bc8",
   "metadata": {},
   "outputs": [],
   "source": [
    "# # filling with most common class\n",
    "# df_filled = df_v1.apply(lambda x: x.fillna(x.value_counts().index[0]))"
   ]
  },
  {
   "cell_type": "code",
   "execution_count": 269,
   "id": "a896ab91",
   "metadata": {},
   "outputs": [],
   "source": [
    "df_filled['TotalCharges'] = np.floor(pd.to_numeric(df_filled['TotalCharges'], errors='coerce')).astype('float64')"
   ]
  },
  {
   "cell_type": "code",
   "execution_count": 270,
   "id": "5ce9f0c6",
   "metadata": {},
   "outputs": [
    {
     "name": "stdout",
     "output_type": "stream",
     "text": [
      "<class 'pandas.core.frame.DataFrame'>\n",
      "Int64Index: 7043 entries, 0 to 7042\n",
      "Data columns (total 21 columns):\n",
      " #   Column            Non-Null Count  Dtype  \n",
      "---  ------            --------------  -----  \n",
      " 0   customerID        7043 non-null   object \n",
      " 1   churned           7043 non-null   int64  \n",
      " 2   Type              7043 non-null   object \n",
      " 3   PaperlessBilling  7043 non-null   object \n",
      " 4   PaymentMethod     7043 non-null   object \n",
      " 5   MonthlyCharges    7043 non-null   float64\n",
      " 6   TotalCharges      7032 non-null   float64\n",
      " 7   begin_date        7043 non-null   object \n",
      " 8   end_date          7043 non-null   object \n",
      " 9   gender            7043 non-null   object \n",
      " 10  SeniorCitizen     7043 non-null   int64  \n",
      " 11  Partner           7043 non-null   object \n",
      " 12  Dependents        7043 non-null   object \n",
      " 13  MultipleLines     7043 non-null   object \n",
      " 14  InternetService   7043 non-null   object \n",
      " 15  OnlineSecurity    7043 non-null   object \n",
      " 16  OnlineBackup      7043 non-null   object \n",
      " 17  DeviceProtection  7043 non-null   object \n",
      " 18  TechSupport       7043 non-null   object \n",
      " 19  StreamingTV       7043 non-null   object \n",
      " 20  StreamingMovies   7043 non-null   object \n",
      "dtypes: float64(2), int64(2), object(17)\n",
      "memory usage: 1.2+ MB\n"
     ]
    }
   ],
   "source": [
    "df_filled.info()"
   ]
  },
  {
   "cell_type": "markdown",
   "id": "0abb4afa",
   "metadata": {},
   "source": [
    "<div class=\"alert alert-danger\">\n",
    "<b>Комментарий ревьюера: &#10060; </b>Пропуски в данных обозначают отсутствие услуги, у тебя есть значения 'No', лучше заполнить пропуски этой заглушкой</div>"
   ]
  },
  {
   "cell_type": "code",
   "execution_count": 272,
   "id": "37621032",
   "metadata": {
    "scrolled": true
   },
   "outputs": [
    {
     "data": {
      "text/html": [
       "<style type=\"text/css\">\n",
       "#T_e973e_row0_col0, #T_e973e_row1_col0, #T_e973e_row2_col0, #T_e973e_row3_col0, #T_e973e_row4_col0, #T_e973e_row5_col0, #T_e973e_row6_col0, #T_e973e_row7_col0, #T_e973e_row8_col0, #T_e973e_row9_col0, #T_e973e_row10_col0, #T_e973e_row11_col0, #T_e973e_row12_col0, #T_e973e_row13_col0, #T_e973e_row14_col0, #T_e973e_row15_col0, #T_e973e_row16_col0, #T_e973e_row17_col0, #T_e973e_row18_col0, #T_e973e_row19_col0, #T_e973e_row20_col0 {\n",
       "  background-color: #3b4cc0;\n",
       "  color: #f1f1f1;\n",
       "}\n",
       "</style>\n",
       "<table id=\"T_e973e\">\n",
       "  <thead>\n",
       "    <tr>\n",
       "      <th class=\"blank level0\" >&nbsp;</th>\n",
       "      <th id=\"T_e973e_level0_col0\" class=\"col_heading level0 col0\" >0</th>\n",
       "    </tr>\n",
       "  </thead>\n",
       "  <tbody>\n",
       "    <tr>\n",
       "      <th id=\"T_e973e_level0_row0\" class=\"row_heading level0 row0\" >customerID</th>\n",
       "      <td id=\"T_e973e_row0_col0\" class=\"data row0 col0\" >0.000000</td>\n",
       "    </tr>\n",
       "    <tr>\n",
       "      <th id=\"T_e973e_level0_row1\" class=\"row_heading level0 row1\" >churned</th>\n",
       "      <td id=\"T_e973e_row1_col0\" class=\"data row1 col0\" >0.000000</td>\n",
       "    </tr>\n",
       "    <tr>\n",
       "      <th id=\"T_e973e_level0_row2\" class=\"row_heading level0 row2\" >Type</th>\n",
       "      <td id=\"T_e973e_row2_col0\" class=\"data row2 col0\" >0.000000</td>\n",
       "    </tr>\n",
       "    <tr>\n",
       "      <th id=\"T_e973e_level0_row3\" class=\"row_heading level0 row3\" >PaperlessBilling</th>\n",
       "      <td id=\"T_e973e_row3_col0\" class=\"data row3 col0\" >0.000000</td>\n",
       "    </tr>\n",
       "    <tr>\n",
       "      <th id=\"T_e973e_level0_row4\" class=\"row_heading level0 row4\" >PaymentMethod</th>\n",
       "      <td id=\"T_e973e_row4_col0\" class=\"data row4 col0\" >0.000000</td>\n",
       "    </tr>\n",
       "    <tr>\n",
       "      <th id=\"T_e973e_level0_row5\" class=\"row_heading level0 row5\" >MonthlyCharges</th>\n",
       "      <td id=\"T_e973e_row5_col0\" class=\"data row5 col0\" >0.000000</td>\n",
       "    </tr>\n",
       "    <tr>\n",
       "      <th id=\"T_e973e_level0_row6\" class=\"row_heading level0 row6\" >TotalCharges</th>\n",
       "      <td id=\"T_e973e_row6_col0\" class=\"data row6 col0\" >0.000000</td>\n",
       "    </tr>\n",
       "    <tr>\n",
       "      <th id=\"T_e973e_level0_row7\" class=\"row_heading level0 row7\" >begin_date</th>\n",
       "      <td id=\"T_e973e_row7_col0\" class=\"data row7 col0\" >0.000000</td>\n",
       "    </tr>\n",
       "    <tr>\n",
       "      <th id=\"T_e973e_level0_row8\" class=\"row_heading level0 row8\" >end_date</th>\n",
       "      <td id=\"T_e973e_row8_col0\" class=\"data row8 col0\" >0.000000</td>\n",
       "    </tr>\n",
       "    <tr>\n",
       "      <th id=\"T_e973e_level0_row9\" class=\"row_heading level0 row9\" >gender</th>\n",
       "      <td id=\"T_e973e_row9_col0\" class=\"data row9 col0\" >0.000000</td>\n",
       "    </tr>\n",
       "    <tr>\n",
       "      <th id=\"T_e973e_level0_row10\" class=\"row_heading level0 row10\" >SeniorCitizen</th>\n",
       "      <td id=\"T_e973e_row10_col0\" class=\"data row10 col0\" >0.000000</td>\n",
       "    </tr>\n",
       "    <tr>\n",
       "      <th id=\"T_e973e_level0_row11\" class=\"row_heading level0 row11\" >Partner</th>\n",
       "      <td id=\"T_e973e_row11_col0\" class=\"data row11 col0\" >0.000000</td>\n",
       "    </tr>\n",
       "    <tr>\n",
       "      <th id=\"T_e973e_level0_row12\" class=\"row_heading level0 row12\" >Dependents</th>\n",
       "      <td id=\"T_e973e_row12_col0\" class=\"data row12 col0\" >0.000000</td>\n",
       "    </tr>\n",
       "    <tr>\n",
       "      <th id=\"T_e973e_level0_row13\" class=\"row_heading level0 row13\" >MultipleLines</th>\n",
       "      <td id=\"T_e973e_row13_col0\" class=\"data row13 col0\" >0.000000</td>\n",
       "    </tr>\n",
       "    <tr>\n",
       "      <th id=\"T_e973e_level0_row14\" class=\"row_heading level0 row14\" >InternetService</th>\n",
       "      <td id=\"T_e973e_row14_col0\" class=\"data row14 col0\" >0.000000</td>\n",
       "    </tr>\n",
       "    <tr>\n",
       "      <th id=\"T_e973e_level0_row15\" class=\"row_heading level0 row15\" >OnlineSecurity</th>\n",
       "      <td id=\"T_e973e_row15_col0\" class=\"data row15 col0\" >0.000000</td>\n",
       "    </tr>\n",
       "    <tr>\n",
       "      <th id=\"T_e973e_level0_row16\" class=\"row_heading level0 row16\" >OnlineBackup</th>\n",
       "      <td id=\"T_e973e_row16_col0\" class=\"data row16 col0\" >0.000000</td>\n",
       "    </tr>\n",
       "    <tr>\n",
       "      <th id=\"T_e973e_level0_row17\" class=\"row_heading level0 row17\" >DeviceProtection</th>\n",
       "      <td id=\"T_e973e_row17_col0\" class=\"data row17 col0\" >0.000000</td>\n",
       "    </tr>\n",
       "    <tr>\n",
       "      <th id=\"T_e973e_level0_row18\" class=\"row_heading level0 row18\" >TechSupport</th>\n",
       "      <td id=\"T_e973e_row18_col0\" class=\"data row18 col0\" >0.000000</td>\n",
       "    </tr>\n",
       "    <tr>\n",
       "      <th id=\"T_e973e_level0_row19\" class=\"row_heading level0 row19\" >StreamingTV</th>\n",
       "      <td id=\"T_e973e_row19_col0\" class=\"data row19 col0\" >0.000000</td>\n",
       "    </tr>\n",
       "    <tr>\n",
       "      <th id=\"T_e973e_level0_row20\" class=\"row_heading level0 row20\" >StreamingMovies</th>\n",
       "      <td id=\"T_e973e_row20_col0\" class=\"data row20 col0\" >0.000000</td>\n",
       "    </tr>\n",
       "  </tbody>\n",
       "</table>\n"
      ],
      "text/plain": [
       "<pandas.io.formats.style.Styler at 0x11bfec310>"
      ]
     },
     "execution_count": 272,
     "metadata": {},
     "output_type": "execute_result"
    }
   ],
   "source": [
    "pd.DataFrame(round(df_filled.isna().mean()*100,)).style.background_gradient('coolwarm')"
   ]
  },
  {
   "cell_type": "markdown",
   "id": "0198bcbd",
   "metadata": {},
   "source": [
    "### 2.3 Проверка данных на явные дубликаты"
   ]
  },
  {
   "cell_type": "code",
   "execution_count": 273,
   "id": "3dd7680b",
   "metadata": {},
   "outputs": [
    {
     "data": {
      "text/plain": [
       "0"
      ]
     },
     "execution_count": 273,
     "metadata": {},
     "output_type": "execute_result"
    }
   ],
   "source": [
    "df_filled.duplicated().sum()"
   ]
  },
  {
   "cell_type": "markdown",
   "id": "b557a5b5",
   "metadata": {},
   "source": [
    "### 2.4 Финальная проверка признаков на дисбаланс и аномалии различного рода"
   ]
  },
  {
   "cell_type": "markdown",
   "id": "a85d3ddf",
   "metadata": {},
   "source": [
    "<div class=\"alert alert-warning\">\n",
    "<b>Комментарий ревьюера:\n",
    "&#9888;</b> Ок, но на дисбаланс классов проверять необходимо целевую переменную в обучающем наборе\n",
    "</div>"
   ]
  },
  {
   "cell_type": "code",
   "execution_count": 274,
   "id": "573264f7",
   "metadata": {},
   "outputs": [
    {
     "data": {
      "text/plain": [
       "Index(['customerID', 'churned', 'Type', 'PaperlessBilling', 'PaymentMethod',\n",
       "       'MonthlyCharges', 'TotalCharges', 'begin_date', 'end_date', 'gender',\n",
       "       'SeniorCitizen', 'Partner', 'Dependents', 'MultipleLines',\n",
       "       'InternetService', 'OnlineSecurity', 'OnlineBackup', 'DeviceProtection',\n",
       "       'TechSupport', 'StreamingTV', 'StreamingMovies'],\n",
       "      dtype='object')"
      ]
     },
     "execution_count": 274,
     "metadata": {},
     "output_type": "execute_result"
    }
   ],
   "source": [
    "df_filled.columns"
   ]
  },
  {
   "cell_type": "code",
   "execution_count": 275,
   "id": "5bba582d",
   "metadata": {},
   "outputs": [
    {
     "data": {
      "text/plain": [
       "array(['Month-to-month', 'One year', 'Two year'], dtype=object)"
      ]
     },
     "execution_count": 275,
     "metadata": {},
     "output_type": "execute_result"
    }
   ],
   "source": [
    "df_filled['Type'].unique()"
   ]
  },
  {
   "cell_type": "code",
   "execution_count": 276,
   "id": "5e63d052",
   "metadata": {},
   "outputs": [
    {
     "data": {
      "text/plain": [
       "Month-to-month    3875\n",
       "Two year          1695\n",
       "One year          1473\n",
       "Name: Type, dtype: int64"
      ]
     },
     "execution_count": 276,
     "metadata": {},
     "output_type": "execute_result"
    }
   ],
   "source": [
    "# проверка на дисбаланс\n",
    "df_filled['Type'].value_counts()"
   ]
  },
  {
   "cell_type": "code",
   "execution_count": 277,
   "id": "8d397579",
   "metadata": {
    "scrolled": true
   },
   "outputs": [
    {
     "data": {
      "text/plain": [
       "array(['Yes', 'No'], dtype=object)"
      ]
     },
     "execution_count": 277,
     "metadata": {},
     "output_type": "execute_result"
    }
   ],
   "source": [
    "df_filled['PaperlessBilling'].unique()"
   ]
  },
  {
   "cell_type": "code",
   "execution_count": 278,
   "id": "c3951d4b",
   "metadata": {},
   "outputs": [
    {
     "data": {
      "text/plain": [
       "Yes    4171\n",
       "No     2872\n",
       "Name: PaperlessBilling, dtype: int64"
      ]
     },
     "execution_count": 278,
     "metadata": {},
     "output_type": "execute_result"
    }
   ],
   "source": [
    "# проверка на дисбаланс\n",
    "df_filled['PaperlessBilling'].value_counts()"
   ]
  },
  {
   "cell_type": "code",
   "execution_count": 279,
   "id": "2f542253",
   "metadata": {},
   "outputs": [
    {
     "data": {
      "text/plain": [
       "array(['Electronic check', 'Mailed check', 'Bank transfer (automatic)',\n",
       "       'Credit card (automatic)'], dtype=object)"
      ]
     },
     "execution_count": 279,
     "metadata": {},
     "output_type": "execute_result"
    }
   ],
   "source": [
    "df_filled['PaymentMethod'].unique()"
   ]
  },
  {
   "cell_type": "code",
   "execution_count": 280,
   "id": "8ec05eba",
   "metadata": {},
   "outputs": [
    {
     "data": {
      "text/plain": [
       "Electronic check             2365\n",
       "Mailed check                 1612\n",
       "Bank transfer (automatic)    1544\n",
       "Credit card (automatic)      1522\n",
       "Name: PaymentMethod, dtype: int64"
      ]
     },
     "execution_count": 280,
     "metadata": {},
     "output_type": "execute_result"
    }
   ],
   "source": [
    "# проверка на дисбаланс\n",
    "df_filled['PaymentMethod'].value_counts()"
   ]
  },
  {
   "cell_type": "code",
   "execution_count": 281,
   "id": "3eb25aca",
   "metadata": {},
   "outputs": [
    {
     "data": {
      "text/plain": [
       "array([29.85, 56.95, 53.85, ..., 63.1 , 44.2 , 78.7 ])"
      ]
     },
     "execution_count": 281,
     "metadata": {},
     "output_type": "execute_result"
    }
   ],
   "source": [
    "df_filled['MonthlyCharges'].unique()"
   ]
  },
  {
   "cell_type": "code",
   "execution_count": 282,
   "id": "63896d24",
   "metadata": {},
   "outputs": [
    {
     "data": {
      "text/plain": [
       "count    7043.000000\n",
       "mean       64.761692\n",
       "std        30.090047\n",
       "min        18.250000\n",
       "25%        35.500000\n",
       "50%        70.350000\n",
       "75%        89.850000\n",
       "max       118.750000\n",
       "Name: MonthlyCharges, dtype: float64"
      ]
     },
     "execution_count": 282,
     "metadata": {},
     "output_type": "execute_result"
    }
   ],
   "source": [
    "# проверка описательных статистик\n",
    "df_filled['MonthlyCharges'].describe()"
   ]
  },
  {
   "cell_type": "code",
   "execution_count": 283,
   "id": "f340757e",
   "metadata": {
    "scrolled": true
   },
   "outputs": [
    {
     "data": {
      "text/plain": [
       "array([  29., 1889.,  108., ..., 1990., 7362., 6844.])"
      ]
     },
     "execution_count": 283,
     "metadata": {},
     "output_type": "execute_result"
    }
   ],
   "source": [
    "df_filled['TotalCharges'].unique()"
   ]
  },
  {
   "cell_type": "code",
   "execution_count": 284,
   "id": "5bef17f5",
   "metadata": {},
   "outputs": [
    {
     "data": {
      "text/plain": [
       "count    7032.000000\n",
       "mean     2282.830489\n",
       "std      2266.768490\n",
       "min        18.000000\n",
       "25%       401.000000\n",
       "50%      1397.000000\n",
       "75%      3794.250000\n",
       "max      8684.000000\n",
       "Name: TotalCharges, dtype: float64"
      ]
     },
     "execution_count": 284,
     "metadata": {},
     "output_type": "execute_result"
    }
   ],
   "source": [
    "# проверка на дисбаланс\n",
    "df_filled['TotalCharges'].describe()"
   ]
  },
  {
   "cell_type": "code",
   "execution_count": 285,
   "id": "09c93529",
   "metadata": {},
   "outputs": [
    {
     "data": {
      "text/plain": [
       "array(['Female', 'Male'], dtype=object)"
      ]
     },
     "execution_count": 285,
     "metadata": {},
     "output_type": "execute_result"
    }
   ],
   "source": [
    "df_filled['gender'].unique()"
   ]
  },
  {
   "cell_type": "code",
   "execution_count": 286,
   "id": "b4b541b3",
   "metadata": {},
   "outputs": [
    {
     "data": {
      "text/plain": [
       "Male      3555\n",
       "Female    3488\n",
       "Name: gender, dtype: int64"
      ]
     },
     "execution_count": 286,
     "metadata": {},
     "output_type": "execute_result"
    }
   ],
   "source": [
    "# проверка на дисбаланс\n",
    "df_filled['gender'].value_counts()"
   ]
  },
  {
   "cell_type": "code",
   "execution_count": 287,
   "id": "fe6c4799",
   "metadata": {
    "scrolled": true
   },
   "outputs": [
    {
     "data": {
      "text/plain": [
       "array([0, 1])"
      ]
     },
     "execution_count": 287,
     "metadata": {},
     "output_type": "execute_result"
    }
   ],
   "source": [
    "df_filled['SeniorCitizen'].unique()"
   ]
  },
  {
   "cell_type": "code",
   "execution_count": 288,
   "id": "3f871100",
   "metadata": {},
   "outputs": [
    {
     "data": {
      "text/plain": [
       "0    5901\n",
       "1    1142\n",
       "Name: SeniorCitizen, dtype: int64"
      ]
     },
     "execution_count": 288,
     "metadata": {},
     "output_type": "execute_result"
    }
   ],
   "source": [
    "# проверка на дисбаланс\n",
    "df_filled['SeniorCitizen'].value_counts() # признак несбалансирован"
   ]
  },
  {
   "cell_type": "code",
   "execution_count": 289,
   "id": "cc8b855e",
   "metadata": {
    "scrolled": true
   },
   "outputs": [
    {
     "data": {
      "text/plain": [
       "array(['Yes', 'No'], dtype=object)"
      ]
     },
     "execution_count": 289,
     "metadata": {},
     "output_type": "execute_result"
    }
   ],
   "source": [
    "df_filled['Partner'].unique()"
   ]
  },
  {
   "cell_type": "code",
   "execution_count": 290,
   "id": "03756dff",
   "metadata": {},
   "outputs": [
    {
     "data": {
      "text/plain": [
       "No     3641\n",
       "Yes    3402\n",
       "Name: Partner, dtype: int64"
      ]
     },
     "execution_count": 290,
     "metadata": {},
     "output_type": "execute_result"
    }
   ],
   "source": [
    "# проверка на дисбаланс\n",
    "df_filled['Partner'].value_counts()"
   ]
  },
  {
   "cell_type": "code",
   "execution_count": 291,
   "id": "ccb4146b",
   "metadata": {
    "scrolled": true
   },
   "outputs": [
    {
     "data": {
      "text/plain": [
       "array(['No', 'Yes'], dtype=object)"
      ]
     },
     "execution_count": 291,
     "metadata": {},
     "output_type": "execute_result"
    }
   ],
   "source": [
    "df_filled['MultipleLines'].unique()"
   ]
  },
  {
   "cell_type": "code",
   "execution_count": 292,
   "id": "b1f2b52b",
   "metadata": {},
   "outputs": [
    {
     "data": {
      "text/plain": [
       "No     4072\n",
       "Yes    2971\n",
       "Name: MultipleLines, dtype: int64"
      ]
     },
     "execution_count": 292,
     "metadata": {},
     "output_type": "execute_result"
    }
   ],
   "source": [
    "# проверка на дисбаланс\n",
    "df_filled['MultipleLines'].value_counts()"
   ]
  },
  {
   "cell_type": "code",
   "execution_count": 293,
   "id": "0148d65a",
   "metadata": {
    "scrolled": true
   },
   "outputs": [
    {
     "data": {
      "text/plain": [
       "array(['No', 'Yes'], dtype=object)"
      ]
     },
     "execution_count": 293,
     "metadata": {},
     "output_type": "execute_result"
    }
   ],
   "source": [
    "df_filled['Dependents'].unique()"
   ]
  },
  {
   "cell_type": "code",
   "execution_count": 294,
   "id": "a561f2b9",
   "metadata": {},
   "outputs": [
    {
     "data": {
      "text/plain": [
       "No     4933\n",
       "Yes    2110\n",
       "Name: Dependents, dtype: int64"
      ]
     },
     "execution_count": 294,
     "metadata": {},
     "output_type": "execute_result"
    }
   ],
   "source": [
    "# проверка на дисбаланс\n",
    "df_filled['Dependents'].value_counts() # признак несбалансирован"
   ]
  },
  {
   "cell_type": "code",
   "execution_count": 295,
   "id": "55b566ef",
   "metadata": {},
   "outputs": [
    {
     "data": {
      "text/plain": [
       "array(['DSL', 'Fiber optic', 'No'], dtype=object)"
      ]
     },
     "execution_count": 295,
     "metadata": {},
     "output_type": "execute_result"
    }
   ],
   "source": [
    "df_filled['InternetService'].unique()"
   ]
  },
  {
   "cell_type": "code",
   "execution_count": 296,
   "id": "e20f2395",
   "metadata": {},
   "outputs": [
    {
     "data": {
      "text/plain": [
       "Fiber optic    3096\n",
       "DSL            2421\n",
       "No             1526\n",
       "Name: InternetService, dtype: int64"
      ]
     },
     "execution_count": 296,
     "metadata": {},
     "output_type": "execute_result"
    }
   ],
   "source": [
    "# проверка на дисбаланс\n",
    "df_filled['InternetService'].value_counts() # признак несбалансирован"
   ]
  },
  {
   "cell_type": "code",
   "execution_count": 297,
   "id": "e611face",
   "metadata": {
    "scrolled": true
   },
   "outputs": [
    {
     "data": {
      "text/plain": [
       "array(['No', 'Yes'], dtype=object)"
      ]
     },
     "execution_count": 297,
     "metadata": {},
     "output_type": "execute_result"
    }
   ],
   "source": [
    "df_filled['OnlineSecurity'].unique()"
   ]
  },
  {
   "cell_type": "code",
   "execution_count": 298,
   "id": "795d78ea",
   "metadata": {},
   "outputs": [
    {
     "data": {
      "text/plain": [
       "No     5024\n",
       "Yes    2019\n",
       "Name: OnlineSecurity, dtype: int64"
      ]
     },
     "execution_count": 298,
     "metadata": {},
     "output_type": "execute_result"
    }
   ],
   "source": [
    "# проверка на дисбаланс\n",
    "df_filled['OnlineSecurity'].value_counts() # признак несбалансирован"
   ]
  },
  {
   "cell_type": "code",
   "execution_count": 299,
   "id": "4a899cc0",
   "metadata": {
    "scrolled": true
   },
   "outputs": [
    {
     "data": {
      "text/plain": [
       "array(['Yes', 'No'], dtype=object)"
      ]
     },
     "execution_count": 299,
     "metadata": {},
     "output_type": "execute_result"
    }
   ],
   "source": [
    "df_filled['OnlineBackup'].unique()"
   ]
  },
  {
   "cell_type": "code",
   "execution_count": 300,
   "id": "790447ee",
   "metadata": {},
   "outputs": [
    {
     "data": {
      "text/plain": [
       "No     4614\n",
       "Yes    2429\n",
       "Name: OnlineBackup, dtype: int64"
      ]
     },
     "execution_count": 300,
     "metadata": {},
     "output_type": "execute_result"
    }
   ],
   "source": [
    "# проверка на дисбаланс\n",
    "df_filled['OnlineBackup'].value_counts()"
   ]
  },
  {
   "cell_type": "code",
   "execution_count": 301,
   "id": "bbb3d36a",
   "metadata": {},
   "outputs": [
    {
     "data": {
      "text/plain": [
       "array(['No', 'Yes'], dtype=object)"
      ]
     },
     "execution_count": 301,
     "metadata": {},
     "output_type": "execute_result"
    }
   ],
   "source": [
    "df_filled['DeviceProtection'].unique()"
   ]
  },
  {
   "cell_type": "code",
   "execution_count": 302,
   "id": "9d45d74b",
   "metadata": {},
   "outputs": [
    {
     "data": {
      "text/plain": [
       "No     4621\n",
       "Yes    2422\n",
       "Name: DeviceProtection, dtype: int64"
      ]
     },
     "execution_count": 302,
     "metadata": {},
     "output_type": "execute_result"
    }
   ],
   "source": [
    "# проверка на дисбаланс\n",
    "df_filled['DeviceProtection'].value_counts()"
   ]
  },
  {
   "cell_type": "code",
   "execution_count": 303,
   "id": "f26fa209",
   "metadata": {},
   "outputs": [
    {
     "data": {
      "text/plain": [
       "array(['No', 'Yes'], dtype=object)"
      ]
     },
     "execution_count": 303,
     "metadata": {},
     "output_type": "execute_result"
    }
   ],
   "source": [
    "df_filled['TechSupport'].unique()"
   ]
  },
  {
   "cell_type": "code",
   "execution_count": 304,
   "id": "afa648ca",
   "metadata": {},
   "outputs": [
    {
     "data": {
      "text/plain": [
       "No     4999\n",
       "Yes    2044\n",
       "Name: TechSupport, dtype: int64"
      ]
     },
     "execution_count": 304,
     "metadata": {},
     "output_type": "execute_result"
    }
   ],
   "source": [
    "# проверка на дисбаланс\n",
    "df_filled['TechSupport'].value_counts() # признак несбалансирован"
   ]
  },
  {
   "cell_type": "code",
   "execution_count": 305,
   "id": "3efa010c",
   "metadata": {},
   "outputs": [
    {
     "data": {
      "text/plain": [
       "array(['No', 'Yes'], dtype=object)"
      ]
     },
     "execution_count": 305,
     "metadata": {},
     "output_type": "execute_result"
    }
   ],
   "source": [
    "df_filled['StreamingTV'].unique()"
   ]
  },
  {
   "cell_type": "code",
   "execution_count": 306,
   "id": "9894e32b",
   "metadata": {},
   "outputs": [
    {
     "data": {
      "text/plain": [
       "No     4336\n",
       "Yes    2707\n",
       "Name: StreamingTV, dtype: int64"
      ]
     },
     "execution_count": 306,
     "metadata": {},
     "output_type": "execute_result"
    }
   ],
   "source": [
    "# проверка на дисбаланс\n",
    "df_filled['StreamingTV'].value_counts()"
   ]
  },
  {
   "cell_type": "code",
   "execution_count": 307,
   "id": "5c59ad5a",
   "metadata": {},
   "outputs": [
    {
     "data": {
      "text/plain": [
       "array(['No', 'Yes'], dtype=object)"
      ]
     },
     "execution_count": 307,
     "metadata": {},
     "output_type": "execute_result"
    }
   ],
   "source": [
    "df_filled['StreamingMovies'].unique()"
   ]
  },
  {
   "cell_type": "code",
   "execution_count": 308,
   "id": "99e6f567",
   "metadata": {},
   "outputs": [
    {
     "data": {
      "text/plain": [
       "No     4311\n",
       "Yes    2732\n",
       "Name: StreamingMovies, dtype: int64"
      ]
     },
     "execution_count": 308,
     "metadata": {},
     "output_type": "execute_result"
    }
   ],
   "source": [
    "# проверка на дисбаланс\n",
    "df_filled['StreamingMovies'].value_counts() # признак несбалансирован"
   ]
  },
  {
   "cell_type": "code",
   "execution_count": 309,
   "id": "1204dfde",
   "metadata": {
    "scrolled": true
   },
   "outputs": [
    {
     "name": "stdout",
     "output_type": "stream",
     "text": [
      "<class 'pandas.core.frame.DataFrame'>\n",
      "Int64Index: 7043 entries, 0 to 7042\n",
      "Data columns (total 21 columns):\n",
      " #   Column            Non-Null Count  Dtype  \n",
      "---  ------            --------------  -----  \n",
      " 0   customerID        7043 non-null   object \n",
      " 1   churned           7043 non-null   int64  \n",
      " 2   Type              7043 non-null   object \n",
      " 3   PaperlessBilling  7043 non-null   object \n",
      " 4   PaymentMethod     7043 non-null   object \n",
      " 5   MonthlyCharges    7043 non-null   float64\n",
      " 6   TotalCharges      7032 non-null   float64\n",
      " 7   begin_date        7043 non-null   object \n",
      " 8   end_date          7043 non-null   object \n",
      " 9   gender            7043 non-null   object \n",
      " 10  SeniorCitizen     7043 non-null   int64  \n",
      " 11  Partner           7043 non-null   object \n",
      " 12  Dependents        7043 non-null   object \n",
      " 13  MultipleLines     7043 non-null   object \n",
      " 14  InternetService   7043 non-null   object \n",
      " 15  OnlineSecurity    7043 non-null   object \n",
      " 16  OnlineBackup      7043 non-null   object \n",
      " 17  DeviceProtection  7043 non-null   object \n",
      " 18  TechSupport       7043 non-null   object \n",
      " 19  StreamingTV       7043 non-null   object \n",
      " 20  StreamingMovies   7043 non-null   object \n",
      "dtypes: float64(2), int64(2), object(17)\n",
      "memory usage: 1.2+ MB\n"
     ]
    }
   ],
   "source": [
    "df_filled.info()"
   ]
  },
  {
   "cell_type": "code",
   "execution_count": 310,
   "id": "a1e3bbe2",
   "metadata": {},
   "outputs": [
    {
     "data": {
      "text/plain": [
       "(7043, 21)"
      ]
     },
     "execution_count": 310,
     "metadata": {},
     "output_type": "execute_result"
    }
   ],
   "source": [
    "df_filled.shape"
   ]
  },
  {
   "cell_type": "markdown",
   "id": "852099dd",
   "metadata": {},
   "source": [
    "### *Вывод:* Данные чистые, дубликатов нет, аномалии не обнаружены. Финальный датасет после удаления признаков становится небольшим, что может негативно сказаться на качестве обучения модели. Это нужно учесть в дальнейшей работе. Большая часть признаков - категориальные, бинарные переменные, которые необходимо закодировать."
   ]
  },
  {
   "cell_type": "code",
   "execution_count": 311,
   "id": "627e7c4b",
   "metadata": {},
   "outputs": [
    {
     "data": {
      "text/html": [
       "<div>\n",
       "<style scoped>\n",
       "    .dataframe tbody tr th:only-of-type {\n",
       "        vertical-align: middle;\n",
       "    }\n",
       "\n",
       "    .dataframe tbody tr th {\n",
       "        vertical-align: top;\n",
       "    }\n",
       "\n",
       "    .dataframe thead th {\n",
       "        text-align: right;\n",
       "    }\n",
       "</style>\n",
       "<table border=\"1\" class=\"dataframe\">\n",
       "  <thead>\n",
       "    <tr style=\"text-align: right;\">\n",
       "      <th></th>\n",
       "      <th>customerID</th>\n",
       "      <th>churned</th>\n",
       "      <th>Type</th>\n",
       "      <th>PaperlessBilling</th>\n",
       "      <th>PaymentMethod</th>\n",
       "      <th>MonthlyCharges</th>\n",
       "      <th>TotalCharges</th>\n",
       "      <th>begin_date</th>\n",
       "      <th>end_date</th>\n",
       "      <th>gender</th>\n",
       "      <th>...</th>\n",
       "      <th>Partner</th>\n",
       "      <th>Dependents</th>\n",
       "      <th>MultipleLines</th>\n",
       "      <th>InternetService</th>\n",
       "      <th>OnlineSecurity</th>\n",
       "      <th>OnlineBackup</th>\n",
       "      <th>DeviceProtection</th>\n",
       "      <th>TechSupport</th>\n",
       "      <th>StreamingTV</th>\n",
       "      <th>StreamingMovies</th>\n",
       "    </tr>\n",
       "  </thead>\n",
       "  <tbody>\n",
       "    <tr>\n",
       "      <th>0</th>\n",
       "      <td>7590-VHVEG</td>\n",
       "      <td>1</td>\n",
       "      <td>Month-to-month</td>\n",
       "      <td>Yes</td>\n",
       "      <td>Electronic check</td>\n",
       "      <td>29.85</td>\n",
       "      <td>29.0</td>\n",
       "      <td>2020-01-01</td>\n",
       "      <td>2020-02-01</td>\n",
       "      <td>Female</td>\n",
       "      <td>...</td>\n",
       "      <td>Yes</td>\n",
       "      <td>No</td>\n",
       "      <td>No</td>\n",
       "      <td>DSL</td>\n",
       "      <td>No</td>\n",
       "      <td>Yes</td>\n",
       "      <td>No</td>\n",
       "      <td>No</td>\n",
       "      <td>No</td>\n",
       "      <td>No</td>\n",
       "    </tr>\n",
       "    <tr>\n",
       "      <th>1</th>\n",
       "      <td>5575-GNVDE</td>\n",
       "      <td>1</td>\n",
       "      <td>One year</td>\n",
       "      <td>No</td>\n",
       "      <td>Mailed check</td>\n",
       "      <td>56.95</td>\n",
       "      <td>1889.0</td>\n",
       "      <td>2017-04-01</td>\n",
       "      <td>2020-02-01</td>\n",
       "      <td>Male</td>\n",
       "      <td>...</td>\n",
       "      <td>No</td>\n",
       "      <td>No</td>\n",
       "      <td>No</td>\n",
       "      <td>DSL</td>\n",
       "      <td>Yes</td>\n",
       "      <td>No</td>\n",
       "      <td>Yes</td>\n",
       "      <td>No</td>\n",
       "      <td>No</td>\n",
       "      <td>No</td>\n",
       "    </tr>\n",
       "    <tr>\n",
       "      <th>2</th>\n",
       "      <td>3668-QPYBK</td>\n",
       "      <td>0</td>\n",
       "      <td>Month-to-month</td>\n",
       "      <td>Yes</td>\n",
       "      <td>Mailed check</td>\n",
       "      <td>53.85</td>\n",
       "      <td>108.0</td>\n",
       "      <td>2019-10-01</td>\n",
       "      <td>2019-12-01</td>\n",
       "      <td>Male</td>\n",
       "      <td>...</td>\n",
       "      <td>No</td>\n",
       "      <td>No</td>\n",
       "      <td>No</td>\n",
       "      <td>DSL</td>\n",
       "      <td>Yes</td>\n",
       "      <td>Yes</td>\n",
       "      <td>No</td>\n",
       "      <td>No</td>\n",
       "      <td>No</td>\n",
       "      <td>No</td>\n",
       "    </tr>\n",
       "    <tr>\n",
       "      <th>3</th>\n",
       "      <td>7795-CFOCW</td>\n",
       "      <td>1</td>\n",
       "      <td>One year</td>\n",
       "      <td>No</td>\n",
       "      <td>Bank transfer (automatic)</td>\n",
       "      <td>42.30</td>\n",
       "      <td>1840.0</td>\n",
       "      <td>2016-05-01</td>\n",
       "      <td>2020-02-01</td>\n",
       "      <td>Male</td>\n",
       "      <td>...</td>\n",
       "      <td>No</td>\n",
       "      <td>No</td>\n",
       "      <td>No</td>\n",
       "      <td>DSL</td>\n",
       "      <td>Yes</td>\n",
       "      <td>No</td>\n",
       "      <td>Yes</td>\n",
       "      <td>Yes</td>\n",
       "      <td>No</td>\n",
       "      <td>No</td>\n",
       "    </tr>\n",
       "    <tr>\n",
       "      <th>4</th>\n",
       "      <td>9237-HQITU</td>\n",
       "      <td>0</td>\n",
       "      <td>Month-to-month</td>\n",
       "      <td>Yes</td>\n",
       "      <td>Electronic check</td>\n",
       "      <td>70.70</td>\n",
       "      <td>151.0</td>\n",
       "      <td>2019-09-01</td>\n",
       "      <td>2019-11-01</td>\n",
       "      <td>Female</td>\n",
       "      <td>...</td>\n",
       "      <td>No</td>\n",
       "      <td>No</td>\n",
       "      <td>No</td>\n",
       "      <td>Fiber optic</td>\n",
       "      <td>No</td>\n",
       "      <td>No</td>\n",
       "      <td>No</td>\n",
       "      <td>No</td>\n",
       "      <td>No</td>\n",
       "      <td>No</td>\n",
       "    </tr>\n",
       "  </tbody>\n",
       "</table>\n",
       "<p>5 rows × 21 columns</p>\n",
       "</div>"
      ],
      "text/plain": [
       "   customerID  churned            Type PaperlessBilling  \\\n",
       "0  7590-VHVEG        1  Month-to-month              Yes   \n",
       "1  5575-GNVDE        1        One year               No   \n",
       "2  3668-QPYBK        0  Month-to-month              Yes   \n",
       "3  7795-CFOCW        1        One year               No   \n",
       "4  9237-HQITU        0  Month-to-month              Yes   \n",
       "\n",
       "               PaymentMethod  MonthlyCharges  TotalCharges  begin_date  \\\n",
       "0           Electronic check           29.85          29.0  2020-01-01   \n",
       "1               Mailed check           56.95        1889.0  2017-04-01   \n",
       "2               Mailed check           53.85         108.0  2019-10-01   \n",
       "3  Bank transfer (automatic)           42.30        1840.0  2016-05-01   \n",
       "4           Electronic check           70.70         151.0  2019-09-01   \n",
       "\n",
       "     end_date  gender  ...  Partner Dependents MultipleLines InternetService  \\\n",
       "0  2020-02-01  Female  ...      Yes         No            No             DSL   \n",
       "1  2020-02-01    Male  ...       No         No            No             DSL   \n",
       "2  2019-12-01    Male  ...       No         No            No             DSL   \n",
       "3  2020-02-01    Male  ...       No         No            No             DSL   \n",
       "4  2019-11-01  Female  ...       No         No            No     Fiber optic   \n",
       "\n",
       "  OnlineSecurity OnlineBackup DeviceProtection TechSupport StreamingTV  \\\n",
       "0             No          Yes               No          No          No   \n",
       "1            Yes           No              Yes          No          No   \n",
       "2            Yes          Yes               No          No          No   \n",
       "3            Yes           No              Yes         Yes          No   \n",
       "4             No           No               No          No          No   \n",
       "\n",
       "  StreamingMovies  \n",
       "0              No  \n",
       "1              No  \n",
       "2              No  \n",
       "3              No  \n",
       "4              No  \n",
       "\n",
       "[5 rows x 21 columns]"
      ]
     },
     "execution_count": 311,
     "metadata": {},
     "output_type": "execute_result"
    }
   ],
   "source": [
    "df_filled.head(5)"
   ]
  },
  {
   "cell_type": "markdown",
   "id": "09aea24f",
   "metadata": {},
   "source": [
    "### 2.5 Проверка признаков на мультиколлинеарность"
   ]
  },
  {
   "cell_type": "markdown",
   "id": "70f20881",
   "metadata": {
    "scrolled": true
   },
   "source": [
    "#### 2.5.1 Проверка числовых признаков на мультиколлинеарность коррелляцией Пирсона"
   ]
  },
  {
   "cell_type": "code",
   "execution_count": 312,
   "id": "ea775562",
   "metadata": {},
   "outputs": [
    {
     "data": {
      "text/plain": [
       "pandas.core.series.Series"
      ]
     },
     "execution_count": 312,
     "metadata": {},
     "output_type": "execute_result"
    }
   ],
   "source": [
    "type(df_filled['TotalCharges'])"
   ]
  },
  {
   "cell_type": "code",
   "execution_count": 327,
   "id": "5a919144",
   "metadata": {},
   "outputs": [],
   "source": [
    "df_filled['TotalCharges'] = np.floor(pd.to_numeric(df_filled['TotalCharges'], errors='coerce')).astype('float64')"
   ]
  },
  {
   "cell_type": "code",
   "execution_count": 314,
   "id": "d7851a98",
   "metadata": {
    "scrolled": true
   },
   "outputs": [
    {
     "name": "stdout",
     "output_type": "stream",
     "text": [
      "<class 'pandas.core.frame.DataFrame'>\n",
      "Int64Index: 7043 entries, 0 to 7042\n",
      "Data columns (total 21 columns):\n",
      " #   Column            Non-Null Count  Dtype  \n",
      "---  ------            --------------  -----  \n",
      " 0   customerID        7043 non-null   object \n",
      " 1   churned           7043 non-null   int64  \n",
      " 2   Type              7043 non-null   object \n",
      " 3   PaperlessBilling  7043 non-null   object \n",
      " 4   PaymentMethod     7043 non-null   object \n",
      " 5   MonthlyCharges    7043 non-null   float64\n",
      " 6   TotalCharges      7032 non-null   float64\n",
      " 7   begin_date        7043 non-null   object \n",
      " 8   end_date          7043 non-null   object \n",
      " 9   gender            7043 non-null   object \n",
      " 10  SeniorCitizen     7043 non-null   int64  \n",
      " 11  Partner           7043 non-null   object \n",
      " 12  Dependents        7043 non-null   object \n",
      " 13  MultipleLines     7043 non-null   object \n",
      " 14  InternetService   7043 non-null   object \n",
      " 15  OnlineSecurity    7043 non-null   object \n",
      " 16  OnlineBackup      7043 non-null   object \n",
      " 17  DeviceProtection  7043 non-null   object \n",
      " 18  TechSupport       7043 non-null   object \n",
      " 19  StreamingTV       7043 non-null   object \n",
      " 20  StreamingMovies   7043 non-null   object \n",
      "dtypes: float64(2), int64(2), object(17)\n",
      "memory usage: 1.2+ MB\n"
     ]
    }
   ],
   "source": [
    "df_filled.info()"
   ]
  },
  {
   "cell_type": "code",
   "execution_count": 317,
   "id": "d802ce9d",
   "metadata": {},
   "outputs": [],
   "source": [
    "d_int = df_filled[['MonthlyCharges',\n",
    "                  'TotalCharges',\n",
    "                  'SeniorCitizen']]"
   ]
  },
  {
   "cell_type": "code",
   "execution_count": 318,
   "id": "5c575155",
   "metadata": {},
   "outputs": [
    {
     "data": {
      "text/html": [
       "<div>\n",
       "<style scoped>\n",
       "    .dataframe tbody tr th:only-of-type {\n",
       "        vertical-align: middle;\n",
       "    }\n",
       "\n",
       "    .dataframe tbody tr th {\n",
       "        vertical-align: top;\n",
       "    }\n",
       "\n",
       "    .dataframe thead th {\n",
       "        text-align: right;\n",
       "    }\n",
       "</style>\n",
       "<table border=\"1\" class=\"dataframe\">\n",
       "  <thead>\n",
       "    <tr style=\"text-align: right;\">\n",
       "      <th></th>\n",
       "      <th>MonthlyCharges</th>\n",
       "      <th>TotalCharges</th>\n",
       "      <th>SeniorCitizen</th>\n",
       "    </tr>\n",
       "  </thead>\n",
       "  <tbody>\n",
       "    <tr>\n",
       "      <th>MonthlyCharges</th>\n",
       "      <td>1.000000</td>\n",
       "      <td>0.651064</td>\n",
       "      <td>0.220173</td>\n",
       "    </tr>\n",
       "    <tr>\n",
       "      <th>TotalCharges</th>\n",
       "      <td>0.651064</td>\n",
       "      <td>1.000000</td>\n",
       "      <td>0.102412</td>\n",
       "    </tr>\n",
       "    <tr>\n",
       "      <th>SeniorCitizen</th>\n",
       "      <td>0.220173</td>\n",
       "      <td>0.102412</td>\n",
       "      <td>1.000000</td>\n",
       "    </tr>\n",
       "  </tbody>\n",
       "</table>\n",
       "</div>"
      ],
      "text/plain": [
       "                MonthlyCharges  TotalCharges  SeniorCitizen\n",
       "MonthlyCharges        1.000000      0.651064       0.220173\n",
       "TotalCharges          0.651064      1.000000       0.102412\n",
       "SeniorCitizen         0.220173      0.102412       1.000000"
      ]
     },
     "execution_count": 318,
     "metadata": {},
     "output_type": "execute_result"
    }
   ],
   "source": [
    "d_int.corr()"
   ]
  },
  {
   "cell_type": "markdown",
   "id": "c84abb71",
   "metadata": {},
   "source": [
    "<div class=\"alert alert-danger\">\n",
    "<b>Комментарий ревьюера V2: &#10060; </b> Не совсем так, численные признаки у тебя - MonthlyCharges, TotalCharges</div>"
   ]
  },
  {
   "cell_type": "markdown",
   "id": "c9b3c830",
   "metadata": {},
   "source": [
    "<div class=\"alert alert-info\"> <b>Юлия:</b>\n",
    "Поправила.\n",
    "</div>"
   ]
  },
  {
   "cell_type": "markdown",
   "id": "5f02b6b0",
   "metadata": {},
   "source": [
    "### *Вывод:* Коэффициенты Пирсона не превышают величины абсолютных значений 0.8, значит, допустимы к использованию в модели.\n",
    "\n",
    "Перейдем к анализу мультикорреляции категориальных признаков."
   ]
  },
  {
   "cell_type": "markdown",
   "id": "60aadffe",
   "metadata": {},
   "source": [
    "<div class=\"alert alert-danger\">\n",
    "<b>Комментарий ревьюера: &#10060; </b> Для категориальных признаков корреляция Пиросона не применима, присмотрись к phi_k, VIF</div>"
   ]
  },
  {
   "cell_type": "markdown",
   "id": "38c66d6e",
   "metadata": {},
   "source": [
    "<div class=\"alert alert-info\"> <b>Юлия:</b>\n",
    "Использую обе техники ниже.\n",
    "</div>\n"
   ]
  },
  {
   "cell_type": "markdown",
   "id": "24326442",
   "metadata": {},
   "source": [
    "#### 2.5.2 Поиск зависимостей между категориальными признаками проводим с помощью [коэффициента VIF](https://towardsdatascience.com/targeting-multicollinearity-with-python-3bd3b4088d0b)."
   ]
  },
  {
   "cell_type": "code",
   "execution_count": 320,
   "id": "d600b8e8",
   "metadata": {},
   "outputs": [],
   "source": [
    "d_categ = df_filled[['Type',\n",
    "                    'PaperlessBilling',\n",
    "                    'PaymentMethod',\n",
    "                    'gender',\n",
    "                    'Partner',\n",
    "                    'Dependents',\n",
    "                    'MultipleLines',\n",
    "                    'InternetService',\n",
    "                    'OnlineSecurity',\n",
    "                    'OnlineBackup',\n",
    "                    'DeviceProtection',\n",
    "                    'TechSupport',\n",
    "                    'StreamingTV',\n",
    "                    'StreamingMovies']]"
   ]
  },
  {
   "cell_type": "code",
   "execution_count": 321,
   "id": "1580963d",
   "metadata": {},
   "outputs": [
    {
     "data": {
      "text/html": [
       "<div>\n",
       "<style scoped>\n",
       "    .dataframe tbody tr th:only-of-type {\n",
       "        vertical-align: middle;\n",
       "    }\n",
       "\n",
       "    .dataframe tbody tr th {\n",
       "        vertical-align: top;\n",
       "    }\n",
       "\n",
       "    .dataframe thead th {\n",
       "        text-align: right;\n",
       "    }\n",
       "</style>\n",
       "<table border=\"1\" class=\"dataframe\">\n",
       "  <thead>\n",
       "    <tr style=\"text-align: right;\">\n",
       "      <th></th>\n",
       "      <th>Type</th>\n",
       "      <th>PaperlessBilling</th>\n",
       "      <th>PaymentMethod</th>\n",
       "      <th>gender</th>\n",
       "      <th>Partner</th>\n",
       "      <th>Dependents</th>\n",
       "      <th>MultipleLines</th>\n",
       "      <th>InternetService</th>\n",
       "      <th>OnlineSecurity</th>\n",
       "      <th>OnlineBackup</th>\n",
       "      <th>DeviceProtection</th>\n",
       "      <th>TechSupport</th>\n",
       "      <th>StreamingTV</th>\n",
       "      <th>StreamingMovies</th>\n",
       "    </tr>\n",
       "  </thead>\n",
       "  <tbody>\n",
       "    <tr>\n",
       "      <th>0</th>\n",
       "      <td>Month-to-month</td>\n",
       "      <td>Yes</td>\n",
       "      <td>Electronic check</td>\n",
       "      <td>Female</td>\n",
       "      <td>Yes</td>\n",
       "      <td>No</td>\n",
       "      <td>No</td>\n",
       "      <td>DSL</td>\n",
       "      <td>No</td>\n",
       "      <td>Yes</td>\n",
       "      <td>No</td>\n",
       "      <td>No</td>\n",
       "      <td>No</td>\n",
       "      <td>No</td>\n",
       "    </tr>\n",
       "    <tr>\n",
       "      <th>1</th>\n",
       "      <td>One year</td>\n",
       "      <td>No</td>\n",
       "      <td>Mailed check</td>\n",
       "      <td>Male</td>\n",
       "      <td>No</td>\n",
       "      <td>No</td>\n",
       "      <td>No</td>\n",
       "      <td>DSL</td>\n",
       "      <td>Yes</td>\n",
       "      <td>No</td>\n",
       "      <td>Yes</td>\n",
       "      <td>No</td>\n",
       "      <td>No</td>\n",
       "      <td>No</td>\n",
       "    </tr>\n",
       "    <tr>\n",
       "      <th>2</th>\n",
       "      <td>Month-to-month</td>\n",
       "      <td>Yes</td>\n",
       "      <td>Mailed check</td>\n",
       "      <td>Male</td>\n",
       "      <td>No</td>\n",
       "      <td>No</td>\n",
       "      <td>No</td>\n",
       "      <td>DSL</td>\n",
       "      <td>Yes</td>\n",
       "      <td>Yes</td>\n",
       "      <td>No</td>\n",
       "      <td>No</td>\n",
       "      <td>No</td>\n",
       "      <td>No</td>\n",
       "    </tr>\n",
       "    <tr>\n",
       "      <th>3</th>\n",
       "      <td>One year</td>\n",
       "      <td>No</td>\n",
       "      <td>Bank transfer (automatic)</td>\n",
       "      <td>Male</td>\n",
       "      <td>No</td>\n",
       "      <td>No</td>\n",
       "      <td>No</td>\n",
       "      <td>DSL</td>\n",
       "      <td>Yes</td>\n",
       "      <td>No</td>\n",
       "      <td>Yes</td>\n",
       "      <td>Yes</td>\n",
       "      <td>No</td>\n",
       "      <td>No</td>\n",
       "    </tr>\n",
       "    <tr>\n",
       "      <th>4</th>\n",
       "      <td>Month-to-month</td>\n",
       "      <td>Yes</td>\n",
       "      <td>Electronic check</td>\n",
       "      <td>Female</td>\n",
       "      <td>No</td>\n",
       "      <td>No</td>\n",
       "      <td>No</td>\n",
       "      <td>Fiber optic</td>\n",
       "      <td>No</td>\n",
       "      <td>No</td>\n",
       "      <td>No</td>\n",
       "      <td>No</td>\n",
       "      <td>No</td>\n",
       "      <td>No</td>\n",
       "    </tr>\n",
       "    <tr>\n",
       "      <th>...</th>\n",
       "      <td>...</td>\n",
       "      <td>...</td>\n",
       "      <td>...</td>\n",
       "      <td>...</td>\n",
       "      <td>...</td>\n",
       "      <td>...</td>\n",
       "      <td>...</td>\n",
       "      <td>...</td>\n",
       "      <td>...</td>\n",
       "      <td>...</td>\n",
       "      <td>...</td>\n",
       "      <td>...</td>\n",
       "      <td>...</td>\n",
       "      <td>...</td>\n",
       "    </tr>\n",
       "    <tr>\n",
       "      <th>7038</th>\n",
       "      <td>One year</td>\n",
       "      <td>Yes</td>\n",
       "      <td>Mailed check</td>\n",
       "      <td>Male</td>\n",
       "      <td>Yes</td>\n",
       "      <td>Yes</td>\n",
       "      <td>Yes</td>\n",
       "      <td>DSL</td>\n",
       "      <td>Yes</td>\n",
       "      <td>No</td>\n",
       "      <td>Yes</td>\n",
       "      <td>Yes</td>\n",
       "      <td>Yes</td>\n",
       "      <td>Yes</td>\n",
       "    </tr>\n",
       "    <tr>\n",
       "      <th>7039</th>\n",
       "      <td>One year</td>\n",
       "      <td>Yes</td>\n",
       "      <td>Credit card (automatic)</td>\n",
       "      <td>Female</td>\n",
       "      <td>Yes</td>\n",
       "      <td>Yes</td>\n",
       "      <td>Yes</td>\n",
       "      <td>Fiber optic</td>\n",
       "      <td>No</td>\n",
       "      <td>Yes</td>\n",
       "      <td>Yes</td>\n",
       "      <td>No</td>\n",
       "      <td>Yes</td>\n",
       "      <td>Yes</td>\n",
       "    </tr>\n",
       "    <tr>\n",
       "      <th>7040</th>\n",
       "      <td>Month-to-month</td>\n",
       "      <td>Yes</td>\n",
       "      <td>Electronic check</td>\n",
       "      <td>Female</td>\n",
       "      <td>Yes</td>\n",
       "      <td>Yes</td>\n",
       "      <td>No</td>\n",
       "      <td>DSL</td>\n",
       "      <td>Yes</td>\n",
       "      <td>No</td>\n",
       "      <td>No</td>\n",
       "      <td>No</td>\n",
       "      <td>No</td>\n",
       "      <td>No</td>\n",
       "    </tr>\n",
       "    <tr>\n",
       "      <th>7041</th>\n",
       "      <td>Month-to-month</td>\n",
       "      <td>Yes</td>\n",
       "      <td>Mailed check</td>\n",
       "      <td>Male</td>\n",
       "      <td>Yes</td>\n",
       "      <td>No</td>\n",
       "      <td>Yes</td>\n",
       "      <td>Fiber optic</td>\n",
       "      <td>No</td>\n",
       "      <td>No</td>\n",
       "      <td>No</td>\n",
       "      <td>No</td>\n",
       "      <td>No</td>\n",
       "      <td>No</td>\n",
       "    </tr>\n",
       "    <tr>\n",
       "      <th>7042</th>\n",
       "      <td>Two year</td>\n",
       "      <td>Yes</td>\n",
       "      <td>Bank transfer (automatic)</td>\n",
       "      <td>Male</td>\n",
       "      <td>No</td>\n",
       "      <td>No</td>\n",
       "      <td>No</td>\n",
       "      <td>Fiber optic</td>\n",
       "      <td>Yes</td>\n",
       "      <td>No</td>\n",
       "      <td>Yes</td>\n",
       "      <td>Yes</td>\n",
       "      <td>Yes</td>\n",
       "      <td>Yes</td>\n",
       "    </tr>\n",
       "  </tbody>\n",
       "</table>\n",
       "<p>7043 rows × 14 columns</p>\n",
       "</div>"
      ],
      "text/plain": [
       "                Type PaperlessBilling              PaymentMethod  gender  \\\n",
       "0     Month-to-month              Yes           Electronic check  Female   \n",
       "1           One year               No               Mailed check    Male   \n",
       "2     Month-to-month              Yes               Mailed check    Male   \n",
       "3           One year               No  Bank transfer (automatic)    Male   \n",
       "4     Month-to-month              Yes           Electronic check  Female   \n",
       "...              ...              ...                        ...     ...   \n",
       "7038        One year              Yes               Mailed check    Male   \n",
       "7039        One year              Yes    Credit card (automatic)  Female   \n",
       "7040  Month-to-month              Yes           Electronic check  Female   \n",
       "7041  Month-to-month              Yes               Mailed check    Male   \n",
       "7042        Two year              Yes  Bank transfer (automatic)    Male   \n",
       "\n",
       "     Partner Dependents MultipleLines InternetService OnlineSecurity  \\\n",
       "0        Yes         No            No             DSL             No   \n",
       "1         No         No            No             DSL            Yes   \n",
       "2         No         No            No             DSL            Yes   \n",
       "3         No         No            No             DSL            Yes   \n",
       "4         No         No            No     Fiber optic             No   \n",
       "...      ...        ...           ...             ...            ...   \n",
       "7038     Yes        Yes           Yes             DSL            Yes   \n",
       "7039     Yes        Yes           Yes     Fiber optic             No   \n",
       "7040     Yes        Yes            No             DSL            Yes   \n",
       "7041     Yes         No           Yes     Fiber optic             No   \n",
       "7042      No         No            No     Fiber optic            Yes   \n",
       "\n",
       "     OnlineBackup DeviceProtection TechSupport StreamingTV StreamingMovies  \n",
       "0             Yes               No          No          No              No  \n",
       "1              No              Yes          No          No              No  \n",
       "2             Yes               No          No          No              No  \n",
       "3              No              Yes         Yes          No              No  \n",
       "4              No               No          No          No              No  \n",
       "...           ...              ...         ...         ...             ...  \n",
       "7038           No              Yes         Yes         Yes             Yes  \n",
       "7039          Yes              Yes          No         Yes             Yes  \n",
       "7040           No               No          No          No              No  \n",
       "7041           No               No          No          No              No  \n",
       "7042           No              Yes         Yes         Yes             Yes  \n",
       "\n",
       "[7043 rows x 14 columns]"
      ]
     },
     "execution_count": 321,
     "metadata": {},
     "output_type": "execute_result"
    }
   ],
   "source": [
    "d_categ"
   ]
  },
  {
   "cell_type": "code",
   "execution_count": 322,
   "id": "8924628e",
   "metadata": {},
   "outputs": [],
   "source": [
    "# закодируем категориальные признаки, чтобы проверить мультиколлинеарность\n",
    "# define ordinal encoding\n",
    "ordinalencoder = OrdinalEncoder()"
   ]
  },
  {
   "cell_type": "markdown",
   "id": "85658da6",
   "metadata": {},
   "source": [
    "<div class=\"alert alert-danger\">\n",
    "<b>Комментарий ревьюера V2: &#10060; </b> У тебя в OrdinalEncoder попал численный признак TotalCharges</div>"
   ]
  },
  {
   "cell_type": "code",
   "execution_count": 324,
   "id": "cbe1fbd7",
   "metadata": {},
   "outputs": [],
   "source": [
    "result = ordinalencoder.set_params(encoded_missing_value=-1).fit_transform(d_categ[['Type',\n",
    "                    'PaperlessBilling',\n",
    "                    'PaymentMethod',\n",
    "                    'gender',\n",
    "                    'Partner',\n",
    "                    'Dependents',\n",
    "                    'MultipleLines',\n",
    "                    'InternetService',\n",
    "                    'OnlineSecurity',\n",
    "                    'OnlineBackup',\n",
    "                    'DeviceProtection',\n",
    "                    'TechSupport',\n",
    "                    'StreamingTV',\n",
    "                    'StreamingMovies']])"
   ]
  },
  {
   "cell_type": "code",
   "execution_count": 329,
   "id": "fde08992",
   "metadata": {
    "scrolled": true
   },
   "outputs": [
    {
     "data": {
      "text/html": [
       "<style type=\"text/css\">\n",
       "#T_2ddd4_row0_col0, #T_2ddd4_row1_col0, #T_2ddd4_row2_col0, #T_2ddd4_row3_col0, #T_2ddd4_row4_col0, #T_2ddd4_row5_col0, #T_2ddd4_row6_col0, #T_2ddd4_row7_col0, #T_2ddd4_row8_col0, #T_2ddd4_row9_col0, #T_2ddd4_row10_col0, #T_2ddd4_row11_col0, #T_2ddd4_row12_col0, #T_2ddd4_row13_col0, #T_2ddd4_row14_col0, #T_2ddd4_row15_col0, #T_2ddd4_row16_col0 {\n",
       "  background-color: #3b4cc0;\n",
       "  color: #f1f1f1;\n",
       "}\n",
       "</style>\n",
       "<table id=\"T_2ddd4\">\n",
       "  <thead>\n",
       "    <tr>\n",
       "      <th class=\"blank level0\" >&nbsp;</th>\n",
       "      <th id=\"T_2ddd4_level0_col0\" class=\"col_heading level0 col0\" >0</th>\n",
       "    </tr>\n",
       "  </thead>\n",
       "  <tbody>\n",
       "    <tr>\n",
       "      <th id=\"T_2ddd4_level0_row0\" class=\"row_heading level0 row0\" >Type</th>\n",
       "      <td id=\"T_2ddd4_row0_col0\" class=\"data row0 col0\" >0.000000</td>\n",
       "    </tr>\n",
       "    <tr>\n",
       "      <th id=\"T_2ddd4_level0_row1\" class=\"row_heading level0 row1\" >PaperlessBilling</th>\n",
       "      <td id=\"T_2ddd4_row1_col0\" class=\"data row1 col0\" >0.000000</td>\n",
       "    </tr>\n",
       "    <tr>\n",
       "      <th id=\"T_2ddd4_level0_row2\" class=\"row_heading level0 row2\" >PaymentMethod</th>\n",
       "      <td id=\"T_2ddd4_row2_col0\" class=\"data row2 col0\" >0.000000</td>\n",
       "    </tr>\n",
       "    <tr>\n",
       "      <th id=\"T_2ddd4_level0_row3\" class=\"row_heading level0 row3\" >gender</th>\n",
       "      <td id=\"T_2ddd4_row3_col0\" class=\"data row3 col0\" >0.000000</td>\n",
       "    </tr>\n",
       "    <tr>\n",
       "      <th id=\"T_2ddd4_level0_row4\" class=\"row_heading level0 row4\" >Partner</th>\n",
       "      <td id=\"T_2ddd4_row4_col0\" class=\"data row4 col0\" >0.000000</td>\n",
       "    </tr>\n",
       "    <tr>\n",
       "      <th id=\"T_2ddd4_level0_row5\" class=\"row_heading level0 row5\" >Dependents</th>\n",
       "      <td id=\"T_2ddd4_row5_col0\" class=\"data row5 col0\" >0.000000</td>\n",
       "    </tr>\n",
       "    <tr>\n",
       "      <th id=\"T_2ddd4_level0_row6\" class=\"row_heading level0 row6\" >MultipleLines</th>\n",
       "      <td id=\"T_2ddd4_row6_col0\" class=\"data row6 col0\" >0.000000</td>\n",
       "    </tr>\n",
       "    <tr>\n",
       "      <th id=\"T_2ddd4_level0_row7\" class=\"row_heading level0 row7\" >InternetService</th>\n",
       "      <td id=\"T_2ddd4_row7_col0\" class=\"data row7 col0\" >0.000000</td>\n",
       "    </tr>\n",
       "    <tr>\n",
       "      <th id=\"T_2ddd4_level0_row8\" class=\"row_heading level0 row8\" >OnlineSecurity</th>\n",
       "      <td id=\"T_2ddd4_row8_col0\" class=\"data row8 col0\" >0.000000</td>\n",
       "    </tr>\n",
       "    <tr>\n",
       "      <th id=\"T_2ddd4_level0_row9\" class=\"row_heading level0 row9\" >OnlineBackup</th>\n",
       "      <td id=\"T_2ddd4_row9_col0\" class=\"data row9 col0\" >0.000000</td>\n",
       "    </tr>\n",
       "    <tr>\n",
       "      <th id=\"T_2ddd4_level0_row10\" class=\"row_heading level0 row10\" >DeviceProtection</th>\n",
       "      <td id=\"T_2ddd4_row10_col0\" class=\"data row10 col0\" >0.000000</td>\n",
       "    </tr>\n",
       "    <tr>\n",
       "      <th id=\"T_2ddd4_level0_row11\" class=\"row_heading level0 row11\" >TechSupport</th>\n",
       "      <td id=\"T_2ddd4_row11_col0\" class=\"data row11 col0\" >0.000000</td>\n",
       "    </tr>\n",
       "    <tr>\n",
       "      <th id=\"T_2ddd4_level0_row12\" class=\"row_heading level0 row12\" >StreamingTV</th>\n",
       "      <td id=\"T_2ddd4_row12_col0\" class=\"data row12 col0\" >0.000000</td>\n",
       "    </tr>\n",
       "    <tr>\n",
       "      <th id=\"T_2ddd4_level0_row13\" class=\"row_heading level0 row13\" >StreamingMovies</th>\n",
       "      <td id=\"T_2ddd4_row13_col0\" class=\"data row13 col0\" >0.000000</td>\n",
       "    </tr>\n",
       "    <tr>\n",
       "      <th id=\"T_2ddd4_level0_row14\" class=\"row_heading level0 row14\" >MonthlyCharges</th>\n",
       "      <td id=\"T_2ddd4_row14_col0\" class=\"data row14 col0\" >0.000000</td>\n",
       "    </tr>\n",
       "    <tr>\n",
       "      <th id=\"T_2ddd4_level0_row15\" class=\"row_heading level0 row15\" >TotalCharges</th>\n",
       "      <td id=\"T_2ddd4_row15_col0\" class=\"data row15 col0\" >0.000000</td>\n",
       "    </tr>\n",
       "    <tr>\n",
       "      <th id=\"T_2ddd4_level0_row16\" class=\"row_heading level0 row16\" >SeniorCitizen</th>\n",
       "      <td id=\"T_2ddd4_row16_col0\" class=\"data row16 col0\" >0.000000</td>\n",
       "    </tr>\n",
       "  </tbody>\n",
       "</table>\n"
      ],
      "text/plain": [
       "<pandas.io.formats.style.Styler at 0x120f8efb0>"
      ]
     },
     "execution_count": 329,
     "metadata": {},
     "output_type": "execute_result"
    }
   ],
   "source": [
    "pd.DataFrame(round(result.isna().mean()*100,)).style.background_gradient('coolwarm')"
   ]
  },
  {
   "attachments": {},
   "cell_type": "markdown",
   "id": "12e19a98",
   "metadata": {},
   "source": [
    "<div class=\"alert alert-info\"> <b>Юлия v2:</b>\n",
    "Спасибо за код ниже, не могу его воспроизвести. Как поправить?\n",
    "    \n",
    "    MissingDataError: exog contains inf or nans\n",
    "Надо удалить все nan через dropna? Хотя их и так нет, проверяю. Как удалить бесконечность?\n",
    "</div>\n",
    "\n"
   ]
  },
  {
   "cell_type": "code",
   "execution_count": 333,
   "id": "2e49cb79",
   "metadata": {},
   "outputs": [
    {
     "ename": "MissingDataError",
     "evalue": "exog contains inf or nans",
     "output_type": "error",
     "traceback": [
      "\u001b[0;31m---------------------------------------------------------------------------\u001b[0m",
      "\u001b[0;31mMissingDataError\u001b[0m                          Traceback (most recent call last)",
      "Cell \u001b[0;32mIn[333], line 24\u001b[0m\n\u001b[1;32m     22\u001b[0m result\u001b[38;5;241m.\u001b[39mhead()\n\u001b[1;32m     23\u001b[0m vif \u001b[38;5;241m=\u001b[39m pd\u001b[38;5;241m.\u001b[39mDataFrame()\u001b[38;5;241m.\u001b[39mdropna()\n\u001b[0;32m---> 24\u001b[0m vif[\u001b[38;5;124m'\u001b[39m\u001b[38;5;124mVIF\u001b[39m\u001b[38;5;124m'\u001b[39m] \u001b[38;5;241m=\u001b[39m [variance_inflation_factor(result\u001b[38;5;241m.\u001b[39mvalues, i) \u001b[38;5;28;01mfor\u001b[39;00m i \u001b[38;5;129;01min\u001b[39;00m \u001b[38;5;28mrange\u001b[39m(result\u001b[38;5;241m.\u001b[39mshape[\u001b[38;5;241m1\u001b[39m])]\n\u001b[1;32m     25\u001b[0m vif[\u001b[38;5;124m'\u001b[39m\u001b[38;5;124mvariable\u001b[39m\u001b[38;5;124m'\u001b[39m] \u001b[38;5;241m=\u001b[39m result\u001b[38;5;241m.\u001b[39mcolumns\n\u001b[1;32m     26\u001b[0m vif\n",
      "Cell \u001b[0;32mIn[333], line 24\u001b[0m, in \u001b[0;36m<listcomp>\u001b[0;34m(.0)\u001b[0m\n\u001b[1;32m     22\u001b[0m result\u001b[38;5;241m.\u001b[39mhead()\n\u001b[1;32m     23\u001b[0m vif \u001b[38;5;241m=\u001b[39m pd\u001b[38;5;241m.\u001b[39mDataFrame()\u001b[38;5;241m.\u001b[39mdropna()\n\u001b[0;32m---> 24\u001b[0m vif[\u001b[38;5;124m'\u001b[39m\u001b[38;5;124mVIF\u001b[39m\u001b[38;5;124m'\u001b[39m] \u001b[38;5;241m=\u001b[39m [\u001b[43mvariance_inflation_factor\u001b[49m\u001b[43m(\u001b[49m\u001b[43mresult\u001b[49m\u001b[38;5;241;43m.\u001b[39;49m\u001b[43mvalues\u001b[49m\u001b[43m,\u001b[49m\u001b[43m \u001b[49m\u001b[43mi\u001b[49m\u001b[43m)\u001b[49m \u001b[38;5;28;01mfor\u001b[39;00m i \u001b[38;5;129;01min\u001b[39;00m \u001b[38;5;28mrange\u001b[39m(result\u001b[38;5;241m.\u001b[39mshape[\u001b[38;5;241m1\u001b[39m])]\n\u001b[1;32m     25\u001b[0m vif[\u001b[38;5;124m'\u001b[39m\u001b[38;5;124mvariable\u001b[39m\u001b[38;5;124m'\u001b[39m] \u001b[38;5;241m=\u001b[39m result\u001b[38;5;241m.\u001b[39mcolumns\n\u001b[1;32m     26\u001b[0m vif\n",
      "File \u001b[0;32m/Library/Frameworks/Python.framework/Versions/3.10/lib/python3.10/site-packages/statsmodels/stats/outliers_influence.py:194\u001b[0m, in \u001b[0;36mvariance_inflation_factor\u001b[0;34m(exog, exog_idx)\u001b[0m\n\u001b[1;32m    192\u001b[0m mask \u001b[38;5;241m=\u001b[39m np\u001b[38;5;241m.\u001b[39marange(k_vars) \u001b[38;5;241m!=\u001b[39m exog_idx\n\u001b[1;32m    193\u001b[0m x_noti \u001b[38;5;241m=\u001b[39m exog[:, mask]\n\u001b[0;32m--> 194\u001b[0m r_squared_i \u001b[38;5;241m=\u001b[39m \u001b[43mOLS\u001b[49m\u001b[43m(\u001b[49m\u001b[43mx_i\u001b[49m\u001b[43m,\u001b[49m\u001b[43m \u001b[49m\u001b[43mx_noti\u001b[49m\u001b[43m)\u001b[49m\u001b[38;5;241m.\u001b[39mfit()\u001b[38;5;241m.\u001b[39mrsquared\n\u001b[1;32m    195\u001b[0m vif \u001b[38;5;241m=\u001b[39m \u001b[38;5;241m1.\u001b[39m \u001b[38;5;241m/\u001b[39m (\u001b[38;5;241m1.\u001b[39m \u001b[38;5;241m-\u001b[39m r_squared_i)\n\u001b[1;32m    196\u001b[0m \u001b[38;5;28;01mreturn\u001b[39;00m vif\n",
      "File \u001b[0;32m/Library/Frameworks/Python.framework/Versions/3.10/lib/python3.10/site-packages/statsmodels/regression/linear_model.py:906\u001b[0m, in \u001b[0;36mOLS.__init__\u001b[0;34m(self, endog, exog, missing, hasconst, **kwargs)\u001b[0m\n\u001b[1;32m    903\u001b[0m     msg \u001b[38;5;241m=\u001b[39m (\u001b[38;5;124m\"\u001b[39m\u001b[38;5;124mWeights are not supported in OLS and will be ignored\u001b[39m\u001b[38;5;124m\"\u001b[39m\n\u001b[1;32m    904\u001b[0m            \u001b[38;5;124m\"\u001b[39m\u001b[38;5;124mAn exception will be raised in the next version.\u001b[39m\u001b[38;5;124m\"\u001b[39m)\n\u001b[1;32m    905\u001b[0m     warnings\u001b[38;5;241m.\u001b[39mwarn(msg, ValueWarning)\n\u001b[0;32m--> 906\u001b[0m \u001b[38;5;28;43msuper\u001b[39;49m\u001b[43m(\u001b[49m\u001b[43mOLS\u001b[49m\u001b[43m,\u001b[49m\u001b[43m \u001b[49m\u001b[38;5;28;43mself\u001b[39;49m\u001b[43m)\u001b[49m\u001b[38;5;241;43m.\u001b[39;49m\u001b[38;5;21;43m__init__\u001b[39;49m\u001b[43m(\u001b[49m\u001b[43mendog\u001b[49m\u001b[43m,\u001b[49m\u001b[43m \u001b[49m\u001b[43mexog\u001b[49m\u001b[43m,\u001b[49m\u001b[43m \u001b[49m\u001b[43mmissing\u001b[49m\u001b[38;5;241;43m=\u001b[39;49m\u001b[43mmissing\u001b[49m\u001b[43m,\u001b[49m\n\u001b[1;32m    907\u001b[0m \u001b[43m                          \u001b[49m\u001b[43mhasconst\u001b[49m\u001b[38;5;241;43m=\u001b[39;49m\u001b[43mhasconst\u001b[49m\u001b[43m,\u001b[49m\u001b[43m \u001b[49m\u001b[38;5;241;43m*\u001b[39;49m\u001b[38;5;241;43m*\u001b[39;49m\u001b[43mkwargs\u001b[49m\u001b[43m)\u001b[49m\n\u001b[1;32m    908\u001b[0m \u001b[38;5;28;01mif\u001b[39;00m \u001b[38;5;124m\"\u001b[39m\u001b[38;5;124mweights\u001b[39m\u001b[38;5;124m\"\u001b[39m \u001b[38;5;129;01min\u001b[39;00m \u001b[38;5;28mself\u001b[39m\u001b[38;5;241m.\u001b[39m_init_keys:\n\u001b[1;32m    909\u001b[0m     \u001b[38;5;28mself\u001b[39m\u001b[38;5;241m.\u001b[39m_init_keys\u001b[38;5;241m.\u001b[39mremove(\u001b[38;5;124m\"\u001b[39m\u001b[38;5;124mweights\u001b[39m\u001b[38;5;124m\"\u001b[39m)\n",
      "File \u001b[0;32m/Library/Frameworks/Python.framework/Versions/3.10/lib/python3.10/site-packages/statsmodels/regression/linear_model.py:733\u001b[0m, in \u001b[0;36mWLS.__init__\u001b[0;34m(self, endog, exog, weights, missing, hasconst, **kwargs)\u001b[0m\n\u001b[1;32m    731\u001b[0m \u001b[38;5;28;01melse\u001b[39;00m:\n\u001b[1;32m    732\u001b[0m     weights \u001b[38;5;241m=\u001b[39m weights\u001b[38;5;241m.\u001b[39msqueeze()\n\u001b[0;32m--> 733\u001b[0m \u001b[38;5;28;43msuper\u001b[39;49m\u001b[43m(\u001b[49m\u001b[43mWLS\u001b[49m\u001b[43m,\u001b[49m\u001b[43m \u001b[49m\u001b[38;5;28;43mself\u001b[39;49m\u001b[43m)\u001b[49m\u001b[38;5;241;43m.\u001b[39;49m\u001b[38;5;21;43m__init__\u001b[39;49m\u001b[43m(\u001b[49m\u001b[43mendog\u001b[49m\u001b[43m,\u001b[49m\u001b[43m \u001b[49m\u001b[43mexog\u001b[49m\u001b[43m,\u001b[49m\u001b[43m \u001b[49m\u001b[43mmissing\u001b[49m\u001b[38;5;241;43m=\u001b[39;49m\u001b[43mmissing\u001b[49m\u001b[43m,\u001b[49m\n\u001b[1;32m    734\u001b[0m \u001b[43m                          \u001b[49m\u001b[43mweights\u001b[49m\u001b[38;5;241;43m=\u001b[39;49m\u001b[43mweights\u001b[49m\u001b[43m,\u001b[49m\u001b[43m \u001b[49m\u001b[43mhasconst\u001b[49m\u001b[38;5;241;43m=\u001b[39;49m\u001b[43mhasconst\u001b[49m\u001b[43m,\u001b[49m\u001b[43m \u001b[49m\u001b[38;5;241;43m*\u001b[39;49m\u001b[38;5;241;43m*\u001b[39;49m\u001b[43mkwargs\u001b[49m\u001b[43m)\u001b[49m\n\u001b[1;32m    735\u001b[0m nobs \u001b[38;5;241m=\u001b[39m \u001b[38;5;28mself\u001b[39m\u001b[38;5;241m.\u001b[39mexog\u001b[38;5;241m.\u001b[39mshape[\u001b[38;5;241m0\u001b[39m]\n\u001b[1;32m    736\u001b[0m weights \u001b[38;5;241m=\u001b[39m \u001b[38;5;28mself\u001b[39m\u001b[38;5;241m.\u001b[39mweights\n",
      "File \u001b[0;32m/Library/Frameworks/Python.framework/Versions/3.10/lib/python3.10/site-packages/statsmodels/regression/linear_model.py:190\u001b[0m, in \u001b[0;36mRegressionModel.__init__\u001b[0;34m(self, endog, exog, **kwargs)\u001b[0m\n\u001b[1;32m    189\u001b[0m \u001b[38;5;28;01mdef\u001b[39;00m \u001b[38;5;21m__init__\u001b[39m(\u001b[38;5;28mself\u001b[39m, endog, exog, \u001b[38;5;241m*\u001b[39m\u001b[38;5;241m*\u001b[39mkwargs):\n\u001b[0;32m--> 190\u001b[0m     \u001b[38;5;28;43msuper\u001b[39;49m\u001b[43m(\u001b[49m\u001b[43mRegressionModel\u001b[49m\u001b[43m,\u001b[49m\u001b[43m \u001b[49m\u001b[38;5;28;43mself\u001b[39;49m\u001b[43m)\u001b[49m\u001b[38;5;241;43m.\u001b[39;49m\u001b[38;5;21;43m__init__\u001b[39;49m\u001b[43m(\u001b[49m\u001b[43mendog\u001b[49m\u001b[43m,\u001b[49m\u001b[43m \u001b[49m\u001b[43mexog\u001b[49m\u001b[43m,\u001b[49m\u001b[43m \u001b[49m\u001b[38;5;241;43m*\u001b[39;49m\u001b[38;5;241;43m*\u001b[39;49m\u001b[43mkwargs\u001b[49m\u001b[43m)\u001b[49m\n\u001b[1;32m    191\u001b[0m     \u001b[38;5;28mself\u001b[39m\u001b[38;5;241m.\u001b[39m_data_attr\u001b[38;5;241m.\u001b[39mextend([\u001b[38;5;124m'\u001b[39m\u001b[38;5;124mpinv_wexog\u001b[39m\u001b[38;5;124m'\u001b[39m, \u001b[38;5;124m'\u001b[39m\u001b[38;5;124mwendog\u001b[39m\u001b[38;5;124m'\u001b[39m, \u001b[38;5;124m'\u001b[39m\u001b[38;5;124mwexog\u001b[39m\u001b[38;5;124m'\u001b[39m, \u001b[38;5;124m'\u001b[39m\u001b[38;5;124mweights\u001b[39m\u001b[38;5;124m'\u001b[39m])\n",
      "File \u001b[0;32m/Library/Frameworks/Python.framework/Versions/3.10/lib/python3.10/site-packages/statsmodels/base/model.py:267\u001b[0m, in \u001b[0;36mLikelihoodModel.__init__\u001b[0;34m(self, endog, exog, **kwargs)\u001b[0m\n\u001b[1;32m    266\u001b[0m \u001b[38;5;28;01mdef\u001b[39;00m \u001b[38;5;21m__init__\u001b[39m(\u001b[38;5;28mself\u001b[39m, endog, exog\u001b[38;5;241m=\u001b[39m\u001b[38;5;28;01mNone\u001b[39;00m, \u001b[38;5;241m*\u001b[39m\u001b[38;5;241m*\u001b[39mkwargs):\n\u001b[0;32m--> 267\u001b[0m     \u001b[38;5;28;43msuper\u001b[39;49m\u001b[43m(\u001b[49m\u001b[43m)\u001b[49m\u001b[38;5;241;43m.\u001b[39;49m\u001b[38;5;21;43m__init__\u001b[39;49m\u001b[43m(\u001b[49m\u001b[43mendog\u001b[49m\u001b[43m,\u001b[49m\u001b[43m \u001b[49m\u001b[43mexog\u001b[49m\u001b[43m,\u001b[49m\u001b[43m \u001b[49m\u001b[38;5;241;43m*\u001b[39;49m\u001b[38;5;241;43m*\u001b[39;49m\u001b[43mkwargs\u001b[49m\u001b[43m)\u001b[49m\n\u001b[1;32m    268\u001b[0m     \u001b[38;5;28mself\u001b[39m\u001b[38;5;241m.\u001b[39minitialize()\n",
      "File \u001b[0;32m/Library/Frameworks/Python.framework/Versions/3.10/lib/python3.10/site-packages/statsmodels/base/model.py:92\u001b[0m, in \u001b[0;36mModel.__init__\u001b[0;34m(self, endog, exog, **kwargs)\u001b[0m\n\u001b[1;32m     90\u001b[0m missing \u001b[38;5;241m=\u001b[39m kwargs\u001b[38;5;241m.\u001b[39mpop(\u001b[38;5;124m'\u001b[39m\u001b[38;5;124mmissing\u001b[39m\u001b[38;5;124m'\u001b[39m, \u001b[38;5;124m'\u001b[39m\u001b[38;5;124mnone\u001b[39m\u001b[38;5;124m'\u001b[39m)\n\u001b[1;32m     91\u001b[0m hasconst \u001b[38;5;241m=\u001b[39m kwargs\u001b[38;5;241m.\u001b[39mpop(\u001b[38;5;124m'\u001b[39m\u001b[38;5;124mhasconst\u001b[39m\u001b[38;5;124m'\u001b[39m, \u001b[38;5;28;01mNone\u001b[39;00m)\n\u001b[0;32m---> 92\u001b[0m \u001b[38;5;28mself\u001b[39m\u001b[38;5;241m.\u001b[39mdata \u001b[38;5;241m=\u001b[39m \u001b[38;5;28;43mself\u001b[39;49m\u001b[38;5;241;43m.\u001b[39;49m\u001b[43m_handle_data\u001b[49m\u001b[43m(\u001b[49m\u001b[43mendog\u001b[49m\u001b[43m,\u001b[49m\u001b[43m \u001b[49m\u001b[43mexog\u001b[49m\u001b[43m,\u001b[49m\u001b[43m \u001b[49m\u001b[43mmissing\u001b[49m\u001b[43m,\u001b[49m\u001b[43m \u001b[49m\u001b[43mhasconst\u001b[49m\u001b[43m,\u001b[49m\n\u001b[1;32m     93\u001b[0m \u001b[43m                              \u001b[49m\u001b[38;5;241;43m*\u001b[39;49m\u001b[38;5;241;43m*\u001b[39;49m\u001b[43mkwargs\u001b[49m\u001b[43m)\u001b[49m\n\u001b[1;32m     94\u001b[0m \u001b[38;5;28mself\u001b[39m\u001b[38;5;241m.\u001b[39mk_constant \u001b[38;5;241m=\u001b[39m \u001b[38;5;28mself\u001b[39m\u001b[38;5;241m.\u001b[39mdata\u001b[38;5;241m.\u001b[39mk_constant\n\u001b[1;32m     95\u001b[0m \u001b[38;5;28mself\u001b[39m\u001b[38;5;241m.\u001b[39mexog \u001b[38;5;241m=\u001b[39m \u001b[38;5;28mself\u001b[39m\u001b[38;5;241m.\u001b[39mdata\u001b[38;5;241m.\u001b[39mexog\n",
      "File \u001b[0;32m/Library/Frameworks/Python.framework/Versions/3.10/lib/python3.10/site-packages/statsmodels/base/model.py:132\u001b[0m, in \u001b[0;36mModel._handle_data\u001b[0;34m(self, endog, exog, missing, hasconst, **kwargs)\u001b[0m\n\u001b[1;32m    131\u001b[0m \u001b[38;5;28;01mdef\u001b[39;00m \u001b[38;5;21m_handle_data\u001b[39m(\u001b[38;5;28mself\u001b[39m, endog, exog, missing, hasconst, \u001b[38;5;241m*\u001b[39m\u001b[38;5;241m*\u001b[39mkwargs):\n\u001b[0;32m--> 132\u001b[0m     data \u001b[38;5;241m=\u001b[39m \u001b[43mhandle_data\u001b[49m\u001b[43m(\u001b[49m\u001b[43mendog\u001b[49m\u001b[43m,\u001b[49m\u001b[43m \u001b[49m\u001b[43mexog\u001b[49m\u001b[43m,\u001b[49m\u001b[43m \u001b[49m\u001b[43mmissing\u001b[49m\u001b[43m,\u001b[49m\u001b[43m \u001b[49m\u001b[43mhasconst\u001b[49m\u001b[43m,\u001b[49m\u001b[43m \u001b[49m\u001b[38;5;241;43m*\u001b[39;49m\u001b[38;5;241;43m*\u001b[39;49m\u001b[43mkwargs\u001b[49m\u001b[43m)\u001b[49m\n\u001b[1;32m    133\u001b[0m     \u001b[38;5;66;03m# kwargs arrays could have changed, easier to just attach here\u001b[39;00m\n\u001b[1;32m    134\u001b[0m     \u001b[38;5;28;01mfor\u001b[39;00m key \u001b[38;5;129;01min\u001b[39;00m kwargs:\n",
      "File \u001b[0;32m/Library/Frameworks/Python.framework/Versions/3.10/lib/python3.10/site-packages/statsmodels/base/data.py:700\u001b[0m, in \u001b[0;36mhandle_data\u001b[0;34m(endog, exog, missing, hasconst, **kwargs)\u001b[0m\n\u001b[1;32m    697\u001b[0m     exog \u001b[38;5;241m=\u001b[39m np\u001b[38;5;241m.\u001b[39masarray(exog)\n\u001b[1;32m    699\u001b[0m klass \u001b[38;5;241m=\u001b[39m handle_data_class_factory(endog, exog)\n\u001b[0;32m--> 700\u001b[0m \u001b[38;5;28;01mreturn\u001b[39;00m \u001b[43mklass\u001b[49m\u001b[43m(\u001b[49m\u001b[43mendog\u001b[49m\u001b[43m,\u001b[49m\u001b[43m \u001b[49m\u001b[43mexog\u001b[49m\u001b[38;5;241;43m=\u001b[39;49m\u001b[43mexog\u001b[49m\u001b[43m,\u001b[49m\u001b[43m \u001b[49m\u001b[43mmissing\u001b[49m\u001b[38;5;241;43m=\u001b[39;49m\u001b[43mmissing\u001b[49m\u001b[43m,\u001b[49m\u001b[43m \u001b[49m\u001b[43mhasconst\u001b[49m\u001b[38;5;241;43m=\u001b[39;49m\u001b[43mhasconst\u001b[49m\u001b[43m,\u001b[49m\n\u001b[1;32m    701\u001b[0m \u001b[43m             \u001b[49m\u001b[38;5;241;43m*\u001b[39;49m\u001b[38;5;241;43m*\u001b[39;49m\u001b[43mkwargs\u001b[49m\u001b[43m)\u001b[49m\n",
      "File \u001b[0;32m/Library/Frameworks/Python.framework/Versions/3.10/lib/python3.10/site-packages/statsmodels/base/data.py:88\u001b[0m, in \u001b[0;36mModelData.__init__\u001b[0;34m(self, endog, exog, missing, hasconst, **kwargs)\u001b[0m\n\u001b[1;32m     86\u001b[0m \u001b[38;5;28mself\u001b[39m\u001b[38;5;241m.\u001b[39mconst_idx \u001b[38;5;241m=\u001b[39m \u001b[38;5;28;01mNone\u001b[39;00m\n\u001b[1;32m     87\u001b[0m \u001b[38;5;28mself\u001b[39m\u001b[38;5;241m.\u001b[39mk_constant \u001b[38;5;241m=\u001b[39m \u001b[38;5;241m0\u001b[39m\n\u001b[0;32m---> 88\u001b[0m \u001b[38;5;28;43mself\u001b[39;49m\u001b[38;5;241;43m.\u001b[39;49m\u001b[43m_handle_constant\u001b[49m\u001b[43m(\u001b[49m\u001b[43mhasconst\u001b[49m\u001b[43m)\u001b[49m\n\u001b[1;32m     89\u001b[0m \u001b[38;5;28mself\u001b[39m\u001b[38;5;241m.\u001b[39m_check_integrity()\n\u001b[1;32m     90\u001b[0m \u001b[38;5;28mself\u001b[39m\u001b[38;5;241m.\u001b[39m_cache \u001b[38;5;241m=\u001b[39m {}\n",
      "File \u001b[0;32m/Library/Frameworks/Python.framework/Versions/3.10/lib/python3.10/site-packages/statsmodels/base/data.py:134\u001b[0m, in \u001b[0;36mModelData._handle_constant\u001b[0;34m(self, hasconst)\u001b[0m\n\u001b[1;32m    132\u001b[0m exog_max \u001b[38;5;241m=\u001b[39m np\u001b[38;5;241m.\u001b[39mmax(\u001b[38;5;28mself\u001b[39m\u001b[38;5;241m.\u001b[39mexog, axis\u001b[38;5;241m=\u001b[39m\u001b[38;5;241m0\u001b[39m)\n\u001b[1;32m    133\u001b[0m \u001b[38;5;28;01mif\u001b[39;00m \u001b[38;5;129;01mnot\u001b[39;00m np\u001b[38;5;241m.\u001b[39misfinite(exog_max)\u001b[38;5;241m.\u001b[39mall():\n\u001b[0;32m--> 134\u001b[0m     \u001b[38;5;28;01mraise\u001b[39;00m MissingDataError(\u001b[38;5;124m'\u001b[39m\u001b[38;5;124mexog contains inf or nans\u001b[39m\u001b[38;5;124m'\u001b[39m)\n\u001b[1;32m    135\u001b[0m exog_min \u001b[38;5;241m=\u001b[39m np\u001b[38;5;241m.\u001b[39mmin(\u001b[38;5;28mself\u001b[39m\u001b[38;5;241m.\u001b[39mexog, axis\u001b[38;5;241m=\u001b[39m\u001b[38;5;241m0\u001b[39m)\n\u001b[1;32m    136\u001b[0m const_idx \u001b[38;5;241m=\u001b[39m np\u001b[38;5;241m.\u001b[39mwhere(exog_max \u001b[38;5;241m==\u001b[39m exog_min)[\u001b[38;5;241m0\u001b[39m]\u001b[38;5;241m.\u001b[39msqueeze()\n",
      "\u001b[0;31mMissingDataError\u001b[0m: exog contains inf or nans"
     ]
    }
   ],
   "source": [
    "# Код ревьюера\n",
    "from statsmodels.stats.outliers_influence import variance_inflation_factor\n",
    "\n",
    "cols=['Type',       'PaperlessBilling',\n",
    "                    'PaymentMethod',\n",
    "                    'gender',\n",
    "                    'Partner',\n",
    "                    'Dependents',\n",
    "                    'MultipleLines',\n",
    "                    'InternetService',\n",
    "                    'OnlineSecurity',\n",
    "                    'OnlineBackup',\n",
    "                    'DeviceProtection',\n",
    "                    'TechSupport',\n",
    "                    'StreamingTV',\n",
    "                    'StreamingMovies']\n",
    "\n",
    "result = ordinalencoder.fit_transform(d_categ[cols])\n",
    "result = pd.DataFrame(result)\n",
    "result.columns= cols\n",
    "result = result.join(d_int)\n",
    "result.head()\n",
    "vif = pd.DataFrame()\n",
    "vif['VIF'] = [variance_inflation_factor(result.values, i) for i in range(result.shape[1])]\n",
    "vif['variable'] = result.columns\n",
    "vif"
   ]
  },
  {
   "cell_type": "code",
   "execution_count": 331,
   "id": "075b43df",
   "metadata": {},
   "outputs": [],
   "source": [
    "result_df = pd.DataFrame(result)"
   ]
  },
  {
   "cell_type": "code",
   "execution_count": 148,
   "id": "dc724ac0",
   "metadata": {},
   "outputs": [
    {
     "data": {
      "text/html": [
       "<div>\n",
       "<style scoped>\n",
       "    .dataframe tbody tr th:only-of-type {\n",
       "        vertical-align: middle;\n",
       "    }\n",
       "\n",
       "    .dataframe tbody tr th {\n",
       "        vertical-align: top;\n",
       "    }\n",
       "\n",
       "    .dataframe thead th {\n",
       "        text-align: right;\n",
       "    }\n",
       "</style>\n",
       "<table border=\"1\" class=\"dataframe\">\n",
       "  <thead>\n",
       "    <tr style=\"text-align: right;\">\n",
       "      <th></th>\n",
       "      <th>Type</th>\n",
       "      <th>PaperlessBilling</th>\n",
       "      <th>PaymentMethod</th>\n",
       "      <th>gender</th>\n",
       "      <th>SeniorCitizen</th>\n",
       "      <th>Partner</th>\n",
       "      <th>Dependents</th>\n",
       "      <th>MultipleLines</th>\n",
       "      <th>InternetService</th>\n",
       "      <th>OnlineSecurity</th>\n",
       "      <th>OnlineBackup</th>\n",
       "      <th>DeviceProtection</th>\n",
       "      <th>TechSupport</th>\n",
       "      <th>StreamingTV</th>\n",
       "      <th>StreamingMovies</th>\n",
       "      <th>MonthlyCharges</th>\n",
       "      <th>TotalCharges</th>\n",
       "    </tr>\n",
       "  </thead>\n",
       "  <tbody>\n",
       "    <tr>\n",
       "      <th>0</th>\n",
       "      <td>0.0</td>\n",
       "      <td>1.0</td>\n",
       "      <td>2.0</td>\n",
       "      <td>0.0</td>\n",
       "      <td>0.0</td>\n",
       "      <td>1.0</td>\n",
       "      <td>0.0</td>\n",
       "      <td>0.0</td>\n",
       "      <td>0.0</td>\n",
       "      <td>0.0</td>\n",
       "      <td>1.0</td>\n",
       "      <td>0.0</td>\n",
       "      <td>0.0</td>\n",
       "      <td>0.0</td>\n",
       "      <td>0.0</td>\n",
       "      <td>29.85</td>\n",
       "      <td>29.0</td>\n",
       "    </tr>\n",
       "    <tr>\n",
       "      <th>1</th>\n",
       "      <td>1.0</td>\n",
       "      <td>0.0</td>\n",
       "      <td>3.0</td>\n",
       "      <td>1.0</td>\n",
       "      <td>0.0</td>\n",
       "      <td>0.0</td>\n",
       "      <td>0.0</td>\n",
       "      <td>0.0</td>\n",
       "      <td>0.0</td>\n",
       "      <td>1.0</td>\n",
       "      <td>0.0</td>\n",
       "      <td>1.0</td>\n",
       "      <td>0.0</td>\n",
       "      <td>0.0</td>\n",
       "      <td>0.0</td>\n",
       "      <td>56.95</td>\n",
       "      <td>1889.0</td>\n",
       "    </tr>\n",
       "    <tr>\n",
       "      <th>2</th>\n",
       "      <td>0.0</td>\n",
       "      <td>1.0</td>\n",
       "      <td>3.0</td>\n",
       "      <td>1.0</td>\n",
       "      <td>0.0</td>\n",
       "      <td>0.0</td>\n",
       "      <td>0.0</td>\n",
       "      <td>0.0</td>\n",
       "      <td>0.0</td>\n",
       "      <td>1.0</td>\n",
       "      <td>1.0</td>\n",
       "      <td>0.0</td>\n",
       "      <td>0.0</td>\n",
       "      <td>0.0</td>\n",
       "      <td>0.0</td>\n",
       "      <td>53.85</td>\n",
       "      <td>108.0</td>\n",
       "    </tr>\n",
       "    <tr>\n",
       "      <th>3</th>\n",
       "      <td>1.0</td>\n",
       "      <td>0.0</td>\n",
       "      <td>0.0</td>\n",
       "      <td>1.0</td>\n",
       "      <td>0.0</td>\n",
       "      <td>0.0</td>\n",
       "      <td>0.0</td>\n",
       "      <td>0.0</td>\n",
       "      <td>0.0</td>\n",
       "      <td>1.0</td>\n",
       "      <td>0.0</td>\n",
       "      <td>1.0</td>\n",
       "      <td>1.0</td>\n",
       "      <td>0.0</td>\n",
       "      <td>0.0</td>\n",
       "      <td>42.30</td>\n",
       "      <td>1840.0</td>\n",
       "    </tr>\n",
       "    <tr>\n",
       "      <th>4</th>\n",
       "      <td>0.0</td>\n",
       "      <td>1.0</td>\n",
       "      <td>2.0</td>\n",
       "      <td>0.0</td>\n",
       "      <td>0.0</td>\n",
       "      <td>0.0</td>\n",
       "      <td>0.0</td>\n",
       "      <td>0.0</td>\n",
       "      <td>1.0</td>\n",
       "      <td>0.0</td>\n",
       "      <td>0.0</td>\n",
       "      <td>0.0</td>\n",
       "      <td>0.0</td>\n",
       "      <td>0.0</td>\n",
       "      <td>0.0</td>\n",
       "      <td>70.70</td>\n",
       "      <td>151.0</td>\n",
       "    </tr>\n",
       "    <tr>\n",
       "      <th>...</th>\n",
       "      <td>...</td>\n",
       "      <td>...</td>\n",
       "      <td>...</td>\n",
       "      <td>...</td>\n",
       "      <td>...</td>\n",
       "      <td>...</td>\n",
       "      <td>...</td>\n",
       "      <td>...</td>\n",
       "      <td>...</td>\n",
       "      <td>...</td>\n",
       "      <td>...</td>\n",
       "      <td>...</td>\n",
       "      <td>...</td>\n",
       "      <td>...</td>\n",
       "      <td>...</td>\n",
       "      <td>...</td>\n",
       "      <td>...</td>\n",
       "    </tr>\n",
       "    <tr>\n",
       "      <th>7038</th>\n",
       "      <td>1.0</td>\n",
       "      <td>1.0</td>\n",
       "      <td>3.0</td>\n",
       "      <td>1.0</td>\n",
       "      <td>0.0</td>\n",
       "      <td>1.0</td>\n",
       "      <td>1.0</td>\n",
       "      <td>1.0</td>\n",
       "      <td>0.0</td>\n",
       "      <td>1.0</td>\n",
       "      <td>0.0</td>\n",
       "      <td>1.0</td>\n",
       "      <td>1.0</td>\n",
       "      <td>1.0</td>\n",
       "      <td>1.0</td>\n",
       "      <td>84.80</td>\n",
       "      <td>1990.0</td>\n",
       "    </tr>\n",
       "    <tr>\n",
       "      <th>7039</th>\n",
       "      <td>1.0</td>\n",
       "      <td>1.0</td>\n",
       "      <td>1.0</td>\n",
       "      <td>0.0</td>\n",
       "      <td>0.0</td>\n",
       "      <td>1.0</td>\n",
       "      <td>1.0</td>\n",
       "      <td>1.0</td>\n",
       "      <td>1.0</td>\n",
       "      <td>0.0</td>\n",
       "      <td>1.0</td>\n",
       "      <td>1.0</td>\n",
       "      <td>0.0</td>\n",
       "      <td>1.0</td>\n",
       "      <td>1.0</td>\n",
       "      <td>103.20</td>\n",
       "      <td>7362.0</td>\n",
       "    </tr>\n",
       "    <tr>\n",
       "      <th>7040</th>\n",
       "      <td>0.0</td>\n",
       "      <td>1.0</td>\n",
       "      <td>2.0</td>\n",
       "      <td>0.0</td>\n",
       "      <td>0.0</td>\n",
       "      <td>1.0</td>\n",
       "      <td>1.0</td>\n",
       "      <td>0.0</td>\n",
       "      <td>0.0</td>\n",
       "      <td>1.0</td>\n",
       "      <td>0.0</td>\n",
       "      <td>0.0</td>\n",
       "      <td>0.0</td>\n",
       "      <td>0.0</td>\n",
       "      <td>0.0</td>\n",
       "      <td>29.60</td>\n",
       "      <td>346.0</td>\n",
       "    </tr>\n",
       "    <tr>\n",
       "      <th>7041</th>\n",
       "      <td>0.0</td>\n",
       "      <td>1.0</td>\n",
       "      <td>3.0</td>\n",
       "      <td>1.0</td>\n",
       "      <td>1.0</td>\n",
       "      <td>1.0</td>\n",
       "      <td>0.0</td>\n",
       "      <td>1.0</td>\n",
       "      <td>1.0</td>\n",
       "      <td>0.0</td>\n",
       "      <td>0.0</td>\n",
       "      <td>0.0</td>\n",
       "      <td>0.0</td>\n",
       "      <td>0.0</td>\n",
       "      <td>0.0</td>\n",
       "      <td>74.40</td>\n",
       "      <td>306.0</td>\n",
       "    </tr>\n",
       "    <tr>\n",
       "      <th>7042</th>\n",
       "      <td>2.0</td>\n",
       "      <td>1.0</td>\n",
       "      <td>0.0</td>\n",
       "      <td>1.0</td>\n",
       "      <td>0.0</td>\n",
       "      <td>0.0</td>\n",
       "      <td>0.0</td>\n",
       "      <td>0.0</td>\n",
       "      <td>1.0</td>\n",
       "      <td>1.0</td>\n",
       "      <td>0.0</td>\n",
       "      <td>1.0</td>\n",
       "      <td>1.0</td>\n",
       "      <td>1.0</td>\n",
       "      <td>1.0</td>\n",
       "      <td>105.65</td>\n",
       "      <td>6844.0</td>\n",
       "    </tr>\n",
       "  </tbody>\n",
       "</table>\n",
       "<p>7043 rows × 17 columns</p>\n",
       "</div>"
      ],
      "text/plain": [
       "      Type  PaperlessBilling  PaymentMethod  gender  SeniorCitizen  Partner  \\\n",
       "0      0.0               1.0            2.0     0.0            0.0      1.0   \n",
       "1      1.0               0.0            3.0     1.0            0.0      0.0   \n",
       "2      0.0               1.0            3.0     1.0            0.0      0.0   \n",
       "3      1.0               0.0            0.0     1.0            0.0      0.0   \n",
       "4      0.0               1.0            2.0     0.0            0.0      0.0   \n",
       "...    ...               ...            ...     ...            ...      ...   \n",
       "7038   1.0               1.0            3.0     1.0            0.0      1.0   \n",
       "7039   1.0               1.0            1.0     0.0            0.0      1.0   \n",
       "7040   0.0               1.0            2.0     0.0            0.0      1.0   \n",
       "7041   0.0               1.0            3.0     1.0            1.0      1.0   \n",
       "7042   2.0               1.0            0.0     1.0            0.0      0.0   \n",
       "\n",
       "      Dependents  MultipleLines  InternetService  OnlineSecurity  \\\n",
       "0            0.0            0.0              0.0             0.0   \n",
       "1            0.0            0.0              0.0             1.0   \n",
       "2            0.0            0.0              0.0             1.0   \n",
       "3            0.0            0.0              0.0             1.0   \n",
       "4            0.0            0.0              1.0             0.0   \n",
       "...          ...            ...              ...             ...   \n",
       "7038         1.0            1.0              0.0             1.0   \n",
       "7039         1.0            1.0              1.0             0.0   \n",
       "7040         1.0            0.0              0.0             1.0   \n",
       "7041         0.0            1.0              1.0             0.0   \n",
       "7042         0.0            0.0              1.0             1.0   \n",
       "\n",
       "      OnlineBackup  DeviceProtection  TechSupport  StreamingTV  \\\n",
       "0              1.0               0.0          0.0          0.0   \n",
       "1              0.0               1.0          0.0          0.0   \n",
       "2              1.0               0.0          0.0          0.0   \n",
       "3              0.0               1.0          1.0          0.0   \n",
       "4              0.0               0.0          0.0          0.0   \n",
       "...            ...               ...          ...          ...   \n",
       "7038           0.0               1.0          1.0          1.0   \n",
       "7039           1.0               1.0          0.0          1.0   \n",
       "7040           0.0               0.0          0.0          0.0   \n",
       "7041           0.0               0.0          0.0          0.0   \n",
       "7042           0.0               1.0          1.0          1.0   \n",
       "\n",
       "      StreamingMovies  MonthlyCharges TotalCharges  \n",
       "0                 0.0           29.85         29.0  \n",
       "1                 0.0           56.95       1889.0  \n",
       "2                 0.0           53.85        108.0  \n",
       "3                 0.0           42.30       1840.0  \n",
       "4                 0.0           70.70        151.0  \n",
       "...               ...             ...          ...  \n",
       "7038              1.0           84.80       1990.0  \n",
       "7039              1.0          103.20       7362.0  \n",
       "7040              0.0           29.60        346.0  \n",
       "7041              0.0           74.40        306.0  \n",
       "7042              1.0          105.65       6844.0  \n",
       "\n",
       "[7043 rows x 17 columns]"
      ]
     },
     "execution_count": 148,
     "metadata": {},
     "output_type": "execute_result"
    }
   ],
   "source": [
    "result_df"
   ]
  },
  {
   "cell_type": "code",
   "execution_count": 149,
   "id": "88a2a7c6",
   "metadata": {},
   "outputs": [
    {
     "ename": "ValueError",
     "evalue": "columns overlap but no suffix specified: Index(['Type', 'PaperlessBilling', 'PaymentMethod', 'gender', 'SeniorCitizen',\n       'Partner', 'Dependents', 'MultipleLines', 'InternetService',\n       'OnlineSecurity', 'OnlineBackup', 'DeviceProtection', 'TechSupport',\n       'StreamingTV', 'StreamingMovies'],\n      dtype='object')",
     "output_type": "error",
     "traceback": [
      "\u001b[0;31m---------------------------------------------------------------------------\u001b[0m",
      "\u001b[0;31mValueError\u001b[0m                                Traceback (most recent call last)",
      "Cell \u001b[0;32mIn[149], line 2\u001b[0m\n\u001b[1;32m      1\u001b[0m \u001b[38;5;66;03m# объединим закодированные колонки и наш основной датасет (с удаленными категориальными признаками)\u001b[39;00m\n\u001b[0;32m----> 2\u001b[0m df_enc \u001b[38;5;241m=\u001b[39m \u001b[43md_categ\u001b[49m\u001b[38;5;241;43m.\u001b[39;49m\u001b[43mjoin\u001b[49m\u001b[43m(\u001b[49m\u001b[43mresult_df\u001b[49m\u001b[43m)\u001b[49m\n",
      "File \u001b[0;32m/Library/Frameworks/Python.framework/Versions/3.10/lib/python3.10/site-packages/pandas/core/frame.py:9976\u001b[0m, in \u001b[0;36mDataFrame.join\u001b[0;34m(self, other, on, how, lsuffix, rsuffix, sort, validate)\u001b[0m\n\u001b[1;32m   9813\u001b[0m \u001b[38;5;28;01mdef\u001b[39;00m \u001b[38;5;21mjoin\u001b[39m(\n\u001b[1;32m   9814\u001b[0m     \u001b[38;5;28mself\u001b[39m,\n\u001b[1;32m   9815\u001b[0m     other: DataFrame \u001b[38;5;241m|\u001b[39m Series \u001b[38;5;241m|\u001b[39m \u001b[38;5;28mlist\u001b[39m[DataFrame \u001b[38;5;241m|\u001b[39m Series],\n\u001b[0;32m   (...)\u001b[0m\n\u001b[1;32m   9821\u001b[0m     validate: \u001b[38;5;28mstr\u001b[39m \u001b[38;5;241m|\u001b[39m \u001b[38;5;28;01mNone\u001b[39;00m \u001b[38;5;241m=\u001b[39m \u001b[38;5;28;01mNone\u001b[39;00m,\n\u001b[1;32m   9822\u001b[0m ) \u001b[38;5;241m-\u001b[39m\u001b[38;5;241m>\u001b[39m DataFrame:\n\u001b[1;32m   9823\u001b[0m     \u001b[38;5;124;03m\"\"\"\u001b[39;00m\n\u001b[1;32m   9824\u001b[0m \u001b[38;5;124;03m    Join columns of another DataFrame.\u001b[39;00m\n\u001b[1;32m   9825\u001b[0m \n\u001b[0;32m   (...)\u001b[0m\n\u001b[1;32m   9974\u001b[0m \u001b[38;5;124;03m    5  K1  A5   B1\u001b[39;00m\n\u001b[1;32m   9975\u001b[0m \u001b[38;5;124;03m    \"\"\"\u001b[39;00m\n\u001b[0;32m-> 9976\u001b[0m     \u001b[38;5;28;01mreturn\u001b[39;00m \u001b[38;5;28;43mself\u001b[39;49m\u001b[38;5;241;43m.\u001b[39;49m\u001b[43m_join_compat\u001b[49m\u001b[43m(\u001b[49m\n\u001b[1;32m   9977\u001b[0m \u001b[43m        \u001b[49m\u001b[43mother\u001b[49m\u001b[43m,\u001b[49m\n\u001b[1;32m   9978\u001b[0m \u001b[43m        \u001b[49m\u001b[43mon\u001b[49m\u001b[38;5;241;43m=\u001b[39;49m\u001b[43mon\u001b[49m\u001b[43m,\u001b[49m\n\u001b[1;32m   9979\u001b[0m \u001b[43m        \u001b[49m\u001b[43mhow\u001b[49m\u001b[38;5;241;43m=\u001b[39;49m\u001b[43mhow\u001b[49m\u001b[43m,\u001b[49m\n\u001b[1;32m   9980\u001b[0m \u001b[43m        \u001b[49m\u001b[43mlsuffix\u001b[49m\u001b[38;5;241;43m=\u001b[39;49m\u001b[43mlsuffix\u001b[49m\u001b[43m,\u001b[49m\n\u001b[1;32m   9981\u001b[0m \u001b[43m        \u001b[49m\u001b[43mrsuffix\u001b[49m\u001b[38;5;241;43m=\u001b[39;49m\u001b[43mrsuffix\u001b[49m\u001b[43m,\u001b[49m\n\u001b[1;32m   9982\u001b[0m \u001b[43m        \u001b[49m\u001b[43msort\u001b[49m\u001b[38;5;241;43m=\u001b[39;49m\u001b[43msort\u001b[49m\u001b[43m,\u001b[49m\n\u001b[1;32m   9983\u001b[0m \u001b[43m        \u001b[49m\u001b[43mvalidate\u001b[49m\u001b[38;5;241;43m=\u001b[39;49m\u001b[43mvalidate\u001b[49m\u001b[43m,\u001b[49m\n\u001b[1;32m   9984\u001b[0m \u001b[43m    \u001b[49m\u001b[43m)\u001b[49m\n",
      "File \u001b[0;32m/Library/Frameworks/Python.framework/Versions/3.10/lib/python3.10/site-packages/pandas/core/frame.py:10015\u001b[0m, in \u001b[0;36mDataFrame._join_compat\u001b[0;34m(self, other, on, how, lsuffix, rsuffix, sort, validate)\u001b[0m\n\u001b[1;32m  10005\u001b[0m     \u001b[38;5;28;01mif\u001b[39;00m how \u001b[38;5;241m==\u001b[39m \u001b[38;5;124m\"\u001b[39m\u001b[38;5;124mcross\u001b[39m\u001b[38;5;124m\"\u001b[39m:\n\u001b[1;32m  10006\u001b[0m         \u001b[38;5;28;01mreturn\u001b[39;00m merge(\n\u001b[1;32m  10007\u001b[0m             \u001b[38;5;28mself\u001b[39m,\n\u001b[1;32m  10008\u001b[0m             other,\n\u001b[0;32m   (...)\u001b[0m\n\u001b[1;32m  10013\u001b[0m             validate\u001b[38;5;241m=\u001b[39mvalidate,\n\u001b[1;32m  10014\u001b[0m         )\n\u001b[0;32m> 10015\u001b[0m     \u001b[38;5;28;01mreturn\u001b[39;00m \u001b[43mmerge\u001b[49m\u001b[43m(\u001b[49m\n\u001b[1;32m  10016\u001b[0m \u001b[43m        \u001b[49m\u001b[38;5;28;43mself\u001b[39;49m\u001b[43m,\u001b[49m\n\u001b[1;32m  10017\u001b[0m \u001b[43m        \u001b[49m\u001b[43mother\u001b[49m\u001b[43m,\u001b[49m\n\u001b[1;32m  10018\u001b[0m \u001b[43m        \u001b[49m\u001b[43mleft_on\u001b[49m\u001b[38;5;241;43m=\u001b[39;49m\u001b[43mon\u001b[49m\u001b[43m,\u001b[49m\n\u001b[1;32m  10019\u001b[0m \u001b[43m        \u001b[49m\u001b[43mhow\u001b[49m\u001b[38;5;241;43m=\u001b[39;49m\u001b[43mhow\u001b[49m\u001b[43m,\u001b[49m\n\u001b[1;32m  10020\u001b[0m \u001b[43m        \u001b[49m\u001b[43mleft_index\u001b[49m\u001b[38;5;241;43m=\u001b[39;49m\u001b[43mon\u001b[49m\u001b[43m \u001b[49m\u001b[38;5;129;43;01mis\u001b[39;49;00m\u001b[43m \u001b[49m\u001b[38;5;28;43;01mNone\u001b[39;49;00m\u001b[43m,\u001b[49m\n\u001b[1;32m  10021\u001b[0m \u001b[43m        \u001b[49m\u001b[43mright_index\u001b[49m\u001b[38;5;241;43m=\u001b[39;49m\u001b[38;5;28;43;01mTrue\u001b[39;49;00m\u001b[43m,\u001b[49m\n\u001b[1;32m  10022\u001b[0m \u001b[43m        \u001b[49m\u001b[43msuffixes\u001b[49m\u001b[38;5;241;43m=\u001b[39;49m\u001b[43m(\u001b[49m\u001b[43mlsuffix\u001b[49m\u001b[43m,\u001b[49m\u001b[43m \u001b[49m\u001b[43mrsuffix\u001b[49m\u001b[43m)\u001b[49m\u001b[43m,\u001b[49m\n\u001b[1;32m  10023\u001b[0m \u001b[43m        \u001b[49m\u001b[43msort\u001b[49m\u001b[38;5;241;43m=\u001b[39;49m\u001b[43msort\u001b[49m\u001b[43m,\u001b[49m\n\u001b[1;32m  10024\u001b[0m \u001b[43m        \u001b[49m\u001b[43mvalidate\u001b[49m\u001b[38;5;241;43m=\u001b[39;49m\u001b[43mvalidate\u001b[49m\u001b[43m,\u001b[49m\n\u001b[1;32m  10025\u001b[0m \u001b[43m    \u001b[49m\u001b[43m)\u001b[49m\n\u001b[1;32m  10026\u001b[0m \u001b[38;5;28;01melse\u001b[39;00m:\n\u001b[1;32m  10027\u001b[0m     \u001b[38;5;28;01mif\u001b[39;00m on \u001b[38;5;129;01mis\u001b[39;00m \u001b[38;5;129;01mnot\u001b[39;00m \u001b[38;5;28;01mNone\u001b[39;00m:\n",
      "File \u001b[0;32m/Library/Frameworks/Python.framework/Versions/3.10/lib/python3.10/site-packages/pandas/core/reshape/merge.py:124\u001b[0m, in \u001b[0;36mmerge\u001b[0;34m(left, right, how, on, left_on, right_on, left_index, right_index, sort, suffixes, copy, indicator, validate)\u001b[0m\n\u001b[1;32m     93\u001b[0m \u001b[38;5;129m@Substitution\u001b[39m(\u001b[38;5;124m\"\u001b[39m\u001b[38;5;130;01m\\n\u001b[39;00m\u001b[38;5;124mleft : DataFrame or named Series\u001b[39m\u001b[38;5;124m\"\u001b[39m)\n\u001b[1;32m     94\u001b[0m \u001b[38;5;129m@Appender\u001b[39m(_merge_doc, indents\u001b[38;5;241m=\u001b[39m\u001b[38;5;241m0\u001b[39m)\n\u001b[1;32m     95\u001b[0m \u001b[38;5;28;01mdef\u001b[39;00m \u001b[38;5;21mmerge\u001b[39m(\n\u001b[0;32m   (...)\u001b[0m\n\u001b[1;32m    108\u001b[0m     validate: \u001b[38;5;28mstr\u001b[39m \u001b[38;5;241m|\u001b[39m \u001b[38;5;28;01mNone\u001b[39;00m \u001b[38;5;241m=\u001b[39m \u001b[38;5;28;01mNone\u001b[39;00m,\n\u001b[1;32m    109\u001b[0m ) \u001b[38;5;241m-\u001b[39m\u001b[38;5;241m>\u001b[39m DataFrame:\n\u001b[1;32m    110\u001b[0m     op \u001b[38;5;241m=\u001b[39m _MergeOperation(\n\u001b[1;32m    111\u001b[0m         left,\n\u001b[1;32m    112\u001b[0m         right,\n\u001b[0;32m   (...)\u001b[0m\n\u001b[1;32m    122\u001b[0m         validate\u001b[38;5;241m=\u001b[39mvalidate,\n\u001b[1;32m    123\u001b[0m     )\n\u001b[0;32m--> 124\u001b[0m     \u001b[38;5;28;01mreturn\u001b[39;00m \u001b[43mop\u001b[49m\u001b[38;5;241;43m.\u001b[39;49m\u001b[43mget_result\u001b[49m\u001b[43m(\u001b[49m\u001b[43mcopy\u001b[49m\u001b[38;5;241;43m=\u001b[39;49m\u001b[43mcopy\u001b[49m\u001b[43m)\u001b[49m\n",
      "File \u001b[0;32m/Library/Frameworks/Python.framework/Versions/3.10/lib/python3.10/site-packages/pandas/core/reshape/merge.py:775\u001b[0m, in \u001b[0;36m_MergeOperation.get_result\u001b[0;34m(self, copy)\u001b[0m\n\u001b[1;32m    771\u001b[0m     \u001b[38;5;28mself\u001b[39m\u001b[38;5;241m.\u001b[39mleft, \u001b[38;5;28mself\u001b[39m\u001b[38;5;241m.\u001b[39mright \u001b[38;5;241m=\u001b[39m \u001b[38;5;28mself\u001b[39m\u001b[38;5;241m.\u001b[39m_indicator_pre_merge(\u001b[38;5;28mself\u001b[39m\u001b[38;5;241m.\u001b[39mleft, \u001b[38;5;28mself\u001b[39m\u001b[38;5;241m.\u001b[39mright)\n\u001b[1;32m    773\u001b[0m join_index, left_indexer, right_indexer \u001b[38;5;241m=\u001b[39m \u001b[38;5;28mself\u001b[39m\u001b[38;5;241m.\u001b[39m_get_join_info()\n\u001b[0;32m--> 775\u001b[0m result \u001b[38;5;241m=\u001b[39m \u001b[38;5;28;43mself\u001b[39;49m\u001b[38;5;241;43m.\u001b[39;49m\u001b[43m_reindex_and_concat\u001b[49m\u001b[43m(\u001b[49m\n\u001b[1;32m    776\u001b[0m \u001b[43m    \u001b[49m\u001b[43mjoin_index\u001b[49m\u001b[43m,\u001b[49m\u001b[43m \u001b[49m\u001b[43mleft_indexer\u001b[49m\u001b[43m,\u001b[49m\u001b[43m \u001b[49m\u001b[43mright_indexer\u001b[49m\u001b[43m,\u001b[49m\u001b[43m \u001b[49m\u001b[43mcopy\u001b[49m\u001b[38;5;241;43m=\u001b[39;49m\u001b[43mcopy\u001b[49m\n\u001b[1;32m    777\u001b[0m \u001b[43m\u001b[49m\u001b[43m)\u001b[49m\n\u001b[1;32m    778\u001b[0m result \u001b[38;5;241m=\u001b[39m result\u001b[38;5;241m.\u001b[39m__finalize__(\u001b[38;5;28mself\u001b[39m, method\u001b[38;5;241m=\u001b[39m\u001b[38;5;28mself\u001b[39m\u001b[38;5;241m.\u001b[39m_merge_type)\n\u001b[1;32m    780\u001b[0m \u001b[38;5;28;01mif\u001b[39;00m \u001b[38;5;28mself\u001b[39m\u001b[38;5;241m.\u001b[39mindicator:\n",
      "File \u001b[0;32m/Library/Frameworks/Python.framework/Versions/3.10/lib/python3.10/site-packages/pandas/core/reshape/merge.py:729\u001b[0m, in \u001b[0;36m_MergeOperation._reindex_and_concat\u001b[0;34m(self, join_index, left_indexer, right_indexer, copy)\u001b[0m\n\u001b[1;32m    726\u001b[0m left \u001b[38;5;241m=\u001b[39m \u001b[38;5;28mself\u001b[39m\u001b[38;5;241m.\u001b[39mleft[:]\n\u001b[1;32m    727\u001b[0m right \u001b[38;5;241m=\u001b[39m \u001b[38;5;28mself\u001b[39m\u001b[38;5;241m.\u001b[39mright[:]\n\u001b[0;32m--> 729\u001b[0m llabels, rlabels \u001b[38;5;241m=\u001b[39m \u001b[43m_items_overlap_with_suffix\u001b[49m\u001b[43m(\u001b[49m\n\u001b[1;32m    730\u001b[0m \u001b[43m    \u001b[49m\u001b[38;5;28;43mself\u001b[39;49m\u001b[38;5;241;43m.\u001b[39;49m\u001b[43mleft\u001b[49m\u001b[38;5;241;43m.\u001b[39;49m\u001b[43m_info_axis\u001b[49m\u001b[43m,\u001b[49m\u001b[43m \u001b[49m\u001b[38;5;28;43mself\u001b[39;49m\u001b[38;5;241;43m.\u001b[39;49m\u001b[43mright\u001b[49m\u001b[38;5;241;43m.\u001b[39;49m\u001b[43m_info_axis\u001b[49m\u001b[43m,\u001b[49m\u001b[43m \u001b[49m\u001b[38;5;28;43mself\u001b[39;49m\u001b[38;5;241;43m.\u001b[39;49m\u001b[43msuffixes\u001b[49m\n\u001b[1;32m    731\u001b[0m \u001b[43m\u001b[49m\u001b[43m)\u001b[49m\n\u001b[1;32m    733\u001b[0m \u001b[38;5;28;01mif\u001b[39;00m left_indexer \u001b[38;5;129;01mis\u001b[39;00m \u001b[38;5;129;01mnot\u001b[39;00m \u001b[38;5;28;01mNone\u001b[39;00m:\n\u001b[1;32m    734\u001b[0m     \u001b[38;5;66;03m# Pinning the index here (and in the right code just below) is not\u001b[39;00m\n\u001b[1;32m    735\u001b[0m     \u001b[38;5;66;03m#  necessary, but makes the `.take` more performant if we have e.g.\u001b[39;00m\n\u001b[1;32m    736\u001b[0m     \u001b[38;5;66;03m#  a MultiIndex for left.index.\u001b[39;00m\n\u001b[1;32m    737\u001b[0m     lmgr \u001b[38;5;241m=\u001b[39m left\u001b[38;5;241m.\u001b[39m_mgr\u001b[38;5;241m.\u001b[39mreindex_indexer(\n\u001b[1;32m    738\u001b[0m         join_index,\n\u001b[1;32m    739\u001b[0m         left_indexer,\n\u001b[0;32m   (...)\u001b[0m\n\u001b[1;32m    744\u001b[0m         use_na_proxy\u001b[38;5;241m=\u001b[39m\u001b[38;5;28;01mTrue\u001b[39;00m,\n\u001b[1;32m    745\u001b[0m     )\n",
      "File \u001b[0;32m/Library/Frameworks/Python.framework/Versions/3.10/lib/python3.10/site-packages/pandas/core/reshape/merge.py:2458\u001b[0m, in \u001b[0;36m_items_overlap_with_suffix\u001b[0;34m(left, right, suffixes)\u001b[0m\n\u001b[1;32m   2455\u001b[0m lsuffix, rsuffix \u001b[38;5;241m=\u001b[39m suffixes\n\u001b[1;32m   2457\u001b[0m \u001b[38;5;28;01mif\u001b[39;00m \u001b[38;5;129;01mnot\u001b[39;00m lsuffix \u001b[38;5;129;01mand\u001b[39;00m \u001b[38;5;129;01mnot\u001b[39;00m rsuffix:\n\u001b[0;32m-> 2458\u001b[0m     \u001b[38;5;28;01mraise\u001b[39;00m \u001b[38;5;167;01mValueError\u001b[39;00m(\u001b[38;5;124mf\u001b[39m\u001b[38;5;124m\"\u001b[39m\u001b[38;5;124mcolumns overlap but no suffix specified: \u001b[39m\u001b[38;5;132;01m{\u001b[39;00mto_rename\u001b[38;5;132;01m}\u001b[39;00m\u001b[38;5;124m\"\u001b[39m)\n\u001b[1;32m   2460\u001b[0m \u001b[38;5;28;01mdef\u001b[39;00m \u001b[38;5;21mrenamer\u001b[39m(x, suffix):\n\u001b[1;32m   2461\u001b[0m     \u001b[38;5;124;03m\"\"\"\u001b[39;00m\n\u001b[1;32m   2462\u001b[0m \u001b[38;5;124;03m    Rename the left and right indices.\u001b[39;00m\n\u001b[1;32m   2463\u001b[0m \n\u001b[0;32m   (...)\u001b[0m\n\u001b[1;32m   2474\u001b[0m \u001b[38;5;124;03m    x : renamed column name\u001b[39;00m\n\u001b[1;32m   2475\u001b[0m \u001b[38;5;124;03m    \"\"\"\u001b[39;00m\n",
      "\u001b[0;31mValueError\u001b[0m: columns overlap but no suffix specified: Index(['Type', 'PaperlessBilling', 'PaymentMethod', 'gender', 'SeniorCitizen',\n       'Partner', 'Dependents', 'MultipleLines', 'InternetService',\n       'OnlineSecurity', 'OnlineBackup', 'DeviceProtection', 'TechSupport',\n       'StreamingTV', 'StreamingMovies'],\n      dtype='object')"
     ]
    }
   ],
   "source": [
    "# объединим закодированные колонки и наш основной датасет (с удаленными категориальными признаками)\n",
    "df_enc = d_categ.join(result_df)"
   ]
  },
  {
   "cell_type": "code",
   "execution_count": null,
   "id": "494cf11e",
   "metadata": {},
   "outputs": [],
   "source": [
    "df_enc_dropped = df_enc.drop(columns=['Type',\n",
    "                    'PaperlessBilling',\n",
    "                    'PaymentMethod',\n",
    "                    'gender',\n",
    "                    'SeniorCitizen',\n",
    "                    'Partner',\n",
    "                    'Dependents',\n",
    "                    'MultipleLines',\n",
    "                    'InternetService',\n",
    "                    'OnlineSecurity',\n",
    "                    'OnlineBackup',\n",
    "                    'DeviceProtection',\n",
    "                    'TechSupport',\n",
    "                    'StreamingTV',\n",
    "                    'StreamingMovies'])"
   ]
  },
  {
   "cell_type": "code",
   "execution_count": 150,
   "id": "8b5a974a",
   "metadata": {},
   "outputs": [
    {
     "ename": "NameError",
     "evalue": "name 'df_enc_dropped' is not defined",
     "output_type": "error",
     "traceback": [
      "\u001b[0;31m---------------------------------------------------------------------------\u001b[0m",
      "\u001b[0;31mNameError\u001b[0m                                 Traceback (most recent call last)",
      "Cell \u001b[0;32mIn[150], line 1\u001b[0m\n\u001b[0;32m----> 1\u001b[0m \u001b[43mdf_enc_dropped\u001b[49m\u001b[38;5;241m.\u001b[39mcolumns\n",
      "\u001b[0;31mNameError\u001b[0m: name 'df_enc_dropped' is not defined"
     ]
    }
   ],
   "source": [
    "df_enc_dropped.columns"
   ]
  },
  {
   "cell_type": "code",
   "execution_count": null,
   "id": "871d799e",
   "metadata": {},
   "outputs": [],
   "source": [
    "df_enc_dropped.head(3)"
   ]
  },
  {
   "cell_type": "code",
   "execution_count": null,
   "id": "7be72fa9",
   "metadata": {},
   "outputs": [],
   "source": [
    "df_enc_dropped.rename(columns = \n",
    "            {0:  'Type',\n",
    "               1:  'PaperlessBilling',\n",
    "               2:     'PaymentMethod',\n",
    "               3:     'gender',\n",
    "               4:     'SeniorCitizen',\n",
    "               5:     'Partner',\n",
    "               6:     'Dependents',\n",
    "               7:     'MultipleLines',\n",
    "               8:     'InternetService',\n",
    "                    9: 'OnlineSecurity',\n",
    "                    10: 'OnlineBackup',\n",
    "                    11: 'DeviceProtection',\n",
    "                    12: 'TechSupport',\n",
    "                    13: 'StreamingTV',\n",
    "                    14: 'StreamingMovies'}, inplace=True,)"
   ]
  },
  {
   "cell_type": "code",
   "execution_count": null,
   "id": "cd3cc575",
   "metadata": {},
   "outputs": [],
   "source": [
    "df_enc_dropped.columns"
   ]
  },
  {
   "cell_type": "code",
   "execution_count": null,
   "id": "68da6a76",
   "metadata": {
    "scrolled": true
   },
   "outputs": [],
   "source": [
    "type(df_enc_dropped)"
   ]
  },
  {
   "cell_type": "code",
   "execution_count": null,
   "id": "e99c3afc",
   "metadata": {
    "scrolled": true
   },
   "outputs": [],
   "source": [
    "df_enc_dropped = df_enc_dropped.dropna().head(3)"
   ]
  },
  {
   "cell_type": "code",
   "execution_count": null,
   "id": "ab261012",
   "metadata": {
    "scrolled": true
   },
   "outputs": [],
   "source": [
    "# compute the vif for all given features\n",
    "def calc_vif(data, columns):\n",
    "    \n",
    "    X = data[columns]\n",
    "    # the calculation of variance inflation requires a constant\n",
    "    X['intercept'] = 1\n",
    "    \n",
    "    # create dataframe to store vif values\n",
    "    vif = pd.DataFrame()\n",
    "    vif[\"Variable\"] = X.columns\n",
    "    vif[\"VIF\"] = [variance_inflation_factor(X.values, i) for i in range(X.shape[1])]\n",
    "    vif = vif[vif['Variable']!='intercept']\n",
    "    return vif"
   ]
  },
  {
   "cell_type": "code",
   "execution_count": null,
   "id": "7a30c137",
   "metadata": {},
   "outputs": [],
   "source": [
    "calc_vif(df_enc_dropped, ['Type', 'PaperlessBilling', 'PaymentMethod', 'gender','SeniorCitizen','Partner',\n",
    "                          'Dependents', 'MultipleLines', 'InternetService', 'OnlineSecurity', 'OnlineBackup',\n",
    "                          'DeviceProtection', 'TechSupport', 'StreamingTV', 'StreamingMovies'])"
   ]
  },
  {
   "cell_type": "markdown",
   "id": "3dd861d5",
   "metadata": {},
   "source": [
    "### *Вывод:* Техника VIF не привела к существенным результатам, так как все показатели < 5, а значит, принять решение, какую колонку исключить, нельзя. Однако категориальных признаков по-прежнему много, обратимся к показателю Phi_K, который анализирует categorical, ordinal и интервальные переменные, демонстрируя не только линейные, но и нелинейные зависимости между признаками."
   ]
  },
  {
   "cell_type": "markdown",
   "id": "6e1baf34",
   "metadata": {},
   "source": [
    "#### 2.5.3 Поиск зависимостей между категориальными переменными с использованием [анализатора Phi_K](https://phik.readthedocs.io/en/latest/introduction.html)"
   ]
  },
  {
   "cell_type": "code",
   "execution_count": null,
   "id": "d5a3a786",
   "metadata": {},
   "outputs": [],
   "source": [
    "!pip install -q phik"
   ]
  },
  {
   "cell_type": "code",
   "execution_count": null,
   "id": "70de8fce",
   "metadata": {},
   "outputs": [],
   "source": [
    "import phik\n",
    "from phik import resources, report\n",
    "from phik.report import plot_correlation_matrix"
   ]
  },
  {
   "cell_type": "code",
   "execution_count": null,
   "id": "62ad6961",
   "metadata": {},
   "outputs": [],
   "source": [
    "df_enc_dropped = df_enc_dropped.dropna()"
   ]
  },
  {
   "cell_type": "code",
   "execution_count": null,
   "id": "640fde69",
   "metadata": {},
   "outputs": [],
   "source": [
    "phik_overview = df_enc_dropped.phik_matrix()\n",
    "phik_overview.round(2)"
   ]
  },
  {
   "cell_type": "code",
   "execution_count": null,
   "id": "c29a9f42",
   "metadata": {},
   "outputs": [],
   "source": [
    "interval_cols =['Type', 'PaperlessBilling', 'PaymentMethod', 'gender','SeniorCitizen','Partner',\n",
    "                          'Dependents', 'MultipleLines', 'InternetService', 'OnlineSecurity', 'OnlineBackup',\n",
    "                          'DeviceProtection', 'TechSupport', 'StreamingTV', 'StreamingMovies']\n",
    "phik_overview = df_enc_dropped.phik_matrix(interval_cols=interval_cols)"
   ]
  },
  {
   "cell_type": "code",
   "execution_count": null,
   "id": "9d872f97",
   "metadata": {},
   "outputs": [],
   "source": [
    "plot_correlation_matrix(phik_overview.values, \n",
    "                        x_labels=phik_overview.columns, \n",
    "                        y_labels=phik_overview.index, \n",
    "                        vmin=0, vmax=1, color_map=\"Greens\", \n",
    "                        title=r\"correlation $\\phi_K$\", \n",
    "                        fontsize_factor=1.5, \n",
    "                        figsize=(10, 10))\n",
    "plt.tight_layout();"
   ]
  },
  {
   "cell_type": "markdown",
   "id": "412bfb91",
   "metadata": {},
   "source": [
    "<div class=\"alert alert-info\"> <b>Юлия:</b>\n",
    "Не понимаю, как интерпретировать выдачу VIF, Phi_K. Признаки оставила, как есть, для дальнейшего анализа.\n",
    "</div>\n"
   ]
  },
  {
   "cell_type": "markdown",
   "id": "8e812693",
   "metadata": {},
   "source": [
    "<div class=\"alert alert-danger\">\n",
    "<b>Комментарий ревьюера V2: &#10060; </b> Пример использования <a href = \"https://towardsdatascience.com/phik-k-get-familiar-with-the-latest-correlation-coefficient-9ba0032b37e7\">Phi_k</a></div>"
   ]
  },
  {
   "cell_type": "markdown",
   "id": "84a54906",
   "metadata": {},
   "source": [
    "<div class=\"alert alert-info\"> <b>Юлия:</b>\n",
    "Числовой признак исключила, матрицу построила.\n",
    "</div>\n"
   ]
  },
  {
   "cell_type": "markdown",
   "id": "e8ab75d7",
   "metadata": {},
   "source": [
    "### *Вывод:* Категориальных признаков с высокой мультиколлинеарностью в данных нет."
   ]
  },
  {
   "cell_type": "markdown",
   "id": "3ab44d41",
   "metadata": {},
   "source": [
    "## 3 Модели\n",
    "\n",
    "### 3.1 Деление выборки на подвыборки\n",
    "\n",
    "```\n",
    "- 75% train_data\n",
    "- 25% test_data\n",
    "```"
   ]
  },
  {
   "cell_type": "code",
   "execution_count": 146,
   "id": "b2815894",
   "metadata": {},
   "outputs": [],
   "source": [
    "data = df_filled.drop(columns='customerID').copy()"
   ]
  },
  {
   "cell_type": "markdown",
   "id": "3bdb1270",
   "metadata": {},
   "source": [
    "<div class=\"alert alert-danger\">\n",
    "<b>Комментарий ревьюера V2: &#10060; </b> Стоит удалить айди и даты из итогового датафрейма </div>"
   ]
  },
  {
   "cell_type": "markdown",
   "id": "78f7a508",
   "metadata": {},
   "source": [
    "<div class=\"alert alert-info\"> <b>Юлия v2:</b>\n",
    "Построила.\n",
    "</div>\n"
   ]
  },
  {
   "cell_type": "code",
   "execution_count": 147,
   "id": "de621c6c",
   "metadata": {},
   "outputs": [
    {
     "data": {
      "text/plain": [
       "Index(['churned', 'Type', 'PaperlessBilling', 'PaymentMethod',\n",
       "       'MonthlyCharges', 'TotalCharges', 'begin_date', 'end_date', 'gender',\n",
       "       'SeniorCitizen', 'Partner', 'Dependents', 'MultipleLines',\n",
       "       'InternetService', 'OnlineSecurity', 'OnlineBackup', 'DeviceProtection',\n",
       "       'TechSupport', 'StreamingTV', 'StreamingMovies'],\n",
       "      dtype='object')"
      ]
     },
     "execution_count": 147,
     "metadata": {},
     "output_type": "execute_result"
    }
   ],
   "source": [
    "data.columns"
   ]
  },
  {
   "cell_type": "code",
   "execution_count": 149,
   "id": "a8f0c40e",
   "metadata": {},
   "outputs": [
    {
     "name": "stdout",
     "output_type": "stream",
     "text": [
      "Размер обучающей выборки: 5282\n",
      "Размер тестовой выборки: 1761\n"
     ]
    }
   ],
   "source": [
    "train_data, test_data = train_test_split(data, test_size=0.25, random_state=RANDOM_STATE)\n",
    "\n",
    "print('Размер обучающей выборки:', train_data.shape[0])\n",
    "print('Размер тестовой выборки:', test_data.shape[0])"
   ]
  },
  {
   "cell_type": "markdown",
   "id": "f7fa5f3c",
   "metadata": {},
   "source": [
    "### 3.2 Кодирование признаков (после деления выборки на подвыборки)\n",
    "\n",
    "Есть несколько способов, как кодировать переменные:\n",
    "\n",
    "- get_dummies()\n",
    "- OHE\n",
    "- OrdinalEncoding\n",
    "- LabelEncoding\n",
    "\n",
    "Мы не хотим увеличивать количество колонок, поэтому в рамках данного проекта выбираем способ *OrdinalEncoding()*."
   ]
  },
  {
   "cell_type": "code",
   "execution_count": 150,
   "id": "453ea025",
   "metadata": {},
   "outputs": [
    {
     "name": "stdout",
     "output_type": "stream",
     "text": [
      "<class 'pandas.core.frame.DataFrame'>\n",
      "Int64Index: 7043 entries, 0 to 7042\n",
      "Data columns (total 20 columns):\n",
      " #   Column            Non-Null Count  Dtype  \n",
      "---  ------            --------------  -----  \n",
      " 0   churned           7043 non-null   int64  \n",
      " 1   Type              7043 non-null   object \n",
      " 2   PaperlessBilling  7043 non-null   object \n",
      " 3   PaymentMethod     7043 non-null   object \n",
      " 4   MonthlyCharges    7043 non-null   float64\n",
      " 5   TotalCharges      7043 non-null   float64\n",
      " 6   begin_date        7043 non-null   object \n",
      " 7   end_date          7043 non-null   object \n",
      " 8   gender            7043 non-null   object \n",
      " 9   SeniorCitizen     7043 non-null   int64  \n",
      " 10  Partner           7043 non-null   object \n",
      " 11  Dependents        7043 non-null   object \n",
      " 12  MultipleLines     7043 non-null   object \n",
      " 13  InternetService   7043 non-null   object \n",
      " 14  OnlineSecurity    7043 non-null   object \n",
      " 15  OnlineBackup      7043 non-null   object \n",
      " 16  DeviceProtection  7043 non-null   object \n",
      " 17  TechSupport       7043 non-null   object \n",
      " 18  StreamingTV       7043 non-null   object \n",
      " 19  StreamingMovies   7043 non-null   object \n",
      "dtypes: float64(2), int64(2), object(16)\n",
      "memory usage: 1.4+ MB\n"
     ]
    }
   ],
   "source": [
    "data.info()"
   ]
  },
  {
   "cell_type": "markdown",
   "id": "8ec58bae",
   "metadata": {},
   "source": [
    "### Признаки, которые необходимо кодировать (только категориальные):\n",
    "```\n",
    "'Type',\n",
    "'PaperlessBilling',\n",
    "'PaymentMethod',\n",
    "'gender',\n",
    "'Partner',\n",
    "'Dependents',\n",
    "'MultipleLines',\n",
    "'InternetService',\n",
    "'OnlineSecurity',\n",
    "'OnlineBackup',\n",
    "'DeviceProtection',\n",
    "'TechSupport',\n",
    "'StreamingTV',\n",
    "'StreamingMovies'\n",
    "\n",
    "```"
   ]
  },
  {
   "cell_type": "code",
   "execution_count": 151,
   "id": "e4ab0c30",
   "metadata": {},
   "outputs": [],
   "source": [
    "# define ordinal encoding\n",
    "ordinalencoder = OrdinalEncoder()"
   ]
  },
  {
   "cell_type": "code",
   "execution_count": 154,
   "id": "6d0c47f2",
   "metadata": {},
   "outputs": [
    {
     "name": "stdout",
     "output_type": "stream",
     "text": [
      "<class 'pandas.core.frame.DataFrame'>\n"
     ]
    },
    {
     "data": {
      "text/html": [
       "<div>\n",
       "<style scoped>\n",
       "    .dataframe tbody tr th:only-of-type {\n",
       "        vertical-align: middle;\n",
       "    }\n",
       "\n",
       "    .dataframe tbody tr th {\n",
       "        vertical-align: top;\n",
       "    }\n",
       "\n",
       "    .dataframe thead th {\n",
       "        text-align: right;\n",
       "    }\n",
       "</style>\n",
       "<table border=\"1\" class=\"dataframe\">\n",
       "  <thead>\n",
       "    <tr style=\"text-align: right;\">\n",
       "      <th></th>\n",
       "      <th>0</th>\n",
       "      <th>1</th>\n",
       "      <th>2</th>\n",
       "      <th>3</th>\n",
       "      <th>4</th>\n",
       "      <th>5</th>\n",
       "      <th>6</th>\n",
       "      <th>7</th>\n",
       "      <th>8</th>\n",
       "      <th>9</th>\n",
       "      <th>10</th>\n",
       "      <th>11</th>\n",
       "      <th>12</th>\n",
       "      <th>13</th>\n",
       "    </tr>\n",
       "  </thead>\n",
       "  <tbody>\n",
       "    <tr>\n",
       "      <th>0</th>\n",
       "      <td>0.0</td>\n",
       "      <td>0.0</td>\n",
       "      <td>3.0</td>\n",
       "      <td>0.0</td>\n",
       "      <td>0.0</td>\n",
       "      <td>0.0</td>\n",
       "      <td>0.0</td>\n",
       "      <td>1.0</td>\n",
       "      <td>0.0</td>\n",
       "      <td>0.0</td>\n",
       "      <td>0.0</td>\n",
       "      <td>0.0</td>\n",
       "      <td>0.0</td>\n",
       "      <td>0.0</td>\n",
       "    </tr>\n",
       "    <tr>\n",
       "      <th>1</th>\n",
       "      <td>0.0</td>\n",
       "      <td>1.0</td>\n",
       "      <td>2.0</td>\n",
       "      <td>0.0</td>\n",
       "      <td>0.0</td>\n",
       "      <td>0.0</td>\n",
       "      <td>1.0</td>\n",
       "      <td>1.0</td>\n",
       "      <td>0.0</td>\n",
       "      <td>1.0</td>\n",
       "      <td>1.0</td>\n",
       "      <td>0.0</td>\n",
       "      <td>1.0</td>\n",
       "      <td>1.0</td>\n",
       "    </tr>\n",
       "    <tr>\n",
       "      <th>2</th>\n",
       "      <td>2.0</td>\n",
       "      <td>0.0</td>\n",
       "      <td>3.0</td>\n",
       "      <td>0.0</td>\n",
       "      <td>1.0</td>\n",
       "      <td>0.0</td>\n",
       "      <td>1.0</td>\n",
       "      <td>1.0</td>\n",
       "      <td>1.0</td>\n",
       "      <td>1.0</td>\n",
       "      <td>1.0</td>\n",
       "      <td>1.0</td>\n",
       "      <td>1.0</td>\n",
       "      <td>1.0</td>\n",
       "    </tr>\n",
       "  </tbody>\n",
       "</table>\n",
       "</div>"
      ],
      "text/plain": [
       "    0    1    2    3    4    5    6    7    8    9    10   11   12   13\n",
       "0  0.0  0.0  3.0  0.0  0.0  0.0  0.0  1.0  0.0  0.0  0.0  0.0  0.0  0.0\n",
       "1  0.0  1.0  2.0  0.0  0.0  0.0  1.0  1.0  0.0  1.0  1.0  0.0  1.0  1.0\n",
       "2  2.0  0.0  3.0  0.0  1.0  0.0  1.0  1.0  1.0  1.0  1.0  1.0  1.0  1.0"
      ]
     },
     "execution_count": 154,
     "metadata": {},
     "output_type": "execute_result"
    }
   ],
   "source": [
    "# transform data\n",
    "result_train = ordinalencoder.set_params(encoded_missing_value=-1).fit_transform(train_data[['Type',\n",
    "                                            'PaperlessBilling',\n",
    "                                            'PaymentMethod',\n",
    "                                            'gender',\n",
    "                                            'Partner',\n",
    "                                            'Dependents',\n",
    "                                            'MultipleLines',\n",
    "                                            'InternetService',\n",
    "                                            'OnlineSecurity',\n",
    "                                            'OnlineBackup',\n",
    "                                            'DeviceProtection',\n",
    "                                            'TechSupport',\n",
    "                                            'StreamingTV',\n",
    "                                            'StreamingMovies']])\n",
    "\n",
    "result_train = pd.DataFrame(result_train)\n",
    "\n",
    "print(type(result_train))\n",
    "result_train.head(3)"
   ]
  },
  {
   "cell_type": "code",
   "execution_count": null,
   "id": "6cf7da47",
   "metadata": {},
   "outputs": [],
   "source": [
    "# transform data\n",
    "result_test = ordinalencoder.set_params(encoded_missing_value=-1).transform(test_data[['Type',\n",
    "                                            'PaperlessBilling',\n",
    "                                            'PaymentMethod',\n",
    "                                            'gender',\n",
    "                                            'Partner',\n",
    "                                            'Dependents',\n",
    "                                            'MultipleLines',\n",
    "                                            'InternetService',\n",
    "                                            'OnlineSecurity',\n",
    "                                            'OnlineBackup',\n",
    "                                            'DeviceProtection',\n",
    "                                            'TechSupport',\n",
    "                                            'StreamingTV',\n",
    "                                            'StreamingMovies']])\n",
    "\n",
    "result_test = pd.DataFrame(result_test)\n",
    "\n",
    "print(type(result_train))\n",
    "result_train.head(3)"
   ]
  },
  {
   "cell_type": "markdown",
   "id": "fe6e3648",
   "metadata": {},
   "source": [
    "<div class=\"alert alert-danger\">\n",
    "<b>Комментарий ревьюера: &#10060; </b> Кодирование и масштабирование признаков производится только после разбиения на трейн и тест, так же численные признаки не надо кодировать</div>"
   ]
  },
  {
   "cell_type": "markdown",
   "id": "2eba1bef",
   "metadata": {},
   "source": [
    "<div class=\"alert alert-danger\">\n",
    "<b>Комментарий ревьюера V2: &#10060; </b> Не совсем так, на трейне fit_transform, на тесте - transform</div>"
   ]
  },
  {
   "cell_type": "markdown",
   "id": "7788ab0b",
   "metadata": {},
   "source": [
    "<div class=\"alert alert-info\"> <b>Юлия:</b>\n",
    "Поправила.\n",
    "</div>\n"
   ]
  },
  {
   "cell_type": "code",
   "execution_count": 155,
   "id": "a78543f2",
   "metadata": {},
   "outputs": [],
   "source": [
    "# объединим закодированные колонки и наш основной датасет (с удаленными категориальными признаками)\n",
    "train_enc = train_data.join(result_train)"
   ]
  },
  {
   "cell_type": "code",
   "execution_count": null,
   "id": "fcad62dc",
   "metadata": {},
   "outputs": [],
   "source": [
    "# объединим закодированные колонки и наш основной датасет (с удаленными категориальными признаками)\n",
    "test_enc = test_data.join(result_test)"
   ]
  },
  {
   "cell_type": "code",
   "execution_count": 156,
   "id": "0dcc5fec",
   "metadata": {},
   "outputs": [
    {
     "data": {
      "text/html": [
       "<div>\n",
       "<style scoped>\n",
       "    .dataframe tbody tr th:only-of-type {\n",
       "        vertical-align: middle;\n",
       "    }\n",
       "\n",
       "    .dataframe tbody tr th {\n",
       "        vertical-align: top;\n",
       "    }\n",
       "\n",
       "    .dataframe thead th {\n",
       "        text-align: right;\n",
       "    }\n",
       "</style>\n",
       "<table border=\"1\" class=\"dataframe\">\n",
       "  <thead>\n",
       "    <tr style=\"text-align: right;\">\n",
       "      <th></th>\n",
       "      <th>churned</th>\n",
       "      <th>MonthlyCharges</th>\n",
       "      <th>TotalCharges</th>\n",
       "      <th>begin_date</th>\n",
       "      <th>end_date</th>\n",
       "      <th>SeniorCitizen</th>\n",
       "      <th>0</th>\n",
       "      <th>1</th>\n",
       "      <th>2</th>\n",
       "      <th>3</th>\n",
       "      <th>4</th>\n",
       "      <th>5</th>\n",
       "      <th>6</th>\n",
       "      <th>7</th>\n",
       "      <th>8</th>\n",
       "      <th>9</th>\n",
       "      <th>10</th>\n",
       "      <th>11</th>\n",
       "      <th>12</th>\n",
       "      <th>13</th>\n",
       "    </tr>\n",
       "  </thead>\n",
       "  <tbody>\n",
       "    <tr>\n",
       "      <th>4476</th>\n",
       "      <td>0</td>\n",
       "      <td>20.90</td>\n",
       "      <td>20.0</td>\n",
       "      <td>2019-09-01</td>\n",
       "      <td>2019-10-01</td>\n",
       "      <td>0</td>\n",
       "      <td>0.0</td>\n",
       "      <td>0.0</td>\n",
       "      <td>3.0</td>\n",
       "      <td>0.0</td>\n",
       "      <td>1.0</td>\n",
       "      <td>1.0</td>\n",
       "      <td>0.0</td>\n",
       "      <td>1.0</td>\n",
       "      <td>0.0</td>\n",
       "      <td>0.0</td>\n",
       "      <td>0.0</td>\n",
       "      <td>0.0</td>\n",
       "      <td>0.0</td>\n",
       "      <td>0.0</td>\n",
       "    </tr>\n",
       "    <tr>\n",
       "      <th>2474</th>\n",
       "      <td>1</td>\n",
       "      <td>106.35</td>\n",
       "      <td>4849.0</td>\n",
       "      <td>2016-03-01</td>\n",
       "      <td>2020-02-01</td>\n",
       "      <td>0</td>\n",
       "      <td>0.0</td>\n",
       "      <td>1.0</td>\n",
       "      <td>3.0</td>\n",
       "      <td>1.0</td>\n",
       "      <td>1.0</td>\n",
       "      <td>0.0</td>\n",
       "      <td>0.0</td>\n",
       "      <td>0.0</td>\n",
       "      <td>0.0</td>\n",
       "      <td>0.0</td>\n",
       "      <td>1.0</td>\n",
       "      <td>0.0</td>\n",
       "      <td>1.0</td>\n",
       "      <td>1.0</td>\n",
       "    </tr>\n",
       "    <tr>\n",
       "      <th>6077</th>\n",
       "      <td>1</td>\n",
       "      <td>113.95</td>\n",
       "      <td>6891.0</td>\n",
       "      <td>2014-12-01</td>\n",
       "      <td>2020-02-01</td>\n",
       "      <td>0</td>\n",
       "      <td>NaN</td>\n",
       "      <td>NaN</td>\n",
       "      <td>NaN</td>\n",
       "      <td>NaN</td>\n",
       "      <td>NaN</td>\n",
       "      <td>NaN</td>\n",
       "      <td>NaN</td>\n",
       "      <td>NaN</td>\n",
       "      <td>NaN</td>\n",
       "      <td>NaN</td>\n",
       "      <td>NaN</td>\n",
       "      <td>NaN</td>\n",
       "      <td>NaN</td>\n",
       "      <td>NaN</td>\n",
       "    </tr>\n",
       "    <tr>\n",
       "      <th>2263</th>\n",
       "      <td>0</td>\n",
       "      <td>98.15</td>\n",
       "      <td>567.0</td>\n",
       "      <td>2019-05-01</td>\n",
       "      <td>2019-11-01</td>\n",
       "      <td>0</td>\n",
       "      <td>2.0</td>\n",
       "      <td>0.0</td>\n",
       "      <td>0.0</td>\n",
       "      <td>0.0</td>\n",
       "      <td>1.0</td>\n",
       "      <td>1.0</td>\n",
       "      <td>0.0</td>\n",
       "      <td>1.0</td>\n",
       "      <td>0.0</td>\n",
       "      <td>0.0</td>\n",
       "      <td>0.0</td>\n",
       "      <td>0.0</td>\n",
       "      <td>0.0</td>\n",
       "      <td>0.0</td>\n",
       "    </tr>\n",
       "    <tr>\n",
       "      <th>6731</th>\n",
       "      <td>1</td>\n",
       "      <td>19.55</td>\n",
       "      <td>470.0</td>\n",
       "      <td>2018-02-01</td>\n",
       "      <td>2020-02-01</td>\n",
       "      <td>0</td>\n",
       "      <td>NaN</td>\n",
       "      <td>NaN</td>\n",
       "      <td>NaN</td>\n",
       "      <td>NaN</td>\n",
       "      <td>NaN</td>\n",
       "      <td>NaN</td>\n",
       "      <td>NaN</td>\n",
       "      <td>NaN</td>\n",
       "      <td>NaN</td>\n",
       "      <td>NaN</td>\n",
       "      <td>NaN</td>\n",
       "      <td>NaN</td>\n",
       "      <td>NaN</td>\n",
       "      <td>NaN</td>\n",
       "    </tr>\n",
       "    <tr>\n",
       "      <th>...</th>\n",
       "      <td>...</td>\n",
       "      <td>...</td>\n",
       "      <td>...</td>\n",
       "      <td>...</td>\n",
       "      <td>...</td>\n",
       "      <td>...</td>\n",
       "      <td>...</td>\n",
       "      <td>...</td>\n",
       "      <td>...</td>\n",
       "      <td>...</td>\n",
       "      <td>...</td>\n",
       "      <td>...</td>\n",
       "      <td>...</td>\n",
       "      <td>...</td>\n",
       "      <td>...</td>\n",
       "      <td>...</td>\n",
       "      <td>...</td>\n",
       "      <td>...</td>\n",
       "      <td>...</td>\n",
       "      <td>...</td>\n",
       "    </tr>\n",
       "    <tr>\n",
       "      <th>4441</th>\n",
       "      <td>1</td>\n",
       "      <td>20.25</td>\n",
       "      <td>835.0</td>\n",
       "      <td>2016-08-01</td>\n",
       "      <td>2020-02-01</td>\n",
       "      <td>0</td>\n",
       "      <td>0.0</td>\n",
       "      <td>0.0</td>\n",
       "      <td>3.0</td>\n",
       "      <td>0.0</td>\n",
       "      <td>1.0</td>\n",
       "      <td>1.0</td>\n",
       "      <td>0.0</td>\n",
       "      <td>1.0</td>\n",
       "      <td>0.0</td>\n",
       "      <td>0.0</td>\n",
       "      <td>0.0</td>\n",
       "      <td>0.0</td>\n",
       "      <td>0.0</td>\n",
       "      <td>0.0</td>\n",
       "    </tr>\n",
       "    <tr>\n",
       "      <th>2251</th>\n",
       "      <td>1</td>\n",
       "      <td>69.35</td>\n",
       "      <td>712.0</td>\n",
       "      <td>2019-03-01</td>\n",
       "      <td>2020-02-01</td>\n",
       "      <td>0</td>\n",
       "      <td>0.0</td>\n",
       "      <td>1.0</td>\n",
       "      <td>3.0</td>\n",
       "      <td>1.0</td>\n",
       "      <td>1.0</td>\n",
       "      <td>0.0</td>\n",
       "      <td>0.0</td>\n",
       "      <td>0.0</td>\n",
       "      <td>0.0</td>\n",
       "      <td>1.0</td>\n",
       "      <td>0.0</td>\n",
       "      <td>0.0</td>\n",
       "      <td>0.0</td>\n",
       "      <td>0.0</td>\n",
       "    </tr>\n",
       "    <tr>\n",
       "      <th>1664</th>\n",
       "      <td>0</td>\n",
       "      <td>96.05</td>\n",
       "      <td>4399.0</td>\n",
       "      <td>2015-12-01</td>\n",
       "      <td>2019-10-01</td>\n",
       "      <td>0</td>\n",
       "      <td>1.0</td>\n",
       "      <td>1.0</td>\n",
       "      <td>1.0</td>\n",
       "      <td>1.0</td>\n",
       "      <td>0.0</td>\n",
       "      <td>0.0</td>\n",
       "      <td>0.0</td>\n",
       "      <td>0.0</td>\n",
       "      <td>1.0</td>\n",
       "      <td>0.0</td>\n",
       "      <td>1.0</td>\n",
       "      <td>0.0</td>\n",
       "      <td>0.0</td>\n",
       "      <td>0.0</td>\n",
       "    </tr>\n",
       "    <tr>\n",
       "      <th>6787</th>\n",
       "      <td>1</td>\n",
       "      <td>109.95</td>\n",
       "      <td>3782.0</td>\n",
       "      <td>2017-03-01</td>\n",
       "      <td>2020-02-01</td>\n",
       "      <td>0</td>\n",
       "      <td>NaN</td>\n",
       "      <td>NaN</td>\n",
       "      <td>NaN</td>\n",
       "      <td>NaN</td>\n",
       "      <td>NaN</td>\n",
       "      <td>NaN</td>\n",
       "      <td>NaN</td>\n",
       "      <td>NaN</td>\n",
       "      <td>NaN</td>\n",
       "      <td>NaN</td>\n",
       "      <td>NaN</td>\n",
       "      <td>NaN</td>\n",
       "      <td>NaN</td>\n",
       "      <td>NaN</td>\n",
       "    </tr>\n",
       "    <tr>\n",
       "      <th>6367</th>\n",
       "      <td>1</td>\n",
       "      <td>48.40</td>\n",
       "      <td>3442.0</td>\n",
       "      <td>2014-04-01</td>\n",
       "      <td>2020-02-01</td>\n",
       "      <td>0</td>\n",
       "      <td>NaN</td>\n",
       "      <td>NaN</td>\n",
       "      <td>NaN</td>\n",
       "      <td>NaN</td>\n",
       "      <td>NaN</td>\n",
       "      <td>NaN</td>\n",
       "      <td>NaN</td>\n",
       "      <td>NaN</td>\n",
       "      <td>NaN</td>\n",
       "      <td>NaN</td>\n",
       "      <td>NaN</td>\n",
       "      <td>NaN</td>\n",
       "      <td>NaN</td>\n",
       "      <td>NaN</td>\n",
       "    </tr>\n",
       "  </tbody>\n",
       "</table>\n",
       "<p>5282 rows × 20 columns</p>\n",
       "</div>"
      ],
      "text/plain": [
       "      churned  MonthlyCharges  TotalCharges  begin_date    end_date  \\\n",
       "4476        0           20.90          20.0  2019-09-01  2019-10-01   \n",
       "2474        1          106.35        4849.0  2016-03-01  2020-02-01   \n",
       "6077        1          113.95        6891.0  2014-12-01  2020-02-01   \n",
       "2263        0           98.15         567.0  2019-05-01  2019-11-01   \n",
       "6731        1           19.55         470.0  2018-02-01  2020-02-01   \n",
       "...       ...             ...           ...         ...         ...   \n",
       "4441        1           20.25         835.0  2016-08-01  2020-02-01   \n",
       "2251        1           69.35         712.0  2019-03-01  2020-02-01   \n",
       "1664        0           96.05        4399.0  2015-12-01  2019-10-01   \n",
       "6787        1          109.95        3782.0  2017-03-01  2020-02-01   \n",
       "6367        1           48.40        3442.0  2014-04-01  2020-02-01   \n",
       "\n",
       "      SeniorCitizen    0    1    2    3    4    5    6    7    8    9   10  \\\n",
       "4476              0  0.0  0.0  3.0  0.0  1.0  1.0  0.0  1.0  0.0  0.0  0.0   \n",
       "2474              0  0.0  1.0  3.0  1.0  1.0  0.0  0.0  0.0  0.0  0.0  1.0   \n",
       "6077              0  NaN  NaN  NaN  NaN  NaN  NaN  NaN  NaN  NaN  NaN  NaN   \n",
       "2263              0  2.0  0.0  0.0  0.0  1.0  1.0  0.0  1.0  0.0  0.0  0.0   \n",
       "6731              0  NaN  NaN  NaN  NaN  NaN  NaN  NaN  NaN  NaN  NaN  NaN   \n",
       "...             ...  ...  ...  ...  ...  ...  ...  ...  ...  ...  ...  ...   \n",
       "4441              0  0.0  0.0  3.0  0.0  1.0  1.0  0.0  1.0  0.0  0.0  0.0   \n",
       "2251              0  0.0  1.0  3.0  1.0  1.0  0.0  0.0  0.0  0.0  1.0  0.0   \n",
       "1664              0  1.0  1.0  1.0  1.0  0.0  0.0  0.0  0.0  1.0  0.0  1.0   \n",
       "6787              0  NaN  NaN  NaN  NaN  NaN  NaN  NaN  NaN  NaN  NaN  NaN   \n",
       "6367              0  NaN  NaN  NaN  NaN  NaN  NaN  NaN  NaN  NaN  NaN  NaN   \n",
       "\n",
       "       11   12   13  \n",
       "4476  0.0  0.0  0.0  \n",
       "2474  0.0  1.0  1.0  \n",
       "6077  NaN  NaN  NaN  \n",
       "2263  0.0  0.0  0.0  \n",
       "6731  NaN  NaN  NaN  \n",
       "...   ...  ...  ...  \n",
       "4441  0.0  0.0  0.0  \n",
       "2251  0.0  0.0  0.0  \n",
       "1664  0.0  0.0  0.0  \n",
       "6787  NaN  NaN  NaN  \n",
       "6367  NaN  NaN  NaN  \n",
       "\n",
       "[5282 rows x 20 columns]"
      ]
     },
     "execution_count": 156,
     "metadata": {},
     "output_type": "execute_result"
    }
   ],
   "source": [
    "# удалим колонки, которые хотим кодировать\n",
    "train_dropped = train_enc.drop(['Type','PaperlessBilling',\n",
    "                                            'PaymentMethod',\n",
    "                                            'gender',\n",
    "                                            'Partner',\n",
    "                                            'Dependents',\n",
    "                                            'MultipleLines',\n",
    "                                            'InternetService',\n",
    "                                            'OnlineSecurity',\n",
    "                                            'OnlineBackup',\n",
    "                                            'DeviceProtection',\n",
    "                                            'TechSupport',\n",
    "                                            'StreamingTV',\n",
    "                                            'StreamingMovies'], axis=1)\n",
    "train_dropped"
   ]
  },
  {
   "cell_type": "code",
   "execution_count": null,
   "id": "993d2a52",
   "metadata": {},
   "outputs": [],
   "source": [
    "# удалим колонки, которые хотим кодировать\n",
    "test_dropped = test_enc.drop(['Type','PaperlessBilling',\n",
    "                                            'PaymentMethod',\n",
    "                                            'gender',\n",
    "                                            'Partner',\n",
    "                                            'Dependents',\n",
    "                                            'MultipleLines',\n",
    "                                            'InternetService',\n",
    "                                            'OnlineSecurity',\n",
    "                                            'OnlineBackup',\n",
    "                                            'DeviceProtection',\n",
    "                                            'TechSupport',\n",
    "                                            'StreamingTV',\n",
    "                                            'StreamingMovies'], axis=1)\n",
    "test_dropped"
   ]
  },
  {
   "cell_type": "code",
   "execution_count": 157,
   "id": "60ee80c0",
   "metadata": {},
   "outputs": [
    {
     "data": {
      "text/plain": [
       "(5282, 20)"
      ]
     },
     "execution_count": 157,
     "metadata": {},
     "output_type": "execute_result"
    }
   ],
   "source": [
    "train_dropped.shape"
   ]
  },
  {
   "cell_type": "code",
   "execution_count": null,
   "id": "371897ed",
   "metadata": {},
   "outputs": [],
   "source": [
    "test_dropped.shape"
   ]
  },
  {
   "cell_type": "code",
   "execution_count": null,
   "id": "991c00c0",
   "metadata": {},
   "outputs": [],
   "source": [
    "train_dropped.isna().sum()"
   ]
  },
  {
   "cell_type": "code",
   "execution_count": null,
   "id": "e14f62dd",
   "metadata": {
    "scrolled": true
   },
   "outputs": [],
   "source": [
    "test_dropped.isna().sum()"
   ]
  },
  {
   "cell_type": "code",
   "execution_count": null,
   "id": "cbbeab2d",
   "metadata": {},
   "outputs": [],
   "source": [
    "train_dropped = train_dropped.dropna()"
   ]
  },
  {
   "cell_type": "code",
   "execution_count": null,
   "id": "2e9dbb62",
   "metadata": {},
   "outputs": [],
   "source": [
    "test_dropped = test_dropped.dropna()"
   ]
  },
  {
   "cell_type": "code",
   "execution_count": null,
   "id": "56aac8ee",
   "metadata": {},
   "outputs": [],
   "source": [
    "train_dropped.isna().sum()"
   ]
  },
  {
   "cell_type": "code",
   "execution_count": null,
   "id": "187728e2",
   "metadata": {},
   "outputs": [],
   "source": [
    "test_dropped.isna().sum()"
   ]
  },
  {
   "cell_type": "markdown",
   "id": "13dcc039",
   "metadata": {},
   "source": [
    "### 3.3 После кодирования категориальных переменных выделяем `X, y` для обучения и тестирования моделей"
   ]
  },
  {
   "cell_type": "code",
   "execution_count": null,
   "id": "06c9236f",
   "metadata": {},
   "outputs": [],
   "source": [
    "X_train = train_dropped.drop(['churned'], axis=1)\n",
    "y_train = train_dropped['churned']\n",
    "\n",
    "X_test = test_dropped.drop(['churned'], axis=1)\n",
    "y_test = test_dropped['churned']\n",
    "\n",
    "print('Обучающая выборка (признаки):', X_train.shape[0])\n",
    "print('Обучающая выборка (таргет)', y_train.shape[0])\n",
    "print()\n",
    "print('Тестовая выборка (признаки):', X_test.shape[0])\n",
    "print('Тестовая выборка (таргет)', y_test.shape[0])"
   ]
  },
  {
   "cell_type": "markdown",
   "id": "d0c54bab",
   "metadata": {},
   "source": [
    "### 3.4 Масштабирование признаков"
   ]
  },
  {
   "cell_type": "code",
   "execution_count": null,
   "id": "e1888904",
   "metadata": {},
   "outputs": [],
   "source": [
    "from sklearn.preprocessing import MinMaxScaler"
   ]
  },
  {
   "cell_type": "code",
   "execution_count": null,
   "id": "3e32c0b6",
   "metadata": {},
   "outputs": [],
   "source": [
    "X_train_n = X_train.drop(columns=['begin_date', 'end_date'])"
   ]
  },
  {
   "cell_type": "code",
   "execution_count": null,
   "id": "2bf5100d",
   "metadata": {},
   "outputs": [],
   "source": [
    "X_test_n = X_test.drop(columns=['begin_date', 'end_date'])"
   ]
  },
  {
   "cell_type": "code",
   "execution_count": null,
   "id": "fb58222b",
   "metadata": {},
   "outputs": [],
   "source": [
    "# вычисляем минимум и максимум по обучающим данным\n",
    "scaler_train = MinMaxScaler().fit(X_train_n)"
   ]
  },
  {
   "cell_type": "code",
   "execution_count": null,
   "id": "8ec2e0dd",
   "metadata": {},
   "outputs": [],
   "source": [
    "# вычисляем минимум и максимум по тестовым данным\n",
    "scaler_test = MinMaxScaler().fit(X_test_n)"
   ]
  },
  {
   "cell_type": "code",
   "execution_count": null,
   "id": "31419b25",
   "metadata": {},
   "outputs": [],
   "source": [
    "# масштабируем обучающие данные\n",
    "X_train_scaled = scaler_train.transform(X_train_n)"
   ]
  },
  {
   "cell_type": "code",
   "execution_count": null,
   "id": "6a393b2a",
   "metadata": {},
   "outputs": [],
   "source": [
    "# масштабируем тестовые данные и оцениваем качество на масштабированных данных\n",
    "X_test_scaled = scaler_test.transform(X_test_n)"
   ]
  },
  {
   "cell_type": "markdown",
   "id": "dddbf44e",
   "metadata": {},
   "source": [
    "### *Вывод:* Данные готовы для обучения моделей: пропуски заполнены, признаки проверены на мультиколлинеарность, выделены подвыборки (трейн, тест), выделен целевой признак, категориальные данные закодированы, числовые признаки приведены к единому масштабу."
   ]
  },
  {
   "cell_type": "markdown",
   "id": "5e8a022a",
   "metadata": {},
   "source": [
    "## 4 Модели"
   ]
  },
  {
   "cell_type": "markdown",
   "id": "b989889e",
   "metadata": {},
   "source": [
    "### 4.4.1 Decision Tree\n",
    "https://scikit-learn.org/stable/modules/generated/sklearn.tree.DecisionTreeClassifier.html"
   ]
  },
  {
   "cell_type": "code",
   "execution_count": null,
   "id": "f06db6e2",
   "metadata": {},
   "outputs": [],
   "source": [
    "%%time\n",
    "# Initiating and building Decision Tree model\n",
    "parameters_dt = {\n",
    "    'max_depth': [2, 3, 4, 5],\n",
    "    'splitter': ['best', 'random'],\n",
    "    'criterion': ['gini', 'entropy', 'log_loss']\n",
    "}\n",
    "\n",
    "dt = DecisionTreeClassifier()\n",
    "grid_DT = GridSearchCV(dt, param_grid=parameters_dt)\n",
    "best_decision_tree_model = grid_DT.fit(X_train_scaled, y_train)\n",
    "print('Наилучшие параметры для Decision Tree: {}'.format(best_decision_tree_model.best_params_))"
   ]
  },
  {
   "cell_type": "markdown",
   "id": "36260b8e",
   "metadata": {},
   "source": [
    "### 4.4.2 Random Forest\n",
    "https://scikit-learn.org/stable/modules/generated/sklearn.ensemble.RandomForestClassifier.html"
   ]
  },
  {
   "cell_type": "code",
   "execution_count": null,
   "id": "02bff188",
   "metadata": {},
   "outputs": [],
   "source": [
    "%%time\n",
    "# Initiating and building Random Forest Regressor model\n",
    "parameters_rf = {\n",
    "    'n_estimators': [5, 10, 20],\n",
    "    'max_depth': [3, 7, 9],\n",
    "    'criterion': ['gini', 'entropy', 'log_loss'],\n",
    "}\n",
    "\n",
    "rf_model = RandomForestClassifier()\n",
    "grid_RF = GridSearchCV(estimator=rf_model, param_grid=parameters_rf)\n",
    "best_random_forest_model = grid_RF.fit(X_train_scaled, y_train)\n",
    "print('Наилучшие параметры для Random Forest: {}'.format(best_random_forest_model.best_params_))"
   ]
  },
  {
   "cell_type": "markdown",
   "id": "8e6a3b87",
   "metadata": {},
   "source": [
    "### 4.4.3 Gradient Boosting\n",
    "\n",
    "https://scikit-learn.org/stable/modules/generated/sklearn.ensemble.GradientBoostingClassifier.html\n",
    "\n",
    "https://medium.com/all-things-ai/in-depth-parameter-tuning-for-gradient-boosting-3363992e9bae"
   ]
  },
  {
   "cell_type": "code",
   "execution_count": null,
   "id": "edca992f",
   "metadata": {},
   "outputs": [],
   "source": [
    "%%time\n",
    "param_grid={'n_estimators':[5,10], \n",
    "            'learning_rate': [0.1,0.04,0.05,0.02],\n",
    "            'max_depth':[4], \n",
    "            'min_samples_leaf':[3], \n",
    "            'max_features':[1.0] } \n",
    "n_jobs=4\n",
    "\n",
    "estimator = GradientBoostingClassifier() \n",
    "gb_classifier = GridSearchCV(estimator=estimator, \n",
    "                          cv=5, \n",
    "                          param_grid=param_grid, \n",
    "                          n_jobs=n_jobs)\n",
    "    \n",
    "best_gb_model = gb_classifier.fit(X_train_scaled, y_train)\n",
    "print('Наилучшие параметры для Gradient Descent: {}'.format(best_gb_model.best_params_))"
   ]
  },
  {
   "cell_type": "code",
   "execution_count": null,
   "id": "d5e177e0",
   "metadata": {},
   "outputs": [],
   "source": [
    "print(best_gb_model.best_estimator_)"
   ]
  },
  {
   "cell_type": "markdown",
   "id": "8afc784c",
   "metadata": {},
   "source": [
    "### 4.4.4 Сравнение качества моделей по кросс-валидации: "
   ]
  },
  {
   "cell_type": "markdown",
   "id": "3db57b5e",
   "metadata": {},
   "source": [
    "- **Decision Tree**"
   ]
  },
  {
   "cell_type": "code",
   "execution_count": null,
   "id": "34ca2222",
   "metadata": {},
   "outputs": [],
   "source": [
    "best_score_dt = round(best_decision_tree_model.best_score_, 5)\n",
    "print('Best score Decision Tree: {}'.format(best_score_dt))"
   ]
  },
  {
   "cell_type": "code",
   "execution_count": null,
   "id": "e627fc35",
   "metadata": {},
   "outputs": [],
   "source": [
    "train_predicted_dt = best_decision_tree_model.predict(X_train_scaled)\n",
    "print(\"TRAIN Decision Tree Model, F1:\", f1_score(y_train, train_predicted_dt))"
   ]
  },
  {
   "cell_type": "code",
   "execution_count": null,
   "id": "7e5ec602",
   "metadata": {},
   "outputs": [],
   "source": [
    "probabilities_train_dt = best_decision_tree_model.predict_proba(X_train_scaled)\n",
    "probabilities_one_train_dt = probabilities_train_dt[:, 1]\n",
    "\n",
    "fpr, tpr, thresholds = roc_curve(y_train, probabilities_one_train_dt)\n",
    "\n",
    "plt.figure()\n",
    "\n",
    "# ROC-кривая случайной модели (выглядит как прямая)\n",
    "plt.plot([0, 1], [0, 1], linestyle='--')\n",
    "plt.plot(fpr, tpr)\n",
    "\n",
    "# < применим функции plt.xlim() и plt.ylim(), чтобы\n",
    "#   установим границы осей от 0 до 1 >\n",
    "plt.xlim([0.0, 1.0])\n",
    "plt.ylim([0.0, 1.0])\n",
    "\n",
    "# < применим функции plt.xlabel() и plt.ylabel(), чтобы\n",
    "#   подпишем оси \"False Positive Rate\" и \"True Positive Rate\" >\n",
    "plt.xlabel('False Positive Rate')\n",
    "plt.ylabel('True Positive Rate')\n",
    "\n",
    "# добавим к графику заголовок \"ROC-кривая\" функцией plt.title() >\n",
    "plt.title('ROC for Decision Tree (train data)')\n",
    "plt.show();"
   ]
  },
  {
   "cell_type": "code",
   "execution_count": null,
   "id": "c04faa5a",
   "metadata": {},
   "outputs": [],
   "source": [
    "auc_roc_dt = roc_auc_score(y_train, probabilities_one_train_dt)\n",
    "print(f'Decision Tree // model 1 AUC score: {auc_roc_dt}')"
   ]
  },
  {
   "cell_type": "markdown",
   "id": "649d4277",
   "metadata": {},
   "source": [
    "- **Random Forest**"
   ]
  },
  {
   "cell_type": "code",
   "execution_count": null,
   "id": "e3ba2b6f",
   "metadata": {},
   "outputs": [],
   "source": [
    "best_score_rf = round(best_random_forest_model.best_score_, 5)\n",
    "print('Best score Random Forest: {}'.format(best_score_rf))"
   ]
  },
  {
   "cell_type": "code",
   "execution_count": null,
   "id": "a5e1e113",
   "metadata": {},
   "outputs": [],
   "source": [
    "train_predicted_rf = best_random_forest_model.predict(X_train_scaled)\n",
    "print(\"TRAIN Random Forest Model, F1:\", f1_score(y_train, train_predicted_rf))"
   ]
  },
  {
   "cell_type": "code",
   "execution_count": null,
   "id": "3a62dc04",
   "metadata": {},
   "outputs": [],
   "source": [
    "probabilities_train_rf = best_random_forest_model.predict_proba(X_train_scaled)\n",
    "probabilities_one_train_rf = probabilities_train_rf[:, 1]\n",
    "\n",
    "fpr, tpr, thresholds = roc_curve(y_train, probabilities_one_train_rf)\n",
    "\n",
    "plt.figure()\n",
    "\n",
    "# ROC-кривая случайной модели (выглядит как прямая)\n",
    "plt.plot([0, 1], [0, 1], linestyle='--')\n",
    "plt.plot(fpr, tpr)\n",
    "\n",
    "# < применим функции plt.xlim() и plt.ylim(), чтобы\n",
    "#   установим границы осей от 0 до 1 >\n",
    "plt.xlim([0.0, 1.0])\n",
    "plt.ylim([0.0, 1.0])\n",
    "\n",
    "# < применим функции plt.xlabel() и plt.ylabel(), чтобы\n",
    "#   подпишем оси \"False Positive Rate\" и \"True Positive Rate\" >\n",
    "plt.xlabel('False Positive Rate')\n",
    "plt.ylabel('True Positive Rate')\n",
    "\n",
    "# добавим к графику заголовок \"ROC-кривая\" функцией plt.title() >\n",
    "plt.title('ROC for Random Forest (train data)')\n",
    "plt.show();"
   ]
  },
  {
   "cell_type": "code",
   "execution_count": null,
   "id": "06903baa",
   "metadata": {},
   "outputs": [],
   "source": [
    "auc_roc_rf = roc_auc_score(y_train, probabilities_one_train_rf)\n",
    "print(f'Random Forest // model 1 AUC score: {auc_roc_rf}')"
   ]
  },
  {
   "cell_type": "markdown",
   "id": "d1804b79",
   "metadata": {},
   "source": [
    "- **Gradient Boosting**"
   ]
  },
  {
   "cell_type": "code",
   "execution_count": null,
   "id": "12c34759",
   "metadata": {},
   "outputs": [],
   "source": [
    "best_score_gb = round(best_gb_model.best_score_, 5)\n",
    "print('Best score Gradient Boosting: {}'.format(best_score_gb))"
   ]
  },
  {
   "cell_type": "code",
   "execution_count": null,
   "id": "151479a5",
   "metadata": {},
   "outputs": [],
   "source": [
    "train_predicted_gb = best_random_forest_model.predict(X_train_scaled)\n",
    "print(\"TRAIN Random Forest Model, F1:\", f1_score(y_train, train_predicted_rf))"
   ]
  },
  {
   "cell_type": "code",
   "execution_count": null,
   "id": "f99b09c3",
   "metadata": {},
   "outputs": [],
   "source": [
    "probabilities_train_gb = best_gb_model.predict_proba(X_train_scaled)\n",
    "probabilities_one_train_gb = probabilities_train_gb[:, 1]\n",
    "\n",
    "fpr, tpr, thresholds = roc_curve(y_train, probabilities_one_train_gb)\n",
    "\n",
    "plt.figure()\n",
    "\n",
    "# ROC-кривая случайной модели (выглядит как прямая)\n",
    "plt.plot([0, 1], [0, 1], linestyle='--')\n",
    "plt.plot(fpr, tpr)\n",
    "\n",
    "# < применим функции plt.xlim() и plt.ylim(), чтобы\n",
    "#   установим границы осей от 0 до 1 >\n",
    "plt.xlim([0.0, 1.0])\n",
    "plt.ylim([0.0, 1.0])\n",
    "\n",
    "# < применим функции plt.xlabel() и plt.ylabel(), чтобы\n",
    "#   подпишем оси \"False Positive Rate\" и \"True Positive Rate\" >\n",
    "plt.xlabel('False Positive Rate')\n",
    "plt.ylabel('True Positive Rate')\n",
    "\n",
    "# добавим к графику заголовок \"ROC-кривая\" функцией plt.title() >\n",
    "plt.title('ROC for Gradient Boosting (test data)')\n",
    "plt.show();"
   ]
  },
  {
   "cell_type": "code",
   "execution_count": null,
   "id": "fa885588",
   "metadata": {},
   "outputs": [],
   "source": [
    "auc_roc_gb = roc_auc_score(y_train, probabilities_one_train_gb)\n",
    "print(f'Gradient Boosting // model 1 AUC score: {auc_roc_gb}')"
   ]
  },
  {
   "cell_type": "markdown",
   "id": "ec2f1dfe",
   "metadata": {},
   "source": [
    "### *Вывод:* Наивысший скор по кросс-валидации получил градиентный бустинг."
   ]
  },
  {
   "cell_type": "markdown",
   "id": "2049e54d",
   "metadata": {},
   "source": [
    "## 5 Тестируем лучшую модель (gradient boosting) на тестовой выборке и делаем тестовые предсказания"
   ]
  },
  {
   "cell_type": "markdown",
   "id": "7d869983",
   "metadata": {},
   "source": [
    "### 5.1 Тестируем Gradient Boosting"
   ]
  },
  {
   "cell_type": "code",
   "execution_count": null,
   "id": "2e48b0ab",
   "metadata": {},
   "outputs": [],
   "source": [
    "test_predicted_gb = best_gb_model.predict(X_test_scaled)\n",
    "print(\"TEST Gradient Boosting Model, F1:\", f1_score(y_test, test_predicted_gb))"
   ]
  },
  {
   "cell_type": "code",
   "execution_count": null,
   "id": "8bf9803f",
   "metadata": {},
   "outputs": [],
   "source": [
    "probabilities_test_gb = best_gb_model.predict_proba(X_test_scaled)\n",
    "probabilities_one_test_gb = probabilities_test_gb[:, 1]\n",
    "\n",
    "fpr, tpr, thresholds = roc_curve(y_test, probabilities_one_test_gb)\n",
    "\n",
    "plt.figure()\n",
    "\n",
    "# ROC-кривая случайной модели (выглядит как прямая)\n",
    "plt.plot([0, 1], [0, 1], linestyle='--')\n",
    "plt.plot(fpr, tpr)\n",
    "\n",
    "# < применим функции plt.xlim() и plt.ylim(), чтобы\n",
    "#   установим границы осей от 0 до 1 >\n",
    "plt.xlim([0.0, 1.0])\n",
    "plt.ylim([0.0, 1.0])\n",
    "\n",
    "# < применим функции plt.xlabel() и plt.ylabel(), чтобы\n",
    "#   подпишем оси \"False Positive Rate\" и \"True Positive Rate\" >\n",
    "plt.xlabel('False Positive Rate')\n",
    "plt.ylabel('True Positive Rate')\n",
    "\n",
    "# добавим к графику заголовок \"ROC-кривая\" функцией plt.title() >\n",
    "plt.title('ROC for Gradient Boosting (test data)')\n",
    "plt.show();"
   ]
  },
  {
   "cell_type": "code",
   "execution_count": null,
   "id": "01819102",
   "metadata": {},
   "outputs": [],
   "source": [
    "auc_roc_gb = roc_auc_score(y_test, probabilities_one_test_gb)\n",
    "print(f'Gradient Boosting // model 1 AUC score: {auc_roc_gb}')"
   ]
  },
  {
   "cell_type": "markdown",
   "id": "902454ba",
   "metadata": {},
   "source": [
    "### *Вывод:* Модель градиентного бустинга показала наилучший результат. Модель слегка переобучается: на обучающей выборке AUC-ROC=0.85, на тестовой подвыборке AUC-ROC=0.82."
   ]
  },
  {
   "cell_type": "markdown",
   "id": "1e9bd205",
   "metadata": {},
   "source": [
    "### 5.2 Предсказания"
   ]
  },
  {
   "cell_type": "code",
   "execution_count": null,
   "id": "83585bff",
   "metadata": {},
   "outputs": [],
   "source": [
    "# Gradient Boosting\n",
    "y_pred_gb = best_gb_model.predict(X_test_scaled)\n",
    "y_pred_gb"
   ]
  },
  {
   "cell_type": "code",
   "execution_count": null,
   "id": "56602d28",
   "metadata": {},
   "outputs": [],
   "source": [
    "test_dropped.columns"
   ]
  },
  {
   "cell_type": "code",
   "execution_count": null,
   "id": "f4fef32c",
   "metadata": {},
   "outputs": [],
   "source": [
    "# X_test_df = test_dropped.drop(columns=['target'])\n",
    "test_pred = test_dropped[['MonthlyCharges',   \n",
    "                          'TotalCharges',\n",
    "                          'begin_date',       \n",
    "                          'end_date',  \n",
    "                          'SeniorCitizen']]"
   ]
  },
  {
   "cell_type": "code",
   "execution_count": null,
   "id": "70ef7168",
   "metadata": {},
   "outputs": [],
   "source": [
    "test_pred['churned'] = best_gb_model.predict(X_test_scaled)"
   ]
  },
  {
   "cell_type": "code",
   "execution_count": null,
   "id": "8806fd00",
   "metadata": {},
   "outputs": [],
   "source": [
    "test_pred['predictions'] = np.round(best_gb_model.predict_proba(X_test_scaled),3)[:, 1]\n",
    "test_pred.shape"
   ]
  },
  {
   "cell_type": "code",
   "execution_count": null,
   "id": "a0d0c2a7",
   "metadata": {},
   "outputs": [],
   "source": [
    "test_pred_df = pd.DataFrame(test_pred)\n",
    "test_pred_df"
   ]
  },
  {
   "cell_type": "code",
   "execution_count": null,
   "id": "d1157775",
   "metadata": {},
   "outputs": [],
   "source": [
    "# test_pred_df.to_csv('/Users/yuliabezginova/PycharmProjects/00_files-for_NLP/test_pred_df.csv')"
   ]
  },
  {
   "cell_type": "markdown",
   "id": "17bbe68f",
   "metadata": {},
   "source": [
    "### 5.3 Изучим важность признаков"
   ]
  },
  {
   "cell_type": "code",
   "execution_count": null,
   "id": "4bbb76e0",
   "metadata": {},
   "outputs": [],
   "source": [
    "importance = best_gb_model.best_estimator_.feature_importances_\n",
    "indices = np.argsort(importance)\n",
    "\n",
    "fig, ax = plt.subplots(figsize=(12, 5))\n",
    "ax.barh(range(len(importance)), importance[indices])\n",
    "ax.set_yticks(range(len(importance)))\n",
    "_ = ax.set_yticklabels(np.array(test_data.drop(columns=['churned']).columns)[indices])"
   ]
  },
  {
   "cell_type": "code",
   "execution_count": null,
   "id": "51658235",
   "metadata": {},
   "outputs": [],
   "source": [
    "test_data.columns"
   ]
  },
  {
   "cell_type": "markdown",
   "id": "784e698f",
   "metadata": {},
   "source": [
    "### 5.4 Изучим, насколько хорошо модель классифицирует целевое значение"
   ]
  },
  {
   "cell_type": "code",
   "execution_count": null,
   "id": "e4877c15",
   "metadata": {},
   "outputs": [],
   "source": [
    "print(classification_report(y_test,best_gb_model.predict(X_test_scaled)))"
   ]
  },
  {
   "cell_type": "markdown",
   "id": "99a5047d",
   "metadata": {},
   "source": [
    "### *Вывод*: Модель градиентного бустинга показала наилучший результат. Модель слегка переобучается: на обучающей выборке AUC-ROC=0.85, на тестовой подвыборке AUC-ROC=0.82. Было выполнено тестирование модели градиентного бустинга на тестовой подвыборке и выявлена важность изучаемых признаков. По отчету о классификации (classification report) видим, что модель научилась хорошо предсказывать 1-й класс (F1-score=0.86) и хуже предсказывает 0-й класс (F1-score=0.46). Наиболее высокое влияние в модели оказывают признаки ```'PaperlessBilling'```, ```'Type'```, ```'PaymentMethod'```."
   ]
  },
  {
   "cell_type": "markdown",
   "id": "5bbceeca",
   "metadata": {},
   "source": [
    "### *Часть 1 - Отчет для Сергея*\n",
    "\n",
    "#### Проведите исследовательский анализ данных.\n",
    "Готово.\n",
    "#### Список уточняющих вопросов.\n",
    "- 1) Что необходимо предсказать моделью: \n",
    "    - а) решаем задачу бинарной классификации: 0 - клиент уйдет, 1 - клиент не уйдет. Остальное - оставляем на усмотрение менеджмента, кому что предложить, чтобы удержать.\n",
    "    - б) или скорее предсказать вероятность того, насколько клиент планирует уйти. Если этот вариант, то нужен совет, как это делать. Это будет задача классификации? Или можно, например, использовать предобученную нейронную сеть ResNet50, которую мы здесь проходили, с функцией softmax, которая как раз и предскажет вероятность?\n",
    "\n",
    "#### Примерный план решения задачи. Пропишите 3–5 основных шагов, каждый поясните не более двумя предложениями.\n",
    "Прописала с начале блокнота в разделе **Методология проекта**.\n",
    "\n",
    "#### Цель проекта\n",
    "Прописала с начале блокнота."
   ]
  },
  {
   "cell_type": "markdown",
   "id": "6a569d04",
   "metadata": {},
   "source": [
    "<div class=\"alert alert-success\">\n",
    "<b>Комментарий ревьюера:\n",
    "&#9989;</b> Ответы на вопросы: в данном случае у нас задача бинарной классификации </div>"
   ]
  },
  {
   "cell_type": "markdown",
   "id": "b931ea43",
   "metadata": {},
   "source": [
    "<b>Итоговый комментарий ревьюера:\n",
    "</b>  Молодец, хороший план, есть название и описание. Есть пара критических замечаний, которые необходимо исправить в первой части, а именно: \n",
    "1. Предустановка библиотек (phik)\n",
    "2. Работоспособность кода(пропиши, пожалуйста, пути)\n",
    "3. Комментарии к анализу\n",
    "4. Округление total_charges\n",
    "5. Заполнение пропусков<br>\n",
    "\n",
    "Выше добавлены комментарии ко второй части. Также RANDOM_STATE необходимо прописать в константу.\n"
   ]
  },
  {
   "cell_type": "markdown",
   "id": "cd9383d9",
   "metadata": {},
   "source": [
    "### *Часть 2, 3 - Отчет для Сергея*"
   ]
  },
  {
   "cell_type": "markdown",
   "id": "956d5ebb",
   "metadata": {},
   "source": [
    "<div class=\"alert alert-info\"> <b>Юлия:</b>\n",
    "- Предустановка библиотек\n",
    "Про библиотеки не до конца поняла. У вас каки-то пипы не установлены? Подскажите, пож-та, которые библиотеки надо предустановить.\n",
    "    \n",
    "- Работоспособность кода(пропиши, пожалуйста, пути)\n",
    "Пути прописала через исключение. Код проверила, воспроизвелся вроде.\n",
    "    \n",
    "- Комментарии к анализу\n",
    "Добавила выводы после каждого раздела.\n",
    "   \n",
    "- Округление total_charges\n",
    "Проверила и оставила пояснение в работе.\n",
    "    \n",
    "- Заполнение пропусков\n",
    "Заполнила, пояснения в работе оставила для каждого шага.\n",
    "    \n",
    "</div>"
   ]
  },
  {
   "cell_type": "markdown",
   "id": "c20e831c",
   "metadata": {},
   "source": [
    "<b>Итоговый комментарий ревьюера:\n",
    "</b> Молодец, 1 часть принята, замечания по 2 части:\n",
    "1. Предустановка библиотек(phik)\n",
    "2. Корреляция\n",
    "3. Визуализация признаков\n",
    "4. Пропуски\n",
    "5. Кодирование признаков\n",
    "\n",
    "<br> Выше оставил ссылку на использование phi_k. Так же при подборе гиперпараметров стоит прописать scoring\n",
    "\n"
   ]
  },
  {
   "cell_type": "markdown",
   "id": "89472c9a",
   "metadata": {},
   "source": [
    "<b>Итоговый комментарий ревьюера V2:\n",
    "</b> Посмотри, пожалуйста, следующее:\n",
    "1. Заполнение пропусков(наиболее частым значением в данном случае не стоит заполнять\n",
    "2. set_params(encoded_missing_value=-1) в OrdinalEncoder появился в более новых версиях, на стороне платформы его стоит удалить или обновить sklearn\n",
    "3. Выше добавил код расчета VIF, посмотри, пожалуйста (там видно, что один признак уже лишний)\n",
    "4. Масштабирование признаков (fit_transform на трейне, transform на тесте)\n",
    "5. Даты в итоговом датафрейме стоит удалить\n",
    "6. Посмотри, пожалуйста, выводы. После исправлений замечаний их стоит подправить\n",
    "\n",
    "\n"
   ]
  },
  {
   "cell_type": "markdown",
   "id": "27697ef4",
   "metadata": {},
   "source": [
    "Precision: Out of all the players that the model predicted would get drafted, only 43% actually did.\n",
    "\n",
    "Recall: Out of all the players that actually did get drafted, the model only predicted this outcome correctly for 36% of those players.\n",
    "\n",
    "F1 Score: This value is calculated as:\n",
    "\n",
    "F1 Score: 2 * (Precision * Recall) / (Precision + Recall)\n",
    "F1 Score: 2 * (.43 * .36) / (.43 + .36)\n",
    "F1 Score: 0.40.\n",
    "Since this value isn’t very close to 1, it tells us that the model does a poor job of predicting whether or not players will get drafted.\n",
    "\n",
    "Support: These values simply tell us how many players belonged to each class in the test dataset. We can see that among the players in the test dataset, 160 did not get drafted and 140 did get drafted."
   ]
  }
 ],
 "metadata": {
  "ExecuteTimeLog": [
   {
    "duration": 1734,
    "start_time": "2023-02-01T07:41:26.613Z"
   },
   {
    "duration": 0,
    "start_time": "2023-02-01T07:41:28.353Z"
   },
   {
    "duration": 0,
    "start_time": "2023-02-01T07:41:28.355Z"
   },
   {
    "duration": 0,
    "start_time": "2023-02-01T07:41:28.357Z"
   },
   {
    "duration": 0,
    "start_time": "2023-02-01T07:41:28.358Z"
   },
   {
    "duration": 0,
    "start_time": "2023-02-01T07:41:28.360Z"
   },
   {
    "duration": 0,
    "start_time": "2023-02-01T07:41:28.362Z"
   },
   {
    "duration": 0,
    "start_time": "2023-02-01T07:41:28.364Z"
   },
   {
    "duration": 0,
    "start_time": "2023-02-01T07:41:28.365Z"
   },
   {
    "duration": 0,
    "start_time": "2023-02-01T07:41:28.366Z"
   },
   {
    "duration": 0,
    "start_time": "2023-02-01T07:41:28.367Z"
   },
   {
    "duration": 0,
    "start_time": "2023-02-01T07:41:28.370Z"
   },
   {
    "duration": 0,
    "start_time": "2023-02-01T07:41:28.371Z"
   },
   {
    "duration": 0,
    "start_time": "2023-02-01T07:41:28.372Z"
   },
   {
    "duration": 0,
    "start_time": "2023-02-01T07:41:28.374Z"
   },
   {
    "duration": 0,
    "start_time": "2023-02-01T07:41:28.375Z"
   },
   {
    "duration": 0,
    "start_time": "2023-02-01T07:41:28.376Z"
   },
   {
    "duration": 0,
    "start_time": "2023-02-01T07:41:28.378Z"
   },
   {
    "duration": 0,
    "start_time": "2023-02-01T07:41:28.379Z"
   },
   {
    "duration": 0,
    "start_time": "2023-02-01T07:41:28.381Z"
   },
   {
    "duration": 0,
    "start_time": "2023-02-01T07:41:28.383Z"
   },
   {
    "duration": 0,
    "start_time": "2023-02-01T07:41:28.385Z"
   },
   {
    "duration": 0,
    "start_time": "2023-02-01T07:41:28.386Z"
   },
   {
    "duration": 0,
    "start_time": "2023-02-01T07:41:28.437Z"
   },
   {
    "duration": 0,
    "start_time": "2023-02-01T07:41:28.438Z"
   },
   {
    "duration": 0,
    "start_time": "2023-02-01T07:41:28.440Z"
   },
   {
    "duration": 0,
    "start_time": "2023-02-01T07:41:28.442Z"
   },
   {
    "duration": 0,
    "start_time": "2023-02-01T07:41:28.444Z"
   },
   {
    "duration": 0,
    "start_time": "2023-02-01T07:41:28.446Z"
   },
   {
    "duration": 0,
    "start_time": "2023-02-01T07:41:28.447Z"
   },
   {
    "duration": 1,
    "start_time": "2023-02-01T07:41:28.448Z"
   },
   {
    "duration": 0,
    "start_time": "2023-02-01T07:41:28.450Z"
   },
   {
    "duration": 0,
    "start_time": "2023-02-01T07:41:28.451Z"
   },
   {
    "duration": 0,
    "start_time": "2023-02-01T07:41:28.452Z"
   },
   {
    "duration": 0,
    "start_time": "2023-02-01T07:41:28.454Z"
   },
   {
    "duration": 0,
    "start_time": "2023-02-01T07:41:28.455Z"
   },
   {
    "duration": 0,
    "start_time": "2023-02-01T07:41:28.457Z"
   },
   {
    "duration": 0,
    "start_time": "2023-02-01T07:41:28.459Z"
   },
   {
    "duration": 0,
    "start_time": "2023-02-01T07:41:28.460Z"
   },
   {
    "duration": 0,
    "start_time": "2023-02-01T07:41:28.462Z"
   },
   {
    "duration": 0,
    "start_time": "2023-02-01T07:41:28.464Z"
   },
   {
    "duration": 0,
    "start_time": "2023-02-01T07:41:28.465Z"
   },
   {
    "duration": 0,
    "start_time": "2023-02-01T07:41:28.467Z"
   },
   {
    "duration": 0,
    "start_time": "2023-02-01T07:41:28.468Z"
   },
   {
    "duration": 0,
    "start_time": "2023-02-01T07:41:28.470Z"
   },
   {
    "duration": 0,
    "start_time": "2023-02-01T07:41:28.472Z"
   },
   {
    "duration": 0,
    "start_time": "2023-02-01T07:41:28.473Z"
   },
   {
    "duration": 0,
    "start_time": "2023-02-01T07:41:28.474Z"
   },
   {
    "duration": 0,
    "start_time": "2023-02-01T07:41:28.476Z"
   },
   {
    "duration": 0,
    "start_time": "2023-02-01T07:41:28.477Z"
   },
   {
    "duration": 0,
    "start_time": "2023-02-01T07:41:28.538Z"
   },
   {
    "duration": 0,
    "start_time": "2023-02-01T07:41:28.539Z"
   },
   {
    "duration": 0,
    "start_time": "2023-02-01T07:41:28.541Z"
   },
   {
    "duration": 0,
    "start_time": "2023-02-01T07:41:28.542Z"
   },
   {
    "duration": 0,
    "start_time": "2023-02-01T07:41:28.544Z"
   },
   {
    "duration": 0,
    "start_time": "2023-02-01T07:41:28.545Z"
   },
   {
    "duration": 0,
    "start_time": "2023-02-01T07:41:28.547Z"
   },
   {
    "duration": 0,
    "start_time": "2023-02-01T07:41:28.548Z"
   },
   {
    "duration": 0,
    "start_time": "2023-02-01T07:41:28.549Z"
   },
   {
    "duration": 0,
    "start_time": "2023-02-01T07:41:28.551Z"
   },
   {
    "duration": 0,
    "start_time": "2023-02-01T07:41:28.552Z"
   },
   {
    "duration": 0,
    "start_time": "2023-02-01T07:41:28.553Z"
   },
   {
    "duration": 0,
    "start_time": "2023-02-01T07:41:28.554Z"
   },
   {
    "duration": 0,
    "start_time": "2023-02-01T07:41:28.555Z"
   },
   {
    "duration": 0,
    "start_time": "2023-02-01T07:41:28.556Z"
   },
   {
    "duration": 0,
    "start_time": "2023-02-01T07:41:28.558Z"
   },
   {
    "duration": 0,
    "start_time": "2023-02-01T07:41:28.559Z"
   },
   {
    "duration": 0,
    "start_time": "2023-02-01T07:41:28.560Z"
   },
   {
    "duration": 0,
    "start_time": "2023-02-01T07:41:28.561Z"
   },
   {
    "duration": 0,
    "start_time": "2023-02-01T07:41:28.562Z"
   },
   {
    "duration": 0,
    "start_time": "2023-02-01T07:41:28.563Z"
   },
   {
    "duration": 0,
    "start_time": "2023-02-01T07:41:28.564Z"
   },
   {
    "duration": 0,
    "start_time": "2023-02-01T07:41:28.565Z"
   },
   {
    "duration": 0,
    "start_time": "2023-02-01T07:41:28.566Z"
   },
   {
    "duration": 0,
    "start_time": "2023-02-01T07:41:28.567Z"
   },
   {
    "duration": 0,
    "start_time": "2023-02-01T07:41:28.568Z"
   },
   {
    "duration": 0,
    "start_time": "2023-02-01T07:41:28.569Z"
   },
   {
    "duration": 0,
    "start_time": "2023-02-01T07:41:28.570Z"
   },
   {
    "duration": 0,
    "start_time": "2023-02-01T07:41:28.571Z"
   },
   {
    "duration": 0,
    "start_time": "2023-02-01T07:41:28.572Z"
   },
   {
    "duration": 0,
    "start_time": "2023-02-01T07:41:28.573Z"
   },
   {
    "duration": 0,
    "start_time": "2023-02-01T07:41:28.636Z"
   },
   {
    "duration": 0,
    "start_time": "2023-02-01T07:41:28.638Z"
   },
   {
    "duration": 0,
    "start_time": "2023-02-01T07:41:28.639Z"
   },
   {
    "duration": 0,
    "start_time": "2023-02-01T07:41:28.640Z"
   },
   {
    "duration": 0,
    "start_time": "2023-02-01T07:41:28.642Z"
   },
   {
    "duration": 0,
    "start_time": "2023-02-01T07:41:28.643Z"
   },
   {
    "duration": 0,
    "start_time": "2023-02-01T07:41:28.644Z"
   },
   {
    "duration": 0,
    "start_time": "2023-02-01T07:41:28.645Z"
   },
   {
    "duration": 0,
    "start_time": "2023-02-01T07:41:28.646Z"
   },
   {
    "duration": 0,
    "start_time": "2023-02-01T07:41:28.647Z"
   },
   {
    "duration": 0,
    "start_time": "2023-02-01T07:41:28.648Z"
   },
   {
    "duration": 0,
    "start_time": "2023-02-01T07:41:28.649Z"
   },
   {
    "duration": 0,
    "start_time": "2023-02-01T07:41:28.650Z"
   },
   {
    "duration": 0,
    "start_time": "2023-02-01T07:41:28.651Z"
   },
   {
    "duration": 0,
    "start_time": "2023-02-01T07:41:28.652Z"
   },
   {
    "duration": 0,
    "start_time": "2023-02-01T07:41:28.653Z"
   },
   {
    "duration": 0,
    "start_time": "2023-02-01T07:41:28.654Z"
   },
   {
    "duration": 0,
    "start_time": "2023-02-01T07:41:28.655Z"
   },
   {
    "duration": 0,
    "start_time": "2023-02-01T07:41:28.656Z"
   },
   {
    "duration": 0,
    "start_time": "2023-02-01T07:41:28.657Z"
   },
   {
    "duration": 14542,
    "start_time": "2023-02-01T07:47:25.068Z"
   },
   {
    "duration": 3188,
    "start_time": "2023-02-01T07:47:39.612Z"
   },
   {
    "duration": 196,
    "start_time": "2023-02-01T07:47:42.801Z"
   },
   {
    "duration": 0,
    "start_time": "2023-02-01T07:47:43.002Z"
   },
   {
    "duration": 0,
    "start_time": "2023-02-01T07:47:43.003Z"
   },
   {
    "duration": 0,
    "start_time": "2023-02-01T07:47:43.004Z"
   },
   {
    "duration": 0,
    "start_time": "2023-02-01T07:47:43.006Z"
   },
   {
    "duration": 0,
    "start_time": "2023-02-01T07:47:43.007Z"
   },
   {
    "duration": 0,
    "start_time": "2023-02-01T07:47:43.008Z"
   },
   {
    "duration": 0,
    "start_time": "2023-02-01T07:47:43.009Z"
   },
   {
    "duration": 0,
    "start_time": "2023-02-01T07:47:43.010Z"
   },
   {
    "duration": 0,
    "start_time": "2023-02-01T07:47:43.011Z"
   },
   {
    "duration": 0,
    "start_time": "2023-02-01T07:47:43.012Z"
   },
   {
    "duration": 1,
    "start_time": "2023-02-01T07:47:43.012Z"
   },
   {
    "duration": 0,
    "start_time": "2023-02-01T07:47:43.014Z"
   },
   {
    "duration": 0,
    "start_time": "2023-02-01T07:47:43.014Z"
   },
   {
    "duration": 0,
    "start_time": "2023-02-01T07:47:43.015Z"
   },
   {
    "duration": 0,
    "start_time": "2023-02-01T07:47:43.016Z"
   },
   {
    "duration": 0,
    "start_time": "2023-02-01T07:47:43.017Z"
   },
   {
    "duration": 0,
    "start_time": "2023-02-01T07:47:43.018Z"
   },
   {
    "duration": 0,
    "start_time": "2023-02-01T07:47:43.019Z"
   },
   {
    "duration": 0,
    "start_time": "2023-02-01T07:47:43.020Z"
   },
   {
    "duration": 0,
    "start_time": "2023-02-01T07:47:43.021Z"
   },
   {
    "duration": 0,
    "start_time": "2023-02-01T07:47:43.036Z"
   },
   {
    "duration": 0,
    "start_time": "2023-02-01T07:47:43.038Z"
   },
   {
    "duration": 0,
    "start_time": "2023-02-01T07:47:43.039Z"
   },
   {
    "duration": 0,
    "start_time": "2023-02-01T07:47:43.040Z"
   },
   {
    "duration": 0,
    "start_time": "2023-02-01T07:47:43.041Z"
   },
   {
    "duration": 0,
    "start_time": "2023-02-01T07:47:43.042Z"
   },
   {
    "duration": 0,
    "start_time": "2023-02-01T07:47:43.043Z"
   },
   {
    "duration": 0,
    "start_time": "2023-02-01T07:47:43.044Z"
   },
   {
    "duration": 0,
    "start_time": "2023-02-01T07:47:43.045Z"
   },
   {
    "duration": 0,
    "start_time": "2023-02-01T07:47:43.046Z"
   },
   {
    "duration": 0,
    "start_time": "2023-02-01T07:47:43.047Z"
   },
   {
    "duration": 0,
    "start_time": "2023-02-01T07:47:43.050Z"
   },
   {
    "duration": 0,
    "start_time": "2023-02-01T07:47:43.051Z"
   },
   {
    "duration": 1,
    "start_time": "2023-02-01T07:47:43.052Z"
   },
   {
    "duration": 0,
    "start_time": "2023-02-01T07:47:43.053Z"
   },
   {
    "duration": 0,
    "start_time": "2023-02-01T07:47:43.055Z"
   },
   {
    "duration": 0,
    "start_time": "2023-02-01T07:47:43.055Z"
   },
   {
    "duration": 0,
    "start_time": "2023-02-01T07:47:43.056Z"
   },
   {
    "duration": 0,
    "start_time": "2023-02-01T07:47:43.058Z"
   },
   {
    "duration": 0,
    "start_time": "2023-02-01T07:47:43.059Z"
   },
   {
    "duration": 0,
    "start_time": "2023-02-01T07:47:43.060Z"
   },
   {
    "duration": 0,
    "start_time": "2023-02-01T07:47:43.061Z"
   },
   {
    "duration": 0,
    "start_time": "2023-02-01T07:47:43.062Z"
   },
   {
    "duration": 0,
    "start_time": "2023-02-01T07:47:43.063Z"
   },
   {
    "duration": 0,
    "start_time": "2023-02-01T07:47:43.064Z"
   },
   {
    "duration": 0,
    "start_time": "2023-02-01T07:47:43.065Z"
   },
   {
    "duration": 0,
    "start_time": "2023-02-01T07:47:43.066Z"
   },
   {
    "duration": 0,
    "start_time": "2023-02-01T07:47:43.068Z"
   },
   {
    "duration": 0,
    "start_time": "2023-02-01T07:47:43.069Z"
   },
   {
    "duration": 0,
    "start_time": "2023-02-01T07:47:43.070Z"
   },
   {
    "duration": 0,
    "start_time": "2023-02-01T07:47:43.071Z"
   },
   {
    "duration": 0,
    "start_time": "2023-02-01T07:47:43.072Z"
   },
   {
    "duration": 0,
    "start_time": "2023-02-01T07:47:43.073Z"
   },
   {
    "duration": 0,
    "start_time": "2023-02-01T07:47:43.137Z"
   },
   {
    "duration": 0,
    "start_time": "2023-02-01T07:47:43.138Z"
   },
   {
    "duration": 0,
    "start_time": "2023-02-01T07:47:43.139Z"
   },
   {
    "duration": 0,
    "start_time": "2023-02-01T07:47:43.141Z"
   },
   {
    "duration": 0,
    "start_time": "2023-02-01T07:47:43.142Z"
   },
   {
    "duration": 0,
    "start_time": "2023-02-01T07:47:43.143Z"
   },
   {
    "duration": 0,
    "start_time": "2023-02-01T07:47:43.144Z"
   },
   {
    "duration": 0,
    "start_time": "2023-02-01T07:47:43.145Z"
   },
   {
    "duration": 0,
    "start_time": "2023-02-01T07:47:43.146Z"
   },
   {
    "duration": 0,
    "start_time": "2023-02-01T07:47:43.147Z"
   },
   {
    "duration": 0,
    "start_time": "2023-02-01T07:47:43.148Z"
   },
   {
    "duration": 0,
    "start_time": "2023-02-01T07:47:43.149Z"
   },
   {
    "duration": 0,
    "start_time": "2023-02-01T07:47:43.150Z"
   },
   {
    "duration": 0,
    "start_time": "2023-02-01T07:47:43.151Z"
   },
   {
    "duration": 0,
    "start_time": "2023-02-01T07:47:43.152Z"
   },
   {
    "duration": 0,
    "start_time": "2023-02-01T07:47:43.153Z"
   },
   {
    "duration": 0,
    "start_time": "2023-02-01T07:47:43.154Z"
   },
   {
    "duration": 1,
    "start_time": "2023-02-01T07:47:43.154Z"
   },
   {
    "duration": 0,
    "start_time": "2023-02-01T07:47:43.155Z"
   },
   {
    "duration": 0,
    "start_time": "2023-02-01T07:47:43.157Z"
   },
   {
    "duration": 0,
    "start_time": "2023-02-01T07:47:43.157Z"
   },
   {
    "duration": 0,
    "start_time": "2023-02-01T07:47:43.158Z"
   },
   {
    "duration": 0,
    "start_time": "2023-02-01T07:47:43.160Z"
   },
   {
    "duration": 0,
    "start_time": "2023-02-01T07:47:43.161Z"
   },
   {
    "duration": 0,
    "start_time": "2023-02-01T07:47:43.162Z"
   },
   {
    "duration": 0,
    "start_time": "2023-02-01T07:47:43.163Z"
   },
   {
    "duration": 1,
    "start_time": "2023-02-01T07:47:43.163Z"
   },
   {
    "duration": 0,
    "start_time": "2023-02-01T07:47:43.164Z"
   },
   {
    "duration": 0,
    "start_time": "2023-02-01T07:47:43.166Z"
   },
   {
    "duration": 0,
    "start_time": "2023-02-01T07:47:43.167Z"
   },
   {
    "duration": 0,
    "start_time": "2023-02-01T07:47:43.168Z"
   },
   {
    "duration": 0,
    "start_time": "2023-02-01T07:47:43.169Z"
   },
   {
    "duration": 0,
    "start_time": "2023-02-01T07:47:43.169Z"
   },
   {
    "duration": 0,
    "start_time": "2023-02-01T07:47:43.170Z"
   },
   {
    "duration": 0,
    "start_time": "2023-02-01T07:47:43.171Z"
   },
   {
    "duration": 0,
    "start_time": "2023-02-01T07:47:43.173Z"
   },
   {
    "duration": 0,
    "start_time": "2023-02-01T07:47:43.174Z"
   },
   {
    "duration": 0,
    "start_time": "2023-02-01T07:47:43.237Z"
   },
   {
    "duration": 0,
    "start_time": "2023-02-01T07:47:43.238Z"
   },
   {
    "duration": 0,
    "start_time": "2023-02-01T07:47:43.239Z"
   },
   {
    "duration": 0,
    "start_time": "2023-02-01T07:47:43.240Z"
   },
   {
    "duration": 0,
    "start_time": "2023-02-01T07:47:43.241Z"
   },
   {
    "duration": 0,
    "start_time": "2023-02-01T07:47:43.241Z"
   },
   {
    "duration": 0,
    "start_time": "2023-02-01T07:47:43.243Z"
   },
   {
    "duration": 0,
    "start_time": "2023-02-01T07:47:43.243Z"
   },
   {
    "duration": 0,
    "start_time": "2023-02-01T07:47:43.244Z"
   },
   {
    "duration": 140,
    "start_time": "2023-02-01T07:54:26.029Z"
   },
   {
    "duration": 7,
    "start_time": "2023-02-01T07:54:27.578Z"
   },
   {
    "duration": 7,
    "start_time": "2023-02-01T07:54:30.100Z"
   },
   {
    "duration": 13,
    "start_time": "2023-02-01T07:54:34.366Z"
   },
   {
    "duration": 14,
    "start_time": "2023-02-01T07:54:35.980Z"
   },
   {
    "duration": 9,
    "start_time": "2023-02-01T07:54:37.536Z"
   },
   {
    "duration": 13,
    "start_time": "2023-02-01T07:54:38.516Z"
   },
   {
    "duration": 11,
    "start_time": "2023-02-01T07:54:52.588Z"
   },
   {
    "duration": 16,
    "start_time": "2023-02-01T07:55:10.244Z"
   },
   {
    "duration": 5,
    "start_time": "2023-02-01T07:55:11.358Z"
   },
   {
    "duration": 5,
    "start_time": "2023-02-01T07:55:15.253Z"
   },
   {
    "duration": 20,
    "start_time": "2023-02-01T07:55:16.517Z"
   },
   {
    "duration": 6,
    "start_time": "2023-02-01T07:55:18.196Z"
   },
   {
    "duration": 21,
    "start_time": "2023-02-01T07:55:19.070Z"
   },
   {
    "duration": 4,
    "start_time": "2023-02-01T07:55:20.357Z"
   },
   {
    "duration": 20,
    "start_time": "2023-02-01T07:55:21.660Z"
   },
   {
    "duration": 12,
    "start_time": "2023-02-01T07:55:26.426Z"
   },
   {
    "duration": 20,
    "start_time": "2023-02-01T07:55:27.420Z"
   },
   {
    "duration": 26,
    "start_time": "2023-02-01T07:55:28.436Z"
   },
   {
    "duration": 2,
    "start_time": "2023-02-01T07:55:29.748Z"
   },
   {
    "duration": 10,
    "start_time": "2023-02-01T07:55:30.665Z"
   },
   {
    "duration": 5,
    "start_time": "2023-02-01T07:55:31.469Z"
   },
   {
    "duration": 8,
    "start_time": "2023-02-01T07:55:32.350Z"
   },
   {
    "duration": 20,
    "start_time": "2023-02-01T07:55:33.563Z"
   },
   {
    "duration": 5,
    "start_time": "2023-02-01T07:55:34.740Z"
   },
   {
    "duration": 15,
    "start_time": "2023-02-01T07:55:35.532Z"
   },
   {
    "duration": 785,
    "start_time": "2023-02-01T07:55:36.700Z"
   },
   {
    "duration": 17,
    "start_time": "2023-02-01T07:55:37.701Z"
   },
   {
    "duration": 15,
    "start_time": "2023-02-01T07:56:51.670Z"
   },
   {
    "duration": 4,
    "start_time": "2023-02-01T07:57:01.024Z"
   },
   {
    "duration": 8,
    "start_time": "2023-02-01T07:57:02.541Z"
   },
   {
    "duration": 6,
    "start_time": "2023-02-01T07:57:04.464Z"
   },
   {
    "duration": 7,
    "start_time": "2023-02-01T07:57:05.381Z"
   },
   {
    "duration": 6,
    "start_time": "2023-02-01T07:57:06.301Z"
   },
   {
    "duration": 121,
    "start_time": "2023-02-01T07:57:07.173Z"
   },
   {
    "duration": 10,
    "start_time": "2023-02-01T07:57:10.485Z"
   },
   {
    "duration": 18,
    "start_time": "2023-02-01T07:58:16.846Z"
   },
   {
    "duration": 15,
    "start_time": "2023-02-01T08:04:34.160Z"
   },
   {
    "duration": 14,
    "start_time": "2023-02-01T08:11:11.275Z"
   },
   {
    "duration": 9,
    "start_time": "2023-02-01T08:18:42.971Z"
   },
   {
    "duration": 2315,
    "start_time": "2023-02-01T08:18:50.263Z"
   },
   {
    "duration": 1997,
    "start_time": "2023-02-01T08:18:52.580Z"
   },
   {
    "duration": 172,
    "start_time": "2023-02-01T08:18:54.579Z"
   },
   {
    "duration": 0,
    "start_time": "2023-02-01T08:18:54.756Z"
   },
   {
    "duration": 0,
    "start_time": "2023-02-01T08:18:54.757Z"
   },
   {
    "duration": 0,
    "start_time": "2023-02-01T08:18:54.758Z"
   },
   {
    "duration": 0,
    "start_time": "2023-02-01T08:18:54.759Z"
   },
   {
    "duration": 0,
    "start_time": "2023-02-01T08:18:54.760Z"
   },
   {
    "duration": 0,
    "start_time": "2023-02-01T08:18:54.761Z"
   },
   {
    "duration": 0,
    "start_time": "2023-02-01T08:18:54.763Z"
   },
   {
    "duration": 0,
    "start_time": "2023-02-01T08:18:54.764Z"
   },
   {
    "duration": 0,
    "start_time": "2023-02-01T08:18:54.765Z"
   },
   {
    "duration": 0,
    "start_time": "2023-02-01T08:18:54.766Z"
   },
   {
    "duration": 0,
    "start_time": "2023-02-01T08:18:54.768Z"
   },
   {
    "duration": 0,
    "start_time": "2023-02-01T08:18:54.769Z"
   },
   {
    "duration": 0,
    "start_time": "2023-02-01T08:18:54.770Z"
   },
   {
    "duration": 0,
    "start_time": "2023-02-01T08:18:54.772Z"
   },
   {
    "duration": 0,
    "start_time": "2023-02-01T08:18:54.773Z"
   },
   {
    "duration": 0,
    "start_time": "2023-02-01T08:18:54.774Z"
   },
   {
    "duration": 0,
    "start_time": "2023-02-01T08:18:54.775Z"
   },
   {
    "duration": 0,
    "start_time": "2023-02-01T08:18:54.775Z"
   },
   {
    "duration": 0,
    "start_time": "2023-02-01T08:18:54.776Z"
   },
   {
    "duration": 0,
    "start_time": "2023-02-01T08:18:54.777Z"
   },
   {
    "duration": 0,
    "start_time": "2023-02-01T08:18:54.778Z"
   },
   {
    "duration": 0,
    "start_time": "2023-02-01T08:18:54.779Z"
   },
   {
    "duration": 0,
    "start_time": "2023-02-01T08:18:54.780Z"
   },
   {
    "duration": 0,
    "start_time": "2023-02-01T08:18:54.781Z"
   },
   {
    "duration": 0,
    "start_time": "2023-02-01T08:18:54.782Z"
   },
   {
    "duration": 0,
    "start_time": "2023-02-01T08:18:54.783Z"
   },
   {
    "duration": 0,
    "start_time": "2023-02-01T08:18:54.784Z"
   },
   {
    "duration": 0,
    "start_time": "2023-02-01T08:18:54.785Z"
   },
   {
    "duration": 0,
    "start_time": "2023-02-01T08:18:54.786Z"
   },
   {
    "duration": 0,
    "start_time": "2023-02-01T08:18:54.837Z"
   },
   {
    "duration": 0,
    "start_time": "2023-02-01T08:18:54.838Z"
   },
   {
    "duration": 0,
    "start_time": "2023-02-01T08:18:54.839Z"
   },
   {
    "duration": 0,
    "start_time": "2023-02-01T08:18:54.840Z"
   },
   {
    "duration": 0,
    "start_time": "2023-02-01T08:18:54.841Z"
   },
   {
    "duration": 0,
    "start_time": "2023-02-01T08:18:54.842Z"
   },
   {
    "duration": 0,
    "start_time": "2023-02-01T08:18:54.843Z"
   },
   {
    "duration": 0,
    "start_time": "2023-02-01T08:18:54.844Z"
   },
   {
    "duration": 0,
    "start_time": "2023-02-01T08:18:54.845Z"
   },
   {
    "duration": 0,
    "start_time": "2023-02-01T08:18:54.846Z"
   },
   {
    "duration": 0,
    "start_time": "2023-02-01T08:18:54.847Z"
   },
   {
    "duration": 0,
    "start_time": "2023-02-01T08:18:54.848Z"
   },
   {
    "duration": 0,
    "start_time": "2023-02-01T08:18:54.849Z"
   },
   {
    "duration": 0,
    "start_time": "2023-02-01T08:18:54.850Z"
   },
   {
    "duration": 0,
    "start_time": "2023-02-01T08:18:54.851Z"
   },
   {
    "duration": 0,
    "start_time": "2023-02-01T08:18:54.852Z"
   },
   {
    "duration": 0,
    "start_time": "2023-02-01T08:18:54.853Z"
   },
   {
    "duration": 1,
    "start_time": "2023-02-01T08:18:54.854Z"
   },
   {
    "duration": 0,
    "start_time": "2023-02-01T08:18:54.855Z"
   },
   {
    "duration": 0,
    "start_time": "2023-02-01T08:18:54.857Z"
   },
   {
    "duration": 0,
    "start_time": "2023-02-01T08:18:54.858Z"
   },
   {
    "duration": 0,
    "start_time": "2023-02-01T08:18:54.859Z"
   },
   {
    "duration": 0,
    "start_time": "2023-02-01T08:18:54.860Z"
   },
   {
    "duration": 0,
    "start_time": "2023-02-01T08:18:54.861Z"
   },
   {
    "duration": 1,
    "start_time": "2023-02-01T08:18:54.861Z"
   },
   {
    "duration": 0,
    "start_time": "2023-02-01T08:18:54.862Z"
   },
   {
    "duration": 0,
    "start_time": "2023-02-01T08:18:54.864Z"
   },
   {
    "duration": 0,
    "start_time": "2023-02-01T08:18:54.865Z"
   },
   {
    "duration": 0,
    "start_time": "2023-02-01T08:18:54.866Z"
   },
   {
    "duration": 0,
    "start_time": "2023-02-01T08:18:54.867Z"
   },
   {
    "duration": 0,
    "start_time": "2023-02-01T08:18:54.868Z"
   },
   {
    "duration": 0,
    "start_time": "2023-02-01T08:18:54.869Z"
   },
   {
    "duration": 0,
    "start_time": "2023-02-01T08:18:54.870Z"
   },
   {
    "duration": 0,
    "start_time": "2023-02-01T08:18:54.871Z"
   },
   {
    "duration": 0,
    "start_time": "2023-02-01T08:18:54.872Z"
   },
   {
    "duration": 0,
    "start_time": "2023-02-01T08:18:54.873Z"
   },
   {
    "duration": 0,
    "start_time": "2023-02-01T08:18:54.874Z"
   },
   {
    "duration": 0,
    "start_time": "2023-02-01T08:18:54.874Z"
   },
   {
    "duration": 0,
    "start_time": "2023-02-01T08:18:54.937Z"
   },
   {
    "duration": 0,
    "start_time": "2023-02-01T08:18:54.938Z"
   },
   {
    "duration": 0,
    "start_time": "2023-02-01T08:18:54.940Z"
   },
   {
    "duration": 0,
    "start_time": "2023-02-01T08:18:54.941Z"
   },
   {
    "duration": 0,
    "start_time": "2023-02-01T08:18:54.943Z"
   },
   {
    "duration": 0,
    "start_time": "2023-02-01T08:18:54.944Z"
   },
   {
    "duration": 0,
    "start_time": "2023-02-01T08:18:54.945Z"
   },
   {
    "duration": 0,
    "start_time": "2023-02-01T08:18:54.945Z"
   },
   {
    "duration": 0,
    "start_time": "2023-02-01T08:18:54.947Z"
   },
   {
    "duration": 0,
    "start_time": "2023-02-01T08:18:54.947Z"
   },
   {
    "duration": 0,
    "start_time": "2023-02-01T08:18:54.948Z"
   },
   {
    "duration": 0,
    "start_time": "2023-02-01T08:18:54.949Z"
   },
   {
    "duration": 0,
    "start_time": "2023-02-01T08:18:54.951Z"
   },
   {
    "duration": 0,
    "start_time": "2023-02-01T08:18:54.951Z"
   },
   {
    "duration": 0,
    "start_time": "2023-02-01T08:18:54.952Z"
   },
   {
    "duration": 0,
    "start_time": "2023-02-01T08:18:54.954Z"
   },
   {
    "duration": 0,
    "start_time": "2023-02-01T08:18:54.955Z"
   },
   {
    "duration": 0,
    "start_time": "2023-02-01T08:18:54.955Z"
   },
   {
    "duration": 0,
    "start_time": "2023-02-01T08:18:54.956Z"
   },
   {
    "duration": 0,
    "start_time": "2023-02-01T08:18:54.957Z"
   },
   {
    "duration": 0,
    "start_time": "2023-02-01T08:18:54.959Z"
   },
   {
    "duration": 0,
    "start_time": "2023-02-01T08:18:54.960Z"
   },
   {
    "duration": 0,
    "start_time": "2023-02-01T08:18:54.961Z"
   },
   {
    "duration": 0,
    "start_time": "2023-02-01T08:18:54.962Z"
   },
   {
    "duration": 0,
    "start_time": "2023-02-01T08:18:54.963Z"
   },
   {
    "duration": 0,
    "start_time": "2023-02-01T08:18:54.964Z"
   },
   {
    "duration": 0,
    "start_time": "2023-02-01T08:18:54.965Z"
   },
   {
    "duration": 0,
    "start_time": "2023-02-01T08:18:54.966Z"
   },
   {
    "duration": 0,
    "start_time": "2023-02-01T08:18:54.968Z"
   },
   {
    "duration": 0,
    "start_time": "2023-02-01T08:18:54.969Z"
   },
   {
    "duration": 0,
    "start_time": "2023-02-01T08:18:54.970Z"
   },
   {
    "duration": 0,
    "start_time": "2023-02-01T08:18:54.971Z"
   },
   {
    "duration": 0,
    "start_time": "2023-02-01T08:18:54.972Z"
   },
   {
    "duration": 0,
    "start_time": "2023-02-01T08:18:54.973Z"
   },
   {
    "duration": 0,
    "start_time": "2023-02-01T08:18:55.038Z"
   },
   {
    "duration": 0,
    "start_time": "2023-02-01T08:18:55.039Z"
   },
   {
    "duration": 52,
    "start_time": "2023-02-01T08:18:59.980Z"
   },
   {
    "duration": 24,
    "start_time": "2023-02-01T08:19:01.011Z"
   },
   {
    "duration": 4,
    "start_time": "2023-02-01T08:19:02.062Z"
   },
   {
    "duration": 7,
    "start_time": "2023-02-01T08:19:02.893Z"
   },
   {
    "duration": 11,
    "start_time": "2023-02-01T08:19:04.187Z"
   },
   {
    "duration": 12,
    "start_time": "2023-02-01T08:19:06.059Z"
   },
   {
    "duration": 10,
    "start_time": "2023-02-01T08:19:07.010Z"
   },
   {
    "duration": 12,
    "start_time": "2023-02-01T08:19:07.906Z"
   },
   {
    "duration": 17,
    "start_time": "2023-02-01T08:19:09.116Z"
   },
   {
    "duration": 5,
    "start_time": "2023-02-01T08:19:10.274Z"
   },
   {
    "duration": 5,
    "start_time": "2023-02-01T08:19:12.556Z"
   },
   {
    "duration": 26,
    "start_time": "2023-02-01T08:19:13.459Z"
   },
   {
    "duration": 7,
    "start_time": "2023-02-01T08:19:14.515Z"
   },
   {
    "duration": 21,
    "start_time": "2023-02-01T08:19:15.324Z"
   },
   {
    "duration": 5,
    "start_time": "2023-02-01T08:19:16.482Z"
   },
   {
    "duration": 19,
    "start_time": "2023-02-01T08:19:17.420Z"
   },
   {
    "duration": 16,
    "start_time": "2023-02-01T08:19:18.480Z"
   },
   {
    "duration": 8,
    "start_time": "2023-02-01T08:19:19.612Z"
   },
   {
    "duration": 20,
    "start_time": "2023-02-01T08:19:20.697Z"
   },
   {
    "duration": 21,
    "start_time": "2023-02-01T08:19:21.683Z"
   },
   {
    "duration": 5292,
    "start_time": "2023-02-07T07:08:24.032Z"
   },
   {
    "duration": 2709,
    "start_time": "2023-02-07T07:08:29.327Z"
   },
   {
    "duration": 1569,
    "start_time": "2023-02-07T07:08:32.038Z"
   },
   {
    "duration": 3,
    "start_time": "2023-02-07T07:08:33.609Z"
   },
   {
    "duration": 137,
    "start_time": "2023-02-07T07:08:33.613Z"
   },
   {
    "duration": 17,
    "start_time": "2023-02-07T07:08:33.752Z"
   },
   {
    "duration": 8,
    "start_time": "2023-02-07T07:08:33.771Z"
   },
   {
    "duration": 9,
    "start_time": "2023-02-07T07:08:33.780Z"
   },
   {
    "duration": 17,
    "start_time": "2023-02-07T07:08:33.791Z"
   },
   {
    "duration": 12,
    "start_time": "2023-02-07T07:08:33.812Z"
   },
   {
    "duration": 33,
    "start_time": "2023-02-07T07:08:33.826Z"
   },
   {
    "duration": 21,
    "start_time": "2023-02-07T07:08:33.861Z"
   },
   {
    "duration": 30,
    "start_time": "2023-02-07T07:08:33.883Z"
   },
   {
    "duration": 6,
    "start_time": "2023-02-07T07:08:33.915Z"
   },
   {
    "duration": 6,
    "start_time": "2023-02-07T07:08:33.923Z"
   },
   {
    "duration": 12,
    "start_time": "2023-02-07T07:08:33.948Z"
   },
   {
    "duration": 5,
    "start_time": "2023-02-07T07:08:33.962Z"
   },
   {
    "duration": 12,
    "start_time": "2023-02-07T07:08:33.969Z"
   },
   {
    "duration": 7,
    "start_time": "2023-02-07T07:08:33.983Z"
   },
   {
    "duration": 17,
    "start_time": "2023-02-07T07:08:33.991Z"
   },
   {
    "duration": 40,
    "start_time": "2023-02-07T07:08:34.010Z"
   },
   {
    "duration": 9,
    "start_time": "2023-02-07T07:08:34.052Z"
   },
   {
    "duration": 17,
    "start_time": "2023-02-07T07:08:34.063Z"
   },
   {
    "duration": 15,
    "start_time": "2023-02-07T07:08:34.081Z"
   },
   {
    "duration": 11,
    "start_time": "2023-02-07T07:08:34.098Z"
   },
   {
    "duration": 10,
    "start_time": "2023-02-07T07:08:34.111Z"
   },
   {
    "duration": 13,
    "start_time": "2023-02-07T07:08:34.149Z"
   },
   {
    "duration": 12,
    "start_time": "2023-02-07T07:08:34.167Z"
   },
   {
    "duration": 18,
    "start_time": "2023-02-07T07:08:34.181Z"
   },
   {
    "duration": 2,
    "start_time": "2023-02-07T07:08:34.201Z"
   },
   {
    "duration": 5,
    "start_time": "2023-02-07T07:08:34.204Z"
   },
   {
    "duration": 6,
    "start_time": "2023-02-07T07:08:34.211Z"
   },
   {
    "duration": 13,
    "start_time": "2023-02-07T07:08:34.219Z"
   },
   {
    "duration": 23,
    "start_time": "2023-02-07T07:08:34.233Z"
   },
   {
    "duration": 4,
    "start_time": "2023-02-07T07:08:34.258Z"
   },
   {
    "duration": 8,
    "start_time": "2023-02-07T07:08:34.264Z"
   },
   {
    "duration": 8,
    "start_time": "2023-02-07T07:08:34.273Z"
   },
   {
    "duration": 13,
    "start_time": "2023-02-07T07:08:34.282Z"
   },
   {
    "duration": 9,
    "start_time": "2023-02-07T07:08:34.297Z"
   },
   {
    "duration": 114,
    "start_time": "2023-02-07T07:08:34.308Z"
   },
   {
    "duration": 9,
    "start_time": "2023-02-07T07:08:34.424Z"
   },
   {
    "duration": 10,
    "start_time": "2023-02-07T07:08:34.435Z"
   },
   {
    "duration": 9,
    "start_time": "2023-02-07T07:08:34.446Z"
   },
   {
    "duration": 11,
    "start_time": "2023-02-07T07:08:34.457Z"
   },
   {
    "duration": 9,
    "start_time": "2023-02-07T07:08:34.470Z"
   },
   {
    "duration": 9,
    "start_time": "2023-02-07T07:08:34.481Z"
   },
   {
    "duration": 7,
    "start_time": "2023-02-07T07:08:34.491Z"
   },
   {
    "duration": 8,
    "start_time": "2023-02-07T07:08:34.500Z"
   },
   {
    "duration": 6,
    "start_time": "2023-02-07T07:08:34.509Z"
   },
   {
    "duration": 6,
    "start_time": "2023-02-07T07:08:34.517Z"
   },
   {
    "duration": 87,
    "start_time": "2023-02-07T07:08:34.524Z"
   },
   {
    "duration": 8,
    "start_time": "2023-02-07T07:08:34.613Z"
   },
   {
    "duration": 8,
    "start_time": "2023-02-07T07:08:34.623Z"
   },
   {
    "duration": 6,
    "start_time": "2023-02-07T07:08:34.633Z"
   },
   {
    "duration": 7,
    "start_time": "2023-02-07T07:08:34.641Z"
   },
   {
    "duration": 6,
    "start_time": "2023-02-07T07:08:34.649Z"
   },
   {
    "duration": 7,
    "start_time": "2023-02-07T07:08:34.657Z"
   },
   {
    "duration": 106,
    "start_time": "2023-02-07T07:08:34.667Z"
   },
   {
    "duration": 9,
    "start_time": "2023-02-07T07:08:34.775Z"
   },
   {
    "duration": 9,
    "start_time": "2023-02-07T07:08:34.786Z"
   },
   {
    "duration": 38,
    "start_time": "2023-02-07T07:08:34.797Z"
   },
   {
    "duration": 4,
    "start_time": "2023-02-07T07:08:34.837Z"
   },
   {
    "duration": 22,
    "start_time": "2023-02-07T07:08:34.843Z"
   },
   {
    "duration": 23,
    "start_time": "2023-02-07T07:08:34.867Z"
   },
   {
    "duration": 2,
    "start_time": "2023-02-07T07:08:34.892Z"
   },
   {
    "duration": 71,
    "start_time": "2023-02-07T07:08:34.896Z"
   },
   {
    "duration": 11,
    "start_time": "2023-02-07T07:08:34.969Z"
   },
   {
    "duration": 15,
    "start_time": "2023-02-07T07:08:34.982Z"
   },
   {
    "duration": 15,
    "start_time": "2023-02-07T07:08:34.999Z"
   },
   {
    "duration": 33,
    "start_time": "2023-02-07T07:08:35.016Z"
   },
   {
    "duration": 13,
    "start_time": "2023-02-07T07:08:35.051Z"
   },
   {
    "duration": 38,
    "start_time": "2023-02-07T07:08:35.066Z"
   },
   {
    "duration": 9,
    "start_time": "2023-02-07T07:08:35.105Z"
   },
   {
    "duration": 7,
    "start_time": "2023-02-07T07:08:35.116Z"
   },
   {
    "duration": 9,
    "start_time": "2023-02-07T07:08:35.124Z"
   },
   {
    "duration": 11,
    "start_time": "2023-02-07T07:08:35.134Z"
   },
   {
    "duration": 7,
    "start_time": "2023-02-07T07:08:35.147Z"
   },
   {
    "duration": 12,
    "start_time": "2023-02-07T07:08:35.156Z"
   },
   {
    "duration": 9,
    "start_time": "2023-02-07T07:08:35.170Z"
   },
   {
    "duration": 10,
    "start_time": "2023-02-07T07:08:35.181Z"
   },
   {
    "duration": 6,
    "start_time": "2023-02-07T07:08:35.193Z"
   },
   {
    "duration": 4,
    "start_time": "2023-02-07T07:08:35.209Z"
   },
   {
    "duration": 8,
    "start_time": "2023-02-07T07:08:35.215Z"
   },
   {
    "duration": 25,
    "start_time": "2023-02-07T07:08:35.225Z"
   },
   {
    "duration": 6,
    "start_time": "2023-02-07T07:08:35.252Z"
   },
   {
    "duration": 120,
    "start_time": "2023-02-07T07:08:35.259Z"
   },
   {
    "duration": 21,
    "start_time": "2023-02-07T07:08:35.381Z"
   },
   {
    "duration": 16,
    "start_time": "2023-02-07T07:08:35.404Z"
   },
   {
    "duration": 5,
    "start_time": "2023-02-07T07:08:35.421Z"
   },
   {
    "duration": 5,
    "start_time": "2023-02-07T07:08:35.448Z"
   },
   {
    "duration": 6,
    "start_time": "2023-02-07T07:08:35.455Z"
   },
   {
    "duration": 5,
    "start_time": "2023-02-07T07:08:35.463Z"
   },
   {
    "duration": 24,
    "start_time": "2023-02-07T07:08:35.469Z"
   },
   {
    "duration": 13,
    "start_time": "2023-02-07T07:08:35.494Z"
   },
   {
    "duration": 5,
    "start_time": "2023-02-07T07:08:35.509Z"
   },
   {
    "duration": 6,
    "start_time": "2023-02-07T07:08:35.516Z"
   },
   {
    "duration": 11,
    "start_time": "2023-02-07T07:08:35.523Z"
   },
   {
    "duration": 16,
    "start_time": "2023-02-07T07:08:35.535Z"
   },
   {
    "duration": 8,
    "start_time": "2023-02-07T07:08:35.552Z"
   },
   {
    "duration": 9,
    "start_time": "2023-02-07T07:08:35.561Z"
   },
   {
    "duration": 9,
    "start_time": "2023-02-07T07:08:35.572Z"
   },
   {
    "duration": 5,
    "start_time": "2023-02-07T07:08:35.582Z"
   },
   {
    "duration": 12,
    "start_time": "2023-02-07T07:08:35.589Z"
   },
   {
    "duration": 9,
    "start_time": "2023-02-07T07:08:35.603Z"
   },
   {
    "duration": 10,
    "start_time": "2023-02-07T07:08:35.614Z"
   },
   {
    "duration": 24,
    "start_time": "2023-02-07T07:08:35.625Z"
   },
   {
    "duration": 16,
    "start_time": "2023-02-07T07:08:35.651Z"
   },
   {
    "duration": 7,
    "start_time": "2023-02-07T07:08:35.669Z"
   },
   {
    "duration": 10,
    "start_time": "2023-02-07T07:08:35.678Z"
   },
   {
    "duration": 9,
    "start_time": "2023-02-07T07:08:35.690Z"
   },
   {
    "duration": 8,
    "start_time": "2023-02-07T07:08:35.701Z"
   },
   {
    "duration": 10,
    "start_time": "2023-02-07T07:08:35.711Z"
   },
   {
    "duration": 26,
    "start_time": "2023-02-07T07:08:35.723Z"
   },
   {
    "duration": 5,
    "start_time": "2023-02-07T07:08:35.751Z"
   },
   {
    "duration": 8,
    "start_time": "2023-02-07T07:08:35.758Z"
   },
   {
    "duration": 21,
    "start_time": "2023-02-07T07:08:35.768Z"
   },
   {
    "duration": 17,
    "start_time": "2023-02-07T07:08:35.790Z"
   },
   {
    "duration": 8,
    "start_time": "2023-02-07T07:08:35.810Z"
   },
   {
    "duration": 10,
    "start_time": "2023-02-07T07:08:35.819Z"
   },
   {
    "duration": 7,
    "start_time": "2023-02-07T07:08:35.830Z"
   },
   {
    "duration": 13,
    "start_time": "2023-02-07T07:08:35.838Z"
   },
   {
    "duration": 7,
    "start_time": "2023-02-07T07:08:35.853Z"
   },
   {
    "duration": 10,
    "start_time": "2023-02-07T07:08:35.862Z"
   },
   {
    "duration": 26,
    "start_time": "2023-02-07T07:08:35.874Z"
   },
   {
    "duration": 4,
    "start_time": "2023-02-07T07:08:35.902Z"
   },
   {
    "duration": 47,
    "start_time": "2023-02-07T07:08:35.907Z"
   },
   {
    "duration": 17,
    "start_time": "2023-02-07T07:08:35.956Z"
   },
   {
    "duration": 6,
    "start_time": "2023-02-07T07:08:35.975Z"
   },
   {
    "duration": 15,
    "start_time": "2023-02-07T07:08:35.983Z"
   },
   {
    "duration": 5,
    "start_time": "2023-02-07T07:08:35.999Z"
   },
   {
    "duration": 13,
    "start_time": "2023-02-07T07:08:36.006Z"
   },
   {
    "duration": 145,
    "start_time": "2023-02-07T07:08:36.021Z"
   },
   {
    "duration": 1,
    "start_time": "2023-02-07T07:08:36.167Z"
   },
   {
    "duration": 0,
    "start_time": "2023-02-07T07:08:36.169Z"
   },
   {
    "duration": 0,
    "start_time": "2023-02-07T07:08:36.169Z"
   },
   {
    "duration": 0,
    "start_time": "2023-02-07T07:08:36.170Z"
   },
   {
    "duration": 0,
    "start_time": "2023-02-07T07:08:36.171Z"
   },
   {
    "duration": 0,
    "start_time": "2023-02-07T07:08:36.173Z"
   },
   {
    "duration": 0,
    "start_time": "2023-02-07T07:08:36.174Z"
   },
   {
    "duration": 0,
    "start_time": "2023-02-07T07:08:36.175Z"
   },
   {
    "duration": 0,
    "start_time": "2023-02-07T07:08:36.176Z"
   },
   {
    "duration": 0,
    "start_time": "2023-02-07T07:08:36.177Z"
   },
   {
    "duration": 0,
    "start_time": "2023-02-07T07:08:36.178Z"
   },
   {
    "duration": 0,
    "start_time": "2023-02-07T07:08:36.180Z"
   },
   {
    "duration": 0,
    "start_time": "2023-02-07T07:08:36.181Z"
   },
   {
    "duration": 0,
    "start_time": "2023-02-07T07:08:36.182Z"
   },
   {
    "duration": 0,
    "start_time": "2023-02-07T07:08:36.184Z"
   },
   {
    "duration": 0,
    "start_time": "2023-02-07T07:08:36.185Z"
   },
   {
    "duration": 0,
    "start_time": "2023-02-07T07:08:36.186Z"
   },
   {
    "duration": 0,
    "start_time": "2023-02-07T07:08:36.187Z"
   },
   {
    "duration": 0,
    "start_time": "2023-02-07T07:08:36.189Z"
   },
   {
    "duration": 0,
    "start_time": "2023-02-07T07:08:36.191Z"
   },
   {
    "duration": 0,
    "start_time": "2023-02-07T07:08:36.192Z"
   },
   {
    "duration": 0,
    "start_time": "2023-02-07T07:08:36.194Z"
   },
   {
    "duration": 0,
    "start_time": "2023-02-07T07:08:36.196Z"
   },
   {
    "duration": 0,
    "start_time": "2023-02-07T07:08:36.250Z"
   },
   {
    "duration": 0,
    "start_time": "2023-02-07T07:08:36.252Z"
   },
   {
    "duration": 0,
    "start_time": "2023-02-07T07:08:36.253Z"
   },
   {
    "duration": 0,
    "start_time": "2023-02-07T07:08:36.254Z"
   },
   {
    "duration": 0,
    "start_time": "2023-02-07T07:08:36.257Z"
   },
   {
    "duration": 0,
    "start_time": "2023-02-07T07:08:36.259Z"
   },
   {
    "duration": 0,
    "start_time": "2023-02-07T07:08:36.261Z"
   },
   {
    "duration": 0,
    "start_time": "2023-02-07T07:08:36.262Z"
   },
   {
    "duration": 0,
    "start_time": "2023-02-07T07:08:36.264Z"
   },
   {
    "duration": 0,
    "start_time": "2023-02-07T07:08:36.265Z"
   },
   {
    "duration": 0,
    "start_time": "2023-02-07T07:08:36.266Z"
   },
   {
    "duration": 0,
    "start_time": "2023-02-07T07:08:36.266Z"
   },
   {
    "duration": 0,
    "start_time": "2023-02-07T07:08:36.267Z"
   },
   {
    "duration": 0,
    "start_time": "2023-02-07T07:08:36.269Z"
   },
   {
    "duration": 0,
    "start_time": "2023-02-07T07:08:36.270Z"
   },
   {
    "duration": 0,
    "start_time": "2023-02-07T07:08:36.272Z"
   },
   {
    "duration": 0,
    "start_time": "2023-02-07T07:08:36.274Z"
   },
   {
    "duration": 0,
    "start_time": "2023-02-07T07:08:36.275Z"
   },
   {
    "duration": 1,
    "start_time": "2023-02-07T07:08:36.276Z"
   },
   {
    "duration": 0,
    "start_time": "2023-02-07T07:08:36.278Z"
   },
   {
    "duration": 0,
    "start_time": "2023-02-07T07:08:36.280Z"
   },
   {
    "duration": 0,
    "start_time": "2023-02-07T07:08:36.281Z"
   },
   {
    "duration": 0,
    "start_time": "2023-02-07T07:08:36.283Z"
   },
   {
    "duration": 0,
    "start_time": "2023-02-07T07:08:36.286Z"
   },
   {
    "duration": 0,
    "start_time": "2023-02-07T07:08:36.286Z"
   },
   {
    "duration": 0,
    "start_time": "2023-02-07T07:08:36.288Z"
   },
   {
    "duration": 0,
    "start_time": "2023-02-07T07:08:36.349Z"
   },
   {
    "duration": 0,
    "start_time": "2023-02-07T07:08:36.351Z"
   },
   {
    "duration": 0,
    "start_time": "2023-02-07T07:08:36.352Z"
   },
   {
    "duration": 0,
    "start_time": "2023-02-07T07:08:36.354Z"
   },
   {
    "duration": 0,
    "start_time": "2023-02-07T07:08:36.355Z"
   },
   {
    "duration": 0,
    "start_time": "2023-02-07T07:08:36.357Z"
   },
   {
    "duration": 0,
    "start_time": "2023-02-07T07:08:36.358Z"
   },
   {
    "duration": 0,
    "start_time": "2023-02-07T07:08:36.360Z"
   },
   {
    "duration": 0,
    "start_time": "2023-02-07T07:08:36.361Z"
   },
   {
    "duration": 0,
    "start_time": "2023-02-07T07:08:36.363Z"
   },
   {
    "duration": 0,
    "start_time": "2023-02-07T07:08:36.365Z"
   },
   {
    "duration": 0,
    "start_time": "2023-02-07T07:08:36.366Z"
   },
   {
    "duration": 0,
    "start_time": "2023-02-07T07:08:36.368Z"
   },
   {
    "duration": 0,
    "start_time": "2023-02-07T07:08:36.369Z"
   },
   {
    "duration": 0,
    "start_time": "2023-02-07T07:08:36.371Z"
   },
   {
    "duration": 0,
    "start_time": "2023-02-07T07:08:36.373Z"
   },
   {
    "duration": 0,
    "start_time": "2023-02-07T07:08:36.375Z"
   },
   {
    "duration": 0,
    "start_time": "2023-02-07T07:08:36.376Z"
   },
   {
    "duration": 0,
    "start_time": "2023-02-07T07:08:36.378Z"
   },
   {
    "duration": 0,
    "start_time": "2023-02-07T07:08:36.379Z"
   },
   {
    "duration": 0,
    "start_time": "2023-02-07T07:08:36.380Z"
   },
   {
    "duration": 0,
    "start_time": "2023-02-07T07:08:36.382Z"
   },
   {
    "duration": 0,
    "start_time": "2023-02-07T07:08:36.383Z"
   },
   {
    "duration": 0,
    "start_time": "2023-02-07T07:08:36.385Z"
   },
   {
    "duration": 4,
    "start_time": "2023-02-07T07:19:14.037Z"
   },
   {
    "duration": 4,
    "start_time": "2023-02-07T07:19:25.229Z"
   },
   {
    "duration": 5,
    "start_time": "2023-02-07T07:24:10.679Z"
   },
   {
    "duration": 41,
    "start_time": "2023-02-07T07:24:29.207Z"
   },
   {
    "duration": 18,
    "start_time": "2023-02-07T07:24:57.477Z"
   },
   {
    "duration": 11,
    "start_time": "2023-02-07T07:26:36.704Z"
   },
   {
    "duration": 30,
    "start_time": "2023-02-07T07:26:42.963Z"
   },
   {
    "duration": 2,
    "start_time": "2023-02-07T07:27:01.161Z"
   },
   {
    "duration": 26,
    "start_time": "2023-02-07T07:27:08.118Z"
   },
   {
    "duration": 7,
    "start_time": "2023-02-07T07:30:30.529Z"
   },
   {
    "duration": 17,
    "start_time": "2023-02-07T07:30:31.651Z"
   },
   {
    "duration": 6,
    "start_time": "2023-02-07T07:30:44.113Z"
   },
   {
    "duration": 4,
    "start_time": "2023-02-07T07:30:45.257Z"
   },
   {
    "duration": 18,
    "start_time": "2023-02-07T07:30:47.117Z"
   },
   {
    "duration": 4,
    "start_time": "2023-02-07T07:30:49.175Z"
   },
   {
    "duration": 4,
    "start_time": "2023-02-07T07:30:53.031Z"
   },
   {
    "duration": 2479,
    "start_time": "2023-02-07T07:32:48.082Z"
   },
   {
    "duration": 2186,
    "start_time": "2023-02-07T07:32:50.564Z"
   },
   {
    "duration": 1362,
    "start_time": "2023-02-07T07:32:52.752Z"
   },
   {
    "duration": 2,
    "start_time": "2023-02-07T07:32:54.116Z"
   },
   {
    "duration": 56,
    "start_time": "2023-02-07T07:32:54.120Z"
   },
   {
    "duration": 14,
    "start_time": "2023-02-07T07:32:54.177Z"
   },
   {
    "duration": 11,
    "start_time": "2023-02-07T07:32:54.192Z"
   },
   {
    "duration": 10,
    "start_time": "2023-02-07T07:32:54.205Z"
   },
   {
    "duration": 12,
    "start_time": "2023-02-07T07:32:54.217Z"
   },
   {
    "duration": 19,
    "start_time": "2023-02-07T07:32:54.231Z"
   },
   {
    "duration": 9,
    "start_time": "2023-02-07T07:32:54.251Z"
   },
   {
    "duration": 13,
    "start_time": "2023-02-07T07:32:54.261Z"
   },
   {
    "duration": 15,
    "start_time": "2023-02-07T07:32:54.275Z"
   },
   {
    "duration": 5,
    "start_time": "2023-02-07T07:32:54.294Z"
   },
   {
    "duration": 6,
    "start_time": "2023-02-07T07:32:54.301Z"
   },
   {
    "duration": 47,
    "start_time": "2023-02-07T07:32:54.308Z"
   },
   {
    "duration": 6,
    "start_time": "2023-02-07T07:32:54.357Z"
   },
   {
    "duration": 11,
    "start_time": "2023-02-07T07:32:54.364Z"
   },
   {
    "duration": 5,
    "start_time": "2023-02-07T07:32:54.376Z"
   },
   {
    "duration": 13,
    "start_time": "2023-02-07T07:32:54.383Z"
   },
   {
    "duration": 11,
    "start_time": "2023-02-07T07:32:54.398Z"
   },
   {
    "duration": 39,
    "start_time": "2023-02-07T07:32:54.411Z"
   },
   {
    "duration": 12,
    "start_time": "2023-02-07T07:32:54.451Z"
   },
   {
    "duration": 10,
    "start_time": "2023-02-07T07:32:54.464Z"
   },
   {
    "duration": 16,
    "start_time": "2023-02-07T07:32:54.476Z"
   },
   {
    "duration": 9,
    "start_time": "2023-02-07T07:32:54.493Z"
   },
   {
    "duration": 14,
    "start_time": "2023-02-07T07:32:54.504Z"
   },
   {
    "duration": 4,
    "start_time": "2023-02-07T07:32:54.548Z"
   },
   {
    "duration": 18,
    "start_time": "2023-02-07T07:32:54.553Z"
   },
   {
    "duration": 3,
    "start_time": "2023-02-07T07:32:54.573Z"
   },
   {
    "duration": 5,
    "start_time": "2023-02-07T07:32:54.578Z"
   },
   {
    "duration": 5,
    "start_time": "2023-02-07T07:32:54.584Z"
   },
   {
    "duration": 14,
    "start_time": "2023-02-07T07:32:54.591Z"
   },
   {
    "duration": 14,
    "start_time": "2023-02-07T07:32:54.607Z"
   },
   {
    "duration": 30,
    "start_time": "2023-02-07T07:32:54.623Z"
   },
   {
    "duration": 9,
    "start_time": "2023-02-07T07:32:54.655Z"
   },
   {
    "duration": 11,
    "start_time": "2023-02-07T07:32:54.666Z"
   },
   {
    "duration": 17,
    "start_time": "2023-02-07T07:32:54.678Z"
   },
   {
    "duration": 9,
    "start_time": "2023-02-07T07:32:54.697Z"
   },
   {
    "duration": 48,
    "start_time": "2023-02-07T07:32:54.708Z"
   },
   {
    "duration": 13,
    "start_time": "2023-02-07T07:32:54.765Z"
   },
   {
    "duration": 9,
    "start_time": "2023-02-07T07:32:54.780Z"
   },
   {
    "duration": 8,
    "start_time": "2023-02-07T07:32:54.790Z"
   },
   {
    "duration": 5,
    "start_time": "2023-02-07T07:32:54.800Z"
   },
   {
    "duration": 5,
    "start_time": "2023-02-07T07:32:54.807Z"
   },
   {
    "duration": 35,
    "start_time": "2023-02-07T07:32:54.814Z"
   },
   {
    "duration": 7,
    "start_time": "2023-02-07T07:32:54.851Z"
   },
   {
    "duration": 5,
    "start_time": "2023-02-07T07:32:54.860Z"
   },
   {
    "duration": 7,
    "start_time": "2023-02-07T07:32:54.866Z"
   },
   {
    "duration": 7,
    "start_time": "2023-02-07T07:32:54.875Z"
   },
   {
    "duration": 26,
    "start_time": "2023-02-07T07:32:54.884Z"
   },
   {
    "duration": 7,
    "start_time": "2023-02-07T07:32:54.912Z"
   },
   {
    "duration": 11,
    "start_time": "2023-02-07T07:32:54.921Z"
   },
   {
    "duration": 5,
    "start_time": "2023-02-07T07:32:54.949Z"
   },
   {
    "duration": 9,
    "start_time": "2023-02-07T07:32:54.956Z"
   },
   {
    "duration": 15,
    "start_time": "2023-02-07T07:32:54.967Z"
   },
   {
    "duration": 6,
    "start_time": "2023-02-07T07:32:54.983Z"
   },
   {
    "duration": 21,
    "start_time": "2023-02-07T07:32:54.991Z"
   },
   {
    "duration": 7,
    "start_time": "2023-02-07T07:32:55.014Z"
   },
   {
    "duration": 8,
    "start_time": "2023-02-07T07:32:55.023Z"
   },
   {
    "duration": 30,
    "start_time": "2023-02-07T07:32:55.049Z"
   },
   {
    "duration": 4,
    "start_time": "2023-02-07T07:32:55.081Z"
   },
   {
    "duration": 26,
    "start_time": "2023-02-07T07:32:55.087Z"
   },
   {
    "duration": 40,
    "start_time": "2023-02-07T07:32:55.116Z"
   },
   {
    "duration": 2,
    "start_time": "2023-02-07T07:32:55.158Z"
   },
   {
    "duration": 62,
    "start_time": "2023-02-07T07:32:55.161Z"
   },
   {
    "duration": 25,
    "start_time": "2023-02-07T07:32:55.225Z"
   },
   {
    "duration": 9,
    "start_time": "2023-02-07T07:32:55.251Z"
   },
   {
    "duration": 10,
    "start_time": "2023-02-07T07:32:55.261Z"
   },
   {
    "duration": 6,
    "start_time": "2023-02-07T07:32:55.273Z"
   },
   {
    "duration": 6,
    "start_time": "2023-02-07T07:32:55.280Z"
   },
   {
    "duration": 5,
    "start_time": "2023-02-07T07:32:55.288Z"
   },
   {
    "duration": 10,
    "start_time": "2023-02-07T07:32:55.296Z"
   },
   {
    "duration": 8,
    "start_time": "2023-02-07T07:32:55.308Z"
   },
   {
    "duration": 33,
    "start_time": "2023-02-07T07:32:55.317Z"
   },
   {
    "duration": 5,
    "start_time": "2023-02-07T07:32:55.351Z"
   },
   {
    "duration": 7,
    "start_time": "2023-02-07T07:32:55.358Z"
   },
   {
    "duration": 8,
    "start_time": "2023-02-07T07:32:55.367Z"
   },
   {
    "duration": 8,
    "start_time": "2023-02-07T07:32:55.377Z"
   },
   {
    "duration": 6,
    "start_time": "2023-02-07T07:32:55.388Z"
   },
   {
    "duration": 20,
    "start_time": "2023-02-07T07:32:55.396Z"
   },
   {
    "duration": 34,
    "start_time": "2023-02-07T07:32:55.418Z"
   },
   {
    "duration": 6,
    "start_time": "2023-02-07T07:32:55.454Z"
   },
   {
    "duration": 10,
    "start_time": "2023-02-07T07:32:55.462Z"
   },
   {
    "duration": 10,
    "start_time": "2023-02-07T07:32:55.473Z"
   },
   {
    "duration": 129,
    "start_time": "2023-02-07T07:32:55.484Z"
   },
   {
    "duration": 20,
    "start_time": "2023-02-07T07:32:55.614Z"
   },
   {
    "duration": 26,
    "start_time": "2023-02-07T07:32:55.636Z"
   },
   {
    "duration": 4,
    "start_time": "2023-02-07T07:32:55.664Z"
   },
   {
    "duration": 7,
    "start_time": "2023-02-07T07:32:55.669Z"
   },
   {
    "duration": 8,
    "start_time": "2023-02-07T07:32:55.677Z"
   },
   {
    "duration": 6,
    "start_time": "2023-02-07T07:32:55.687Z"
   },
   {
    "duration": 8,
    "start_time": "2023-02-07T07:32:55.695Z"
   },
   {
    "duration": 45,
    "start_time": "2023-02-07T07:32:55.705Z"
   },
   {
    "duration": 6,
    "start_time": "2023-02-07T07:32:55.752Z"
   },
   {
    "duration": 6,
    "start_time": "2023-02-07T07:32:55.760Z"
   },
   {
    "duration": 10,
    "start_time": "2023-02-07T07:32:55.767Z"
   },
   {
    "duration": 6,
    "start_time": "2023-02-07T07:32:55.779Z"
   },
   {
    "duration": 7,
    "start_time": "2023-02-07T07:32:55.787Z"
   },
   {
    "duration": 4,
    "start_time": "2023-02-07T07:32:55.796Z"
   },
   {
    "duration": 49,
    "start_time": "2023-02-07T07:32:55.802Z"
   },
   {
    "duration": 36,
    "start_time": "2023-02-07T07:32:55.853Z"
   },
   {
    "duration": 9,
    "start_time": "2023-02-07T07:32:55.891Z"
   },
   {
    "duration": 6,
    "start_time": "2023-02-07T07:32:55.901Z"
   },
   {
    "duration": 7,
    "start_time": "2023-02-07T07:32:55.909Z"
   },
   {
    "duration": 9,
    "start_time": "2023-02-07T07:32:55.917Z"
   },
   {
    "duration": 7,
    "start_time": "2023-02-07T07:32:55.928Z"
   },
   {
    "duration": 7,
    "start_time": "2023-02-07T07:32:55.936Z"
   },
   {
    "duration": 5,
    "start_time": "2023-02-07T07:32:55.948Z"
   },
   {
    "duration": 7,
    "start_time": "2023-02-07T07:32:55.955Z"
   },
   {
    "duration": 10,
    "start_time": "2023-02-07T07:32:55.964Z"
   },
   {
    "duration": 8,
    "start_time": "2023-02-07T07:32:55.975Z"
   },
   {
    "duration": 7,
    "start_time": "2023-02-07T07:32:55.984Z"
   },
   {
    "duration": 9,
    "start_time": "2023-02-07T07:32:55.993Z"
   },
   {
    "duration": 11,
    "start_time": "2023-02-07T07:32:56.004Z"
   },
   {
    "duration": 33,
    "start_time": "2023-02-07T07:32:56.017Z"
   },
   {
    "duration": 8,
    "start_time": "2023-02-07T07:32:56.052Z"
   },
   {
    "duration": 7,
    "start_time": "2023-02-07T07:32:56.062Z"
   },
   {
    "duration": 7,
    "start_time": "2023-02-07T07:32:56.071Z"
   },
   {
    "duration": 9,
    "start_time": "2023-02-07T07:32:56.080Z"
   },
   {
    "duration": 9,
    "start_time": "2023-02-07T07:32:56.090Z"
   },
   {
    "duration": 5,
    "start_time": "2023-02-07T07:32:56.108Z"
   },
   {
    "duration": 36,
    "start_time": "2023-02-07T07:32:56.114Z"
   },
   {
    "duration": 15,
    "start_time": "2023-02-07T07:32:56.152Z"
   },
   {
    "duration": 4,
    "start_time": "2023-02-07T07:32:56.169Z"
   },
   {
    "duration": 34,
    "start_time": "2023-02-07T07:32:56.174Z"
   },
   {
    "duration": 49,
    "start_time": "2023-02-07T07:32:56.210Z"
   },
   {
    "duration": 8,
    "start_time": "2023-02-07T07:32:56.261Z"
   },
   {
    "duration": 21,
    "start_time": "2023-02-07T07:32:56.271Z"
   },
   {
    "duration": 10,
    "start_time": "2023-02-07T07:32:56.294Z"
   },
   {
    "duration": 43,
    "start_time": "2023-02-07T07:32:56.307Z"
   },
   {
    "duration": 5,
    "start_time": "2023-02-07T07:32:56.352Z"
   },
   {
    "duration": 57,
    "start_time": "2023-02-07T07:32:56.359Z"
   },
   {
    "duration": 6,
    "start_time": "2023-02-07T07:32:56.419Z"
   },
   {
    "duration": 49,
    "start_time": "2023-02-07T07:32:56.427Z"
   },
   {
    "duration": 44,
    "start_time": "2023-02-07T07:32:56.478Z"
   },
   {
    "duration": 7,
    "start_time": "2023-02-07T07:32:56.525Z"
   },
   {
    "duration": 6,
    "start_time": "2023-02-07T07:32:56.533Z"
   },
   {
    "duration": 19,
    "start_time": "2023-02-07T07:32:56.541Z"
   },
   {
    "duration": 15,
    "start_time": "2023-02-07T07:32:56.561Z"
   },
   {
    "duration": 9,
    "start_time": "2023-02-07T07:32:56.578Z"
   },
   {
    "duration": 9,
    "start_time": "2023-02-07T07:32:56.588Z"
   },
   {
    "duration": 6,
    "start_time": "2023-02-07T07:32:56.599Z"
   },
   {
    "duration": 4,
    "start_time": "2023-02-07T07:32:56.607Z"
   },
   {
    "duration": 24,
    "start_time": "2023-02-07T07:32:56.613Z"
   },
   {
    "duration": 11,
    "start_time": "2023-02-07T07:32:56.639Z"
   },
   {
    "duration": 5,
    "start_time": "2023-02-07T07:32:56.653Z"
   },
   {
    "duration": 7,
    "start_time": "2023-02-07T07:32:56.660Z"
   },
   {
    "duration": 5,
    "start_time": "2023-02-07T07:32:56.669Z"
   },
   {
    "duration": 73,
    "start_time": "2023-02-07T07:32:56.676Z"
   },
   {
    "duration": 123,
    "start_time": "2023-02-07T07:32:56.752Z"
   },
   {
    "duration": 0,
    "start_time": "2023-02-07T07:32:56.877Z"
   },
   {
    "duration": 0,
    "start_time": "2023-02-07T07:32:56.878Z"
   },
   {
    "duration": 0,
    "start_time": "2023-02-07T07:32:56.880Z"
   },
   {
    "duration": 0,
    "start_time": "2023-02-07T07:32:56.881Z"
   },
   {
    "duration": 0,
    "start_time": "2023-02-07T07:32:56.882Z"
   },
   {
    "duration": 0,
    "start_time": "2023-02-07T07:32:56.883Z"
   },
   {
    "duration": 0,
    "start_time": "2023-02-07T07:32:56.885Z"
   },
   {
    "duration": 0,
    "start_time": "2023-02-07T07:32:56.886Z"
   },
   {
    "duration": 0,
    "start_time": "2023-02-07T07:32:56.887Z"
   },
   {
    "duration": 0,
    "start_time": "2023-02-07T07:32:56.889Z"
   },
   {
    "duration": 0,
    "start_time": "2023-02-07T07:32:56.891Z"
   },
   {
    "duration": 0,
    "start_time": "2023-02-07T07:32:56.892Z"
   },
   {
    "duration": 0,
    "start_time": "2023-02-07T07:32:56.893Z"
   },
   {
    "duration": 0,
    "start_time": "2023-02-07T07:32:56.895Z"
   },
   {
    "duration": 0,
    "start_time": "2023-02-07T07:32:56.896Z"
   },
   {
    "duration": 1,
    "start_time": "2023-02-07T07:32:56.897Z"
   },
   {
    "duration": 0,
    "start_time": "2023-02-07T07:32:56.898Z"
   },
   {
    "duration": 0,
    "start_time": "2023-02-07T07:32:56.900Z"
   },
   {
    "duration": 0,
    "start_time": "2023-02-07T07:32:56.901Z"
   },
   {
    "duration": 0,
    "start_time": "2023-02-07T07:32:56.902Z"
   },
   {
    "duration": 0,
    "start_time": "2023-02-07T07:32:56.903Z"
   },
   {
    "duration": 0,
    "start_time": "2023-02-07T07:32:56.949Z"
   },
   {
    "duration": 0,
    "start_time": "2023-02-07T07:32:56.950Z"
   },
   {
    "duration": 0,
    "start_time": "2023-02-07T07:32:56.951Z"
   },
   {
    "duration": 0,
    "start_time": "2023-02-07T07:32:56.953Z"
   },
   {
    "duration": 0,
    "start_time": "2023-02-07T07:32:56.954Z"
   },
   {
    "duration": 0,
    "start_time": "2023-02-07T07:32:56.955Z"
   },
   {
    "duration": 0,
    "start_time": "2023-02-07T07:32:56.957Z"
   },
   {
    "duration": 0,
    "start_time": "2023-02-07T07:32:56.957Z"
   },
   {
    "duration": 0,
    "start_time": "2023-02-07T07:32:56.958Z"
   },
   {
    "duration": 0,
    "start_time": "2023-02-07T07:32:56.960Z"
   },
   {
    "duration": 0,
    "start_time": "2023-02-07T07:32:56.962Z"
   },
   {
    "duration": 0,
    "start_time": "2023-02-07T07:32:56.963Z"
   },
   {
    "duration": 0,
    "start_time": "2023-02-07T07:32:56.965Z"
   },
   {
    "duration": 0,
    "start_time": "2023-02-07T07:32:56.966Z"
   },
   {
    "duration": 0,
    "start_time": "2023-02-07T07:32:56.968Z"
   },
   {
    "duration": 0,
    "start_time": "2023-02-07T07:32:56.969Z"
   },
   {
    "duration": 0,
    "start_time": "2023-02-07T07:32:56.970Z"
   },
   {
    "duration": 0,
    "start_time": "2023-02-07T07:32:56.972Z"
   },
   {
    "duration": 0,
    "start_time": "2023-02-07T07:32:56.975Z"
   },
   {
    "duration": 0,
    "start_time": "2023-02-07T07:32:56.976Z"
   },
   {
    "duration": 0,
    "start_time": "2023-02-07T07:32:56.977Z"
   },
   {
    "duration": 0,
    "start_time": "2023-02-07T07:32:56.978Z"
   },
   {
    "duration": 0,
    "start_time": "2023-02-07T07:32:56.980Z"
   },
   {
    "duration": 0,
    "start_time": "2023-02-07T07:32:56.981Z"
   },
   {
    "duration": 0,
    "start_time": "2023-02-07T07:32:56.982Z"
   },
   {
    "duration": 0,
    "start_time": "2023-02-07T07:32:56.983Z"
   },
   {
    "duration": 0,
    "start_time": "2023-02-07T07:32:56.984Z"
   },
   {
    "duration": 0,
    "start_time": "2023-02-07T07:32:56.986Z"
   },
   {
    "duration": 0,
    "start_time": "2023-02-07T07:32:57.048Z"
   },
   {
    "duration": 0,
    "start_time": "2023-02-07T07:32:57.050Z"
   },
   {
    "duration": 0,
    "start_time": "2023-02-07T07:32:57.051Z"
   },
   {
    "duration": 0,
    "start_time": "2023-02-07T07:32:57.052Z"
   },
   {
    "duration": 0,
    "start_time": "2023-02-07T07:32:57.053Z"
   },
   {
    "duration": 0,
    "start_time": "2023-02-07T07:32:57.054Z"
   },
   {
    "duration": 0,
    "start_time": "2023-02-07T07:32:57.055Z"
   },
   {
    "duration": 2668,
    "start_time": "2023-02-07T07:33:42.544Z"
   },
   {
    "duration": 23,
    "start_time": "2023-02-07T07:33:47.106Z"
   },
   {
    "duration": 5,
    "start_time": "2023-02-07T07:33:50.819Z"
   },
   {
    "duration": 692,
    "start_time": "2023-02-07T07:33:52.057Z"
   },
   {
    "duration": 38,
    "start_time": "2023-02-07T07:39:05.663Z"
   },
   {
    "duration": 23185,
    "start_time": "2023-02-08T07:40:28.381Z"
   },
   {
    "duration": 2623,
    "start_time": "2023-02-08T07:40:51.568Z"
   },
   {
    "duration": 1668,
    "start_time": "2023-02-08T07:40:54.193Z"
   },
   {
    "duration": 3,
    "start_time": "2023-02-08T07:40:55.863Z"
   },
   {
    "duration": 146,
    "start_time": "2023-02-08T07:40:55.869Z"
   },
   {
    "duration": 16,
    "start_time": "2023-02-08T07:40:56.017Z"
   },
   {
    "duration": 31,
    "start_time": "2023-02-08T07:40:56.034Z"
   },
   {
    "duration": 33,
    "start_time": "2023-02-08T07:40:56.067Z"
   },
   {
    "duration": 29,
    "start_time": "2023-02-08T07:40:56.101Z"
   },
   {
    "duration": 33,
    "start_time": "2023-02-08T07:40:56.133Z"
   },
   {
    "duration": 54,
    "start_time": "2023-02-08T07:40:56.168Z"
   },
   {
    "duration": 33,
    "start_time": "2023-02-08T07:40:56.223Z"
   },
   {
    "duration": 52,
    "start_time": "2023-02-08T07:40:56.257Z"
   },
   {
    "duration": 20,
    "start_time": "2023-02-08T07:40:56.311Z"
   },
   {
    "duration": 26,
    "start_time": "2023-02-08T07:40:56.332Z"
   },
   {
    "duration": 44,
    "start_time": "2023-02-08T07:40:56.360Z"
   },
   {
    "duration": 30,
    "start_time": "2023-02-08T07:40:56.406Z"
   },
   {
    "duration": 35,
    "start_time": "2023-02-08T07:40:56.438Z"
   },
   {
    "duration": 28,
    "start_time": "2023-02-08T07:40:56.475Z"
   },
   {
    "duration": 13,
    "start_time": "2023-02-08T07:40:56.505Z"
   },
   {
    "duration": 18,
    "start_time": "2023-02-08T07:40:56.520Z"
   },
   {
    "duration": 22,
    "start_time": "2023-02-08T07:40:56.540Z"
   },
   {
    "duration": 35,
    "start_time": "2023-02-08T07:40:56.563Z"
   },
   {
    "duration": 36,
    "start_time": "2023-02-08T07:40:56.599Z"
   },
   {
    "duration": 48,
    "start_time": "2023-02-08T07:40:56.636Z"
   },
   {
    "duration": 20,
    "start_time": "2023-02-08T07:40:56.685Z"
   },
   {
    "duration": 29,
    "start_time": "2023-02-08T07:40:56.707Z"
   },
   {
    "duration": 30,
    "start_time": "2023-02-08T07:40:56.740Z"
   },
   {
    "duration": 32,
    "start_time": "2023-02-08T07:40:56.772Z"
   },
   {
    "duration": 15,
    "start_time": "2023-02-08T07:40:56.805Z"
   },
   {
    "duration": 25,
    "start_time": "2023-02-08T07:40:56.821Z"
   },
   {
    "duration": 17,
    "start_time": "2023-02-08T07:40:56.848Z"
   },
   {
    "duration": 41,
    "start_time": "2023-02-08T07:40:56.866Z"
   },
   {
    "duration": 41,
    "start_time": "2023-02-08T07:40:56.909Z"
   },
   {
    "duration": 30,
    "start_time": "2023-02-08T07:40:56.952Z"
   },
   {
    "duration": 18,
    "start_time": "2023-02-08T07:40:56.984Z"
   },
   {
    "duration": 9,
    "start_time": "2023-02-08T07:40:57.004Z"
   },
   {
    "duration": 19,
    "start_time": "2023-02-08T07:40:57.015Z"
   },
   {
    "duration": 7,
    "start_time": "2023-02-08T07:40:57.036Z"
   },
   {
    "duration": 129,
    "start_time": "2023-02-08T07:40:57.045Z"
   },
   {
    "duration": 11,
    "start_time": "2023-02-08T07:40:57.176Z"
   },
   {
    "duration": 19,
    "start_time": "2023-02-08T07:40:57.189Z"
   },
   {
    "duration": 9,
    "start_time": "2023-02-08T07:40:57.210Z"
   },
   {
    "duration": 6,
    "start_time": "2023-02-08T07:40:57.221Z"
   },
   {
    "duration": 5,
    "start_time": "2023-02-08T07:40:57.229Z"
   },
   {
    "duration": 6,
    "start_time": "2023-02-08T07:40:57.236Z"
   },
   {
    "duration": 34,
    "start_time": "2023-02-08T07:40:57.243Z"
   },
   {
    "duration": 27,
    "start_time": "2023-02-08T07:40:57.279Z"
   },
   {
    "duration": 7,
    "start_time": "2023-02-08T07:40:57.308Z"
   },
   {
    "duration": 6,
    "start_time": "2023-02-08T07:40:57.316Z"
   },
   {
    "duration": 79,
    "start_time": "2023-02-08T07:40:57.324Z"
   },
   {
    "duration": 8,
    "start_time": "2023-02-08T07:40:57.405Z"
   },
   {
    "duration": 9,
    "start_time": "2023-02-08T07:40:57.415Z"
   },
   {
    "duration": 7,
    "start_time": "2023-02-08T07:40:57.426Z"
   },
   {
    "duration": 5,
    "start_time": "2023-02-08T07:40:57.434Z"
   },
   {
    "duration": 6,
    "start_time": "2023-02-08T07:40:57.441Z"
   },
   {
    "duration": 8,
    "start_time": "2023-02-08T07:40:57.449Z"
   },
   {
    "duration": 60,
    "start_time": "2023-02-08T07:40:57.459Z"
   },
   {
    "duration": 7,
    "start_time": "2023-02-08T07:40:57.521Z"
   },
   {
    "duration": 9,
    "start_time": "2023-02-08T07:40:57.529Z"
   },
   {
    "duration": 27,
    "start_time": "2023-02-08T07:40:57.539Z"
   },
   {
    "duration": 4,
    "start_time": "2023-02-08T07:40:57.567Z"
   },
   {
    "duration": 22,
    "start_time": "2023-02-08T07:40:57.572Z"
   },
   {
    "duration": 17,
    "start_time": "2023-02-08T07:40:57.596Z"
   },
   {
    "duration": 3,
    "start_time": "2023-02-08T07:40:57.636Z"
   },
   {
    "duration": 62,
    "start_time": "2023-02-08T07:40:57.640Z"
   },
   {
    "duration": 10,
    "start_time": "2023-02-08T07:40:57.704Z"
   },
   {
    "duration": 4,
    "start_time": "2023-02-08T07:40:57.715Z"
   },
   {
    "duration": 5,
    "start_time": "2023-02-08T07:40:57.736Z"
   },
   {
    "duration": 8,
    "start_time": "2023-02-08T07:40:57.743Z"
   },
   {
    "duration": 7,
    "start_time": "2023-02-08T07:40:57.753Z"
   },
   {
    "duration": 6,
    "start_time": "2023-02-08T07:40:57.762Z"
   },
   {
    "duration": 6,
    "start_time": "2023-02-08T07:40:57.769Z"
   },
   {
    "duration": 7,
    "start_time": "2023-02-08T07:40:57.776Z"
   },
   {
    "duration": 10,
    "start_time": "2023-02-08T07:40:57.784Z"
   },
   {
    "duration": 7,
    "start_time": "2023-02-08T07:40:57.795Z"
   },
   {
    "duration": 34,
    "start_time": "2023-02-08T07:40:57.803Z"
   },
   {
    "duration": 5,
    "start_time": "2023-02-08T07:40:57.839Z"
   },
   {
    "duration": 7,
    "start_time": "2023-02-08T07:40:57.846Z"
   },
   {
    "duration": 18,
    "start_time": "2023-02-08T07:40:57.854Z"
   },
   {
    "duration": 9,
    "start_time": "2023-02-08T07:40:57.873Z"
   },
   {
    "duration": 6,
    "start_time": "2023-02-08T07:40:57.894Z"
   },
   {
    "duration": 7,
    "start_time": "2023-02-08T07:40:57.901Z"
   },
   {
    "duration": 26,
    "start_time": "2023-02-08T07:40:57.910Z"
   },
   {
    "duration": 5,
    "start_time": "2023-02-08T07:40:57.938Z"
   },
   {
    "duration": 10,
    "start_time": "2023-02-08T07:40:57.945Z"
   },
   {
    "duration": 143,
    "start_time": "2023-02-08T07:40:57.957Z"
   },
   {
    "duration": 18,
    "start_time": "2023-02-08T07:40:58.102Z"
   },
   {
    "duration": 28,
    "start_time": "2023-02-08T07:40:58.122Z"
   },
   {
    "duration": 14,
    "start_time": "2023-02-08T07:40:58.151Z"
   },
   {
    "duration": 33,
    "start_time": "2023-02-08T07:40:58.167Z"
   },
   {
    "duration": 22,
    "start_time": "2023-02-08T07:40:58.201Z"
   },
   {
    "duration": 36,
    "start_time": "2023-02-08T07:40:58.224Z"
   },
   {
    "duration": 36,
    "start_time": "2023-02-08T07:40:58.262Z"
   },
   {
    "duration": 21,
    "start_time": "2023-02-08T07:40:58.300Z"
   },
   {
    "duration": 28,
    "start_time": "2023-02-08T07:40:58.323Z"
   },
   {
    "duration": 17,
    "start_time": "2023-02-08T07:40:58.353Z"
   },
   {
    "duration": 46,
    "start_time": "2023-02-08T07:40:58.372Z"
   },
   {
    "duration": 16,
    "start_time": "2023-02-08T07:40:58.420Z"
   },
   {
    "duration": 33,
    "start_time": "2023-02-08T07:40:58.438Z"
   },
   {
    "duration": 24,
    "start_time": "2023-02-08T07:40:58.473Z"
   },
   {
    "duration": 41,
    "start_time": "2023-02-08T07:40:58.499Z"
   },
   {
    "duration": 47,
    "start_time": "2023-02-08T07:40:58.541Z"
   },
   {
    "duration": 30,
    "start_time": "2023-02-08T07:40:58.591Z"
   },
   {
    "duration": 17,
    "start_time": "2023-02-08T07:40:58.622Z"
   },
   {
    "duration": 33,
    "start_time": "2023-02-08T07:40:58.640Z"
   },
   {
    "duration": 32,
    "start_time": "2023-02-08T07:40:58.674Z"
   },
   {
    "duration": 21,
    "start_time": "2023-02-08T07:40:58.708Z"
   },
   {
    "duration": 29,
    "start_time": "2023-02-08T07:40:58.731Z"
   },
   {
    "duration": 37,
    "start_time": "2023-02-08T07:40:58.761Z"
   },
   {
    "duration": 27,
    "start_time": "2023-02-08T07:40:58.800Z"
   },
   {
    "duration": 37,
    "start_time": "2023-02-08T07:40:58.829Z"
   },
   {
    "duration": 14,
    "start_time": "2023-02-08T07:40:58.867Z"
   },
   {
    "duration": 34,
    "start_time": "2023-02-08T07:40:58.882Z"
   },
   {
    "duration": 27,
    "start_time": "2023-02-08T07:40:58.918Z"
   },
   {
    "duration": 43,
    "start_time": "2023-02-08T07:40:58.947Z"
   },
   {
    "duration": 23,
    "start_time": "2023-02-08T07:40:58.992Z"
   },
   {
    "duration": 28,
    "start_time": "2023-02-08T07:40:59.016Z"
   },
   {
    "duration": 40,
    "start_time": "2023-02-08T07:40:59.045Z"
   },
   {
    "duration": 14,
    "start_time": "2023-02-08T07:40:59.086Z"
   },
   {
    "duration": 23,
    "start_time": "2023-02-08T07:40:59.102Z"
   },
   {
    "duration": 26,
    "start_time": "2023-02-08T07:40:59.127Z"
   },
   {
    "duration": 33,
    "start_time": "2023-02-08T07:40:59.155Z"
   },
   {
    "duration": 35,
    "start_time": "2023-02-08T07:40:59.189Z"
   },
   {
    "duration": 32,
    "start_time": "2023-02-08T07:40:59.226Z"
   },
   {
    "duration": 21,
    "start_time": "2023-02-08T07:40:59.260Z"
   },
   {
    "duration": 35,
    "start_time": "2023-02-08T07:40:59.282Z"
   },
   {
    "duration": 38,
    "start_time": "2023-02-08T07:40:59.320Z"
   },
   {
    "duration": 38,
    "start_time": "2023-02-08T07:40:59.361Z"
   },
   {
    "duration": 16,
    "start_time": "2023-02-08T07:40:59.401Z"
   },
   {
    "duration": 13,
    "start_time": "2023-02-08T07:40:59.419Z"
   },
   {
    "duration": 38,
    "start_time": "2023-02-08T07:40:59.433Z"
   },
   {
    "duration": 17,
    "start_time": "2023-02-08T07:40:59.473Z"
   },
   {
    "duration": 118,
    "start_time": "2023-02-08T07:40:59.492Z"
   },
   {
    "duration": 0,
    "start_time": "2023-02-08T07:40:59.611Z"
   },
   {
    "duration": 0,
    "start_time": "2023-02-08T07:40:59.613Z"
   },
   {
    "duration": 0,
    "start_time": "2023-02-08T07:40:59.614Z"
   },
   {
    "duration": 0,
    "start_time": "2023-02-08T07:40:59.616Z"
   },
   {
    "duration": 0,
    "start_time": "2023-02-08T07:40:59.617Z"
   },
   {
    "duration": 0,
    "start_time": "2023-02-08T07:40:59.619Z"
   },
   {
    "duration": 0,
    "start_time": "2023-02-08T07:40:59.620Z"
   },
   {
    "duration": 1,
    "start_time": "2023-02-08T07:40:59.621Z"
   },
   {
    "duration": 0,
    "start_time": "2023-02-08T07:40:59.637Z"
   },
   {
    "duration": 0,
    "start_time": "2023-02-08T07:40:59.639Z"
   },
   {
    "duration": 0,
    "start_time": "2023-02-08T07:40:59.640Z"
   },
   {
    "duration": 0,
    "start_time": "2023-02-08T07:40:59.641Z"
   },
   {
    "duration": 0,
    "start_time": "2023-02-08T07:40:59.642Z"
   },
   {
    "duration": 0,
    "start_time": "2023-02-08T07:40:59.644Z"
   },
   {
    "duration": 0,
    "start_time": "2023-02-08T07:40:59.646Z"
   },
   {
    "duration": 0,
    "start_time": "2023-02-08T07:40:59.647Z"
   },
   {
    "duration": 0,
    "start_time": "2023-02-08T07:40:59.648Z"
   },
   {
    "duration": 0,
    "start_time": "2023-02-08T07:40:59.650Z"
   },
   {
    "duration": 0,
    "start_time": "2023-02-08T07:40:59.651Z"
   },
   {
    "duration": 0,
    "start_time": "2023-02-08T07:40:59.653Z"
   },
   {
    "duration": 0,
    "start_time": "2023-02-08T07:40:59.654Z"
   },
   {
    "duration": 0,
    "start_time": "2023-02-08T07:40:59.656Z"
   },
   {
    "duration": 0,
    "start_time": "2023-02-08T07:40:59.657Z"
   },
   {
    "duration": 0,
    "start_time": "2023-02-08T07:40:59.658Z"
   },
   {
    "duration": 0,
    "start_time": "2023-02-08T07:40:59.660Z"
   },
   {
    "duration": 0,
    "start_time": "2023-02-08T07:40:59.662Z"
   },
   {
    "duration": 0,
    "start_time": "2023-02-08T07:40:59.663Z"
   },
   {
    "duration": 0,
    "start_time": "2023-02-08T07:40:59.664Z"
   },
   {
    "duration": 0,
    "start_time": "2023-02-08T07:40:59.666Z"
   },
   {
    "duration": 0,
    "start_time": "2023-02-08T07:40:59.668Z"
   },
   {
    "duration": 0,
    "start_time": "2023-02-08T07:40:59.669Z"
   },
   {
    "duration": 0,
    "start_time": "2023-02-08T07:40:59.671Z"
   },
   {
    "duration": 0,
    "start_time": "2023-02-08T07:40:59.672Z"
   },
   {
    "duration": 0,
    "start_time": "2023-02-08T07:40:59.673Z"
   },
   {
    "duration": 0,
    "start_time": "2023-02-08T07:40:59.737Z"
   },
   {
    "duration": 0,
    "start_time": "2023-02-08T07:40:59.739Z"
   },
   {
    "duration": 0,
    "start_time": "2023-02-08T07:40:59.740Z"
   },
   {
    "duration": 0,
    "start_time": "2023-02-08T07:40:59.741Z"
   },
   {
    "duration": 0,
    "start_time": "2023-02-08T07:40:59.742Z"
   },
   {
    "duration": 0,
    "start_time": "2023-02-08T07:40:59.743Z"
   },
   {
    "duration": 0,
    "start_time": "2023-02-08T07:40:59.744Z"
   },
   {
    "duration": 0,
    "start_time": "2023-02-08T07:40:59.745Z"
   },
   {
    "duration": 0,
    "start_time": "2023-02-08T07:40:59.746Z"
   },
   {
    "duration": 0,
    "start_time": "2023-02-08T07:40:59.747Z"
   },
   {
    "duration": 0,
    "start_time": "2023-02-08T07:40:59.748Z"
   },
   {
    "duration": 0,
    "start_time": "2023-02-08T07:40:59.749Z"
   },
   {
    "duration": 0,
    "start_time": "2023-02-08T07:40:59.751Z"
   },
   {
    "duration": 0,
    "start_time": "2023-02-08T07:40:59.752Z"
   },
   {
    "duration": 0,
    "start_time": "2023-02-08T07:40:59.754Z"
   },
   {
    "duration": 0,
    "start_time": "2023-02-08T07:40:59.754Z"
   },
   {
    "duration": 0,
    "start_time": "2023-02-08T07:40:59.756Z"
   },
   {
    "duration": 0,
    "start_time": "2023-02-08T07:40:59.757Z"
   },
   {
    "duration": 0,
    "start_time": "2023-02-08T07:40:59.758Z"
   },
   {
    "duration": 0,
    "start_time": "2023-02-08T07:40:59.759Z"
   },
   {
    "duration": 0,
    "start_time": "2023-02-08T07:40:59.759Z"
   },
   {
    "duration": 0,
    "start_time": "2023-02-08T07:40:59.760Z"
   },
   {
    "duration": 0,
    "start_time": "2023-02-08T07:40:59.761Z"
   },
   {
    "duration": 0,
    "start_time": "2023-02-08T07:40:59.762Z"
   },
   {
    "duration": 0,
    "start_time": "2023-02-08T07:40:59.763Z"
   },
   {
    "duration": 0,
    "start_time": "2023-02-08T07:40:59.765Z"
   },
   {
    "duration": 0,
    "start_time": "2023-02-08T07:40:59.767Z"
   },
   {
    "duration": 0,
    "start_time": "2023-02-08T07:40:59.768Z"
   },
   {
    "duration": 0,
    "start_time": "2023-02-08T07:40:59.769Z"
   },
   {
    "duration": 0,
    "start_time": "2023-02-08T07:40:59.770Z"
   },
   {
    "duration": 0,
    "start_time": "2023-02-08T07:40:59.771Z"
   },
   {
    "duration": 0,
    "start_time": "2023-02-08T07:40:59.772Z"
   },
   {
    "duration": 0,
    "start_time": "2023-02-08T07:40:59.773Z"
   },
   {
    "duration": 0,
    "start_time": "2023-02-08T07:40:59.774Z"
   },
   {
    "duration": 0,
    "start_time": "2023-02-08T07:40:59.836Z"
   },
   {
    "duration": 0,
    "start_time": "2023-02-08T07:40:59.838Z"
   },
   {
    "duration": 0,
    "start_time": "2023-02-08T07:40:59.839Z"
   },
   {
    "duration": 0,
    "start_time": "2023-02-08T07:40:59.840Z"
   },
   {
    "duration": 0,
    "start_time": "2023-02-08T07:40:59.841Z"
   },
   {
    "duration": 0,
    "start_time": "2023-02-08T07:40:59.842Z"
   },
   {
    "duration": 5,
    "start_time": "2023-02-08T07:52:03.596Z"
   },
   {
    "duration": 31,
    "start_time": "2023-02-08T07:55:18.252Z"
   },
   {
    "duration": 3,
    "start_time": "2023-02-08T07:55:32.925Z"
   },
   {
    "duration": 29,
    "start_time": "2023-02-08T07:55:37.388Z"
   },
   {
    "duration": 47,
    "start_time": "2023-02-08T08:00:32.423Z"
   },
   {
    "duration": 12,
    "start_time": "2023-02-08T08:01:20.024Z"
   },
   {
    "duration": 2720,
    "start_time": "2023-02-08T08:02:09.462Z"
   },
   {
    "duration": 2373,
    "start_time": "2023-02-08T08:02:12.185Z"
   },
   {
    "duration": 1705,
    "start_time": "2023-02-08T08:02:14.561Z"
   },
   {
    "duration": 3,
    "start_time": "2023-02-08T08:02:16.268Z"
   },
   {
    "duration": 54,
    "start_time": "2023-02-08T08:02:16.272Z"
   },
   {
    "duration": 21,
    "start_time": "2023-02-08T08:02:16.329Z"
   },
   {
    "duration": 13,
    "start_time": "2023-02-08T08:02:16.354Z"
   },
   {
    "duration": 11,
    "start_time": "2023-02-08T08:02:16.369Z"
   },
   {
    "duration": 17,
    "start_time": "2023-02-08T08:02:16.383Z"
   },
   {
    "duration": 14,
    "start_time": "2023-02-08T08:02:16.404Z"
   },
   {
    "duration": 35,
    "start_time": "2023-02-08T08:02:16.420Z"
   },
   {
    "duration": 12,
    "start_time": "2023-02-08T08:02:16.457Z"
   },
   {
    "duration": 23,
    "start_time": "2023-02-08T08:02:16.471Z"
   },
   {
    "duration": 5,
    "start_time": "2023-02-08T08:02:16.496Z"
   },
   {
    "duration": 10,
    "start_time": "2023-02-08T08:02:16.503Z"
   },
   {
    "duration": 39,
    "start_time": "2023-02-08T08:02:16.515Z"
   },
   {
    "duration": 10,
    "start_time": "2023-02-08T08:02:16.557Z"
   },
   {
    "duration": 15,
    "start_time": "2023-02-08T08:02:16.569Z"
   },
   {
    "duration": 6,
    "start_time": "2023-02-08T08:02:16.586Z"
   },
   {
    "duration": 18,
    "start_time": "2023-02-08T08:02:16.593Z"
   },
   {
    "duration": 33,
    "start_time": "2023-02-08T08:02:16.613Z"
   },
   {
    "duration": 10,
    "start_time": "2023-02-08T08:02:16.652Z"
   },
   {
    "duration": 14,
    "start_time": "2023-02-08T08:02:16.664Z"
   },
   {
    "duration": 19,
    "start_time": "2023-02-08T08:02:16.680Z"
   },
   {
    "duration": 16,
    "start_time": "2023-02-08T08:02:16.700Z"
   },
   {
    "duration": 34,
    "start_time": "2023-02-08T08:02:16.718Z"
   },
   {
    "duration": 16,
    "start_time": "2023-02-08T08:02:16.761Z"
   },
   {
    "duration": 12,
    "start_time": "2023-02-08T08:02:16.783Z"
   },
   {
    "duration": 35,
    "start_time": "2023-02-08T08:02:16.797Z"
   },
   {
    "duration": 14,
    "start_time": "2023-02-08T08:02:16.841Z"
   },
   {
    "duration": 7,
    "start_time": "2023-02-08T08:02:16.856Z"
   },
   {
    "duration": 13,
    "start_time": "2023-02-08T08:02:16.865Z"
   },
   {
    "duration": 30,
    "start_time": "2023-02-08T08:02:16.881Z"
   },
   {
    "duration": 20,
    "start_time": "2023-02-08T08:02:16.913Z"
   },
   {
    "duration": 3,
    "start_time": "2023-02-08T08:02:16.935Z"
   },
   {
    "duration": 10,
    "start_time": "2023-02-08T08:02:16.942Z"
   },
   {
    "duration": 20,
    "start_time": "2023-02-08T08:02:16.953Z"
   },
   {
    "duration": 16,
    "start_time": "2023-02-08T08:02:16.976Z"
   },
   {
    "duration": 7,
    "start_time": "2023-02-08T08:02:16.994Z"
   },
   {
    "duration": 35,
    "start_time": "2023-02-08T08:02:17.003Z"
   },
   {
    "duration": 15,
    "start_time": "2023-02-08T08:02:17.043Z"
   },
   {
    "duration": 12,
    "start_time": "2023-02-08T08:02:17.060Z"
   },
   {
    "duration": 12,
    "start_time": "2023-02-08T08:02:17.074Z"
   },
   {
    "duration": 8,
    "start_time": "2023-02-08T08:02:17.087Z"
   },
   {
    "duration": 7,
    "start_time": "2023-02-08T08:02:17.096Z"
   },
   {
    "duration": 6,
    "start_time": "2023-02-08T08:02:17.105Z"
   },
   {
    "duration": 32,
    "start_time": "2023-02-08T08:02:17.112Z"
   },
   {
    "duration": 14,
    "start_time": "2023-02-08T08:02:17.146Z"
   },
   {
    "duration": 9,
    "start_time": "2023-02-08T08:02:17.162Z"
   },
   {
    "duration": 6,
    "start_time": "2023-02-08T08:02:17.173Z"
   },
   {
    "duration": 44,
    "start_time": "2023-02-08T08:02:17.181Z"
   },
   {
    "duration": 9,
    "start_time": "2023-02-08T08:02:17.227Z"
   },
   {
    "duration": 27,
    "start_time": "2023-02-08T08:02:17.238Z"
   },
   {
    "duration": 7,
    "start_time": "2023-02-08T08:02:17.266Z"
   },
   {
    "duration": 6,
    "start_time": "2023-02-08T08:02:17.275Z"
   },
   {
    "duration": 6,
    "start_time": "2023-02-08T08:02:17.283Z"
   },
   {
    "duration": 6,
    "start_time": "2023-02-08T08:02:17.291Z"
   },
   {
    "duration": 52,
    "start_time": "2023-02-08T08:02:17.299Z"
   },
   {
    "duration": 8,
    "start_time": "2023-02-08T08:02:17.353Z"
   },
   {
    "duration": 13,
    "start_time": "2023-02-08T08:02:17.363Z"
   },
   {
    "duration": 35,
    "start_time": "2023-02-08T08:02:17.378Z"
   },
   {
    "duration": 4,
    "start_time": "2023-02-08T08:02:17.414Z"
   },
   {
    "duration": 36,
    "start_time": "2023-02-08T08:02:17.420Z"
   },
   {
    "duration": 27,
    "start_time": "2023-02-08T08:02:17.458Z"
   },
   {
    "duration": 3,
    "start_time": "2023-02-08T08:02:17.487Z"
   },
   {
    "duration": 104,
    "start_time": "2023-02-08T08:02:17.492Z"
   },
   {
    "duration": 17,
    "start_time": "2023-02-08T08:02:17.598Z"
   },
   {
    "duration": 27,
    "start_time": "2023-02-08T08:02:17.617Z"
   },
   {
    "duration": 17,
    "start_time": "2023-02-08T08:02:17.645Z"
   },
   {
    "duration": 9,
    "start_time": "2023-02-08T08:02:17.663Z"
   },
   {
    "duration": 8,
    "start_time": "2023-02-08T08:02:17.674Z"
   },
   {
    "duration": 11,
    "start_time": "2023-02-08T08:02:17.683Z"
   },
   {
    "duration": 7,
    "start_time": "2023-02-08T08:02:17.696Z"
   },
   {
    "duration": 6,
    "start_time": "2023-02-08T08:02:17.705Z"
   },
   {
    "duration": 6,
    "start_time": "2023-02-08T08:02:17.713Z"
   },
   {
    "duration": 33,
    "start_time": "2023-02-08T08:02:17.720Z"
   },
   {
    "duration": 7,
    "start_time": "2023-02-08T08:02:17.755Z"
   },
   {
    "duration": 10,
    "start_time": "2023-02-08T08:02:17.763Z"
   },
   {
    "duration": 7,
    "start_time": "2023-02-08T08:02:17.775Z"
   },
   {
    "duration": 7,
    "start_time": "2023-02-08T08:02:17.784Z"
   },
   {
    "duration": 6,
    "start_time": "2023-02-08T08:02:17.793Z"
   },
   {
    "duration": 5,
    "start_time": "2023-02-08T08:02:17.809Z"
   },
   {
    "duration": 6,
    "start_time": "2023-02-08T08:02:17.841Z"
   },
   {
    "duration": 17,
    "start_time": "2023-02-08T08:02:17.849Z"
   },
   {
    "duration": 8,
    "start_time": "2023-02-08T08:02:17.868Z"
   },
   {
    "duration": 10,
    "start_time": "2023-02-08T08:02:17.878Z"
   },
   {
    "duration": 152,
    "start_time": "2023-02-08T08:02:17.890Z"
   },
   {
    "duration": 25,
    "start_time": "2023-02-08T08:02:18.043Z"
   },
   {
    "duration": 18,
    "start_time": "2023-02-08T08:02:18.069Z"
   },
   {
    "duration": 5,
    "start_time": "2023-02-08T08:02:18.089Z"
   },
   {
    "duration": 7,
    "start_time": "2023-02-08T08:02:18.095Z"
   },
   {
    "duration": 41,
    "start_time": "2023-02-08T08:02:18.104Z"
   },
   {
    "duration": 9,
    "start_time": "2023-02-08T08:02:18.146Z"
   },
   {
    "duration": 12,
    "start_time": "2023-02-08T08:02:18.157Z"
   },
   {
    "duration": 10,
    "start_time": "2023-02-08T08:02:18.171Z"
   },
   {
    "duration": 10,
    "start_time": "2023-02-08T08:02:18.183Z"
   },
   {
    "duration": 9,
    "start_time": "2023-02-08T08:02:18.195Z"
   },
   {
    "duration": 12,
    "start_time": "2023-02-08T08:02:18.206Z"
   },
   {
    "duration": 31,
    "start_time": "2023-02-08T08:02:18.220Z"
   },
   {
    "duration": 10,
    "start_time": "2023-02-08T08:02:18.255Z"
   },
   {
    "duration": 6,
    "start_time": "2023-02-08T08:02:18.267Z"
   },
   {
    "duration": 8,
    "start_time": "2023-02-08T08:02:18.275Z"
   },
   {
    "duration": 7,
    "start_time": "2023-02-08T08:02:18.285Z"
   },
   {
    "duration": 10,
    "start_time": "2023-02-08T08:02:18.294Z"
   },
   {
    "duration": 5,
    "start_time": "2023-02-08T08:02:18.306Z"
   },
   {
    "duration": 7,
    "start_time": "2023-02-08T08:02:18.338Z"
   },
   {
    "duration": 19,
    "start_time": "2023-02-08T08:02:18.347Z"
   },
   {
    "duration": 7,
    "start_time": "2023-02-08T08:02:18.368Z"
   },
   {
    "duration": 9,
    "start_time": "2023-02-08T08:02:18.377Z"
   },
   {
    "duration": 8,
    "start_time": "2023-02-08T08:02:18.387Z"
   },
   {
    "duration": 7,
    "start_time": "2023-02-08T08:02:18.397Z"
   },
   {
    "duration": 9,
    "start_time": "2023-02-08T08:02:18.406Z"
   },
   {
    "duration": 33,
    "start_time": "2023-02-08T08:02:18.437Z"
   },
   {
    "duration": 42,
    "start_time": "2023-02-08T08:02:18.473Z"
   },
   {
    "duration": 14,
    "start_time": "2023-02-08T08:02:18.518Z"
   },
   {
    "duration": 24,
    "start_time": "2023-02-08T08:02:18.535Z"
   },
   {
    "duration": 15,
    "start_time": "2023-02-08T08:02:18.561Z"
   },
   {
    "duration": 13,
    "start_time": "2023-02-08T08:02:18.578Z"
   },
   {
    "duration": 19,
    "start_time": "2023-02-08T08:02:18.593Z"
   },
   {
    "duration": 14,
    "start_time": "2023-02-08T08:02:18.614Z"
   },
   {
    "duration": 28,
    "start_time": "2023-02-08T08:02:18.633Z"
   },
   {
    "duration": 18,
    "start_time": "2023-02-08T08:02:18.663Z"
   },
   {
    "duration": 19,
    "start_time": "2023-02-08T08:02:18.684Z"
   },
   {
    "duration": 12,
    "start_time": "2023-02-08T08:02:18.705Z"
   },
   {
    "duration": 25,
    "start_time": "2023-02-08T08:02:18.719Z"
   },
   {
    "duration": 14,
    "start_time": "2023-02-08T08:02:18.748Z"
   },
   {
    "duration": 24,
    "start_time": "2023-02-08T08:02:18.764Z"
   },
   {
    "duration": 29,
    "start_time": "2023-02-08T08:02:18.790Z"
   },
   {
    "duration": 3,
    "start_time": "2023-02-08T08:02:18.821Z"
   },
   {
    "duration": 20,
    "start_time": "2023-02-08T08:02:18.826Z"
   },
   {
    "duration": 7,
    "start_time": "2023-02-08T08:02:18.854Z"
   },
   {
    "duration": 32,
    "start_time": "2023-02-08T08:02:18.862Z"
   },
   {
    "duration": 7,
    "start_time": "2023-02-08T08:02:18.897Z"
   },
   {
    "duration": 165,
    "start_time": "2023-02-08T08:02:18.906Z"
   },
   {
    "duration": 0,
    "start_time": "2023-02-08T08:02:19.073Z"
   },
   {
    "duration": 0,
    "start_time": "2023-02-08T08:02:19.076Z"
   },
   {
    "duration": 0,
    "start_time": "2023-02-08T08:02:19.077Z"
   },
   {
    "duration": 0,
    "start_time": "2023-02-08T08:02:19.079Z"
   },
   {
    "duration": 0,
    "start_time": "2023-02-08T08:02:19.081Z"
   },
   {
    "duration": 0,
    "start_time": "2023-02-08T08:02:19.083Z"
   },
   {
    "duration": 0,
    "start_time": "2023-02-08T08:02:19.084Z"
   },
   {
    "duration": 0,
    "start_time": "2023-02-08T08:02:19.086Z"
   },
   {
    "duration": 0,
    "start_time": "2023-02-08T08:02:19.088Z"
   },
   {
    "duration": 0,
    "start_time": "2023-02-08T08:02:19.090Z"
   },
   {
    "duration": 0,
    "start_time": "2023-02-08T08:02:19.091Z"
   },
   {
    "duration": 0,
    "start_time": "2023-02-08T08:02:19.092Z"
   },
   {
    "duration": 0,
    "start_time": "2023-02-08T08:02:19.094Z"
   },
   {
    "duration": 0,
    "start_time": "2023-02-08T08:02:19.095Z"
   },
   {
    "duration": 0,
    "start_time": "2023-02-08T08:02:19.097Z"
   },
   {
    "duration": 0,
    "start_time": "2023-02-08T08:02:19.099Z"
   },
   {
    "duration": 0,
    "start_time": "2023-02-08T08:02:19.137Z"
   },
   {
    "duration": 0,
    "start_time": "2023-02-08T08:02:19.139Z"
   },
   {
    "duration": 0,
    "start_time": "2023-02-08T08:02:19.140Z"
   },
   {
    "duration": 0,
    "start_time": "2023-02-08T08:02:19.141Z"
   },
   {
    "duration": 0,
    "start_time": "2023-02-08T08:02:19.142Z"
   },
   {
    "duration": 0,
    "start_time": "2023-02-08T08:02:19.143Z"
   },
   {
    "duration": 0,
    "start_time": "2023-02-08T08:02:19.143Z"
   },
   {
    "duration": 0,
    "start_time": "2023-02-08T08:02:19.145Z"
   },
   {
    "duration": 0,
    "start_time": "2023-02-08T08:02:19.146Z"
   },
   {
    "duration": 0,
    "start_time": "2023-02-08T08:02:19.147Z"
   },
   {
    "duration": 0,
    "start_time": "2023-02-08T08:02:19.149Z"
   },
   {
    "duration": 0,
    "start_time": "2023-02-08T08:02:19.150Z"
   },
   {
    "duration": 0,
    "start_time": "2023-02-08T08:02:19.151Z"
   },
   {
    "duration": 0,
    "start_time": "2023-02-08T08:02:19.155Z"
   },
   {
    "duration": 0,
    "start_time": "2023-02-08T08:02:19.156Z"
   },
   {
    "duration": 0,
    "start_time": "2023-02-08T08:02:19.156Z"
   },
   {
    "duration": 0,
    "start_time": "2023-02-08T08:02:19.158Z"
   },
   {
    "duration": 0,
    "start_time": "2023-02-08T08:02:19.159Z"
   },
   {
    "duration": 0,
    "start_time": "2023-02-08T08:02:19.161Z"
   },
   {
    "duration": 0,
    "start_time": "2023-02-08T08:02:19.164Z"
   },
   {
    "duration": 0,
    "start_time": "2023-02-08T08:02:19.165Z"
   },
   {
    "duration": 0,
    "start_time": "2023-02-08T08:02:19.166Z"
   },
   {
    "duration": 0,
    "start_time": "2023-02-08T08:02:19.168Z"
   },
   {
    "duration": 0,
    "start_time": "2023-02-08T08:02:19.170Z"
   },
   {
    "duration": 0,
    "start_time": "2023-02-08T08:02:19.171Z"
   },
   {
    "duration": 0,
    "start_time": "2023-02-08T08:02:19.172Z"
   },
   {
    "duration": 0,
    "start_time": "2023-02-08T08:02:19.174Z"
   },
   {
    "duration": 0,
    "start_time": "2023-02-08T08:02:19.175Z"
   },
   {
    "duration": 0,
    "start_time": "2023-02-08T08:02:19.177Z"
   },
   {
    "duration": 0,
    "start_time": "2023-02-08T08:02:19.178Z"
   },
   {
    "duration": 0,
    "start_time": "2023-02-08T08:02:19.180Z"
   },
   {
    "duration": 0,
    "start_time": "2023-02-08T08:02:19.181Z"
   },
   {
    "duration": 0,
    "start_time": "2023-02-08T08:02:19.182Z"
   },
   {
    "duration": 0,
    "start_time": "2023-02-08T08:02:19.183Z"
   },
   {
    "duration": 0,
    "start_time": "2023-02-08T08:02:19.185Z"
   },
   {
    "duration": 0,
    "start_time": "2023-02-08T08:02:19.239Z"
   },
   {
    "duration": 0,
    "start_time": "2023-02-08T08:02:19.241Z"
   },
   {
    "duration": 0,
    "start_time": "2023-02-08T08:02:19.242Z"
   },
   {
    "duration": 0,
    "start_time": "2023-02-08T08:02:19.246Z"
   },
   {
    "duration": 0,
    "start_time": "2023-02-08T08:02:19.247Z"
   },
   {
    "duration": 0,
    "start_time": "2023-02-08T08:02:19.248Z"
   },
   {
    "duration": 0,
    "start_time": "2023-02-08T08:02:19.249Z"
   },
   {
    "duration": 0,
    "start_time": "2023-02-08T08:02:19.250Z"
   },
   {
    "duration": 0,
    "start_time": "2023-02-08T08:02:19.255Z"
   },
   {
    "duration": 0,
    "start_time": "2023-02-08T08:02:19.256Z"
   },
   {
    "duration": 0,
    "start_time": "2023-02-08T08:02:19.258Z"
   },
   {
    "duration": 0,
    "start_time": "2023-02-08T08:02:19.259Z"
   },
   {
    "duration": 0,
    "start_time": "2023-02-08T08:02:19.260Z"
   },
   {
    "duration": 1,
    "start_time": "2023-02-08T08:02:19.261Z"
   },
   {
    "duration": 0,
    "start_time": "2023-02-08T08:02:19.263Z"
   },
   {
    "duration": 0,
    "start_time": "2023-02-08T08:02:19.264Z"
   },
   {
    "duration": 0,
    "start_time": "2023-02-08T08:02:19.267Z"
   },
   {
    "duration": 0,
    "start_time": "2023-02-08T08:02:19.268Z"
   },
   {
    "duration": 0,
    "start_time": "2023-02-08T08:02:19.269Z"
   },
   {
    "duration": 0,
    "start_time": "2023-02-08T08:02:19.270Z"
   },
   {
    "duration": 0,
    "start_time": "2023-02-08T08:02:19.271Z"
   },
   {
    "duration": 0,
    "start_time": "2023-02-08T08:02:19.272Z"
   },
   {
    "duration": 0,
    "start_time": "2023-02-08T08:02:19.273Z"
   },
   {
    "duration": 0,
    "start_time": "2023-02-08T08:02:19.274Z"
   },
   {
    "duration": 54,
    "start_time": "2023-02-08T08:02:58.808Z"
   },
   {
    "duration": 1504,
    "start_time": "2023-02-08T08:06:10.351Z"
   },
   {
    "duration": 1859,
    "start_time": "2023-02-08T08:06:27.990Z"
   },
   {
    "duration": 58,
    "start_time": "2023-02-08T08:07:34.336Z"
   },
   {
    "duration": 13,
    "start_time": "2023-02-08T08:08:01.866Z"
   },
   {
    "duration": 64,
    "start_time": "2023-02-08T08:08:29.794Z"
   },
   {
    "duration": 49,
    "start_time": "2023-02-08T08:08:41.601Z"
   },
   {
    "duration": 60,
    "start_time": "2023-02-08T08:08:53.348Z"
   },
   {
    "duration": 71,
    "start_time": "2023-02-08T08:09:02.114Z"
   },
   {
    "duration": 2823,
    "start_time": "2023-02-08T08:09:19.519Z"
   },
   {
    "duration": 2,
    "start_time": "2023-02-08T08:11:14.486Z"
   },
   {
    "duration": 7,
    "start_time": "2023-02-08T08:11:31.253Z"
   },
   {
    "duration": 7,
    "start_time": "2023-02-08T08:11:33.297Z"
   },
   {
    "duration": 35,
    "start_time": "2023-02-08T08:11:46.520Z"
   },
   {
    "duration": 11,
    "start_time": "2023-02-08T08:12:01.303Z"
   },
   {
    "duration": 17,
    "start_time": "2023-02-08T08:12:04.606Z"
   },
   {
    "duration": 3,
    "start_time": "2023-02-08T08:12:13.805Z"
   },
   {
    "duration": 16,
    "start_time": "2023-02-08T08:12:20.048Z"
   },
   {
    "duration": 13,
    "start_time": "2023-02-08T08:12:26.503Z"
   },
   {
    "duration": 50,
    "start_time": "2023-02-08T08:12:37.032Z"
   },
   {
    "duration": 7,
    "start_time": "2023-02-08T08:13:11.648Z"
   },
   {
    "duration": 46,
    "start_time": "2023-02-08T08:13:14.032Z"
   },
   {
    "duration": 5,
    "start_time": "2023-02-08T08:13:28.623Z"
   },
   {
    "duration": 13,
    "start_time": "2023-02-08T08:17:19.326Z"
   },
   {
    "duration": 23,
    "start_time": "2023-02-08T08:17:37.128Z"
   },
   {
    "duration": 9,
    "start_time": "2023-02-08T08:17:58.096Z"
   },
   {
    "duration": 5,
    "start_time": "2023-02-08T08:18:11.990Z"
   }
  ],
  "kernelspec": {
   "display_name": "Python 3 (ipykernel)",
   "language": "python",
   "name": "python3"
  },
  "language_info": {
   "codemirror_mode": {
    "name": "ipython",
    "version": 3
   },
   "file_extension": ".py",
   "mimetype": "text/x-python",
   "name": "python",
   "nbconvert_exporter": "python",
   "pygments_lexer": "ipython3",
   "version": "3.10.9"
  },
  "toc": {
   "base_numbering": 1,
   "nav_menu": {},
   "number_sections": true,
   "sideBar": true,
   "skip_h1_title": true,
   "title_cell": "Table of Contents",
   "title_sidebar": "Contents",
   "toc_cell": false,
   "toc_position": {},
   "toc_section_display": true,
   "toc_window_display": false
  }
 },
 "nbformat": 4,
 "nbformat_minor": 5
}
